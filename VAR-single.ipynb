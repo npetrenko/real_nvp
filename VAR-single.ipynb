{
 "cells": [
  {
   "cell_type": "code",
   "execution_count": 1,
   "metadata": {},
   "outputs": [
    {
     "name": "stdout",
     "output_type": "stream",
     "text": [
      "WARNING:tensorflow:From /usr/lib/python3.6/site-packages/tensorflow/contrib/learn/python/learn/datasets/base.py:198: retry (from tensorflow.contrib.learn.python.learn.datasets.base) is deprecated and will be removed in a future version.\n",
      "Instructions for updating:\n",
      "Use the retry module or similar alternatives.\n"
     ]
    }
   ],
   "source": [
    "import tensorflow as tf\n",
    "from flows import NormalRW, DFlow, NVPFlow, LogNormal, GVAR, phase,\\\n",
    "Normal, floatX, MVNormal, MVNormalRW, Linear, LinearChol\n",
    "import flows\n",
    "\n",
    "import numpy as np\n",
    "import pandas as pd\n",
    "from matplotlib import pyplot as plt\n",
    "import seaborn as sns\n",
    "from tensorflow.contrib.distributions import WishartCholesky\n",
    "import math\n",
    "\n",
    "np.random.seed(1234)\n",
    "tf.set_random_seed(1234)"
   ]
  },
  {
   "cell_type": "code",
   "execution_count": 2,
   "metadata": {},
   "outputs": [
    {
     "name": "stdout",
     "output_type": "stream",
     "text": [
      "AUS.csv  FIN.csv  FRA.csv  GBR.csv\r\n"
     ]
    }
   ],
   "source": [
    "!ls CDATA"
   ]
  },
  {
   "cell_type": "code",
   "execution_count": 3,
   "metadata": {},
   "outputs": [],
   "source": [
    "ccodes = ['AUS']#, 'FRA', 'GBR']\n",
    "datas = ['./CDATA/{}.csv'.format(x) for x in ccodes]"
   ]
  },
  {
   "cell_type": "code",
   "execution_count": 4,
   "metadata": {},
   "outputs": [
    {
     "data": {
      "text/plain": [
       "'./CDATA/AUS.csv'"
      ]
     },
     "execution_count": 4,
     "metadata": {},
     "output_type": "execute_result"
    }
   ],
   "source": [
    "datas[0]"
   ]
  },
  {
   "cell_type": "code",
   "execution_count": 5,
   "metadata": {},
   "outputs": [
    {
     "data": {
      "text/plain": [
       "['./CDATA/AUS.csv']"
      ]
     },
     "execution_count": 5,
     "metadata": {},
     "output_type": "execute_result"
    }
   ],
   "source": [
    "datas"
   ]
  },
  {
   "cell_type": "code",
   "execution_count": 6,
   "metadata": {},
   "outputs": [],
   "source": [
    "datas = [pd.read_csv(x).values.astype(floatX).T[np.newaxis][:,1:-1]/100 for x in datas]"
   ]
  },
  {
   "cell_type": "code",
   "execution_count": 7,
   "metadata": {},
   "outputs": [
    {
     "data": {
      "text/plain": [
       "[(1, 36, 3)]"
      ]
     },
     "execution_count": 7,
     "metadata": {},
     "output_type": "execute_result"
    }
   ],
   "source": [
    "[data.shape for data in datas]"
   ]
  },
  {
   "cell_type": "code",
   "execution_count": 8,
   "metadata": {},
   "outputs": [],
   "source": [
    "# datas"
   ]
  },
  {
   "cell_type": "code",
   "execution_count": 9,
   "metadata": {},
   "outputs": [
    {
     "name": "stdout",
     "output_type": "stream",
     "text": [
      "[0.01887933 0.01939655 0.00931648]\n",
      "---\n",
      "[1. 1. 1.]\n"
     ]
    }
   ],
   "source": [
    "scaler = 0.\n",
    "for i, data in enumerate(datas):\n",
    "    stds = (data[0,1:] - data[0,:-1]).std(axis=0)\n",
    "    print(stds)\n",
    "    scaler = scaler + stds\n",
    "    datas[i] = data\n",
    "print('---')\n",
    "scaler /= len(datas)\n",
    "for i in range(len(datas)):\n",
    "    datas[i] /= scaler\n",
    "    data = datas[i]\n",
    "    stds = (data[0,1:] - data[0,:-1]).std(axis=0)\n",
    "    print(stds)\n",
    "    data = np.concatenate([data[:,1:], data[:,:-1]], axis=-1)\n",
    "    datas[i] = data"
   ]
  },
  {
   "cell_type": "code",
   "execution_count": 10,
   "metadata": {},
   "outputs": [
    {
     "data": {
      "text/plain": [
       "array([[[ 5.36384494, -0.01548735,  6.54753965],\n",
       "        [ 5.13352048,  1.08681084,  6.22552981],\n",
       "        [ 5.9035507 ,  0.72401918,  7.72824344],\n",
       "        [ 5.35694906,  1.05816547, 10.73367173]]])"
      ]
     },
     "execution_count": 10,
     "metadata": {},
     "output_type": "execute_result"
    }
   ],
   "source": [
    "datas[0][:,:4,:3]"
   ]
  },
  {
   "cell_type": "code",
   "execution_count": 11,
   "metadata": {},
   "outputs": [],
   "source": [
    "country_data = {c:d for c,d in zip(ccodes, datas)}"
   ]
  },
  {
   "cell_type": "code",
   "execution_count": 12,
   "metadata": {},
   "outputs": [],
   "source": [
    "class VARmodel:\n",
    "    def __init__(self, data, name='VARmodel', mu=None):\n",
    "        self.data = data\n",
    "        self.NUM_STEPS = data.shape[1]\n",
    "        self.name = name\n",
    "        self.logdensities = []\n",
    "        self.priors = []\n",
    "        self.dim = [3,3*2+1]\n",
    "        self.summaries = []\n",
    "        \n",
    "        self.stop_time = tf.placeholder_with_default(self.NUM_STEPS, ())\n",
    "        self.observable_mask = tf.range(0, data.shape[1], dtype=tf.int32) < self.stop_time\n",
    "        \n",
    "        pd = np.mean(np.std(data[0,1:] - data[0,:-1], axis=0))\n",
    "#         print(pd)\n",
    "        \n",
    "        with tf.variable_scope(name) as scope:\n",
    "            self.scope = scope\n",
    "            \n",
    "            self.create_rw_priors()\n",
    "            self.outputs = self.create_walk_inference(mu=mu)\n",
    "            self.create_observ_dispersion_inference(pd*0.5)\n",
    "            self.create_likelihood(self.observable_mask, self.outputs)\n",
    "            self.summary = tf.summary.merge(self.summaries)\n",
    "            \n",
    "    def create_summary(self, stype, name, tensor):\n",
    "        s = stype(name, tensor)\n",
    "        self.summaries.append(s)\n",
    "\n",
    "    def create_rw_priors(self):\n",
    "        dim = self.dim\n",
    "        with tf.variable_scope('rw_priors'):\n",
    "            with tf.variable_scope('walk_ord'):\n",
    "                s1_prior_d = LogNormal(1, mu=math.log(0.01), sigma=6., name='s1_prior')\n",
    "\n",
    "                with tf.variable_scope('s1_inference', dtype=floatX):\n",
    "                    mu = tf.get_variable('mu', shape=[1], \n",
    "                                         initializer=tf.constant_initializer(s1_prior_d.mu))\n",
    "\n",
    "                    logsigma_init = tf.constant_initializer(min(math.log(s1_prior_d.sigma), -1.))\n",
    "                    logsigma = tf.get_variable('logsigma', shape=[1], \n",
    "                                               initializer=logsigma_init)\n",
    "                    sigma = tf.exp(logsigma)\n",
    "                    s1_d = LogNormal(1, mu=mu, sigma=sigma)\n",
    "\n",
    "                s1 = s1_d.sample()\n",
    "                \n",
    "                self.create_summary(tf.summary.scalar, 's1_ord', s1[0])\n",
    "                \n",
    "                self.logdensities.append(s1_d.logdens(s1))\n",
    "\n",
    "                s1_prior = s1_prior_d.logdens(s1)\n",
    "                self.priors.append(s1_prior)\n",
    "                \n",
    "            PWalk = NormalRW(dim=None, sigma0=.4, mu0=0., sigma=s1, name='OrdWalk')\n",
    "            print(PWalk.init_distr.sigma, PWalk.init_distr.mu)\n",
    "            self.PWalk = PWalk\n",
    "                \n",
    "    def create_walk_inference(self, mu=None):\n",
    "        dim = self.dim\n",
    "        gvar = GVAR(dim=dim[0]*dim[1], len=self.NUM_STEPS, name='coef_rw_inference', mu=mu)\n",
    "        outputs = gvar.sample()\n",
    "        \n",
    "        self.logdensities.append(gvar.logdens)\n",
    "        \n",
    "        print(self.PWalk.init_distr.sigma, self.PWalk.init_distr.mu)\n",
    "\n",
    "        self.priors.append(self.PWalk.logdens(outputs, reduce=True))\n",
    "        self.outputs = outputs\n",
    "        \n",
    "        return outputs\n",
    "    \n",
    "    def create_observ_dispersion_inference(self, prior_disp):\n",
    "        with tf.variable_scope('obs_d_inf', reuse=tf.AUTO_REUSE):\n",
    "#             ldiag = DFlow([NVPFlow(dim=3, name='ldiag_flow_' + str(i)) for i in range(2)], init_sigma=0.05)\n",
    "            ldiag = DFlow([LinearChol(dim=3, name='ldiag_flow_' + str(i)) for i in range(1)], init_sigma=0.05)\n",
    "\n",
    "            ldiag.output -= 0.5*math.log(prior_disp)\n",
    "            ldiag.logdens -= tf.reduce_sum(ldiag.output, axis=-1)\n",
    "#             print(ldiag.logdens)\n",
    "#             print(ldiag.output)\n",
    "        \n",
    "        self.obs_d = MVNormal(3, sigma=None, name='obs_d_posterior', \n",
    "                   ldiag=ldiag.output[0])\n",
    "\n",
    "#         self.obs_d = MVNormal(3, sigma=0.4, name='obs_d_posterior', \n",
    "#                    ldiag=None)\n",
    "        \n",
    "        df = 3\n",
    "        pmat = np.diag([(2./prior_disp)]*3)/df\n",
    "        cov_prior = WishartCholesky(df, pmat, cholesky_input_output_matrices=True)\n",
    "        \n",
    "        pr = cov_prior.log_prob(self.obs_d.fsigma)\n",
    "        self.logdensities.append(ldiag.logdens[0])\n",
    "        self.priors.append(pr)\n",
    "        sigmas = tf.sqrt(tf.diag_part(self.obs_d.sigma))\n",
    "        rsquareds = 1 - sigmas/np.std(self.data[0,1:,:3] - self.data[0,:-1,:3], axis=0)\n",
    "        self.create_summary(tf.summary.scalar, 'rsquared_post_mean', tf.reduce_mean(rsquareds))\n",
    "        self.create_summary(tf.summary.histogram, 'post_rsquared', rsquareds)\n",
    "        self.create_summary(tf.summary.histogram, 'post_disp', tf.sqrt(tf.diag_part(self.obs_d.sigma)))\n",
    "\n",
    "#         obs_d_prior = LogNormal(dim=None, mu=math.log(prior_disp), sigma=0.5)\n",
    "\n",
    "#         with tf.variable_scope('obs_cov_inference', dtype=floatX):\n",
    "#             mu = tf.get_variable('mu', shape=[1], initializer=tf.constant_initializer(obs_d_prior.mu))\n",
    "#             logsigma = tf.get_variable('logsigma', shape=[1], initializer=tf.constant_initializer(-5))\n",
    "#             sigma = tf.exp(logsigma)\n",
    "\n",
    "#             obs_d = LogNormal(1, mu=mu, sigma=sigma)\n",
    "#             obs_ds = obs_d.sample()\n",
    "#             self.obs_ds = obs_ds\n",
    "\n",
    "#             obs_ds_logdens = obs_d.logdens(obs_ds)\n",
    "            \n",
    "#             self.logdensities.append(obs_ds_logdens)\n",
    "#             self.priors.append(obs_d_prior.logdens(obs_ds))\n",
    "\n",
    "#             self.create_summary(tf.summary.scalar, 'post_sigma', obs_ds[0])\n",
    "            \n",
    "    def predict(self, observable_mask, outputs):\n",
    "        dim = self.dim\n",
    "        data = self.data\n",
    "        out = tf.reshape(outputs, [self.NUM_STEPS, dim[0], dim[1]])\n",
    "\n",
    "        def step(prev, x):\n",
    "            mask = x[0]\n",
    "            prev_pred = tf.where(mask, x[1], prev)[tf.newaxis]\n",
    "            params = x[2]\n",
    "\n",
    "            d0 = params[:,:dim[0]]\n",
    "            d1 = params[:,dim[0]:2*dim[0]]\n",
    "\n",
    "            pp1 = prev_pred[:,:dim[0]]\n",
    "            pp0 = prev_pred[:,dim[0]:2*dim[0]]\n",
    "\n",
    "            new_pred = tf.matmul(pp0, d0)[0] + tf.matmul(pp1, d1)[0]+ params[:,-1] + pp1[0]\n",
    "            new_pred = tf.concat([new_pred, pp1[0]], axis=0)\n",
    "            return new_pred\n",
    "\n",
    "        ar = tf.scan(step, [observable_mask, data[0], out], initializer=tf.zeros([2*dim[0]], dtype=floatX))\n",
    "        return ar\n",
    "    \n",
    "    def create_likelihood(self, observable_mask, outputs):\n",
    "        dim = self.dim\n",
    "        obs_d = self.obs_d#Normal(dim=None, sigma=self.obs_ds, mu=0) #self.obs_d\n",
    "        \n",
    "        preds = self.predict(observable_mask, outputs)\n",
    "        \n",
    "        diffs = preds[:-1] - data[0,1:]\n",
    "        print(diffs)\n",
    "        diffs = diffs[:,:dim[0]]\n",
    "        \n",
    "        rsq_obs = tf.sqrt(tf.reduce_mean(tf.square(diffs), axis=0))/np.std(self.data[0,1:,:3] - self.data[0,:-1,:3], axis=0)\n",
    "        rsq_obs = 1-tf.reduce_mean(rsq_obs)\n",
    "        self.create_summary(tf.summary.scalar, 'rsquared_observed', rsq_obs)\n",
    "\n",
    "        logl = obs_d.logdens(diffs, reduce=False)\n",
    "        print(logl)\n",
    "        logl *= tf.cast(self.observable_mask[:-1], floatX)\n",
    "        print(logl)\n",
    "\n",
    "        logl = tf.reduce_sum(logl)\n",
    "        self.create_summary(tf.summary.scalar, 'loglikelihood', logl)\n",
    "        self.priors.append(logl)"
   ]
  },
  {
   "cell_type": "code",
   "execution_count": 13,
   "metadata": {},
   "outputs": [
    {
     "name": "stdout",
     "output_type": "stream",
     "text": [
      "0.4 0.0\n",
      "0.4 0.0\n",
      "Tensor(\"AUS/sub_1:0\", shape=(34, 6), dtype=float64)\n",
      "Tensor(\"AUS/obs_d_posterior_2/sub_1:0\", shape=(34,), dtype=float64)\n",
      "Tensor(\"AUS/mul:0\", shape=(34,), dtype=float64)\n"
     ]
    }
   ],
   "source": [
    "model = VARmodel(datas[0], name='AUS')"
   ]
  },
  {
   "cell_type": "code",
   "execution_count": 14,
   "metadata": {},
   "outputs": [],
   "source": [
    "prior = tf.reduce_sum(model.priors)\n",
    "\n",
    "logdensity = tf.reduce_sum(model.logdensities)"
   ]
  },
  {
   "cell_type": "code",
   "execution_count": 15,
   "metadata": {},
   "outputs": [],
   "source": [
    "kl = logdensity - prior"
   ]
  },
  {
   "cell_type": "code",
   "execution_count": 16,
   "metadata": {},
   "outputs": [],
   "source": [
    "kls = tf.summary.scalar('KLd', kl)\n",
    "summary = tf.summary.merge([kls, tf.summary.scalar('prior', prior)] + [model.summaries])"
   ]
  },
  {
   "cell_type": "code",
   "execution_count": 17,
   "metadata": {},
   "outputs": [],
   "source": [
    "main_op = tf.train.AdamOptimizer(0.0001).minimize(kl)"
   ]
  },
  {
   "cell_type": "code",
   "execution_count": null,
   "metadata": {},
   "outputs": [],
   "source": []
  },
  {
   "cell_type": "code",
   "execution_count": 18,
   "metadata": {},
   "outputs": [],
   "source": [
    "sess = tf.InteractiveSession()\n",
    "init = tf.global_variables_initializer()"
   ]
  },
  {
   "cell_type": "code",
   "execution_count": 19,
   "metadata": {},
   "outputs": [],
   "source": [
    "init.run()"
   ]
  },
  {
   "cell_type": "code",
   "execution_count": 20,
   "metadata": {},
   "outputs": [],
   "source": [
    "# !rm -R /tmp/hier"
   ]
  },
  {
   "cell_type": "code",
   "execution_count": 21,
   "metadata": {},
   "outputs": [],
   "source": [
    "writer = tf.summary.FileWriter('/tmp/hier/single_full_stochcov-ebayes-notrestrictive-correctrsq-correct')"
   ]
  },
  {
   "cell_type": "code",
   "execution_count": 22,
   "metadata": {},
   "outputs": [],
   "source": [
    "writer.add_graph(tf.get_default_graph())"
   ]
  },
  {
   "cell_type": "code",
   "execution_count": 23,
   "metadata": {},
   "outputs": [],
   "source": [
    "epoch = 0"
   ]
  },
  {
   "cell_type": "code",
   "execution_count": null,
   "metadata": {},
   "outputs": [],
   "source": [
    "for epoch in range(epoch, 100000):\n",
    "    for step in range(100):\n",
    "        sess.run(main_op)\n",
    "    s, _ = sess.run([summary, main_op])\n",
    "    writer.add_summary(s, global_step=epoch)"
   ]
  },
  {
   "cell_type": "code",
   "execution_count": null,
   "metadata": {},
   "outputs": [],
   "source": [
    "global_post=global_inf.output[0]"
   ]
  },
  {
   "cell_type": "code",
   "execution_count": null,
   "metadata": {},
   "outputs": [],
   "source": [
    "ss = []\n",
    "for _ in range(1000):\n",
    "    ss.append(global_post.eval())\n",
    "ss = np.array(ss)"
   ]
  },
  {
   "cell_type": "code",
   "execution_count": null,
   "metadata": {},
   "outputs": [],
   "source": [
    "np.mean(ss,axis=0)"
   ]
  },
  {
   "cell_type": "code",
   "execution_count": null,
   "metadata": {},
   "outputs": [],
   "source": [
    "ss.std(axis=0)"
   ]
  },
  {
   "cell_type": "code",
   "execution_count": null,
   "metadata": {},
   "outputs": [],
   "source": [
    "sns.kdeplot(ss[:,4], ss[:,1])\n",
    "plt.show()"
   ]
  },
  {
   "cell_type": "code",
   "execution_count": null,
   "metadata": {},
   "outputs": [],
   "source": []
  }
 ],
 "metadata": {
  "kernelspec": {
   "display_name": "Python 3.6 (sys p)",
   "language": "python",
   "name": "py3.6"
  },
  "language_info": {
   "codemirror_mode": {
    "name": "ipython",
    "version": 3
   },
   "file_extension": ".py",
   "mimetype": "text/x-python",
   "name": "python",
   "nbconvert_exporter": "python",
   "pygments_lexer": "ipython3",
   "version": "3.6.4"
  }
 },
 "nbformat": 4,
 "nbformat_minor": 2
}
