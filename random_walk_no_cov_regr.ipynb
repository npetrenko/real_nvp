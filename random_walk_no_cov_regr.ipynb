{
 "cells": [
  {
   "cell_type": "code",
   "execution_count": 1,
   "metadata": {},
   "outputs": [],
   "source": [
    "import tensorflow as tf\n",
    "from flows import NormalRW, DFlow, ResFlow, NVPFlow, phase, Normal, floatX, MVNormal, MVNormalRW, Linear, CFlow\n",
    "import numpy as np\n",
    "from matplotlib import pyplot as plt\n",
    "import seaborn as sns\n",
    "from tensorflow.contrib.distributions import WishartCholesky\n",
    "\n",
    "np.random.seed(1234)"
   ]
  },
  {
   "cell_type": "code",
   "execution_count": 2,
   "metadata": {},
   "outputs": [],
   "source": [
    "n = 32\n",
    "s1 = 0.01\n",
    "m1 = 0.\n",
    "s0 = 0.5\n",
    "dim = [1,2]\n",
    "\n",
    "params = []\n",
    "params.append(np.random.normal(size=dim, scale=s0))\n",
    "for i in range(n-1):\n",
    "    new = params[i] + np.random.normal(loc=m1, scale=s1, size=dim)\n",
    "    params.append(new)\n",
    "params = np.array(params)\n",
    "\n",
    "# PWalk = NormalRW(dim[0]*dim[1], sigma=s1, mu=m1, sigma0=s0)\n",
    "k = dim[0] * dim[1]\n",
    "with tf.variable_scope('pwalk_inf', reuse=tf.AUTO_REUSE):\n",
    "    lowerd = DFlow([Linear(dim=k*(k-1)//2 + k, name='lowerd_flow')])\n",
    "    ldiag = DFlow([Linear(dim=k, name='ldiag_flow')])\n",
    "PWalk = MVNormalRW(dim[0]*dim[1], sigma=s1, sigma0=s0, name='param_walk_prior', \n",
    "                   lowerd=lowerd.output[0], ldiag=ldiag.output[0]+np.log(1/s1))"
   ]
  },
  {
   "cell_type": "code",
   "execution_count": 3,
   "metadata": {},
   "outputs": [],
   "source": [
    "def autoregr(X, param):\n",
    "    d = param[:,:dim[-1]-1]\n",
    "    X = np.matmul(X, d) + param[:,-1][np.newaxis] + np.random.normal(size=[1,dim[-1]-1], scale=0.1)\n",
    "    return X\n",
    "\n",
    "def autoregr_tf(X, param):\n",
    "    d = param[:,:dim[-1]-1]\n",
    "    X = tf.matmul(X, d) + param[:,-1][np.newaxis]\n",
    "    return X"
   ]
  },
  {
   "cell_type": "code",
   "execution_count": 4,
   "metadata": {},
   "outputs": [],
   "source": [
    "xs = [np.random.normal(size=[1,dim[0]])]\n",
    "for i in range(n-1):\n",
    "    xs.append(autoregr(xs[i], params[i]))\n",
    "xs = np.concatenate(xs)[np.newaxis].astype(floatX)"
   ]
  },
  {
   "cell_type": "code",
   "execution_count": 5,
   "metadata": {},
   "outputs": [
    {
     "data": {
      "text/plain": [
       "array([[[ 1.03380073],\n",
       "        [-0.5918482 ],\n",
       "        [-0.54354248],\n",
       "        [-0.83599905],\n",
       "        [-0.78511876],\n",
       "        [-0.74559205]]])"
      ]
     },
     "execution_count": 5,
     "metadata": {},
     "output_type": "execute_result"
    }
   ],
   "source": [
    "xs[:,:6]"
   ]
  },
  {
   "cell_type": "code",
   "execution_count": 6,
   "metadata": {},
   "outputs": [],
   "source": [
    "# conf = [[ResFlow(dim=n*dim[0]*dim[1], name='res{}'.format(i)), \n",
    "#          NVPFlow(dim=n*dim[0]*dim[1], name='nvp{}'.format(i))] for i in range(2)]\n",
    "# conf = sum(conf, [])\n",
    "\n",
    "#conf = [NVPFlow(dim=n*dim[0]*dim[1], name='res{}'.format(i)) for i in range(4)]\n",
    "conf = [Linear(dim=n*dim[0]*dim[1])]\n",
    "# conf = [CFlow(dim=n*dim[0]*dim[1], name='CFlow')]\n",
    "\n",
    "output_flow = DFlow(conf)\n",
    "outputs = tf.reshape(output_flow.output, [1,n,dim[0]*dim[1]])"
   ]
  },
  {
   "cell_type": "code",
   "execution_count": 7,
   "metadata": {},
   "outputs": [
    {
     "data": {
      "text/plain": [
       "<tf.Tensor 'Reshape:0' shape=(1, 32, 2) dtype=float64>"
      ]
     },
     "execution_count": 7,
     "metadata": {},
     "output_type": "execute_result"
    }
   ],
   "source": [
    "outputs"
   ]
  },
  {
   "cell_type": "code",
   "execution_count": 8,
   "metadata": {},
   "outputs": [],
   "source": [
    "prior = PWalk.logdens(outputs)"
   ]
  },
  {
   "cell_type": "code",
   "execution_count": 9,
   "metadata": {},
   "outputs": [
    {
     "data": {
      "text/plain": [
       "<tf.Tensor 'param_walk_prior_2/logdens/add:0' shape=() dtype=float64>"
      ]
     },
     "execution_count": 9,
     "metadata": {},
     "output_type": "execute_result"
    }
   ],
   "source": [
    "prior"
   ]
  },
  {
   "cell_type": "code",
   "execution_count": 10,
   "metadata": {},
   "outputs": [],
   "source": [
    "def create_loglik():\n",
    "    obs_d = Normal(dim=None, sigma=0.1, mu=0)\n",
    "    out = tf.reshape(outputs, [n, dim[0], dim[1]])\n",
    "    \n",
    "    def step1(current):\n",
    "        X = current[0][np.newaxis]\n",
    "        param = current[1]\n",
    "        d = param[:,:dim[-1]-1]\n",
    "        X = tf.matmul(X, d)[0] + param[:,-1]\n",
    "        return X\n",
    "    \n",
    "    ar = tf.map_fn(step1, (xs[0][:-1], out[:-1]), dtype=tf.float64)\n",
    "    return obs_d.logdens(ar - xs[0][1:])"
   ]
  },
  {
   "cell_type": "code",
   "execution_count": 11,
   "metadata": {},
   "outputs": [],
   "source": [
    "logl = create_loglik()"
   ]
  },
  {
   "cell_type": "code",
   "execution_count": 12,
   "metadata": {},
   "outputs": [],
   "source": [
    "ent = output_flow.logdens"
   ]
  },
  {
   "cell_type": "code",
   "execution_count": 13,
   "metadata": {},
   "outputs": [
    {
     "data": {
      "text/plain": [
       "<tf.Tensor 'sub_1:0' shape=(1,) dtype=float64>"
      ]
     },
     "execution_count": 13,
     "metadata": {},
     "output_type": "execute_result"
    }
   ],
   "source": [
    "ent"
   ]
  },
  {
   "cell_type": "code",
   "execution_count": 14,
   "metadata": {},
   "outputs": [],
   "source": [
    "df = dim[0]*dim[1]*10\n",
    "pmat = np.diag([(1/s1**2)]*(dim[0]*dim[1]))/df\n",
    "cov_prior = WishartCholesky(df, pmat, cholesky_input_output_matrices=True)"
   ]
  },
  {
   "cell_type": "code",
   "execution_count": 15,
   "metadata": {},
   "outputs": [
    {
     "data": {
      "text/plain": [
       "array([[500.,   0.],\n",
       "       [  0., 500.]])"
      ]
     },
     "execution_count": 15,
     "metadata": {},
     "output_type": "execute_result"
    }
   ],
   "source": [
    "pmat"
   ]
  },
  {
   "cell_type": "code",
   "execution_count": 16,
   "metadata": {},
   "outputs": [],
   "source": [
    "loss = -logl - prior + ent - cov_prior.log_prob(PWalk.fsigma) + lowerd.logdens + ldiag.logdens\n",
    "loss /= n*dim[0]*dim[1]"
   ]
  },
  {
   "cell_type": "code",
   "execution_count": 17,
   "metadata": {},
   "outputs": [],
   "source": [
    "opt = tf.train.AdamOptimizer(0.0001).minimize(loss)"
   ]
  },
  {
   "cell_type": "code",
   "execution_count": 18,
   "metadata": {},
   "outputs": [],
   "source": [
    "sess = tf.InteractiveSession()"
   ]
  },
  {
   "cell_type": "code",
   "execution_count": 19,
   "metadata": {},
   "outputs": [],
   "source": [
    "tf.global_variables_initializer().run()"
   ]
  },
  {
   "cell_type": "code",
   "execution_count": 20,
   "metadata": {},
   "outputs": [
    {
     "data": {
      "text/plain": [
       "[-3793.7028351565205, -334778.54279696185]"
      ]
     },
     "execution_count": 20,
     "metadata": {},
     "output_type": "execute_result"
    }
   ],
   "source": [
    "sess.run([logl, prior])"
   ]
  },
  {
   "cell_type": "code",
   "execution_count": 21,
   "metadata": {},
   "outputs": [
    {
     "data": {
      "text/plain": [
       "array([50686.78053466])"
      ]
     },
     "execution_count": 21,
     "metadata": {},
     "output_type": "execute_result"
    }
   ],
   "source": [
    "loss.eval()"
   ]
  },
  {
   "cell_type": "code",
   "execution_count": 22,
   "metadata": {},
   "outputs": [],
   "source": [
    "np.set_printoptions(precision=4)"
   ]
  },
  {
   "cell_type": "code",
   "execution_count": 63,
   "metadata": {},
   "outputs": [
    {
     "name": "stdout",
     "output_type": "stream",
     "text": [
      "[[ 1.2420e-04 -1.0451e-06]\n",
      " [-1.0451e-06  1.6583e-05]]\n"
     ]
    }
   ],
   "source": [
    "ss = []\n",
    "print(a)\n",
    "for _ in range(100):\n",
    "    a = np.linalg.inv(PWalk.inverse_sigma.eval()[:3,:3])\n",
    "    ss.append(np.sqrt(np.diag(a)))"
   ]
  },
  {
   "cell_type": "code",
   "execution_count": 64,
   "metadata": {},
   "outputs": [
    {
     "data": {
      "text/plain": [
       "array([0.0068, 0.0023])"
      ]
     },
     "execution_count": 64,
     "metadata": {},
     "output_type": "execute_result"
    }
   ],
   "source": [
    "np.mean(ss, axis=0)"
   ]
  },
  {
   "cell_type": "code",
   "execution_count": 62,
   "metadata": {
    "scrolled": true
   },
   "outputs": [
    {
     "name": "stdout",
     "output_type": "stream",
     "text": [
      "[0.9796]\n",
      "[[ 7905.2835  -237.8591]\n",
      " [ -237.8591 64642.6431]]\n",
      "\n",
      "\n",
      "[1.0099]\n",
      "[[ 9600.2647 -5788.0796]\n",
      " [-5788.0796 79655.7908]]\n",
      "\n",
      "\n",
      "[0.9154]\n",
      "[[ 8101.158  -7557.5096]\n",
      " [-7557.5096 76724.1944]]\n",
      "\n",
      "\n",
      "[1.0228]\n",
      "[[14936.6374 -2548.3908]\n",
      " [-2548.3908 60120.6283]]\n",
      "\n",
      "\n",
      "[1.0733]\n",
      "[[11391.4244  2978.4503]\n",
      " [ 2978.4503 48130.0697]]\n",
      "\n",
      "\n",
      "[1.1601]\n",
      "[[11808.8593  5520.7485]\n",
      " [ 5520.7485 50746.6296]]\n",
      "\n",
      "\n",
      "[0.9169]\n",
      "[[14051.3119  8241.6144]\n",
      " [ 8241.6144 71957.6252]]\n",
      "\n",
      "\n",
      "[1.0335]\n",
      "[[ 8566.2918  1674.8318]\n",
      " [ 1674.8318 98190.0669]]\n",
      "\n",
      "\n",
      "[0.9445]\n",
      "[[13046.1969  -494.5171]\n",
      " [ -494.5171 70244.2641]]\n",
      "\n",
      "\n",
      "[0.9611]\n",
      "[[ 12601.2451  -2482.7257]\n",
      " [ -2482.7257 127716.0107]]\n",
      "\n",
      "\n",
      "[1.0637]\n",
      "[[10373.4544  2079.2573]\n",
      " [ 2079.2573 83507.3614]]\n",
      "\n",
      "\n",
      "[0.8984]\n",
      "[[  9509.1913  -1730.3793]\n",
      " [ -1730.3793 114919.0615]]\n",
      "\n",
      "\n",
      "[0.9553]\n",
      "[[10580.343    342.3397]\n",
      " [  342.3397 73069.0688]]\n",
      "\n",
      "\n",
      "[0.93]\n",
      "[[10919.6799 -1196.0717]\n",
      " [-1196.0717 85214.6728]]\n",
      "\n",
      "\n",
      "[0.8857]\n",
      "[[13152.0103 -3603.3913]\n",
      " [-3603.3913 49458.2961]]\n",
      "\n",
      "\n",
      "[0.9617]\n",
      "[[ 9497.9211   198.3044]\n",
      " [  198.3044 92502.6847]]\n",
      "\n",
      "\n",
      "[0.8174]\n",
      "[[11934.9204 -2372.417 ]\n",
      " [-2372.417  99207.9131]]\n",
      "\n",
      "\n",
      "[1.0077]\n",
      "[[ 7926.9627   455.83  ]\n",
      " [  455.83   89699.8295]]\n",
      "\n",
      "\n",
      "[0.9864]\n",
      "[[10988.977  -8279.6234]\n",
      " [-8279.6234 87528.5921]]\n",
      "\n",
      "\n",
      "[0.8033]\n",
      "[[14371.0052  -352.4732]\n",
      " [ -352.4732 94077.7284]]\n",
      "\n",
      "\n",
      "[0.9537]\n",
      "[[11818.7096  9339.4178]\n",
      " [ 9339.4178 98283.4137]]\n",
      "\n",
      "\n",
      "[0.8109]\n",
      "[[ 13935.1345   4112.555 ]\n",
      " [  4112.555  109550.9568]]\n",
      "\n",
      "\n",
      "[0.9722]\n",
      "[[ 15913.5259   -863.5837]\n",
      " [  -863.5837 106723.2907]]\n",
      "\n",
      "\n",
      "[0.7884]\n",
      "[[12232.7641  5753.9426]\n",
      " [ 5753.9426 76359.3803]]\n",
      "\n",
      "\n",
      "[1.0997]\n",
      "[[15606.2254  1887.621 ]\n",
      " [ 1887.621  84128.2036]]\n",
      "\n",
      "\n",
      "[0.9357]\n",
      "[[ 13439.3089   -511.4824]\n",
      " [  -511.4824 120585.0544]]\n",
      "\n",
      "\n",
      "[0.66]\n",
      "[[ 12710.4359   -638.0318]\n",
      " [  -638.0318 139443.415 ]]\n",
      "\n",
      "\n",
      "[0.8736]\n",
      "[[12418.4482  3664.3009]\n",
      " [ 3664.3009 80751.4836]]\n",
      "\n",
      "\n",
      "[0.8122]\n",
      "[[15286.988   2284.8814]\n",
      " [ 2284.8814 92240.0496]]\n",
      "\n",
      "\n",
      "[1.1069]\n",
      "[[22984.6998 -1614.4573]\n",
      " [-1614.4573 72309.0136]]\n",
      "\n",
      "\n",
      "[0.7927]\n",
      "[[ 18813.802   -8182.3966]\n",
      " [ -8182.3966 102084.3517]]\n",
      "\n",
      "\n",
      "[0.8992]\n",
      "[[ 11013.835   -4335.4076]\n",
      " [ -4335.4076 138849.4001]]\n",
      "\n",
      "\n",
      "[0.9686]\n",
      "[[ 14377.8741   5173.9572]\n",
      " [  5173.9572 118051.3785]]\n",
      "\n",
      "\n",
      "[1.2705]\n",
      "[[ 12581.0682   -750.9162]\n",
      " [  -750.9162 115990.2846]]\n",
      "\n",
      "\n",
      "[0.9903]\n",
      "[[ 15125.816   -9072.3392]\n",
      " [ -9072.3392 124814.7542]]\n",
      "\n",
      "\n",
      "[0.8499]\n",
      "[[15332.9847 -5049.8713]\n",
      " [-5049.8713 74401.2976]]\n",
      "\n",
      "\n",
      "[0.7105]\n",
      "[[ 10165.7162 -11316.8567]\n",
      " [-11316.8567 119569.9985]]\n",
      "\n",
      "\n",
      "[1.0289]\n",
      "[[ 17126.7628  -2950.6284]\n",
      " [ -2950.6284 108626.1236]]\n",
      "\n",
      "\n",
      "[0.9568]\n",
      "[[14660.1296 -3665.5955]\n",
      " [-3665.5955 91615.813 ]]\n",
      "\n",
      "\n",
      "[0.969]\n",
      "[[ 15277.6639  -3559.5785]\n",
      " [ -3559.5785 120407.915 ]]\n",
      "\n",
      "\n",
      "[0.8124]\n",
      "[[ 15099.697    3593.0744]\n",
      " [  3593.0744 103899.0055]]\n",
      "\n",
      "\n",
      "[0.7346]\n",
      "[[ 16689.1348  -5222.1141]\n",
      " [ -5222.1141 118352.947 ]]\n",
      "\n",
      "\n",
      "[0.8406]\n",
      "[[ 23216.165    3688.2723]\n",
      " [  3688.2723 103161.4121]]\n",
      "\n",
      "\n",
      "[0.875]\n",
      "[[ 16994.451    -398.4702]\n",
      " [  -398.4702 129556.1607]]\n",
      "\n",
      "\n",
      "[0.6516]\n",
      "[[ 15541.8509   -701.6584]\n",
      " [  -701.6584 136490.6788]]\n",
      "\n",
      "\n",
      "[0.8911]\n",
      "[[ 18532.829   -1073.9699]\n",
      " [ -1073.9699 113747.1352]]\n",
      "\n",
      "\n",
      "[0.8669]\n",
      "[[ 15489.5844  -6652.6493]\n",
      " [ -6652.6493 145783.5349]]\n",
      "\n",
      "\n",
      "[0.7385]\n",
      "[[ 17396.6718   1132.1085]\n",
      " [  1132.1085 191157.9058]]\n",
      "\n",
      "\n",
      "[0.8216]\n",
      "[[ 20904.0614  -2600.4122]\n",
      " [ -2600.4122 150690.4347]]\n",
      "\n",
      "\n",
      "[0.8226]\n",
      "[[ 15098.415    3782.268 ]\n",
      " [  3782.268  120625.2693]]\n",
      "\n",
      "\n",
      "[0.8272]\n",
      "[[ 13478.5252   -226.2184]\n",
      " [  -226.2184 183164.6927]]\n",
      "\n",
      "\n",
      "[0.7892]\n",
      "[[ 16254.9152  10430.5969]\n",
      " [ 10430.5969 178380.1066]]\n",
      "\n",
      "\n",
      "[0.6788]\n",
      "[[ 11528.3949  -3349.4478]\n",
      " [ -3349.4478 128096.1678]]\n",
      "\n",
      "\n",
      "[0.7772]\n",
      "[[ 12318.3769  -7663.9443]\n",
      " [ -7663.9443 166299.009 ]]\n",
      "\n",
      "\n",
      "[0.7652]\n",
      "[[ 19091.7457  -4683.8447]\n",
      " [ -4683.8447 121592.7766]]\n",
      "\n",
      "\n",
      "[0.7003]\n",
      "[[ 23665.7163  -5169.7245]\n",
      " [ -5169.7245 187629.1173]]\n",
      "\n",
      "\n",
      "[0.7325]\n",
      "[[ 16636.2557   1320.0552]\n",
      " [  1320.0552 170269.3784]]\n",
      "\n",
      "\n",
      "[0.703]\n",
      "[[ 20753.2673   1410.4608]\n",
      " [  1410.4608 132009.0456]]\n",
      "\n",
      "\n",
      "[0.7549]\n",
      "[[ 19736.2611   4108.7757]\n",
      " [  4108.7757 152938.7748]]\n",
      "\n",
      "\n",
      "[0.7273]\n",
      "[[ 17193.194    1573.4568]\n",
      " [  1573.4568 206791.8434]]\n",
      "\n",
      "\n",
      "[0.8337]\n",
      "[[ 21120.2967  12444.0108]\n",
      " [ 12444.0108 118745.0543]]\n",
      "\n",
      "\n",
      "[0.6414]\n",
      "[[ 22483.7947  -4790.1805]\n",
      " [ -4790.1805 149597.386 ]]\n",
      "\n",
      "\n",
      "[0.8485]\n",
      "[[ 22867.3742 -12547.4957]\n",
      " [-12547.4957 168946.6161]]\n",
      "\n",
      "\n",
      "[0.7632]\n",
      "[[ 21695.5879 -12248.3643]\n",
      " [-12248.3643 190958.4428]]\n",
      "\n",
      "\n",
      "[0.855]\n",
      "[[ 2.2557e+04 -1.5002e+02]\n",
      " [-1.5002e+02  1.6283e+05]]\n",
      "\n",
      "\n",
      "[0.7353]\n",
      "[[ 23048.3829  -4230.498 ]\n",
      " [ -4230.498  170111.1112]]\n",
      "\n",
      "\n",
      "[0.6418]\n",
      "[[ 20204.6883   3444.0947]\n",
      " [  3444.0947 153394.9802]]\n",
      "\n",
      "\n",
      "[0.863]\n",
      "[[ 16841.5777   1555.0183]\n",
      " [  1555.0183 238915.0356]]\n",
      "\n",
      "\n",
      "[0.7207]\n",
      "[[ 26985.9707 -11616.6078]\n",
      " [-11616.6078 109776.5459]]\n",
      "\n",
      "\n",
      "[0.7476]\n",
      "[[ 21338.4023  16023.3733]\n",
      " [ 16023.3733 216776.1049]]\n",
      "\n",
      "\n",
      "[0.5615]\n",
      "[[ 21339.0853 -22666.1026]\n",
      " [-22666.1026 168259.3087]]\n",
      "\n",
      "\n",
      "[0.8488]\n",
      "[[ 23115.4981 -14482.597 ]\n",
      " [-14482.597  150362.9806]]\n",
      "\n",
      "\n",
      "[0.8096]\n",
      "[[ 23229.2283   -229.6925]\n",
      " [  -229.6925 193022.1121]]\n",
      "\n",
      "\n",
      "[0.9094]\n",
      "[[ 23716.5223  10242.688 ]\n",
      " [ 10242.688  127474.2183]]\n",
      "\n",
      "\n",
      "[0.5263]\n",
      "[[ 21631.0333   1654.0593]\n",
      " [  1654.0593 228055.1975]]\n",
      "\n",
      "\n",
      "[0.7828]\n",
      "[[ 17404.6828   1625.1861]\n",
      " [  1625.1861 206287.4065]]\n",
      "\n",
      "\n",
      "[0.6919]\n",
      "[[ 21241.4639 -15576.1046]\n",
      " [-15576.1046 212375.381 ]]\n",
      "\n",
      "\n"
     ]
    },
    {
     "ename": "KeyboardInterrupt",
     "evalue": "",
     "output_type": "error",
     "traceback": [
      "\u001b[0;31m---------------------------------------------------------------------------\u001b[0m",
      "\u001b[0;31mKeyboardInterrupt\u001b[0m                         Traceback (most recent call last)",
      "\u001b[0;32m<timed exec>\u001b[0m in \u001b[0;36m<module>\u001b[0;34m()\u001b[0m\n",
      "\u001b[0;32m/usr/lib/python3.6/site-packages/tensorflow/python/client/session.py\u001b[0m in \u001b[0;36mrun\u001b[0;34m(self, fetches, feed_dict, options, run_metadata)\u001b[0m\n\u001b[1;32m    903\u001b[0m     \u001b[0;32mtry\u001b[0m\u001b[0;34m:\u001b[0m\u001b[0;34m\u001b[0m\u001b[0m\n\u001b[1;32m    904\u001b[0m       result = self._run(None, fetches, feed_dict, options_ptr,\n\u001b[0;32m--> 905\u001b[0;31m                          run_metadata_ptr)\n\u001b[0m\u001b[1;32m    906\u001b[0m       \u001b[0;32mif\u001b[0m \u001b[0mrun_metadata\u001b[0m\u001b[0;34m:\u001b[0m\u001b[0;34m\u001b[0m\u001b[0m\n\u001b[1;32m    907\u001b[0m         \u001b[0mproto_data\u001b[0m \u001b[0;34m=\u001b[0m \u001b[0mtf_session\u001b[0m\u001b[0;34m.\u001b[0m\u001b[0mTF_GetBuffer\u001b[0m\u001b[0;34m(\u001b[0m\u001b[0mrun_metadata_ptr\u001b[0m\u001b[0;34m)\u001b[0m\u001b[0;34m\u001b[0m\u001b[0m\n",
      "\u001b[0;32m/usr/lib/python3.6/site-packages/tensorflow/python/client/session.py\u001b[0m in \u001b[0;36m_run\u001b[0;34m(self, handle, fetches, feed_dict, options, run_metadata)\u001b[0m\n\u001b[1;32m   1107\u001b[0m \u001b[0;34m\u001b[0m\u001b[0m\n\u001b[1;32m   1108\u001b[0m           if (not is_tensor_handle_feed and\n\u001b[0;32m-> 1109\u001b[0;31m               not subfeed_t.get_shape().is_compatible_with(np_val.shape)):\n\u001b[0m\u001b[1;32m   1110\u001b[0m             raise ValueError('Cannot feed value of shape %r for Tensor %r, '\n\u001b[1;32m   1111\u001b[0m                              \u001b[0;34m'which has shape %r'\u001b[0m \u001b[0;34m%\u001b[0m\u001b[0;34m\u001b[0m\u001b[0m\n",
      "\u001b[0;31mKeyboardInterrupt\u001b[0m: "
     ]
    }
   ],
   "source": [
    "%%time\n",
    "for _ in range(500):\n",
    "    for _ in range(400):\n",
    "        l, _ = sess.run([loss, opt], {phase:True})\n",
    "    print(l)\n",
    "    print(PWalk.inverse_sigma.eval()[:3,:3])\n",
    "    print('\\n')"
   ]
  },
  {
   "cell_type": "code",
   "execution_count": 27,
   "metadata": {},
   "outputs": [],
   "source": [
    "out = tf.reshape(outputs, [n, dim[0], dim[1]])"
   ]
  },
  {
   "cell_type": "code",
   "execution_count": 44,
   "metadata": {},
   "outputs": [],
   "source": [
    "samples = []\n",
    "for _ in range(1000):\n",
    "    s = out.eval()\n",
    "    samples.append(s)\n",
    "samples = np.array(samples)"
   ]
  },
  {
   "cell_type": "code",
   "execution_count": 45,
   "metadata": {},
   "outputs": [
    {
     "data": {
      "text/plain": [
       "(1000, 32, 1, 2)"
      ]
     },
     "execution_count": 45,
     "metadata": {},
     "output_type": "execute_result"
    }
   ],
   "source": [
    "samples.shape"
   ]
  },
  {
   "cell_type": "code",
   "execution_count": 46,
   "metadata": {},
   "outputs": [
    {
     "data": {
      "image/png": "[encoded data removed]",
      "text/plain": [
       "<matplotlib.figure.Figure at 0x7f59206f39b0>"
      ]
     },
     "metadata": {},
     "output_type": "display_data"
    }
   ],
   "source": [
    "sns.kdeplot(samples[:,1,0,0], samples[:,1,0,1])\n",
    "plt.show()"
   ]
  },
  {
   "cell_type": "code",
   "execution_count": 47,
   "metadata": {},
   "outputs": [
    {
     "data": {
      "text/plain": [
       "array([[ 0.3209, -0.6453]])"
      ]
     },
     "execution_count": 47,
     "metadata": {},
     "output_type": "execute_result"
    }
   ],
   "source": [
    "t = 18\n",
    "params[t]"
   ]
  },
  {
   "cell_type": "code",
   "execution_count": 48,
   "metadata": {},
   "outputs": [
    {
     "data": {
      "text/plain": [
       "array([[ 0.4746, -0.4877]])"
      ]
     },
     "execution_count": 48,
     "metadata": {},
     "output_type": "execute_result"
    }
   ],
   "source": [
    "np.mean(samples[:,t], axis=0)"
   ]
  },
  {
   "cell_type": "code",
   "execution_count": null,
   "metadata": {},
   "outputs": [],
   "source": []
  },
  {
   "cell_type": "code",
   "execution_count": null,
   "metadata": {},
   "outputs": [],
   "source": []
  }
 ],
 "metadata": {
  "kernelspec": {
   "display_name": "Python 3.6 (sys p)",
   "language": "python",
   "name": "py3.6"
  },
  "language_info": {
   "codemirror_mode": {
    "name": "ipython",
    "version": 3
   },
   "file_extension": ".py",
   "mimetype": "text/x-python",
   "name": "python",
   "nbconvert_exporter": "python",
   "pygments_lexer": "ipython3",
   "version": "3.6.4"
  }
 },
 "nbformat": 4,
 "nbformat_minor": 2
}
