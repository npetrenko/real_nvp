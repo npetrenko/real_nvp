{
 "cells": [
  {
   "cell_type": "code",
   "execution_count": 1,
   "metadata": {},
   "outputs": [],
   "source": [
    "import tensorflow as tf\n",
    "import numpy as np\n",
    "import tensorflow.contrib.layers as layers"
   ]
  },
  {
   "cell_type": "code",
   "execution_count": 2,
   "metadata": {},
   "outputs": [],
   "source": [
    "from sklearn.datasets import make_moons\n",
    "from matplotlib import pyplot as plt\n",
    "from flows import NVPFlow, FlowSequence"
   ]
  },
  {
   "cell_type": "code",
   "execution_count": 3,
   "metadata": {},
   "outputs": [],
   "source": [
    "phase = tf.placeholder_with_default(True, shape=(), name='learning_phase')"
   ]
  },
  {
   "cell_type": "code",
   "execution_count": 4,
   "metadata": {},
   "outputs": [],
   "source": [
    "class BNFlow:\n",
    "    def __init__(self, dim=None, name='BNFlow', output=None):\n",
    "        self.dim = dim\n",
    "        self.name = name\n",
    "        self.output = output\n",
    "        self.gamma = 0.98\n",
    "        if output is not None:\n",
    "            self.mask = np.zeros(dim, np.bool)\n",
    "    \n",
    "    def _update_stats(self, inp_tensor):\n",
    "        mu = tf.get_variable('mu', shape=inp_tensor.shape[1:], trainable=False)\n",
    "        sigma2 = tf.get_variable('sigma2', trainable=False, initializer=tf.ones(inp_tensor.shape[1:]))\n",
    "        \n",
    "        offset = tf.get_variable('offset', shape=mu.shape)\n",
    "        scale = tf.get_variable('scale', initializer=tf.zeros(inp_tensor.shape[1:]))\n",
    "        scale = tf.identity(tf.log1p(tf.exp(scale)), name='scale')\n",
    "        \n",
    "        mean = tf.reduce_mean(inp_tensor, axis=0)\n",
    "        mean2 = tf.reduce_mean(inp_tensor**2, axis=0)\n",
    "        \n",
    "        if not hasattr(self, 'ops'):\n",
    "            op1 = mu.assign(mu*self.gamma + mean*(1 - self.gamma))\n",
    "            op2 = sigma2.assign(sigma2*self.gamma + (mean2 - mean**2)*(1-self.gamma))\n",
    "            self.ops = [op1, op2]\n",
    "        \n",
    "        self.collected = [mu, sigma2]\n",
    "        self.adjust = [offset, scale]\n",
    "        self.stats = [mean, mean2-mean**2]\n",
    "        \n",
    "    def __call__(self, inp_flows=None, inverse=False):\n",
    "        \n",
    "        if isinstance(inp_flows, FlowSequence):\n",
    "            prev_flow_output = inp_flows[-1].output\n",
    "            dim = int(inp_flows[-1].dim)\n",
    "        elif isinstance(inp_flows, NVPFlow):\n",
    "            prev_flow_output = inp_flows.output\n",
    "            dim = inp_flows.dim\n",
    "            inp_flows = FlowSequence([inp_flows])\n",
    "        else:\n",
    "            raise ValueError('Input flow must be either a flowsequence or a flow')\n",
    "        \n",
    "        if hasattr(inp_flows[-1],'mask'):\n",
    "            self.mask = inp_flows[-1].mask\n",
    "            \n",
    "        self.dim = dim\n",
    "\n",
    "        out_flows = inp_flows.add(self)\n",
    "                \n",
    "        with tf.variable_scope(self.name, reuse=tf.AUTO_REUSE):\n",
    "            \n",
    "            self._update_stats(prev_flow_output)\n",
    "            \n",
    "            mean = tf.where(phase, self.stats[0], self.collected[0])\n",
    "            var = tf.where(phase, self.stats[1], self.collected[1])\n",
    "            \n",
    "            if not inverse:\n",
    "#                 self.output = tf.nn.batch_normalization(prev_flow_output, mean, \n",
    "#                                                         var, offset, scale, name='batch_norm', \n",
    "#                                                         variance_epsilon=1e-5)\n",
    "                self.output = self.adjust[0] + self.adjust[1]*(prev_flow_output - mean) / tf.sqrt(var)\n",
    "            else:\n",
    "                self.output = (prev_flow_output - self.adjust[0])*tf.sqrt(var) / self.adjust[1] + mean\n",
    "#                 self.output = tf.nn.batch_normalization(prev_flow_output, -mean, \n",
    "#                                                         1/var, -offset, 1/scale, name='batch_norm_inverse', \n",
    "#                                                         variance_epsilon=1e-5)\n",
    "            \n",
    "            self.logj =  tf.reduce_sum(tf.log(self.adjust[1]), axis=-1, name='logj')\n",
    "            self.logj -= 0.5*tf.reduce_sum(tf.log(var), axis=-1, name='logj')\n",
    "            \n",
    "        return out_flows"
   ]
  },
  {
   "cell_type": "code",
   "execution_count": 5,
   "metadata": {},
   "outputs": [],
   "source": [
    "inp = tf.placeholder(tf.float32, [None, 2])"
   ]
  },
  {
   "cell_type": "code",
   "execution_count": 6,
   "metadata": {},
   "outputs": [],
   "source": [
    "flow = NVPFlow(2, 'init_flow', inp)\n",
    "\n",
    "for i in range(0, 8):\n",
    "    flow = NVPFlow(name=str(i))(flow)\n",
    "    flow = BNFlow(name=str(i))(flow)"
   ]
  },
  {
   "cell_type": "code",
   "execution_count": 7,
   "metadata": {},
   "outputs": [],
   "source": [
    "flow[-1].output /= 8"
   ]
  },
  {
   "cell_type": "code",
   "execution_count": 8,
   "metadata": {},
   "outputs": [
    {
     "data": {
      "text/plain": [
       "TensorShape([])"
      ]
     },
     "execution_count": 8,
     "metadata": {},
     "output_type": "execute_result"
    }
   ],
   "source": [
    "flow[-1].logj.shape"
   ]
  },
  {
   "cell_type": "code",
   "execution_count": 9,
   "metadata": {},
   "outputs": [],
   "source": [
    "flows = FlowSequence(flow[1:])"
   ]
  },
  {
   "cell_type": "code",
   "execution_count": 10,
   "metadata": {},
   "outputs": [],
   "source": [
    "logj = flows.calc_logj()"
   ]
  },
  {
   "cell_type": "code",
   "execution_count": 11,
   "metadata": {},
   "outputs": [
    {
     "data": {
      "text/plain": [
       "<tf.Tensor 'add_15:0' shape=(?,) dtype=float32>"
      ]
     },
     "execution_count": 11,
     "metadata": {},
     "output_type": "execute_result"
    }
   ],
   "source": [
    "logj"
   ]
  },
  {
   "cell_type": "code",
   "execution_count": 12,
   "metadata": {},
   "outputs": [],
   "source": [
    "z = flows[-1].output\n",
    "gain = tf.reduce_sum(-(z**2)/2, axis=-1) + logj\n",
    "gain = tf.reduce_mean(gain)"
   ]
  },
  {
   "cell_type": "code",
   "execution_count": 13,
   "metadata": {},
   "outputs": [
    {
     "data": {
      "text/plain": [
       "<tf.Tensor 'truediv:0' shape=(?, 2) dtype=float32>"
      ]
     },
     "execution_count": 13,
     "metadata": {},
     "output_type": "execute_result"
    }
   ],
   "source": [
    "z"
   ]
  },
  {
   "cell_type": "code",
   "execution_count": 14,
   "metadata": {},
   "outputs": [],
   "source": [
    "train_op = tf.train.RMSPropOptimizer(0.001).minimize(-gain)\n",
    "train_op = [train_op] + flows.ops"
   ]
  },
  {
   "cell_type": "code",
   "execution_count": 15,
   "metadata": {},
   "outputs": [],
   "source": [
    "X, _ = make_moons(n_samples=1024, noise=0.13)"
   ]
  },
  {
   "cell_type": "code",
   "execution_count": 16,
   "metadata": {},
   "outputs": [
    {
     "data": {
      "image/png": "[encoded data removed]",
      "text/plain": [
       "<matplotlib.figure.Figure at 0x7fab24231630>"
      ]
     },
     "metadata": {},
     "output_type": "display_data"
    }
   ],
   "source": [
    "plt.scatter(X[:,0], X[:,1])\n",
    "plt.show()"
   ]
  },
  {
   "cell_type": "code",
   "execution_count": 17,
   "metadata": {},
   "outputs": [],
   "source": [
    "sess = tf.InteractiveSession()"
   ]
  },
  {
   "cell_type": "code",
   "execution_count": 18,
   "metadata": {},
   "outputs": [],
   "source": [
    "tf.global_variables_initializer().run()"
   ]
  },
  {
   "cell_type": "code",
   "execution_count": 19,
   "metadata": {
    "scrolled": false
   },
   "outputs": [
    {
     "data": {
      "text/plain": [
       "0.096722782"
      ]
     },
     "execution_count": 19,
     "metadata": {},
     "output_type": "execute_result"
    }
   ],
   "source": [
    "logj.eval({inp:X}).mean()"
   ]
  },
  {
   "cell_type": "code",
   "execution_count": 34,
   "metadata": {},
   "outputs": [
    {
     "data": {
      "image/png": "[encoded data removed]",
      "text/plain": [
       "<matplotlib.figure.Figure at 0x7faaf86d6c50>"
      ]
     },
     "metadata": {},
     "output_type": "display_data"
    }
   ],
   "source": [
    "ver = z.eval({inp:X})\n",
    "plt.scatter(ver[:,0], ver[:,1])\n",
    "plt.show()"
   ]
  },
  {
   "cell_type": "code",
   "execution_count": null,
   "metadata": {},
   "outputs": [],
   "source": []
  },
  {
   "cell_type": "code",
   "execution_count": 21,
   "metadata": {},
   "outputs": [],
   "source": [
    "bn = flows[3]"
   ]
  },
  {
   "cell_type": "code",
   "execution_count": 22,
   "metadata": {},
   "outputs": [
    {
     "data": {
      "text/plain": [
       "array([ 1.,  1.], dtype=float32)"
      ]
     },
     "execution_count": 22,
     "metadata": {},
     "output_type": "execute_result"
    }
   ],
   "source": [
    "bn.collected[1].eval()"
   ]
  },
  {
   "cell_type": "code",
   "execution_count": null,
   "metadata": {},
   "outputs": [],
   "source": []
  },
  {
   "cell_type": "code",
   "execution_count": null,
   "metadata": {
    "scrolled": true
   },
   "outputs": [
    {
     "name": "stdout",
     "output_type": "stream",
     "text": [
      "4.41406\n",
      "4.41451\n",
      "4.41365\n"
     ]
    }
   ],
   "source": [
    "for _ in range(1000):\n",
    "    for _ in range(1000):\n",
    "        sess.run(train_op, {inp:X})\n",
    "    print(gain.eval({inp:X}).mean())"
   ]
  },
  {
   "cell_type": "code",
   "execution_count": 35,
   "metadata": {},
   "outputs": [],
   "source": [
    "inverse = flows.apply(inp*8, inverse=True)"
   ]
  },
  {
   "cell_type": "code",
   "execution_count": 36,
   "metadata": {},
   "outputs": [],
   "source": [
    "restored = inverse.eval({inp:np.random.normal(size=[400,2]), phase: False})\n",
    "#restored = inverse.eval({inp:ver})"
   ]
  },
  {
   "cell_type": "code",
   "execution_count": 37,
   "metadata": {},
   "outputs": [],
   "source": [
    "restored = restored[np.logical_not(np.any(restored**2 > 10, axis=-1))]"
   ]
  },
  {
   "cell_type": "code",
   "execution_count": 38,
   "metadata": {},
   "outputs": [
    {
     "data": {
      "image/png": "[encoded data removed]",
      "text/plain": [
       "<matplotlib.figure.Figure at 0x7faaf83c58d0>"
      ]
     },
     "metadata": {},
     "output_type": "display_data"
    }
   ],
   "source": [
    "plt.scatter(restored[:,0], restored[:,1])\n",
    "plt.show()"
   ]
  },
  {
   "cell_type": "code",
   "execution_count": null,
   "metadata": {},
   "outputs": [],
   "source": []
  }
 ],
 "metadata": {
  "kernelspec": {
   "display_name": "py3.5",
   "language": "python",
   "name": "py3.5"
  },
  "language_info": {
   "codemirror_mode": {
    "name": "ipython",
    "version": 3
   },
   "file_extension": ".py",
   "mimetype": "text/x-python",
   "name": "python",
   "nbconvert_exporter": "python",
   "pygments_lexer": "ipython3",
   "version": "3.5.4"
  }
 },
 "nbformat": 4,
 "nbformat_minor": 2
}
