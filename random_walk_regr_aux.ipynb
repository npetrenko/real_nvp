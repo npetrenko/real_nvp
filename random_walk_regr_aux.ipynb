{
 "cells": [
  {
   "cell_type": "code",
   "execution_count": 1,
   "metadata": {},
   "outputs": [],
   "source": [
    "import tensorflow as tf\n",
    "from flows import NormalRW, DFlow, ResFlow, NVPFlow, phase, Normal, floatX\n",
    "import numpy as np\n",
    "from matplotlib import pyplot as plt\n",
    "import seaborn as sns\n",
    "\n",
    "np.random.seed(1234)"
   ]
  },
  {
   "cell_type": "code",
   "execution_count": null,
   "metadata": {},
   "outputs": [],
   "source": []
  },
  {
   "cell_type": "code",
   "execution_count": 2,
   "metadata": {},
   "outputs": [],
   "source": [
    "n = 32\n",
    "s1 = 0.01\n",
    "m1 = 0.\n",
    "s0 = 0.5\n",
    "dim = [3,4]\n",
    "\n",
    "params = []\n",
    "params.append(np.random.normal(size=dim, scale=s0))\n",
    "for i in range(n-1):\n",
    "    new = params[i] + np.random.normal(loc=m1, scale=s1, size=dim)\n",
    "    params.append(new)\n",
    "params = np.array(params)\n",
    "\n",
    "PWalk = NormalRW(dim[0]*dim[1], sigma=s1, mu=m1, sigma0=s0)"
   ]
  },
  {
   "cell_type": "code",
   "execution_count": 3,
   "metadata": {},
   "outputs": [
    {
     "data": {
      "text/plain": [
       "(32, 3, 4)"
      ]
     },
     "execution_count": 3,
     "metadata": {},
     "output_type": "execute_result"
    }
   ],
   "source": [
    "params.shape"
   ]
  },
  {
   "cell_type": "code",
   "execution_count": 4,
   "metadata": {},
   "outputs": [],
   "source": [
    "def autoregr(X, param):\n",
    "    d = param[:,:3]\n",
    "    X = np.matmul(X, d) + param[:,-1][np.newaxis] + np.random.normal(size=[1,3], scale=0.1)\n",
    "    return X\n",
    "\n",
    "def autoregr_tf(X, param):\n",
    "    d = param[:,:3]\n",
    "    X = tf.matmul(X, d) + param[:,-1][np.newaxis]\n",
    "    return X"
   ]
  },
  {
   "cell_type": "code",
   "execution_count": 5,
   "metadata": {},
   "outputs": [],
   "source": [
    "xs = [np.random.normal(size=[1,dim[0]])]\n",
    "for i in range(n-1):\n",
    "    xs.append(autoregr(xs[i], params[i]))\n",
    "xs = np.concatenate(xs)[np.newaxis].astype(floatX)"
   ]
  },
  {
   "cell_type": "code",
   "execution_count": 6,
   "metadata": {},
   "outputs": [
    {
     "data": {
      "text/plain": [
       "array([[[ 1.93464234e-01, -4.96744938e-01,  1.03272322e+00],\n",
       "        [-9.76239997e-02, -1.88743683e+00,  9.26786815e-01],\n",
       "        [ 5.36917771e-01, -2.25663952e+00,  1.63717046e-01],\n",
       "        [ 8.27881483e-01, -1.98987759e+00, -3.28633696e-03],\n",
       "        [ 7.81556550e-01, -1.86466661e+00,  2.03236832e-01],\n",
       "        [ 9.33991966e-01, -1.92975392e+00,  3.10027939e-01],\n",
       "        [ 8.13168619e-01, -2.24205006e+00,  4.95775228e-01],\n",
       "        [ 8.40425168e-01, -2.26924444e+00,  5.17452597e-01],\n",
       "        [ 1.01290167e+00, -2.41967576e+00,  3.10758760e-01],\n",
       "        [ 1.11011831e+00, -2.34616712e+00,  2.46843050e-01],\n",
       "        [ 9.21949782e-01, -2.41321504e+00,  4.54040305e-01],\n",
       "        [ 1.05251998e+00, -2.73868544e+00,  2.66188828e-01],\n",
       "        [ 1.15107757e+00, -2.60009152e+00,  2.65545837e-01],\n",
       "        [ 1.24777830e+00, -2.67049003e+00,  3.30953627e-01],\n",
       "        [ 1.28742060e+00, -2.81374993e+00,  3.97464491e-01],\n",
       "        [ 1.38806489e+00, -3.03565033e+00,  4.24650428e-01],\n",
       "        [ 1.54199937e+00, -3.24201725e+00,  3.27181018e-01],\n",
       "        [ 1.64945616e+00, -3.30763306e+00,  4.32842076e-01],\n",
       "        [ 1.67715098e+00, -3.56142105e+00,  4.89011508e-01],\n",
       "        [ 1.70455779e+00, -3.81277113e+00,  5.24452179e-01],\n",
       "        [ 1.74054713e+00, -4.00277656e+00,  5.07004600e-01],\n",
       "        [ 1.92271629e+00, -4.17368396e+00,  3.01686916e-01],\n",
       "        [ 1.82557829e+00, -4.01842288e+00,  3.43450316e-01],\n",
       "        [ 1.92190414e+00, -4.01721153e+00,  3.74232358e-01],\n",
       "        [ 1.94526082e+00, -3.90363721e+00,  4.60985115e-01],\n",
       "        [ 1.86210668e+00, -3.89645700e+00,  5.49427791e-01],\n",
       "        [ 1.96767737e+00, -4.09566053e+00,  6.70465119e-01],\n",
       "        [ 2.24581226e+00, -4.40313632e+00,  7.11443554e-01],\n",
       "        [ 2.28072387e+00, -4.86011846e+00,  1.01923970e+00],\n",
       "        [ 2.53726864e+00, -5.38275559e+00,  1.07399277e+00],\n",
       "        [ 2.88014829e+00, -5.89584130e+00,  1.01164585e+00],\n",
       "        [ 2.95578179e+00, -6.33088860e+00,  1.10525663e+00]]])"
      ]
     },
     "execution_count": 6,
     "metadata": {},
     "output_type": "execute_result"
    }
   ],
   "source": [
    "xs"
   ]
  },
  {
   "cell_type": "code",
   "execution_count": 7,
   "metadata": {},
   "outputs": [],
   "source": [
    "def create_step_flow(name=None, prev_flow_output=None, init_sigma=1.):\n",
    "    with tf.variable_scope(name, reuse=None):\n",
    "        if prev_flow_output is not None:\n",
    "            aux_vars = prev_flow_output\n",
    "        else:\n",
    "            aux_vars = None\n",
    "            \n",
    "        step_flow = DFlow([ResFlow(dim=dim[0]*dim[1], name='res{}'.format(i), aux_vars=aux_vars)\\\n",
    "                           for i in range(4)], init_sigma=init_sigma)\n",
    "    return step_flow"
   ]
  },
  {
   "cell_type": "code",
   "execution_count": 8,
   "metadata": {},
   "outputs": [],
   "source": [
    "flows = [create_step_flow('step_flow0', init_sigma=s0)]\n",
    "outputs = [flows[-1].output]\n",
    "for i in range(n-1):\n",
    "    new = create_step_flow('step_flow' + str(i+1), outputs[-1], init_sigma=s1)\n",
    "    flows.append(new)\n",
    "    outputs.append(outputs[-1] + new.output)"
   ]
  },
  {
   "cell_type": "code",
   "execution_count": 9,
   "metadata": {},
   "outputs": [],
   "source": [
    "outputs = tf.concat(outputs, axis=0)[tf.newaxis]"
   ]
  },
  {
   "cell_type": "code",
   "execution_count": 10,
   "metadata": {},
   "outputs": [
    {
     "data": {
      "text/plain": [
       "<tf.Tensor 'strided_slice:0' shape=(1, 32, 12) dtype=float64>"
      ]
     },
     "execution_count": 10,
     "metadata": {},
     "output_type": "execute_result"
    }
   ],
   "source": [
    "outputs"
   ]
  },
  {
   "cell_type": "code",
   "execution_count": 11,
   "metadata": {},
   "outputs": [],
   "source": [
    "prior = PWalk.logdens(outputs)"
   ]
  },
  {
   "cell_type": "code",
   "execution_count": 12,
   "metadata": {},
   "outputs": [
    {
     "data": {
      "text/plain": [
       "<tf.Tensor 'add_33:0' shape=() dtype=float64>"
      ]
     },
     "execution_count": 12,
     "metadata": {},
     "output_type": "execute_result"
    }
   ],
   "source": [
    "prior"
   ]
  },
  {
   "cell_type": "code",
   "execution_count": 13,
   "metadata": {},
   "outputs": [],
   "source": [
    "def create_loglik():\n",
    "    obs_d = Normal(dim=None, sigma=0.1, mu=0)\n",
    "    out = tf.reshape(outputs, [n, 3, 4])\n",
    "    \n",
    "    ll = 0\n",
    "    for i in range(n-1):\n",
    "        pred = xs[0,i+1] - autoregr_tf(xs[0,i][np.newaxis], out[i])\n",
    "        ll += obs_d.logdens(pred)\n",
    "    return ll\n",
    "\n",
    "def create_loglik2():\n",
    "    obs_d = Normal(dim=None, sigma=0.1, mu=0)\n",
    "    out = tf.reshape(outputs, [n, 3, 4])\n",
    "    \n",
    "    def step1(current):\n",
    "        X = current[0][np.newaxis]\n",
    "        param = current[1]\n",
    "        d = param[:,:3]\n",
    "        X = tf.matmul(X, d)[0] + param[:,-1]\n",
    "        return X\n",
    "    \n",
    "    ar = tf.map_fn(step1, (xs[0][:-1], out[:-1]), dtype=tf.float64)\n",
    "    return obs_d.logdens(ar - xs[0][1:])"
   ]
  },
  {
   "cell_type": "code",
   "execution_count": 14,
   "metadata": {},
   "outputs": [],
   "source": [
    "logl = create_loglik2()"
   ]
  },
  {
   "cell_type": "code",
   "execution_count": 15,
   "metadata": {},
   "outputs": [],
   "source": [
    "ent = tf.reduce_sum([flow.logdens for flow in flows])"
   ]
  },
  {
   "cell_type": "code",
   "execution_count": 16,
   "metadata": {},
   "outputs": [
    {
     "data": {
      "text/plain": [
       "<tf.Tensor 'Sum_3:0' shape=() dtype=float64>"
      ]
     },
     "execution_count": 16,
     "metadata": {},
     "output_type": "execute_result"
    }
   ],
   "source": [
    "ent"
   ]
  },
  {
   "cell_type": "code",
   "execution_count": 17,
   "metadata": {},
   "outputs": [],
   "source": [
    "loss = -logl - prior + ent\n",
    "loss /= n*dim[0]*dim[1]"
   ]
  },
  {
   "cell_type": "code",
   "execution_count": 18,
   "metadata": {},
   "outputs": [],
   "source": [
    "opt = tf.train.AdamOptimizer(0.0001).minimize(loss)"
   ]
  },
  {
   "cell_type": "code",
   "execution_count": 19,
   "metadata": {},
   "outputs": [],
   "source": [
    "sess = tf.InteractiveSession()"
   ]
  },
  {
   "cell_type": "code",
   "execution_count": 20,
   "metadata": {},
   "outputs": [],
   "source": [
    "tf.global_variables_initializer().run()"
   ]
  },
  {
   "cell_type": "code",
   "execution_count": 21,
   "metadata": {},
   "outputs": [
    {
     "data": {
      "text/plain": [
       "(804.7430273762261, 1616.8479221837167, -164236.08240733427)"
      ]
     },
     "execution_count": 21,
     "metadata": {},
     "output_type": "execute_result"
    }
   ],
   "source": [
    "prior.eval(), ent.eval(), logl.eval()"
   ]
  },
  {
   "cell_type": "code",
   "execution_count": 22,
   "metadata": {},
   "outputs": [
    {
     "data": {
      "text/plain": [
       "95.40818619122581"
      ]
     },
     "execution_count": 22,
     "metadata": {},
     "output_type": "execute_result"
    }
   ],
   "source": [
    "loss.eval()"
   ]
  },
  {
   "cell_type": "code",
   "execution_count": 1,
   "metadata": {
    "scrolled": true
   },
   "outputs": [
    {
     "ename": "NameError",
     "evalue": "name 'sess' is not defined",
     "output_type": "error",
     "traceback": [
      "\u001b[0;31m---------------------------------------------------------------------------\u001b[0m",
      "\u001b[0;31mNameError\u001b[0m                                 Traceback (most recent call last)",
      "\u001b[0;32m<timed exec>\u001b[0m in \u001b[0;36m<module>\u001b[0;34m()\u001b[0m\n",
      "\u001b[0;31mNameError\u001b[0m: name 'sess' is not defined"
     ]
    }
   ],
   "source": [
    "%%time\n",
    "for _ in range(500):\n",
    "    for _ in range(200):\n",
    "        l, _ = sess.run([loss, opt], {phase:True})\n",
    "    print(l)"
   ]
  },
  {
   "cell_type": "code",
   "execution_count": 24,
   "metadata": {},
   "outputs": [],
   "source": [
    "out = tf.reshape(outputs, [n, 3, 4])"
   ]
  },
  {
   "cell_type": "code",
   "execution_count": 58,
   "metadata": {},
   "outputs": [],
   "source": [
    "samples = []\n",
    "for _ in range(1000):\n",
    "    s = out.eval()\n",
    "    samples.append(s)\n",
    "samples = np.array(samples)"
   ]
  },
  {
   "cell_type": "code",
   "execution_count": 59,
   "metadata": {},
   "outputs": [
    {
     "data": {
      "text/plain": [
       "(1000, 32, 3, 4)"
      ]
     },
     "execution_count": 59,
     "metadata": {},
     "output_type": "execute_result"
    }
   ],
   "source": [
    "samples.shape"
   ]
  },
  {
   "cell_type": "code",
   "execution_count": 60,
   "metadata": {},
   "outputs": [
    {
     "data": {
      "image/png": "[encoded data removed]",
      "text/plain": [
       "<matplotlib.figure.Figure at 0x7fd2007c5b00>"
      ]
     },
     "metadata": {},
     "output_type": "display_data"
    }
   ],
   "source": [
    "sns.kdeplot(samples[:,1,2,3], samples[:,1,2,1])\n",
    "plt.show()"
   ]
  },
  {
   "cell_type": "code",
   "execution_count": 61,
   "metadata": {},
   "outputs": [
    {
     "data": {
      "text/plain": [
       "array([[ 0.26256903, -0.6518162 ,  0.74696963, -0.15384126],\n",
       "       [-0.3732683 ,  0.49052328,  0.44550811, -0.37385512],\n",
       "       [ 0.05862716, -1.18001719,  0.62563793,  0.5192165 ]])"
      ]
     },
     "execution_count": 61,
     "metadata": {},
     "output_type": "execute_result"
    }
   ],
   "source": [
    "t = 18\n",
    "params[t]"
   ]
  },
  {
   "cell_type": "code",
   "execution_count": 62,
   "metadata": {},
   "outputs": [
    {
     "data": {
      "text/plain": [
       "array([[ 0.23084176, -0.5141754 ,  0.64686101, -0.20456169],\n",
       "       [-0.44168648,  0.55376667,  0.33295568, -0.44601397],\n",
       "       [-0.04107092, -0.95437647,  0.58843742,  0.27768149]])"
      ]
     },
     "execution_count": 62,
     "metadata": {},
     "output_type": "execute_result"
    }
   ],
   "source": [
    "np.mean(samples[:,t], axis=0)"
   ]
  },
  {
   "cell_type": "code",
   "execution_count": 51,
   "metadata": {},
   "outputs": [
    {
     "data": {
      "text/plain": [
       "array([[-0.03363443,  0.01594778, -0.05966114, -0.03184394],\n",
       "       [ 0.01225283, -0.06333269,  0.01810212,  0.05804125],\n",
       "       [-0.0916567 ,  0.03942744, -0.0750497 , -0.04911167]])"
      ]
     },
     "execution_count": 51,
     "metadata": {},
     "output_type": "execute_result"
    }
   ],
   "source": [
    "params[0] - params[-1]"
   ]
  },
  {
   "cell_type": "code",
   "execution_count": null,
   "metadata": {},
   "outputs": [],
   "source": []
  }
 ],
 "metadata": {
  "kernelspec": {
   "display_name": "Python 3.6 (sys p)",
   "language": "python",
   "name": "py3.6"
  },
  "language_info": {
   "codemirror_mode": {
    "name": "ipython",
    "version": 3
   },
   "file_extension": ".py",
   "mimetype": "text/x-python",
   "name": "python",
   "nbconvert_exporter": "python",
   "pygments_lexer": "ipython3",
   "version": "3.6.4"
  }
 },
 "nbformat": 4,
 "nbformat_minor": 2
}
