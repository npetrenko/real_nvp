{
 "cells": [
  {
   "cell_type": "code",
   "execution_count": 1,
   "metadata": {},
   "outputs": [],
   "source": [
    "import tensorflow as tf\n",
    "from flows import NormalRW, DFlow, ResFlow, NVPFlow, phase, Normal, floatX\n",
    "import numpy as np\n",
    "from matplotlib import pyplot as plt\n",
    "import seaborn as sns\n",
    "\n",
    "np.random.seed(1234)"
   ]
  },
  {
   "cell_type": "code",
   "execution_count": 2,
   "metadata": {},
   "outputs": [],
   "source": [
    "n = 32\n",
    "s1 = 0.01\n",
    "m1 = 0.\n",
    "s0 = 0.5\n",
    "dim = [3,4]\n",
    "\n",
    "params = []\n",
    "params.append(np.random.normal(size=dim, scale=s0))\n",
    "for i in range(n-1):\n",
    "    new = params[i] + np.random.normal(loc=m1, scale=s1, size=dim)\n",
    "    params.append(new)\n",
    "params = np.array(params)\n",
    "\n",
    "PWalk = NormalRW(dim[0]*dim[1], sigma=s1, mu=m1, sigma0=s0)"
   ]
  },
  {
   "cell_type": "code",
   "execution_count": 3,
   "metadata": {},
   "outputs": [
    {
     "data": {
      "text/plain": [
       "(32, 3, 4)"
      ]
     },
     "execution_count": 3,
     "metadata": {},
     "output_type": "execute_result"
    }
   ],
   "source": [
    "params.shape"
   ]
  },
  {
   "cell_type": "code",
   "execution_count": 4,
   "metadata": {},
   "outputs": [],
   "source": [
    "def autoregr(X, param):\n",
    "    d = param[:,:3]\n",
    "    X = np.matmul(d, X) + param[:,-1] + np.random.normal(size=[3], scale=0.1)\n",
    "    return X\n",
    "\n",
    "def autoregr_tf(X, param):\n",
    "    d = param[:,:3]\n",
    "    X = tf.matmul(d, X) + param[:,-1]\n",
    "    return X"
   ]
  },
  {
   "cell_type": "code",
   "execution_count": 5,
   "metadata": {},
   "outputs": [],
   "source": [
    "xs = [np.random.normal(size=dim[0])]\n",
    "for i in range(n-1):\n",
    "    xs.append(autoregr(xs[i], params[i]))\n",
    "xs = np.array(xs)[np.newaxis,:].astype(floatX)"
   ]
  },
  {
   "cell_type": "code",
   "execution_count": 6,
   "metadata": {},
   "outputs": [
    {
     "data": {
      "text/plain": [
       "array([[[ 0.19346423, -0.49674494,  1.03272322],\n",
       "        [ 0.75089704, -0.24004044,  1.56023568],\n",
       "        [ 1.32750344, -0.11221079,  1.71005292],\n",
       "        [ 1.52194586, -0.21827614,  1.65352565],\n",
       "        [ 1.59104575, -0.36965128,  1.71710531],\n",
       "        [ 1.94791322, -0.38744022,  1.88844369],\n",
       "        [ 2.00793466, -0.50160722,  2.08154117],\n",
       "        [ 2.16763723, -0.23440914,  2.53786771],\n",
       "        [ 2.5673579 , -0.02512258,  2.26939423],\n",
       "        [ 2.32300895, -0.17351812,  1.89459183],\n",
       "        [ 1.91274935, -0.4183005 ,  1.98138751],\n",
       "        [ 2.11211229, -0.54368057,  2.17311137],\n",
       "        [ 2.2869644 , -0.4955708 ,  2.58477752],\n",
       "        [ 2.76532993, -0.36920278,  2.7437916 ],\n",
       "        [ 2.88744677, -0.40642631,  2.69340905],\n",
       "        [ 2.91296897, -0.61181592,  2.76246208],\n",
       "        [ 3.15824728, -0.70285377,  2.91540517],\n",
       "        [ 3.39448326, -0.72092846,  3.2602625 ],\n",
       "        [ 3.75839297, -0.59519568,  3.5311124 ],\n",
       "        [ 3.91858443, -0.51728211,  3.68425203],\n",
       "        [ 3.97623264, -0.57289272,  3.72085533],\n",
       "        [ 4.12955873, -0.66336853,  3.7281861 ],\n",
       "        [ 3.96204904, -0.68033147,  4.00989857],\n",
       "        [ 4.31831465, -0.61191961,  4.20290985],\n",
       "        [ 4.50328387, -0.57058459,  4.11987957],\n",
       "        [ 4.39410847, -0.58483606,  3.93597257],\n",
       "        [ 4.28950363, -0.80287612,  4.04411402],\n",
       "        [ 4.66266754, -0.83776734,  4.36135428],\n",
       "        [ 4.95336598, -0.92502272,  4.79470089],\n",
       "        [ 5.52208888, -0.75127816,  5.16214536],\n",
       "        [ 5.88188106, -0.87053368,  5.17598161],\n",
       "        [ 6.01769162, -0.97176052,  5.37127499]]])"
      ]
     },
     "execution_count": 6,
     "metadata": {},
     "output_type": "execute_result"
    }
   ],
   "source": [
    "xs"
   ]
  },
  {
   "cell_type": "code",
   "execution_count": 7,
   "metadata": {},
   "outputs": [],
   "source": [
    "def create_step_flow(name=None, prev_flow_output=None, init_sigma=1.):\n",
    "    with tf.variable_scope(name, reuse=None):\n",
    "        if prev_flow_output is not None:\n",
    "            aux_vars = prev_flow_output\n",
    "        else:\n",
    "            aux_vars = None\n",
    "            \n",
    "        step_flow = DFlow([ResFlow(dim=dim[0]*dim[1], name='res{}'.format(i), aux_vars=aux_vars)\\\n",
    "                           for i in range(4)], init_sigma=init_sigma)\n",
    "    return step_flow"
   ]
  },
  {
   "cell_type": "code",
   "execution_count": 8,
   "metadata": {},
   "outputs": [],
   "source": [
    "flows = [create_step_flow('step_flow0', init_sigma=s0)]\n",
    "outputs = [flows[-1].output]\n",
    "for i in range(n-1):\n",
    "    new = create_step_flow('step_flow' + str(i+1), outputs[-1], init_sigma=s1)\n",
    "    flows.append(new)\n",
    "    outputs.append(outputs[-1] + new.output)"
   ]
  },
  {
   "cell_type": "code",
   "execution_count": 9,
   "metadata": {},
   "outputs": [],
   "source": [
    "outputs = tf.concat(outputs, axis=0)[tf.newaxis]"
   ]
  },
  {
   "cell_type": "code",
   "execution_count": 10,
   "metadata": {},
   "outputs": [
    {
     "data": {
      "text/plain": [
       "<tf.Tensor 'strided_slice:0' shape=(1, 32, 12) dtype=float64>"
      ]
     },
     "execution_count": 10,
     "metadata": {},
     "output_type": "execute_result"
    }
   ],
   "source": [
    "outputs"
   ]
  },
  {
   "cell_type": "code",
   "execution_count": 11,
   "metadata": {},
   "outputs": [],
   "source": [
    "prior = PWalk.logdens(outputs)"
   ]
  },
  {
   "cell_type": "code",
   "execution_count": 12,
   "metadata": {},
   "outputs": [],
   "source": [
    "#outputs = tf.cast(outputs, tf.float64)"
   ]
  },
  {
   "cell_type": "code",
   "execution_count": 13,
   "metadata": {},
   "outputs": [
    {
     "data": {
      "text/plain": [
       "<tf.Tensor 'add_33:0' shape=() dtype=float64>"
      ]
     },
     "execution_count": 13,
     "metadata": {},
     "output_type": "execute_result"
    }
   ],
   "source": [
    "prior"
   ]
  },
  {
   "cell_type": "code",
   "execution_count": 14,
   "metadata": {},
   "outputs": [],
   "source": [
    "def create_loglik():\n",
    "    obs_d = Normal(dim=None, sigma=0.1, mu=0)\n",
    "    out = tf.reshape(outputs, [n, 3, 4])\n",
    "    \n",
    "    ll = 0\n",
    "    for i in range(n-1):\n",
    "        pred = xs[0,i+1] - autoregr_tf(xs[0,i][:,np.newaxis], out[i])\n",
    "        ll += obs_d.logdens(pred)\n",
    "    return ll"
   ]
  },
  {
   "cell_type": "code",
   "execution_count": 15,
   "metadata": {},
   "outputs": [],
   "source": [
    "logl = create_loglik()"
   ]
  },
  {
   "cell_type": "code",
   "execution_count": 16,
   "metadata": {},
   "outputs": [
    {
     "data": {
      "text/plain": [
       "(1, 32, 3)"
      ]
     },
     "execution_count": 16,
     "metadata": {},
     "output_type": "execute_result"
    }
   ],
   "source": [
    "xs.shape"
   ]
  },
  {
   "cell_type": "code",
   "execution_count": 17,
   "metadata": {},
   "outputs": [
    {
     "data": {
      "text/plain": [
       "<tf.Tensor 'add_126:0' shape=() dtype=float64>"
      ]
     },
     "execution_count": 17,
     "metadata": {},
     "output_type": "execute_result"
    }
   ],
   "source": [
    "logl"
   ]
  },
  {
   "cell_type": "code",
   "execution_count": 18,
   "metadata": {},
   "outputs": [],
   "source": [
    "ent = tf.reduce_sum([flow.logdens for flow in flows])"
   ]
  },
  {
   "cell_type": "code",
   "execution_count": 19,
   "metadata": {},
   "outputs": [
    {
     "data": {
      "text/plain": [
       "<tf.Tensor 'Sum_33:0' shape=() dtype=float64>"
      ]
     },
     "execution_count": 19,
     "metadata": {},
     "output_type": "execute_result"
    }
   ],
   "source": [
    "ent"
   ]
  },
  {
   "cell_type": "code",
   "execution_count": 20,
   "metadata": {},
   "outputs": [],
   "source": [
    "loss = -logl - prior + ent\n",
    "loss /= n*dim[0]*dim[1]"
   ]
  },
  {
   "cell_type": "code",
   "execution_count": 21,
   "metadata": {},
   "outputs": [],
   "source": [
    "opt = tf.train.AdamOptimizer(0.0001).minimize(loss)"
   ]
  },
  {
   "cell_type": "code",
   "execution_count": null,
   "metadata": {},
   "outputs": [],
   "source": []
  },
  {
   "cell_type": "code",
   "execution_count": 22,
   "metadata": {},
   "outputs": [],
   "source": [
    "sess = tf.InteractiveSession()"
   ]
  },
  {
   "cell_type": "code",
   "execution_count": 23,
   "metadata": {},
   "outputs": [],
   "source": [
    "tf.global_variables_initializer().run()"
   ]
  },
  {
   "cell_type": "code",
   "execution_count": 24,
   "metadata": {},
   "outputs": [
    {
     "data": {
      "text/plain": [
       "(869.6709343350302, 1627.4248843349023, -154913.24732602533)"
      ]
     },
     "execution_count": 24,
     "metadata": {},
     "output_type": "execute_result"
    }
   ],
   "source": [
    "prior.eval(), ent.eval(), logl.eval()"
   ]
  },
  {
   "cell_type": "code",
   "execution_count": 25,
   "metadata": {},
   "outputs": [
    {
     "data": {
      "text/plain": [
       "622.6644038429033"
      ]
     },
     "execution_count": 25,
     "metadata": {},
     "output_type": "execute_result"
    }
   ],
   "source": [
    "loss.eval()"
   ]
  },
  {
   "cell_type": "code",
   "execution_count": 45,
   "metadata": {
    "scrolled": true
   },
   "outputs": [
    {
     "name": "stdout",
     "output_type": "stream",
     "text": [
      "9.617019380381883\n",
      "7.957151190116934\n",
      "11.453441925682503\n",
      "9.461459369196353\n",
      "9.284540473440012\n",
      "6.871216553627151\n",
      "7.127322788288763\n",
      "7.13288213545372\n",
      "8.49180196354145\n",
      "6.14686145763336\n",
      "8.287670531395213\n",
      "7.500339389566393\n",
      "6.94914893153094\n",
      "7.879517153713572\n",
      "9.209678994049517\n",
      "8.70732062700039\n",
      "8.959132093528154\n",
      "7.095996865782825\n",
      "8.04309717801275\n",
      "7.302153255891287\n",
      "6.408186005427873\n",
      "7.802891595138223\n",
      "7.342779298244456\n",
      "8.15859663378692\n",
      "7.063807408375086\n",
      "6.008644228020079\n",
      "9.59801243915157\n",
      "6.677829012878007\n",
      "8.976710986217837\n",
      "8.129521947647502\n",
      "7.944670471332571\n",
      "7.9620420074089475\n",
      "6.805880667385186\n",
      "8.039239663265024\n",
      "6.3301889860278635\n",
      "7.597241472149203\n",
      "7.932262518801628\n",
      "8.176288762318002\n",
      "6.502400097627304\n",
      "7.4556449279540615\n",
      "6.757014345921299\n",
      "6.404180623773574\n",
      "7.662706107142998\n",
      "7.4397939015557135\n",
      "6.868078071720554\n",
      "7.5444376218969715\n",
      "7.441699633599939\n",
      "6.334399672776745\n",
      "5.847251456222099\n",
      "6.467963012423701\n",
      "6.532186272701629\n",
      "6.561276594117643\n",
      "6.084097919320379\n",
      "7.332999853445979\n",
      "6.148643694752117\n",
      "6.38186302555216\n",
      "6.553171701762271\n",
      "6.996364975981888\n",
      "6.330877695158937\n",
      "6.51672431468021\n",
      "6.816557817757297\n",
      "6.9288306457429405\n",
      "6.782049228291155\n",
      "6.056623123193727\n",
      "6.142500579296581\n",
      "6.412004546721665\n",
      "6.764688257017639\n",
      "6.065634781993577\n",
      "6.915661864111507\n",
      "6.368483933431595\n",
      "6.057503176985679\n",
      "6.430173042613121\n",
      "6.062195254963119\n",
      "6.152888922486689\n",
      "6.871058705239317\n",
      "6.628740409899628\n",
      "6.129302709697048\n",
      "5.932382805875537\n",
      "5.887554829860245\n",
      "6.8243500060562665\n",
      "5.889361422983722\n",
      "7.018262593167506\n",
      "6.102651579676582\n",
      "6.143166719182609\n",
      "5.950794463882034\n",
      "6.6547260907844175\n",
      "6.484773636832671\n",
      "6.014699784900205\n",
      "6.051376744819639\n",
      "6.141308766297828\n",
      "5.919085105430159\n",
      "6.278151581087286\n",
      "6.004485814339539\n",
      "7.274357569704556\n",
      "6.442026857703566\n",
      "6.5949509870446805\n",
      "5.892678765846186\n",
      "5.86637711529832\n",
      "6.3849862465707234\n",
      "6.2091288066619805\n",
      "6.004245971058698\n",
      "6.037179694535193\n",
      "6.473387848004168\n",
      "5.941041345078759\n",
      "6.547941468669831\n",
      "6.883480220932992\n",
      "6.031870699739744\n",
      "5.8525301041077284\n",
      "5.96743634972961\n",
      "5.948668184583408\n",
      "6.219930912460295\n",
      "5.933904040146931\n",
      "6.253815883316876\n",
      "5.92786071831674\n",
      "5.906619847266921\n",
      "6.185159058148758\n",
      "6.0635211513768885\n",
      "5.9042064371536265\n",
      "5.878281269224675\n",
      "6.37425326250456\n",
      "6.491877814675225\n",
      "6.087724522658719\n",
      "5.991774936766208\n",
      "5.737398899792384\n",
      "6.262173601634861\n",
      "5.706966837167539\n",
      "5.969828786392195\n",
      "5.7101613958584885\n",
      "5.830240578966376\n",
      "5.971584230865737\n",
      "6.229813404517795\n",
      "5.80458452639154\n",
      "5.643683054558378\n",
      "5.856653081152275\n",
      "6.001419911918471\n",
      "6.052026374270977\n",
      "6.37998922565253\n",
      "5.858267537660581\n",
      "5.906666721057678\n",
      "5.831896426858201\n",
      "5.898779019246368\n",
      "5.93497256629036\n",
      "5.890952434434553\n",
      "6.228276206644362\n",
      "5.901608909284256\n",
      "5.813457625867067\n",
      "5.95226371199684\n",
      "6.428511362656725\n",
      "5.795835687342944\n",
      "5.9808993542616316\n",
      "6.093190355892456\n",
      "5.81865233258024\n",
      "5.733416980698659\n",
      "5.789515329886878\n",
      "5.898083504061124\n",
      "7.456663492025588\n",
      "5.92843879614205\n",
      "5.947110385406849\n",
      "5.897314127951547\n",
      "6.008424174716194\n",
      "5.986141070523014\n",
      "5.972219018469804\n",
      "5.821504340951216\n",
      "5.898052242039544\n",
      "6.270330876331362\n",
      "5.765784100139526\n",
      "6.144907681632026\n",
      "6.046777439601811\n",
      "5.96033435377273\n",
      "5.765124519548343\n",
      "5.986044752358754\n",
      "5.814270206572182\n",
      "5.823237847550897\n",
      "5.981585442443745\n",
      "5.709607714429431\n",
      "5.851465159659558\n",
      "5.921591879981508\n",
      "5.836487386597497\n",
      "5.789830002108005\n",
      "5.83101020722624\n",
      "5.808205103187782\n",
      "5.885635599434109\n",
      "5.903815759212454\n",
      "5.755207286628514\n",
      "5.959801558820345\n",
      "6.109019110855532\n",
      "5.823937194907356\n",
      "5.883163330658463\n",
      "5.716464143101285\n",
      "5.775888993188318\n",
      "5.843305333102194\n",
      "5.729794849889522\n",
      "5.7538157829035015\n",
      "5.824517707708892\n",
      "5.751492460177345\n",
      "5.734310543199842\n",
      "5.773776937220354\n",
      "5.8720555446457725\n",
      "5.759357384861424\n",
      "5.828292723958687\n",
      "5.735016048613043\n",
      "5.750040061733294\n",
      "5.936524295598036\n",
      "5.790482379545307\n",
      "5.784101799312819\n",
      "5.781242088035292\n",
      "5.67696861434397\n",
      "5.999883655259482\n",
      "5.726813876587085\n",
      "5.747208122525673\n",
      "5.903560461021162\n",
      "5.782318657697818\n",
      "5.683849037244593\n",
      "5.811230118756426\n",
      "5.677547537944133\n",
      "5.7706629536657905\n",
      "5.772271734865588\n",
      "5.75418510605326\n",
      "5.720740401764676\n",
      "5.943616241402382\n",
      "5.955700379015724\n",
      "5.791662899821183\n",
      "5.765427759637703\n",
      "5.797764612154687\n",
      "5.735966234946241\n",
      "5.721825719406822\n",
      "5.883603352189133\n",
      "5.649533017678948\n",
      "5.899350617036009\n",
      "5.836395495789979\n",
      "5.751150216575521\n",
      "5.669738706813637\n",
      "5.9985870068994736\n",
      "5.966645606401824\n",
      "5.905612009584453\n",
      "5.771248582654494\n",
      "5.847548691825028\n",
      "5.978933521023144\n",
      "5.742492073196032\n",
      "5.686404474741432\n",
      "5.744246957650547\n",
      "5.68374460770762\n",
      "5.757801079726451\n",
      "5.779135987898709\n",
      "5.729268638636771\n",
      "5.809668521203456\n",
      "5.755230504808158\n",
      "5.697972752413374\n",
      "5.837970834307591\n",
      "5.695635129227777\n",
      "5.729512006880332\n",
      "5.9248283223266505\n",
      "5.668549570544486\n",
      "5.8672332349536935\n",
      "5.7857468483234\n",
      "5.661216584857648\n",
      "5.832397751293523\n",
      "5.7295198037121\n",
      "5.807716975841946\n",
      "5.700730643447983\n",
      "5.928019623425125\n",
      "5.649786174772078\n",
      "5.788552817694906\n",
      "5.775861112353906\n",
      "5.973279907792695\n",
      "5.77929588977392\n",
      "5.875929608789036\n",
      "5.775584175306972\n",
      "5.776275226493002\n",
      "5.74116580753152\n",
      "5.664800296583746\n",
      "5.757331278071162\n",
      "5.929219796570781\n",
      "5.9183204927533914\n",
      "5.698383773066237\n",
      "5.659546088759335\n",
      "5.85011273441089\n",
      "5.6724956027097555\n",
      "5.668136546125738\n",
      "5.7260383749713055\n",
      "5.736902032774854\n",
      "5.8790632433733\n",
      "5.752464004054105\n",
      "5.690597931689143\n",
      "5.701604991511861\n",
      "5.733388689989037\n",
      "5.9359114709871506\n",
      "5.692202787969769\n",
      "5.784392102700284\n",
      "5.806263114666113\n",
      "5.82151277739327\n",
      "5.828429827099025\n",
      "5.783602060334992\n",
      "5.761977916402803\n",
      "5.930244068686853\n",
      "5.6797598176656665\n",
      "5.931271495709759\n",
      "5.685181774178505\n",
      "5.671193951993749\n",
      "5.629734233056272\n",
      "5.7126711881639345\n",
      "5.70707519412932\n",
      "5.659858419160408\n",
      "5.828560779831097\n",
      "5.661587759525098\n",
      "5.660477376385515\n",
      "5.876388318593924\n",
      "5.7890642276045154\n",
      "5.733774073644653\n",
      "5.744931137081273\n",
      "5.918448229616029\n",
      "5.66362277529007\n",
      "5.650728273390457\n",
      "5.7533141631210265\n",
      "5.691376882858545\n",
      "5.651796478840424\n",
      "5.696286740595461\n",
      "5.800000247840763\n",
      "5.7217978234433495\n",
      "5.772461130668339\n",
      "5.795601687450639\n",
      "5.783889331573129\n",
      "5.750567239295237\n",
      "5.672693655651245\n",
      "5.830414649530187\n",
      "5.6421717845410475\n",
      "5.697515049300288\n",
      "5.698827936952466\n",
      "5.773901376141488\n",
      "5.706970677375932\n",
      "5.769187407259534\n",
      "5.657453906002023\n",
      "5.771845090640987\n",
      "5.699390718397299\n",
      "5.720211303035075\n",
      "5.778250854747879\n",
      "5.789532040727971\n",
      "5.707716717902206\n",
      "5.740140079459072\n",
      "5.68178563664711\n",
      "5.677868464149616\n",
      "5.649003361992288\n",
      "5.663016093799361\n",
      "5.698698613287223\n",
      "5.750320623655935\n",
      "5.69800610054985\n",
      "5.671803317350509\n",
      "5.720626499372934\n",
      "5.6179738103825185\n",
      "5.674501366221077\n",
      "5.721321301929748\n",
      "5.790862308901648\n",
      "5.759086496199875\n",
      "5.712711127147284\n",
      "5.683448525000145\n",
      "5.6563647385561096\n",
      "5.783351508429259\n",
      "5.693380544738685\n",
      "5.728954157687276\n",
      "5.731923908747532\n",
      "5.733118339735726\n",
      "5.701294846409916\n",
      "5.622033750437475\n",
      "5.83703979544659\n",
      "5.677861878306892\n",
      "5.657760313815911\n",
      "5.734545239356609\n",
      "5.729574812080066\n",
      "5.690732643517848\n",
      "5.699385167409209\n",
      "5.690972315902942\n",
      "5.614502519782651\n",
      "5.603522411564341\n",
      "5.746918649070733\n",
      "5.607211338358625\n",
      "5.76260646171097\n",
      "5.759645017725174\n"
     ]
    },
    {
     "ename": "KeyboardInterrupt",
     "evalue": "",
     "output_type": "error",
     "traceback": [
      "\u001b[0;31m---------------------------------------------------------------------------\u001b[0m",
      "\u001b[0;31mKeyboardInterrupt\u001b[0m                         Traceback (most recent call last)",
      "\u001b[0;32m<ipython-input-45-679694a1d564>\u001b[0m in \u001b[0;36m<module>\u001b[0;34m()\u001b[0m\n\u001b[1;32m      1\u001b[0m \u001b[0;32mfor\u001b[0m \u001b[0m_\u001b[0m \u001b[0;32min\u001b[0m \u001b[0mrange\u001b[0m\u001b[0;34m(\u001b[0m\u001b[0;36m500\u001b[0m\u001b[0;34m)\u001b[0m\u001b[0;34m:\u001b[0m\u001b[0;34m\u001b[0m\u001b[0m\n\u001b[1;32m      2\u001b[0m     \u001b[0;32mfor\u001b[0m \u001b[0m_\u001b[0m \u001b[0;32min\u001b[0m \u001b[0mrange\u001b[0m\u001b[0;34m(\u001b[0m\u001b[0;36m200\u001b[0m\u001b[0;34m)\u001b[0m\u001b[0;34m:\u001b[0m\u001b[0;34m\u001b[0m\u001b[0m\n\u001b[0;32m----> 3\u001b[0;31m         \u001b[0ml\u001b[0m\u001b[0;34m,\u001b[0m \u001b[0m_\u001b[0m \u001b[0;34m=\u001b[0m \u001b[0msess\u001b[0m\u001b[0;34m.\u001b[0m\u001b[0mrun\u001b[0m\u001b[0;34m(\u001b[0m\u001b[0;34m[\u001b[0m\u001b[0mloss\u001b[0m\u001b[0;34m,\u001b[0m \u001b[0mopt\u001b[0m\u001b[0;34m]\u001b[0m\u001b[0;34m,\u001b[0m \u001b[0;34m{\u001b[0m\u001b[0mphase\u001b[0m\u001b[0;34m:\u001b[0m\u001b[0;32mTrue\u001b[0m\u001b[0;34m}\u001b[0m\u001b[0;34m)\u001b[0m\u001b[0;34m\u001b[0m\u001b[0m\n\u001b[0m\u001b[1;32m      4\u001b[0m     \u001b[0mprint\u001b[0m\u001b[0;34m(\u001b[0m\u001b[0ml\u001b[0m\u001b[0;34m)\u001b[0m\u001b[0;34m\u001b[0m\u001b[0m\n",
      "\u001b[0;32m/usr/lib/python3.6/site-packages/tensorflow/python/client/session.py\u001b[0m in \u001b[0;36mrun\u001b[0;34m(self, fetches, feed_dict, options, run_metadata)\u001b[0m\n\u001b[1;32m    903\u001b[0m     \u001b[0;32mtry\u001b[0m\u001b[0;34m:\u001b[0m\u001b[0;34m\u001b[0m\u001b[0m\n\u001b[1;32m    904\u001b[0m       result = self._run(None, fetches, feed_dict, options_ptr,\n\u001b[0;32m--> 905\u001b[0;31m                          run_metadata_ptr)\n\u001b[0m\u001b[1;32m    906\u001b[0m       \u001b[0;32mif\u001b[0m \u001b[0mrun_metadata\u001b[0m\u001b[0;34m:\u001b[0m\u001b[0;34m\u001b[0m\u001b[0m\n\u001b[1;32m    907\u001b[0m         \u001b[0mproto_data\u001b[0m \u001b[0;34m=\u001b[0m \u001b[0mtf_session\u001b[0m\u001b[0;34m.\u001b[0m\u001b[0mTF_GetBuffer\u001b[0m\u001b[0;34m(\u001b[0m\u001b[0mrun_metadata_ptr\u001b[0m\u001b[0;34m)\u001b[0m\u001b[0;34m\u001b[0m\u001b[0m\n",
      "\u001b[0;32m/usr/lib/python3.6/site-packages/tensorflow/python/client/session.py\u001b[0m in \u001b[0;36m_run\u001b[0;34m(self, handle, fetches, feed_dict, options, run_metadata)\u001b[0m\n\u001b[1;32m   1135\u001b[0m     \u001b[0;32mif\u001b[0m \u001b[0mfinal_fetches\u001b[0m \u001b[0;32mor\u001b[0m \u001b[0mfinal_targets\u001b[0m \u001b[0;32mor\u001b[0m \u001b[0;34m(\u001b[0m\u001b[0mhandle\u001b[0m \u001b[0;32mand\u001b[0m \u001b[0mfeed_dict_tensor\u001b[0m\u001b[0;34m)\u001b[0m\u001b[0;34m:\u001b[0m\u001b[0;34m\u001b[0m\u001b[0m\n\u001b[1;32m   1136\u001b[0m       results = self._do_run(handle, final_targets, final_fetches,\n\u001b[0;32m-> 1137\u001b[0;31m                              feed_dict_tensor, options, run_metadata)\n\u001b[0m\u001b[1;32m   1138\u001b[0m     \u001b[0;32melse\u001b[0m\u001b[0;34m:\u001b[0m\u001b[0;34m\u001b[0m\u001b[0m\n\u001b[1;32m   1139\u001b[0m       \u001b[0mresults\u001b[0m \u001b[0;34m=\u001b[0m \u001b[0;34m[\u001b[0m\u001b[0;34m]\u001b[0m\u001b[0;34m\u001b[0m\u001b[0m\n",
      "\u001b[0;32m/usr/lib/python3.6/site-packages/tensorflow/python/client/session.py\u001b[0m in \u001b[0;36m_do_run\u001b[0;34m(self, handle, target_list, fetch_list, feed_dict, options, run_metadata)\u001b[0m\n\u001b[1;32m   1353\u001b[0m     \u001b[0;32mif\u001b[0m \u001b[0mhandle\u001b[0m \u001b[0;32mis\u001b[0m \u001b[0;32mNone\u001b[0m\u001b[0;34m:\u001b[0m\u001b[0;34m\u001b[0m\u001b[0m\n\u001b[1;32m   1354\u001b[0m       return self._do_call(_run_fn, self._session, feeds, fetches, targets,\n\u001b[0;32m-> 1355\u001b[0;31m                            options, run_metadata)\n\u001b[0m\u001b[1;32m   1356\u001b[0m     \u001b[0;32melse\u001b[0m\u001b[0;34m:\u001b[0m\u001b[0;34m\u001b[0m\u001b[0m\n\u001b[1;32m   1357\u001b[0m       \u001b[0;32mreturn\u001b[0m \u001b[0mself\u001b[0m\u001b[0;34m.\u001b[0m\u001b[0m_do_call\u001b[0m\u001b[0;34m(\u001b[0m\u001b[0m_prun_fn\u001b[0m\u001b[0;34m,\u001b[0m \u001b[0mself\u001b[0m\u001b[0;34m.\u001b[0m\u001b[0m_session\u001b[0m\u001b[0;34m,\u001b[0m \u001b[0mhandle\u001b[0m\u001b[0;34m,\u001b[0m \u001b[0mfeeds\u001b[0m\u001b[0;34m,\u001b[0m \u001b[0mfetches\u001b[0m\u001b[0;34m)\u001b[0m\u001b[0;34m\u001b[0m\u001b[0m\n",
      "\u001b[0;32m/usr/lib/python3.6/site-packages/tensorflow/python/client/session.py\u001b[0m in \u001b[0;36m_do_call\u001b[0;34m(self, fn, *args)\u001b[0m\n\u001b[1;32m   1359\u001b[0m   \u001b[0;32mdef\u001b[0m \u001b[0m_do_call\u001b[0m\u001b[0;34m(\u001b[0m\u001b[0mself\u001b[0m\u001b[0;34m,\u001b[0m \u001b[0mfn\u001b[0m\u001b[0;34m,\u001b[0m \u001b[0;34m*\u001b[0m\u001b[0margs\u001b[0m\u001b[0;34m)\u001b[0m\u001b[0;34m:\u001b[0m\u001b[0;34m\u001b[0m\u001b[0m\n\u001b[1;32m   1360\u001b[0m     \u001b[0;32mtry\u001b[0m\u001b[0;34m:\u001b[0m\u001b[0;34m\u001b[0m\u001b[0m\n\u001b[0;32m-> 1361\u001b[0;31m       \u001b[0;32mreturn\u001b[0m \u001b[0mfn\u001b[0m\u001b[0;34m(\u001b[0m\u001b[0;34m*\u001b[0m\u001b[0margs\u001b[0m\u001b[0;34m)\u001b[0m\u001b[0;34m\u001b[0m\u001b[0m\n\u001b[0m\u001b[1;32m   1362\u001b[0m     \u001b[0;32mexcept\u001b[0m \u001b[0merrors\u001b[0m\u001b[0;34m.\u001b[0m\u001b[0mOpError\u001b[0m \u001b[0;32mas\u001b[0m \u001b[0me\u001b[0m\u001b[0;34m:\u001b[0m\u001b[0;34m\u001b[0m\u001b[0m\n\u001b[1;32m   1363\u001b[0m       \u001b[0mmessage\u001b[0m \u001b[0;34m=\u001b[0m \u001b[0mcompat\u001b[0m\u001b[0;34m.\u001b[0m\u001b[0mas_text\u001b[0m\u001b[0;34m(\u001b[0m\u001b[0me\u001b[0m\u001b[0;34m.\u001b[0m\u001b[0mmessage\u001b[0m\u001b[0;34m)\u001b[0m\u001b[0;34m\u001b[0m\u001b[0m\n",
      "\u001b[0;32m/usr/lib/python3.6/site-packages/tensorflow/python/client/session.py\u001b[0m in \u001b[0;36m_run_fn\u001b[0;34m(session, feed_dict, fetch_list, target_list, options, run_metadata)\u001b[0m\n\u001b[1;32m   1338\u001b[0m         \u001b[0;32melse\u001b[0m\u001b[0;34m:\u001b[0m\u001b[0;34m\u001b[0m\u001b[0m\n\u001b[1;32m   1339\u001b[0m           return tf_session.TF_Run(session, options, feed_dict, fetch_list,\n\u001b[0;32m-> 1340\u001b[0;31m                                    target_list, status, run_metadata)\n\u001b[0m\u001b[1;32m   1341\u001b[0m \u001b[0;34m\u001b[0m\u001b[0m\n\u001b[1;32m   1342\u001b[0m     \u001b[0;32mdef\u001b[0m \u001b[0m_prun_fn\u001b[0m\u001b[0;34m(\u001b[0m\u001b[0msession\u001b[0m\u001b[0;34m,\u001b[0m \u001b[0mhandle\u001b[0m\u001b[0;34m,\u001b[0m \u001b[0mfeed_dict\u001b[0m\u001b[0;34m,\u001b[0m \u001b[0mfetch_list\u001b[0m\u001b[0;34m)\u001b[0m\u001b[0;34m:\u001b[0m\u001b[0;34m\u001b[0m\u001b[0m\n",
      "\u001b[0;31mKeyboardInterrupt\u001b[0m: "
     ]
    }
   ],
   "source": [
    "for _ in range(500):\n",
    "    for _ in range(200):\n",
    "        l, _ = sess.run([loss, opt], {phase:True})\n",
    "    print(l)"
   ]
  },
  {
   "cell_type": "code",
   "execution_count": 28,
   "metadata": {},
   "outputs": [],
   "source": [
    "out = tf.reshape(outputs, [n, 3, 4])"
   ]
  },
  {
   "cell_type": "code",
   "execution_count": 46,
   "metadata": {},
   "outputs": [],
   "source": [
    "samples = []\n",
    "for _ in range(1000):\n",
    "    s = out.eval()\n",
    "    samples.append(s)\n",
    "samples = np.array(samples)"
   ]
  },
  {
   "cell_type": "code",
   "execution_count": 47,
   "metadata": {},
   "outputs": [
    {
     "data": {
      "text/plain": [
       "(1000, 32, 3, 4)"
      ]
     },
     "execution_count": 47,
     "metadata": {},
     "output_type": "execute_result"
    }
   ],
   "source": [
    "samples.shape"
   ]
  },
  {
   "cell_type": "code",
   "execution_count": 48,
   "metadata": {},
   "outputs": [
    {
     "data": {
      "image/png": "[encoded data removed]",
      "text/plain": [
       "<matplotlib.figure.Figure at 0x7f681c18ecc0>"
      ]
     },
     "metadata": {},
     "output_type": "display_data"
    }
   ],
   "source": [
    "sns.kdeplot(samples[:,18,1,1], samples[:,28,1,1])\n",
    "plt.show()"
   ]
  },
  {
   "cell_type": "code",
   "execution_count": 49,
   "metadata": {},
   "outputs": [
    {
     "data": {
      "text/plain": [
       "0.49052327919455724"
      ]
     },
     "execution_count": 49,
     "metadata": {},
     "output_type": "execute_result"
    }
   ],
   "source": [
    "params[18,1,1]"
   ]
  },
  {
   "cell_type": "code",
   "execution_count": 50,
   "metadata": {},
   "outputs": [
    {
     "data": {
      "text/plain": [
       "-0.4392966309991941"
      ]
     },
     "execution_count": 50,
     "metadata": {},
     "output_type": "execute_result"
    }
   ],
   "source": [
    "np.mean(samples[:,18,1,1], axis=0)"
   ]
  },
  {
   "cell_type": "code",
   "execution_count": 51,
   "metadata": {},
   "outputs": [
    {
     "data": {
      "text/plain": [
       "array([[-0.03363443,  0.01594778, -0.05966114, -0.03184394],\n",
       "       [ 0.01225283, -0.06333269,  0.01810212,  0.05804125],\n",
       "       [-0.0916567 ,  0.03942744, -0.0750497 , -0.04911167]])"
      ]
     },
     "execution_count": 51,
     "metadata": {},
     "output_type": "execute_result"
    }
   ],
   "source": [
    "params[0] - params[-1]"
   ]
  },
  {
   "cell_type": "code",
   "execution_count": null,
   "metadata": {},
   "outputs": [],
   "source": []
  }
 ],
 "metadata": {
  "kernelspec": {
   "display_name": "Python 3.6 (sys p)",
   "language": "python",
   "name": "py3.6"
  },
  "language_info": {
   "codemirror_mode": {
    "name": "ipython",
    "version": 3
   },
   "file_extension": ".py",
   "mimetype": "text/x-python",
   "name": "python",
   "nbconvert_exporter": "python",
   "pygments_lexer": "ipython3",
   "version": "3.6.4"
  }
 },
 "nbformat": 4,
 "nbformat_minor": 2
}
