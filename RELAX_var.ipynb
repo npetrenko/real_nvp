{
 "cells": [
  {
   "cell_type": "code",
   "execution_count": 1,
   "metadata": {},
   "outputs": [
    {
     "name": "stdout",
     "output_type": "stream",
     "text": [
      "WARNING:tensorflow:From /usr/lib/python3.6/site-packages/tensorflow/contrib/learn/python/learn/datasets/base.py:198: retry (from tensorflow.contrib.learn.python.learn.datasets.base) is deprecated and will be removed in a future version.\n",
      "Instructions for updating:\n",
      "Use the retry module or similar alternatives.\n"
     ]
    }
   ],
   "source": [
    "import tensorflow as tf\n",
    "from flows import NormalRW, DFlow, NVPFlow, LogNormal, GVAR, phase,\\\n",
    "Normal, floatX, MVNormal, MVNormalRW, Linear, LinearChol\n",
    "import flows\n",
    "\n",
    "import numpy as np\n",
    "import pandas as pd\n",
    "from matplotlib import pyplot as plt\n",
    "import seaborn as sns\n",
    "from tensorflow.contrib.distributions import WishartCholesky\n",
    "import math\n",
    "\n",
    "np.random.seed(1234)"
   ]
  },
  {
   "cell_type": "code",
   "execution_count": 2,
   "metadata": {},
   "outputs": [],
   "source": [
    "data = pd.read_csv('./data/test_rus_data.csv').values.astype(floatX).T[np.newaxis][:,1:]/100"
   ]
  },
  {
   "cell_type": "code",
   "execution_count": 3,
   "metadata": {},
   "outputs": [],
   "source": [
    "data = data[:,1:] - data[:,:-1]"
   ]
  },
  {
   "cell_type": "code",
   "execution_count": 4,
   "metadata": {},
   "outputs": [
    {
     "name": "stdout",
     "output_type": "stream",
     "text": [
      "[0.43681782 0.25903013 0.01298369]\n"
     ]
    }
   ],
   "source": [
    "stds = (data[0,1:] - data[0,:-1]).std(axis=0)\n",
    "print(stds)\n",
    "data /= stds"
   ]
  },
  {
   "cell_type": "code",
   "execution_count": 5,
   "metadata": {},
   "outputs": [
    {
     "data": {
      "text/plain": [
       "False"
      ]
     },
     "execution_count": 5,
     "metadata": {},
     "output_type": "execute_result"
    }
   ],
   "source": [
    "np.any(np.isnan(data))"
   ]
  },
  {
   "cell_type": "code",
   "execution_count": 6,
   "metadata": {},
   "outputs": [
    {
     "name": "stdout",
     "output_type": "stream",
     "text": [
      "<tensorflow.python.ops.variable_scope.VariableScope object at 0x7fc54c0e8128>\n",
      "<tensorflow.python.ops.variable_scope.VariableScope object at 0x7fc54c031ef0>\n"
     ]
    }
   ],
   "source": [
    "NUM_STEPS = data.shape[1]\n",
    "\n",
    "with tf.variable_scope('walk_ord'):\n",
    "    s1_prior_d = LogNormal(1, mu=math.log(0.01), sigma=1.)\n",
    "\n",
    "    with tf.variable_scope('s1_inference', dtype=floatX):\n",
    "        mu = tf.get_variable('mu', shape=[1], initializer=tf.constant_initializer(s1_prior_d.mu))\n",
    "        logsigma = tf.get_variable('logsigma', shape=[1], \n",
    "                                   initializer=tf.constant_initializer(math.log(s1_prior_d.sigma) - 1.))\n",
    "        sigma = tf.exp(logsigma)\n",
    "        s1_d = LogNormal(1, mu=mu, sigma=sigma)\n",
    "    \n",
    "    s1 = s1_d.sample()\n",
    "    tf.summary.scalar('s1_ord', s1[0])\n",
    "    tf.add_to_collection('logdensities', s1_d.logdens(s1))\n",
    "    \n",
    "    s1_prior = s1_prior_d.logdens(s1)\n",
    "    tf.add_to_collection('priors', s1_prior)\n",
    "    \n",
    "#distribution for shock increase factor\n",
    "with tf.variable_scope('walk_shock'):\n",
    "    incr_prior_d = LogNormal(1, mu=math.log(2.), sigma=1.)\n",
    "\n",
    "    with tf.variable_scope('incr_inference', dtype=floatX):\n",
    "        mu = tf.get_variable('mu', shape=[1], initializer=tf.constant_initializer(incr_prior_d.mu))\n",
    "        logsigma = tf.get_variable('logsigma', shape=[1], \n",
    "                                   initializer=tf.constant_initializer(math.log(incr_prior_d.sigma) - 1.))\n",
    "        sigma = tf.exp(logsigma)\n",
    "        incr_d = LogNormal(1, mu=mu, sigma=sigma)\n",
    "\n",
    "    incr = incr_d.sample()\n",
    "    tf.add_to_collection('logdensities', incr_d.logdens(incr))\n",
    "    \n",
    "    incr_prior = incr_prior_d.logdens(incr)\n",
    "    tf.add_to_collection('priors', incr_prior)\n",
    "\n",
    "    incr += 1.\n",
    "    s_shock = s1*incr\n",
    "    tf.summary.scalar('s1_shock', s_shock[0])\n",
    "    \n",
    "s0 = 80.\n",
    "dim = [3,4]\n",
    "\n",
    "K = dim[0] * dim[1]\n",
    "\n",
    "PWalk = NormalRW(dim=None, sigma0=s0, sigma=s1, name='OrdWalk')\n",
    "PWalk_shock = NormalRW(dim=None, sigma0=s0, sigma=s_shock, name='ShockWalk')"
   ]
  },
  {
   "cell_type": "code",
   "execution_count": 7,
   "metadata": {},
   "outputs": [],
   "source": [
    "#model coefficients\n",
    "gvar = GVAR(dim=dim[0]*dim[1], len=NUM_STEPS, name='coef_rw_inference')\n",
    "outputs = gvar.sample()\n",
    "tf.add_to_collection('logdensities', gvar.logdens)"
   ]
  },
  {
   "cell_type": "code",
   "execution_count": null,
   "metadata": {},
   "outputs": [],
   "source": []
  },
  {
   "cell_type": "code",
   "execution_count": 8,
   "metadata": {},
   "outputs": [],
   "source": [
    "prior_ord = PWalk.logdens(outputs, reduce=False)\n",
    "prior_shock = PWalk_shock.logdens(outputs, reduce=False)"
   ]
  },
  {
   "cell_type": "code",
   "execution_count": 9,
   "metadata": {},
   "outputs": [
    {
     "data": {
      "text/plain": [
       "(<tf.Tensor 'OrdWalk_2/concat:0' shape=(1, 20) dtype=float32>,\n",
       " <tf.Tensor 'ShockWalk_2/concat:0' shape=(1, 20) dtype=float32>)"
      ]
     },
     "execution_count": 9,
     "metadata": {},
     "output_type": "execute_result"
    }
   ],
   "source": [
    "prior_ord, prior_shock"
   ]
  },
  {
   "cell_type": "code",
   "execution_count": 10,
   "metadata": {},
   "outputs": [],
   "source": [
    "with tf.variable_scope('Shock_Distr', reuse=tf.AUTO_REUSE):\n",
    "    shock_init_prior = Normal(None)\n",
    "    shock_init = DFlow([LinearChol(dim=8, name='shock_init_inf')])\n",
    "    \n",
    "    tf.add_to_collection('priors', shock_init_prior.logdens(shock_init.output))\n",
    "    tf.add_to_collection('logdensities', tf.reduce_sum(shock_init.logdens))\n",
    "    \n",
    "    shock_d = flows.dvae.RMultinomial([data.shape[1], 2], name='shock_distr')\n",
    "    shocks_soft_uncond, shocks_soft_cond, (shocks_hard, shocks_hard_logp) = shock_d.encode(shock_init.output)\n",
    "    shocks_hard_logp = tf.reduce_sum(shocks_hard_logp)"
   ]
  },
  {
   "cell_type": "code",
   "execution_count": null,
   "metadata": {},
   "outputs": [],
   "source": []
  },
  {
   "cell_type": "code",
   "execution_count": 11,
   "metadata": {},
   "outputs": [
    {
     "data": {
      "text/plain": [
       "<tf.Tensor 'Shock_Distr/shock_distr/controls/Exp:0' shape=(20, 1) dtype=float32>"
      ]
     },
     "execution_count": 11,
     "metadata": {},
     "output_type": "execute_result"
    }
   ],
   "source": [
    "shock_d.temp"
   ]
  },
  {
   "cell_type": "code",
   "execution_count": 12,
   "metadata": {},
   "outputs": [
    {
     "data": {
      "text/plain": [
       "<tf.Tensor 'Shock_Distr/shock_distr_1/encoder/latent_inf/Multinomial_1/sample/Reshape_3:0' shape=(1, 20, 2) dtype=float32>"
      ]
     },
     "execution_count": 12,
     "metadata": {},
     "output_type": "execute_result"
    }
   ],
   "source": [
    "shocks_hard"
   ]
  },
  {
   "cell_type": "code",
   "execution_count": 13,
   "metadata": {},
   "outputs": [],
   "source": [
    "def create_hard_shock_prior(num_shocks):\n",
    "    def c(n,k):\n",
    "        from scipy.special import binom\n",
    "        return tf.py_func(lambda x,y: int(binom(int(x),int(y))), [n, k], tf.int64)\n",
    "    \n",
    "    with tf.variable_scope('shocks_prior'):\n",
    "        spd = tf.contrib.distributions.Poisson(rate=NUM_STEPS/5.)\n",
    "        #denum = tf.cast(c(NUM_STEPS, num_shocks), tf.float32)\n",
    "        return spd.log_prob(num_shocks)# - tf.log(denum)"
   ]
  },
  {
   "cell_type": "code",
   "execution_count": 14,
   "metadata": {},
   "outputs": [],
   "source": [
    "def create_soft_shock_prior(num_shocks):\n",
    "    lower = tf.cast(tf.floor(num_shocks), floatX)\n",
    "    upper = lower + 1.\n",
    "    lh = create_hard_shock_prior(lower)\n",
    "    uh = create_hard_shock_prior(upper)\n",
    "    prop = num_shocks-lower\n",
    "    return lh*(1.-prop) + uh*prop"
   ]
  },
  {
   "cell_type": "code",
   "execution_count": null,
   "metadata": {},
   "outputs": [],
   "source": []
  },
  {
   "cell_type": "code",
   "execution_count": 15,
   "metadata": {},
   "outputs": [],
   "source": [
    "obs_d_prior = LogNormal(dim=None, mu=math.log(0.5), sigma=0.5)\n",
    "\n",
    "with tf.variable_scope('obs_d_inference', dtype=floatX):\n",
    "    mu = tf.get_variable('mu', shape=[1], initializer=tf.constant_initializer(math.log(0.5)))\n",
    "    logsigma = tf.get_variable('logsigma', shape=[1], initializer=tf.constant_initializer(-5))\n",
    "    sigma = tf.exp(logsigma)\n",
    "    \n",
    "    obs_d_post = LogNormal(1, mu=mu, sigma=sigma)\n",
    "    obs_ds = obs_d_post.sample()\n",
    "    \n",
    "    obs_ds_logdens = obs_d_post.logdens(obs_ds)\n",
    "    tf.add_to_collection('logdensities', obs_ds_logdens)\n",
    "    tf.add_to_collection('priors', obs_d_prior.logdens(obs_ds))\n",
    "    \n",
    "    tf.summary.scalar('observ_sigma', obs_ds[0])"
   ]
  },
  {
   "cell_type": "code",
   "execution_count": 16,
   "metadata": {},
   "outputs": [],
   "source": [
    "def create_param_walk_prior(shocks):\n",
    "    with tf.name_scope('RW_prior'):\n",
    "        tmp = tf.cast(shocks[:,:,1], floatX)\n",
    "        prior = tmp*prior_shock + (1-tmp)*prior_ord\n",
    "        prior = tf.reduce_sum(prior) \n",
    "        return prior"
   ]
  },
  {
   "cell_type": "code",
   "execution_count": 17,
   "metadata": {},
   "outputs": [],
   "source": [
    "def predict(observable_mask):\n",
    "    out = tf.reshape(outputs, [NUM_STEPS, dim[0], dim[1]])\n",
    "    \n",
    "    def step(prev, x):\n",
    "        mask = x[0]\n",
    "        prev_pred = tf.where(mask, x[1], prev)[tf.newaxis]\n",
    "        params = x[2]\n",
    "        \n",
    "        d = params[:,:-1]\n",
    "        new_pred = tf.matmul(prev_pred, d)[0] + params[:,-1]\n",
    "        return new_pred\n",
    "    \n",
    "    ar = tf.scan(step, [observable_mask, data[0], out], initializer=tf.zeros([dim[0]], dtype=floatX))\n",
    "    return ar"
   ]
  },
  {
   "cell_type": "code",
   "execution_count": 18,
   "metadata": {},
   "outputs": [
    {
     "data": {
      "text/plain": [
       "20"
      ]
     },
     "execution_count": 18,
     "metadata": {},
     "output_type": "execute_result"
    }
   ],
   "source": [
    "data.shape[1]"
   ]
  },
  {
   "cell_type": "code",
   "execution_count": 19,
   "metadata": {},
   "outputs": [],
   "source": [
    "stop_time = tf.placeholder_with_default(NUM_STEPS, ())\n",
    "predict_mask = tf.range(0, data.shape[1], dtype=tf.int32) < stop_time\n",
    "#используем в предсказаниях ровно stop_time последних наблюдений"
   ]
  },
  {
   "cell_type": "code",
   "execution_count": 20,
   "metadata": {},
   "outputs": [],
   "source": [
    "preds = predict(predict_mask)"
   ]
  },
  {
   "cell_type": "code",
   "execution_count": 21,
   "metadata": {},
   "outputs": [
    {
     "data": {
      "text/plain": [
       "<tf.Tensor 'scan/TensorArrayStack/TensorArrayGatherV3:0' shape=(20, 3) dtype=float32>"
      ]
     },
     "execution_count": 21,
     "metadata": {},
     "output_type": "execute_result"
    }
   ],
   "source": [
    "preds"
   ]
  },
  {
   "cell_type": "code",
   "execution_count": 22,
   "metadata": {},
   "outputs": [],
   "source": [
    "obs_d = Normal(dim=None, sigma=obs_ds, mu=0)\n",
    "\n",
    "diffs = preds[:-1] - data[0,1:]\n",
    "\n",
    "logl = obs_d.logdens(diffs, reduce=False)\n",
    "logl *= tf.cast(predict_mask[:-1], floatX)[:,tf.newaxis]\n",
    "\n",
    "logl = tf.reduce_sum(logl)\n",
    "tf.add_to_collection('priors', logl)"
   ]
  },
  {
   "cell_type": "code",
   "execution_count": 23,
   "metadata": {},
   "outputs": [
    {
     "data": {
      "text/plain": [
       "<tf.Tensor 'logl:0' shape=() dtype=string>"
      ]
     },
     "execution_count": 23,
     "metadata": {},
     "output_type": "execute_result"
    }
   ],
   "source": [
    "tf.summary.scalar('logl', logl)"
   ]
  },
  {
   "cell_type": "code",
   "execution_count": 24,
   "metadata": {},
   "outputs": [],
   "source": [
    "def create_kl(shocks, shocks_prior=0.):\n",
    "    logdens = tf.reduce_sum(tf.get_collection('logdensities'))\n",
    "    prior = tf.reduce_sum(tf.get_collection('priors'))\n",
    "    \n",
    "    param_walk_prior = create_param_walk_prior(shocks)\n",
    "    KLd = -prior + logdens - shocks_prior - param_walk_prior\n",
    "    KLd /= NUM_STEPS*dim[0]*dim[1]\n",
    "    return KLd"
   ]
  },
  {
   "cell_type": "code",
   "execution_count": 25,
   "metadata": {},
   "outputs": [
    {
     "data": {
      "text/plain": [
       "[<tf.Tensor 'walk_ord/LogNormal_2/Sum:0' shape=() dtype=float32>,\n",
       " <tf.Tensor 'walk_shock/LogNormal_2/Sum:0' shape=() dtype=float32>,\n",
       " <tf.Tensor 'coef_rw_inference_1/VAR/logdens/add:0' shape=() dtype=float32>,\n",
       " <tf.Tensor 'Shock_Distr/Sum:0' shape=() dtype=float32>,\n",
       " <tf.Tensor 'obs_d_inference/LogNormal_2/Sum:0' shape=() dtype=float32>]"
      ]
     },
     "execution_count": 25,
     "metadata": {},
     "output_type": "execute_result"
    }
   ],
   "source": [
    "tf.get_collection('logdensities')"
   ]
  },
  {
   "cell_type": "code",
   "execution_count": 26,
   "metadata": {},
   "outputs": [
    {
     "data": {
      "text/plain": [
       "[<tf.Tensor 'walk_ord/LogNormal_3/Sum:0' shape=() dtype=float32>,\n",
       " <tf.Tensor 'walk_shock/LogNormal_3/Sum:0' shape=() dtype=float32>,\n",
       " <tf.Tensor 'Shock_Distr/Normal_4/Sum:0' shape=() dtype=float32>,\n",
       " <tf.Tensor 'obs_d_inference/LogNormal_3/Sum:0' shape=() dtype=float32>,\n",
       " <tf.Tensor 'Sum:0' shape=() dtype=float32>]"
      ]
     },
     "execution_count": 26,
     "metadata": {},
     "output_type": "execute_result"
    }
   ],
   "source": [
    "tf.get_collection('priors')"
   ]
  },
  {
   "cell_type": "code",
   "execution_count": 27,
   "metadata": {},
   "outputs": [
    {
     "data": {
      "text/plain": [
       "<tf.Tensor 'Shock_Distr/shock_distr_1/encoder/latent_inf/Reshape_4:0' shape=(1, 20, 2) dtype=float32>"
      ]
     },
     "execution_count": 27,
     "metadata": {},
     "output_type": "execute_result"
    }
   ],
   "source": [
    "shocks_soft_cond"
   ]
  },
  {
   "cell_type": "code",
   "execution_count": 28,
   "metadata": {},
   "outputs": [],
   "source": [
    "num_shocks = tf.reduce_sum(shocks_soft_uncond[:,:,1:])\n",
    "ssp = create_soft_shock_prior(num_shocks)\n",
    "soft_kl_uncond = create_kl(shocks_soft_uncond, shocks_prior=ssp)\n",
    "\n",
    "num_shocks = tf.reduce_sum(shocks_soft_cond[:,:,1:])\n",
    "ssp = create_soft_shock_prior(num_shocks)\n",
    "soft_kl_cond = create_kl(shocks_soft_cond, shocks_prior=ssp)\n",
    "\n",
    "num_shocks = tf.reduce_sum(shocks_hard[:,:,1:])\n",
    "hard_shocks_prior = create_hard_shock_prior(num_shocks) - shocks_hard_logp\n",
    "hard_kl = create_kl(shocks_hard, shocks_prior=hard_shocks_prior)"
   ]
  },
  {
   "cell_type": "code",
   "execution_count": 29,
   "metadata": {},
   "outputs": [
    {
     "data": {
      "text/plain": [
       "<tf.Tensor 'Shock_Distr/shock_distr_1/encoder/latent_inf/Multinomial_1/sample/Reshape_3:0' shape=(1, 20, 2) dtype=float32>"
      ]
     },
     "execution_count": 29,
     "metadata": {},
     "output_type": "execute_result"
    }
   ],
   "source": [
    "shocks_hard"
   ]
  },
  {
   "cell_type": "code",
   "execution_count": 30,
   "metadata": {},
   "outputs": [],
   "source": [
    "relax_cond = shock_d.build_relax(tf.reshape(shocks_soft_cond, [1,-1]))\n",
    "relax_uncond = shock_d.build_relax(tf.reshape(shocks_soft_uncond, [1,-1]))"
   ]
  },
  {
   "cell_type": "code",
   "execution_count": 31,
   "metadata": {},
   "outputs": [
    {
     "data": {
      "text/plain": [
       "<tf.Tensor 'truediv_1:0' shape=() dtype=float32>"
      ]
     },
     "execution_count": 31,
     "metadata": {},
     "output_type": "execute_result"
    }
   ],
   "source": [
    "soft_kl_cond"
   ]
  },
  {
   "cell_type": "code",
   "execution_count": 32,
   "metadata": {},
   "outputs": [],
   "source": [
    "eta = shock_d.eta\n",
    "\n",
    "soft_control_cond = eta*soft_kl_cond + relax_cond\n",
    "soft_control_uncond = eta*soft_kl_uncond - eta*soft_kl_cond - relax_cond + relax_uncond\n",
    "\n",
    "stoped_grad = hard_kl - soft_control_cond# - nvil_baseline\n",
    "\n",
    "target = shocks_hard_logp*stoped_grad + soft_control_uncond\n",
    "target = tf.reduce_mean(target)"
   ]
  },
  {
   "cell_type": "code",
   "execution_count": 33,
   "metadata": {},
   "outputs": [
    {
     "data": {
      "text/plain": [
       "<tf.Tensor 'add_8:0' shape=(1,) dtype=float32>"
      ]
     },
     "execution_count": 33,
     "metadata": {},
     "output_type": "execute_result"
    }
   ],
   "source": [
    "soft_control_uncond"
   ]
  },
  {
   "cell_type": "code",
   "execution_count": 34,
   "metadata": {},
   "outputs": [],
   "source": [
    "shock_vars = shock_d.get_encoder_vars()"
   ]
  },
  {
   "cell_type": "code",
   "execution_count": 35,
   "metadata": {},
   "outputs": [],
   "source": [
    "shock_vars_grad = tf.gradients(target, shock_vars, stop_gradients=stoped_grad)"
   ]
  },
  {
   "cell_type": "code",
   "execution_count": 36,
   "metadata": {},
   "outputs": [],
   "source": [
    "controls = shock_d.get_control_vars()\n",
    "cv_loss = shock_d.build_control_loss(shock_vars_grad)\n",
    "\n",
    "tf.summary.scalar('cv_loss', cv_loss)\n",
    "\n",
    "cv_gradients = tf.gradients(cv_loss, controls)"
   ]
  },
  {
   "cell_type": "code",
   "execution_count": 37,
   "metadata": {},
   "outputs": [],
   "source": [
    "rest_vars = [x for x in tf.global_variables() if not (x in controls or x in shock_vars)]\n",
    "rest_gradients = tf.gradients(hard_kl, rest_vars)"
   ]
  },
  {
   "cell_type": "code",
   "execution_count": 38,
   "metadata": {},
   "outputs": [
    {
     "data": {
      "text/plain": [
       "[<tf.Variable 'walk_ord/s1_inference/mu:0' shape=(1,) dtype=float32_ref>,\n",
       " <tf.Variable 'walk_ord/s1_inference/logsigma:0' shape=(1,) dtype=float32_ref>,\n",
       " <tf.Variable 'walk_shock/incr_inference/mu:0' shape=(1,) dtype=float32_ref>,\n",
       " <tf.Variable 'walk_shock/incr_inference/logsigma:0' shape=(1,) dtype=float32_ref>,\n",
       " <tf.Variable 'coef_rw_inference/lc_0/lowerd:0' shape=(78,) dtype=float32_ref>,\n",
       " <tf.Variable 'coef_rw_inference/lc_0/ldiag:0' shape=(12,) dtype=float32_ref>,\n",
       " <tf.Variable 'coef_rw_inference/lc_1/lowerd:0' shape=(78,) dtype=float32_ref>,\n",
       " <tf.Variable 'coef_rw_inference/lc_1/ldiag:0' shape=(12,) dtype=float32_ref>,\n",
       " <tf.Variable 'coef_rw_inference/lc_1/W:0' shape=(12, 12) dtype=float32_ref>,\n",
       " <tf.Variable 'coef_rw_inference/lc_2/lowerd:0' shape=(78,) dtype=float32_ref>,\n",
       " <tf.Variable 'coef_rw_inference/lc_2/ldiag:0' shape=(12,) dtype=float32_ref>,\n",
       " <tf.Variable 'coef_rw_inference/lc_2/W:0' shape=(12, 12) dtype=float32_ref>,\n",
       " <tf.Variable 'coef_rw_inference/lc_3/lowerd:0' shape=(78,) dtype=float32_ref>,\n",
       " <tf.Variable 'coef_rw_inference/lc_3/ldiag:0' shape=(12,) dtype=float32_ref>,\n",
       " <tf.Variable 'coef_rw_inference/lc_3/W:0' shape=(12, 12) dtype=float32_ref>,\n",
       " <tf.Variable 'coef_rw_inference/lc_4/lowerd:0' shape=(78,) dtype=float32_ref>,\n",
       " <tf.Variable 'coef_rw_inference/lc_4/ldiag:0' shape=(12,) dtype=float32_ref>,\n",
       " <tf.Variable 'coef_rw_inference/lc_4/W:0' shape=(12, 12) dtype=float32_ref>,\n",
       " <tf.Variable 'coef_rw_inference/lc_5/lowerd:0' shape=(78,) dtype=float32_ref>,\n",
       " <tf.Variable 'coef_rw_inference/lc_5/ldiag:0' shape=(12,) dtype=float32_ref>,\n",
       " <tf.Variable 'coef_rw_inference/lc_5/W:0' shape=(12, 12) dtype=float32_ref>,\n",
       " <tf.Variable 'coef_rw_inference/lc_6/lowerd:0' shape=(78,) dtype=float32_ref>,\n",
       " <tf.Variable 'coef_rw_inference/lc_6/ldiag:0' shape=(12,) dtype=float32_ref>,\n",
       " <tf.Variable 'coef_rw_inference/lc_6/W:0' shape=(12, 12) dtype=float32_ref>,\n",
       " <tf.Variable 'coef_rw_inference/lc_7/lowerd:0' shape=(78,) dtype=float32_ref>,\n",
       " <tf.Variable 'coef_rw_inference/lc_7/ldiag:0' shape=(12,) dtype=float32_ref>,\n",
       " <tf.Variable 'coef_rw_inference/lc_7/W:0' shape=(12, 12) dtype=float32_ref>,\n",
       " <tf.Variable 'coef_rw_inference/lc_8/lowerd:0' shape=(78,) dtype=float32_ref>,\n",
       " <tf.Variable 'coef_rw_inference/lc_8/ldiag:0' shape=(12,) dtype=float32_ref>,\n",
       " <tf.Variable 'coef_rw_inference/lc_8/W:0' shape=(12, 12) dtype=float32_ref>,\n",
       " <tf.Variable 'coef_rw_inference/lc_9/lowerd:0' shape=(78,) dtype=float32_ref>,\n",
       " <tf.Variable 'coef_rw_inference/lc_9/ldiag:0' shape=(12,) dtype=float32_ref>,\n",
       " <tf.Variable 'coef_rw_inference/lc_9/W:0' shape=(12, 12) dtype=float32_ref>,\n",
       " <tf.Variable 'coef_rw_inference/lc_10/lowerd:0' shape=(78,) dtype=float32_ref>,\n",
       " <tf.Variable 'coef_rw_inference/lc_10/ldiag:0' shape=(12,) dtype=float32_ref>,\n",
       " <tf.Variable 'coef_rw_inference/lc_10/W:0' shape=(12, 12) dtype=float32_ref>,\n",
       " <tf.Variable 'coef_rw_inference/lc_11/lowerd:0' shape=(78,) dtype=float32_ref>,\n",
       " <tf.Variable 'coef_rw_inference/lc_11/ldiag:0' shape=(12,) dtype=float32_ref>,\n",
       " <tf.Variable 'coef_rw_inference/lc_11/W:0' shape=(12, 12) dtype=float32_ref>,\n",
       " <tf.Variable 'coef_rw_inference/lc_12/lowerd:0' shape=(78,) dtype=float32_ref>,\n",
       " <tf.Variable 'coef_rw_inference/lc_12/ldiag:0' shape=(12,) dtype=float32_ref>,\n",
       " <tf.Variable 'coef_rw_inference/lc_12/W:0' shape=(12, 12) dtype=float32_ref>,\n",
       " <tf.Variable 'coef_rw_inference/lc_13/lowerd:0' shape=(78,) dtype=float32_ref>,\n",
       " <tf.Variable 'coef_rw_inference/lc_13/ldiag:0' shape=(12,) dtype=float32_ref>,\n",
       " <tf.Variable 'coef_rw_inference/lc_13/W:0' shape=(12, 12) dtype=float32_ref>,\n",
       " <tf.Variable 'coef_rw_inference/lc_14/lowerd:0' shape=(78,) dtype=float32_ref>,\n",
       " <tf.Variable 'coef_rw_inference/lc_14/ldiag:0' shape=(12,) dtype=float32_ref>,\n",
       " <tf.Variable 'coef_rw_inference/lc_14/W:0' shape=(12, 12) dtype=float32_ref>,\n",
       " <tf.Variable 'coef_rw_inference/lc_15/lowerd:0' shape=(78,) dtype=float32_ref>,\n",
       " <tf.Variable 'coef_rw_inference/lc_15/ldiag:0' shape=(12,) dtype=float32_ref>,\n",
       " <tf.Variable 'coef_rw_inference/lc_15/W:0' shape=(12, 12) dtype=float32_ref>,\n",
       " <tf.Variable 'coef_rw_inference/lc_16/lowerd:0' shape=(78,) dtype=float32_ref>,\n",
       " <tf.Variable 'coef_rw_inference/lc_16/ldiag:0' shape=(12,) dtype=float32_ref>,\n",
       " <tf.Variable 'coef_rw_inference/lc_16/W:0' shape=(12, 12) dtype=float32_ref>,\n",
       " <tf.Variable 'coef_rw_inference/lc_17/lowerd:0' shape=(78,) dtype=float32_ref>,\n",
       " <tf.Variable 'coef_rw_inference/lc_17/ldiag:0' shape=(12,) dtype=float32_ref>,\n",
       " <tf.Variable 'coef_rw_inference/lc_17/W:0' shape=(12, 12) dtype=float32_ref>,\n",
       " <tf.Variable 'coef_rw_inference/lc_18/lowerd:0' shape=(78,) dtype=float32_ref>,\n",
       " <tf.Variable 'coef_rw_inference/lc_18/ldiag:0' shape=(12,) dtype=float32_ref>,\n",
       " <tf.Variable 'coef_rw_inference/lc_18/W:0' shape=(12, 12) dtype=float32_ref>,\n",
       " <tf.Variable 'coef_rw_inference/lc_19/lowerd:0' shape=(78,) dtype=float32_ref>,\n",
       " <tf.Variable 'coef_rw_inference/lc_19/ldiag:0' shape=(12,) dtype=float32_ref>,\n",
       " <tf.Variable 'coef_rw_inference/lc_19/W:0' shape=(12, 12) dtype=float32_ref>,\n",
       " <tf.Variable 'coef_rw_inference/mu:0' shape=(20, 12) dtype=float32_ref>,\n",
       " <tf.Variable 'Shock_Distr/shock_init_inf/lowerd:0' shape=(36,) dtype=float32_ref>,\n",
       " <tf.Variable 'Shock_Distr/shock_init_inf/ldiag:0' shape=(8,) dtype=float32_ref>,\n",
       " <tf.Variable 'Shock_Distr/shock_init_inf/bias:0' shape=(1, 8) dtype=float32_ref>,\n",
       " <tf.Variable 'obs_d_inference/mu:0' shape=(1,) dtype=float32_ref>,\n",
       " <tf.Variable 'obs_d_inference/logsigma:0' shape=(1,) dtype=float32_ref>]"
      ]
     },
     "execution_count": 38,
     "metadata": {},
     "output_type": "execute_result"
    }
   ],
   "source": [
    "rest_vars"
   ]
  },
  {
   "cell_type": "code",
   "execution_count": 39,
   "metadata": {},
   "outputs": [],
   "source": [
    "all_vars = shock_vars + rest_vars \n",
    "grads = shock_vars_grad + rest_gradients\n",
    "main_updates = [(g,x) for x,g in zip(all_vars, grads)]\n",
    "control_updates = [(g,x) for x,g in zip(controls, cv_gradients)]"
   ]
  },
  {
   "cell_type": "code",
   "execution_count": 40,
   "metadata": {},
   "outputs": [
    {
     "data": {
      "text/plain": [
       "<tf.Tensor 'KLd:0' shape=() dtype=string>"
      ]
     },
     "execution_count": 40,
     "metadata": {},
     "output_type": "execute_result"
    }
   ],
   "source": [
    "tf.summary.scalar('KLd', hard_kl)"
   ]
  },
  {
   "cell_type": "code",
   "execution_count": 41,
   "metadata": {},
   "outputs": [],
   "source": [
    "lr = tf.Variable(0.0001)\n",
    "main_opt = tf.train.AdamOptimizer(lr).apply_gradients(main_updates)\n",
    "cont_opt = tf.train.AdadeltaOptimizer(0.001).apply_gradients(control_updates)"
   ]
  },
  {
   "cell_type": "code",
   "execution_count": 42,
   "metadata": {},
   "outputs": [
    {
     "data": {
      "text/plain": [
       "[(<tf.Tensor 'gradients_1/Shock_Distr/shock_distr/controls/Exp_grad/mul:0' shape=(20, 1) dtype=float32>,\n",
       "  <tf.Variable 'Shock_Distr/shock_distr/controls/pretemp:0' shape=(20, 1) dtype=float32_ref>),\n",
       " (<tf.Tensor 'gradients_1/Shock_Distr/shock_distr/controls/Exp_1_grad/mul:0' shape=() dtype=float32>,\n",
       "  <tf.Variable 'Shock_Distr/shock_distr/controls/preeta:0' shape=() dtype=float32_ref>),\n",
       " (<tf.Tensor 'gradients_1/AddN_30:0' shape=(40, 128) dtype=float32>,\n",
       "  <tf.Variable 'Shock_Distr/shock_distr/controls/RELAX/FCN/d0/W:0' shape=(40, 128) dtype=float32_ref>),\n",
       " (<tf.Tensor 'gradients_1/AddN_28:0' shape=(1, 128) dtype=float32>,\n",
       "  <tf.Variable 'Shock_Distr/shock_distr/controls/RELAX/FCN/d0/b:0' shape=(1, 128) dtype=float32_ref>),\n",
       " (<tf.Tensor 'gradients_1/AddN_25:0' shape=(128, 64) dtype=float32>,\n",
       "  <tf.Variable 'Shock_Distr/shock_distr/controls/RELAX/FCN/d1/W:0' shape=(128, 64) dtype=float32_ref>),\n",
       " (<tf.Tensor 'gradients_1/AddN_23:0' shape=(1, 64) dtype=float32>,\n",
       "  <tf.Variable 'Shock_Distr/shock_distr/controls/RELAX/FCN/d1/b:0' shape=(1, 64) dtype=float32_ref>),\n",
       " (<tf.Tensor 'gradients_1/AddN_20:0' shape=(64, 1) dtype=float32>,\n",
       "  <tf.Variable 'Shock_Distr/shock_distr/controls/RELAX/FCN/d2/W:0' shape=(64, 1) dtype=float32_ref>),\n",
       " (<tf.Tensor 'gradients_1/shock_distr/RELAX/FCN/strided_slice_grad/StridedSliceGrad:0' shape=(1, 1) dtype=float32>,\n",
       "  <tf.Variable 'Shock_Distr/shock_distr/controls/RELAX/FCN/d2/b:0' shape=(1, 1) dtype=float32_ref>)]"
      ]
     },
     "execution_count": 42,
     "metadata": {},
     "output_type": "execute_result"
    }
   ],
   "source": [
    "control_updates"
   ]
  },
  {
   "cell_type": "code",
   "execution_count": 43,
   "metadata": {},
   "outputs": [],
   "source": [
    "opt = [main_opt, cont_opt]"
   ]
  },
  {
   "cell_type": "code",
   "execution_count": 44,
   "metadata": {},
   "outputs": [],
   "source": [
    "sess = tf.InteractiveSession()"
   ]
  },
  {
   "cell_type": "code",
   "execution_count": 45,
   "metadata": {},
   "outputs": [],
   "source": [
    "!rm -R /tmp/tfdbg"
   ]
  },
  {
   "cell_type": "code",
   "execution_count": 46,
   "metadata": {},
   "outputs": [],
   "source": [
    "!mkdir /tmp/tfdbg\n",
    "writer = tf.summary.FileWriter('/tmp/tfdbg/relax_ipc')"
   ]
  },
  {
   "cell_type": "code",
   "execution_count": 47,
   "metadata": {},
   "outputs": [],
   "source": [
    "writer.add_graph(tf.get_default_graph())"
   ]
  },
  {
   "cell_type": "code",
   "execution_count": 48,
   "metadata": {},
   "outputs": [],
   "source": [
    "tf.global_variables_initializer().run()"
   ]
  },
  {
   "cell_type": "code",
   "execution_count": 49,
   "metadata": {},
   "outputs": [
    {
     "data": {
      "text/plain": [
       "0.92136025"
      ]
     },
     "execution_count": 49,
     "metadata": {},
     "output_type": "execute_result"
    }
   ],
   "source": [
    "hard_kl.eval()"
   ]
  },
  {
   "cell_type": "code",
   "execution_count": 50,
   "metadata": {},
   "outputs": [
    {
     "data": {
      "text/plain": [
       "<tf.Tensor 'gradients_1/Shock_Distr/shock_distr/controls/Exp_grad/mul:0' shape=(20, 1) dtype=float32>"
      ]
     },
     "execution_count": 50,
     "metadata": {},
     "output_type": "execute_result"
    }
   ],
   "source": [
    "cv_gradients[0]"
   ]
  },
  {
   "cell_type": "code",
   "execution_count": 51,
   "metadata": {},
   "outputs": [
    {
     "data": {
      "text/plain": [
       "array([[ 0.00564503],\n",
       "       [ 0.7359713 ],\n",
       "       [ 0.43329102],\n",
       "       [ 0.48576277],\n",
       "       [ 0.32651675],\n",
       "       [ 1.3353233 ],\n",
       "       [ 0.6672481 ],\n",
       "       [ 0.68942255],\n",
       "       [ 0.9736419 ],\n",
       "       [ 0.49708205],\n",
       "       [ 0.9446544 ],\n",
       "       [ 1.0309949 ],\n",
       "       [ 0.82388735],\n",
       "       [-0.13340184],\n",
       "       [ 1.065641  ],\n",
       "       [ 0.67727464],\n",
       "       [ 1.4374362 ],\n",
       "       [ 0.9297004 ],\n",
       "       [ 0.53931457],\n",
       "       [ 0.92549956]], dtype=float32)"
      ]
     },
     "execution_count": 51,
     "metadata": {},
     "output_type": "execute_result"
    }
   ],
   "source": [
    "a = []\n",
    "for _ in range(1000):\n",
    "    a.append(sess.run(cv_gradients[0]))\n",
    "np.mean(a, axis=0)"
   ]
  },
  {
   "cell_type": "code",
   "execution_count": 52,
   "metadata": {},
   "outputs": [],
   "source": [
    "np.set_printoptions(precision=3)"
   ]
  },
  {
   "cell_type": "code",
   "execution_count": 53,
   "metadata": {},
   "outputs": [],
   "source": [
    "# PWalk.inverse_sigma.eval()[:3,:3]"
   ]
  },
  {
   "cell_type": "code",
   "execution_count": 54,
   "metadata": {},
   "outputs": [],
   "source": [
    "out = tf.reshape(outputs, [NUM_STEPS, dim[0], dim[1]])"
   ]
  },
  {
   "cell_type": "code",
   "execution_count": 55,
   "metadata": {},
   "outputs": [],
   "source": [
    "epoch = 0"
   ]
  },
  {
   "cell_type": "code",
   "execution_count": 56,
   "metadata": {},
   "outputs": [],
   "source": [
    "all_sum = tf.summary.merge_all()"
   ]
  },
  {
   "cell_type": "code",
   "execution_count": 58,
   "metadata": {},
   "outputs": [],
   "source": [
    "def check_ppc(timestep):\n",
    "    n = 1000\n",
    "    all_preds = []\n",
    "    for _ in range(n):\n",
    "        tp = preds.eval({stop_time:timestep-1})\n",
    "        tp = tp[timestep-1]\n",
    "        all_preds.append(tp)\n",
    "    all_preds = np.array(all_preds).mean(axis=0)\n",
    "#     print(xs.shape)\n",
    "    return np.sqrt(np.mean((all_preds - xs[0,timestep])**2))"
   ]
  },
  {
   "cell_type": "code",
   "execution_count": 68,
   "metadata": {
    "scrolled": true
   },
   "outputs": [
    {
     "name": "stdout",
     "output_type": "stream",
     "text": [
      "0.54925\n",
      "0.524513\n",
      "0.5319868\n",
      "0.55250907\n",
      "0.53049546\n",
      "0.53309196\n",
      "0.5353658\n",
      "0.53673095\n",
      "0.53768593\n",
      "0.5358859\n",
      "0.53978574\n",
      "0.54349923\n",
      "0.5348442\n",
      "0.5366259\n",
      "0.53440756\n",
      "0.5300949\n",
      "0.54942703\n",
      "0.5201848\n",
      "0.5323611\n",
      "0.5564308\n",
      "0.53101784\n",
      "0.5423327\n",
      "0.5313858\n",
      "0.5144493\n",
      "0.5325689\n",
      "0.5438802\n",
      "0.5382131\n",
      "0.5386073\n",
      "0.53043264\n",
      "0.527669\n",
      "0.5381655\n",
      "0.5326289\n",
      "0.53384525\n",
      "0.53835297\n",
      "0.53613156\n",
      "0.5391271\n",
      "0.5430298\n",
      "0.60547894\n"
     ]
    },
    {
     "ename": "KeyboardInterrupt",
     "evalue": "",
     "output_type": "error",
     "traceback": [
      "\u001b[0;31m---------------------------------------------------------------------------\u001b[0m",
      "\u001b[0;31mKeyboardInterrupt\u001b[0m                         Traceback (most recent call last)",
      "\u001b[0;32m<timed exec>\u001b[0m in \u001b[0;36m<module>\u001b[0;34m()\u001b[0m\n",
      "\u001b[0;32m/usr/lib/python3.6/site-packages/tensorflow/python/client/session.py\u001b[0m in \u001b[0;36mrun\u001b[0;34m(self, fetches, feed_dict, options, run_metadata)\u001b[0m\n\u001b[1;32m    903\u001b[0m     \u001b[0;32mtry\u001b[0m\u001b[0;34m:\u001b[0m\u001b[0;34m\u001b[0m\u001b[0m\n\u001b[1;32m    904\u001b[0m       result = self._run(None, fetches, feed_dict, options_ptr,\n\u001b[0;32m--> 905\u001b[0;31m                          run_metadata_ptr)\n\u001b[0m\u001b[1;32m    906\u001b[0m       \u001b[0;32mif\u001b[0m \u001b[0mrun_metadata\u001b[0m\u001b[0;34m:\u001b[0m\u001b[0;34m\u001b[0m\u001b[0m\n\u001b[1;32m    907\u001b[0m         \u001b[0mproto_data\u001b[0m \u001b[0;34m=\u001b[0m \u001b[0mtf_session\u001b[0m\u001b[0;34m.\u001b[0m\u001b[0mTF_GetBuffer\u001b[0m\u001b[0;34m(\u001b[0m\u001b[0mrun_metadata_ptr\u001b[0m\u001b[0;34m)\u001b[0m\u001b[0;34m\u001b[0m\u001b[0m\n",
      "\u001b[0;32m/usr/lib/python3.6/site-packages/tensorflow/python/client/session.py\u001b[0m in \u001b[0;36m_run\u001b[0;34m(self, handle, fetches, feed_dict, options, run_metadata)\u001b[0m\n\u001b[1;32m   1138\u001b[0m     \u001b[0;32mif\u001b[0m \u001b[0mfinal_fetches\u001b[0m \u001b[0;32mor\u001b[0m \u001b[0mfinal_targets\u001b[0m \u001b[0;32mor\u001b[0m \u001b[0;34m(\u001b[0m\u001b[0mhandle\u001b[0m \u001b[0;32mand\u001b[0m \u001b[0mfeed_dict_tensor\u001b[0m\u001b[0;34m)\u001b[0m\u001b[0;34m:\u001b[0m\u001b[0;34m\u001b[0m\u001b[0m\n\u001b[1;32m   1139\u001b[0m       results = self._do_run(handle, final_targets, final_fetches,\n\u001b[0;32m-> 1140\u001b[0;31m                              feed_dict_tensor, options, run_metadata)\n\u001b[0m\u001b[1;32m   1141\u001b[0m     \u001b[0;32melse\u001b[0m\u001b[0;34m:\u001b[0m\u001b[0;34m\u001b[0m\u001b[0m\n\u001b[1;32m   1142\u001b[0m       \u001b[0mresults\u001b[0m \u001b[0;34m=\u001b[0m \u001b[0;34m[\u001b[0m\u001b[0;34m]\u001b[0m\u001b[0;34m\u001b[0m\u001b[0m\n",
      "\u001b[0;32m/usr/lib/python3.6/site-packages/tensorflow/python/client/session.py\u001b[0m in \u001b[0;36m_do_run\u001b[0;34m(self, handle, target_list, fetch_list, feed_dict, options, run_metadata)\u001b[0m\n\u001b[1;32m   1319\u001b[0m     \u001b[0;32mif\u001b[0m \u001b[0mhandle\u001b[0m \u001b[0;32mis\u001b[0m \u001b[0;32mNone\u001b[0m\u001b[0;34m:\u001b[0m\u001b[0;34m\u001b[0m\u001b[0m\n\u001b[1;32m   1320\u001b[0m       return self._do_call(_run_fn, feeds, fetches, targets, options,\n\u001b[0;32m-> 1321\u001b[0;31m                            run_metadata)\n\u001b[0m\u001b[1;32m   1322\u001b[0m     \u001b[0;32melse\u001b[0m\u001b[0;34m:\u001b[0m\u001b[0;34m\u001b[0m\u001b[0m\n\u001b[1;32m   1323\u001b[0m       \u001b[0;32mreturn\u001b[0m \u001b[0mself\u001b[0m\u001b[0;34m.\u001b[0m\u001b[0m_do_call\u001b[0m\u001b[0;34m(\u001b[0m\u001b[0m_prun_fn\u001b[0m\u001b[0;34m,\u001b[0m \u001b[0mhandle\u001b[0m\u001b[0;34m,\u001b[0m \u001b[0mfeeds\u001b[0m\u001b[0;34m,\u001b[0m \u001b[0mfetches\u001b[0m\u001b[0;34m)\u001b[0m\u001b[0;34m\u001b[0m\u001b[0m\n",
      "\u001b[0;32m/usr/lib/python3.6/site-packages/tensorflow/python/client/session.py\u001b[0m in \u001b[0;36m_do_call\u001b[0;34m(self, fn, *args)\u001b[0m\n\u001b[1;32m   1325\u001b[0m   \u001b[0;32mdef\u001b[0m \u001b[0m_do_call\u001b[0m\u001b[0;34m(\u001b[0m\u001b[0mself\u001b[0m\u001b[0;34m,\u001b[0m \u001b[0mfn\u001b[0m\u001b[0;34m,\u001b[0m \u001b[0;34m*\u001b[0m\u001b[0margs\u001b[0m\u001b[0;34m)\u001b[0m\u001b[0;34m:\u001b[0m\u001b[0;34m\u001b[0m\u001b[0m\n\u001b[1;32m   1326\u001b[0m     \u001b[0;32mtry\u001b[0m\u001b[0;34m:\u001b[0m\u001b[0;34m\u001b[0m\u001b[0m\n\u001b[0;32m-> 1327\u001b[0;31m       \u001b[0;32mreturn\u001b[0m \u001b[0mfn\u001b[0m\u001b[0;34m(\u001b[0m\u001b[0;34m*\u001b[0m\u001b[0margs\u001b[0m\u001b[0;34m)\u001b[0m\u001b[0;34m\u001b[0m\u001b[0m\n\u001b[0m\u001b[1;32m   1328\u001b[0m     \u001b[0;32mexcept\u001b[0m \u001b[0merrors\u001b[0m\u001b[0;34m.\u001b[0m\u001b[0mOpError\u001b[0m \u001b[0;32mas\u001b[0m \u001b[0me\u001b[0m\u001b[0;34m:\u001b[0m\u001b[0;34m\u001b[0m\u001b[0m\n\u001b[1;32m   1329\u001b[0m       \u001b[0mmessage\u001b[0m \u001b[0;34m=\u001b[0m \u001b[0mcompat\u001b[0m\u001b[0;34m.\u001b[0m\u001b[0mas_text\u001b[0m\u001b[0;34m(\u001b[0m\u001b[0me\u001b[0m\u001b[0;34m.\u001b[0m\u001b[0mmessage\u001b[0m\u001b[0;34m)\u001b[0m\u001b[0;34m\u001b[0m\u001b[0m\n",
      "\u001b[0;32m/usr/lib/python3.6/site-packages/tensorflow/python/client/session.py\u001b[0m in \u001b[0;36m_run_fn\u001b[0;34m(feed_dict, fetch_list, target_list, options, run_metadata)\u001b[0m\n\u001b[1;32m   1310\u001b[0m       \u001b[0mself\u001b[0m\u001b[0;34m.\u001b[0m\u001b[0m_extend_graph\u001b[0m\u001b[0;34m(\u001b[0m\u001b[0;34m)\u001b[0m\u001b[0;34m\u001b[0m\u001b[0m\n\u001b[1;32m   1311\u001b[0m       return self._call_tf_sessionrun(\n\u001b[0;32m-> 1312\u001b[0;31m           options, feed_dict, fetch_list, target_list, run_metadata)\n\u001b[0m\u001b[1;32m   1313\u001b[0m \u001b[0;34m\u001b[0m\u001b[0m\n\u001b[1;32m   1314\u001b[0m     \u001b[0;32mdef\u001b[0m \u001b[0m_prun_fn\u001b[0m\u001b[0;34m(\u001b[0m\u001b[0mhandle\u001b[0m\u001b[0;34m,\u001b[0m \u001b[0mfeed_dict\u001b[0m\u001b[0;34m,\u001b[0m \u001b[0mfetch_list\u001b[0m\u001b[0;34m)\u001b[0m\u001b[0;34m:\u001b[0m\u001b[0;34m\u001b[0m\u001b[0m\n",
      "\u001b[0;32m/usr/lib/python3.6/site-packages/tensorflow/python/client/session.py\u001b[0m in \u001b[0;36m_call_tf_sessionrun\u001b[0;34m(self, options, feed_dict, fetch_list, target_list, run_metadata)\u001b[0m\n\u001b[1;32m   1418\u001b[0m         return tf_session.TF_Run(\n\u001b[1;32m   1419\u001b[0m             \u001b[0mself\u001b[0m\u001b[0;34m.\u001b[0m\u001b[0m_session\u001b[0m\u001b[0;34m,\u001b[0m \u001b[0moptions\u001b[0m\u001b[0;34m,\u001b[0m \u001b[0mfeed_dict\u001b[0m\u001b[0;34m,\u001b[0m \u001b[0mfetch_list\u001b[0m\u001b[0;34m,\u001b[0m \u001b[0mtarget_list\u001b[0m\u001b[0;34m,\u001b[0m\u001b[0;34m\u001b[0m\u001b[0m\n\u001b[0;32m-> 1420\u001b[0;31m             status, run_metadata)\n\u001b[0m\u001b[1;32m   1421\u001b[0m \u001b[0;34m\u001b[0m\u001b[0m\n\u001b[1;32m   1422\u001b[0m   \u001b[0;32mdef\u001b[0m \u001b[0m_call_tf_sessionprun\u001b[0m\u001b[0;34m(\u001b[0m\u001b[0mself\u001b[0m\u001b[0;34m,\u001b[0m \u001b[0mhandle\u001b[0m\u001b[0;34m,\u001b[0m \u001b[0mfeed_dict\u001b[0m\u001b[0;34m,\u001b[0m \u001b[0mfetch_list\u001b[0m\u001b[0;34m)\u001b[0m\u001b[0;34m:\u001b[0m\u001b[0;34m\u001b[0m\u001b[0m\n",
      "\u001b[0;31mKeyboardInterrupt\u001b[0m: "
     ]
    }
   ],
   "source": [
    "%%time\n",
    "for epoch in range(epoch, epoch+1000):\n",
    "    for i in range(1000):\n",
    "        l, _ = sess.run([hard_kl, opt], {phase:True})\n",
    "        if i % 10 == 0:\n",
    "            s = all_sum.eval({phase:True})\n",
    "            writer.add_summary(s, global_step=epoch*1000 + i)\n",
    "    print(l)"
   ]
  },
  {
   "cell_type": "code",
   "execution_count": 71,
   "metadata": {},
   "outputs": [
    {
     "data": {
      "text/plain": [
       "-4"
      ]
     },
     "execution_count": 71,
     "metadata": {},
     "output_type": "execute_result"
    }
   ],
   "source": [
    "penalty_op.eval()"
   ]
  },
  {
   "cell_type": "code",
   "execution_count": 85,
   "metadata": {},
   "outputs": [
    {
     "data": {
      "text/plain": [
       "-3"
      ]
     },
     "execution_count": 85,
     "metadata": {},
     "output_type": "execute_result"
    }
   ],
   "source": [
    "penalty.assign(-3).eval()"
   ]
  },
  {
   "cell_type": "code",
   "execution_count": 58,
   "metadata": {},
   "outputs": [
    {
     "ename": "IndexError",
     "evalue": "index 20 is out of bounds for axis 1 with size 20",
     "output_type": "error",
     "traceback": [
      "\u001b[0;31m---------------------------------------------------------------------------\u001b[0m",
      "\u001b[0;31mIndexError\u001b[0m                                Traceback (most recent call last)",
      "\u001b[0;32m<ipython-input-58-37ba4bfad02d>\u001b[0m in \u001b[0;36m<module>\u001b[0;34m()\u001b[0m\n\u001b[1;32m      1\u001b[0m \u001b[0mppcs\u001b[0m \u001b[0;34m=\u001b[0m \u001b[0;34m[\u001b[0m\u001b[0;34m]\u001b[0m\u001b[0;34m\u001b[0m\u001b[0m\n\u001b[1;32m      2\u001b[0m \u001b[0;32mfor\u001b[0m \u001b[0mi\u001b[0m \u001b[0;32min\u001b[0m \u001b[0mrange\u001b[0m\u001b[0;34m(\u001b[0m\u001b[0;36m1\u001b[0m\u001b[0;34m,\u001b[0m \u001b[0;36m33\u001b[0m\u001b[0;34m)\u001b[0m\u001b[0;34m:\u001b[0m\u001b[0;34m\u001b[0m\u001b[0m\n\u001b[0;32m----> 3\u001b[0;31m     \u001b[0mppcs\u001b[0m\u001b[0;34m.\u001b[0m\u001b[0mappend\u001b[0m\u001b[0;34m(\u001b[0m\u001b[0mcheck_ppc\u001b[0m\u001b[0;34m(\u001b[0m\u001b[0mi\u001b[0m\u001b[0;34m)\u001b[0m\u001b[0;34m)\u001b[0m\u001b[0;34m\u001b[0m\u001b[0m\n\u001b[0m",
      "\u001b[0;32m<ipython-input-56-be155dd73434>\u001b[0m in \u001b[0;36mcheck_ppc\u001b[0;34m(timestep)\u001b[0m\n\u001b[1;32m      8\u001b[0m     \u001b[0mall_preds\u001b[0m \u001b[0;34m=\u001b[0m \u001b[0mnp\u001b[0m\u001b[0;34m.\u001b[0m\u001b[0marray\u001b[0m\u001b[0;34m(\u001b[0m\u001b[0mall_preds\u001b[0m\u001b[0;34m)\u001b[0m\u001b[0;34m.\u001b[0m\u001b[0mmean\u001b[0m\u001b[0;34m(\u001b[0m\u001b[0maxis\u001b[0m\u001b[0;34m=\u001b[0m\u001b[0;36m0\u001b[0m\u001b[0;34m)\u001b[0m\u001b[0;34m\u001b[0m\u001b[0m\n\u001b[1;32m      9\u001b[0m \u001b[0;31m#     print(xs.shape)\u001b[0m\u001b[0;34m\u001b[0m\u001b[0;34m\u001b[0m\u001b[0m\n\u001b[0;32m---> 10\u001b[0;31m     \u001b[0;32mreturn\u001b[0m \u001b[0mnp\u001b[0m\u001b[0;34m.\u001b[0m\u001b[0msqrt\u001b[0m\u001b[0;34m(\u001b[0m\u001b[0mnp\u001b[0m\u001b[0;34m.\u001b[0m\u001b[0mmean\u001b[0m\u001b[0;34m(\u001b[0m\u001b[0;34m(\u001b[0m\u001b[0mall_preds\u001b[0m \u001b[0;34m-\u001b[0m \u001b[0mxs\u001b[0m\u001b[0;34m[\u001b[0m\u001b[0;36m0\u001b[0m\u001b[0;34m,\u001b[0m\u001b[0mtimestep\u001b[0m\u001b[0;34m]\u001b[0m\u001b[0;34m)\u001b[0m\u001b[0;34m**\u001b[0m\u001b[0;36m2\u001b[0m\u001b[0;34m)\u001b[0m\u001b[0;34m)\u001b[0m\u001b[0;34m\u001b[0m\u001b[0m\n\u001b[0m",
      "\u001b[0;31mIndexError\u001b[0m: index 20 is out of bounds for axis 1 with size 20"
     ]
    }
   ],
   "source": [
    "ppcs = []\n",
    "for i in range(1, 33):\n",
    "    ppcs.append(check_ppc(i))"
   ]
  },
  {
   "cell_type": "code",
   "execution_count": 58,
   "metadata": {},
   "outputs": [
    {
     "ename": "NameError",
     "evalue": "name 'ppcs' is not defined",
     "output_type": "error",
     "traceback": [
      "\u001b[0;31m---------------------------------------------------------------------------\u001b[0m",
      "\u001b[0;31mNameError\u001b[0m                                 Traceback (most recent call last)",
      "\u001b[0;32m<ipython-input-58-c55cc9d60bdb>\u001b[0m in \u001b[0;36m<module>\u001b[0;34m()\u001b[0m\n\u001b[0;32m----> 1\u001b[0;31m \u001b[0mplt\u001b[0m\u001b[0;34m.\u001b[0m\u001b[0mplot\u001b[0m\u001b[0;34m(\u001b[0m\u001b[0mppcs\u001b[0m\u001b[0;34m)\u001b[0m\u001b[0;34m\u001b[0m\u001b[0m\n\u001b[0m\u001b[1;32m      2\u001b[0m \u001b[0mplt\u001b[0m\u001b[0;34m.\u001b[0m\u001b[0mshow\u001b[0m\u001b[0;34m(\u001b[0m\u001b[0;34m)\u001b[0m\u001b[0;34m\u001b[0m\u001b[0m\n",
      "\u001b[0;31mNameError\u001b[0m: name 'ppcs' is not defined"
     ]
    }
   ],
   "source": [
    "plt.plot(ppcs)\n",
    "plt.show()"
   ]
  },
  {
   "cell_type": "code",
   "execution_count": 59,
   "metadata": {},
   "outputs": [
    {
     "data": {
      "image/png": "[encoded data removed]",
      "text/plain": [
       "<matplotlib.figure.Figure at 0x7f15d824c2b0>"
      ]
     },
     "metadata": {},
     "output_type": "display_data"
    }
   ],
   "source": [
    "plt.plot(ppcs)\n",
    "plt.show()"
   ]
  },
  {
   "cell_type": "code",
   "execution_count": 61,
   "metadata": {},
   "outputs": [
    {
     "data": {
      "text/plain": [
       "39"
      ]
     },
     "execution_count": 61,
     "metadata": {},
     "output_type": "execute_result"
    }
   ],
   "source": [
    "epoch"
   ]
  },
  {
   "cell_type": "code",
   "execution_count": 83,
   "metadata": {},
   "outputs": [
    {
     "data": {
      "text/plain": [
       "1e-04"
      ]
     },
     "execution_count": 83,
     "metadata": {},
     "output_type": "execute_result"
    }
   ],
   "source": [
    "lr.assign(0.0001).eval()"
   ]
  },
  {
   "cell_type": "code",
   "execution_count": 69,
   "metadata": {},
   "outputs": [
    {
     "name": "stdout",
     "output_type": "stream",
     "text": [
      "[[7.642e-01 1.400e-03 6.000e-04 6.050e-03 1.100e-03 1.000e-04 1.000e-04\n",
      "  1.550e-03 6.950e-03 2.950e-03 5.000e-05 2.850e-03 2.450e-03 4.900e-03\n",
      "  6.000e-04 2.550e-03 1.500e-04 3.700e-03 8.500e-04 2.200e-03]]\n"
     ]
    }
   ],
   "source": [
    "ss = []\n",
    "for _ in range(20000):\n",
    "    s = shocks_hard.eval()[:,:,1].astype('float')\n",
    "    ss.append(s)\n",
    "ss = np.array(ss)\n",
    "print(ss.mean(axis=0))"
   ]
  },
  {
   "cell_type": "code",
   "execution_count": 70,
   "metadata": {},
   "outputs": [
    {
     "data": {
      "image/png": "[encoded data removed]",
      "text/plain": [
       "<Figure size 432x288 with 1 Axes>"
      ]
     },
     "metadata": {},
     "output_type": "display_data"
    }
   ],
   "source": [
    "x = range(2016-data.shape[1],2016)\n",
    "plt.plot(x, ss.mean(axis=0)[0][:])\n",
    "plt.show()"
   ]
  },
  {
   "cell_type": "code",
   "execution_count": 71,
   "metadata": {},
   "outputs": [
    {
     "ename": "AttributeError",
     "evalue": "'NormalRW' object has no attribute 'inverse_sigma'",
     "output_type": "error",
     "traceback": [
      "\u001b[0;31m---------------------------------------------------------------------------\u001b[0m",
      "\u001b[0;31mAttributeError\u001b[0m                            Traceback (most recent call last)",
      "\u001b[0;32m<ipython-input-71-7fd599b6d73f>\u001b[0m in \u001b[0;36m<module>\u001b[0;34m()\u001b[0m\n\u001b[1;32m      2\u001b[0m \u001b[0maa\u001b[0m \u001b[0;34m=\u001b[0m \u001b[0;34m[\u001b[0m\u001b[0;34m]\u001b[0m\u001b[0;34m\u001b[0m\u001b[0m\n\u001b[1;32m      3\u001b[0m \u001b[0;32mfor\u001b[0m \u001b[0m_\u001b[0m \u001b[0;32min\u001b[0m \u001b[0mrange\u001b[0m\u001b[0;34m(\u001b[0m\u001b[0;36m3000\u001b[0m\u001b[0;34m)\u001b[0m\u001b[0;34m:\u001b[0m\u001b[0;34m\u001b[0m\u001b[0m\n\u001b[0;32m----> 4\u001b[0;31m     \u001b[0ma\u001b[0m \u001b[0;34m=\u001b[0m \u001b[0mnp\u001b[0m\u001b[0;34m.\u001b[0m\u001b[0mlinalg\u001b[0m\u001b[0;34m.\u001b[0m\u001b[0minv\u001b[0m\u001b[0;34m(\u001b[0m\u001b[0mPWalk\u001b[0m\u001b[0;34m.\u001b[0m\u001b[0minverse_sigma\u001b[0m\u001b[0;34m.\u001b[0m\u001b[0meval\u001b[0m\u001b[0;34m(\u001b[0m\u001b[0;34m)\u001b[0m\u001b[0;34m)\u001b[0m\u001b[0;34m\u001b[0m\u001b[0m\n\u001b[0m\u001b[1;32m      5\u001b[0m     \u001b[0mss\u001b[0m\u001b[0;34m.\u001b[0m\u001b[0mappend\u001b[0m\u001b[0;34m(\u001b[0m\u001b[0mnp\u001b[0m\u001b[0;34m.\u001b[0m\u001b[0msqrt\u001b[0m\u001b[0;34m(\u001b[0m\u001b[0mnp\u001b[0m\u001b[0;34m.\u001b[0m\u001b[0mdiag\u001b[0m\u001b[0;34m(\u001b[0m\u001b[0ma\u001b[0m\u001b[0;34m)\u001b[0m\u001b[0;34m)\u001b[0m\u001b[0;34m)\u001b[0m\u001b[0;34m\u001b[0m\u001b[0m\n\u001b[1;32m      6\u001b[0m     \u001b[0maa\u001b[0m\u001b[0;34m.\u001b[0m\u001b[0mappend\u001b[0m\u001b[0;34m(\u001b[0m\u001b[0ma\u001b[0m\u001b[0;34m)\u001b[0m\u001b[0;34m\u001b[0m\u001b[0m\n",
      "\u001b[0;31mAttributeError\u001b[0m: 'NormalRW' object has no attribute 'inverse_sigma'"
     ]
    }
   ],
   "source": [
    "ss = []\n",
    "aa = []\n",
    "for _ in range(3000):\n",
    "    a = np.linalg.inv(PWalk.inverse_sigma.eval())\n",
    "    ss.append(np.sqrt(np.diag(a)))\n",
    "    aa.append(a)\n",
    "ss = np.array(ss)\n",
    "aa = np.array(aa)"
   ]
  },
  {
   "cell_type": "code",
   "execution_count": 48,
   "metadata": {},
   "outputs": [
    {
     "data": {
      "text/plain": [
       "array([[ 1.2923e-04, -7.1903e-09,  3.5436e-08,  6.2896e-08,  3.5567e-08],\n",
       "       [-7.1903e-09,  1.3707e-04,  9.9602e-08, -8.9267e-08,  2.4762e-08],\n",
       "       [ 3.5436e-08,  9.9602e-08,  1.2321e-04,  5.1597e-08,  7.2189e-08],\n",
       "       [ 6.2896e-08, -8.9267e-08,  5.1597e-08,  1.2432e-04, -7.2140e-08],\n",
       "       [ 3.5567e-08,  2.4762e-08,  7.2189e-08, -7.2140e-08,  1.3892e-04]])"
      ]
     },
     "execution_count": 48,
     "metadata": {},
     "output_type": "execute_result"
    }
   ],
   "source": [
    "aa.mean(axis=0)[:5,:5]"
   ]
  },
  {
   "cell_type": "code",
   "execution_count": 49,
   "metadata": {},
   "outputs": [
    {
     "data": {
      "text/plain": [
       "(array([0.0112, 0.0115, 0.0109, 0.011 , 0.0116, 0.0112, 0.0116, 0.0117,\n",
       "        0.0098, 0.0093, 0.01  , 0.011 ]),\n",
       " array([0.0018, 0.002 , 0.0019, 0.0019, 0.002 , 0.0018, 0.0019, 0.0019,\n",
       "        0.0017, 0.0015, 0.0016, 0.0017]))"
      ]
     },
     "execution_count": 49,
     "metadata": {},
     "output_type": "execute_result"
    }
   ],
   "source": [
    "np.mean(ss, axis=0), np.std(ss, axis=0)"
   ]
  },
  {
   "cell_type": "code",
   "execution_count": 72,
   "metadata": {},
   "outputs": [],
   "source": [
    "# sns.kdeplot(ss[:,1], ss[:,0])\n",
    "# plt.show()"
   ]
  },
  {
   "cell_type": "code",
   "execution_count": 71,
   "metadata": {},
   "outputs": [],
   "source": [
    "samples = []\n",
    "for _ in range(3000):\n",
    "    s = out.eval({phase:True})\n",
    "    samples.append(s)\n",
    "samples = np.array(samples)"
   ]
  },
  {
   "cell_type": "code",
   "execution_count": 72,
   "metadata": {},
   "outputs": [
    {
     "data": {
      "image/png": "[encoded data removed]",
      "text/plain": [
       "<Figure size 432x288 with 1 Axes>"
      ]
     },
     "metadata": {},
     "output_type": "display_data"
    }
   ],
   "source": [
    "t = 10\n",
    "sns.kdeplot(samples[:,t,2,0], samples[:,t,0,3])\n",
    "plt.show()"
   ]
  },
  {
   "cell_type": "code",
   "execution_count": 73,
   "metadata": {},
   "outputs": [],
   "source": [
    "t = 10\n",
    "# params[t]"
   ]
  },
  {
   "cell_type": "code",
   "execution_count": 74,
   "metadata": {},
   "outputs": [
    {
     "data": {
      "text/plain": [
       "array([[ 0.051,  0.378, -0.497,  0.046],\n",
       "       [ 0.297, -0.269, -0.06 , -0.131],\n",
       "       [ 0.194, -0.361,  0.343, -0.23 ]], dtype=float32)"
      ]
     },
     "execution_count": 74,
     "metadata": {},
     "output_type": "execute_result"
    }
   ],
   "source": [
    "np.mean(samples[:,t], axis=0)"
   ]
  },
  {
   "cell_type": "code",
   "execution_count": 76,
   "metadata": {},
   "outputs": [
    {
     "data": {
      "text/plain": [
       "array([[0.15 , 0.151, 0.15 , 0.14 ],\n",
       "       [0.211, 0.211, 0.217, 0.143],\n",
       "       [0.164, 0.161, 0.159, 0.142]], dtype=float32)"
      ]
     },
     "execution_count": 76,
     "metadata": {},
     "output_type": "execute_result"
    }
   ],
   "source": [
    "np.std(samples[:,t], axis=0)"
   ]
  },
  {
   "cell_type": "code",
   "execution_count": 187,
   "metadata": {},
   "outputs": [],
   "source": []
  },
  {
   "cell_type": "code",
   "execution_count": 278,
   "metadata": {},
   "outputs": [],
   "source": [
    "from sklearn.neighbors.kde import KernelDensity\n",
    "def score(s1, s2):\n",
    "    bw = 0.1\n",
    "    s1 = s1[:,np.newaxis]\n",
    "    s2 = s2[:,np.newaxis]\n",
    "    e1 = KernelDensity(bandwidth=bw).fit(s1)\n",
    "    e2 = KernelDensity(bandwidth=bw).fit(s2)\n",
    "    \n",
    "    e1e2 = e1.score(s1) - e2.score(s1)\n",
    "    e2e1 = e2.score(s2) - e1.score(s2)\n",
    "    dist = (e1e2/len(s1) + e2e1/len(s2))/2\n",
    "    return dist"
   ]
  },
  {
   "cell_type": "code",
   "execution_count": 271,
   "metadata": {},
   "outputs": [],
   "source": [
    "def get_cdf(ts):\n",
    "    return lambda x: (ts <= x).mean()\n",
    "def score(s1,s2):\n",
    "    c1 = get_cdf(s1)\n",
    "    c2 = get_cdf(s2)\n",
    "\n",
    "    m = 0\n",
    "    for s in np.concatenate([s1, s2]):\n",
    "        r = np.abs(c1(s) - c2(s))\n",
    "        if r > m:\n",
    "            m = r\n",
    "    return m"
   ]
  },
  {
   "cell_type": "code",
   "execution_count": 203,
   "metadata": {},
   "outputs": [
    {
     "data": {
      "text/plain": [
       "0.00014521624382734903"
      ]
     },
     "execution_count": 203,
     "metadata": {},
     "output_type": "execute_result"
    }
   ],
   "source": [
    "score(s1,s2)"
   ]
  },
  {
   "cell_type": "code",
   "execution_count": 279,
   "metadata": {},
   "outputs": [
    {
     "name": "stdout",
     "output_type": "stream",
     "text": [
      "0\n",
      "1\n",
      "2\n",
      "3\n",
      "4\n",
      "6\n",
      "7\n",
      "8\n",
      "9\n",
      "10\n",
      "11\n",
      "12\n",
      "13\n",
      "14\n",
      "15\n",
      "16\n",
      "17\n",
      "18\n"
     ]
    }
   ],
   "source": [
    "dists = []\n",
    "for t1 in range(samples.shape[1] - 1):\n",
    "    np.random.seed(1234)\n",
    "    print(t1)\n",
    "    t2 = t1 + 1\n",
    "    s1 = samples[:,t1,0,0]\n",
    "    s2 = samples[:,t2,0,0]\n",
    "    ss = []\n",
    "    for _ in range(10):\n",
    "        s1_ = np.random.choice(s1, size=8000)\n",
    "        s2_ = np.random.choice(s2, size=8000)\n",
    "        m = score(s1_,s2_)\n",
    "        ss.append(m)\n",
    "    dists.append(ss)\n",
    "dists = np.array(dists).T"
   ]
  },
  {
   "cell_type": "markdown",
   "metadata": {},
   "source": [
    "## KDE + KL"
   ]
  },
  {
   "cell_type": "code",
   "execution_count": 270,
   "metadata": {},
   "outputs": [
    {
     "name": "stderr",
     "output_type": "stream",
     "text": [
      "/home/nikita/.virtualenvs/py3.6/lib/python3.6/site-packages/seaborn/timeseries.py:183: UserWarning: The tsplot function is deprecated and will be removed or replaced (in a substantially altered version) in a future release.\n",
      "  warnings.warn(msg, UserWarning)\n"
     ]
    },
    {
     "data": {
      "image/png": "[encoded data removed]",
      "text/plain": [
       "<matplotlib.figure.Figure at 0x7f08680eff60>"
      ]
     },
     "metadata": {},
     "output_type": "display_data"
    }
   ],
   "source": [
    "sns.tsplot(dists, ci=[50, 95])\n",
    "plt.show()"
   ]
  },
  {
   "cell_type": "code",
   "execution_count": 280,
   "metadata": {},
   "outputs": [
    {
     "name": "stderr",
     "output_type": "stream",
     "text": [
      "/home/nikita/.virtualenvs/py3.6/lib/python3.6/site-packages/seaborn/timeseries.py:183: UserWarning: The tsplot function is deprecated and will be removed or replaced (in a substantially altered version) in a future release.\n",
      "  warnings.warn(msg, UserWarning)\n"
     ]
    },
    {
     "data": {
      "image/png": "[encoded data removed]",
      "text/plain": [
       "<matplotlib.figure.Figure at 0x7f0863c040f0>"
      ]
     },
     "metadata": {},
     "output_type": "display_data"
    }
   ],
   "source": [
    "sns.tsplot(dists, ci=[50, 95])\n",
    "plt.show()"
   ]
  },
  {
   "cell_type": "markdown",
   "metadata": {},
   "source": [
    "## Kolmogorov-Smirnov"
   ]
  },
  {
   "cell_type": "code",
   "execution_count": 277,
   "metadata": {},
   "outputs": [
    {
     "name": "stderr",
     "output_type": "stream",
     "text": [
      "/home/nikita/.virtualenvs/py3.6/lib/python3.6/site-packages/seaborn/timeseries.py:183: UserWarning: The tsplot function is deprecated and will be removed or replaced (in a substantially altered version) in a future release.\n",
      "  warnings.warn(msg, UserWarning)\n"
     ]
    },
    {
     "data": {
      "image/png": "[encoded data removed]",
      "text/plain": [
       "<matplotlib.figure.Figure at 0x7f0863df7908>"
      ]
     },
     "metadata": {},
     "output_type": "display_data"
    }
   ],
   "source": [
    "sns.tsplot(dists, ci=[50, 95])\n",
    "plt.show()"
   ]
  },
  {
   "cell_type": "code",
   "execution_count": null,
   "metadata": {},
   "outputs": [],
   "source": [
    "tf.pow()"
   ]
  }
 ],
 "metadata": {
  "kernelspec": {
   "display_name": "py3.6",
   "language": "python",
   "name": "py3.6"
  },
  "language_info": {
   "codemirror_mode": {
    "name": "ipython",
    "version": 3
   },
   "file_extension": ".py",
   "mimetype": "text/x-python",
   "name": "python",
   "nbconvert_exporter": "python",
   "pygments_lexer": "ipython3",
   "version": "3.6.4"
  }
 },
 "nbformat": 4,
 "nbformat_minor": 2
}
