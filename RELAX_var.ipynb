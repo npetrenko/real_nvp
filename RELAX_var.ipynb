{
 "cells": [
  {
   "cell_type": "code",
   "execution_count": 1,
   "metadata": {},
   "outputs": [
    {
     "name": "stdout",
     "output_type": "stream",
     "text": [
      "WARNING:tensorflow:From /usr/lib/python3.6/site-packages/tensorflow/contrib/learn/python/learn/datasets/base.py:198: retry (from tensorflow.contrib.learn.python.learn.datasets.base) is deprecated and will be removed in a future version.\n",
      "Instructions for updating:\n",
      "Use the retry module or similar alternatives.\n"
     ]
    }
   ],
   "source": [
    "import tensorflow as tf\n",
    "from flows import NormalRW, DFlow, NVPFlow, LogNormal, GVAR, phase,\\\n",
    "Normal, floatX, MVNormal, MVNormalRW, Linear, LinearChol\n",
    "import flows\n",
    "\n",
    "import numpy as np\n",
    "import pandas as pd\n",
    "from matplotlib import pyplot as plt\n",
    "import seaborn as sns\n",
    "from tensorflow.contrib.distributions import WishartCholesky\n",
    "import math\n",
    "\n",
    "np.random.seed(1234)"
   ]
  },
  {
   "cell_type": "code",
   "execution_count": 2,
   "metadata": {},
   "outputs": [],
   "source": [
    "data = pd.read_csv('./data/test_rus_data.csv').values.astype(floatX).T[np.newaxis][:,1:]/100"
   ]
  },
  {
   "cell_type": "code",
   "execution_count": 3,
   "metadata": {},
   "outputs": [],
   "source": [
    "data = data[:,1:] - data[:,:-1]"
   ]
  },
  {
   "cell_type": "code",
   "execution_count": 4,
   "metadata": {},
   "outputs": [
    {
     "name": "stdout",
     "output_type": "stream",
     "text": [
      "[0.43681784 0.25903015 0.01298369]\n"
     ]
    }
   ],
   "source": [
    "stds = (data[0,1:] - data[0,:-1]).std(axis=0)\n",
    "print(stds)\n",
    "data /= stds"
   ]
  },
  {
   "cell_type": "code",
   "execution_count": 5,
   "metadata": {},
   "outputs": [
    {
     "data": {
      "text/plain": [
       "False"
      ]
     },
     "execution_count": 5,
     "metadata": {},
     "output_type": "execute_result"
    }
   ],
   "source": [
    "np.any(np.isnan(data))"
   ]
  },
  {
   "cell_type": "code",
   "execution_count": 6,
   "metadata": {},
   "outputs": [
    {
     "name": "stdout",
     "output_type": "stream",
     "text": [
      "<tensorflow.python.ops.variable_scope.VariableScope object at 0x7fd7025e1240>\n",
      "<tensorflow.python.ops.variable_scope.VariableScope object at 0x7fd7024d2278>\n"
     ]
    }
   ],
   "source": [
    "NUM_STEPS = data.shape[1]\n",
    "\n",
    "with tf.variable_scope('walk_ord'):\n",
    "    s1_prior_d = LogNormal(1, mu=math.log(0.01), sigma=1.)\n",
    "\n",
    "    with tf.variable_scope('s1_inference', dtype=floatX):\n",
    "        mu = tf.get_variable('mu', shape=[1], initializer=tf.constant_initializer(s1_prior_d.mu))\n",
    "        logsigma = tf.get_variable('logsigma', shape=[1], \n",
    "                                   initializer=tf.constant_initializer(math.log(s1_prior_d.sigma) - 1.))\n",
    "        sigma = tf.exp(logsigma)\n",
    "        s1_d = LogNormal(1, mu=mu, sigma=sigma)\n",
    "    \n",
    "    s1 = s1_d.sample()\n",
    "    tf.summary.scalar('s1_ord', s1[0])\n",
    "    tf.add_to_collection('logdensities', s1_d.logdens(s1))\n",
    "    \n",
    "    s1_prior = s1_prior_d.logdens(s1)\n",
    "    tf.add_to_collection('priors', s1_prior)\n",
    "    \n",
    "#distribution for shock increase factor\n",
    "with tf.variable_scope('walk_shock'):\n",
    "    incr_prior_d = LogNormal(1, mu=math.log(1.), sigma=.5)\n",
    "\n",
    "    with tf.variable_scope('incr_inference', dtype=floatX):\n",
    "        mu = tf.get_variable('mu', shape=[1], initializer=tf.constant_initializer(incr_prior_d.mu))\n",
    "        logsigma = tf.get_variable('logsigma', shape=[1], \n",
    "                                   initializer=tf.constant_initializer(math.log(incr_prior_d.sigma) - 1.))\n",
    "        sigma = tf.exp(logsigma)\n",
    "        incr_d = LogNormal(1, mu=mu, sigma=sigma)\n",
    "\n",
    "    incr = incr_d.sample()\n",
    "    tf.add_to_collection('logdensities', incr_d.logdens(incr))\n",
    "    \n",
    "    incr_prior = incr_prior_d.logdens(incr)\n",
    "    tf.add_to_collection('priors', incr_prior)\n",
    "\n",
    "    incr += 1.\n",
    "    s_shock = s1*incr\n",
    "    tf.summary.scalar('s1_shock', s_shock[0])\n",
    "    \n",
    "s0 = 80.\n",
    "dim = [3,4]\n",
    "\n",
    "K = dim[0] * dim[1]\n",
    "\n",
    "PWalk = NormalRW(dim=None, sigma0=s0, sigma=s1, name='OrdWalk')\n",
    "PWalk_shock = NormalRW(dim=None, sigma0=s0, sigma=s_shock, name='ShockWalk')"
   ]
  },
  {
   "cell_type": "code",
   "execution_count": 7,
   "metadata": {},
   "outputs": [],
   "source": [
    "#model coefficients\n",
    "gvar = GVAR(dim=dim[0]*dim[1], len=NUM_STEPS, name='coef_rw_inference')\n",
    "outputs = gvar.sample()\n",
    "# with tf.variable_scope('coefs_inference'):\n",
    "#     gvar = DFlow([LinearChol(NUM_STEPS*dim[0]*dim[1], name='coef_rw_inference', use_bias=False)], init_sigma=0.02)\n",
    "#     outputs = tf.reshape(gvar.output, [1,NUM_STEPS, dim[0]*dim[1]])\n",
    "#     outputs = tf.cumsum(outputs, axis=1)\n",
    "#     mu = tf.get_variable('mu', [1,NUM_STEPS,dim[0]*dim[1]])\n",
    "#     outputs += mu\n",
    "\n",
    "tf.add_to_collection('logdensities', gvar.logdens)"
   ]
  },
  {
   "cell_type": "code",
   "execution_count": 8,
   "metadata": {},
   "outputs": [
    {
     "data": {
      "text/plain": [
       "<tf.Tensor 'coef_rw_inference_1/VAR/strided_slice_20:0' shape=(1, 20, 12) dtype=float64>"
      ]
     },
     "execution_count": 8,
     "metadata": {},
     "output_type": "execute_result"
    }
   ],
   "source": [
    "outputs"
   ]
  },
  {
   "cell_type": "code",
   "execution_count": 9,
   "metadata": {},
   "outputs": [],
   "source": [
    "prior_ord = PWalk.logdens(outputs, reduce=False)\n",
    "prior_shock = PWalk_shock.logdens(outputs, reduce=False)"
   ]
  },
  {
   "cell_type": "code",
   "execution_count": 10,
   "metadata": {},
   "outputs": [
    {
     "data": {
      "text/plain": [
       "(<tf.Tensor 'OrdWalk_2/concat:0' shape=(1, 20) dtype=float64>,\n",
       " <tf.Tensor 'ShockWalk_2/concat:0' shape=(1, 20) dtype=float64>)"
      ]
     },
     "execution_count": 10,
     "metadata": {},
     "output_type": "execute_result"
    }
   ],
   "source": [
    "prior_ord, prior_shock"
   ]
  },
  {
   "cell_type": "code",
   "execution_count": 11,
   "metadata": {},
   "outputs": [],
   "source": [
    "with tf.variable_scope('Shock_Distr', reuse=tf.AUTO_REUSE):\n",
    "    shock_init_d = Normal([1,8])\n",
    "    shock_init = shock_init_d.sample()\n",
    "    \n",
    "    tf.add_to_collection('logdensities', shock_init_d.logdens(shock_init))\n",
    "    \n",
    "    shock_d = flows.dvae.RMultinomial([data.shape[1], 2], name='shock_distr')\n",
    "    shocks_soft_uncond, shocks_soft_cond, (shocks_hard, shocks_hard_logp, encoding_entropy) =\\\n",
    "    shock_d.encode(shock_init)\n",
    "    \n",
    "    shocks_hard_logp = tf.reduce_sum(shocks_hard_logp)"
   ]
  },
  {
   "cell_type": "code",
   "execution_count": null,
   "metadata": {},
   "outputs": [],
   "source": []
  },
  {
   "cell_type": "code",
   "execution_count": 12,
   "metadata": {},
   "outputs": [
    {
     "data": {
      "text/plain": [
       "<tf.Tensor 'Shock_Distr/shock_distr/controls/Exp:0' shape=(20, 1) dtype=float64>"
      ]
     },
     "execution_count": 12,
     "metadata": {},
     "output_type": "execute_result"
    }
   ],
   "source": [
    "shock_d.temp"
   ]
  },
  {
   "cell_type": "code",
   "execution_count": 13,
   "metadata": {},
   "outputs": [
    {
     "data": {
      "text/plain": [
       "<tf.Tensor 'Shock_Distr/shock_distr_1/encoder/latent_inf/Cast_1:0' shape=(1, 20, 2) dtype=float64>"
      ]
     },
     "execution_count": 13,
     "metadata": {},
     "output_type": "execute_result"
    }
   ],
   "source": [
    "shocks_hard"
   ]
  },
  {
   "cell_type": "code",
   "execution_count": 14,
   "metadata": {},
   "outputs": [],
   "source": [
    "def create_hard_shock_prior(num_shocks):\n",
    "    def c(n,k):\n",
    "        from scipy.special import binom\n",
    "        return tf.py_func(lambda x,y: int(binom(int(x),int(y))), [n, k], tf.int64)\n",
    "    \n",
    "    with tf.variable_scope('shocks_prior'):\n",
    "        spd = tf.contrib.distributions.Poisson(rate=NUM_STEPS/1.)\n",
    "        denum = tf.cast(c(NUM_STEPS, num_shocks), floatX)\n",
    "        return tf.cast(spd.log_prob(tf.cast(num_shocks, tf.float32)), floatX) - tf.log(denum)"
   ]
  },
  {
   "cell_type": "code",
   "execution_count": 15,
   "metadata": {},
   "outputs": [],
   "source": [
    "def create_soft_shock_prior(num_shocks):\n",
    "    lower = tf.cast(tf.floor(num_shocks), floatX)\n",
    "    upper = lower + 1.\n",
    "    lh = create_hard_shock_prior(lower)\n",
    "    uh = create_hard_shock_prior(upper)\n",
    "    prop = num_shocks-lower\n",
    "    return lh*(1.-prop) + uh*prop"
   ]
  },
  {
   "cell_type": "code",
   "execution_count": null,
   "metadata": {},
   "outputs": [],
   "source": []
  },
  {
   "cell_type": "code",
   "execution_count": 16,
   "metadata": {},
   "outputs": [],
   "source": [
    "obs_d_prior = LogNormal(dim=None, mu=math.log(0.5), sigma=0.5)\n",
    "\n",
    "with tf.variable_scope('obs_d_inference', dtype=floatX):\n",
    "    mu = tf.get_variable('mu', shape=[1], initializer=tf.constant_initializer(math.log(0.5)))\n",
    "    logsigma = tf.get_variable('logsigma', shape=[1], initializer=tf.constant_initializer(-5))\n",
    "    sigma = tf.exp(logsigma)\n",
    "    \n",
    "    obs_d_post = LogNormal(1, mu=mu, sigma=sigma)\n",
    "    obs_ds = obs_d_post.sample()\n",
    "    \n",
    "    obs_ds_logdens = obs_d_post.logdens(obs_ds)\n",
    "    tf.add_to_collection('logdensities', obs_ds_logdens)\n",
    "    tf.add_to_collection('priors', obs_d_prior.logdens(obs_ds))\n",
    "    \n",
    "    tf.summary.scalar('observ_sigma', obs_ds[0])"
   ]
  },
  {
   "cell_type": "code",
   "execution_count": 17,
   "metadata": {},
   "outputs": [],
   "source": [
    "def create_param_walk_prior(shocks):\n",
    "    with tf.name_scope('RW_prior'):\n",
    "        tmp = tf.cast(shocks[:,:,1], floatX)\n",
    "        prior = tmp*prior_shock + (1-tmp)*prior_ord\n",
    "        prior = tf.reduce_sum(prior) \n",
    "        return prior"
   ]
  },
  {
   "cell_type": "code",
   "execution_count": 18,
   "metadata": {},
   "outputs": [],
   "source": [
    "def predict(observable_mask):\n",
    "    out = tf.reshape(outputs, [NUM_STEPS, dim[0], dim[1]])\n",
    "    \n",
    "    def step(prev, x):\n",
    "        mask = x[0]\n",
    "        prev_pred = tf.where(mask, x[1], prev)[tf.newaxis]\n",
    "        params = x[2]\n",
    "        \n",
    "        d = params[:,:-1]\n",
    "        new_pred = tf.matmul(prev_pred, d)[0] + params[:,-1]\n",
    "        return new_pred\n",
    "    \n",
    "    ar = tf.scan(step, [observable_mask, data[0], out], initializer=tf.zeros([dim[0]], dtype=floatX))\n",
    "    return ar"
   ]
  },
  {
   "cell_type": "code",
   "execution_count": 19,
   "metadata": {},
   "outputs": [
    {
     "data": {
      "text/plain": [
       "20"
      ]
     },
     "execution_count": 19,
     "metadata": {},
     "output_type": "execute_result"
    }
   ],
   "source": [
    "data.shape[1]"
   ]
  },
  {
   "cell_type": "code",
   "execution_count": 20,
   "metadata": {},
   "outputs": [],
   "source": [
    "stop_time = tf.placeholder_with_default(NUM_STEPS, ())\n",
    "predict_mask = tf.range(0, data.shape[1], dtype=tf.int32) < stop_time\n",
    "#используем в предсказаниях ровно stop_time последних наблюдений"
   ]
  },
  {
   "cell_type": "code",
   "execution_count": 21,
   "metadata": {},
   "outputs": [],
   "source": [
    "preds = predict(predict_mask)"
   ]
  },
  {
   "cell_type": "code",
   "execution_count": 22,
   "metadata": {},
   "outputs": [
    {
     "data": {
      "text/plain": [
       "<tf.Tensor 'scan/TensorArrayStack/TensorArrayGatherV3:0' shape=(20, 3) dtype=float64>"
      ]
     },
     "execution_count": 22,
     "metadata": {},
     "output_type": "execute_result"
    }
   ],
   "source": [
    "preds"
   ]
  },
  {
   "cell_type": "code",
   "execution_count": 23,
   "metadata": {},
   "outputs": [],
   "source": [
    "obs_d = Normal(dim=None, sigma=obs_ds, mu=0)\n",
    "\n",
    "diffs = preds[:-1] - data[0,1:]\n",
    "\n",
    "logl = obs_d.logdens(diffs, reduce=False)\n",
    "logl *= tf.cast(predict_mask[:-1], floatX)[:,tf.newaxis]\n",
    "\n",
    "logl = tf.reduce_sum(logl)\n",
    "tf.add_to_collection('priors', logl)"
   ]
  },
  {
   "cell_type": "code",
   "execution_count": 24,
   "metadata": {},
   "outputs": [
    {
     "data": {
      "text/plain": [
       "<tf.Tensor 'logl:0' shape=() dtype=string>"
      ]
     },
     "execution_count": 24,
     "metadata": {},
     "output_type": "execute_result"
    }
   ],
   "source": [
    "tf.summary.scalar('logl', logl)"
   ]
  },
  {
   "cell_type": "code",
   "execution_count": 25,
   "metadata": {},
   "outputs": [],
   "source": [
    "def create_kl(shocks, shocks_prior=0.):\n",
    "    logdens = tf.reduce_sum(tf.get_collection('logdensities'))\n",
    "    prior = tf.reduce_sum(tf.get_collection('priors'))\n",
    "    \n",
    "    param_walk_prior = create_param_walk_prior(shocks)\n",
    "    KLd = -prior + logdens - shocks_prior - param_walk_prior\n",
    "    KLd /= NUM_STEPS*dim[0]*dim[1]\n",
    "    return KLd"
   ]
  },
  {
   "cell_type": "code",
   "execution_count": 26,
   "metadata": {},
   "outputs": [
    {
     "data": {
      "text/plain": [
       "[<tf.Tensor 'walk_ord/LogNormal_2/Sum:0' shape=() dtype=float64>,\n",
       " <tf.Tensor 'walk_shock/LogNormal_2/Sum:0' shape=() dtype=float64>,\n",
       " <tf.Tensor 'coef_rw_inference_1/VAR/logdens/add:0' shape=() dtype=float64>,\n",
       " <tf.Tensor 'Shock_Distr/Normal_2/Sum:0' shape=() dtype=float64>,\n",
       " <tf.Tensor 'obs_d_inference/LogNormal_2/Sum:0' shape=() dtype=float64>]"
      ]
     },
     "execution_count": 26,
     "metadata": {},
     "output_type": "execute_result"
    }
   ],
   "source": [
    "tf.get_collection('logdensities')"
   ]
  },
  {
   "cell_type": "code",
   "execution_count": 27,
   "metadata": {},
   "outputs": [
    {
     "data": {
      "text/plain": [
       "[<tf.Tensor 'walk_ord/LogNormal_3/Sum:0' shape=() dtype=float64>,\n",
       " <tf.Tensor 'walk_shock/LogNormal_3/Sum:0' shape=() dtype=float64>,\n",
       " <tf.Tensor 'obs_d_inference/LogNormal_3/Sum:0' shape=() dtype=float64>,\n",
       " <tf.Tensor 'Sum:0' shape=() dtype=float64>]"
      ]
     },
     "execution_count": 27,
     "metadata": {},
     "output_type": "execute_result"
    }
   ],
   "source": [
    "tf.get_collection('priors')"
   ]
  },
  {
   "cell_type": "code",
   "execution_count": 28,
   "metadata": {},
   "outputs": [
    {
     "data": {
      "text/plain": [
       "<tf.Tensor 'Shock_Distr/shock_distr_1/encoder/latent_inf/Reshape_4:0' shape=(1, 20, 2) dtype=float64>"
      ]
     },
     "execution_count": 28,
     "metadata": {},
     "output_type": "execute_result"
    }
   ],
   "source": [
    "shocks_soft_cond"
   ]
  },
  {
   "cell_type": "code",
   "execution_count": 29,
   "metadata": {},
   "outputs": [],
   "source": [
    "num_shocks = tf.reduce_sum(shocks_soft_uncond[:,:,1:])\n",
    "ssp = create_soft_shock_prior(num_shocks) #- encoding_entropy\n",
    "soft_kl_uncond = create_kl(shocks_soft_uncond, shocks_prior=ssp)\n",
    "\n",
    "num_shocks = tf.reduce_sum(shocks_soft_cond[:,:,1:])\n",
    "ssp = create_soft_shock_prior(num_shocks) #- encoding_entropy\n",
    "soft_kl_cond = create_kl(shocks_soft_cond, shocks_prior=ssp)\n",
    "\n",
    "num_shocks = tf.reduce_sum(shocks_hard[:,:,1:])\n",
    "hard_shocks_prior = create_hard_shock_prior(num_shocks) - shocks_hard_logp\n",
    "hard_kl = create_kl(shocks_hard, shocks_prior=hard_shocks_prior)"
   ]
  },
  {
   "cell_type": "code",
   "execution_count": 30,
   "metadata": {},
   "outputs": [
    {
     "data": {
      "text/plain": [
       "<tf.Tensor 'num_shocks:0' shape=() dtype=string>"
      ]
     },
     "execution_count": 30,
     "metadata": {},
     "output_type": "execute_result"
    }
   ],
   "source": [
    "tf.summary.scalar('num_shocks', num_shocks)"
   ]
  },
  {
   "cell_type": "code",
   "execution_count": 31,
   "metadata": {},
   "outputs": [
    {
     "data": {
      "text/plain": [
       "<tf.Tensor 'Shock_Distr/Sum:0' shape=() dtype=float64>"
      ]
     },
     "execution_count": 31,
     "metadata": {},
     "output_type": "execute_result"
    }
   ],
   "source": [
    "shocks_hard_logp"
   ]
  },
  {
   "cell_type": "code",
   "execution_count": 32,
   "metadata": {},
   "outputs": [],
   "source": [
    "relax_cond = shock_d.build_relax(tf.reshape(shocks_soft_cond, [1,-1]))\n",
    "relax_uncond = shock_d.build_relax(tf.reshape(shocks_soft_uncond, [1,-1]))"
   ]
  },
  {
   "cell_type": "code",
   "execution_count": 33,
   "metadata": {},
   "outputs": [
    {
     "data": {
      "text/plain": [
       "<tf.Tensor 'truediv_1:0' shape=<unknown> dtype=float64>"
      ]
     },
     "execution_count": 33,
     "metadata": {},
     "output_type": "execute_result"
    }
   ],
   "source": [
    "soft_kl_cond"
   ]
  },
  {
   "cell_type": "code",
   "execution_count": 34,
   "metadata": {},
   "outputs": [],
   "source": [
    "eta = shock_d.eta\n",
    "\n",
    "soft_control_cond = eta*soft_kl_cond + relax_cond\n",
    "soft_control_uncond = eta*soft_kl_uncond - eta*soft_kl_cond - relax_cond + relax_uncond\n",
    "\n",
    "stoped_grad = hard_kl - soft_control_cond# - nvil_baseline\n",
    "\n",
    "target = shocks_hard_logp*stoped_grad + soft_control_uncond\n",
    "target = tf.reduce_mean(target)"
   ]
  },
  {
   "cell_type": "code",
   "execution_count": 35,
   "metadata": {},
   "outputs": [
    {
     "data": {
      "text/plain": [
       "<tf.Tensor 'add_8:0' shape=<unknown> dtype=float64>"
      ]
     },
     "execution_count": 35,
     "metadata": {},
     "output_type": "execute_result"
    }
   ],
   "source": [
    "soft_control_uncond"
   ]
  },
  {
   "cell_type": "code",
   "execution_count": 36,
   "metadata": {},
   "outputs": [],
   "source": [
    "shock_vars = shock_d.get_encoder_vars()"
   ]
  },
  {
   "cell_type": "code",
   "execution_count": 37,
   "metadata": {},
   "outputs": [],
   "source": [
    "shock_vars_grad = tf.gradients(target, shock_vars, stop_gradients=stoped_grad)"
   ]
  },
  {
   "cell_type": "code",
   "execution_count": 38,
   "metadata": {},
   "outputs": [],
   "source": [
    "controls = shock_d.get_control_vars()\n",
    "cv_loss = shock_d.build_control_loss(shock_vars_grad)\n",
    "\n",
    "tf.summary.scalar('cv_loss', cv_loss)\n",
    "\n",
    "cv_gradients = tf.gradients(cv_loss, controls)"
   ]
  },
  {
   "cell_type": "code",
   "execution_count": 39,
   "metadata": {},
   "outputs": [],
   "source": [
    "rest_vars = [x for x in tf.global_variables() if not (x in controls or x in shock_vars)]\n",
    "rest_gradients = tf.gradients(hard_kl, rest_vars)"
   ]
  },
  {
   "cell_type": "code",
   "execution_count": 40,
   "metadata": {},
   "outputs": [
    {
     "data": {
      "text/plain": [
       "[<tf.Variable 'walk_ord/s1_inference/mu:0' shape=(1,) dtype=float64_ref>,\n",
       " <tf.Variable 'walk_ord/s1_inference/logsigma:0' shape=(1,) dtype=float64_ref>,\n",
       " <tf.Variable 'walk_shock/incr_inference/mu:0' shape=(1,) dtype=float64_ref>,\n",
       " <tf.Variable 'walk_shock/incr_inference/logsigma:0' shape=(1,) dtype=float64_ref>,\n",
       " <tf.Variable 'coef_rw_inference/lc_0/lowerd:0' shape=(78,) dtype=float64_ref>,\n",
       " <tf.Variable 'coef_rw_inference/lc_0/ldiag:0' shape=(12,) dtype=float64_ref>,\n",
       " <tf.Variable 'coef_rw_inference/lc_1/lowerd:0' shape=(78,) dtype=float64_ref>,\n",
       " <tf.Variable 'coef_rw_inference/lc_1/ldiag:0' shape=(12,) dtype=float64_ref>,\n",
       " <tf.Variable 'coef_rw_inference/lc_1/W:0' shape=(12, 12) dtype=float64_ref>,\n",
       " <tf.Variable 'coef_rw_inference/lc_2/lowerd:0' shape=(78,) dtype=float64_ref>,\n",
       " <tf.Variable 'coef_rw_inference/lc_2/ldiag:0' shape=(12,) dtype=float64_ref>,\n",
       " <tf.Variable 'coef_rw_inference/lc_2/W:0' shape=(12, 12) dtype=float64_ref>,\n",
       " <tf.Variable 'coef_rw_inference/lc_3/lowerd:0' shape=(78,) dtype=float64_ref>,\n",
       " <tf.Variable 'coef_rw_inference/lc_3/ldiag:0' shape=(12,) dtype=float64_ref>,\n",
       " <tf.Variable 'coef_rw_inference/lc_3/W:0' shape=(12, 12) dtype=float64_ref>,\n",
       " <tf.Variable 'coef_rw_inference/lc_4/lowerd:0' shape=(78,) dtype=float64_ref>,\n",
       " <tf.Variable 'coef_rw_inference/lc_4/ldiag:0' shape=(12,) dtype=float64_ref>,\n",
       " <tf.Variable 'coef_rw_inference/lc_4/W:0' shape=(12, 12) dtype=float64_ref>,\n",
       " <tf.Variable 'coef_rw_inference/lc_5/lowerd:0' shape=(78,) dtype=float64_ref>,\n",
       " <tf.Variable 'coef_rw_inference/lc_5/ldiag:0' shape=(12,) dtype=float64_ref>,\n",
       " <tf.Variable 'coef_rw_inference/lc_5/W:0' shape=(12, 12) dtype=float64_ref>,\n",
       " <tf.Variable 'coef_rw_inference/lc_6/lowerd:0' shape=(78,) dtype=float64_ref>,\n",
       " <tf.Variable 'coef_rw_inference/lc_6/ldiag:0' shape=(12,) dtype=float64_ref>,\n",
       " <tf.Variable 'coef_rw_inference/lc_6/W:0' shape=(12, 12) dtype=float64_ref>,\n",
       " <tf.Variable 'coef_rw_inference/lc_7/lowerd:0' shape=(78,) dtype=float64_ref>,\n",
       " <tf.Variable 'coef_rw_inference/lc_7/ldiag:0' shape=(12,) dtype=float64_ref>,\n",
       " <tf.Variable 'coef_rw_inference/lc_7/W:0' shape=(12, 12) dtype=float64_ref>,\n",
       " <tf.Variable 'coef_rw_inference/lc_8/lowerd:0' shape=(78,) dtype=float64_ref>,\n",
       " <tf.Variable 'coef_rw_inference/lc_8/ldiag:0' shape=(12,) dtype=float64_ref>,\n",
       " <tf.Variable 'coef_rw_inference/lc_8/W:0' shape=(12, 12) dtype=float64_ref>,\n",
       " <tf.Variable 'coef_rw_inference/lc_9/lowerd:0' shape=(78,) dtype=float64_ref>,\n",
       " <tf.Variable 'coef_rw_inference/lc_9/ldiag:0' shape=(12,) dtype=float64_ref>,\n",
       " <tf.Variable 'coef_rw_inference/lc_9/W:0' shape=(12, 12) dtype=float64_ref>,\n",
       " <tf.Variable 'coef_rw_inference/lc_10/lowerd:0' shape=(78,) dtype=float64_ref>,\n",
       " <tf.Variable 'coef_rw_inference/lc_10/ldiag:0' shape=(12,) dtype=float64_ref>,\n",
       " <tf.Variable 'coef_rw_inference/lc_10/W:0' shape=(12, 12) dtype=float64_ref>,\n",
       " <tf.Variable 'coef_rw_inference/lc_11/lowerd:0' shape=(78,) dtype=float64_ref>,\n",
       " <tf.Variable 'coef_rw_inference/lc_11/ldiag:0' shape=(12,) dtype=float64_ref>,\n",
       " <tf.Variable 'coef_rw_inference/lc_11/W:0' shape=(12, 12) dtype=float64_ref>,\n",
       " <tf.Variable 'coef_rw_inference/lc_12/lowerd:0' shape=(78,) dtype=float64_ref>,\n",
       " <tf.Variable 'coef_rw_inference/lc_12/ldiag:0' shape=(12,) dtype=float64_ref>,\n",
       " <tf.Variable 'coef_rw_inference/lc_12/W:0' shape=(12, 12) dtype=float64_ref>,\n",
       " <tf.Variable 'coef_rw_inference/lc_13/lowerd:0' shape=(78,) dtype=float64_ref>,\n",
       " <tf.Variable 'coef_rw_inference/lc_13/ldiag:0' shape=(12,) dtype=float64_ref>,\n",
       " <tf.Variable 'coef_rw_inference/lc_13/W:0' shape=(12, 12) dtype=float64_ref>,\n",
       " <tf.Variable 'coef_rw_inference/lc_14/lowerd:0' shape=(78,) dtype=float64_ref>,\n",
       " <tf.Variable 'coef_rw_inference/lc_14/ldiag:0' shape=(12,) dtype=float64_ref>,\n",
       " <tf.Variable 'coef_rw_inference/lc_14/W:0' shape=(12, 12) dtype=float64_ref>,\n",
       " <tf.Variable 'coef_rw_inference/lc_15/lowerd:0' shape=(78,) dtype=float64_ref>,\n",
       " <tf.Variable 'coef_rw_inference/lc_15/ldiag:0' shape=(12,) dtype=float64_ref>,\n",
       " <tf.Variable 'coef_rw_inference/lc_15/W:0' shape=(12, 12) dtype=float64_ref>,\n",
       " <tf.Variable 'coef_rw_inference/lc_16/lowerd:0' shape=(78,) dtype=float64_ref>,\n",
       " <tf.Variable 'coef_rw_inference/lc_16/ldiag:0' shape=(12,) dtype=float64_ref>,\n",
       " <tf.Variable 'coef_rw_inference/lc_16/W:0' shape=(12, 12) dtype=float64_ref>,\n",
       " <tf.Variable 'coef_rw_inference/lc_17/lowerd:0' shape=(78,) dtype=float64_ref>,\n",
       " <tf.Variable 'coef_rw_inference/lc_17/ldiag:0' shape=(12,) dtype=float64_ref>,\n",
       " <tf.Variable 'coef_rw_inference/lc_17/W:0' shape=(12, 12) dtype=float64_ref>,\n",
       " <tf.Variable 'coef_rw_inference/lc_18/lowerd:0' shape=(78,) dtype=float64_ref>,\n",
       " <tf.Variable 'coef_rw_inference/lc_18/ldiag:0' shape=(12,) dtype=float64_ref>,\n",
       " <tf.Variable 'coef_rw_inference/lc_18/W:0' shape=(12, 12) dtype=float64_ref>,\n",
       " <tf.Variable 'coef_rw_inference/lc_19/lowerd:0' shape=(78,) dtype=float64_ref>,\n",
       " <tf.Variable 'coef_rw_inference/lc_19/ldiag:0' shape=(12,) dtype=float64_ref>,\n",
       " <tf.Variable 'coef_rw_inference/lc_19/W:0' shape=(12, 12) dtype=float64_ref>,\n",
       " <tf.Variable 'coef_rw_inference/mu:0' shape=(20, 12) dtype=float64_ref>,\n",
       " <tf.Variable 'obs_d_inference/mu:0' shape=(1,) dtype=float64_ref>,\n",
       " <tf.Variable 'obs_d_inference/logsigma:0' shape=(1,) dtype=float64_ref>]"
      ]
     },
     "execution_count": 40,
     "metadata": {},
     "output_type": "execute_result"
    }
   ],
   "source": [
    "rest_vars"
   ]
  },
  {
   "cell_type": "code",
   "execution_count": 41,
   "metadata": {},
   "outputs": [],
   "source": [
    "all_vars = shock_vars + rest_vars \n",
    "grads = shock_vars_grad + rest_gradients\n",
    "main_updates = [(g,x) for x,g in zip(all_vars, grads)]\n",
    "control_updates = [(g,x) for x,g in zip(controls, cv_gradients)]"
   ]
  },
  {
   "cell_type": "code",
   "execution_count": 42,
   "metadata": {},
   "outputs": [
    {
     "data": {
      "text/plain": [
       "<tf.Tensor 'KLd:0' shape=() dtype=string>"
      ]
     },
     "execution_count": 42,
     "metadata": {},
     "output_type": "execute_result"
    }
   ],
   "source": [
    "tf.summary.scalar('KLd', hard_kl)"
   ]
  },
  {
   "cell_type": "code",
   "execution_count": 43,
   "metadata": {},
   "outputs": [],
   "source": [
    "lr = tf.Variable(0.001)\n",
    "main_opt = tf.train.AdamOptimizer(lr).apply_gradients(main_updates)\n",
    "cont_opt = tf.train.AdadeltaOptimizer(0.001).apply_gradients(control_updates)"
   ]
  },
  {
   "cell_type": "code",
   "execution_count": 44,
   "metadata": {},
   "outputs": [
    {
     "data": {
      "text/plain": [
       "[(<tf.Tensor 'gradients_1/Shock_Distr/shock_distr/controls/Exp_grad/mul:0' shape=(20, 1) dtype=float64>,\n",
       "  <tf.Variable 'Shock_Distr/shock_distr/controls/pretemp:0' shape=(20, 1) dtype=float64_ref>),\n",
       " (<tf.Tensor 'gradients_1/Shock_Distr/shock_distr/controls/Exp_1_grad/mul:0' shape=() dtype=float64>,\n",
       "  <tf.Variable 'Shock_Distr/shock_distr/controls/preeta:0' shape=() dtype=float64_ref>),\n",
       " (<tf.Tensor 'gradients_1/AddN_30:0' shape=(40, 128) dtype=float64>,\n",
       "  <tf.Variable 'Shock_Distr/shock_distr/controls/RELAX/FCN/d0/W:0' shape=(40, 128) dtype=float64_ref>),\n",
       " (<tf.Tensor 'gradients_1/AddN_29:0' shape=(1, 128) dtype=float64>,\n",
       "  <tf.Variable 'Shock_Distr/shock_distr/controls/RELAX/FCN/d0/b:0' shape=(1, 128) dtype=float64_ref>),\n",
       " (<tf.Tensor 'gradients_1/AddN_24:0' shape=(128, 64) dtype=float64>,\n",
       "  <tf.Variable 'Shock_Distr/shock_distr/controls/RELAX/FCN/d1/W:0' shape=(128, 64) dtype=float64_ref>),\n",
       " (<tf.Tensor 'gradients_1/AddN_22:0' shape=(1, 64) dtype=float64>,\n",
       "  <tf.Variable 'Shock_Distr/shock_distr/controls/RELAX/FCN/d1/b:0' shape=(1, 64) dtype=float64_ref>),\n",
       " (<tf.Tensor 'gradients_1/AddN_20:0' shape=(64, 1) dtype=float64>,\n",
       "  <tf.Variable 'Shock_Distr/shock_distr/controls/RELAX/FCN/d2/W:0' shape=(64, 1) dtype=float64_ref>),\n",
       " (<tf.Tensor 'gradients_1/shock_distr/RELAX/FCN/strided_slice_grad/StridedSliceGrad:0' shape=(1, 1) dtype=float64>,\n",
       "  <tf.Variable 'Shock_Distr/shock_distr/controls/RELAX/FCN/d2/b:0' shape=(1, 1) dtype=float64_ref>)]"
      ]
     },
     "execution_count": 44,
     "metadata": {},
     "output_type": "execute_result"
    }
   ],
   "source": [
    "control_updates"
   ]
  },
  {
   "cell_type": "code",
   "execution_count": 45,
   "metadata": {},
   "outputs": [],
   "source": [
    "opt = [main_opt, cont_opt]"
   ]
  },
  {
   "cell_type": "code",
   "execution_count": 46,
   "metadata": {},
   "outputs": [],
   "source": [
    "sess = tf.InteractiveSession()"
   ]
  },
  {
   "cell_type": "code",
   "execution_count": 47,
   "metadata": {},
   "outputs": [],
   "source": [
    "# !rm -R /tmp/tfdbg"
   ]
  },
  {
   "cell_type": "code",
   "execution_count": 48,
   "metadata": {},
   "outputs": [
    {
     "name": "stdout",
     "output_type": "stream",
     "text": [
      "mkdir: cannot create directory ‘/tmp/tfdbg’: File exists\r\n"
     ]
    }
   ],
   "source": [
    "!mkdir /tmp/tfdbg\n",
    "writer = tf.summary.FileWriter('/tmp/tfdbg/relax_float64')"
   ]
  },
  {
   "cell_type": "code",
   "execution_count": 49,
   "metadata": {},
   "outputs": [],
   "source": [
    "writer.add_graph(tf.get_default_graph())"
   ]
  },
  {
   "cell_type": "code",
   "execution_count": 50,
   "metadata": {},
   "outputs": [],
   "source": [
    "tf.global_variables_initializer().run()"
   ]
  },
  {
   "cell_type": "code",
   "execution_count": 51,
   "metadata": {},
   "outputs": [
    {
     "data": {
      "text/plain": [
       "1.1694734014279717"
      ]
     },
     "execution_count": 51,
     "metadata": {},
     "output_type": "execute_result"
    }
   ],
   "source": [
    "hard_kl.eval()"
   ]
  },
  {
   "cell_type": "code",
   "execution_count": 52,
   "metadata": {},
   "outputs": [
    {
     "data": {
      "text/plain": [
       "<tf.Tensor 'gradients_1/Shock_Distr/shock_distr/controls/Exp_grad/mul:0' shape=(20, 1) dtype=float64>"
      ]
     },
     "execution_count": 52,
     "metadata": {},
     "output_type": "execute_result"
    }
   ],
   "source": [
    "cv_gradients[0]"
   ]
  },
  {
   "cell_type": "code",
   "execution_count": 53,
   "metadata": {},
   "outputs": [],
   "source": [
    "# a = []\n",
    "# for _ in range(1000):\n",
    "#     a.append(sess.run(cv_gradients[0]))\n",
    "# np.mean(a, axis=0)"
   ]
  },
  {
   "cell_type": "code",
   "execution_count": 54,
   "metadata": {},
   "outputs": [],
   "source": [
    "np.set_printoptions(precision=3)"
   ]
  },
  {
   "cell_type": "code",
   "execution_count": 55,
   "metadata": {},
   "outputs": [],
   "source": [
    "# PWalk.inverse_sigma.eval()[:3,:3]"
   ]
  },
  {
   "cell_type": "code",
   "execution_count": 56,
   "metadata": {},
   "outputs": [],
   "source": [
    "out = tf.reshape(outputs, [NUM_STEPS, dim[0], dim[1]])"
   ]
  },
  {
   "cell_type": "code",
   "execution_count": 57,
   "metadata": {},
   "outputs": [],
   "source": [
    "epoch = 0"
   ]
  },
  {
   "cell_type": "code",
   "execution_count": 58,
   "metadata": {},
   "outputs": [],
   "source": [
    "all_sum = tf.summary.merge_all()"
   ]
  },
  {
   "cell_type": "code",
   "execution_count": 59,
   "metadata": {},
   "outputs": [],
   "source": [
    "def check_ppc(timestep):\n",
    "    n = 1000\n",
    "    all_preds = []\n",
    "    for _ in range(n):\n",
    "        tp = preds.eval({stop_time:timestep-1})\n",
    "        tp = tp[timestep-1]\n",
    "        all_preds.append(tp)\n",
    "    all_preds = np.array(all_preds).mean(axis=0)\n",
    "#     print(xs.shape)\n",
    "    return np.sqrt(np.mean((all_preds - xs[0,timestep])**2))"
   ]
  },
  {
   "cell_type": "code",
   "execution_count": 60,
   "metadata": {},
   "outputs": [],
   "source": [
    "# shock_d.logits.eval()"
   ]
  },
  {
   "cell_type": "code",
   "execution_count": null,
   "metadata": {
    "scrolled": true
   },
   "outputs": [
    {
     "name": "stdout",
     "output_type": "stream",
     "text": [
      "0.7657485926538082\n",
      "0.5793774523148717\n",
      "0.6651160826612927\n",
      "0.5332416777609997\n",
      "0.49779693597432695\n",
      "0.5328176791293492\n",
      "0.5268511050176429\n",
      "0.5005549193363749\n",
      "0.5465036953730499\n",
      "0.5061261015755164\n",
      "0.5249852412870898\n",
      "0.5200897197153959\n",
      "0.5282845096367969\n",
      "0.5411852910444173\n",
      "0.49313911860736065\n",
      "0.5158988073529467\n",
      "0.5458508613846613\n",
      "0.49827026924195367\n",
      "0.5104186958414805\n",
      "0.5201899709653617\n",
      "0.5044993556933546\n",
      "0.5356305306033888\n",
      "0.5072464844628598\n",
      "0.5204207071439522\n",
      "0.5163329141309734\n",
      "0.5212077395310284\n",
      "0.5176584888033238\n",
      "0.5096153381478319\n",
      "0.5220272110070823\n",
      "0.5233838298689542\n",
      "0.49489826528881053\n",
      "0.49087735845400055\n",
      "0.5349114929650712\n",
      "0.5019572888244151\n",
      "0.5293302474915603\n",
      "0.5315157293648464\n",
      "0.518342104681089\n",
      "0.5215266963215669\n",
      "0.5142830697383355\n",
      "0.49340619150335147\n",
      "0.501108750886507\n",
      "0.4836761123461893\n",
      "0.49811694864822587\n",
      "0.5108558823674909\n",
      "0.5031406928872261\n",
      "0.5446666110517157\n",
      "0.5077699937910632\n",
      "0.516473225152815\n",
      "0.521659235464918\n",
      "0.48669612659746214\n",
      "0.4983976148661019\n",
      "0.4913518140808624\n",
      "0.5053870641999912\n",
      "0.46813244592259246\n",
      "0.498283013454342\n",
      "0.5030100833118197\n",
      "0.5082401808932213\n",
      "0.4895070226226655\n",
      "0.4831676078938642\n",
      "0.5061850789784397\n",
      "0.5013829701236655\n",
      "0.5001831716819893\n",
      "0.5046713627289485\n",
      "0.5135026233799738\n",
      "0.4989710969627834\n",
      "0.5233755063665801\n",
      "0.46547072226687713\n",
      "0.4923227520781334\n",
      "0.5016659891155051\n",
      "0.4839988522425003\n",
      "0.4837778390585984\n",
      "0.5123781249722903\n",
      "0.5329675462549308\n",
      "0.5017795261438834\n",
      "0.5151842745077199\n",
      "0.4938709557816085\n",
      "0.5103764713899445\n",
      "0.5151491013770195\n",
      "0.5039364474801218\n",
      "0.519645091449425\n",
      "0.5107145472308708\n",
      "0.5112408861297598\n",
      "0.5047866916669518\n",
      "0.5184603755914864\n",
      "0.5108592540860263\n",
      "0.5253841342340472\n",
      "0.4885915281762801\n",
      "0.4882534122871926\n",
      "0.5111609243595568\n",
      "0.5218199378844657\n",
      "0.5068882474033167\n",
      "0.49528203570570567\n",
      "0.5098004458349602\n",
      "0.5208872912998549\n",
      "0.49428908508420005\n",
      "0.49026377287437034\n",
      "0.5108267766637657\n",
      "0.516488473515025\n",
      "0.49121417573508\n",
      "0.5029380436576486\n",
      "0.5055948709880476\n",
      "0.5057586856067215\n",
      "0.5061736676967054\n",
      "0.5297066524622409\n",
      "0.502239177651862\n",
      "0.503614646207685\n",
      "0.527876363414523\n",
      "0.5281549148092083\n",
      "0.49147220376427186\n",
      "0.4955816979463634\n",
      "0.49487303215826917\n",
      "0.4902246024611993\n",
      "0.4874877953202611\n",
      "0.4972206261787489\n",
      "0.49126508034173144\n",
      "0.502448014479949\n",
      "0.5146489947317192\n",
      "0.5216050420345801\n",
      "0.5245205473097658\n",
      "0.5236864645778875\n",
      "0.5225932093228155\n",
      "0.5207652783355649\n",
      "0.5148184823808873\n",
      "0.5097561203501019\n",
      "0.5290469072531979\n",
      "0.5056276313534165\n",
      "0.5135692173785951\n",
      "0.5084915369261516\n",
      "0.501298680168227\n",
      "0.5025294081494612\n",
      "0.5037890810093398\n",
      "0.4805945549960195\n",
      "0.5142062432666674\n",
      "0.48892924057610426\n",
      "0.5015916543397376\n",
      "0.5045805016086163\n",
      "0.5186941246840656\n",
      "0.4869459192316905\n",
      "0.5240071214798256\n",
      "0.5310460534026835\n",
      "0.5070978887557177\n",
      "0.5417740101127781\n",
      "0.5018378841918408\n",
      "0.5229895915016508\n",
      "0.5286557202984883\n",
      "0.5165484617447831\n",
      "0.502134011011794\n",
      "0.5032340743125834\n",
      "0.5165265837163656\n",
      "0.5324145135294619\n",
      "0.5312338349562047\n",
      "0.5221163595935235\n",
      "0.4992084337682781\n",
      "0.5173460797718002\n",
      "0.5118038695129544\n",
      "0.510484148199919\n",
      "0.5117630839410253\n",
      "0.527213139172667\n",
      "0.49567683431057363\n",
      "0.5060748837985319\n",
      "0.4995353158625721\n",
      "0.5396992644900884\n",
      "0.5296223599096836\n",
      "0.5169489075048799\n",
      "0.5232997329673655\n",
      "0.5219166007846319\n",
      "0.5178445939443169\n",
      "0.5160911265793473\n",
      "0.523107125920555\n",
      "0.511967591625911\n",
      "0.5280766044104669\n",
      "0.5043316058072752\n",
      "0.5080640956557098\n",
      "0.5279494236382014\n",
      "0.5053206894387048\n",
      "0.4930476910784499\n",
      "0.5269065904118373\n",
      "0.49889559645188136\n",
      "0.5167511900863218\n",
      "0.5130760033740119\n",
      "0.47745244655897495\n",
      "0.5117351675782257\n",
      "0.497813623828903\n",
      "0.5169683116621508\n",
      "0.5110791334775203\n",
      "0.48991010032627735\n",
      "0.5229722021287014\n",
      "0.5100137502118216\n",
      "0.498844361913685\n",
      "0.5211432900610636\n",
      "0.5086924040406946\n",
      "0.5222297423705141\n",
      "0.48570929213339276\n",
      "0.5284920750303225\n",
      "0.4887643369255455\n",
      "0.5248934884595092\n",
      "0.48847605822083223\n",
      "0.5206183669049042\n",
      "0.4861058289712702\n",
      "0.4730361664310659\n",
      "0.5138838022033803\n",
      "0.4961488383261624\n",
      "0.5086455631769338\n",
      "0.49686796748957107\n",
      "0.5178269924687164\n",
      "0.5101044300400559\n",
      "0.5083098554985123\n",
      "0.5119748952529541\n",
      "0.49120436357808994\n",
      "0.498686513693414\n",
      "0.512164254126669\n",
      "0.508260049813336\n",
      "0.5252037981419503\n",
      "0.5257948335088917\n",
      "0.4920851041754422\n",
      "0.507140704895346\n",
      "0.5306671267811879\n",
      "0.5265896294283969\n",
      "0.491323555404266\n",
      "0.4910956225754165\n",
      "0.4905594939187331\n",
      "0.49940737389505213\n",
      "0.5169266225347648\n",
      "0.49966918886467415\n",
      "0.4831712389344522\n",
      "0.502605598674766\n",
      "0.5082565400304981\n",
      "0.48283237082021224\n",
      "0.5168202203945697\n",
      "0.5140360080382343\n",
      "0.5199079303519928\n",
      "0.5207862979719903\n",
      "0.5018691399025187\n",
      "0.502970492050896\n",
      "0.5676054615223514\n",
      "0.5166462394109222\n",
      "0.48729335356083303\n",
      "0.5198656515831689\n",
      "0.5073549034638111\n",
      "0.5241078532801687\n",
      "0.523814599467542\n",
      "0.5141096316032472\n",
      "0.5179659239126371\n",
      "0.5212722841985088\n",
      "0.5256491293449621\n",
      "0.4494779354568529\n",
      "0.5030609440326562\n",
      "0.5052938123835146\n",
      "0.48367696036683727\n",
      "0.5117750505729188\n",
      "0.5018412420813135\n",
      "0.5073315365969028\n",
      "0.5040215397408438\n",
      "0.5123712494458971\n",
      "0.5108093056056203\n",
      "0.5053858258566735\n",
      "0.5104853402410048\n",
      "0.5052206586806525\n",
      "0.48614299224016405\n",
      "0.4904795780478099\n",
      "0.5057482017818522\n",
      "0.5077548402883626\n",
      "0.4959472815896511\n",
      "0.49547651516607943\n",
      "0.5141530451693443\n",
      "0.5056585331515552\n",
      "0.498467711732602\n",
      "0.493328073744087\n",
      "0.5227562687832733\n",
      "0.5122268578967725\n",
      "0.5046563162906565\n",
      "0.5160616668503841\n",
      "0.49378104023863545\n",
      "0.4841809481140293\n",
      "0.5161199315818431\n",
      "0.47477373446001014\n",
      "0.5020188258301795\n",
      "0.5153506601246088\n",
      "0.5129807879888657\n",
      "0.508732480045651\n",
      "0.4883833266154101\n",
      "0.5184719789816673\n",
      "0.5091700636881744\n",
      "0.5041404987702073\n",
      "0.5079142815116219\n",
      "0.5408953825605385\n",
      "0.5136892980958723\n",
      "0.5052553403065349\n",
      "0.5160283124270542\n",
      "0.468046662149555\n",
      "0.5091845973941387\n",
      "0.5090131585109285\n",
      "0.48486890628397344\n",
      "0.5209781336046623\n",
      "0.5438939333511271\n",
      "0.509926917534735\n",
      "0.4776215508554015\n",
      "0.5213766591748559\n",
      "0.4697207271668636\n",
      "0.49620493281016137\n",
      "0.529595957450037\n",
      "0.5227359662463532\n",
      "0.5035782366080627\n",
      "0.5005845671949442\n",
      "0.5081932024735406\n",
      "0.5186415903376788\n",
      "0.5204966508603887\n",
      "0.49477862079758617\n",
      "0.5132193606833343\n",
      "0.5042900218773015\n",
      "0.500777884598431\n",
      "0.524137050021817\n",
      "0.495706985304066\n",
      "0.4963856327585814\n",
      "0.5161071218330783\n",
      "0.49168424626021384\n",
      "0.5348961021207259\n",
      "0.5072989818746332\n",
      "0.4926597552297269\n",
      "0.5019554105254465\n",
      "0.46868924904113574\n",
      "0.5115152718785936\n",
      "0.513911933076244\n",
      "0.5016066699413505\n",
      "0.5190053105130105\n",
      "0.5072878975246399\n",
      "0.5205340069459071\n",
      "0.4962950952313321\n",
      "0.5097123749645287\n",
      "0.508135221357723\n",
      "0.5324145063559423\n",
      "0.516385108080952\n",
      "0.5108250047807535\n",
      "0.5378917305715052\n",
      "0.48932178638660156\n",
      "0.5243859418596862\n",
      "0.5212336745813062\n",
      "0.5011677278120862\n",
      "0.5194357932803856\n",
      "0.5235383559319333\n",
      "0.4956385429475103\n",
      "0.526274770015272\n",
      "0.4701125859370502\n",
      "0.5162141380635561\n",
      "0.5069369766503503\n",
      "0.50876135867536\n",
      "0.5052364522839258\n",
      "0.5314935090815519\n",
      "0.48807140510433794\n",
      "0.5199340755111118\n",
      "0.5263631019012538\n",
      "0.5038280089282793\n",
      "0.5200524987588596\n",
      "0.5163507298997262\n",
      "0.504147850582002\n",
      "0.4917972417276469\n",
      "0.5300097645572279\n",
      "0.5160461181041519\n",
      "0.4875362898374732\n",
      "0.5166918016979345\n",
      "0.5239486689399168\n",
      "0.5068570335500906\n",
      "0.4997670703889556\n",
      "0.5070190712294544\n",
      "0.5039147236923486\n",
      "0.5026282252165795\n",
      "0.5301595265223475\n",
      "0.5223122218665043\n",
      "0.49000742511996004\n",
      "0.5184511086495605\n",
      "0.5300599344479254\n",
      "0.4961858039685969\n",
      "0.5254363908940985\n",
      "0.4967969645017478\n",
      "0.5000286896705759\n",
      "0.5126810118690983\n",
      "0.5217368655995299\n",
      "0.49305214357639215\n",
      "0.5087392069961965\n",
      "0.5124379314901745\n",
      "0.5139948299004573\n",
      "0.49872695479082646\n",
      "0.5072408433605072\n",
      "0.5171448269218353\n",
      "0.4865946230476183\n",
      "0.4884870900980459\n",
      "0.49614020844183293\n",
      "0.5288420962543694\n",
      "0.5044619129119177\n",
      "0.49115069912428666\n",
      "0.49878286898885166\n",
      "0.49396337225219494\n",
      "0.4756847785289132\n",
      "0.503258989776847\n",
      "0.5111744802245959\n",
      "0.5403158066315934\n",
      "0.5322025453258322\n",
      "0.48816499717764283\n",
      "0.512090574342007\n",
      "0.4843839676840877\n",
      "0.49915437933196716\n",
      "0.49408016406079036\n",
      "0.5288909908441142\n",
      "0.5198982928314344\n",
      "0.538935014383695\n",
      "0.532104880934547\n",
      "0.5108040385055531\n",
      "0.5121470057257843\n",
      "0.5260022997940875\n",
      "0.5131038394554263\n",
      "0.5264591139671343\n",
      "0.5071618428258037\n",
      "0.5053941953255254\n",
      "0.5366562921104135\n",
      "0.49592248745424145\n",
      "0.5022311634390016\n"
     ]
    }
   ],
   "source": [
    "%%time\n",
    "for epoch in range(epoch, epoch+1000):\n",
    "    for i in range(1000):\n",
    "        l, _ = sess.run([hard_kl, opt], {phase:True})\n",
    "        if i % 30 == 0:\n",
    "            s = all_sum.eval({phase:True})\n",
    "            writer.add_summary(s, global_step=epoch*1000 + i)\n",
    "    print(l)"
   ]
  },
  {
   "cell_type": "code",
   "execution_count": null,
   "metadata": {},
   "outputs": [],
   "source": [
    "lr.assign(0.00005).eval()"
   ]
  },
  {
   "cell_type": "code",
   "execution_count": null,
   "metadata": {},
   "outputs": [],
   "source": [
    "ss = []\n",
    "for _ in range(40000):\n",
    "    s = shocks_hard.eval()[:,:,1].astype('float')\n",
    "    ss.append(s)\n",
    "ss = np.array(ss)\n",
    "print(ss.mean(axis=0))"
   ]
  },
  {
   "cell_type": "code",
   "execution_count": null,
   "metadata": {},
   "outputs": [],
   "source": [
    "x = range(2016-data.shape[1],2016)\n",
    "plt.plot(x, ss.mean(axis=0)[0][:])\n",
    "plt.show()"
   ]
  },
  {
   "cell_type": "code",
   "execution_count": null,
   "metadata": {},
   "outputs": [],
   "source": [
    "ss = []\n",
    "aa = []\n",
    "for _ in range(3000):\n",
    "    a = np.linalg.inv(PWalk.inverse_sigma.eval())\n",
    "    ss.append(np.sqrt(np.diag(a)))\n",
    "    aa.append(a)\n",
    "ss = np.array(ss)\n",
    "aa = np.array(aa)"
   ]
  },
  {
   "cell_type": "code",
   "execution_count": null,
   "metadata": {},
   "outputs": [],
   "source": [
    "aa.mean(axis=0)[:5,:5]"
   ]
  },
  {
   "cell_type": "code",
   "execution_count": null,
   "metadata": {},
   "outputs": [],
   "source": [
    "np.mean(ss, axis=0), np.std(ss, axis=0)"
   ]
  },
  {
   "cell_type": "code",
   "execution_count": null,
   "metadata": {},
   "outputs": [],
   "source": [
    "# sns.kdeplot(ss[:,1], ss[:,0])\n",
    "# plt.show()"
   ]
  },
  {
   "cell_type": "code",
   "execution_count": null,
   "metadata": {},
   "outputs": [],
   "source": [
    "samples = []\n",
    "for _ in range(3000):\n",
    "    s = out.eval({phase:True})\n",
    "    samples.append(s)\n",
    "samples = np.array(samples)"
   ]
  },
  {
   "cell_type": "code",
   "execution_count": null,
   "metadata": {},
   "outputs": [],
   "source": [
    "t = 10\n",
    "sns.kdeplot(samples[:,t,2,0], samples[:,t,0,3])\n",
    "plt.show()"
   ]
  },
  {
   "cell_type": "code",
   "execution_count": null,
   "metadata": {},
   "outputs": [],
   "source": [
    "t = 10\n",
    "# params[t]"
   ]
  },
  {
   "cell_type": "code",
   "execution_count": null,
   "metadata": {},
   "outputs": [],
   "source": [
    "np.mean(samples[:,t], axis=0)"
   ]
  },
  {
   "cell_type": "code",
   "execution_count": null,
   "metadata": {},
   "outputs": [],
   "source": [
    "np.std(samples[:,t], axis=0)"
   ]
  },
  {
   "cell_type": "code",
   "execution_count": null,
   "metadata": {},
   "outputs": [],
   "source": []
  },
  {
   "cell_type": "code",
   "execution_count": null,
   "metadata": {},
   "outputs": [],
   "source": [
    "from sklearn.neighbors.kde import KernelDensity\n",
    "def score(s1, s2):\n",
    "    bw = 0.1\n",
    "    s1 = s1[:,np.newaxis]\n",
    "    s2 = s2[:,np.newaxis]\n",
    "    e1 = KernelDensity(bandwidth=bw).fit(s1)\n",
    "    e2 = KernelDensity(bandwidth=bw).fit(s2)\n",
    "    \n",
    "    e1e2 = e1.score(s1) - e2.score(s1)\n",
    "    e2e1 = e2.score(s2) - e1.score(s2)\n",
    "    dist = (e1e2/len(s1) + e2e1/len(s2))/2\n",
    "    return dist"
   ]
  },
  {
   "cell_type": "code",
   "execution_count": null,
   "metadata": {},
   "outputs": [],
   "source": [
    "def get_cdf(ts):\n",
    "    return lambda x: (ts <= x).mean()\n",
    "def score(s1,s2):\n",
    "    c1 = get_cdf(s1)\n",
    "    c2 = get_cdf(s2)\n",
    "\n",
    "    m = 0\n",
    "    for s in np.concatenate([s1, s2]):\n",
    "        r = np.abs(c1(s) - c2(s))\n",
    "        if r > m:\n",
    "            m = r\n",
    "    return m"
   ]
  },
  {
   "cell_type": "code",
   "execution_count": null,
   "metadata": {},
   "outputs": [],
   "source": [
    "score(s1,s2)"
   ]
  },
  {
   "cell_type": "code",
   "execution_count": null,
   "metadata": {},
   "outputs": [],
   "source": [
    "dists = []\n",
    "for t1 in range(samples.shape[1] - 1):\n",
    "    np.random.seed(1234)\n",
    "    print(t1)\n",
    "    t2 = t1 + 1\n",
    "    s1 = samples[:,t1,0,0]\n",
    "    s2 = samples[:,t2,0,0]\n",
    "    ss = []\n",
    "    for _ in range(10):\n",
    "        s1_ = np.random.choice(s1, size=8000)\n",
    "        s2_ = np.random.choice(s2, size=8000)\n",
    "        m = score(s1_,s2_)\n",
    "        ss.append(m)\n",
    "    dists.append(ss)\n",
    "dists = np.array(dists).T"
   ]
  },
  {
   "cell_type": "markdown",
   "metadata": {},
   "source": [
    "## KDE + KL"
   ]
  },
  {
   "cell_type": "code",
   "execution_count": null,
   "metadata": {},
   "outputs": [],
   "source": [
    "sns.tsplot(dists, ci=[50, 95])\n",
    "plt.show()"
   ]
  },
  {
   "cell_type": "code",
   "execution_count": null,
   "metadata": {},
   "outputs": [],
   "source": [
    "sns.tsplot(dists, ci=[50, 95])\n",
    "plt.show()"
   ]
  },
  {
   "cell_type": "markdown",
   "metadata": {},
   "source": [
    "## Kolmogorov-Smirnov"
   ]
  },
  {
   "cell_type": "code",
   "execution_count": null,
   "metadata": {},
   "outputs": [],
   "source": [
    "sns.tsplot(dists, ci=[50, 95])\n",
    "plt.show()"
   ]
  },
  {
   "cell_type": "code",
   "execution_count": null,
   "metadata": {},
   "outputs": [],
   "source": [
    "tf.pow()"
   ]
  }
 ],
 "metadata": {
  "kernelspec": {
   "display_name": "py3.6",
   "language": "python",
   "name": "py3.6"
  },
  "language_info": {
   "codemirror_mode": {
    "name": "ipython",
    "version": 3
   },
   "file_extension": ".py",
   "mimetype": "text/x-python",
   "name": "python",
   "nbconvert_exporter": "python",
   "pygments_lexer": "ipython3",
   "version": "3.6.4"
  }
 },
 "nbformat": 4,
 "nbformat_minor": 2
}
