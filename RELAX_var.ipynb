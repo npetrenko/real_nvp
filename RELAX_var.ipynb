{
 "cells": [
  {
   "cell_type": "code",
   "execution_count": 1,
   "metadata": {},
   "outputs": [
    {
     "name": "stdout",
     "output_type": "stream",
     "text": [
      "WARNING:tensorflow:From /usr/lib/python3.6/site-packages/tensorflow/contrib/learn/python/learn/datasets/base.py:198: retry (from tensorflow.contrib.learn.python.learn.datasets.base) is deprecated and will be removed in a future version.\n",
      "Instructions for updating:\n",
      "Use the retry module or similar alternatives.\n"
     ]
    }
   ],
   "source": [
    "import tensorflow as tf\n",
    "from flows import NormalRW, DFlow, NVPFlow, LogNormal, GVAR, phase,\\\n",
    "Normal, floatX, MVNormal, MVNormalRW, Linear, LinearChol\n",
    "import flows\n",
    "\n",
    "import numpy as np\n",
    "import pandas as pd\n",
    "from matplotlib import pyplot as plt\n",
    "import seaborn as sns\n",
    "from tensorflow.contrib.distributions import WishartCholesky\n",
    "import math\n",
    "\n",
    "np.random.seed(1234)"
   ]
  },
  {
   "cell_type": "code",
   "execution_count": 2,
   "metadata": {},
   "outputs": [],
   "source": [
    "data = pd.read_csv('./data/test_rus_data.csv').values.astype(floatX).T[np.newaxis][:,1:]/100"
   ]
  },
  {
   "cell_type": "code",
   "execution_count": 3,
   "metadata": {},
   "outputs": [],
   "source": [
    "data = data[:,1:] - data[:,:-1]"
   ]
  },
  {
   "cell_type": "code",
   "execution_count": 4,
   "metadata": {},
   "outputs": [
    {
     "name": "stdout",
     "output_type": "stream",
     "text": [
      "[0.43681782 0.25903013 0.01298369]\n"
     ]
    }
   ],
   "source": [
    "stds = (data[0,1:] - data[0,:-1]).std(axis=0)\n",
    "print(stds)\n",
    "data /= stds"
   ]
  },
  {
   "cell_type": "code",
   "execution_count": 5,
   "metadata": {},
   "outputs": [
    {
     "data": {
      "text/plain": [
       "False"
      ]
     },
     "execution_count": 5,
     "metadata": {},
     "output_type": "execute_result"
    }
   ],
   "source": [
    "np.any(np.isnan(data))"
   ]
  },
  {
   "cell_type": "code",
   "execution_count": 6,
   "metadata": {},
   "outputs": [
    {
     "name": "stdout",
     "output_type": "stream",
     "text": [
      "<tensorflow.python.ops.variable_scope.VariableScope object at 0x7f6a5ccdd208>\n",
      "<tensorflow.python.ops.variable_scope.VariableScope object at 0x7f6a5cbb1f60>\n"
     ]
    }
   ],
   "source": [
    "NUM_STEPS = data.shape[1]\n",
    "\n",
    "with tf.variable_scope('walk_ord'):\n",
    "    s1_prior_d = LogNormal(1, mu=math.log(0.01), sigma=1.)\n",
    "\n",
    "    with tf.variable_scope('s1_inference', dtype=floatX):\n",
    "        mu = tf.get_variable('mu', shape=[1], initializer=tf.constant_initializer(s1_prior_d.mu))\n",
    "        logsigma = tf.get_variable('logsigma', shape=[1], \n",
    "                                   initializer=tf.constant_initializer(math.log(s1_prior_d.sigma) - 1.))\n",
    "        sigma = tf.exp(logsigma)\n",
    "        s1_d = LogNormal(1, mu=mu, sigma=sigma)\n",
    "    \n",
    "    s1 = s1_d.sample()\n",
    "    tf.summary.scalar('s1_ord', s1[0])\n",
    "    tf.add_to_collection('logdensities', s1_d.logdens(s1))\n",
    "    \n",
    "    s1_prior = s1_prior_d.logdens(s1)\n",
    "    tf.add_to_collection('priors', s1_prior)\n",
    "    \n",
    "#distribution for shock increase factor\n",
    "with tf.variable_scope('walk_shock'):\n",
    "    incr_prior_d = LogNormal(1, mu=math.log(1.), sigma=.5)\n",
    "\n",
    "    with tf.variable_scope('incr_inference', dtype=floatX):\n",
    "        mu = tf.get_variable('mu', shape=[1], initializer=tf.constant_initializer(incr_prior_d.mu))\n",
    "        logsigma = tf.get_variable('logsigma', shape=[1], \n",
    "                                   initializer=tf.constant_initializer(math.log(incr_prior_d.sigma) - 1.))\n",
    "        sigma = tf.exp(logsigma)\n",
    "        incr_d = LogNormal(1, mu=mu, sigma=sigma)\n",
    "\n",
    "    incr = incr_d.sample()\n",
    "    tf.add_to_collection('logdensities', incr_d.logdens(incr))\n",
    "    \n",
    "    incr_prior = incr_prior_d.logdens(incr)\n",
    "    tf.add_to_collection('priors', incr_prior)\n",
    "\n",
    "    incr += 1.\n",
    "    s_shock = s1*incr\n",
    "    tf.summary.scalar('s1_shock', s_shock[0])\n",
    "    \n",
    "s0 = 80.\n",
    "dim = [3,4]\n",
    "\n",
    "K = dim[0] * dim[1]\n",
    "\n",
    "PWalk = NormalRW(dim=None, sigma0=s0, sigma=s1, name='OrdWalk')\n",
    "PWalk_shock = NormalRW(dim=None, sigma0=s0, sigma=s_shock, name='ShockWalk')"
   ]
  },
  {
   "cell_type": "code",
   "execution_count": 7,
   "metadata": {},
   "outputs": [],
   "source": [
    "#model coefficients\n",
    "gvar = GVAR(dim=dim[0]*dim[1], len=NUM_STEPS, name='coef_rw_inference')\n",
    "outputs = gvar.sample()\n",
    "# with tf.variable_scope('coefs_inference'):\n",
    "#     gvar = DFlow([LinearChol(NUM_STEPS*dim[0]*dim[1], name='coef_rw_inference', use_bias=False)], init_sigma=0.02)\n",
    "#     outputs = tf.reshape(gvar.output, [1,NUM_STEPS, dim[0]*dim[1]])\n",
    "#     outputs = tf.cumsum(outputs, axis=1)\n",
    "#     mu = tf.get_variable('mu', [1,NUM_STEPS,dim[0]*dim[1]])\n",
    "#     outputs += mu\n",
    "\n",
    "tf.add_to_collection('logdensities', gvar.logdens)"
   ]
  },
  {
   "cell_type": "code",
   "execution_count": 8,
   "metadata": {},
   "outputs": [
    {
     "data": {
      "text/plain": [
       "<tf.Tensor 'coef_rw_inference_1/VAR/strided_slice_20:0' shape=(1, 20, 12) dtype=float32>"
      ]
     },
     "execution_count": 8,
     "metadata": {},
     "output_type": "execute_result"
    }
   ],
   "source": [
    "outputs"
   ]
  },
  {
   "cell_type": "code",
   "execution_count": 9,
   "metadata": {},
   "outputs": [],
   "source": [
    "prior_ord = PWalk.logdens(outputs, reduce=False)\n",
    "prior_shock = PWalk_shock.logdens(outputs, reduce=False)"
   ]
  },
  {
   "cell_type": "code",
   "execution_count": 10,
   "metadata": {},
   "outputs": [
    {
     "data": {
      "text/plain": [
       "(<tf.Tensor 'OrdWalk_2/concat:0' shape=(1, 20) dtype=float32>,\n",
       " <tf.Tensor 'ShockWalk_2/concat:0' shape=(1, 20) dtype=float32>)"
      ]
     },
     "execution_count": 10,
     "metadata": {},
     "output_type": "execute_result"
    }
   ],
   "source": [
    "prior_ord, prior_shock"
   ]
  },
  {
   "cell_type": "code",
   "execution_count": 11,
   "metadata": {},
   "outputs": [],
   "source": [
    "with tf.variable_scope('Shock_Distr', reuse=tf.AUTO_REUSE):\n",
    "    shock_init_d = Normal([1,8])\n",
    "    shock_init = shock_init_d.sample()\n",
    "    \n",
    "    tf.add_to_collection('logdensities', shock_init_d.logdens(shock_init))\n",
    "    \n",
    "    shock_d = flows.dvae.RMultinomial([data.shape[1], 2], name='shock_distr')\n",
    "    shocks_soft_uncond, shocks_soft_cond, (shocks_hard, shocks_hard_logp, encoding_entropy) =\\\n",
    "    shock_d.encode(shock_init)\n",
    "    \n",
    "    shocks_hard_logp = tf.reduce_sum(shocks_hard_logp)"
   ]
  },
  {
   "cell_type": "code",
   "execution_count": null,
   "metadata": {},
   "outputs": [],
   "source": []
  },
  {
   "cell_type": "code",
   "execution_count": 12,
   "metadata": {},
   "outputs": [
    {
     "data": {
      "text/plain": [
       "<tf.Tensor 'Shock_Distr/shock_distr/controls/Exp:0' shape=(20, 1) dtype=float32>"
      ]
     },
     "execution_count": 12,
     "metadata": {},
     "output_type": "execute_result"
    }
   ],
   "source": [
    "shock_d.temp"
   ]
  },
  {
   "cell_type": "code",
   "execution_count": 13,
   "metadata": {},
   "outputs": [
    {
     "data": {
      "text/plain": [
       "<tf.Tensor 'Shock_Distr/shock_distr_1/encoder/latent_inf/Multinomial_1/sample/Reshape_3:0' shape=(1, 20, 2) dtype=float32>"
      ]
     },
     "execution_count": 13,
     "metadata": {},
     "output_type": "execute_result"
    }
   ],
   "source": [
    "shocks_hard"
   ]
  },
  {
   "cell_type": "code",
   "execution_count": 14,
   "metadata": {},
   "outputs": [],
   "source": [
    "def create_hard_shock_prior(num_shocks):\n",
    "    def c(n,k):\n",
    "        from scipy.special import binom\n",
    "        return tf.py_func(lambda x,y: int(binom(int(x),int(y))), [n, k], tf.int64)\n",
    "    \n",
    "    with tf.variable_scope('shocks_prior'):\n",
    "        spd = tf.contrib.distributions.Poisson(rate=NUM_STEPS/5.)\n",
    "#         denum = tf.cast(c(NUM_STEPS, num_shocks), tf.float32)\n",
    "        return (spd.log_prob(num_shocks))*2. #- tf.log(denum)"
   ]
  },
  {
   "cell_type": "code",
   "execution_count": 15,
   "metadata": {},
   "outputs": [],
   "source": [
    "def create_soft_shock_prior(num_shocks):\n",
    "    lower = tf.cast(tf.floor(num_shocks), floatX)\n",
    "    upper = lower + 1.\n",
    "    lh = create_hard_shock_prior(lower)\n",
    "    uh = create_hard_shock_prior(upper)\n",
    "    prop = num_shocks-lower\n",
    "    return lh*(1.-prop) + uh*prop"
   ]
  },
  {
   "cell_type": "code",
   "execution_count": null,
   "metadata": {},
   "outputs": [],
   "source": []
  },
  {
   "cell_type": "code",
   "execution_count": 16,
   "metadata": {},
   "outputs": [],
   "source": [
    "obs_d_prior = LogNormal(dim=None, mu=math.log(0.5), sigma=0.5)\n",
    "\n",
    "with tf.variable_scope('obs_d_inference', dtype=floatX):\n",
    "    mu = tf.get_variable('mu', shape=[1], initializer=tf.constant_initializer(math.log(0.5)))\n",
    "    logsigma = tf.get_variable('logsigma', shape=[1], initializer=tf.constant_initializer(-5))\n",
    "    sigma = tf.exp(logsigma)\n",
    "    \n",
    "    obs_d_post = LogNormal(1, mu=mu, sigma=sigma)\n",
    "    obs_ds = obs_d_post.sample()\n",
    "    \n",
    "    obs_ds_logdens = obs_d_post.logdens(obs_ds)\n",
    "    tf.add_to_collection('logdensities', obs_ds_logdens)\n",
    "    tf.add_to_collection('priors', obs_d_prior.logdens(obs_ds))\n",
    "    \n",
    "    tf.summary.scalar('observ_sigma', obs_ds[0])"
   ]
  },
  {
   "cell_type": "code",
   "execution_count": 17,
   "metadata": {},
   "outputs": [],
   "source": [
    "def create_param_walk_prior(shocks):\n",
    "    with tf.name_scope('RW_prior'):\n",
    "        tmp = tf.cast(shocks[:,:,1], floatX)\n",
    "        prior = tmp*prior_shock + (1-tmp)*prior_ord\n",
    "        prior = tf.reduce_sum(prior) \n",
    "        return prior"
   ]
  },
  {
   "cell_type": "code",
   "execution_count": 18,
   "metadata": {},
   "outputs": [],
   "source": [
    "def predict(observable_mask):\n",
    "    out = tf.reshape(outputs, [NUM_STEPS, dim[0], dim[1]])\n",
    "    \n",
    "    def step(prev, x):\n",
    "        mask = x[0]\n",
    "        prev_pred = tf.where(mask, x[1], prev)[tf.newaxis]\n",
    "        params = x[2]\n",
    "        \n",
    "        d = params[:,:-1]\n",
    "        new_pred = tf.matmul(prev_pred, d)[0] + params[:,-1]\n",
    "        return new_pred\n",
    "    \n",
    "    ar = tf.scan(step, [observable_mask, data[0], out], initializer=tf.zeros([dim[0]], dtype=floatX))\n",
    "    return ar"
   ]
  },
  {
   "cell_type": "code",
   "execution_count": 19,
   "metadata": {},
   "outputs": [
    {
     "data": {
      "text/plain": [
       "20"
      ]
     },
     "execution_count": 19,
     "metadata": {},
     "output_type": "execute_result"
    }
   ],
   "source": [
    "data.shape[1]"
   ]
  },
  {
   "cell_type": "code",
   "execution_count": 20,
   "metadata": {},
   "outputs": [],
   "source": [
    "stop_time = tf.placeholder_with_default(NUM_STEPS, ())\n",
    "predict_mask = tf.range(0, data.shape[1], dtype=tf.int32) < stop_time\n",
    "#используем в предсказаниях ровно stop_time последних наблюдений"
   ]
  },
  {
   "cell_type": "code",
   "execution_count": 21,
   "metadata": {},
   "outputs": [],
   "source": [
    "preds = predict(predict_mask)"
   ]
  },
  {
   "cell_type": "code",
   "execution_count": 22,
   "metadata": {},
   "outputs": [
    {
     "data": {
      "text/plain": [
       "<tf.Tensor 'scan/TensorArrayStack/TensorArrayGatherV3:0' shape=(20, 3) dtype=float32>"
      ]
     },
     "execution_count": 22,
     "metadata": {},
     "output_type": "execute_result"
    }
   ],
   "source": [
    "preds"
   ]
  },
  {
   "cell_type": "code",
   "execution_count": 23,
   "metadata": {},
   "outputs": [],
   "source": [
    "obs_d = Normal(dim=None, sigma=obs_ds, mu=0)\n",
    "\n",
    "diffs = preds[:-1] - data[0,1:]\n",
    "\n",
    "logl = obs_d.logdens(diffs, reduce=False)\n",
    "logl *= tf.cast(predict_mask[:-1], floatX)[:,tf.newaxis]\n",
    "\n",
    "logl = tf.reduce_sum(logl)\n",
    "tf.add_to_collection('priors', logl)"
   ]
  },
  {
   "cell_type": "code",
   "execution_count": 24,
   "metadata": {},
   "outputs": [
    {
     "data": {
      "text/plain": [
       "<tf.Tensor 'logl:0' shape=() dtype=string>"
      ]
     },
     "execution_count": 24,
     "metadata": {},
     "output_type": "execute_result"
    }
   ],
   "source": [
    "tf.summary.scalar('logl', logl)"
   ]
  },
  {
   "cell_type": "code",
   "execution_count": 25,
   "metadata": {},
   "outputs": [],
   "source": [
    "def create_kl(shocks, shocks_prior=0.):\n",
    "    logdens = tf.reduce_sum(tf.get_collection('logdensities'))\n",
    "    prior = tf.reduce_sum(tf.get_collection('priors'))\n",
    "    \n",
    "    param_walk_prior = create_param_walk_prior(shocks)\n",
    "    KLd = -prior + logdens - shocks_prior - param_walk_prior\n",
    "    KLd /= NUM_STEPS*dim[0]*dim[1]\n",
    "    return KLd"
   ]
  },
  {
   "cell_type": "code",
   "execution_count": 26,
   "metadata": {},
   "outputs": [
    {
     "data": {
      "text/plain": [
       "[<tf.Tensor 'walk_ord/LogNormal_2/Sum:0' shape=() dtype=float32>,\n",
       " <tf.Tensor 'walk_shock/LogNormal_2/Sum:0' shape=() dtype=float32>,\n",
       " <tf.Tensor 'coef_rw_inference_1/VAR/logdens/add:0' shape=() dtype=float32>,\n",
       " <tf.Tensor 'Shock_Distr/Normal_2/Sum:0' shape=() dtype=float32>,\n",
       " <tf.Tensor 'obs_d_inference/LogNormal_2/Sum:0' shape=() dtype=float32>]"
      ]
     },
     "execution_count": 26,
     "metadata": {},
     "output_type": "execute_result"
    }
   ],
   "source": [
    "tf.get_collection('logdensities')"
   ]
  },
  {
   "cell_type": "code",
   "execution_count": 27,
   "metadata": {},
   "outputs": [
    {
     "data": {
      "text/plain": [
       "[<tf.Tensor 'walk_ord/LogNormal_3/Sum:0' shape=() dtype=float32>,\n",
       " <tf.Tensor 'walk_shock/LogNormal_3/Sum:0' shape=() dtype=float32>,\n",
       " <tf.Tensor 'obs_d_inference/LogNormal_3/Sum:0' shape=() dtype=float32>,\n",
       " <tf.Tensor 'Sum:0' shape=() dtype=float32>]"
      ]
     },
     "execution_count": 27,
     "metadata": {},
     "output_type": "execute_result"
    }
   ],
   "source": [
    "tf.get_collection('priors')"
   ]
  },
  {
   "cell_type": "code",
   "execution_count": 28,
   "metadata": {},
   "outputs": [
    {
     "data": {
      "text/plain": [
       "<tf.Tensor 'Shock_Distr/shock_distr_1/encoder/latent_inf/Reshape_4:0' shape=(1, 20, 2) dtype=float32>"
      ]
     },
     "execution_count": 28,
     "metadata": {},
     "output_type": "execute_result"
    }
   ],
   "source": [
    "shocks_soft_cond"
   ]
  },
  {
   "cell_type": "code",
   "execution_count": 29,
   "metadata": {},
   "outputs": [],
   "source": [
    "num_shocks = tf.reduce_sum(shocks_soft_uncond[:,:,1:])\n",
    "ssp = create_soft_shock_prior(num_shocks) #- encoding_entropy\n",
    "soft_kl_uncond = create_kl(shocks_soft_uncond, shocks_prior=ssp)\n",
    "\n",
    "num_shocks = tf.reduce_sum(shocks_soft_cond[:,:,1:])\n",
    "ssp = create_soft_shock_prior(num_shocks) #- encoding_entropy\n",
    "soft_kl_cond = create_kl(shocks_soft_cond, shocks_prior=ssp)\n",
    "\n",
    "num_shocks = tf.reduce_sum(shocks_hard[:,:,1:])\n",
    "hard_shocks_prior = create_hard_shock_prior(num_shocks) - shocks_hard_logp\n",
    "hard_kl = create_kl(shocks_hard, shocks_prior=hard_shocks_prior)"
   ]
  },
  {
   "cell_type": "code",
   "execution_count": 30,
   "metadata": {},
   "outputs": [
    {
     "data": {
      "text/plain": [
       "<tf.Tensor 'num_shocks:0' shape=() dtype=string>"
      ]
     },
     "execution_count": 30,
     "metadata": {},
     "output_type": "execute_result"
    }
   ],
   "source": [
    "tf.summary.scalar('num_shocks', num_shocks)"
   ]
  },
  {
   "cell_type": "code",
   "execution_count": 31,
   "metadata": {},
   "outputs": [
    {
     "data": {
      "text/plain": [
       "<tf.Tensor 'Shock_Distr/Sum:0' shape=() dtype=float32>"
      ]
     },
     "execution_count": 31,
     "metadata": {},
     "output_type": "execute_result"
    }
   ],
   "source": [
    "shocks_hard_logp"
   ]
  },
  {
   "cell_type": "code",
   "execution_count": 32,
   "metadata": {},
   "outputs": [],
   "source": [
    "relax_cond = shock_d.build_relax(tf.reshape(shocks_soft_cond, [1,-1]))\n",
    "relax_uncond = shock_d.build_relax(tf.reshape(shocks_soft_uncond, [1,-1]))"
   ]
  },
  {
   "cell_type": "code",
   "execution_count": 33,
   "metadata": {},
   "outputs": [
    {
     "data": {
      "text/plain": [
       "<tf.Tensor 'truediv_1:0' shape=() dtype=float32>"
      ]
     },
     "execution_count": 33,
     "metadata": {},
     "output_type": "execute_result"
    }
   ],
   "source": [
    "soft_kl_cond"
   ]
  },
  {
   "cell_type": "code",
   "execution_count": 34,
   "metadata": {},
   "outputs": [],
   "source": [
    "eta = shock_d.eta\n",
    "\n",
    "soft_control_cond = eta*soft_kl_cond + relax_cond\n",
    "soft_control_uncond = eta*soft_kl_uncond - eta*soft_kl_cond - relax_cond + relax_uncond\n",
    "\n",
    "stoped_grad = hard_kl - soft_control_cond# - nvil_baseline\n",
    "\n",
    "target = shocks_hard_logp*stoped_grad + soft_control_uncond\n",
    "target = tf.reduce_mean(target)"
   ]
  },
  {
   "cell_type": "code",
   "execution_count": 35,
   "metadata": {},
   "outputs": [
    {
     "data": {
      "text/plain": [
       "<tf.Tensor 'add_8:0' shape=(1,) dtype=float32>"
      ]
     },
     "execution_count": 35,
     "metadata": {},
     "output_type": "execute_result"
    }
   ],
   "source": [
    "soft_control_uncond"
   ]
  },
  {
   "cell_type": "code",
   "execution_count": 36,
   "metadata": {},
   "outputs": [],
   "source": [
    "shock_vars = shock_d.get_encoder_vars()"
   ]
  },
  {
   "cell_type": "code",
   "execution_count": 37,
   "metadata": {},
   "outputs": [],
   "source": [
    "shock_vars_grad = tf.gradients(target, shock_vars, stop_gradients=stoped_grad)"
   ]
  },
  {
   "cell_type": "code",
   "execution_count": 38,
   "metadata": {},
   "outputs": [],
   "source": [
    "controls = shock_d.get_control_vars()\n",
    "cv_loss = shock_d.build_control_loss(shock_vars_grad)\n",
    "\n",
    "tf.summary.scalar('cv_loss', cv_loss)\n",
    "\n",
    "cv_gradients = tf.gradients(cv_loss, controls)"
   ]
  },
  {
   "cell_type": "code",
   "execution_count": 39,
   "metadata": {},
   "outputs": [],
   "source": [
    "rest_vars = [x for x in tf.global_variables() if not (x in controls or x in shock_vars)]\n",
    "rest_gradients = tf.gradients(hard_kl, rest_vars)"
   ]
  },
  {
   "cell_type": "code",
   "execution_count": 40,
   "metadata": {},
   "outputs": [
    {
     "data": {
      "text/plain": [
       "[<tf.Variable 'walk_ord/s1_inference/mu:0' shape=(1,) dtype=float32_ref>,\n",
       " <tf.Variable 'walk_ord/s1_inference/logsigma:0' shape=(1,) dtype=float32_ref>,\n",
       " <tf.Variable 'walk_shock/incr_inference/mu:0' shape=(1,) dtype=float32_ref>,\n",
       " <tf.Variable 'walk_shock/incr_inference/logsigma:0' shape=(1,) dtype=float32_ref>,\n",
       " <tf.Variable 'coef_rw_inference/lc_0/lowerd:0' shape=(78,) dtype=float32_ref>,\n",
       " <tf.Variable 'coef_rw_inference/lc_0/ldiag:0' shape=(12,) dtype=float32_ref>,\n",
       " <tf.Variable 'coef_rw_inference/lc_1/lowerd:0' shape=(78,) dtype=float32_ref>,\n",
       " <tf.Variable 'coef_rw_inference/lc_1/ldiag:0' shape=(12,) dtype=float32_ref>,\n",
       " <tf.Variable 'coef_rw_inference/lc_1/W:0' shape=(12, 12) dtype=float32_ref>,\n",
       " <tf.Variable 'coef_rw_inference/lc_2/lowerd:0' shape=(78,) dtype=float32_ref>,\n",
       " <tf.Variable 'coef_rw_inference/lc_2/ldiag:0' shape=(12,) dtype=float32_ref>,\n",
       " <tf.Variable 'coef_rw_inference/lc_2/W:0' shape=(12, 12) dtype=float32_ref>,\n",
       " <tf.Variable 'coef_rw_inference/lc_3/lowerd:0' shape=(78,) dtype=float32_ref>,\n",
       " <tf.Variable 'coef_rw_inference/lc_3/ldiag:0' shape=(12,) dtype=float32_ref>,\n",
       " <tf.Variable 'coef_rw_inference/lc_3/W:0' shape=(12, 12) dtype=float32_ref>,\n",
       " <tf.Variable 'coef_rw_inference/lc_4/lowerd:0' shape=(78,) dtype=float32_ref>,\n",
       " <tf.Variable 'coef_rw_inference/lc_4/ldiag:0' shape=(12,) dtype=float32_ref>,\n",
       " <tf.Variable 'coef_rw_inference/lc_4/W:0' shape=(12, 12) dtype=float32_ref>,\n",
       " <tf.Variable 'coef_rw_inference/lc_5/lowerd:0' shape=(78,) dtype=float32_ref>,\n",
       " <tf.Variable 'coef_rw_inference/lc_5/ldiag:0' shape=(12,) dtype=float32_ref>,\n",
       " <tf.Variable 'coef_rw_inference/lc_5/W:0' shape=(12, 12) dtype=float32_ref>,\n",
       " <tf.Variable 'coef_rw_inference/lc_6/lowerd:0' shape=(78,) dtype=float32_ref>,\n",
       " <tf.Variable 'coef_rw_inference/lc_6/ldiag:0' shape=(12,) dtype=float32_ref>,\n",
       " <tf.Variable 'coef_rw_inference/lc_6/W:0' shape=(12, 12) dtype=float32_ref>,\n",
       " <tf.Variable 'coef_rw_inference/lc_7/lowerd:0' shape=(78,) dtype=float32_ref>,\n",
       " <tf.Variable 'coef_rw_inference/lc_7/ldiag:0' shape=(12,) dtype=float32_ref>,\n",
       " <tf.Variable 'coef_rw_inference/lc_7/W:0' shape=(12, 12) dtype=float32_ref>,\n",
       " <tf.Variable 'coef_rw_inference/lc_8/lowerd:0' shape=(78,) dtype=float32_ref>,\n",
       " <tf.Variable 'coef_rw_inference/lc_8/ldiag:0' shape=(12,) dtype=float32_ref>,\n",
       " <tf.Variable 'coef_rw_inference/lc_8/W:0' shape=(12, 12) dtype=float32_ref>,\n",
       " <tf.Variable 'coef_rw_inference/lc_9/lowerd:0' shape=(78,) dtype=float32_ref>,\n",
       " <tf.Variable 'coef_rw_inference/lc_9/ldiag:0' shape=(12,) dtype=float32_ref>,\n",
       " <tf.Variable 'coef_rw_inference/lc_9/W:0' shape=(12, 12) dtype=float32_ref>,\n",
       " <tf.Variable 'coef_rw_inference/lc_10/lowerd:0' shape=(78,) dtype=float32_ref>,\n",
       " <tf.Variable 'coef_rw_inference/lc_10/ldiag:0' shape=(12,) dtype=float32_ref>,\n",
       " <tf.Variable 'coef_rw_inference/lc_10/W:0' shape=(12, 12) dtype=float32_ref>,\n",
       " <tf.Variable 'coef_rw_inference/lc_11/lowerd:0' shape=(78,) dtype=float32_ref>,\n",
       " <tf.Variable 'coef_rw_inference/lc_11/ldiag:0' shape=(12,) dtype=float32_ref>,\n",
       " <tf.Variable 'coef_rw_inference/lc_11/W:0' shape=(12, 12) dtype=float32_ref>,\n",
       " <tf.Variable 'coef_rw_inference/lc_12/lowerd:0' shape=(78,) dtype=float32_ref>,\n",
       " <tf.Variable 'coef_rw_inference/lc_12/ldiag:0' shape=(12,) dtype=float32_ref>,\n",
       " <tf.Variable 'coef_rw_inference/lc_12/W:0' shape=(12, 12) dtype=float32_ref>,\n",
       " <tf.Variable 'coef_rw_inference/lc_13/lowerd:0' shape=(78,) dtype=float32_ref>,\n",
       " <tf.Variable 'coef_rw_inference/lc_13/ldiag:0' shape=(12,) dtype=float32_ref>,\n",
       " <tf.Variable 'coef_rw_inference/lc_13/W:0' shape=(12, 12) dtype=float32_ref>,\n",
       " <tf.Variable 'coef_rw_inference/lc_14/lowerd:0' shape=(78,) dtype=float32_ref>,\n",
       " <tf.Variable 'coef_rw_inference/lc_14/ldiag:0' shape=(12,) dtype=float32_ref>,\n",
       " <tf.Variable 'coef_rw_inference/lc_14/W:0' shape=(12, 12) dtype=float32_ref>,\n",
       " <tf.Variable 'coef_rw_inference/lc_15/lowerd:0' shape=(78,) dtype=float32_ref>,\n",
       " <tf.Variable 'coef_rw_inference/lc_15/ldiag:0' shape=(12,) dtype=float32_ref>,\n",
       " <tf.Variable 'coef_rw_inference/lc_15/W:0' shape=(12, 12) dtype=float32_ref>,\n",
       " <tf.Variable 'coef_rw_inference/lc_16/lowerd:0' shape=(78,) dtype=float32_ref>,\n",
       " <tf.Variable 'coef_rw_inference/lc_16/ldiag:0' shape=(12,) dtype=float32_ref>,\n",
       " <tf.Variable 'coef_rw_inference/lc_16/W:0' shape=(12, 12) dtype=float32_ref>,\n",
       " <tf.Variable 'coef_rw_inference/lc_17/lowerd:0' shape=(78,) dtype=float32_ref>,\n",
       " <tf.Variable 'coef_rw_inference/lc_17/ldiag:0' shape=(12,) dtype=float32_ref>,\n",
       " <tf.Variable 'coef_rw_inference/lc_17/W:0' shape=(12, 12) dtype=float32_ref>,\n",
       " <tf.Variable 'coef_rw_inference/lc_18/lowerd:0' shape=(78,) dtype=float32_ref>,\n",
       " <tf.Variable 'coef_rw_inference/lc_18/ldiag:0' shape=(12,) dtype=float32_ref>,\n",
       " <tf.Variable 'coef_rw_inference/lc_18/W:0' shape=(12, 12) dtype=float32_ref>,\n",
       " <tf.Variable 'coef_rw_inference/lc_19/lowerd:0' shape=(78,) dtype=float32_ref>,\n",
       " <tf.Variable 'coef_rw_inference/lc_19/ldiag:0' shape=(12,) dtype=float32_ref>,\n",
       " <tf.Variable 'coef_rw_inference/lc_19/W:0' shape=(12, 12) dtype=float32_ref>,\n",
       " <tf.Variable 'coef_rw_inference/mu:0' shape=(20, 12) dtype=float32_ref>,\n",
       " <tf.Variable 'obs_d_inference/mu:0' shape=(1,) dtype=float32_ref>,\n",
       " <tf.Variable 'obs_d_inference/logsigma:0' shape=(1,) dtype=float32_ref>]"
      ]
     },
     "execution_count": 40,
     "metadata": {},
     "output_type": "execute_result"
    }
   ],
   "source": [
    "rest_vars"
   ]
  },
  {
   "cell_type": "code",
   "execution_count": 41,
   "metadata": {},
   "outputs": [],
   "source": [
    "all_vars = shock_vars + rest_vars \n",
    "grads = shock_vars_grad + rest_gradients\n",
    "main_updates = [(g,x) for x,g in zip(all_vars, grads)]\n",
    "control_updates = [(g,x) for x,g in zip(controls, cv_gradients)]"
   ]
  },
  {
   "cell_type": "code",
   "execution_count": 42,
   "metadata": {},
   "outputs": [
    {
     "data": {
      "text/plain": [
       "<tf.Tensor 'KLd:0' shape=() dtype=string>"
      ]
     },
     "execution_count": 42,
     "metadata": {},
     "output_type": "execute_result"
    }
   ],
   "source": [
    "tf.summary.scalar('KLd', hard_kl)"
   ]
  },
  {
   "cell_type": "code",
   "execution_count": 43,
   "metadata": {},
   "outputs": [],
   "source": [
    "lr = tf.Variable(0.001)\n",
    "main_opt = tf.train.AdamOptimizer(lr).apply_gradients(main_updates)\n",
    "cont_opt = tf.train.AdadeltaOptimizer(0.001).apply_gradients(control_updates)"
   ]
  },
  {
   "cell_type": "code",
   "execution_count": 44,
   "metadata": {},
   "outputs": [
    {
     "data": {
      "text/plain": [
       "[(<tf.Tensor 'gradients_1/Shock_Distr/shock_distr/controls/Exp_grad/mul:0' shape=(20, 1) dtype=float32>,\n",
       "  <tf.Variable 'Shock_Distr/shock_distr/controls/pretemp:0' shape=(20, 1) dtype=float32_ref>),\n",
       " (<tf.Tensor 'gradients_1/Shock_Distr/shock_distr/controls/Exp_1_grad/mul:0' shape=() dtype=float32>,\n",
       "  <tf.Variable 'Shock_Distr/shock_distr/controls/preeta:0' shape=() dtype=float32_ref>),\n",
       " (<tf.Tensor 'gradients_1/AddN_29:0' shape=(40, 128) dtype=float32>,\n",
       "  <tf.Variable 'Shock_Distr/shock_distr/controls/RELAX/FCN/d0/W:0' shape=(40, 128) dtype=float32_ref>),\n",
       " (<tf.Tensor 'gradients_1/AddN_27:0' shape=(1, 128) dtype=float32>,\n",
       "  <tf.Variable 'Shock_Distr/shock_distr/controls/RELAX/FCN/d0/b:0' shape=(1, 128) dtype=float32_ref>),\n",
       " (<tf.Tensor 'gradients_1/AddN_25:0' shape=(128, 64) dtype=float32>,\n",
       "  <tf.Variable 'Shock_Distr/shock_distr/controls/RELAX/FCN/d1/W:0' shape=(128, 64) dtype=float32_ref>),\n",
       " (<tf.Tensor 'gradients_1/AddN_23:0' shape=(1, 64) dtype=float32>,\n",
       "  <tf.Variable 'Shock_Distr/shock_distr/controls/RELAX/FCN/d1/b:0' shape=(1, 64) dtype=float32_ref>),\n",
       " (<tf.Tensor 'gradients_1/AddN_20:0' shape=(64, 1) dtype=float32>,\n",
       "  <tf.Variable 'Shock_Distr/shock_distr/controls/RELAX/FCN/d2/W:0' shape=(64, 1) dtype=float32_ref>),\n",
       " (<tf.Tensor 'gradients_1/shock_distr/RELAX/FCN/strided_slice_grad/StridedSliceGrad:0' shape=(1, 1) dtype=float32>,\n",
       "  <tf.Variable 'Shock_Distr/shock_distr/controls/RELAX/FCN/d2/b:0' shape=(1, 1) dtype=float32_ref>)]"
      ]
     },
     "execution_count": 44,
     "metadata": {},
     "output_type": "execute_result"
    }
   ],
   "source": [
    "control_updates"
   ]
  },
  {
   "cell_type": "code",
   "execution_count": 45,
   "metadata": {},
   "outputs": [],
   "source": [
    "opt = [main_opt, cont_opt]"
   ]
  },
  {
   "cell_type": "code",
   "execution_count": 46,
   "metadata": {},
   "outputs": [],
   "source": [
    "sess = tf.InteractiveSession()"
   ]
  },
  {
   "cell_type": "code",
   "execution_count": 47,
   "metadata": {},
   "outputs": [],
   "source": [
    "# !rm -R /tmp/tfdbg"
   ]
  },
  {
   "cell_type": "code",
   "execution_count": 48,
   "metadata": {},
   "outputs": [
    {
     "name": "stdout",
     "output_type": "stream",
     "text": [
      "mkdir: cannot create directory ‘/tmp/tfdbg’: File exists\r\n"
     ]
    }
   ],
   "source": [
    "!mkdir /tmp/tfdbg\n",
    "writer = tf.summary.FileWriter('/tmp/tfdbg/relax_rus_var_scaledprior_novae_better_prior2x')"
   ]
  },
  {
   "cell_type": "code",
   "execution_count": 49,
   "metadata": {},
   "outputs": [],
   "source": [
    "writer.add_graph(tf.get_default_graph())"
   ]
  },
  {
   "cell_type": "code",
   "execution_count": 50,
   "metadata": {},
   "outputs": [],
   "source": [
    "tf.global_variables_initializer().run()"
   ]
  },
  {
   "cell_type": "code",
   "execution_count": 51,
   "metadata": {},
   "outputs": [
    {
     "data": {
      "text/plain": [
       "0.9150533"
      ]
     },
     "execution_count": 51,
     "metadata": {},
     "output_type": "execute_result"
    }
   ],
   "source": [
    "hard_kl.eval()"
   ]
  },
  {
   "cell_type": "code",
   "execution_count": 52,
   "metadata": {},
   "outputs": [
    {
     "data": {
      "text/plain": [
       "<tf.Tensor 'gradients_1/Shock_Distr/shock_distr/controls/Exp_grad/mul:0' shape=(20, 1) dtype=float32>"
      ]
     },
     "execution_count": 52,
     "metadata": {},
     "output_type": "execute_result"
    }
   ],
   "source": [
    "cv_gradients[0]"
   ]
  },
  {
   "cell_type": "code",
   "execution_count": 53,
   "metadata": {},
   "outputs": [],
   "source": [
    "# a = []\n",
    "# for _ in range(1000):\n",
    "#     a.append(sess.run(cv_gradients[0]))\n",
    "# np.mean(a, axis=0)"
   ]
  },
  {
   "cell_type": "code",
   "execution_count": 54,
   "metadata": {},
   "outputs": [],
   "source": [
    "np.set_printoptions(precision=3)"
   ]
  },
  {
   "cell_type": "code",
   "execution_count": 55,
   "metadata": {},
   "outputs": [],
   "source": [
    "# PWalk.inverse_sigma.eval()[:3,:3]"
   ]
  },
  {
   "cell_type": "code",
   "execution_count": 56,
   "metadata": {},
   "outputs": [],
   "source": [
    "out = tf.reshape(outputs, [NUM_STEPS, dim[0], dim[1]])"
   ]
  },
  {
   "cell_type": "code",
   "execution_count": 57,
   "metadata": {},
   "outputs": [],
   "source": [
    "epoch = 0"
   ]
  },
  {
   "cell_type": "code",
   "execution_count": 58,
   "metadata": {},
   "outputs": [],
   "source": [
    "all_sum = tf.summary.merge_all()"
   ]
  },
  {
   "cell_type": "code",
   "execution_count": 59,
   "metadata": {},
   "outputs": [],
   "source": [
    "def check_ppc(timestep):\n",
    "    n = 1000\n",
    "    all_preds = []\n",
    "    for _ in range(n):\n",
    "        tp = preds.eval({stop_time:timestep-1})\n",
    "        tp = tp[timestep-1]\n",
    "        all_preds.append(tp)\n",
    "    all_preds = np.array(all_preds).mean(axis=0)\n",
    "#     print(xs.shape)\n",
    "    return np.sqrt(np.mean((all_preds - xs[0,timestep])**2))"
   ]
  },
  {
   "cell_type": "code",
   "execution_count": 60,
   "metadata": {},
   "outputs": [],
   "source": [
    "# shock_d.logits.eval()"
   ]
  },
  {
   "cell_type": "code",
   "execution_count": null,
   "metadata": {
    "scrolled": true
   },
   "outputs": [
    {
     "name": "stdout",
     "output_type": "stream",
     "text": [
      "0.46891543\n",
      "0.4790226\n",
      "0.51266557\n",
      "0.51003265\n",
      "0.53111434\n"
     ]
    }
   ],
   "source": [
    "%%time\n",
    "for epoch in range(epoch, epoch+1000):\n",
    "    for i in range(1000):\n",
    "        l, _ = sess.run([hard_kl, opt], {phase:True})\n",
    "        if i % 30 == 0:\n",
    "            s = all_sum.eval({phase:True})\n",
    "            writer.add_summary(s, global_step=epoch*1000 + i)\n",
    "    print(l)"
   ]
  },
  {
   "cell_type": "code",
   "execution_count": 87,
   "metadata": {},
   "outputs": [
    {
     "data": {
      "text/plain": [
       "1e-04"
      ]
     },
     "execution_count": 87,
     "metadata": {},
     "output_type": "execute_result"
    }
   ],
   "source": [
    "lr.assign(0.0001).eval()"
   ]
  },
  {
   "cell_type": "code",
   "execution_count": 65,
   "metadata": {},
   "outputs": [
    {
     "name": "stdout",
     "output_type": "stream",
     "text": [
      "[[0.362 0.237 0.256 0.189 0.231 0.237 0.238 0.261 0.244 0.245 0.276 0.276\n",
      "  0.254 0.194 0.266 0.236 0.255 0.299 0.225 0.237]]\n"
     ]
    }
   ],
   "source": [
    "ss = []\n",
    "for _ in range(20000):\n",
    "    s = shocks_hard.eval()[:,:,1].astype('float')\n",
    "    ss.append(s)\n",
    "ss = np.array(ss)\n",
    "print(ss.mean(axis=0))"
   ]
  },
  {
   "cell_type": "code",
   "execution_count": 66,
   "metadata": {},
   "outputs": [
    {
     "data": {
      "image/png": "[encoded data removed]",
      "text/plain": [
       "<Figure size 432x288 with 1 Axes>"
      ]
     },
     "metadata": {},
     "output_type": "display_data"
    }
   ],
   "source": [
    "x = range(2016-data.shape[1],2016)\n",
    "plt.plot(x, ss.mean(axis=0)[0][:])\n",
    "plt.show()"
   ]
  },
  {
   "cell_type": "code",
   "execution_count": null,
   "metadata": {},
   "outputs": [],
   "source": [
    "ss = []\n",
    "aa = []\n",
    "for _ in range(3000):\n",
    "    a = np.linalg.inv(PWalk.inverse_sigma.eval())\n",
    "    ss.append(np.sqrt(np.diag(a)))\n",
    "    aa.append(a)\n",
    "ss = np.array(ss)\n",
    "aa = np.array(aa)"
   ]
  },
  {
   "cell_type": "code",
   "execution_count": null,
   "metadata": {},
   "outputs": [],
   "source": [
    "aa.mean(axis=0)[:5,:5]"
   ]
  },
  {
   "cell_type": "code",
   "execution_count": null,
   "metadata": {},
   "outputs": [],
   "source": [
    "np.mean(ss, axis=0), np.std(ss, axis=0)"
   ]
  },
  {
   "cell_type": "code",
   "execution_count": null,
   "metadata": {},
   "outputs": [],
   "source": [
    "# sns.kdeplot(ss[:,1], ss[:,0])\n",
    "# plt.show()"
   ]
  },
  {
   "cell_type": "code",
   "execution_count": null,
   "metadata": {},
   "outputs": [],
   "source": [
    "samples = []\n",
    "for _ in range(3000):\n",
    "    s = out.eval({phase:True})\n",
    "    samples.append(s)\n",
    "samples = np.array(samples)"
   ]
  },
  {
   "cell_type": "code",
   "execution_count": null,
   "metadata": {},
   "outputs": [],
   "source": [
    "t = 10\n",
    "sns.kdeplot(samples[:,t,2,0], samples[:,t,0,3])\n",
    "plt.show()"
   ]
  },
  {
   "cell_type": "code",
   "execution_count": null,
   "metadata": {},
   "outputs": [],
   "source": [
    "t = 10\n",
    "# params[t]"
   ]
  },
  {
   "cell_type": "code",
   "execution_count": null,
   "metadata": {},
   "outputs": [],
   "source": [
    "np.mean(samples[:,t], axis=0)"
   ]
  },
  {
   "cell_type": "code",
   "execution_count": null,
   "metadata": {},
   "outputs": [],
   "source": [
    "np.std(samples[:,t], axis=0)"
   ]
  },
  {
   "cell_type": "code",
   "execution_count": null,
   "metadata": {},
   "outputs": [],
   "source": []
  },
  {
   "cell_type": "code",
   "execution_count": null,
   "metadata": {},
   "outputs": [],
   "source": [
    "from sklearn.neighbors.kde import KernelDensity\n",
    "def score(s1, s2):\n",
    "    bw = 0.1\n",
    "    s1 = s1[:,np.newaxis]\n",
    "    s2 = s2[:,np.newaxis]\n",
    "    e1 = KernelDensity(bandwidth=bw).fit(s1)\n",
    "    e2 = KernelDensity(bandwidth=bw).fit(s2)\n",
    "    \n",
    "    e1e2 = e1.score(s1) - e2.score(s1)\n",
    "    e2e1 = e2.score(s2) - e1.score(s2)\n",
    "    dist = (e1e2/len(s1) + e2e1/len(s2))/2\n",
    "    return dist"
   ]
  },
  {
   "cell_type": "code",
   "execution_count": null,
   "metadata": {},
   "outputs": [],
   "source": [
    "def get_cdf(ts):\n",
    "    return lambda x: (ts <= x).mean()\n",
    "def score(s1,s2):\n",
    "    c1 = get_cdf(s1)\n",
    "    c2 = get_cdf(s2)\n",
    "\n",
    "    m = 0\n",
    "    for s in np.concatenate([s1, s2]):\n",
    "        r = np.abs(c1(s) - c2(s))\n",
    "        if r > m:\n",
    "            m = r\n",
    "    return m"
   ]
  },
  {
   "cell_type": "code",
   "execution_count": null,
   "metadata": {},
   "outputs": [],
   "source": [
    "score(s1,s2)"
   ]
  },
  {
   "cell_type": "code",
   "execution_count": null,
   "metadata": {},
   "outputs": [],
   "source": [
    "dists = []\n",
    "for t1 in range(samples.shape[1] - 1):\n",
    "    np.random.seed(1234)\n",
    "    print(t1)\n",
    "    t2 = t1 + 1\n",
    "    s1 = samples[:,t1,0,0]\n",
    "    s2 = samples[:,t2,0,0]\n",
    "    ss = []\n",
    "    for _ in range(10):\n",
    "        s1_ = np.random.choice(s1, size=8000)\n",
    "        s2_ = np.random.choice(s2, size=8000)\n",
    "        m = score(s1_,s2_)\n",
    "        ss.append(m)\n",
    "    dists.append(ss)\n",
    "dists = np.array(dists).T"
   ]
  },
  {
   "cell_type": "markdown",
   "metadata": {},
   "source": [
    "## KDE + KL"
   ]
  },
  {
   "cell_type": "code",
   "execution_count": null,
   "metadata": {},
   "outputs": [],
   "source": [
    "sns.tsplot(dists, ci=[50, 95])\n",
    "plt.show()"
   ]
  },
  {
   "cell_type": "code",
   "execution_count": null,
   "metadata": {},
   "outputs": [],
   "source": [
    "sns.tsplot(dists, ci=[50, 95])\n",
    "plt.show()"
   ]
  },
  {
   "cell_type": "markdown",
   "metadata": {},
   "source": [
    "## Kolmogorov-Smirnov"
   ]
  },
  {
   "cell_type": "code",
   "execution_count": null,
   "metadata": {},
   "outputs": [],
   "source": [
    "sns.tsplot(dists, ci=[50, 95])\n",
    "plt.show()"
   ]
  },
  {
   "cell_type": "code",
   "execution_count": null,
   "metadata": {},
   "outputs": [],
   "source": [
    "tf.pow()"
   ]
  }
 ],
 "metadata": {
  "kernelspec": {
   "display_name": "py3.6",
   "language": "python",
   "name": "py3.6"
  },
  "language_info": {
   "codemirror_mode": {
    "name": "ipython",
    "version": 3
   },
   "file_extension": ".py",
   "mimetype": "text/x-python",
   "name": "python",
   "nbconvert_exporter": "python",
   "pygments_lexer": "ipython3",
   "version": "3.6.4"
  }
 },
 "nbformat": 4,
 "nbformat_minor": 2
}
