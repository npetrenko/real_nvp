{
 "cells": [
  {
   "cell_type": "code",
   "execution_count": 1,
   "metadata": {},
   "outputs": [
    {
     "name": "stderr",
     "output_type": "stream",
     "text": [
      "/usr/lib/python3.6/importlib/_bootstrap.py:219: RuntimeWarning: compiletime version 3.5 of module 'tensorflow.python.framework.fast_tensor_util' does not match runtime version 3.6\n",
      "  return f(*args, **kwds)\n"
     ]
    }
   ],
   "source": [
    "import tensorflow as tf\n",
    "import numpy as np"
   ]
  },
  {
   "cell_type": "code",
   "execution_count": 2,
   "metadata": {},
   "outputs": [],
   "source": [
    "from collections.abc import Sequence\n",
    "\n",
    "class FlowSequence(Sequence):\n",
    "    def __init__(self, flows = []):\n",
    "        self.flows = flows\n",
    "        super().__init__()\n",
    "        \n",
    "    def add(self, flow):\n",
    "        flows = self.flows[:]\n",
    "        flows.append(flow)\n",
    "        return FlowSequence(flows)\n",
    "    \n",
    "    def __getitem__ (self, i):\n",
    "        return self.flows[i]\n",
    "    \n",
    "    def __len__ (self):\n",
    "        return len(self.flows)\n",
    "    \n",
    "    def apply(self, inp, inverse=False):\n",
    "        init = NVPFlow(int(inp.shape[-1]), name='input_flow', output=inp)\n",
    "        \n",
    "        f = init\n",
    "        \n",
    "        if not inverse:\n",
    "            for flow in self.flows:\n",
    "                f = flow(f)\n",
    "        else:\n",
    "            for flow in self.flows[::-1]:\n",
    "                f = flow(f, inverse=True)\n",
    "                \n",
    "        logjs = tf.stack([f.logj for f in self.flows])\n",
    "        logj = tf.reduce_sum(logjs, axis=0)\n",
    "        \n",
    "        self.logj = logj\n",
    "        \n",
    "        return f[-1].output"
   ]
  },
  {
   "cell_type": "code",
   "execution_count": 3,
   "metadata": {},
   "outputs": [],
   "source": [
    "def Dense(inp, num_n, name='Dense', use_bias=True):\n",
    "    with tf.variable_scope(name, initializer=tf.random_normal_initializer(stddev=0.01)):\n",
    "        inp_dim = int(inp.shape[-1])\n",
    "        W = tf.get_variable('W', [inp_dim, num_n])\n",
    "        pa = tf.matmul(inp, W)\n",
    "        \n",
    "        if use_bias:\n",
    "            b = tf.get_variable('b', [1, num_n])\n",
    "            pa += b\n",
    "            \n",
    "    return pa"
   ]
  },
  {
   "cell_type": "code",
   "execution_count": 4,
   "metadata": {},
   "outputs": [],
   "source": [
    "class NVPFlow:\n",
    "    def __init__(self, dim=None, name='NVPFlow', output=None):\n",
    "        self.dim = dim\n",
    "        self.name = name\n",
    "        self.output = output\n",
    "        if output is not None:\n",
    "            self.mask = np.zeros(dim, np.bool)\n",
    "        \n",
    "    def __call__(self, inp_flows=None, inverse=False):\n",
    "        \n",
    "        if isinstance(inp_flows, FlowSequence):\n",
    "            prev_flow_output = inp_flows[-1].output\n",
    "            dim = int(inp_flows[-1].dim)\n",
    "        elif isinstance(inp_flows, NVPFlow):\n",
    "            prev_flow_output = inp_flows.output\n",
    "            dim = inp_flows.dim\n",
    "            inp_flows = FlowSequence([inp_flows])\n",
    "        else:\n",
    "            raise ValueError('Input flow must be either a flowsequence or a flow')\n",
    "            \n",
    "        self.dim = dim\n",
    "        \n",
    "        if inp_flows is None:\n",
    "            \n",
    "            if hasattr(self, 'mask'):\n",
    "                mask = self.mask\n",
    "            else:\n",
    "                mask = np.zeros(dim, np.bool)\n",
    "                mask[:dim//2] = True\n",
    "                self.mask = mask\n",
    "                \n",
    "            out_flows = FlowSequence([self])\n",
    "        else:\n",
    "            if hasattr(self, 'mask'):\n",
    "                mask = self.mask\n",
    "                \n",
    "            else:\n",
    "                prev_cover = np.zeros(dim, np.bool)\n",
    "                for flow in inp_flows:\n",
    "                    prev_cover += flow.mask\n",
    "                uncovered = np.logical_not(prev_cover)\n",
    "                mask = uncovered\n",
    "\n",
    "                if np.sum(mask) >= dim//2:\n",
    "                    ix = np.arange(len(mask))[mask]\n",
    "                    new_ix = np.random.choice(ix, size=dim//2, replace=False)\n",
    "                    new_mask = np.zeros_like(mask)\n",
    "                    new_mask[new_ix] = True\n",
    "                    mask = new_mask\n",
    "\n",
    "                elif np.sum(mask) < dim//2:\n",
    "                    ix = np.arange(len(mask))[np.logical_not(mask)]\n",
    "                    new_ix = np.random.choice(ix, size=dim//2 - np.sum(mask), replace=False)\n",
    "                    new_mask = np.zeros_like(mask)\n",
    "                    new_mask[new_ix] = True\n",
    "                    mask += new_mask\n",
    "                \n",
    "                self.mask = mask\n",
    "            \n",
    "            out_flows = inp_flows.add(self)\n",
    "                \n",
    "        with tf.variable_scope(self.name, reuse=tf.AUTO_REUSE):\n",
    "            mask = mask[np.newaxis,:]\n",
    "            \n",
    "            input_tensor = prev_flow_output*mask\n",
    "            \n",
    "            blend_tensor = prev_flow_output*(1 - mask)\n",
    "            \n",
    "            preelastic = Dense(blend_tensor, dim, name='preelastic')\n",
    "            transition = Dense(blend_tensor, dim, name='transition')\n",
    "            \n",
    "            if not inverse:\n",
    "                transformed = tf.exp(preelastic)*input_tensor + transition\n",
    "                self.output = transformed * mask + blend_tensor\n",
    "                \n",
    "            else:\n",
    "                transformed = (input_tensor - transition)/tf.exp(preelastic)\n",
    "                self.output = transformed * mask + blend_tensor\n",
    "            \n",
    "            self.logj =  tf.reduce_sum(preelastic, axis=-1, name='logj')\n",
    "            \n",
    "        return out_flows"
   ]
  },
  {
   "cell_type": "code",
   "execution_count": 5,
   "metadata": {},
   "outputs": [],
   "source": [
    "init = NVPFlow(5, 'init_flow', tf.random_normal([30, 5]))"
   ]
  },
  {
   "cell_type": "code",
   "execution_count": 6,
   "metadata": {},
   "outputs": [],
   "source": [
    "fl = init"
   ]
  },
  {
   "cell_type": "code",
   "execution_count": 7,
   "metadata": {},
   "outputs": [],
   "source": [
    "for i in range(0, 10):\n",
    "    fl = NVPFlow(name=str(i))(fl)"
   ]
  },
  {
   "cell_type": "code",
   "execution_count": 8,
   "metadata": {},
   "outputs": [
    {
     "data": {
      "text/plain": [
       "<tf.Tensor '9_1/add_1:0' shape=(20, 5) dtype=float32>"
      ]
     },
     "execution_count": 8,
     "metadata": {},
     "output_type": "execute_result"
    }
   ],
   "source": [
    "fl.apply(tf.random_normal([20,5]))"
   ]
  },
  {
   "cell_type": "code",
   "execution_count": 9,
   "metadata": {},
   "outputs": [
    {
     "data": {
      "text/plain": [
       "<tf.Tensor 'Sum:0' shape=(20,) dtype=float32>"
      ]
     },
     "execution_count": 9,
     "metadata": {},
     "output_type": "execute_result"
    }
   ],
   "source": [
    "fl.logj"
   ]
  },
  {
   "cell_type": "code",
   "execution_count": null,
   "metadata": {},
   "outputs": [],
   "source": []
  }
 ],
 "metadata": {
  "kernelspec": {
   "display_name": "Python 3",
   "language": "python",
   "name": "python3"
  },
  "language_info": {
   "codemirror_mode": {
    "name": "ipython",
    "version": 3
   },
   "file_extension": ".py",
   "mimetype": "text/x-python",
   "name": "python",
   "nbconvert_exporter": "python",
   "pygments_lexer": "ipython3",
   "version": "3.6.3"
  }
 },
 "nbformat": 4,
 "nbformat_minor": 2
}
