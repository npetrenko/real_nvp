{
 "cells": [
  {
   "cell_type": "code",
   "execution_count": 1,
   "metadata": {},
   "outputs": [
    {
     "name": "stdout",
     "output_type": "stream",
     "text": [
      "WARNING:tensorflow:From /usr/lib/python3.6/site-packages/tensorflow/contrib/learn/python/learn/datasets/base.py:198: retry (from tensorflow.contrib.learn.python.learn.datasets.base) is deprecated and will be removed in a future version.\n",
      "Instructions for updating:\n",
      "Use the retry module or similar alternatives.\n"
     ]
    }
   ],
   "source": [
    "import tensorflow as tf\n",
    "import edward as ed\n",
    "from sklearn.datasets import make_moons\n",
    "from matplotlib import pyplot as plt\n",
    "import seaborn as sns\n",
    "import numpy as np\n",
    "import math"
   ]
  },
  {
   "cell_type": "code",
   "execution_count": 2,
   "metadata": {},
   "outputs": [],
   "source": [
    "class Gumbel:\n",
    "    def __init__(self, shape, logits, name='Gumbel'):\n",
    "        self.shape = shape\n",
    "        self.name = name\n",
    "        with tf.name_scope(self.name):\n",
    "            with tf.name_scope('normalized_logits'):\n",
    "                self.logits = logits - tf.log(tf.reduce_sum(tf.exp(logits), axis=-1))[...,tf.newaxis]\n",
    "    def sample(self, us=None, argmax=None):\n",
    "        with tf.name_scope(self.name):\n",
    "            if us is None:\n",
    "                us = tf.random_uniform(self.shape, minval=1e-3, maxval=1-1e-3)\n",
    "            self.uniform_sample = us\n",
    "            \n",
    "            if argmax is None:\n",
    "                gb = -tf.log(-tf.log(us)) + self.logits\n",
    "            else:\n",
    "                upper = -tf.log(-tf.log(us))\n",
    "                argmax_ix = tf.argmax(argmax, axis=-1)\n",
    "                upper_samples = tf.reduce_sum(us*argmax, axis=-1)\n",
    "                gb = -tf.log(-tf.log(us)/tf.exp(self.logits) - tf.log(upper_samples)[...,tf.newaxis])\n",
    "                gb = upper*argmax + gb*(1-argmax)\n",
    "#                 return upper*argmax\n",
    "            return gb"
   ]
  },
  {
   "cell_type": "code",
   "execution_count": 3,
   "metadata": {},
   "outputs": [
    {
     "name": "stdout",
     "output_type": "stream",
     "text": [
      "WARNING:tensorflow:From <ipython-input-3-5f45bee47b71>:1: load_dataset (from tensorflow.contrib.learn.python.learn.datasets) is deprecated and will be removed in a future version.\n",
      "Instructions for updating:\n",
      "Please use tf.data.\n",
      "WARNING:tensorflow:From /usr/lib/python3.6/site-packages/tensorflow/contrib/learn/python/learn/datasets/__init__.py:80: load_mnist (from tensorflow.contrib.learn.python.learn.datasets.mnist) is deprecated and will be removed in a future version.\n",
      "Instructions for updating:\n",
      "Please use alternatives such as official/mnist/dataset.py from tensorflow/models.\n",
      "WARNING:tensorflow:From /usr/lib/python3.6/site-packages/tensorflow/contrib/learn/python/learn/datasets/mnist.py:300: read_data_sets (from tensorflow.contrib.learn.python.learn.datasets.mnist) is deprecated and will be removed in a future version.\n",
      "Instructions for updating:\n",
      "Please use alternatives such as official/mnist/dataset.py from tensorflow/models.\n",
      "WARNING:tensorflow:From /usr/lib/python3.6/site-packages/tensorflow/contrib/learn/python/learn/datasets/mnist.py:260: maybe_download (from tensorflow.contrib.learn.python.learn.datasets.base) is deprecated and will be removed in a future version.\n",
      "Instructions for updating:\n",
      "Please write your own downloading logic.\n",
      "WARNING:tensorflow:From /usr/lib/python3.6/site-packages/tensorflow/contrib/learn/python/learn/datasets/mnist.py:262: extract_images (from tensorflow.contrib.learn.python.learn.datasets.mnist) is deprecated and will be removed in a future version.\n",
      "Instructions for updating:\n",
      "Please use tf.data to implement this functionality.\n",
      "Extracting MNIST-data/train-images-idx3-ubyte.gz\n",
      "WARNING:tensorflow:From /usr/lib/python3.6/site-packages/tensorflow/contrib/learn/python/learn/datasets/mnist.py:267: extract_labels (from tensorflow.contrib.learn.python.learn.datasets.mnist) is deprecated and will be removed in a future version.\n",
      "Instructions for updating:\n",
      "Please use tf.data to implement this functionality.\n",
      "Extracting MNIST-data/train-labels-idx1-ubyte.gz\n",
      "Extracting MNIST-data/t10k-images-idx3-ubyte.gz\n",
      "Extracting MNIST-data/t10k-labels-idx1-ubyte.gz\n",
      "WARNING:tensorflow:From /usr/lib/python3.6/site-packages/tensorflow/contrib/learn/python/learn/datasets/mnist.py:290: DataSet.__init__ (from tensorflow.contrib.learn.python.learn.datasets.mnist) is deprecated and will be removed in a future version.\n",
      "Instructions for updating:\n",
      "Please use alternatives such as official/mnist/dataset.py from tensorflow/models.\n"
     ]
    }
   ],
   "source": [
    "mnist = tf.contrib.learn.datasets.load_dataset(\"mnist\")"
   ]
  },
  {
   "cell_type": "code",
   "execution_count": null,
   "metadata": {},
   "outputs": [],
   "source": []
  },
  {
   "cell_type": "code",
   "execution_count": 4,
   "metadata": {},
   "outputs": [],
   "source": [
    "# X, y = make_moons(30000, noise=0.2)\n",
    "# X = X.astype('float32')\n",
    "# y = y.astype('float32')\n",
    "# dataset = tf.data.Dataset.from_tensor_slices((X, y))\n",
    "dataset = mnist.train\n",
    "dataset = tf.data.Dataset.from_tensor_slices((dataset.images, dataset.labels))"
   ]
  },
  {
   "cell_type": "code",
   "execution_count": null,
   "metadata": {},
   "outputs": [],
   "source": []
  },
  {
   "cell_type": "code",
   "execution_count": 5,
   "metadata": {},
   "outputs": [],
   "source": [
    "dataset = dataset.shuffle(1000).repeat().batch(100)"
   ]
  },
  {
   "cell_type": "code",
   "execution_count": 6,
   "metadata": {},
   "outputs": [],
   "source": [
    "diter = dataset.make_one_shot_iterator()"
   ]
  },
  {
   "cell_type": "code",
   "execution_count": 7,
   "metadata": {},
   "outputs": [],
   "source": [
    "def dense(x, dim, name, activation=tf.nn.tanh):\n",
    "    with tf.variable_scope(name, initializer=tf.random_normal_initializer(stddev=0.01)):\n",
    "        W = tf.get_variable('W', [x.shape[1], dim])\n",
    "        b = tf.get_variable('b', [1,dim])\n",
    "        logit = tf.matmul(x, W) + b\n",
    "        return activation(logit)\n",
    "    \n",
    "class VAE:\n",
    "    def __init__(self, dim, hdim, temp, name='VAE', config=[128,64,32]):\n",
    "        self.dim = dim\n",
    "        self.hdim = hdim\n",
    "        self.name = name\n",
    "        self.config = config\n",
    "        self.temp = temp\n",
    "        with tf.variable_scope(self.name) as scope:\n",
    "            self.scope = scope\n",
    "    \n",
    "    def priorkl(self, encoded, encoded_logits):\n",
    "        with tf.name_scope('priorkl'):\n",
    "            labels = tf.ones_like(encoded)/tf.cast(2, tf.float32)\n",
    "            xent = tf.reduce_sum(encoded*tf.log(labels), axis=[-1,-2], name='xent')\n",
    "#             nent = -tf.nn.softmax_cross_entropy_with_logits_v2(labels=encoded, logits=encoded_logits)\n",
    "#             nent = tf.reduce_sum(nent, axis=-1)\n",
    "            nent = tf.reduce_sum(encoded*tf.log(encoded), axis=[-1,-2], name='nent')\n",
    "            with tf.control_dependencies([tf.check_numerics(x, message='priorkl_numerics_{}'.format(x.name)) for x in [xent, nent]]):\n",
    "                loss = -xent + nent\n",
    "        return loss\n",
    "            \n",
    "    def encode(self, x, hard=False, uniform_sample=None, condition=None):\n",
    "        with tf.variable_scope('encoder', reuse=tf.AUTO_REUSE) as scope:\n",
    "            self.encoder_scope = scope\n",
    "            for i, out_dim in enumerate(self.config):\n",
    "                x = dense(x, out_dim, name='d{}'.format(i))\n",
    "                \n",
    "            with tf.variable_scope('latent_inf'):\n",
    "                logits = dense(x, self.hdim*2, name='logits', activation=lambda x: x)\n",
    "                logits = tf.reshape(logits, [tf.shape(x)[0], self.hdim, 2])\n",
    "                self.logits = logits\n",
    "                \n",
    "                self.center_loss = 1e-2*tf.reduce_mean(tf.square(tf.log(tf.reduce_sum(tf.exp(logits), axis=-1))))\n",
    "                \n",
    "                gd = Gumbel(tf.shape(logits), logits=logits)\n",
    "                encoded_gumb = gd.sample(us=uniform_sample, argmax=condition)\n",
    "                self.uniform_sample = gd.uniform_sample\n",
    "                \n",
    "                encoded = tf.nn.softmax(encoded_gumb/self.temp)\n",
    "                self.kl_loss = self.priorkl(tf.nn.softmax(self.logits), self.logits)\n",
    "                encoded_soft = encoded\n",
    "\n",
    "                encoded_hard = tf.distributions.Multinomial(1., logits=self.logits).sample()\n",
    "                \n",
    "                return encoded_soft, encoded_hard\n",
    "    \n",
    "    def decode(self, x):\n",
    "        with tf.variable_scope('decoder', reuse=tf.AUTO_REUSE) as scope:\n",
    "            self.decoder_scope = scope\n",
    "            x = tf.reshape(x, [tf.shape(x)[0], self.hdim*2])\n",
    "            for i, out_dim in enumerate(self.config[::-1]):\n",
    "                x = dense(x, out_dim, name='d{}'.format(i))\n",
    "            x = dense(x, self.dim, name='restoration', activation=lambda x: x)\n",
    "            return x"
   ]
  },
  {
   "cell_type": "code",
   "execution_count": 8,
   "metadata": {},
   "outputs": [],
   "source": [
    "data, y = diter.get_next()#tf.Variable(X, trainable=False)"
   ]
  },
  {
   "cell_type": "code",
   "execution_count": 9,
   "metadata": {},
   "outputs": [],
   "source": [
    "vae_hdim = 10\n",
    "\n",
    "with tf.variable_scope('ConVar') as con_var_scope:\n",
    "    pretemperature = tf.get_variable('pretemperature', shape=[1,vae_hdim,2],\n",
    "                                     initializer=tf.constant_initializer(math.log(.3)), trainable=False)\n",
    "    preeta = tf.get_variable('peeta', shape=(),\n",
    "                             initializer=tf.constant_initializer(0.), trainable=False)\n",
    "    with tf.variable_scope('nvil_baseline') as nvil_scope:\n",
    "        d1 = dense(data, 128, 'd1')\n",
    "        nvil_baseline = dense(data, 1, 'out')[:,0]\n",
    "    \n",
    "    temperature = tf.exp(pretemperature)\n",
    "    tf.summary.histogram('temperature', temperature)\n",
    "    eta = tf.exp(preeta)\n",
    "\n",
    "    #784\n",
    "vae = VAE(784, vae_hdim, temp=temperature, config=[128,128])"
   ]
  },
  {
   "cell_type": "code",
   "execution_count": 10,
   "metadata": {},
   "outputs": [
    {
     "data": {
      "text/plain": [
       "<tf.Tensor 'IteratorGetNext:0' shape=(?, 784) dtype=float32>"
      ]
     },
     "execution_count": 10,
     "metadata": {},
     "output_type": "execute_result"
    }
   ],
   "source": [
    "data"
   ]
  },
  {
   "cell_type": "code",
   "execution_count": 11,
   "metadata": {
    "scrolled": false
   },
   "outputs": [],
   "source": [
    "_, encoded_hard = vae.encode(data)\n",
    "encoded_soft, _ = vae.encode(data)\n",
    "encoded_soft_conditioned, _ = vae.encode(data, condition=encoded_hard)"
   ]
  },
  {
   "cell_type": "code",
   "execution_count": 12,
   "metadata": {},
   "outputs": [],
   "source": [
    "def build_fc(inp):\n",
    "    d1 = dense(inp, 128, 'd1')\n",
    "    out = dense(d1, 1, 'out', activation=lambda x: x)\n",
    "    return out[:,0]"
   ]
  },
  {
   "cell_type": "code",
   "execution_count": 13,
   "metadata": {},
   "outputs": [],
   "source": [
    "with tf.variable_scope(con_var_scope):\n",
    "    with tf.variable_scope('relax') as relax_scope:\n",
    "        flat_uncond = tf.reshape(encoded_soft, [-1, vae_hdim*2])\n",
    "        flat_cond = tf.reshape(encoded_soft_conditioned, [-1, vae_hdim*2])\n",
    "        \n",
    "        relax_uncond = build_fc(flat_uncond)\n",
    "        relax_scope.reuse_variables()\n",
    "        relax_cond = build_fc(flat_cond)"
   ]
  },
  {
   "cell_type": "code",
   "execution_count": 14,
   "metadata": {},
   "outputs": [
    {
     "data": {
      "text/plain": [
       "<tf.Tensor 'encoder_2/latent_inf/Reshape:0' shape=(?, 10, 2) dtype=float32>"
      ]
     },
     "execution_count": 14,
     "metadata": {},
     "output_type": "execute_result"
    }
   ],
   "source": [
    "vae.logits"
   ]
  },
  {
   "cell_type": "code",
   "execution_count": 15,
   "metadata": {},
   "outputs": [],
   "source": [
    "sample_logp = tf.distributions.Multinomial(1., logits=vae.logits).log_prob(encoded_hard)\n",
    "sample_logp = tf.reduce_sum(sample_logp, axis=-1)"
   ]
  },
  {
   "cell_type": "code",
   "execution_count": 16,
   "metadata": {},
   "outputs": [],
   "source": [
    "decoded_soft = vae.decode(encoded_soft)\n",
    "decoded_hard = vae.decode(encoded_hard)\n",
    "decoded_soft_conditioned = vae.decode(encoded_soft_conditioned)"
   ]
  },
  {
   "cell_type": "code",
   "execution_count": 17,
   "metadata": {},
   "outputs": [],
   "source": [
    "def rec_loss(x, dec):\n",
    "    sigma = tf.constant(0.6)\n",
    "    loss = tf.reduce_sum(tf.square(x - dec), axis=-1)/(2*tf.square(sigma)) - tf.log(2*3.14*sigma)\n",
    "    return loss\n",
    "def get_elbo(decoded):\n",
    "    loss = rec_loss(data, decoded) + vae.kl_loss\n",
    "    return -loss"
   ]
  },
  {
   "cell_type": "code",
   "execution_count": null,
   "metadata": {},
   "outputs": [],
   "source": []
  },
  {
   "cell_type": "code",
   "execution_count": 18,
   "metadata": {},
   "outputs": [],
   "source": [
    "soft_elbo = get_elbo(decoded_soft)\n",
    "hard_elbo = get_elbo(decoded_hard)\n",
    "soft_elbo_conditioned = get_elbo(decoded_soft_conditioned)"
   ]
  },
  {
   "cell_type": "code",
   "execution_count": 19,
   "metadata": {},
   "outputs": [
    {
     "data": {
      "text/plain": [
       "<tf.Tensor 'Neg:0' shape=(?,) dtype=float32>"
      ]
     },
     "execution_count": 19,
     "metadata": {},
     "output_type": "execute_result"
    }
   ],
   "source": [
    "soft_elbo"
   ]
  },
  {
   "cell_type": "code",
   "execution_count": 20,
   "metadata": {},
   "outputs": [
    {
     "data": {
      "text/plain": [
       "<tf.Tensor 'hard_elbo:0' shape=() dtype=string>"
      ]
     },
     "execution_count": 20,
     "metadata": {},
     "output_type": "execute_result"
    }
   ],
   "source": [
    "tf.summary.scalar('soft_elbo', tf.reduce_mean(soft_elbo))\n",
    "tf.summary.scalar('hard_elbo', tf.reduce_mean(hard_elbo))"
   ]
  },
  {
   "cell_type": "code",
   "execution_count": 21,
   "metadata": {},
   "outputs": [
    {
     "data": {
      "text/plain": [
       "<tf.Tensor 'mean_temperature:0' shape=() dtype=string>"
      ]
     },
     "execution_count": 21,
     "metadata": {},
     "output_type": "execute_result"
    }
   ],
   "source": [
    "tf.summary.scalar('eta', eta)\n",
    "tf.summary.scalar('mean_temperature', tf.reduce_mean(temperature))"
   ]
  },
  {
   "cell_type": "code",
   "execution_count": 22,
   "metadata": {},
   "outputs": [],
   "source": [
    "graph = tf.get_default_graph()\n",
    "encoder_vars = graph.get_collection(tf.GraphKeys.TRAINABLE_VARIABLES, scope=vae.encoder_scope.name)"
   ]
  },
  {
   "cell_type": "code",
   "execution_count": 23,
   "metadata": {},
   "outputs": [],
   "source": [
    "# stoped_grad_input = hard_elbo - eta*soft_elbo_conditioned\n",
    "soft_control_cond = eta*soft_elbo_conditioned + relax_cond\n",
    "soft_control_uncond = eta*soft_elbo + relax_uncond - eta*soft_elbo_conditioned - relax_cond\n",
    "\n",
    "stoped_grad = hard_elbo - soft_control_cond - nvil_baseline\n",
    "# stoped_grad = tf.stop_gradient(hard_elbo - eta*soft_elbo_conditioned)\n",
    "\n",
    "target = -sample_logp*stoped_grad - soft_control_uncond + vae.center_loss\n",
    "# mean_elbo = tf.Variable(-40.)\n",
    "# tf.summary.scalar('mean_elbo', mean_elbo)\n",
    "# target = -sample_logp*tf.stop_gradient(hard_elbo - mean_elbo)\n",
    "# with tf.control_dependencies([target]):\n",
    "#     mean_elbo_op = mean_elbo.assign(mean_elbo*0.98 + tf.reduce_mean(hard_elbo)*0.02)\n",
    "target = tf.reduce_mean(target)"
   ]
  },
  {
   "cell_type": "code",
   "execution_count": 24,
   "metadata": {},
   "outputs": [
    {
     "data": {
      "text/plain": [
       "<tf.Tensor 'ConVar/nvil_baseline/strided_slice:0' shape=(?,) dtype=float32>"
      ]
     },
     "execution_count": 24,
     "metadata": {},
     "output_type": "execute_result"
    }
   ],
   "source": [
    "nvil_baseline"
   ]
  },
  {
   "cell_type": "code",
   "execution_count": 25,
   "metadata": {},
   "outputs": [
    {
     "data": {
      "text/plain": [
       "(<tf.Tensor 'Sum:0' shape=(?,) dtype=float32>,\n",
       " <tf.Tensor 'Neg_1:0' shape=(?,) dtype=float32>,\n",
       " <tf.Tensor 'Neg:0' shape=(?,) dtype=float32>)"
      ]
     },
     "execution_count": 25,
     "metadata": {},
     "output_type": "execute_result"
    }
   ],
   "source": [
    "sample_logp, hard_elbo, soft_elbo"
   ]
  },
  {
   "cell_type": "code",
   "execution_count": 26,
   "metadata": {},
   "outputs": [],
   "source": [
    "# logp_grad = tf.gradients(sample_logp, encoder_vars)\n",
    "# soft_elbo_grad = tf.gradients(soft_elbo, encoder_vars)\n",
    "\n",
    "# grads_encoder = [-lpg*(hard_elbo-eta*soft_elbo)-eta*seg for lpg, seg in zip(logp_grad, soft_elbo_grad)]\n",
    "\n",
    "grads_encoder = tf.gradients(target, encoder_vars, stop_gradients=stoped_grad)\n",
    "# grads_encoder = tf.gradients(-soft_elbo, encoder_vars)"
   ]
  },
  {
   "cell_type": "code",
   "execution_count": 27,
   "metadata": {},
   "outputs": [],
   "source": [
    "with tf.name_scope('controls'):\n",
    "    tmp = [tf.reduce_sum(tf.square(x)) for x in grads_encoder]\n",
    "    with tf.name_scope('denum'):\n",
    "        denum = tf.reduce_sum([tf.reduce_sum(tf.shape(x)) for x in grads_encoder])\n",
    "        denum = tf.cast(denum, tf.float32)\n",
    "    controls_loss = tf.reduce_sum(tmp)/denum\n",
    "    tf.summary.scalar('controls_loss', controls_loss)"
   ]
  },
  {
   "cell_type": "code",
   "execution_count": 28,
   "metadata": {},
   "outputs": [],
   "source": [
    "decoder_vars = graph.get_collection(tf.GraphKeys.TRAINABLE_VARIABLES, scope=vae.decoder_scope.name)"
   ]
  },
  {
   "cell_type": "code",
   "execution_count": 29,
   "metadata": {},
   "outputs": [],
   "source": [
    "grads_decoder = tf.gradients(-hard_elbo, decoder_vars)"
   ]
  },
  {
   "cell_type": "code",
   "execution_count": 30,
   "metadata": {},
   "outputs": [],
   "source": [
    "# pretemperature, preeta, controls_loss"
   ]
  },
  {
   "cell_type": "code",
   "execution_count": 31,
   "metadata": {},
   "outputs": [],
   "source": [
    "with tf.name_scope('var_reductions'):\n",
    "    nvil_vars = graph.get_collection(tf.GraphKeys.TRAINABLE_VARIABLES, scope=nvil_scope.name)\n",
    "    relax_vars = graph.get_collection(tf.GraphKeys.TRAINABLE_VARIABLES, scope=relax_scope.name)\n",
    "\n",
    "    loss = controls_loss\n",
    "    reds = [preeta, pretemperature] + nvil_vars + relax_vars\n",
    "    grads_reds = tf.gradients(loss, reds)\n",
    "gvs_reds = [(g,v) for g,v in zip(grads_reds, reds)]"
   ]
  },
  {
   "cell_type": "code",
   "execution_count": 32,
   "metadata": {},
   "outputs": [],
   "source": [
    "variables = encoder_vars + decoder_vars\n",
    "grads = grads_encoder + grads_decoder\n",
    "gvs = [(g,v) for g,v in zip(grads, variables)]"
   ]
  },
  {
   "cell_type": "code",
   "execution_count": 33,
   "metadata": {},
   "outputs": [],
   "source": [
    "with tf.control_dependencies([tf.check_numerics(g, message='Numerics trouble') for g,x in gvs]):\n",
    "    main_op = tf.train.AdamOptimizer(0.001).apply_gradients(gvs)\n",
    "red_op = tf.train.AdamOptimizer(0.002).apply_gradients(gvs_reds)"
   ]
  },
  {
   "cell_type": "code",
   "execution_count": 34,
   "metadata": {},
   "outputs": [],
   "source": [
    "train_op = [main_op, red_op]"
   ]
  },
  {
   "cell_type": "code",
   "execution_count": 35,
   "metadata": {},
   "outputs": [],
   "source": [
    "# !rm -R /tmp/tfdbg"
   ]
  },
  {
   "cell_type": "code",
   "execution_count": 36,
   "metadata": {},
   "outputs": [],
   "source": [
    "sess = tf.InteractiveSession()\n",
    "writer = tf.summary.FileWriter('/tmp/tfdbg/relax_mnist100_red0.002_1e-2_center_moarparams', tf.get_default_graph())\n",
    "init = tf.global_variables_initializer()"
   ]
  },
  {
   "cell_type": "code",
   "execution_count": 37,
   "metadata": {},
   "outputs": [],
   "source": [
    "init.run()"
   ]
  },
  {
   "cell_type": "code",
   "execution_count": 38,
   "metadata": {},
   "outputs": [
    {
     "data": {
      "text/plain": [
       "array([[[-5.9056909e-10,  1.4692283e-09],\n",
       "        [ 1.7563994e-09, -6.7957567e-10],\n",
       "        [ 2.1706499e-09, -1.0659303e-09],\n",
       "        [ 1.2371822e-09, -2.1487923e-09],\n",
       "        [ 4.2185575e-09, -3.8833479e-09],\n",
       "        [ 4.1620627e-09, -4.6238919e-09],\n",
       "        [ 5.6817484e-10, -1.0693981e-09],\n",
       "        [-1.5251654e-09,  1.7674333e-09],\n",
       "        [-3.8427608e-09,  6.2509593e-09],\n",
       "        [-2.2670090e-09,  1.0581721e-09]]], dtype=float32)"
      ]
     },
     "execution_count": 38,
     "metadata": {},
     "output_type": "execute_result"
    }
   ],
   "source": [
    "gvs_reds[1][0].eval()"
   ]
  },
  {
   "cell_type": "code",
   "execution_count": 39,
   "metadata": {},
   "outputs": [],
   "source": [
    "all_summaries = tf.summary.merge_all()"
   ]
  },
  {
   "cell_type": "code",
   "execution_count": 40,
   "metadata": {},
   "outputs": [],
   "source": [
    "step = 0"
   ]
  },
  {
   "cell_type": "code",
   "execution_count": 41,
   "metadata": {
    "scrolled": true
   },
   "outputs": [
    {
     "ename": "KeyboardInterrupt",
     "evalue": "",
     "output_type": "error",
     "traceback": [
      "\u001b[0;31m---------------------------------------------------------------------------\u001b[0m",
      "\u001b[0;31mKeyboardInterrupt\u001b[0m                         Traceback (most recent call last)",
      "\u001b[0;32m<ipython-input-41-14dcbb741873>\u001b[0m in \u001b[0;36m<module>\u001b[0;34m()\u001b[0m\n\u001b[1;32m      1\u001b[0m \u001b[0;32mfor\u001b[0m \u001b[0mstep\u001b[0m \u001b[0;32min\u001b[0m \u001b[0mrange\u001b[0m\u001b[0;34m(\u001b[0m\u001b[0mstep\u001b[0m\u001b[0;34m,\u001b[0m \u001b[0;36m600000\u001b[0m\u001b[0;34m)\u001b[0m\u001b[0;34m:\u001b[0m\u001b[0;34m\u001b[0m\u001b[0m\n\u001b[0;32m----> 2\u001b[0;31m     \u001b[0m_\u001b[0m\u001b[0;34m,\u001b[0m \u001b[0msm\u001b[0m \u001b[0;34m=\u001b[0m \u001b[0msess\u001b[0m\u001b[0;34m.\u001b[0m\u001b[0mrun\u001b[0m\u001b[0;34m(\u001b[0m\u001b[0;34m[\u001b[0m\u001b[0mtrain_op\u001b[0m\u001b[0;34m,\u001b[0m \u001b[0mall_summaries\u001b[0m\u001b[0;34m]\u001b[0m\u001b[0;34m)\u001b[0m\u001b[0;34m\u001b[0m\u001b[0m\n\u001b[0m\u001b[1;32m      3\u001b[0m     \u001b[0mwriter\u001b[0m\u001b[0;34m.\u001b[0m\u001b[0madd_summary\u001b[0m\u001b[0;34m(\u001b[0m\u001b[0msm\u001b[0m\u001b[0;34m,\u001b[0m \u001b[0mglobal_step\u001b[0m\u001b[0;34m=\u001b[0m\u001b[0mstep\u001b[0m\u001b[0;34m)\u001b[0m\u001b[0;34m\u001b[0m\u001b[0m\n",
      "\u001b[0;32m/usr/lib/python3.6/site-packages/tensorflow/python/client/session.py\u001b[0m in \u001b[0;36mrun\u001b[0;34m(self, fetches, feed_dict, options, run_metadata)\u001b[0m\n\u001b[1;32m    903\u001b[0m     \u001b[0;32mtry\u001b[0m\u001b[0;34m:\u001b[0m\u001b[0;34m\u001b[0m\u001b[0m\n\u001b[1;32m    904\u001b[0m       result = self._run(None, fetches, feed_dict, options_ptr,\n\u001b[0;32m--> 905\u001b[0;31m                          run_metadata_ptr)\n\u001b[0m\u001b[1;32m    906\u001b[0m       \u001b[0;32mif\u001b[0m \u001b[0mrun_metadata\u001b[0m\u001b[0;34m:\u001b[0m\u001b[0;34m\u001b[0m\u001b[0m\n\u001b[1;32m    907\u001b[0m         \u001b[0mproto_data\u001b[0m \u001b[0;34m=\u001b[0m \u001b[0mtf_session\u001b[0m\u001b[0;34m.\u001b[0m\u001b[0mTF_GetBuffer\u001b[0m\u001b[0;34m(\u001b[0m\u001b[0mrun_metadata_ptr\u001b[0m\u001b[0;34m)\u001b[0m\u001b[0;34m\u001b[0m\u001b[0m\n",
      "\u001b[0;32m/usr/lib/python3.6/site-packages/tensorflow/python/client/session.py\u001b[0m in \u001b[0;36m_run\u001b[0;34m(self, handle, fetches, feed_dict, options, run_metadata)\u001b[0m\n\u001b[1;32m   1138\u001b[0m     \u001b[0;32mif\u001b[0m \u001b[0mfinal_fetches\u001b[0m \u001b[0;32mor\u001b[0m \u001b[0mfinal_targets\u001b[0m \u001b[0;32mor\u001b[0m \u001b[0;34m(\u001b[0m\u001b[0mhandle\u001b[0m \u001b[0;32mand\u001b[0m \u001b[0mfeed_dict_tensor\u001b[0m\u001b[0;34m)\u001b[0m\u001b[0;34m:\u001b[0m\u001b[0;34m\u001b[0m\u001b[0m\n\u001b[1;32m   1139\u001b[0m       results = self._do_run(handle, final_targets, final_fetches,\n\u001b[0;32m-> 1140\u001b[0;31m                              feed_dict_tensor, options, run_metadata)\n\u001b[0m\u001b[1;32m   1141\u001b[0m     \u001b[0;32melse\u001b[0m\u001b[0;34m:\u001b[0m\u001b[0;34m\u001b[0m\u001b[0m\n\u001b[1;32m   1142\u001b[0m       \u001b[0mresults\u001b[0m \u001b[0;34m=\u001b[0m \u001b[0;34m[\u001b[0m\u001b[0;34m]\u001b[0m\u001b[0;34m\u001b[0m\u001b[0m\n",
      "\u001b[0;32m/usr/lib/python3.6/site-packages/tensorflow/python/client/session.py\u001b[0m in \u001b[0;36m_do_run\u001b[0;34m(self, handle, target_list, fetch_list, feed_dict, options, run_metadata)\u001b[0m\n\u001b[1;32m   1319\u001b[0m     \u001b[0;32mif\u001b[0m \u001b[0mhandle\u001b[0m \u001b[0;32mis\u001b[0m \u001b[0;32mNone\u001b[0m\u001b[0;34m:\u001b[0m\u001b[0;34m\u001b[0m\u001b[0m\n\u001b[1;32m   1320\u001b[0m       return self._do_call(_run_fn, feeds, fetches, targets, options,\n\u001b[0;32m-> 1321\u001b[0;31m                            run_metadata)\n\u001b[0m\u001b[1;32m   1322\u001b[0m     \u001b[0;32melse\u001b[0m\u001b[0;34m:\u001b[0m\u001b[0;34m\u001b[0m\u001b[0m\n\u001b[1;32m   1323\u001b[0m       \u001b[0;32mreturn\u001b[0m \u001b[0mself\u001b[0m\u001b[0;34m.\u001b[0m\u001b[0m_do_call\u001b[0m\u001b[0;34m(\u001b[0m\u001b[0m_prun_fn\u001b[0m\u001b[0;34m,\u001b[0m \u001b[0mhandle\u001b[0m\u001b[0;34m,\u001b[0m \u001b[0mfeeds\u001b[0m\u001b[0;34m,\u001b[0m \u001b[0mfetches\u001b[0m\u001b[0;34m)\u001b[0m\u001b[0;34m\u001b[0m\u001b[0m\n",
      "\u001b[0;32m/usr/lib/python3.6/site-packages/tensorflow/python/client/session.py\u001b[0m in \u001b[0;36m_do_call\u001b[0;34m(self, fn, *args)\u001b[0m\n\u001b[1;32m   1325\u001b[0m   \u001b[0;32mdef\u001b[0m \u001b[0m_do_call\u001b[0m\u001b[0;34m(\u001b[0m\u001b[0mself\u001b[0m\u001b[0;34m,\u001b[0m \u001b[0mfn\u001b[0m\u001b[0;34m,\u001b[0m \u001b[0;34m*\u001b[0m\u001b[0margs\u001b[0m\u001b[0;34m)\u001b[0m\u001b[0;34m:\u001b[0m\u001b[0;34m\u001b[0m\u001b[0m\n\u001b[1;32m   1326\u001b[0m     \u001b[0;32mtry\u001b[0m\u001b[0;34m:\u001b[0m\u001b[0;34m\u001b[0m\u001b[0m\n\u001b[0;32m-> 1327\u001b[0;31m       \u001b[0;32mreturn\u001b[0m \u001b[0mfn\u001b[0m\u001b[0;34m(\u001b[0m\u001b[0;34m*\u001b[0m\u001b[0margs\u001b[0m\u001b[0;34m)\u001b[0m\u001b[0;34m\u001b[0m\u001b[0m\n\u001b[0m\u001b[1;32m   1328\u001b[0m     \u001b[0;32mexcept\u001b[0m \u001b[0merrors\u001b[0m\u001b[0;34m.\u001b[0m\u001b[0mOpError\u001b[0m \u001b[0;32mas\u001b[0m \u001b[0me\u001b[0m\u001b[0;34m:\u001b[0m\u001b[0;34m\u001b[0m\u001b[0m\n\u001b[1;32m   1329\u001b[0m       \u001b[0mmessage\u001b[0m \u001b[0;34m=\u001b[0m \u001b[0mcompat\u001b[0m\u001b[0;34m.\u001b[0m\u001b[0mas_text\u001b[0m\u001b[0;34m(\u001b[0m\u001b[0me\u001b[0m\u001b[0;34m.\u001b[0m\u001b[0mmessage\u001b[0m\u001b[0;34m)\u001b[0m\u001b[0;34m\u001b[0m\u001b[0m\n",
      "\u001b[0;32m/usr/lib/python3.6/site-packages/tensorflow/python/client/session.py\u001b[0m in \u001b[0;36m_run_fn\u001b[0;34m(feed_dict, fetch_list, target_list, options, run_metadata)\u001b[0m\n\u001b[1;32m   1310\u001b[0m       \u001b[0mself\u001b[0m\u001b[0;34m.\u001b[0m\u001b[0m_extend_graph\u001b[0m\u001b[0;34m(\u001b[0m\u001b[0;34m)\u001b[0m\u001b[0;34m\u001b[0m\u001b[0m\n\u001b[1;32m   1311\u001b[0m       return self._call_tf_sessionrun(\n\u001b[0;32m-> 1312\u001b[0;31m           options, feed_dict, fetch_list, target_list, run_metadata)\n\u001b[0m\u001b[1;32m   1313\u001b[0m \u001b[0;34m\u001b[0m\u001b[0m\n\u001b[1;32m   1314\u001b[0m     \u001b[0;32mdef\u001b[0m \u001b[0m_prun_fn\u001b[0m\u001b[0;34m(\u001b[0m\u001b[0mhandle\u001b[0m\u001b[0;34m,\u001b[0m \u001b[0mfeed_dict\u001b[0m\u001b[0;34m,\u001b[0m \u001b[0mfetch_list\u001b[0m\u001b[0;34m)\u001b[0m\u001b[0;34m:\u001b[0m\u001b[0;34m\u001b[0m\u001b[0m\n",
      "\u001b[0;32m/usr/lib/python3.6/site-packages/tensorflow/python/client/session.py\u001b[0m in \u001b[0;36m_call_tf_sessionrun\u001b[0;34m(self, options, feed_dict, fetch_list, target_list, run_metadata)\u001b[0m\n\u001b[1;32m   1418\u001b[0m         return tf_session.TF_Run(\n\u001b[1;32m   1419\u001b[0m             \u001b[0mself\u001b[0m\u001b[0;34m.\u001b[0m\u001b[0m_session\u001b[0m\u001b[0;34m,\u001b[0m \u001b[0moptions\u001b[0m\u001b[0;34m,\u001b[0m \u001b[0mfeed_dict\u001b[0m\u001b[0;34m,\u001b[0m \u001b[0mfetch_list\u001b[0m\u001b[0;34m,\u001b[0m \u001b[0mtarget_list\u001b[0m\u001b[0;34m,\u001b[0m\u001b[0;34m\u001b[0m\u001b[0m\n\u001b[0;32m-> 1420\u001b[0;31m             status, run_metadata)\n\u001b[0m\u001b[1;32m   1421\u001b[0m \u001b[0;34m\u001b[0m\u001b[0m\n\u001b[1;32m   1422\u001b[0m   \u001b[0;32mdef\u001b[0m \u001b[0m_call_tf_sessionprun\u001b[0m\u001b[0;34m(\u001b[0m\u001b[0mself\u001b[0m\u001b[0;34m,\u001b[0m \u001b[0mhandle\u001b[0m\u001b[0;34m,\u001b[0m \u001b[0mfeed_dict\u001b[0m\u001b[0;34m,\u001b[0m \u001b[0mfetch_list\u001b[0m\u001b[0;34m)\u001b[0m\u001b[0;34m:\u001b[0m\u001b[0;34m\u001b[0m\u001b[0m\n",
      "\u001b[0;31mKeyboardInterrupt\u001b[0m: "
     ]
    }
   ],
   "source": [
    "for step in range(step, 600000):\n",
    "    _, sm = sess.run([train_op, all_summaries])\n",
    "    writer.add_summary(sm, global_step=step)"
   ]
  },
  {
   "cell_type": "code",
   "execution_count": 42,
   "metadata": {},
   "outputs": [],
   "source": [
    "prior = tf.distributions.Multinomial(1., logits=tf.zeros([10, vae.hdim, 2])).sample()\n",
    "generated = vae.decode(prior)"
   ]
  },
  {
   "cell_type": "code",
   "execution_count": null,
   "metadata": {},
   "outputs": [],
   "source": [
    "tt = np.reshape(generated.eval(), [-1,28,28])"
   ]
  },
  {
   "cell_type": "code",
   "execution_count": null,
   "metadata": {},
   "outputs": [],
   "source": [
    "tt.shape"
   ]
  },
  {
   "cell_type": "code",
   "execution_count": null,
   "metadata": {},
   "outputs": [],
   "source": [
    "for i in range(10):\n",
    "    plt.imshow(tt[i])\n",
    "    plt.show()"
   ]
  },
  {
   "cell_type": "code",
   "execution_count": null,
   "metadata": {},
   "outputs": [],
   "source": [
    "pretemperature.assign(math.log(.4)).eval()"
   ]
  },
  {
   "cell_type": "code",
   "execution_count": null,
   "metadata": {},
   "outputs": [],
   "source": []
  }
 ],
 "metadata": {
  "kernelspec": {
   "display_name": "Python 3.6 (sys p)",
   "language": "python",
   "name": "py3.6"
  },
  "language_info": {
   "codemirror_mode": {
    "name": "ipython",
    "version": 3
   },
   "file_extension": ".py",
   "mimetype": "text/x-python",
   "name": "python",
   "nbconvert_exporter": "python",
   "pygments_lexer": "ipython3",
   "version": "3.6.4"
  }
 },
 "nbformat": 4,
 "nbformat_minor": 2
}
