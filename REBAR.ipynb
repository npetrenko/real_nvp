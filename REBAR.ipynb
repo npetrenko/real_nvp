{
 "cells": [
  {
   "cell_type": "code",
   "execution_count": 1,
   "metadata": {},
   "outputs": [
    {
     "name": "stdout",
     "output_type": "stream",
     "text": [
      "WARNING:tensorflow:From /usr/lib/python3.6/site-packages/tensorflow/contrib/learn/python/learn/datasets/base.py:198: retry (from tensorflow.contrib.learn.python.learn.datasets.base) is deprecated and will be removed in a future version.\n",
      "Instructions for updating:\n",
      "Use the retry module or similar alternatives.\n"
     ]
    }
   ],
   "source": [
    "import tensorflow as tf\n",
    "import edward as ed\n",
    "from sklearn.datasets import make_moons\n",
    "from matplotlib import pyplot as plt\n",
    "import seaborn as sns\n",
    "import numpy as np\n",
    "import math"
   ]
  },
  {
   "cell_type": "code",
   "execution_count": 2,
   "metadata": {},
   "outputs": [],
   "source": [
    "class Gumbel:\n",
    "    def __init__(self, shape, logits, name='Gumbel'):\n",
    "        self.shape = shape\n",
    "        self.name = name\n",
    "        self.logits = logits - tf.log(tf.reduce_sum(tf.exp(logits), axis=-1))[...,tf.newaxis]\n",
    "    def sample(self, us=None, argmax=None):\n",
    "        with tf.name_scope(self.name):\n",
    "            if us is None:\n",
    "                us = tf.random_uniform(self.shape, minval=1e-3, maxval=1-1e-3)\n",
    "            self.uniform_sample = us\n",
    "            \n",
    "            if argmax is None:\n",
    "                gb = -tf.log(-tf.log(us)) + self.logits\n",
    "            else:\n",
    "                upper = -tf.log(-tf.log(us))\n",
    "                argmax_ix = tf.argmax(argmax, axis=-1)\n",
    "                upper_samples = tf.reduce_sum(us*argmax, axis=-1)\n",
    "                gb = -tf.log(-tf.log(us)/tf.exp(self.logits) - tf.log(upper_samples)[...,tf.newaxis])\n",
    "                gb = upper*argmax + gb*(1-argmax)\n",
    "#                 return upper*argmax\n",
    "            return gb"
   ]
  },
  {
   "cell_type": "code",
   "execution_count": 3,
   "metadata": {},
   "outputs": [],
   "source": [
    "# gmb = Gumbel([10000,3], logits=np.array([[1,2,3]], dtype='float32'))"
   ]
  },
  {
   "cell_type": "code",
   "execution_count": 4,
   "metadata": {},
   "outputs": [],
   "source": [
    "# ord_sample = gmb.sample()\n",
    "# bnr = np.array([[0,1,0]]*10000, dtype='float32')\n",
    "# cond_sample = gmb.sample(argmax=bnr)"
   ]
  },
  {
   "cell_type": "code",
   "execution_count": 5,
   "metadata": {},
   "outputs": [],
   "source": [
    "# ord_sample = ord_sample.eval()\n",
    "# cond_sample = cond_sample.eval()"
   ]
  },
  {
   "cell_type": "code",
   "execution_count": 6,
   "metadata": {},
   "outputs": [],
   "source": [
    "# cond_sample_real = ord_sample[np.argmax(ord_sample, axis=-1) == 1]"
   ]
  },
  {
   "cell_type": "code",
   "execution_count": 7,
   "metadata": {},
   "outputs": [],
   "source": [
    "# sns.kdeplot(cond_sample_real[:,0])\n",
    "# plt.plot()"
   ]
  },
  {
   "cell_type": "code",
   "execution_count": 8,
   "metadata": {},
   "outputs": [],
   "source": [
    "# sns.kdeplot(cond_sample[:,0])\n",
    "# plt.plot()"
   ]
  },
  {
   "cell_type": "code",
   "execution_count": 9,
   "metadata": {},
   "outputs": [],
   "source": [
    "# sess = tf.InteractiveSession()"
   ]
  },
  {
   "cell_type": "code",
   "execution_count": 10,
   "metadata": {},
   "outputs": [],
   "source": [
    "# x = tf.Variable(1.)\n",
    "# t = tf.Variable(1.)\n",
    "\n",
    "# stoped_g_i = x - t\n",
    "# stoped_g = tf.stop_gradient(stoped_g_i)\n",
    "# loss = tf.square(tf.square(x - stoped_g_i))"
   ]
  },
  {
   "cell_type": "code",
   "execution_count": 11,
   "metadata": {},
   "outputs": [],
   "source": [
    "# x_g = tf.gradients(loss, [x], stop_gradients=stoped_g_i)[0]"
   ]
  },
  {
   "cell_type": "code",
   "execution_count": 12,
   "metadata": {},
   "outputs": [],
   "source": [
    "# t_g = tf.gradients(x_g, t, [t])"
   ]
  },
  {
   "cell_type": "code",
   "execution_count": 13,
   "metadata": {},
   "outputs": [],
   "source": [
    "# tf.global_variables_initializer().run()"
   ]
  },
  {
   "cell_type": "code",
   "execution_count": 14,
   "metadata": {},
   "outputs": [],
   "source": [
    "# t_g"
   ]
  },
  {
   "cell_type": "code",
   "execution_count": 15,
   "metadata": {},
   "outputs": [],
   "source": [
    "# t_g[0].eval()"
   ]
  },
  {
   "cell_type": "code",
   "execution_count": 16,
   "metadata": {},
   "outputs": [],
   "source": [
    "# x_g.eval()"
   ]
  },
  {
   "cell_type": "code",
   "execution_count": 17,
   "metadata": {},
   "outputs": [],
   "source": [
    "# 4*(x-x+t)"
   ]
  },
  {
   "cell_type": "code",
   "execution_count": 18,
   "metadata": {},
   "outputs": [],
   "source": [
    "X, y = make_moons(30000, noise=0.2)\n",
    "X = X.astype('float32')\n",
    "y = y.astype('float32')"
   ]
  },
  {
   "cell_type": "code",
   "execution_count": 19,
   "metadata": {},
   "outputs": [],
   "source": [
    "dataset = tf.data.Dataset.from_tensor_slices((X, y))"
   ]
  },
  {
   "cell_type": "code",
   "execution_count": 20,
   "metadata": {},
   "outputs": [],
   "source": [
    "dataset = dataset.shuffle(1000).repeat().batch(100)"
   ]
  },
  {
   "cell_type": "code",
   "execution_count": 21,
   "metadata": {},
   "outputs": [],
   "source": [
    "diter = dataset.make_one_shot_iterator()"
   ]
  },
  {
   "cell_type": "code",
   "execution_count": 22,
   "metadata": {},
   "outputs": [],
   "source": [
    "def dense(x, dim, name, activation=tf.nn.tanh):\n",
    "    with tf.variable_scope(name, initializer=tf.random_normal_initializer(stddev=0.01)):\n",
    "        W = tf.get_variable('W', [x.shape[1], dim])\n",
    "        b = tf.get_variable('b', [1,dim])\n",
    "        logit = tf.matmul(x, W) + b\n",
    "        return activation(logit)\n",
    "    \n",
    "class VAE:\n",
    "    def __init__(self, dim, hdim, temp, name='VAE', config=[128,64,32]):\n",
    "        self.dim = dim\n",
    "        self.hdim = hdim\n",
    "        self.name = name\n",
    "        self.config = config\n",
    "        self.temp = temp\n",
    "        with tf.variable_scope(self.name) as scope:\n",
    "            self.scope = scope\n",
    "    \n",
    "    def priorkl(self, encoded, encoded_logits):\n",
    "        with tf.name_scope('priorkl'):\n",
    "            labels = tf.ones_like(encoded)/tf.cast(2, tf.float32)\n",
    "            xent = tf.reduce_sum(encoded*tf.log(labels), axis=[-1,-2], name='xent')\n",
    "#             nent = -tf.nn.softmax_cross_entropy_with_logits_v2(labels=encoded, logits=encoded_logits)\n",
    "#             nent = tf.reduce_sum(nent, axis=-1)\n",
    "            nent = tf.reduce_sum(encoded*tf.log(encoded), axis=[-1,-2], name='nent')\n",
    "            with tf.control_dependencies([tf.check_numerics(x, message='priorkl_numerics_{}'.format(x.name)) for x in [xent, nent]]):\n",
    "                loss = -xent + nent\n",
    "        return loss\n",
    "            \n",
    "    def encode(self, x, hard=False, uniform_sample=None, condition=None):\n",
    "        with tf.variable_scope('encoder', reuse=tf.AUTO_REUSE) as scope:\n",
    "            self.encoder_scope = scope\n",
    "            for i, out_dim in enumerate(self.config):\n",
    "                x = dense(x, out_dim, name='d{}'.format(i))\n",
    "                \n",
    "            with tf.variable_scope('latent_inf'):\n",
    "                logits = dense(x, self.hdim*2, name='logits', activation=lambda x: x)\n",
    "                logits = tf.reshape(logits, [tf.shape(x)[0], self.hdim, 2])\n",
    "                self.logits = logits\n",
    "                \n",
    "                self.center_loss = tf.reduce_mean(tf.square(tf.log(tf.reduce_sum(tf.exp(logits), axis=-1))))\n",
    "                \n",
    "                gd = Gumbel(tf.shape(logits), logits=logits)\n",
    "                encoded_gumb = gd.sample(us=uniform_sample, argmax=condition)\n",
    "                self.uniform_sample = gd.uniform_sample\n",
    "                \n",
    "                encoded = tf.nn.softmax(encoded_gumb/self.temp)\n",
    "                self.kl_loss = self.priorkl(tf.nn.softmax(self.logits), self.logits)\n",
    "                encoded_soft = encoded\n",
    "\n",
    "                encoded_hard = tf.distributions.Multinomial(1., logits=self.logits).sample()\n",
    "                \n",
    "                return encoded_soft, encoded_hard\n",
    "    \n",
    "    def decode(self, x):\n",
    "        with tf.variable_scope('decoder', reuse=tf.AUTO_REUSE) as scope:\n",
    "            self.decoder_scope = scope\n",
    "            x = tf.reshape(x, [tf.shape(x)[0], self.hdim*2])\n",
    "            for i, out_dim in enumerate(self.config[::-1]):\n",
    "                x = dense(x, out_dim, name='d{}'.format(i))\n",
    "            x = dense(x, self.dim, name='restoration', activation=lambda x: x)\n",
    "            return x"
   ]
  },
  {
   "cell_type": "code",
   "execution_count": 23,
   "metadata": {},
   "outputs": [],
   "source": [
    "data, y = diter.get_next()#tf.Variable(X, trainable=False)"
   ]
  },
  {
   "cell_type": "code",
   "execution_count": 24,
   "metadata": {},
   "outputs": [],
   "source": [
    "with tf.variable_scope('ConVar'):\n",
    "    pretemperature = tf.get_variable('pretemperature', shape=[1,16,2],\n",
    "                                     initializer=tf.constant_initializer(math.log(.3)), trainable=False)\n",
    "    preeta = tf.get_variable('peeta', shape=(),\n",
    "                             initializer=tf.constant_initializer(0.), trainable=False)\n",
    "    with tf.variable_scope('nvil_baseline') as nvil_scope:\n",
    "        d1 = dense(data, 128, 'd1')\n",
    "        nvil_baseline = dense(data, 1, 'out')[:,0]\n",
    "    \n",
    "    temperature = tf.exp(pretemperature)\n",
    "    tf.summary.histogram('temperature', temperature)\n",
    "    eta = tf.exp(preeta)\n",
    "\n",
    "vae = VAE(2, 16, temp=temperature, config=[128,128,128])"
   ]
  },
  {
   "cell_type": "code",
   "execution_count": 25,
   "metadata": {
    "scrolled": false
   },
   "outputs": [],
   "source": [
    "_, encoded_hard = vae.encode(data)\n",
    "encoded_soft, _ = vae.encode(data)\n",
    "encoded_soft_conditioned, _ = vae.encode(data, condition=encoded_hard)"
   ]
  },
  {
   "cell_type": "code",
   "execution_count": 26,
   "metadata": {},
   "outputs": [
    {
     "data": {
      "text/plain": [
       "<tf.Tensor 'encoder_2/latent_inf/Reshape:0' shape=(?, 16, 2) dtype=float32>"
      ]
     },
     "execution_count": 26,
     "metadata": {},
     "output_type": "execute_result"
    }
   ],
   "source": [
    "vae.logits"
   ]
  },
  {
   "cell_type": "code",
   "execution_count": 27,
   "metadata": {},
   "outputs": [],
   "source": [
    "sample_logp = tf.distributions.Multinomial(1., logits=vae.logits).log_prob(encoded_hard)\n",
    "sample_logp = tf.reduce_sum(sample_logp, axis=-1)"
   ]
  },
  {
   "cell_type": "code",
   "execution_count": 28,
   "metadata": {},
   "outputs": [],
   "source": [
    "decoded_soft = vae.decode(encoded_soft)\n",
    "decoded_hard = vae.decode(encoded_hard)\n",
    "decoded_soft_conditioned = vae.decode(encoded_soft_conditioned)"
   ]
  },
  {
   "cell_type": "code",
   "execution_count": 29,
   "metadata": {},
   "outputs": [],
   "source": [
    "def rec_loss(x, dec):\n",
    "    sigma = tf.constant(0.6)\n",
    "    loss = tf.reduce_sum(tf.square(x - dec), axis=-1)/(2*tf.square(sigma)) - tf.log(2*3.14*sigma)\n",
    "    return loss\n",
    "def get_elbo(decoded):\n",
    "    loss = rec_loss(data, decoded) + vae.kl_loss\n",
    "    return -loss"
   ]
  },
  {
   "cell_type": "code",
   "execution_count": null,
   "metadata": {},
   "outputs": [],
   "source": []
  },
  {
   "cell_type": "code",
   "execution_count": 30,
   "metadata": {},
   "outputs": [],
   "source": [
    "soft_elbo = get_elbo(decoded_soft)\n",
    "hard_elbo = get_elbo(decoded_hard)\n",
    "soft_elbo_conditioned = get_elbo(decoded_soft_conditioned)"
   ]
  },
  {
   "cell_type": "code",
   "execution_count": 31,
   "metadata": {},
   "outputs": [
    {
     "data": {
      "text/plain": [
       "<tf.Tensor 'Neg:0' shape=(?,) dtype=float32>"
      ]
     },
     "execution_count": 31,
     "metadata": {},
     "output_type": "execute_result"
    }
   ],
   "source": [
    "soft_elbo"
   ]
  },
  {
   "cell_type": "code",
   "execution_count": 32,
   "metadata": {},
   "outputs": [
    {
     "data": {
      "text/plain": [
       "<tf.Tensor 'hard_elbo:0' shape=() dtype=string>"
      ]
     },
     "execution_count": 32,
     "metadata": {},
     "output_type": "execute_result"
    }
   ],
   "source": [
    "tf.summary.scalar('soft_elbo', tf.reduce_mean(soft_elbo))\n",
    "tf.summary.scalar('hard_elbo', tf.reduce_mean(hard_elbo))"
   ]
  },
  {
   "cell_type": "code",
   "execution_count": 33,
   "metadata": {},
   "outputs": [
    {
     "data": {
      "text/plain": [
       "<tf.Tensor 'mean_temperature:0' shape=() dtype=string>"
      ]
     },
     "execution_count": 33,
     "metadata": {},
     "output_type": "execute_result"
    }
   ],
   "source": [
    "tf.summary.scalar('eta', eta)\n",
    "tf.summary.scalar('mean_temperature', tf.reduce_mean(temperature))"
   ]
  },
  {
   "cell_type": "code",
   "execution_count": 34,
   "metadata": {},
   "outputs": [],
   "source": [
    "graph = tf.get_default_graph()\n",
    "encoder_vars = graph.get_collection(tf.GraphKeys.TRAINABLE_VARIABLES, scope=vae.encoder_scope.name)"
   ]
  },
  {
   "cell_type": "code",
   "execution_count": 35,
   "metadata": {},
   "outputs": [],
   "source": [
    "# stoped_grad_input = hard_elbo - eta*soft_elbo_conditioned\n",
    "stoped_grad = hard_elbo - eta*soft_elbo_conditioned - nvil_baseline\n",
    "# stoped_grad = tf.stop_gradient(hard_elbo - eta*soft_elbo_conditioned)\n",
    "\n",
    "target = -sample_logp*stoped_grad - eta*soft_elbo + eta*soft_elbo_conditioned + vae.center_loss\n",
    "# mean_elbo = tf.Variable(-40.)\n",
    "# tf.summary.scalar('mean_elbo', mean_elbo)\n",
    "# target = -sample_logp*tf.stop_gradient(hard_elbo - mean_elbo)\n",
    "# with tf.control_dependencies([target]):\n",
    "#     mean_elbo_op = mean_elbo.assign(mean_elbo*0.98 + tf.reduce_mean(hard_elbo)*0.02)\n",
    "target = tf.reduce_mean(target)"
   ]
  },
  {
   "cell_type": "code",
   "execution_count": 36,
   "metadata": {},
   "outputs": [
    {
     "data": {
      "text/plain": [
       "<tf.Tensor 'ConVar/nvil_baseline/strided_slice:0' shape=(?,) dtype=float32>"
      ]
     },
     "execution_count": 36,
     "metadata": {},
     "output_type": "execute_result"
    }
   ],
   "source": [
    "nvil_baseline"
   ]
  },
  {
   "cell_type": "code",
   "execution_count": 37,
   "metadata": {},
   "outputs": [
    {
     "data": {
      "text/plain": [
       "(<tf.Tensor 'Sum:0' shape=(?,) dtype=float32>,\n",
       " <tf.Tensor 'Neg_1:0' shape=(?,) dtype=float32>,\n",
       " <tf.Tensor 'Neg:0' shape=(?,) dtype=float32>)"
      ]
     },
     "execution_count": 37,
     "metadata": {},
     "output_type": "execute_result"
    }
   ],
   "source": [
    "sample_logp, hard_elbo, soft_elbo"
   ]
  },
  {
   "cell_type": "code",
   "execution_count": 38,
   "metadata": {},
   "outputs": [],
   "source": [
    "# logp_grad = tf.gradients(sample_logp, encoder_vars)\n",
    "# soft_elbo_grad = tf.gradients(soft_elbo, encoder_vars)\n",
    "\n",
    "# grads_encoder = [-lpg*(hard_elbo-eta*soft_elbo)-eta*seg for lpg, seg in zip(logp_grad, soft_elbo_grad)]\n",
    "\n",
    "grads_encoder = tf.gradients(target, encoder_vars, stop_gradients=stoped_grad)\n",
    "# grads_encoder = tf.gradients(-soft_elbo, encoder_vars)"
   ]
  },
  {
   "cell_type": "code",
   "execution_count": 39,
   "metadata": {},
   "outputs": [],
   "source": [
    "with tf.name_scope('controls'):\n",
    "    tmp = [tf.reduce_sum(tf.square(x)) for x in grads_encoder]\n",
    "    controls_loss = tf.reduce_sum(tmp)"
   ]
  },
  {
   "cell_type": "code",
   "execution_count": 40,
   "metadata": {},
   "outputs": [],
   "source": [
    "decoder_vars = graph.get_collection(tf.GraphKeys.TRAINABLE_VARIABLES, scope=vae.decoder_scope.name)"
   ]
  },
  {
   "cell_type": "code",
   "execution_count": 41,
   "metadata": {},
   "outputs": [],
   "source": [
    "grads_decoder = tf.gradients(-hard_elbo, decoder_vars)"
   ]
  },
  {
   "cell_type": "code",
   "execution_count": 42,
   "metadata": {},
   "outputs": [],
   "source": [
    "# pretemperature, preeta, controls_loss"
   ]
  },
  {
   "cell_type": "code",
   "execution_count": 43,
   "metadata": {},
   "outputs": [],
   "source": [
    "with tf.name_scope('var_reductions'):\n",
    "    nvil_vars = graph.get_collection(tf.GraphKeys.TRAINABLE_VARIABLES, scope=nvil_scope.name)\n",
    "    loss = controls_loss\n",
    "    reds = [preeta, pretemperature] + nvil_vars\n",
    "    grads_reds = tf.gradients(loss, reds)\n",
    "gvs_reds = [(g,v) for g,v in zip(grads_reds, reds)]"
   ]
  },
  {
   "cell_type": "code",
   "execution_count": 44,
   "metadata": {},
   "outputs": [],
   "source": [
    "variables = encoder_vars + decoder_vars\n",
    "grads = grads_encoder + grads_decoder\n",
    "gvs = [(g,v) for g,v in zip(grads, variables)]"
   ]
  },
  {
   "cell_type": "code",
   "execution_count": 45,
   "metadata": {},
   "outputs": [],
   "source": [
    "with tf.control_dependencies([tf.check_numerics(g, message='Numerics trouble') for g,x in gvs]):\n",
    "    main_op = tf.train.AdamOptimizer(0.001).apply_gradients(gvs)\n",
    "red_op = tf.train.AdamOptimizer(0.005).apply_gradients(gvs_reds)"
   ]
  },
  {
   "cell_type": "code",
   "execution_count": 46,
   "metadata": {},
   "outputs": [],
   "source": [
    "train_op = [main_op, red_op]"
   ]
  },
  {
   "cell_type": "code",
   "execution_count": 47,
   "metadata": {},
   "outputs": [],
   "source": [
    "# !rm -R /tmp/tfdbg"
   ]
  },
  {
   "cell_type": "code",
   "execution_count": 48,
   "metadata": {},
   "outputs": [],
   "source": [
    "sess = tf.InteractiveSession()\n",
    "writer = tf.summary.FileWriter('/tmp/tfdbg/rebar_16_hidden_with_centering_high_sigma', tf.get_default_graph())\n",
    "init = tf.global_variables_initializer()"
   ]
  },
  {
   "cell_type": "code",
   "execution_count": 49,
   "metadata": {},
   "outputs": [],
   "source": [
    "init.run()"
   ]
  },
  {
   "cell_type": "code",
   "execution_count": 50,
   "metadata": {},
   "outputs": [
    {
     "data": {
      "text/plain": [
       "array([[[ 2.28927686e-08, -3.18732631e-08],\n",
       "        [ 3.54935139e-08,  1.39465106e-08],\n",
       "        [ 3.09390771e-08, -3.18423581e-08],\n",
       "        [-1.25307844e-08,  4.73367798e-08],\n",
       "        [ 1.00788551e-08,  2.71748002e-09],\n",
       "        [-2.47277115e-10, -4.55626470e-09],\n",
       "        [-9.94330662e-09,  1.02814806e-08],\n",
       "        [-1.08555174e-08,  1.36088270e-08],\n",
       "        [-4.33987823e-09,  9.91819249e-09],\n",
       "        [-5.05459585e-09,  2.33755468e-08],\n",
       "        [ 8.80043771e-08, -1.02333452e-07],\n",
       "        [ 7.58756435e-09, -2.25291803e-08],\n",
       "        [ 1.78739352e-08, -1.83681870e-08],\n",
       "        [ 7.34424699e-09, -5.56438984e-09],\n",
       "        [-2.19156030e-11,  1.17253078e-08],\n",
       "        [-1.29271225e-08,  1.25233877e-08]]], dtype=float32)"
      ]
     },
     "execution_count": 50,
     "metadata": {},
     "output_type": "execute_result"
    }
   ],
   "source": [
    "gvs_reds[1][0].eval()"
   ]
  },
  {
   "cell_type": "code",
   "execution_count": 51,
   "metadata": {},
   "outputs": [],
   "source": [
    "all_summaries = tf.summary.merge_all()"
   ]
  },
  {
   "cell_type": "code",
   "execution_count": 52,
   "metadata": {},
   "outputs": [],
   "source": [
    "step = 0"
   ]
  },
  {
   "cell_type": "code",
   "execution_count": 53,
   "metadata": {
    "scrolled": true
   },
   "outputs": [
    {
     "ename": "KeyboardInterrupt",
     "evalue": "",
     "output_type": "error",
     "traceback": [
      "\u001b[0;31m---------------------------------------------------------------------------\u001b[0m",
      "\u001b[0;31mKeyboardInterrupt\u001b[0m                         Traceback (most recent call last)",
      "\u001b[0;32m<ipython-input-53-fc48c68c5ae9>\u001b[0m in \u001b[0;36m<module>\u001b[0;34m()\u001b[0m\n\u001b[1;32m      1\u001b[0m \u001b[0;32mfor\u001b[0m \u001b[0mstep\u001b[0m \u001b[0;32min\u001b[0m \u001b[0mrange\u001b[0m\u001b[0;34m(\u001b[0m\u001b[0mstep\u001b[0m\u001b[0;34m,\u001b[0m \u001b[0;36m60000\u001b[0m\u001b[0;34m)\u001b[0m\u001b[0;34m:\u001b[0m\u001b[0;34m\u001b[0m\u001b[0m\n\u001b[0;32m----> 2\u001b[0;31m     \u001b[0m_\u001b[0m\u001b[0;34m,\u001b[0m \u001b[0msm\u001b[0m \u001b[0;34m=\u001b[0m \u001b[0msess\u001b[0m\u001b[0;34m.\u001b[0m\u001b[0mrun\u001b[0m\u001b[0;34m(\u001b[0m\u001b[0;34m[\u001b[0m\u001b[0mtrain_op\u001b[0m\u001b[0;34m,\u001b[0m \u001b[0mall_summaries\u001b[0m\u001b[0;34m]\u001b[0m\u001b[0;34m)\u001b[0m\u001b[0;34m\u001b[0m\u001b[0m\n\u001b[0m\u001b[1;32m      3\u001b[0m     \u001b[0mwriter\u001b[0m\u001b[0;34m.\u001b[0m\u001b[0madd_summary\u001b[0m\u001b[0;34m(\u001b[0m\u001b[0msm\u001b[0m\u001b[0;34m,\u001b[0m \u001b[0mglobal_step\u001b[0m\u001b[0;34m=\u001b[0m\u001b[0mstep\u001b[0m\u001b[0;34m)\u001b[0m\u001b[0;34m\u001b[0m\u001b[0m\n",
      "\u001b[0;32m/usr/lib/python3.6/site-packages/tensorflow/python/client/session.py\u001b[0m in \u001b[0;36mrun\u001b[0;34m(self, fetches, feed_dict, options, run_metadata)\u001b[0m\n\u001b[1;32m    903\u001b[0m     \u001b[0;32mtry\u001b[0m\u001b[0;34m:\u001b[0m\u001b[0;34m\u001b[0m\u001b[0m\n\u001b[1;32m    904\u001b[0m       result = self._run(None, fetches, feed_dict, options_ptr,\n\u001b[0;32m--> 905\u001b[0;31m                          run_metadata_ptr)\n\u001b[0m\u001b[1;32m    906\u001b[0m       \u001b[0;32mif\u001b[0m \u001b[0mrun_metadata\u001b[0m\u001b[0;34m:\u001b[0m\u001b[0;34m\u001b[0m\u001b[0m\n\u001b[1;32m    907\u001b[0m         \u001b[0mproto_data\u001b[0m \u001b[0;34m=\u001b[0m \u001b[0mtf_session\u001b[0m\u001b[0;34m.\u001b[0m\u001b[0mTF_GetBuffer\u001b[0m\u001b[0;34m(\u001b[0m\u001b[0mrun_metadata_ptr\u001b[0m\u001b[0;34m)\u001b[0m\u001b[0;34m\u001b[0m\u001b[0m\n",
      "\u001b[0;32m/usr/lib/python3.6/site-packages/tensorflow/python/client/session.py\u001b[0m in \u001b[0;36m_run\u001b[0;34m(self, handle, fetches, feed_dict, options, run_metadata)\u001b[0m\n\u001b[1;32m   1138\u001b[0m     \u001b[0;32mif\u001b[0m \u001b[0mfinal_fetches\u001b[0m \u001b[0;32mor\u001b[0m \u001b[0mfinal_targets\u001b[0m \u001b[0;32mor\u001b[0m \u001b[0;34m(\u001b[0m\u001b[0mhandle\u001b[0m \u001b[0;32mand\u001b[0m \u001b[0mfeed_dict_tensor\u001b[0m\u001b[0;34m)\u001b[0m\u001b[0;34m:\u001b[0m\u001b[0;34m\u001b[0m\u001b[0m\n\u001b[1;32m   1139\u001b[0m       results = self._do_run(handle, final_targets, final_fetches,\n\u001b[0;32m-> 1140\u001b[0;31m                              feed_dict_tensor, options, run_metadata)\n\u001b[0m\u001b[1;32m   1141\u001b[0m     \u001b[0;32melse\u001b[0m\u001b[0;34m:\u001b[0m\u001b[0;34m\u001b[0m\u001b[0m\n\u001b[1;32m   1142\u001b[0m       \u001b[0mresults\u001b[0m \u001b[0;34m=\u001b[0m \u001b[0;34m[\u001b[0m\u001b[0;34m]\u001b[0m\u001b[0;34m\u001b[0m\u001b[0m\n",
      "\u001b[0;32m/usr/lib/python3.6/site-packages/tensorflow/python/client/session.py\u001b[0m in \u001b[0;36m_do_run\u001b[0;34m(self, handle, target_list, fetch_list, feed_dict, options, run_metadata)\u001b[0m\n\u001b[1;32m   1319\u001b[0m     \u001b[0;32mif\u001b[0m \u001b[0mhandle\u001b[0m \u001b[0;32mis\u001b[0m \u001b[0;32mNone\u001b[0m\u001b[0;34m:\u001b[0m\u001b[0;34m\u001b[0m\u001b[0m\n\u001b[1;32m   1320\u001b[0m       return self._do_call(_run_fn, feeds, fetches, targets, options,\n\u001b[0;32m-> 1321\u001b[0;31m                            run_metadata)\n\u001b[0m\u001b[1;32m   1322\u001b[0m     \u001b[0;32melse\u001b[0m\u001b[0;34m:\u001b[0m\u001b[0;34m\u001b[0m\u001b[0m\n\u001b[1;32m   1323\u001b[0m       \u001b[0;32mreturn\u001b[0m \u001b[0mself\u001b[0m\u001b[0;34m.\u001b[0m\u001b[0m_do_call\u001b[0m\u001b[0;34m(\u001b[0m\u001b[0m_prun_fn\u001b[0m\u001b[0;34m,\u001b[0m \u001b[0mhandle\u001b[0m\u001b[0;34m,\u001b[0m \u001b[0mfeeds\u001b[0m\u001b[0;34m,\u001b[0m \u001b[0mfetches\u001b[0m\u001b[0;34m)\u001b[0m\u001b[0;34m\u001b[0m\u001b[0m\n",
      "\u001b[0;32m/usr/lib/python3.6/site-packages/tensorflow/python/client/session.py\u001b[0m in \u001b[0;36m_do_call\u001b[0;34m(self, fn, *args)\u001b[0m\n\u001b[1;32m   1325\u001b[0m   \u001b[0;32mdef\u001b[0m \u001b[0m_do_call\u001b[0m\u001b[0;34m(\u001b[0m\u001b[0mself\u001b[0m\u001b[0;34m,\u001b[0m \u001b[0mfn\u001b[0m\u001b[0;34m,\u001b[0m \u001b[0;34m*\u001b[0m\u001b[0margs\u001b[0m\u001b[0;34m)\u001b[0m\u001b[0;34m:\u001b[0m\u001b[0;34m\u001b[0m\u001b[0m\n\u001b[1;32m   1326\u001b[0m     \u001b[0;32mtry\u001b[0m\u001b[0;34m:\u001b[0m\u001b[0;34m\u001b[0m\u001b[0m\n\u001b[0;32m-> 1327\u001b[0;31m       \u001b[0;32mreturn\u001b[0m \u001b[0mfn\u001b[0m\u001b[0;34m(\u001b[0m\u001b[0;34m*\u001b[0m\u001b[0margs\u001b[0m\u001b[0;34m)\u001b[0m\u001b[0;34m\u001b[0m\u001b[0m\n\u001b[0m\u001b[1;32m   1328\u001b[0m     \u001b[0;32mexcept\u001b[0m \u001b[0merrors\u001b[0m\u001b[0;34m.\u001b[0m\u001b[0mOpError\u001b[0m \u001b[0;32mas\u001b[0m \u001b[0me\u001b[0m\u001b[0;34m:\u001b[0m\u001b[0;34m\u001b[0m\u001b[0m\n\u001b[1;32m   1329\u001b[0m       \u001b[0mmessage\u001b[0m \u001b[0;34m=\u001b[0m \u001b[0mcompat\u001b[0m\u001b[0;34m.\u001b[0m\u001b[0mas_text\u001b[0m\u001b[0;34m(\u001b[0m\u001b[0me\u001b[0m\u001b[0;34m.\u001b[0m\u001b[0mmessage\u001b[0m\u001b[0;34m)\u001b[0m\u001b[0;34m\u001b[0m\u001b[0m\n",
      "\u001b[0;32m/usr/lib/python3.6/site-packages/tensorflow/python/client/session.py\u001b[0m in \u001b[0;36m_run_fn\u001b[0;34m(feed_dict, fetch_list, target_list, options, run_metadata)\u001b[0m\n\u001b[1;32m   1310\u001b[0m       \u001b[0mself\u001b[0m\u001b[0;34m.\u001b[0m\u001b[0m_extend_graph\u001b[0m\u001b[0;34m(\u001b[0m\u001b[0;34m)\u001b[0m\u001b[0;34m\u001b[0m\u001b[0m\n\u001b[1;32m   1311\u001b[0m       return self._call_tf_sessionrun(\n\u001b[0;32m-> 1312\u001b[0;31m           options, feed_dict, fetch_list, target_list, run_metadata)\n\u001b[0m\u001b[1;32m   1313\u001b[0m \u001b[0;34m\u001b[0m\u001b[0m\n\u001b[1;32m   1314\u001b[0m     \u001b[0;32mdef\u001b[0m \u001b[0m_prun_fn\u001b[0m\u001b[0;34m(\u001b[0m\u001b[0mhandle\u001b[0m\u001b[0;34m,\u001b[0m \u001b[0mfeed_dict\u001b[0m\u001b[0;34m,\u001b[0m \u001b[0mfetch_list\u001b[0m\u001b[0;34m)\u001b[0m\u001b[0;34m:\u001b[0m\u001b[0;34m\u001b[0m\u001b[0m\n",
      "\u001b[0;32m/usr/lib/python3.6/site-packages/tensorflow/python/client/session.py\u001b[0m in \u001b[0;36m_call_tf_sessionrun\u001b[0;34m(self, options, feed_dict, fetch_list, target_list, run_metadata)\u001b[0m\n\u001b[1;32m   1418\u001b[0m         return tf_session.TF_Run(\n\u001b[1;32m   1419\u001b[0m             \u001b[0mself\u001b[0m\u001b[0;34m.\u001b[0m\u001b[0m_session\u001b[0m\u001b[0;34m,\u001b[0m \u001b[0moptions\u001b[0m\u001b[0;34m,\u001b[0m \u001b[0mfeed_dict\u001b[0m\u001b[0;34m,\u001b[0m \u001b[0mfetch_list\u001b[0m\u001b[0;34m,\u001b[0m \u001b[0mtarget_list\u001b[0m\u001b[0;34m,\u001b[0m\u001b[0;34m\u001b[0m\u001b[0m\n\u001b[0;32m-> 1420\u001b[0;31m             status, run_metadata)\n\u001b[0m\u001b[1;32m   1421\u001b[0m \u001b[0;34m\u001b[0m\u001b[0m\n\u001b[1;32m   1422\u001b[0m   \u001b[0;32mdef\u001b[0m \u001b[0m_call_tf_sessionprun\u001b[0m\u001b[0;34m(\u001b[0m\u001b[0mself\u001b[0m\u001b[0;34m,\u001b[0m \u001b[0mhandle\u001b[0m\u001b[0;34m,\u001b[0m \u001b[0mfeed_dict\u001b[0m\u001b[0;34m,\u001b[0m \u001b[0mfetch_list\u001b[0m\u001b[0;34m)\u001b[0m\u001b[0;34m:\u001b[0m\u001b[0;34m\u001b[0m\u001b[0m\n",
      "\u001b[0;31mKeyboardInterrupt\u001b[0m: "
     ]
    }
   ],
   "source": [
    "for step in range(step, 60000):\n",
    "    _, sm = sess.run([train_op, all_summaries])\n",
    "    writer.add_summary(sm, global_step=step)"
   ]
  },
  {
   "cell_type": "code",
   "execution_count": 54,
   "metadata": {},
   "outputs": [],
   "source": [
    "prior = tf.distributions.Multinomial(1., logits=tf.zeros([1000, vae.hdim, 2])).sample()\n",
    "generated = vae.decode(prior)"
   ]
  },
  {
   "cell_type": "code",
   "execution_count": 55,
   "metadata": {},
   "outputs": [],
   "source": [
    "tt = generated.eval()"
   ]
  },
  {
   "cell_type": "code",
   "execution_count": 57,
   "metadata": {},
   "outputs": [
    {
     "data": {
      "image/png": "[encoded data removed]",
      "text/plain": [
       "<Figure size 432x288 with 1 Axes>"
      ]
     },
     "metadata": {},
     "output_type": "display_data"
    }
   ],
   "source": [
    "plt.scatter(tt[:,0], tt[:,1])\n",
    "plt.show()"
   ]
  },
  {
   "cell_type": "code",
   "execution_count": null,
   "metadata": {},
   "outputs": [],
   "source": [
    "pretemperature.assign(math.log(.4)).eval()"
   ]
  },
  {
   "cell_type": "code",
   "execution_count": null,
   "metadata": {},
   "outputs": [],
   "source": []
  }
 ],
 "metadata": {
  "kernelspec": {
   "display_name": "py3.6",
   "language": "python",
   "name": "py3.6"
  },
  "language_info": {
   "codemirror_mode": {
    "name": "ipython",
    "version": 3
   },
   "file_extension": ".py",
   "mimetype": "text/x-python",
   "name": "python",
   "nbconvert_exporter": "python",
   "pygments_lexer": "ipython3",
   "version": "3.6.4"
  }
 },
 "nbformat": 4,
 "nbformat_minor": 2
}
