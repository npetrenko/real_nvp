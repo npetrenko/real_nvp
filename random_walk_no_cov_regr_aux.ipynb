{
 "cells": [
  {
   "cell_type": "code",
   "execution_count": 1,
   "metadata": {},
   "outputs": [],
   "source": [
    "import tensorflow as tf\n",
    "from flows import NormalRW, DFlow, ResFlow, NVPFlow, phase, Normal, floatX, MVNormal, MVNormalRW\n",
    "import numpy as np\n",
    "from matplotlib import pyplot as plt\n",
    "import seaborn as sns\n",
    "from tensorflow.contrib.distributions import WishartCholesky\n",
    "\n",
    "np.random.seed(1234)"
   ]
  },
  {
   "cell_type": "code",
   "execution_count": 2,
   "metadata": {},
   "outputs": [],
   "source": [
    "n = 32\n",
    "s1 = 0.01\n",
    "m1 = 0.\n",
    "s0 = 0.5\n",
    "dim = [1,2]\n",
    "\n",
    "params = []\n",
    "params.append(np.random.normal(size=dim, scale=s0))\n",
    "for i in range(n-1):\n",
    "    new = params[i] + np.random.normal(loc=m1, scale=s1, size=dim)\n",
    "    params.append(new)\n",
    "params = np.array(params)\n",
    "\n",
    "#PWalk = NormalRW(dim[0]*dim[1], sigma=s1, mu=m1, sigma0=s0)\n",
    "PWalk = MVNormalRW(dim[0]*dim[1], sigma=s1, sigma0=s0, name='param_walk_prior')"
   ]
  },
  {
   "cell_type": "code",
   "execution_count": 3,
   "metadata": {},
   "outputs": [
    {
     "data": {
      "text/plain": [
       "(32, 1, 2)"
      ]
     },
     "execution_count": 3,
     "metadata": {},
     "output_type": "execute_result"
    }
   ],
   "source": [
    "params.shape"
   ]
  },
  {
   "cell_type": "code",
   "execution_count": 4,
   "metadata": {},
   "outputs": [],
   "source": [
    "def autoregr(X, param):\n",
    "    d = param[:,:dim[-1]-1]\n",
    "    X = np.matmul(X, d) + param[:,-1][np.newaxis] + np.random.normal(size=[1,dim[-1]-1], scale=0.1)\n",
    "    return X\n",
    "\n",
    "def autoregr_tf(X, param):\n",
    "    d = param[:,:dim[-1]-1]\n",
    "    X = tf.matmul(X, d) + param[:,-1][np.newaxis]\n",
    "    return X"
   ]
  },
  {
   "cell_type": "code",
   "execution_count": 5,
   "metadata": {},
   "outputs": [],
   "source": [
    "xs = [np.random.normal(size=[1,dim[0]])]\n",
    "for i in range(n-1):\n",
    "    xs.append(autoregr(xs[i], params[i]))\n",
    "xs = np.concatenate(xs)[np.newaxis].astype(floatX)"
   ]
  },
  {
   "cell_type": "code",
   "execution_count": 6,
   "metadata": {},
   "outputs": [
    {
     "data": {
      "text/plain": [
       "array([[[ 1.03380073],\n",
       "        [-0.5918482 ],\n",
       "        [-0.54354248],\n",
       "        [-0.83599905],\n",
       "        [-0.78511876],\n",
       "        [-0.74559205]]])"
      ]
     },
     "execution_count": 6,
     "metadata": {},
     "output_type": "execute_result"
    }
   ],
   "source": [
    "xs[:,:6]"
   ]
  },
  {
   "cell_type": "code",
   "execution_count": 7,
   "metadata": {},
   "outputs": [],
   "source": [
    "def create_step_flow(name=None, prev_flow_output=None, init_sigma=1.):\n",
    "    with tf.variable_scope(name, reuse=False):\n",
    "        \n",
    "        if prev_flow_output is not None:\n",
    "            aux_vars = prev_flow_output\n",
    "        else:\n",
    "            aux_vars = None\n",
    "            \n",
    "        step_flow = DFlow([ResFlow(dim=dim[0]*dim[1], name='res{}'.format(i), aux_vars=aux_vars)\\\n",
    "                           for i in range(4)], init_sigma=init_sigma)\n",
    "    return step_flow"
   ]
  },
  {
   "cell_type": "code",
   "execution_count": 8,
   "metadata": {},
   "outputs": [],
   "source": [
    "flows = [create_step_flow('step_flow0', init_sigma=s0)]\n",
    "outputs = [flows[-1].output]\n",
    "for i in range(n-1):\n",
    "    new = create_step_flow('step_flow' + str(i+1), outputs[-1], init_sigma=s1)\n",
    "    flows.append(new)\n",
    "    outputs.append(outputs[-1] + new.output)"
   ]
  },
  {
   "cell_type": "code",
   "execution_count": 9,
   "metadata": {},
   "outputs": [],
   "source": [
    "outputs = tf.concat(outputs, axis=0)[tf.newaxis]"
   ]
  },
  {
   "cell_type": "code",
   "execution_count": 10,
   "metadata": {},
   "outputs": [
    {
     "data": {
      "text/plain": [
       "<tf.Tensor 'strided_slice:0' shape=(1, 32, 2) dtype=float64>"
      ]
     },
     "execution_count": 10,
     "metadata": {},
     "output_type": "execute_result"
    }
   ],
   "source": [
    "outputs"
   ]
  },
  {
   "cell_type": "code",
   "execution_count": 11,
   "metadata": {},
   "outputs": [],
   "source": [
    "prior = PWalk.logdens(outputs)"
   ]
  },
  {
   "cell_type": "code",
   "execution_count": 12,
   "metadata": {},
   "outputs": [
    {
     "data": {
      "text/plain": [
       "<tf.Tensor 'param_walk_prior_2/logdens/add:0' shape=() dtype=float64>"
      ]
     },
     "execution_count": 12,
     "metadata": {},
     "output_type": "execute_result"
    }
   ],
   "source": [
    "prior"
   ]
  },
  {
   "cell_type": "code",
   "execution_count": 13,
   "metadata": {},
   "outputs": [],
   "source": [
    "def create_loglik():\n",
    "    obs_d = Normal(dim=None, sigma=0.1, mu=0)\n",
    "    out = tf.reshape(outputs, [n, dim[0], dim[1]])\n",
    "    \n",
    "    ll = 0\n",
    "    for i in range(n-1):\n",
    "        pred = xs[0,i+1] - autoregr_tf(xs[0,i][np.newaxis], out[i])\n",
    "        ll += obs_d.logdens(pred)\n",
    "    return ll\n",
    "\n",
    "def create_loglik2():\n",
    "    obs_d = Normal(dim=None, sigma=0.1, mu=0)\n",
    "    out = tf.reshape(outputs, [n, dim[0], dim[1]])\n",
    "    \n",
    "    def step1(current):\n",
    "        X = current[0][np.newaxis]\n",
    "        param = current[1]\n",
    "        d = param[:,:dim[-1]-1]\n",
    "        X = tf.matmul(X, d)[0] + param[:,-1]\n",
    "        return X\n",
    "    \n",
    "    ar = tf.map_fn(step1, (xs[0][:-1], out[:-1]), dtype=tf.float64)\n",
    "    return obs_d.logdens(ar - xs[0][1:])"
   ]
  },
  {
   "cell_type": "code",
   "execution_count": 14,
   "metadata": {},
   "outputs": [],
   "source": [
    "logl = create_loglik2()"
   ]
  },
  {
   "cell_type": "code",
   "execution_count": 15,
   "metadata": {},
   "outputs": [],
   "source": [
    "ent = tf.reduce_sum([flow.logdens for flow in flows])"
   ]
  },
  {
   "cell_type": "code",
   "execution_count": 16,
   "metadata": {},
   "outputs": [
    {
     "data": {
      "text/plain": [
       "<tf.Tensor 'Sum_1:0' shape=() dtype=float64>"
      ]
     },
     "execution_count": 16,
     "metadata": {},
     "output_type": "execute_result"
    }
   ],
   "source": [
    "ent"
   ]
  },
  {
   "cell_type": "code",
   "execution_count": 17,
   "metadata": {},
   "outputs": [],
   "source": [
    "loss = -logl - prior + ent\n",
    "loss /= n*dim[0]*dim[1]"
   ]
  },
  {
   "cell_type": "code",
   "execution_count": 18,
   "metadata": {},
   "outputs": [],
   "source": [
    "opt = tf.train.AdamOptimizer(0.0001).minimize(loss)"
   ]
  },
  {
   "cell_type": "code",
   "execution_count": 19,
   "metadata": {},
   "outputs": [],
   "source": [
    "sess = tf.InteractiveSession()"
   ]
  },
  {
   "cell_type": "code",
   "execution_count": 20,
   "metadata": {},
   "outputs": [],
   "source": [
    "tf.global_variables_initializer().run()"
   ]
  },
  {
   "cell_type": "code",
   "execution_count": 21,
   "metadata": {},
   "outputs": [
    {
     "data": {
      "text/plain": [
       "(184.98299753182405, 285.2005444117734, -176.15366608751162)"
      ]
     },
     "execution_count": 21,
     "metadata": {},
     "output_type": "execute_result"
    }
   ],
   "source": [
    "prior.eval(), ent.eval(), logl.eval()"
   ]
  },
  {
   "cell_type": "code",
   "execution_count": 22,
   "metadata": {},
   "outputs": [
    {
     "data": {
      "text/plain": [
       "92.13916979987677"
      ]
     },
     "execution_count": 22,
     "metadata": {},
     "output_type": "execute_result"
    }
   ],
   "source": [
    "loss.eval()"
   ]
  },
  {
   "cell_type": "code",
   "execution_count": 23,
   "metadata": {},
   "outputs": [],
   "source": [
    "np.set_printoptions(precision=4)"
   ]
  },
  {
   "cell_type": "code",
   "execution_count": 34,
   "metadata": {},
   "outputs": [
    {
     "data": {
      "text/plain": [
       "array([[2629.4573,  145.7262],\n",
       "       [ 145.7262,  789.6145]])"
      ]
     },
     "execution_count": 34,
     "metadata": {},
     "output_type": "execute_result"
    }
   ],
   "source": [
    "PWalk.inverse_sigma.eval()[:3,:3]"
   ]
  },
  {
   "cell_type": "code",
   "execution_count": 25,
   "metadata": {
    "scrolled": true
   },
   "outputs": [
    {
     "name": "stdout",
     "output_type": "stream",
     "text": [
      "3.876046376274495\n",
      "[[9.1609e+03 3.0059e-01]\n",
      " [3.0059e-01 9.1748e+03]]\n",
      "\n",
      "\n",
      "2.429340071957933\n",
      "[[8.4371e+03 4.5669e+00]\n",
      " [4.5669e+00 8.4177e+03]]\n",
      "\n",
      "\n",
      "5.745785394669376\n",
      "[[7886.4698    7.9238]\n",
      " [   7.9238 7811.4491]]\n",
      "\n",
      "\n",
      "1.8792006170540172\n",
      "[[7427.7557   10.7685]\n",
      " [  10.7685 7301.0112]]\n",
      "\n",
      "\n",
      "5.375128172003379\n",
      "[[7013.8253   13.4066]\n",
      " [  13.4066 6826.9721]]\n",
      "\n",
      "\n",
      "6.515240382861148\n",
      "[[6651.5855   15.7664]\n",
      " [  15.7664 6405.8468]]\n",
      "\n",
      "\n",
      "8.723314499831393\n",
      "[[6362.5859   17.6646]\n",
      " [  17.6646 6079.3998]]\n",
      "\n",
      "\n",
      "6.306176332452243\n",
      "[[6091.217    19.4822]\n",
      " [  19.4822 5771.2709]]\n",
      "\n",
      "\n",
      "1.241309263283747\n",
      "[[5814.6493   21.3288]\n",
      " [  21.3288 5455.9014]]\n",
      "\n",
      "\n",
      "1.6451643996143708\n",
      "[[5598.3631   22.8566]\n",
      " [  22.8566 5206.3727]]\n",
      "\n",
      "\n",
      "4.450168845123141\n",
      "[[5376.1855   24.3709]\n",
      " [  24.3709 4960.6135]]\n",
      "\n",
      "\n",
      "5.174671510851686\n",
      "[[5211.086    25.6249]\n",
      " [  25.6249 4772.8843]]\n",
      "\n",
      "\n",
      "6.6876525653481655\n",
      "[[5050.1205   26.8853]\n",
      " [  26.8853 4583.8015]]\n",
      "\n",
      "\n",
      "1.8868690843653435\n",
      "[[4895.2664   28.0685]\n",
      " [  28.0685 4415.6876]]\n",
      "\n",
      "\n",
      "3.318066545156819\n",
      "[[4721.8755   29.3444]\n",
      " [  29.3444 4226.3018]]\n",
      "\n",
      "\n",
      "2.270974453387757\n",
      "[[4592.7405   30.4447]\n",
      " [  30.4447 4079.2862]]\n",
      "\n",
      "\n",
      "1.1547766433054223\n",
      "[[4462.9106   31.5252]\n",
      " [  31.5252 3939.0681]]\n",
      "\n",
      "\n",
      "3.0789296460176017\n",
      "[[4371.6833   32.4923]\n",
      " [  32.4923 3831.654 ]]\n",
      "\n",
      "\n",
      "4.544402843417014\n",
      "[[4257.5688   33.5766]\n",
      " [  33.5766 3699.7856]]\n",
      "\n",
      "\n",
      "2.020667073155268\n",
      "[[4157.1054   34.5722]\n",
      " [  34.5722 3585.4301]]\n",
      "\n",
      "\n",
      "1.1737294467128936\n",
      "[[4058.5864   35.5754]\n",
      " [  35.5754 3478.0694]]\n",
      "\n",
      "\n",
      "2.099381721303612\n",
      "[[3988.4487   36.4925]\n",
      " [  36.4925 3392.3123]]\n",
      "\n",
      "\n",
      "1.4898790315106787\n",
      "[[3919.1711   37.4905]\n",
      " [  37.4905 3300.9702]]\n",
      "\n",
      "\n",
      "10.052734799428844\n",
      "[[3827.4127   38.4919]\n",
      " [  38.4919 3198.6039]]\n",
      "\n",
      "\n",
      "5.2606085732788745\n",
      "[[3765.8788   39.4658]\n",
      " [  39.4658 3115.3034]]\n",
      "\n",
      "\n",
      "2.085693095106708\n",
      "[[3722.4428   40.4267]\n",
      " [  40.4267 3051.4273]]\n",
      "\n",
      "\n",
      "1.436229074092365\n",
      "[[3662.8891   41.429 ]\n",
      " [  41.429  2972.7764]]\n",
      "\n",
      "\n",
      "2.1318148378026684\n",
      "[[3610.5507   42.4612]\n",
      " [  42.4612 2897.4079]]\n",
      "\n",
      "\n",
      "2.7179395626356087\n",
      "[[3572.9191   43.4824]\n",
      " [  43.4824 2835.0917]]\n",
      "\n",
      "\n",
      "1.7380554161467923\n",
      "[[3507.4462   44.5514]\n",
      " [  44.5514 2750.3203]]\n",
      "\n",
      "\n",
      "1.917791165170522\n",
      "[[3462.5036   45.6146]\n",
      " [  45.6146 2682.1744]]\n",
      "\n",
      "\n",
      "1.9519655974489032\n",
      "[[3442.801    46.6707]\n",
      " [  46.6707 2636.3764]]\n",
      "\n",
      "\n",
      "1.5131049357542379\n",
      "[[3411.8886   47.7588]\n",
      " [  47.7588 2580.043 ]]\n",
      "\n",
      "\n",
      "1.720550138259442\n",
      "[[3390.357    48.8836]\n",
      " [  48.8836 2528.1051]]\n",
      "\n",
      "\n",
      "1.7106037493012853\n",
      "[[3369.7378   49.9761]\n",
      " [  49.9761 2483.8542]]\n",
      "\n",
      "\n",
      "2.6100035927960805\n",
      "[[3362.1288   51.1398]\n",
      " [  51.1398 2442.8798]]\n",
      "\n",
      "\n",
      "1.320937732852073\n",
      "[[3350.8896   52.3463]\n",
      " [  52.3463 2396.1148]]\n",
      "\n",
      "\n",
      "1.4799605935618723\n",
      "[[3308.2888   53.534 ]\n",
      " [  53.534  2328.7177]]\n",
      "\n",
      "\n",
      "1.3823597746906122\n",
      "[[3265.068    54.5551]\n",
      " [  54.5551 2280.6184]]\n",
      "\n",
      "\n",
      "2.2240573977088007\n",
      "[[3245.7725   55.7455]\n",
      " [  55.7455 2232.8212]]\n",
      "\n",
      "\n",
      "2.3524668515709486\n",
      "[[3238.9045   56.9423]\n",
      " [  56.9423 2195.4284]]\n",
      "\n",
      "\n",
      "2.025695459571852\n",
      "[[3219.6949   58.0713]\n",
      " [  58.0713 2154.121 ]]\n",
      "\n",
      "\n",
      "1.5776767387854411\n",
      "[[3208.8929   59.2885]\n",
      " [  59.2885 2112.6624]]\n",
      "\n",
      "\n",
      "1.2328603964602531\n",
      "[[3189.4702   60.4154]\n",
      " [  60.4154 2072.3891]]\n",
      "\n",
      "\n",
      "1.6426627904155984\n",
      "[[3182.617    61.626 ]\n",
      " [  61.626  2031.2604]]\n",
      "\n",
      "\n",
      "1.3767473336621494\n",
      "[[3167.6897   62.7456]\n",
      " [  62.7456 1996.8649]]\n",
      "\n",
      "\n",
      "1.9059983952976647\n",
      "[[3158.9256   63.9084]\n",
      " [  63.9084 1963.3981]]\n",
      "\n",
      "\n",
      "4.249945669827729\n",
      "[[3143.9245   65.012 ]\n",
      " [  65.012  1930.6935]]\n",
      "\n",
      "\n",
      "1.090153926854509\n",
      "[[3149.0151   66.2398]\n",
      " [  66.2398 1902.2558]]\n",
      "\n",
      "\n",
      "2.1432656625633015\n",
      "[[3137.3729   67.3827]\n",
      " [  67.3827 1872.5137]]\n",
      "\n",
      "\n",
      "2.3381653803915805\n",
      "[[3127.7635   68.5086]\n",
      " [  68.5086 1846.252 ]]\n",
      "\n",
      "\n",
      "1.1504537851983136\n",
      "[[3130.8646   69.7243]\n",
      " [  69.7243 1820.9972]]\n",
      "\n",
      "\n",
      "1.4685322862944155\n",
      "[[3128.8565   70.9646]\n",
      " [  70.9646 1793.4536]]\n",
      "\n",
      "\n",
      "3.1063532014068285\n",
      "[[3114.8159   72.0704]\n",
      " [  72.0704 1764.1612]]\n",
      "\n",
      "\n",
      "2.4753284497212866\n",
      "[[3109.1917   73.2066]\n",
      " [  73.2066 1740.0307]]\n",
      "\n",
      "\n",
      "2.421535411000608\n",
      "[[3098.9255   74.3384]\n",
      " [  74.3384 1714.0524]]\n",
      "\n",
      "\n",
      "1.642914547123091\n",
      "[[3079.9394   75.3949]\n",
      " [  75.3949 1686.3724]]\n",
      "\n",
      "\n",
      "1.331080629251324\n",
      "[[3051.324    76.313 ]\n",
      " [  76.313  1654.6288]]\n",
      "\n",
      "\n",
      "1.7411140422326987\n",
      "[[3034.0655   77.3432]\n",
      " [  77.3432 1629.1044]]\n",
      "\n",
      "\n",
      "1.1031650760673477\n",
      "[[3017.3897   78.4204]\n",
      " [  78.4204 1597.1612]]\n",
      "\n",
      "\n",
      "1.1568869583515031\n",
      "[[3006.6818   79.4479]\n",
      " [  79.4479 1575.4098]]\n",
      "\n",
      "\n",
      "1.5901795067238753\n",
      "[[3010.6084   80.5303]\n",
      " [  80.5303 1559.3365]]\n",
      "\n",
      "\n",
      "1.1304608088366637\n",
      "[[3004.3243   81.67  ]\n",
      " [  81.67   1536.1435]]\n",
      "\n",
      "\n",
      "1.1454110541002156\n",
      "[[3015.4472   82.8985]\n",
      " [  82.8985 1520.0799]]\n",
      "\n",
      "\n",
      "1.177393264159564\n",
      "[[3024.8051   84.122 ]\n",
      " [  84.122  1508.5174]]\n",
      "\n",
      "\n",
      "1.3932864138554275\n",
      "[[3012.51     85.1803]\n",
      " [  85.1803 1489.3129]]\n",
      "\n",
      "\n",
      "1.5261030916885088\n",
      "[[3000.3399   86.2256]\n",
      " [  86.2256 1464.906 ]]\n",
      "\n",
      "\n",
      "1.3319114732465214\n",
      "[[3000.8845   87.2765]\n",
      " [  87.2765 1453.1996]]\n",
      "\n",
      "\n",
      "1.3873283509119707\n",
      "[[3003.3194   88.4013]\n",
      " [  88.4013 1441.0473]]\n",
      "\n",
      "\n",
      "1.2836473657536707\n",
      "[[2992.0934   89.4753]\n",
      " [  89.4753 1414.2998]]\n",
      "\n",
      "\n",
      "1.2497137509635126\n",
      "[[2974.4034   90.4288]\n",
      " [  90.4288 1398.034 ]]\n",
      "\n",
      "\n",
      "1.251755713223476\n",
      "[[2967.544    91.5634]\n",
      " [  91.5634 1377.8748]]\n",
      "\n",
      "\n",
      "1.363061743673403\n",
      "[[2951.6474   92.5007]\n",
      " [  92.5007 1357.2541]]\n",
      "\n",
      "\n",
      "2.5771580992309238\n",
      "[[2944.1277   93.4444]\n",
      " [  93.4444 1345.9513]]\n",
      "\n",
      "\n",
      "1.0893070165607344\n",
      "[[2926.3641   94.3868]\n",
      " [  94.3868 1323.3132]]\n",
      "\n",
      "\n",
      "1.2409612864584187\n",
      "[[2925.3556   95.4289]\n",
      " [  95.4289 1307.84  ]]\n",
      "\n",
      "\n",
      "1.2730110122092668\n",
      "[[2926.1129   96.5816]\n",
      " [  96.5816 1289.7566]]\n",
      "\n",
      "\n",
      "1.1020296438655612\n",
      "[[2923.6722   97.6103]\n",
      " [  97.6103 1280.5453]]\n",
      "\n",
      "\n",
      "1.4127881564775189\n",
      "[[2915.6487   98.5112]\n",
      " [  98.5112 1269.3009]]\n",
      "\n",
      "\n",
      "1.0976721372020943\n",
      "[[2903.2878   99.3905]\n",
      " [  99.3905 1251.4434]]\n",
      "\n",
      "\n",
      "1.1835540259878754\n",
      "[[2888.8516  100.2862]\n",
      " [ 100.2862 1235.8777]]\n",
      "\n",
      "\n",
      "1.0732898912597841\n",
      "[[2894.0316  101.4422]\n",
      " [ 101.4422 1223.4231]]\n",
      "\n",
      "\n",
      "1.1243443326625213\n",
      "[[2888.4587  102.4681]\n",
      " [ 102.4681 1211.2575]]\n",
      "\n",
      "\n",
      "1.3064509928206487\n",
      "[[2905.373   103.8195]\n",
      " [ 103.8195 1203.8718]]\n",
      "\n",
      "\n",
      "1.6401266083270434\n",
      "[[2890.7691  104.6239]\n",
      " [ 104.6239 1189.0438]]\n",
      "\n",
      "\n",
      "2.1919145931174673\n",
      "[[2879.002  105.571]\n",
      " [ 105.571 1177.483]]\n",
      "\n",
      "\n",
      "1.8372241466008377\n",
      "[[2877.1896  106.5567]\n",
      " [ 106.5567 1165.4691]]\n",
      "\n",
      "\n",
      "1.1718962264837147\n",
      "[[2878.3547  107.6047]\n",
      " [ 107.6047 1150.216 ]]\n",
      "\n",
      "\n",
      "1.089334113348401\n",
      "[[2874.4535  108.6423]\n",
      " [ 108.6423 1134.8886]]\n",
      "\n",
      "\n",
      "2.146384357882998\n",
      "[[2869.076   109.4424]\n",
      " [ 109.4424 1128.2191]]\n",
      "\n",
      "\n",
      "1.3406102756498588\n",
      "[[2862.9078  110.2861]\n",
      " [ 110.2861 1118.5319]]\n",
      "\n",
      "\n",
      "1.1570909049760942\n",
      "[[2855.3836  111.063 ]\n",
      " [ 111.063  1109.5725]]\n",
      "\n",
      "\n",
      "1.9341102259459704\n",
      "[[2851.9896  111.9538]\n",
      " [ 111.9538 1102.8764]]\n",
      "\n",
      "\n",
      "1.1028319445593304\n",
      "[[2838.9561  112.7052]\n",
      " [ 112.7052 1087.9253]]\n",
      "\n",
      "\n",
      "1.2266103850936352\n",
      "[[2822.6211  113.4101]\n",
      " [ 113.4101 1078.3983]]\n",
      "\n",
      "\n",
      "1.1248739928897793\n",
      "[[2827.1802  114.5375]\n",
      " [ 114.5375 1067.6829]]\n",
      "\n",
      "\n",
      "1.6123616132180731\n",
      "[[2818.8527  115.3303]\n",
      " [ 115.3303 1059.764 ]]\n",
      "\n",
      "\n",
      "1.1701590955227101\n",
      "[[2810.6967  116.1636]\n",
      " [ 116.1636 1050.303 ]]\n",
      "\n",
      "\n",
      "2.6136362407029683\n",
      "[[2812.5881  117.1323]\n",
      " [ 117.1323 1043.7302]]\n",
      "\n",
      "\n",
      "1.2707984688839873\n",
      "[[2814.3776  118.2386]\n",
      " [ 118.2386 1034.6594]]\n",
      "\n",
      "\n",
      "1.673704528281553\n",
      "[[2802.9276  118.9084]\n",
      " [ 118.9084 1027.4272]]\n",
      "\n",
      "\n",
      "1.1871648440989557\n",
      "[[2817.4046  120.1024]\n",
      " [ 120.1024 1019.2539]]\n",
      "\n",
      "\n",
      "1.3424059810371478\n",
      "[[2800.8404  120.7057]\n",
      " [ 120.7057 1007.7187]]\n",
      "\n",
      "\n",
      "1.0935901478634644\n",
      "[[2803.6413  121.7306]\n",
      " [ 121.7306 1000.9043]]\n",
      "\n",
      "\n",
      "1.5913692066683196\n",
      "[[2789.1271  122.2619]\n",
      " [ 122.2619  994.5314]]\n",
      "\n",
      "\n",
      "1.2616855639804556\n",
      "[[2765.1969  122.6947]\n",
      " [ 122.6947  983.1527]]\n",
      "\n",
      "\n",
      "1.2092884790150076\n",
      "[[2763.9873  123.5659]\n",
      " [ 123.5659  973.1939]]\n",
      "\n",
      "\n",
      "1.0911919484872348\n",
      "[[2759.5904  124.4818]\n",
      " [ 124.4818  959.387 ]]\n",
      "\n",
      "\n",
      "1.28940776115605\n",
      "[[2761.7574  125.2868]\n",
      " [ 125.2868  951.3622]]\n",
      "\n",
      "\n",
      "1.4830124680200427\n",
      "[[2752.7277  125.9584]\n",
      " [ 125.9584  942.8867]]\n",
      "\n",
      "\n",
      "1.356252344258782\n",
      "[[2738.1838  126.541 ]\n",
      " [ 126.541   936.2066]]\n",
      "\n",
      "\n",
      "1.3298735160861654\n",
      "[[2744.0549  127.506 ]\n",
      " [ 127.506   928.626 ]]\n",
      "\n",
      "\n",
      "1.5097004622726726\n",
      "[[2749.4679  128.4239]\n",
      " [ 128.4239  925.1558]]\n",
      "\n",
      "\n",
      "1.485892880814668\n",
      "[[2752.2564  129.3081]\n",
      " [ 129.3081  923.1583]]\n",
      "\n",
      "\n",
      "1.8646543089109036\n",
      "[[2741.9436  129.9434]\n",
      " [ 129.9434  916.2411]]\n",
      "\n",
      "\n",
      "1.2733501586436127\n",
      "[[2725.2604  130.3673]\n",
      " [ 130.3673  908.8456]]\n",
      "\n",
      "\n",
      "1.5420589541360563\n",
      "[[2726.0179  131.1926]\n",
      " [ 131.1926  901.5495]]\n",
      "\n",
      "\n",
      "1.1329774960416454\n",
      "[[2722.2775  132.0748]\n",
      " [ 132.0748  895.2004]]\n",
      "\n",
      "\n",
      "1.8163017026134947\n",
      "[[2735.9694  133.2525]\n",
      " [ 133.2525  885.4507]]\n",
      "\n",
      "\n",
      "1.1329108284607985\n",
      "[[2720.8191  133.6602]\n",
      " [ 133.6602  878.4005]]\n",
      "\n",
      "\n",
      "1.0756126731947617\n",
      "[[2724.9227  134.4411]\n",
      " [ 134.4411  882.338 ]]\n",
      "\n",
      "\n"
     ]
    },
    {
     "name": "stdout",
     "output_type": "stream",
     "text": [
      "1.2344580197133066\n",
      "[[2728.9998  135.3239]\n",
      " [ 135.3239  879.936 ]]\n",
      "\n",
      "\n",
      "1.33460267064484\n",
      "[[2729.813   136.0322]\n",
      " [ 136.0322  873.9546]]\n",
      "\n",
      "\n",
      "3.3072717741319426\n",
      "[[2723.1509  136.6383]\n",
      " [ 136.6383  869.513 ]]\n",
      "\n",
      "\n",
      "1.4905516067377769\n",
      "[[2733.5358  137.7646]\n",
      " [ 137.7646  860.4476]]\n",
      "\n",
      "\n",
      "1.2338789904734004\n",
      "[[2719.4443  138.1567]\n",
      " [ 138.1567  854.1276]]\n",
      "\n",
      "\n",
      "1.258973763428335\n",
      "[[2707.6706  138.7207]\n",
      " [ 138.7207  843.4043]]\n",
      "\n",
      "\n",
      "1.1837658663490398\n",
      "[[2688.6793  139.0107]\n",
      " [ 139.0107  841.103 ]]\n",
      "\n",
      "\n",
      "1.0474696001491863\n",
      "[[2677.8352  139.477 ]\n",
      " [ 139.477   836.163 ]]\n",
      "\n",
      "\n",
      "1.1255825172333385\n",
      "[[2675.2025  139.9804]\n",
      " [ 139.9804  833.6527]]\n",
      "\n",
      "\n",
      "1.2860245229704228\n",
      "[[2671.283   140.5633]\n",
      " [ 140.5633  827.6038]]\n",
      "\n",
      "\n",
      "1.335673473360885\n",
      "[[2684.604   141.6325]\n",
      " [ 141.6325  824.2551]]\n",
      "\n",
      "\n",
      "1.1495157476304172\n",
      "[[2682.8387  142.3779]\n",
      " [ 142.3779  819.7098]]\n",
      "\n",
      "\n",
      "1.1308139174322602\n",
      "[[2673.5757  142.9852]\n",
      " [ 142.9852  812.6939]]\n",
      "\n",
      "\n",
      "1.6594669215951205\n",
      "[[2671.4271  143.6708]\n",
      " [ 143.6708  806.1647]]\n",
      "\n",
      "\n",
      "1.2050153120414495\n",
      "[[2662.5416  144.1284]\n",
      " [ 144.1284  804.7532]]\n",
      "\n",
      "\n",
      "1.3034929738175935\n",
      "[[2670.5823  144.979 ]\n",
      " [ 144.979   803.2057]]\n",
      "\n",
      "\n",
      "1.1502952628402765\n",
      "[[2651.8794  145.1451]\n",
      " [ 145.1451  798.5534]]\n",
      "\n",
      "\n",
      "1.281692650593957\n",
      "[[2638.7368  145.3531]\n",
      " [ 145.3531  794.9508]]\n",
      "\n",
      "\n"
     ]
    },
    {
     "ename": "KeyboardInterrupt",
     "evalue": "",
     "output_type": "error",
     "traceback": [
      "\u001b[0;31m---------------------------------------------------------------------------\u001b[0m",
      "\u001b[0;31mKeyboardInterrupt\u001b[0m                         Traceback (most recent call last)",
      "\u001b[0;32m<timed exec>\u001b[0m in \u001b[0;36m<module>\u001b[0;34m()\u001b[0m\n",
      "\u001b[0;32m/usr/lib/python3.6/site-packages/tensorflow/python/client/session.py\u001b[0m in \u001b[0;36mrun\u001b[0;34m(self, fetches, feed_dict, options, run_metadata)\u001b[0m\n\u001b[1;32m    903\u001b[0m     \u001b[0;32mtry\u001b[0m\u001b[0;34m:\u001b[0m\u001b[0;34m\u001b[0m\u001b[0m\n\u001b[1;32m    904\u001b[0m       result = self._run(None, fetches, feed_dict, options_ptr,\n\u001b[0;32m--> 905\u001b[0;31m                          run_metadata_ptr)\n\u001b[0m\u001b[1;32m    906\u001b[0m       \u001b[0;32mif\u001b[0m \u001b[0mrun_metadata\u001b[0m\u001b[0;34m:\u001b[0m\u001b[0;34m\u001b[0m\u001b[0m\n\u001b[1;32m    907\u001b[0m         \u001b[0mproto_data\u001b[0m \u001b[0;34m=\u001b[0m \u001b[0mtf_session\u001b[0m\u001b[0;34m.\u001b[0m\u001b[0mTF_GetBuffer\u001b[0m\u001b[0;34m(\u001b[0m\u001b[0mrun_metadata_ptr\u001b[0m\u001b[0;34m)\u001b[0m\u001b[0;34m\u001b[0m\u001b[0m\n",
      "\u001b[0;32m/usr/lib/python3.6/site-packages/tensorflow/python/client/session.py\u001b[0m in \u001b[0;36m_run\u001b[0;34m(self, handle, fetches, feed_dict, options, run_metadata)\u001b[0m\n\u001b[1;32m   1135\u001b[0m     \u001b[0;32mif\u001b[0m \u001b[0mfinal_fetches\u001b[0m \u001b[0;32mor\u001b[0m \u001b[0mfinal_targets\u001b[0m \u001b[0;32mor\u001b[0m \u001b[0;34m(\u001b[0m\u001b[0mhandle\u001b[0m \u001b[0;32mand\u001b[0m \u001b[0mfeed_dict_tensor\u001b[0m\u001b[0;34m)\u001b[0m\u001b[0;34m:\u001b[0m\u001b[0;34m\u001b[0m\u001b[0m\n\u001b[1;32m   1136\u001b[0m       results = self._do_run(handle, final_targets, final_fetches,\n\u001b[0;32m-> 1137\u001b[0;31m                              feed_dict_tensor, options, run_metadata)\n\u001b[0m\u001b[1;32m   1138\u001b[0m     \u001b[0;32melse\u001b[0m\u001b[0;34m:\u001b[0m\u001b[0;34m\u001b[0m\u001b[0m\n\u001b[1;32m   1139\u001b[0m       \u001b[0mresults\u001b[0m \u001b[0;34m=\u001b[0m \u001b[0;34m[\u001b[0m\u001b[0;34m]\u001b[0m\u001b[0;34m\u001b[0m\u001b[0m\n",
      "\u001b[0;32m/usr/lib/python3.6/site-packages/tensorflow/python/client/session.py\u001b[0m in \u001b[0;36m_do_run\u001b[0;34m(self, handle, target_list, fetch_list, feed_dict, options, run_metadata)\u001b[0m\n\u001b[1;32m   1353\u001b[0m     \u001b[0;32mif\u001b[0m \u001b[0mhandle\u001b[0m \u001b[0;32mis\u001b[0m \u001b[0;32mNone\u001b[0m\u001b[0;34m:\u001b[0m\u001b[0;34m\u001b[0m\u001b[0m\n\u001b[1;32m   1354\u001b[0m       return self._do_call(_run_fn, self._session, feeds, fetches, targets,\n\u001b[0;32m-> 1355\u001b[0;31m                            options, run_metadata)\n\u001b[0m\u001b[1;32m   1356\u001b[0m     \u001b[0;32melse\u001b[0m\u001b[0;34m:\u001b[0m\u001b[0;34m\u001b[0m\u001b[0m\n\u001b[1;32m   1357\u001b[0m       \u001b[0;32mreturn\u001b[0m \u001b[0mself\u001b[0m\u001b[0;34m.\u001b[0m\u001b[0m_do_call\u001b[0m\u001b[0;34m(\u001b[0m\u001b[0m_prun_fn\u001b[0m\u001b[0;34m,\u001b[0m \u001b[0mself\u001b[0m\u001b[0;34m.\u001b[0m\u001b[0m_session\u001b[0m\u001b[0;34m,\u001b[0m \u001b[0mhandle\u001b[0m\u001b[0;34m,\u001b[0m \u001b[0mfeeds\u001b[0m\u001b[0;34m,\u001b[0m \u001b[0mfetches\u001b[0m\u001b[0;34m)\u001b[0m\u001b[0;34m\u001b[0m\u001b[0m\n",
      "\u001b[0;32m/usr/lib/python3.6/site-packages/tensorflow/python/client/session.py\u001b[0m in \u001b[0;36m_do_call\u001b[0;34m(self, fn, *args)\u001b[0m\n\u001b[1;32m   1359\u001b[0m   \u001b[0;32mdef\u001b[0m \u001b[0m_do_call\u001b[0m\u001b[0;34m(\u001b[0m\u001b[0mself\u001b[0m\u001b[0;34m,\u001b[0m \u001b[0mfn\u001b[0m\u001b[0;34m,\u001b[0m \u001b[0;34m*\u001b[0m\u001b[0margs\u001b[0m\u001b[0;34m)\u001b[0m\u001b[0;34m:\u001b[0m\u001b[0;34m\u001b[0m\u001b[0m\n\u001b[1;32m   1360\u001b[0m     \u001b[0;32mtry\u001b[0m\u001b[0;34m:\u001b[0m\u001b[0;34m\u001b[0m\u001b[0m\n\u001b[0;32m-> 1361\u001b[0;31m       \u001b[0;32mreturn\u001b[0m \u001b[0mfn\u001b[0m\u001b[0;34m(\u001b[0m\u001b[0;34m*\u001b[0m\u001b[0margs\u001b[0m\u001b[0;34m)\u001b[0m\u001b[0;34m\u001b[0m\u001b[0m\n\u001b[0m\u001b[1;32m   1362\u001b[0m     \u001b[0;32mexcept\u001b[0m \u001b[0merrors\u001b[0m\u001b[0;34m.\u001b[0m\u001b[0mOpError\u001b[0m \u001b[0;32mas\u001b[0m \u001b[0me\u001b[0m\u001b[0;34m:\u001b[0m\u001b[0;34m\u001b[0m\u001b[0m\n\u001b[1;32m   1363\u001b[0m       \u001b[0mmessage\u001b[0m \u001b[0;34m=\u001b[0m \u001b[0mcompat\u001b[0m\u001b[0;34m.\u001b[0m\u001b[0mas_text\u001b[0m\u001b[0;34m(\u001b[0m\u001b[0me\u001b[0m\u001b[0;34m.\u001b[0m\u001b[0mmessage\u001b[0m\u001b[0;34m)\u001b[0m\u001b[0;34m\u001b[0m\u001b[0m\n",
      "\u001b[0;32m/usr/lib/python3.6/site-packages/tensorflow/python/client/session.py\u001b[0m in \u001b[0;36m_run_fn\u001b[0;34m(session, feed_dict, fetch_list, target_list, options, run_metadata)\u001b[0m\n\u001b[1;32m   1338\u001b[0m         \u001b[0;32melse\u001b[0m\u001b[0;34m:\u001b[0m\u001b[0;34m\u001b[0m\u001b[0m\n\u001b[1;32m   1339\u001b[0m           return tf_session.TF_Run(session, options, feed_dict, fetch_list,\n\u001b[0;32m-> 1340\u001b[0;31m                                    target_list, status, run_metadata)\n\u001b[0m\u001b[1;32m   1341\u001b[0m \u001b[0;34m\u001b[0m\u001b[0m\n\u001b[1;32m   1342\u001b[0m     \u001b[0;32mdef\u001b[0m \u001b[0m_prun_fn\u001b[0m\u001b[0;34m(\u001b[0m\u001b[0msession\u001b[0m\u001b[0;34m,\u001b[0m \u001b[0mhandle\u001b[0m\u001b[0;34m,\u001b[0m \u001b[0mfeed_dict\u001b[0m\u001b[0;34m,\u001b[0m \u001b[0mfetch_list\u001b[0m\u001b[0;34m)\u001b[0m\u001b[0;34m:\u001b[0m\u001b[0;34m\u001b[0m\u001b[0m\n",
      "\u001b[0;31mKeyboardInterrupt\u001b[0m: "
     ]
    }
   ],
   "source": [
    "%%time\n",
    "for _ in range(500):\n",
    "    for _ in range(400):\n",
    "        l, _ = sess.run([loss, opt], {phase:True})\n",
    "    print(l)\n",
    "    print(PWalk.inverse_sigma.eval()[:3,:3])\n",
    "    print('\\n')"
   ]
  },
  {
   "cell_type": "code",
   "execution_count": 27,
   "metadata": {},
   "outputs": [],
   "source": [
    "out = tf.reshape(outputs, [n, dim[0], dim[1]])"
   ]
  },
  {
   "cell_type": "code",
   "execution_count": 28,
   "metadata": {},
   "outputs": [],
   "source": [
    "samples = []\n",
    "for _ in range(1000):\n",
    "    s = out.eval()\n",
    "    samples.append(s)\n",
    "samples = np.array(samples)"
   ]
  },
  {
   "cell_type": "code",
   "execution_count": 29,
   "metadata": {},
   "outputs": [
    {
     "data": {
      "text/plain": [
       "(1000, 32, 1, 2)"
      ]
     },
     "execution_count": 29,
     "metadata": {},
     "output_type": "execute_result"
    }
   ],
   "source": [
    "samples.shape"
   ]
  },
  {
   "cell_type": "code",
   "execution_count": 31,
   "metadata": {},
   "outputs": [
    {
     "data": {
      "image/png": "[encoded data removed]",
      "text/plain": [
       "<matplotlib.figure.Figure at 0x7fbb61b874a8>"
      ]
     },
     "metadata": {},
     "output_type": "display_data"
    }
   ],
   "source": [
    "sns.kdeplot(samples[:,1,0,0], samples[:,10,0,1])\n",
    "plt.show()"
   ]
  },
  {
   "cell_type": "code",
   "execution_count": 32,
   "metadata": {},
   "outputs": [
    {
     "data": {
      "text/plain": [
       "array([[ 0.3209, -0.6453]])"
      ]
     },
     "execution_count": 32,
     "metadata": {},
     "output_type": "execute_result"
    }
   ],
   "source": [
    "t = 18\n",
    "params[t]"
   ]
  },
  {
   "cell_type": "code",
   "execution_count": 33,
   "metadata": {},
   "outputs": [
    {
     "data": {
      "text/plain": [
       "array([[ 0.0956, -0.8461]])"
      ]
     },
     "execution_count": 33,
     "metadata": {},
     "output_type": "execute_result"
    }
   ],
   "source": [
    "np.mean(samples[:,t], axis=0)"
   ]
  },
  {
   "cell_type": "code",
   "execution_count": null,
   "metadata": {},
   "outputs": [],
   "source": []
  }
 ],
 "metadata": {
  "kernelspec": {
   "display_name": "Python 3.6 (sys p)",
   "language": "python",
   "name": "py3.6"
  },
  "language_info": {
   "codemirror_mode": {
    "name": "ipython",
    "version": 3
   },
   "file_extension": ".py",
   "mimetype": "text/x-python",
   "name": "python",
   "nbconvert_exporter": "python",
   "pygments_lexer": "ipython3",
   "version": "3.6.4"
  }
 },
 "nbformat": 4,
 "nbformat_minor": 2
}
