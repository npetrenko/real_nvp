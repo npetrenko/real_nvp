{
 "cells": [
  {
   "cell_type": "code",
   "execution_count": 1,
   "metadata": {},
   "outputs": [],
   "source": [
    "import tensorflow as tf\n",
    "from flows import NormalRW, DFlow, ResFlow, NVPFlow, phase, Normal, floatX, MVNormal, MVNormalRW\n",
    "import numpy as np\n",
    "from matplotlib import pyplot as plt\n",
    "import seaborn as sns\n",
    "\n",
    "np.random.seed(1234)"
   ]
  },
  {
   "cell_type": "code",
   "execution_count": null,
   "metadata": {},
   "outputs": [],
   "source": []
  },
  {
   "cell_type": "code",
   "execution_count": 2,
   "metadata": {},
   "outputs": [],
   "source": [
    "n = 32\n",
    "s1 = 0.01\n",
    "m1 = 0.\n",
    "s0 = 0.5\n",
    "dim = [2,3]\n",
    "\n",
    "params = []\n",
    "params.append(np.random.normal(size=dim, scale=s0))\n",
    "for i in range(n-1):\n",
    "    new = params[i] + np.random.normal(loc=m1, scale=s1, size=dim)\n",
    "    params.append(new)\n",
    "params = np.array(params)\n",
    "\n",
    "#PWalk = NormalRW(dim[0]*dim[1], sigma=s1, mu=m1, sigma0=s0)\n",
    "PWalk = MVNormalRW(dim[0]*dim[1], sigma=s1, sigma0=s0, name='param_walk_prior')"
   ]
  },
  {
   "cell_type": "code",
   "execution_count": 3,
   "metadata": {},
   "outputs": [
    {
     "data": {
      "text/plain": [
       "(32, 2, 3)"
      ]
     },
     "execution_count": 3,
     "metadata": {},
     "output_type": "execute_result"
    }
   ],
   "source": [
    "params.shape"
   ]
  },
  {
   "cell_type": "code",
   "execution_count": 4,
   "metadata": {},
   "outputs": [],
   "source": [
    "def autoregr(X, param):\n",
    "    d = param[:,:dim[-1]-1]\n",
    "    X = np.matmul(X, d) + param[:,-1][np.newaxis] + np.random.normal(size=[1,dim[-1]-1], scale=0.1)\n",
    "    return X\n",
    "\n",
    "def autoregr_tf(X, param):\n",
    "    d = param[:,:dim[-1]-1]\n",
    "    X = tf.matmul(X, d) + param[:,-1][np.newaxis]\n",
    "    return X"
   ]
  },
  {
   "cell_type": "code",
   "execution_count": 5,
   "metadata": {},
   "outputs": [],
   "source": [
    "xs = [np.random.normal(size=[1,dim[0]])]\n",
    "for i in range(n-1):\n",
    "    xs.append(autoregr(xs[i], params[i]))\n",
    "xs = np.concatenate(xs)[np.newaxis].astype(floatX)"
   ]
  },
  {
   "cell_type": "code",
   "execution_count": 6,
   "metadata": {},
   "outputs": [
    {
     "data": {
      "text/plain": [
       "array([[[-1.24765292,  0.24945522],\n",
       "        [ 0.44137076,  1.37305072],\n",
       "        [ 0.61883915, -0.22420247],\n",
       "        [ 0.88275465,  0.19877301],\n",
       "        [ 0.99636573, -0.27416369],\n",
       "        [ 0.91369646,  0.04250122]]])"
      ]
     },
     "execution_count": 6,
     "metadata": {},
     "output_type": "execute_result"
    }
   ],
   "source": [
    "xs[:,:6]"
   ]
  },
  {
   "cell_type": "code",
   "execution_count": 7,
   "metadata": {},
   "outputs": [],
   "source": [
    "def create_step_flow(name=None, prev_flow_output=None, init_sigma=1.):\n",
    "    with tf.variable_scope(name, reuse=False):\n",
    "        \n",
    "        if prev_flow_output is not None:\n",
    "            aux_vars = prev_flow_output\n",
    "        else:\n",
    "            aux_vars = None\n",
    "            \n",
    "        step_flow = DFlow([ResFlow(dim=dim[0]*dim[1], name='res{}'.format(i), aux_vars=aux_vars)\\\n",
    "                           for i in range(4)], init_sigma=init_sigma)\n",
    "    return step_flow"
   ]
  },
  {
   "cell_type": "code",
   "execution_count": 8,
   "metadata": {},
   "outputs": [],
   "source": [
    "flows = [create_step_flow('step_flow0', init_sigma=s0)]\n",
    "outputs = [flows[-1].output]\n",
    "for i in range(n-1):\n",
    "    new = create_step_flow('step_flow' + str(i+1), outputs[-1], init_sigma=s1)\n",
    "    flows.append(new)\n",
    "    outputs.append(outputs[-1] + new.output)"
   ]
  },
  {
   "cell_type": "code",
   "execution_count": 9,
   "metadata": {},
   "outputs": [],
   "source": [
    "outputs = tf.concat(outputs, axis=0)[tf.newaxis]"
   ]
  },
  {
   "cell_type": "code",
   "execution_count": 10,
   "metadata": {},
   "outputs": [
    {
     "data": {
      "text/plain": [
       "<tf.Tensor 'strided_slice:0' shape=(1, 32, 6) dtype=float64>"
      ]
     },
     "execution_count": 10,
     "metadata": {},
     "output_type": "execute_result"
    }
   ],
   "source": [
    "outputs"
   ]
  },
  {
   "cell_type": "code",
   "execution_count": 11,
   "metadata": {},
   "outputs": [],
   "source": [
    "prior = PWalk.logdens(outputs)"
   ]
  },
  {
   "cell_type": "code",
   "execution_count": 12,
   "metadata": {},
   "outputs": [
    {
     "data": {
      "text/plain": [
       "<tf.Tensor 'param_walk_prior_2/logdens/add:0' shape=() dtype=float64>"
      ]
     },
     "execution_count": 12,
     "metadata": {},
     "output_type": "execute_result"
    }
   ],
   "source": [
    "prior"
   ]
  },
  {
   "cell_type": "code",
   "execution_count": 13,
   "metadata": {},
   "outputs": [],
   "source": [
    "def create_loglik():\n",
    "    obs_d = Normal(dim=None, sigma=0.1, mu=0)\n",
    "    out = tf.reshape(outputs, [n, dim[0], dim[1]])\n",
    "    \n",
    "    ll = 0\n",
    "    for i in range(n-1):\n",
    "        pred = xs[0,i+1] - autoregr_tf(xs[0,i][np.newaxis], out[i])\n",
    "        ll += obs_d.logdens(pred)\n",
    "    return ll\n",
    "\n",
    "def create_loglik2():\n",
    "    obs_d = Normal(dim=None, sigma=0.1, mu=0)\n",
    "    out = tf.reshape(outputs, [n, dim[0], dim[1]])\n",
    "    \n",
    "    def step1(current):\n",
    "        X = current[0][np.newaxis]\n",
    "        param = current[1]\n",
    "        d = param[:,:dim[-1]-1]\n",
    "        X = tf.matmul(X, d)[0] + param[:,-1]\n",
    "        return X\n",
    "    \n",
    "    ar = tf.map_fn(step1, (xs[0][:-1], out[:-1]), dtype=tf.float64)\n",
    "    return obs_d.logdens(ar - xs[0][1:])"
   ]
  },
  {
   "cell_type": "code",
   "execution_count": 14,
   "metadata": {},
   "outputs": [],
   "source": [
    "logl = create_loglik2()"
   ]
  },
  {
   "cell_type": "code",
   "execution_count": 15,
   "metadata": {},
   "outputs": [],
   "source": [
    "ent = tf.reduce_sum([flow.logdens for flow in flows])"
   ]
  },
  {
   "cell_type": "code",
   "execution_count": 16,
   "metadata": {},
   "outputs": [
    {
     "data": {
      "text/plain": [
       "<tf.Tensor 'Sum_1:0' shape=() dtype=float64>"
      ]
     },
     "execution_count": 16,
     "metadata": {},
     "output_type": "execute_result"
    }
   ],
   "source": [
    "ent"
   ]
  },
  {
   "cell_type": "code",
   "execution_count": 17,
   "metadata": {},
   "outputs": [],
   "source": [
    "loss = -logl - prior + ent\n",
    "loss /= n*dim[0]*dim[1]"
   ]
  },
  {
   "cell_type": "code",
   "execution_count": 18,
   "metadata": {},
   "outputs": [],
   "source": [
    "opt = tf.train.AdamOptimizer(0.0001).minimize(loss)"
   ]
  },
  {
   "cell_type": "code",
   "execution_count": 19,
   "metadata": {},
   "outputs": [],
   "source": [
    "sess = tf.InteractiveSession()"
   ]
  },
  {
   "cell_type": "code",
   "execution_count": 20,
   "metadata": {},
   "outputs": [],
   "source": [
    "tf.global_variables_initializer().run()"
   ]
  },
  {
   "cell_type": "code",
   "execution_count": 21,
   "metadata": {},
   "outputs": [
    {
     "data": {
      "text/plain": [
       "(478.51181785838617, 792.2331595883334, -7161.860346694852)"
      ]
     },
     "execution_count": 21,
     "metadata": {},
     "output_type": "execute_result"
    }
   ],
   "source": [
    "prior.eval(), ent.eval(), logl.eval()"
   ]
  },
  {
   "cell_type": "code",
   "execution_count": 22,
   "metadata": {},
   "outputs": [
    {
     "data": {
      "text/plain": [
       "32.637170916789955"
      ]
     },
     "execution_count": 22,
     "metadata": {},
     "output_type": "execute_result"
    }
   ],
   "source": [
    "loss.eval()"
   ]
  },
  {
   "cell_type": "code",
   "execution_count": 23,
   "metadata": {},
   "outputs": [],
   "source": [
    "np.set_printoptions(precision=4)"
   ]
  },
  {
   "cell_type": "code",
   "execution_count": 24,
   "metadata": {},
   "outputs": [
    {
     "data": {
      "text/plain": [
       "array([[10000.    ,   105.7633,    51.3082],\n",
       "       [  105.7633, 10001.1186,   -54.099 ],\n",
       "       [   51.3082,   -54.099 , 10000.5618]])"
      ]
     },
     "execution_count": 24,
     "metadata": {},
     "output_type": "execute_result"
    }
   ],
   "source": [
    "PWalk.inverse_sigma.eval()[:3,:3]"
   ]
  },
  {
   "cell_type": "code",
   "execution_count": null,
   "metadata": {
    "scrolled": true
   },
   "outputs": [
    {
     "name": "stdout",
     "output_type": "stream",
     "text": [
      "3.3020148943182064\n",
      "[[9177.766   103.3239   45.2392]\n",
      " [ 103.3239 9349.578   -50.2795]\n",
      " [  45.2392  -50.2795 9201.3905]]\n",
      "\n",
      "\n",
      "4.050027744514246\n",
      "[[8462.2178  100.7649   39.2455]\n",
      " [ 100.7649 8803.1423  -46.9875]\n",
      " [  39.2455  -46.9875 8463.6865]]\n",
      "\n",
      "\n",
      "1.8719440106707899\n",
      "[[7875.2033   98.5072   34.3101]\n",
      " [  98.5072 8346.3297  -44.1404]\n",
      " [  34.3101  -44.1404 7849.5058]]\n",
      "\n",
      "\n",
      "4.441938012492052\n",
      "[[7382.798    96.3588   30.0766]\n",
      " [  96.3588 7922.5249  -41.7383]\n",
      " [  30.0766  -41.7383 7331.5028]]\n",
      "\n",
      "\n",
      "1.0729005287220883\n",
      "[[6980.6122   94.6018   26.5787]\n",
      " [  94.6018 7527.0216  -39.6512]\n",
      " [  26.5787  -39.6512 6914.7442]]\n",
      "\n",
      "\n",
      "4.22242929183994\n",
      "[[6606.0738   92.8031   23.2709]\n",
      " [  92.8031 7163.7536  -37.7856]\n",
      " [  23.2709  -37.7856 6526.6145]]\n",
      "\n",
      "\n",
      "3.6862155090374156\n",
      "[[6278.9074   90.9134   20.3754]\n",
      " [  90.9134 6864.5091  -36.4623]\n",
      " [  20.3754  -36.4623 6193.669 ]]\n",
      "\n",
      "\n",
      "4.497750169414223\n",
      "[[6018.3738   89.5457   18.0025]\n",
      " [  89.5457 6608.8209  -35.141 ]\n",
      " [  18.0025  -35.141  5925.9392]]\n",
      "\n",
      "\n",
      "3.780512804741729\n",
      "[[5766.8413   88.0364   15.6819]\n",
      " [  88.0364 6329.2313  -33.9181]\n",
      " [  15.6819  -33.9181 5666.2187]]\n",
      "\n",
      "\n",
      "3.083716312212186\n",
      "[[5541.2729   86.5822   13.5788]\n",
      " [  86.5822 6104.95    -33.0002]\n",
      " [  13.5788  -33.0002 5437.3748]]\n",
      "\n",
      "\n",
      "2.9705939607295675\n",
      "[[5315.1      85.0318   11.4557]\n",
      " [  85.0318 5866.9077  -32.0263]\n",
      " [  11.4557  -32.0263 5206.1618]]\n",
      "\n",
      "\n",
      "1.7657067959598527\n",
      "[[5098.85     83.4364    9.4105]\n",
      " [  83.4364 5659.5678  -31.2719]\n",
      " [   9.4105  -31.2719 4983.4167]]\n",
      "\n",
      "\n"
     ]
    }
   ],
   "source": [
    "%%time\n",
    "for _ in range(500):\n",
    "    for _ in range(400):\n",
    "        l, _ = sess.run([loss, opt], {phase:True})\n",
    "    print(l)\n",
    "    print(PWalk.inverse_sigma.eval()[:3,:3])\n",
    "    print('\\n')"
   ]
  },
  {
   "cell_type": "code",
   "execution_count": 24,
   "metadata": {},
   "outputs": [],
   "source": [
    "out = tf.reshape(outputs, [n, 3, 4])"
   ]
  },
  {
   "cell_type": "code",
   "execution_count": 25,
   "metadata": {},
   "outputs": [],
   "source": [
    "samples = []\n",
    "for _ in range(1000):\n",
    "    s = out.eval()\n",
    "    samples.append(s)\n",
    "samples = np.array(samples)"
   ]
  },
  {
   "cell_type": "code",
   "execution_count": 26,
   "metadata": {},
   "outputs": [
    {
     "data": {
      "text/plain": [
       "(1000, 32, 3, 4)"
      ]
     },
     "execution_count": 26,
     "metadata": {},
     "output_type": "execute_result"
    }
   ],
   "source": [
    "samples.shape"
   ]
  },
  {
   "cell_type": "code",
   "execution_count": 27,
   "metadata": {},
   "outputs": [
    {
     "data": {
      "image/png": "[encoded data removed]",
      "text/plain": [
       "<Figure size 432x288 with 1 Axes>"
      ]
     },
     "metadata": {},
     "output_type": "display_data"
    }
   ],
   "source": [
    "sns.kdeplot(samples[:,1,2,3], samples[:,1,2,1])\n",
    "plt.show()"
   ]
  },
  {
   "cell_type": "code",
   "execution_count": 28,
   "metadata": {},
   "outputs": [
    {
     "data": {
      "text/plain": [
       "array([[ 0.26256903, -0.6518162 ,  0.74696963, -0.15384126],\n",
       "       [-0.3732683 ,  0.49052328,  0.44550811, -0.37385512],\n",
       "       [ 0.05862716, -1.18001719,  0.62563793,  0.5192165 ]])"
      ]
     },
     "execution_count": 28,
     "metadata": {},
     "output_type": "execute_result"
    }
   ],
   "source": [
    "t = 18\n",
    "params[t]"
   ]
  },
  {
   "cell_type": "code",
   "execution_count": 29,
   "metadata": {},
   "outputs": [
    {
     "data": {
      "text/plain": [
       "array([[ 0.29352756, -0.48678149,  0.18031565,  0.13995509],\n",
       "       [-0.29175221,  0.56575757,  0.02895212, -0.53603244],\n",
       "       [ 0.01158709, -0.57025248,  0.31307119,  0.12096679]])"
      ]
     },
     "execution_count": 29,
     "metadata": {},
     "output_type": "execute_result"
    }
   ],
   "source": [
    "np.mean(samples[:,t], axis=0)"
   ]
  },
  {
   "cell_type": "code",
   "execution_count": null,
   "metadata": {},
   "outputs": [],
   "source": []
  }
 ],
 "metadata": {
  "kernelspec": {
   "display_name": "py3.6",
   "language": "python",
   "name": "py3.6"
  },
  "language_info": {
   "codemirror_mode": {
    "name": "ipython",
    "version": 3
   },
   "file_extension": ".py",
   "mimetype": "text/x-python",
   "name": "python",
   "nbconvert_exporter": "python",
   "pygments_lexer": "ipython3",
   "version": "3.6.4"
  }
 },
 "nbformat": 4,
 "nbformat_minor": 2
}
