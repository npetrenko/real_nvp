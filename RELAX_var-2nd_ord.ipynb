{
 "cells": [
  {
   "cell_type": "code",
   "execution_count": 1,
   "metadata": {},
   "outputs": [
    {
     "name": "stdout",
     "output_type": "stream",
     "text": [
      "WARNING:tensorflow:From /usr/lib/python3.6/site-packages/tensorflow/contrib/learn/python/learn/datasets/base.py:198: retry (from tensorflow.contrib.learn.python.learn.datasets.base) is deprecated and will be removed in a future version.\n",
      "Instructions for updating:\n",
      "Use the retry module or similar alternatives.\n"
     ]
    }
   ],
   "source": [
    "import tensorflow as tf\n",
    "from flows import NormalRW, DFlow, NVPFlow, LogNormal, GVAR, phase,\\\n",
    "Normal, floatX, MVNormal, MVNormalRW, Linear, LinearChol\n",
    "import flows\n",
    "\n",
    "import numpy as np\n",
    "import pandas as pd\n",
    "from matplotlib import pyplot as plt\n",
    "import seaborn as sns\n",
    "from tensorflow.contrib.distributions import WishartCholesky\n",
    "import math\n",
    "\n",
    "np.random.seed(1234)\n",
    "tf.set_random_seed(1234)"
   ]
  },
  {
   "cell_type": "code",
   "execution_count": 2,
   "metadata": {},
   "outputs": [],
   "source": [
    "data = pd.read_csv('./data/test_aus_data.csv').values.astype(floatX).T[np.newaxis][:,1:]/100"
   ]
  },
  {
   "cell_type": "code",
   "execution_count": 3,
   "metadata": {},
   "outputs": [],
   "source": [
    "# data = data[:,1:] - data[:,:-1]"
   ]
  },
  {
   "cell_type": "code",
   "execution_count": 4,
   "metadata": {},
   "outputs": [
    {
     "name": "stdout",
     "output_type": "stream",
     "text": [
      "[0.0186606  0.01934265 0.00918617]\n"
     ]
    }
   ],
   "source": [
    "stds = (data[0,1:] - data[0,:-1]).std(axis=0)\n",
    "print(stds)\n",
    "data /= stds"
   ]
  },
  {
   "cell_type": "code",
   "execution_count": 5,
   "metadata": {},
   "outputs": [
    {
     "data": {
      "text/plain": [
       "(1, 36, 6)"
      ]
     },
     "execution_count": 5,
     "metadata": {},
     "output_type": "execute_result"
    }
   ],
   "source": [
    "data = np.concatenate([data[:,1:], data[:,:-1]], axis=-1)\n",
    "data.shape"
   ]
  },
  {
   "cell_type": "code",
   "execution_count": 6,
   "metadata": {},
   "outputs": [
    {
     "data": {
      "text/plain": [
       "False"
      ]
     },
     "execution_count": 6,
     "metadata": {},
     "output_type": "execute_result"
    }
   ],
   "source": [
    "np.any(np.isnan(data))"
   ]
  },
  {
   "cell_type": "code",
   "execution_count": 7,
   "metadata": {},
   "outputs": [
    {
     "name": "stdout",
     "output_type": "stream",
     "text": [
      "<tensorflow.python.ops.variable_scope.VariableScope object at 0x7f89fa1ec940>\n",
      "<tensorflow.python.ops.variable_scope.VariableScope object at 0x7f89fa13c9b0>\n"
     ]
    }
   ],
   "source": [
    "NUM_STEPS = data.shape[1]\n",
    "\n",
    "with tf.variable_scope('walk_ord'):\n",
    "    s1_prior_d = LogNormal(1, mu=math.log(0.01), sigma=6.)\n",
    "\n",
    "    with tf.variable_scope('s1_inference', dtype=floatX):\n",
    "        mu = tf.get_variable('mu', shape=[1], initializer=tf.constant_initializer(s1_prior_d.mu))\n",
    "        logsigma = tf.get_variable('logsigma', shape=[1], \n",
    "                                   initializer=tf.constant_initializer(min(math.log(s1_prior_d.sigma), -1.)))\n",
    "        sigma = tf.exp(logsigma)\n",
    "        s1_d = LogNormal(1, mu=mu, sigma=sigma)\n",
    "    \n",
    "    s1 = s1_d.sample()\n",
    "    tf.summary.scalar('s1_ord', s1[0])\n",
    "    tf.add_to_collection('logdensities', s1_d.logdens(s1))\n",
    "    \n",
    "    s1_prior = s1_prior_d.logdens(s1)\n",
    "    tf.add_to_collection('priors', s1_prior)\n",
    "    \n",
    "#distribution for shock increase factor\n",
    "with tf.variable_scope('walk_shock'):\n",
    "    incr_prior_d = LogNormal(1, mu=math.log(1.), sigma=3.)\n",
    "\n",
    "    with tf.variable_scope('incr_inference', dtype=floatX):\n",
    "        mu = tf.get_variable('mu', shape=[1], initializer=tf.constant_initializer(incr_prior_d.mu))\n",
    "        logsigma = tf.get_variable('logsigma', shape=[1], \n",
    "                                   initializer=tf.constant_initializer(min(math.log(incr_prior_d.sigma), -1.)))\n",
    "        sigma = tf.exp(logsigma)\n",
    "        incr_d = LogNormal(1, mu=mu, sigma=sigma)\n",
    "\n",
    "    incr = incr_d.sample()\n",
    "    tf.add_to_collection('logdensities', incr_d.logdens(incr))\n",
    "    \n",
    "    incr_prior = incr_prior_d.logdens(incr)\n",
    "    tf.add_to_collection('priors', incr_prior)\n",
    "\n",
    "    incr += 1.3\n",
    "    s_shock = s1*incr\n",
    "    tf.summary.scalar('s1_shock', s_shock[0])\n",
    "    \n",
    "s0 = 80.\n",
    "dim = [3,3*2+1]\n",
    "\n",
    "K = dim[0] * dim[1]\n",
    "\n",
    "PWalk = NormalRW(dim=None, sigma0=s0, sigma=s1, name='OrdWalk')\n",
    "PWalk_shock = NormalRW(dim=None, sigma0=s0, sigma=s_shock, name='ShockWalk')"
   ]
  },
  {
   "cell_type": "code",
   "execution_count": 8,
   "metadata": {},
   "outputs": [],
   "source": [
    "#model coefficients\n",
    "gvar = GVAR(dim=dim[0]*dim[1], len=NUM_STEPS, name='coef_rw_inference')\n",
    "outputs = gvar.sample()\n",
    "# with tf.variable_scope('coefs_inference', dtype=floatX):\n",
    "#     gvar = DFlow([LinearChol(NUM_STEPS*dim[0]*dim[1], name='coef_rw_inference', use_bias=False)], init_sigma=0.02)\n",
    "#     outputs = tf.reshape(gvar.output, [1,NUM_STEPS, dim[0]*dim[1]])\n",
    "#     outputs = tf.cumsum(outputs, axis=1)\n",
    "#     mu = tf.get_variable('mu', [1,NUM_STEPS,dim[0]*dim[1]])\n",
    "#     outputs += mu\n",
    "\n",
    "tf.add_to_collection('logdensities', gvar.logdens)"
   ]
  },
  {
   "cell_type": "code",
   "execution_count": 9,
   "metadata": {},
   "outputs": [
    {
     "data": {
      "text/plain": [
       "<tf.Tensor 'coef_rw_inference_1/VAR/strided_slice_36:0' shape=(1, 36, 21) dtype=float64>"
      ]
     },
     "execution_count": 9,
     "metadata": {},
     "output_type": "execute_result"
    }
   ],
   "source": [
    "outputs"
   ]
  },
  {
   "cell_type": "code",
   "execution_count": 10,
   "metadata": {},
   "outputs": [],
   "source": [
    "prior_ord = PWalk.logdens(outputs, reduce=False)\n",
    "prior_shock = PWalk_shock.logdens(outputs, reduce=False)"
   ]
  },
  {
   "cell_type": "code",
   "execution_count": 11,
   "metadata": {},
   "outputs": [
    {
     "data": {
      "text/plain": [
       "(<tf.Tensor 'OrdWalk_2/concat:0' shape=(1, 36) dtype=float64>,\n",
       " <tf.Tensor 'ShockWalk_2/concat:0' shape=(1, 36) dtype=float64>)"
      ]
     },
     "execution_count": 11,
     "metadata": {},
     "output_type": "execute_result"
    }
   ],
   "source": [
    "prior_ord, prior_shock"
   ]
  },
  {
   "cell_type": "code",
   "execution_count": 12,
   "metadata": {},
   "outputs": [],
   "source": [
    "with tf.variable_scope('Shock_Distr', reuse=tf.AUTO_REUSE):\n",
    "    shock_init_d = Normal([1,8])\n",
    "    shock_init = shock_init_d.sample()\n",
    "    \n",
    "    tf.add_to_collection('logdensities', shock_init_d.logdens(shock_init))\n",
    "    \n",
    "    shock_d = flows.dvae.RMultinomial([data.shape[1], 2], name='shock_distr')\n",
    "    shocks_soft_uncond, shocks_soft_cond, (shocks_hard, shocks_hard_logp, encoding_entropy) =\\\n",
    "    shock_d.encode(shock_init)\n",
    "    \n",
    "    shocks_hard_logp = tf.reduce_sum(shocks_hard_logp)"
   ]
  },
  {
   "cell_type": "code",
   "execution_count": null,
   "metadata": {},
   "outputs": [],
   "source": []
  },
  {
   "cell_type": "code",
   "execution_count": 13,
   "metadata": {},
   "outputs": [
    {
     "data": {
      "text/plain": [
       "<tf.Tensor 'Shock_Distr/shock_distr/controls/Exp:0' shape=(36, 1) dtype=float64>"
      ]
     },
     "execution_count": 13,
     "metadata": {},
     "output_type": "execute_result"
    }
   ],
   "source": [
    "shock_d.temp"
   ]
  },
  {
   "cell_type": "code",
   "execution_count": 14,
   "metadata": {},
   "outputs": [
    {
     "data": {
      "text/plain": [
       "<tf.Tensor 'Shock_Distr/shock_distr_1/encoder/latent_inf/Cast_1:0' shape=(1, 36, 2) dtype=float64>"
      ]
     },
     "execution_count": 14,
     "metadata": {},
     "output_type": "execute_result"
    }
   ],
   "source": [
    "shocks_hard"
   ]
  },
  {
   "cell_type": "code",
   "execution_count": 15,
   "metadata": {},
   "outputs": [],
   "source": [
    "def create_hard_shock_prior(num_shocks):\n",
    "    def c(n,k):\n",
    "        from scipy.special import binom\n",
    "        return tf.py_func(lambda x,y: int(binom(int(x),int(y))), [n, k], tf.int64)\n",
    "    \n",
    "    with tf.variable_scope('shocks_prior'):\n",
    "        spd = tf.contrib.distributions.Poisson(rate=NUM_STEPS/10.)\n",
    "        denum = tf.cast(c(NUM_STEPS, num_shocks), floatX)\n",
    "        return tf.cast(spd.log_prob(tf.cast(num_shocks, tf.float32)), floatX) - tf.log(denum)"
   ]
  },
  {
   "cell_type": "code",
   "execution_count": 16,
   "metadata": {},
   "outputs": [],
   "source": [
    "def create_soft_shock_prior(num_shocks):\n",
    "#     return 0.\n",
    "    lower = tf.cast(tf.floor(num_shocks), floatX)\n",
    "    upper = lower + 1.\n",
    "    lh = create_hard_shock_prior(lower)\n",
    "    uh = create_hard_shock_prior(upper)\n",
    "    prop = num_shocks-lower\n",
    "    return lh*(1.-prop) + uh*prop"
   ]
  },
  {
   "cell_type": "code",
   "execution_count": null,
   "metadata": {},
   "outputs": [],
   "source": []
  },
  {
   "cell_type": "code",
   "execution_count": 17,
   "metadata": {},
   "outputs": [],
   "source": [
    "obs_d_prior = LogNormal(dim=None, mu=math.log(0.5), sigma=0.5)\n",
    "\n",
    "with tf.variable_scope('obs_d_inference', dtype=floatX):\n",
    "    mu = tf.get_variable('mu', shape=[1], initializer=tf.constant_initializer(math.log(0.5)))\n",
    "    logsigma = tf.get_variable('logsigma', shape=[1], initializer=tf.constant_initializer(-5))\n",
    "    sigma = tf.exp(logsigma)\n",
    "    \n",
    "    obs_d_post = LogNormal(1, mu=mu, sigma=sigma)\n",
    "    obs_ds = obs_d_post.sample()\n",
    "    \n",
    "    obs_ds_logdens = obs_d_post.logdens(obs_ds)\n",
    "    tf.add_to_collection('logdensities', obs_ds_logdens)\n",
    "    tf.add_to_collection('priors', obs_d_prior.logdens(obs_ds))\n",
    "    \n",
    "    tf.summary.scalar('observ_sigma', obs_ds[0])"
   ]
  },
  {
   "cell_type": "code",
   "execution_count": 18,
   "metadata": {},
   "outputs": [],
   "source": [
    "def create_param_walk_prior(shocks):\n",
    "    with tf.name_scope('RW_prior'):\n",
    "        tmp = tf.cast(shocks[:,:,1], floatX)\n",
    "        print(tmp, prior_shock)\n",
    "        prior = tmp*prior_shock + (1-tmp)*prior_ord\n",
    "        print(prior)\n",
    "        prior = tf.reduce_sum(prior) \n",
    "        return prior"
   ]
  },
  {
   "cell_type": "code",
   "execution_count": 19,
   "metadata": {},
   "outputs": [],
   "source": [
    "def predict(observable_mask):\n",
    "    out = tf.reshape(outputs, [NUM_STEPS, dim[0], dim[1]])\n",
    "    \n",
    "    def step(prev, x):\n",
    "        mask = x[0]\n",
    "        prev_pred = tf.where(mask, x[1], prev)[tf.newaxis]\n",
    "        params = x[2]\n",
    "        \n",
    "        d0 = params[:,:dim[0]]\n",
    "        d1 = params[:,dim[0]:2*dim[0]]\n",
    "        \n",
    "        pp1 = prev_pred[:,:dim[0]]\n",
    "        pp0 = prev_pred[:,dim[0]:2*dim[0]]\n",
    "        \n",
    "        new_pred = tf.matmul(pp0, d0)[0] + tf.matmul(pp1, d1)[0]+ params[:,-1] + pp1[0]\n",
    "        new_pred = tf.concat([new_pred, pp1[0]], axis=0)\n",
    "        return new_pred\n",
    "    \n",
    "    ar = tf.scan(step, [observable_mask, data[0], out], initializer=tf.zeros([2*dim[0]], dtype=floatX))\n",
    "    return ar"
   ]
  },
  {
   "cell_type": "code",
   "execution_count": 20,
   "metadata": {},
   "outputs": [
    {
     "data": {
      "text/plain": [
       "36"
      ]
     },
     "execution_count": 20,
     "metadata": {},
     "output_type": "execute_result"
    }
   ],
   "source": [
    "data.shape[1]"
   ]
  },
  {
   "cell_type": "code",
   "execution_count": 21,
   "metadata": {},
   "outputs": [],
   "source": [
    "stop_time = tf.placeholder_with_default(NUM_STEPS, ())\n",
    "predict_mask = tf.range(0, data.shape[1], dtype=tf.int32) < stop_time\n",
    "#используем в предсказаниях ровно stop_time последних наблюдений"
   ]
  },
  {
   "cell_type": "code",
   "execution_count": 22,
   "metadata": {},
   "outputs": [],
   "source": [
    "preds = predict(predict_mask)"
   ]
  },
  {
   "cell_type": "code",
   "execution_count": 23,
   "metadata": {},
   "outputs": [
    {
     "data": {
      "text/plain": [
       "<tf.Tensor 'scan/TensorArrayStack/TensorArrayGatherV3:0' shape=(36, 6) dtype=float64>"
      ]
     },
     "execution_count": 23,
     "metadata": {},
     "output_type": "execute_result"
    }
   ],
   "source": [
    "preds"
   ]
  },
  {
   "cell_type": "code",
   "execution_count": 24,
   "metadata": {},
   "outputs": [],
   "source": [
    "obs_d = Normal(dim=None, sigma=obs_ds, mu=0)\n",
    "\n",
    "diffs = preds[:-1] - data[0,1:]\n",
    "diffs = diffs[:,:dim[0]]\n",
    "\n",
    "logl = obs_d.logdens(diffs, reduce=False)\n",
    "logl *= tf.cast(predict_mask[:-1], floatX)[:,tf.newaxis]\n",
    "\n",
    "logl = tf.reduce_sum(logl)\n",
    "tf.add_to_collection('priors', logl)"
   ]
  },
  {
   "cell_type": "code",
   "execution_count": 25,
   "metadata": {},
   "outputs": [
    {
     "data": {
      "text/plain": [
       "<tf.Tensor 'strided_slice_1:0' shape=(35, 3) dtype=float64>"
      ]
     },
     "execution_count": 25,
     "metadata": {},
     "output_type": "execute_result"
    }
   ],
   "source": [
    "diffs"
   ]
  },
  {
   "cell_type": "code",
   "execution_count": 26,
   "metadata": {},
   "outputs": [
    {
     "data": {
      "text/plain": [
       "<tf.Tensor 'logl:0' shape=() dtype=string>"
      ]
     },
     "execution_count": 26,
     "metadata": {},
     "output_type": "execute_result"
    }
   ],
   "source": [
    "tf.summary.scalar('logl', logl)"
   ]
  },
  {
   "cell_type": "code",
   "execution_count": 27,
   "metadata": {},
   "outputs": [],
   "source": [
    "def create_kl(shocks, shocks_prior=0.):\n",
    "    logdens = tf.reduce_sum(tf.get_collection('logdensities'))\n",
    "    prior = tf.reduce_sum(tf.get_collection('priors'))\n",
    "    \n",
    "    param_walk_prior = create_param_walk_prior(shocks)\n",
    "    KLd = -prior + logdens - shocks_prior - param_walk_prior\n",
    "    KLd /= NUM_STEPS*dim[0]*dim[1]\n",
    "    return KLd"
   ]
  },
  {
   "cell_type": "code",
   "execution_count": 28,
   "metadata": {},
   "outputs": [
    {
     "data": {
      "text/plain": [
       "[<tf.Tensor 'walk_ord/LogNormal_2/Sum:0' shape=() dtype=float64>,\n",
       " <tf.Tensor 'walk_shock/LogNormal_2/Sum:0' shape=() dtype=float64>,\n",
       " <tf.Tensor 'coef_rw_inference_1/VAR/logdens/add:0' shape=() dtype=float64>,\n",
       " <tf.Tensor 'Shock_Distr/Normal_2/Sum:0' shape=() dtype=float64>,\n",
       " <tf.Tensor 'obs_d_inference/LogNormal_2/Sum:0' shape=() dtype=float64>]"
      ]
     },
     "execution_count": 28,
     "metadata": {},
     "output_type": "execute_result"
    }
   ],
   "source": [
    "tf.get_collection('logdensities')"
   ]
  },
  {
   "cell_type": "code",
   "execution_count": 29,
   "metadata": {},
   "outputs": [
    {
     "data": {
      "text/plain": [
       "[<tf.Tensor 'walk_ord/LogNormal_3/Sum:0' shape=() dtype=float64>,\n",
       " <tf.Tensor 'walk_shock/LogNormal_3/Sum:0' shape=() dtype=float64>,\n",
       " <tf.Tensor 'obs_d_inference/LogNormal_3/Sum:0' shape=() dtype=float64>,\n",
       " <tf.Tensor 'Sum:0' shape=() dtype=float64>]"
      ]
     },
     "execution_count": 29,
     "metadata": {},
     "output_type": "execute_result"
    }
   ],
   "source": [
    "tf.get_collection('priors')"
   ]
  },
  {
   "cell_type": "code",
   "execution_count": 30,
   "metadata": {},
   "outputs": [
    {
     "data": {
      "text/plain": [
       "<tf.Tensor 'Shock_Distr/shock_distr_1/encoder/latent_inf/Reshape_4:0' shape=(1, 36, 2) dtype=float64>"
      ]
     },
     "execution_count": 30,
     "metadata": {},
     "output_type": "execute_result"
    }
   ],
   "source": [
    "shocks_soft_cond"
   ]
  },
  {
   "cell_type": "code",
   "execution_count": 31,
   "metadata": {},
   "outputs": [
    {
     "name": "stdout",
     "output_type": "stream",
     "text": [
      "Tensor(\"RW_prior/strided_slice:0\", shape=(1, 36), dtype=float64) Tensor(\"ShockWalk_2/concat:0\", shape=(1, 36), dtype=float64)\n",
      "Tensor(\"RW_prior/add:0\", shape=(1, 36), dtype=float64)\n",
      "Tensor(\"RW_prior_1/strided_slice:0\", shape=(1, 36), dtype=float64) Tensor(\"ShockWalk_2/concat:0\", shape=(1, 36), dtype=float64)\n",
      "Tensor(\"RW_prior_1/add:0\", shape=(1, 36), dtype=float64)\n",
      "Tensor(\"RW_prior_2/strided_slice:0\", shape=(1, 36), dtype=float64) Tensor(\"ShockWalk_2/concat:0\", shape=(1, 36), dtype=float64)\n",
      "Tensor(\"RW_prior_2/add:0\", shape=(1, 36), dtype=float64)\n"
     ]
    }
   ],
   "source": [
    "num_shocks = tf.reduce_sum(shocks_soft_uncond[:,:,1:])\n",
    "ssp = create_soft_shock_prior(num_shocks) #- encoding_entropy\n",
    "soft_kl_uncond = create_kl(shocks_soft_uncond, shocks_prior=ssp)\n",
    "\n",
    "num_shocks = tf.reduce_sum(shocks_soft_cond[:,:,1:])\n",
    "ssp = create_soft_shock_prior(num_shocks) #- encoding_entropy\n",
    "soft_kl_cond = create_kl(shocks_soft_cond, shocks_prior=ssp)\n",
    "\n",
    "num_shocks = tf.reduce_sum(shocks_hard[:,:,1:])\n",
    "hard_shocks_prior = create_hard_shock_prior(num_shocks) - shocks_hard_logp\n",
    "hard_kl = create_kl(shocks_hard, shocks_prior=hard_shocks_prior)"
   ]
  },
  {
   "cell_type": "code",
   "execution_count": 32,
   "metadata": {},
   "outputs": [
    {
     "data": {
      "text/plain": [
       "<tf.Tensor 'num_shocks:0' shape=() dtype=string>"
      ]
     },
     "execution_count": 32,
     "metadata": {},
     "output_type": "execute_result"
    }
   ],
   "source": [
    "tf.summary.scalar('num_shocks', num_shocks)"
   ]
  },
  {
   "cell_type": "code",
   "execution_count": 33,
   "metadata": {},
   "outputs": [
    {
     "data": {
      "text/plain": [
       "<tf.Tensor 'Shock_Distr/Sum:0' shape=() dtype=float64>"
      ]
     },
     "execution_count": 33,
     "metadata": {},
     "output_type": "execute_result"
    }
   ],
   "source": [
    "shocks_hard_logp"
   ]
  },
  {
   "cell_type": "code",
   "execution_count": 34,
   "metadata": {},
   "outputs": [],
   "source": [
    "relax_cond = shock_d.build_relax(tf.reshape(shocks_soft_cond, [1,-1]))\n",
    "relax_uncond = shock_d.build_relax(tf.reshape(shocks_soft_uncond, [1,-1]))"
   ]
  },
  {
   "cell_type": "code",
   "execution_count": 35,
   "metadata": {},
   "outputs": [
    {
     "data": {
      "text/plain": [
       "<tf.Tensor 'truediv_1:0' shape=<unknown> dtype=float64>"
      ]
     },
     "execution_count": 35,
     "metadata": {},
     "output_type": "execute_result"
    }
   ],
   "source": [
    "soft_kl_cond"
   ]
  },
  {
   "cell_type": "code",
   "execution_count": 36,
   "metadata": {},
   "outputs": [],
   "source": [
    "eta = shock_d.eta\n",
    "\n",
    "soft_control_cond = eta*soft_kl_cond + relax_cond\n",
    "soft_control_uncond = eta*soft_kl_uncond - eta*soft_kl_cond - relax_cond + relax_uncond\n",
    "\n",
    "stoped_grad = hard_kl - soft_control_cond# - nvil_baseline\n",
    "\n",
    "target = shocks_hard_logp*stoped_grad + soft_control_uncond\n",
    "target = tf.reduce_mean(target)"
   ]
  },
  {
   "cell_type": "code",
   "execution_count": 37,
   "metadata": {},
   "outputs": [
    {
     "data": {
      "text/plain": [
       "<tf.Tensor 'add_8:0' shape=<unknown> dtype=float64>"
      ]
     },
     "execution_count": 37,
     "metadata": {},
     "output_type": "execute_result"
    }
   ],
   "source": [
    "soft_control_uncond"
   ]
  },
  {
   "cell_type": "code",
   "execution_count": 38,
   "metadata": {},
   "outputs": [],
   "source": [
    "shock_vars = shock_d.get_encoder_vars()"
   ]
  },
  {
   "cell_type": "code",
   "execution_count": 39,
   "metadata": {},
   "outputs": [],
   "source": [
    "shock_vars_grad = tf.gradients(target, shock_vars, stop_gradients=stoped_grad)"
   ]
  },
  {
   "cell_type": "code",
   "execution_count": 40,
   "metadata": {},
   "outputs": [],
   "source": [
    "controls = shock_d.get_control_vars()\n",
    "cv_loss = shock_d.build_control_loss(shock_vars_grad)\n",
    "\n",
    "tf.summary.scalar('cv_loss', cv_loss)\n",
    "\n",
    "cv_gradients = tf.gradients(cv_loss, controls)"
   ]
  },
  {
   "cell_type": "code",
   "execution_count": 41,
   "metadata": {},
   "outputs": [],
   "source": [
    "rest_vars = [x for x in tf.global_variables() if not (x in controls or x in shock_vars)]\n",
    "rest_gradients = tf.gradients(hard_kl, rest_vars)"
   ]
  },
  {
   "cell_type": "code",
   "execution_count": 42,
   "metadata": {},
   "outputs": [
    {
     "data": {
      "text/plain": [
       "[<tf.Variable 'walk_ord/s1_inference/mu:0' shape=(1,) dtype=float64_ref>,\n",
       " <tf.Variable 'walk_ord/s1_inference/logsigma:0' shape=(1,) dtype=float64_ref>,\n",
       " <tf.Variable 'walk_shock/incr_inference/mu:0' shape=(1,) dtype=float64_ref>,\n",
       " <tf.Variable 'walk_shock/incr_inference/logsigma:0' shape=(1,) dtype=float64_ref>,\n",
       " <tf.Variable 'coef_rw_inference/lc_0/lowerd:0' shape=(231,) dtype=float64_ref>,\n",
       " <tf.Variable 'coef_rw_inference/lc_0/ldiag:0' shape=(21,) dtype=float64_ref>,\n",
       " <tf.Variable 'coef_rw_inference/lc_1/lowerd:0' shape=(231,) dtype=float64_ref>,\n",
       " <tf.Variable 'coef_rw_inference/lc_1/ldiag:0' shape=(21,) dtype=float64_ref>,\n",
       " <tf.Variable 'coef_rw_inference/lc_1/W:0' shape=(21, 21) dtype=float64_ref>,\n",
       " <tf.Variable 'coef_rw_inference/lc_2/lowerd:0' shape=(231,) dtype=float64_ref>,\n",
       " <tf.Variable 'coef_rw_inference/lc_2/ldiag:0' shape=(21,) dtype=float64_ref>,\n",
       " <tf.Variable 'coef_rw_inference/lc_2/W:0' shape=(21, 21) dtype=float64_ref>,\n",
       " <tf.Variable 'coef_rw_inference/lc_3/lowerd:0' shape=(231,) dtype=float64_ref>,\n",
       " <tf.Variable 'coef_rw_inference/lc_3/ldiag:0' shape=(21,) dtype=float64_ref>,\n",
       " <tf.Variable 'coef_rw_inference/lc_3/W:0' shape=(21, 21) dtype=float64_ref>,\n",
       " <tf.Variable 'coef_rw_inference/lc_4/lowerd:0' shape=(231,) dtype=float64_ref>,\n",
       " <tf.Variable 'coef_rw_inference/lc_4/ldiag:0' shape=(21,) dtype=float64_ref>,\n",
       " <tf.Variable 'coef_rw_inference/lc_4/W:0' shape=(21, 21) dtype=float64_ref>,\n",
       " <tf.Variable 'coef_rw_inference/lc_5/lowerd:0' shape=(231,) dtype=float64_ref>,\n",
       " <tf.Variable 'coef_rw_inference/lc_5/ldiag:0' shape=(21,) dtype=float64_ref>,\n",
       " <tf.Variable 'coef_rw_inference/lc_5/W:0' shape=(21, 21) dtype=float64_ref>,\n",
       " <tf.Variable 'coef_rw_inference/lc_6/lowerd:0' shape=(231,) dtype=float64_ref>,\n",
       " <tf.Variable 'coef_rw_inference/lc_6/ldiag:0' shape=(21,) dtype=float64_ref>,\n",
       " <tf.Variable 'coef_rw_inference/lc_6/W:0' shape=(21, 21) dtype=float64_ref>,\n",
       " <tf.Variable 'coef_rw_inference/lc_7/lowerd:0' shape=(231,) dtype=float64_ref>,\n",
       " <tf.Variable 'coef_rw_inference/lc_7/ldiag:0' shape=(21,) dtype=float64_ref>,\n",
       " <tf.Variable 'coef_rw_inference/lc_7/W:0' shape=(21, 21) dtype=float64_ref>,\n",
       " <tf.Variable 'coef_rw_inference/lc_8/lowerd:0' shape=(231,) dtype=float64_ref>,\n",
       " <tf.Variable 'coef_rw_inference/lc_8/ldiag:0' shape=(21,) dtype=float64_ref>,\n",
       " <tf.Variable 'coef_rw_inference/lc_8/W:0' shape=(21, 21) dtype=float64_ref>,\n",
       " <tf.Variable 'coef_rw_inference/lc_9/lowerd:0' shape=(231,) dtype=float64_ref>,\n",
       " <tf.Variable 'coef_rw_inference/lc_9/ldiag:0' shape=(21,) dtype=float64_ref>,\n",
       " <tf.Variable 'coef_rw_inference/lc_9/W:0' shape=(21, 21) dtype=float64_ref>,\n",
       " <tf.Variable 'coef_rw_inference/lc_10/lowerd:0' shape=(231,) dtype=float64_ref>,\n",
       " <tf.Variable 'coef_rw_inference/lc_10/ldiag:0' shape=(21,) dtype=float64_ref>,\n",
       " <tf.Variable 'coef_rw_inference/lc_10/W:0' shape=(21, 21) dtype=float64_ref>,\n",
       " <tf.Variable 'coef_rw_inference/lc_11/lowerd:0' shape=(231,) dtype=float64_ref>,\n",
       " <tf.Variable 'coef_rw_inference/lc_11/ldiag:0' shape=(21,) dtype=float64_ref>,\n",
       " <tf.Variable 'coef_rw_inference/lc_11/W:0' shape=(21, 21) dtype=float64_ref>,\n",
       " <tf.Variable 'coef_rw_inference/lc_12/lowerd:0' shape=(231,) dtype=float64_ref>,\n",
       " <tf.Variable 'coef_rw_inference/lc_12/ldiag:0' shape=(21,) dtype=float64_ref>,\n",
       " <tf.Variable 'coef_rw_inference/lc_12/W:0' shape=(21, 21) dtype=float64_ref>,\n",
       " <tf.Variable 'coef_rw_inference/lc_13/lowerd:0' shape=(231,) dtype=float64_ref>,\n",
       " <tf.Variable 'coef_rw_inference/lc_13/ldiag:0' shape=(21,) dtype=float64_ref>,\n",
       " <tf.Variable 'coef_rw_inference/lc_13/W:0' shape=(21, 21) dtype=float64_ref>,\n",
       " <tf.Variable 'coef_rw_inference/lc_14/lowerd:0' shape=(231,) dtype=float64_ref>,\n",
       " <tf.Variable 'coef_rw_inference/lc_14/ldiag:0' shape=(21,) dtype=float64_ref>,\n",
       " <tf.Variable 'coef_rw_inference/lc_14/W:0' shape=(21, 21) dtype=float64_ref>,\n",
       " <tf.Variable 'coef_rw_inference/lc_15/lowerd:0' shape=(231,) dtype=float64_ref>,\n",
       " <tf.Variable 'coef_rw_inference/lc_15/ldiag:0' shape=(21,) dtype=float64_ref>,\n",
       " <tf.Variable 'coef_rw_inference/lc_15/W:0' shape=(21, 21) dtype=float64_ref>,\n",
       " <tf.Variable 'coef_rw_inference/lc_16/lowerd:0' shape=(231,) dtype=float64_ref>,\n",
       " <tf.Variable 'coef_rw_inference/lc_16/ldiag:0' shape=(21,) dtype=float64_ref>,\n",
       " <tf.Variable 'coef_rw_inference/lc_16/W:0' shape=(21, 21) dtype=float64_ref>,\n",
       " <tf.Variable 'coef_rw_inference/lc_17/lowerd:0' shape=(231,) dtype=float64_ref>,\n",
       " <tf.Variable 'coef_rw_inference/lc_17/ldiag:0' shape=(21,) dtype=float64_ref>,\n",
       " <tf.Variable 'coef_rw_inference/lc_17/W:0' shape=(21, 21) dtype=float64_ref>,\n",
       " <tf.Variable 'coef_rw_inference/lc_18/lowerd:0' shape=(231,) dtype=float64_ref>,\n",
       " <tf.Variable 'coef_rw_inference/lc_18/ldiag:0' shape=(21,) dtype=float64_ref>,\n",
       " <tf.Variable 'coef_rw_inference/lc_18/W:0' shape=(21, 21) dtype=float64_ref>,\n",
       " <tf.Variable 'coef_rw_inference/lc_19/lowerd:0' shape=(231,) dtype=float64_ref>,\n",
       " <tf.Variable 'coef_rw_inference/lc_19/ldiag:0' shape=(21,) dtype=float64_ref>,\n",
       " <tf.Variable 'coef_rw_inference/lc_19/W:0' shape=(21, 21) dtype=float64_ref>,\n",
       " <tf.Variable 'coef_rw_inference/lc_20/lowerd:0' shape=(231,) dtype=float64_ref>,\n",
       " <tf.Variable 'coef_rw_inference/lc_20/ldiag:0' shape=(21,) dtype=float64_ref>,\n",
       " <tf.Variable 'coef_rw_inference/lc_20/W:0' shape=(21, 21) dtype=float64_ref>,\n",
       " <tf.Variable 'coef_rw_inference/lc_21/lowerd:0' shape=(231,) dtype=float64_ref>,\n",
       " <tf.Variable 'coef_rw_inference/lc_21/ldiag:0' shape=(21,) dtype=float64_ref>,\n",
       " <tf.Variable 'coef_rw_inference/lc_21/W:0' shape=(21, 21) dtype=float64_ref>,\n",
       " <tf.Variable 'coef_rw_inference/lc_22/lowerd:0' shape=(231,) dtype=float64_ref>,\n",
       " <tf.Variable 'coef_rw_inference/lc_22/ldiag:0' shape=(21,) dtype=float64_ref>,\n",
       " <tf.Variable 'coef_rw_inference/lc_22/W:0' shape=(21, 21) dtype=float64_ref>,\n",
       " <tf.Variable 'coef_rw_inference/lc_23/lowerd:0' shape=(231,) dtype=float64_ref>,\n",
       " <tf.Variable 'coef_rw_inference/lc_23/ldiag:0' shape=(21,) dtype=float64_ref>,\n",
       " <tf.Variable 'coef_rw_inference/lc_23/W:0' shape=(21, 21) dtype=float64_ref>,\n",
       " <tf.Variable 'coef_rw_inference/lc_24/lowerd:0' shape=(231,) dtype=float64_ref>,\n",
       " <tf.Variable 'coef_rw_inference/lc_24/ldiag:0' shape=(21,) dtype=float64_ref>,\n",
       " <tf.Variable 'coef_rw_inference/lc_24/W:0' shape=(21, 21) dtype=float64_ref>,\n",
       " <tf.Variable 'coef_rw_inference/lc_25/lowerd:0' shape=(231,) dtype=float64_ref>,\n",
       " <tf.Variable 'coef_rw_inference/lc_25/ldiag:0' shape=(21,) dtype=float64_ref>,\n",
       " <tf.Variable 'coef_rw_inference/lc_25/W:0' shape=(21, 21) dtype=float64_ref>,\n",
       " <tf.Variable 'coef_rw_inference/lc_26/lowerd:0' shape=(231,) dtype=float64_ref>,\n",
       " <tf.Variable 'coef_rw_inference/lc_26/ldiag:0' shape=(21,) dtype=float64_ref>,\n",
       " <tf.Variable 'coef_rw_inference/lc_26/W:0' shape=(21, 21) dtype=float64_ref>,\n",
       " <tf.Variable 'coef_rw_inference/lc_27/lowerd:0' shape=(231,) dtype=float64_ref>,\n",
       " <tf.Variable 'coef_rw_inference/lc_27/ldiag:0' shape=(21,) dtype=float64_ref>,\n",
       " <tf.Variable 'coef_rw_inference/lc_27/W:0' shape=(21, 21) dtype=float64_ref>,\n",
       " <tf.Variable 'coef_rw_inference/lc_28/lowerd:0' shape=(231,) dtype=float64_ref>,\n",
       " <tf.Variable 'coef_rw_inference/lc_28/ldiag:0' shape=(21,) dtype=float64_ref>,\n",
       " <tf.Variable 'coef_rw_inference/lc_28/W:0' shape=(21, 21) dtype=float64_ref>,\n",
       " <tf.Variable 'coef_rw_inference/lc_29/lowerd:0' shape=(231,) dtype=float64_ref>,\n",
       " <tf.Variable 'coef_rw_inference/lc_29/ldiag:0' shape=(21,) dtype=float64_ref>,\n",
       " <tf.Variable 'coef_rw_inference/lc_29/W:0' shape=(21, 21) dtype=float64_ref>,\n",
       " <tf.Variable 'coef_rw_inference/lc_30/lowerd:0' shape=(231,) dtype=float64_ref>,\n",
       " <tf.Variable 'coef_rw_inference/lc_30/ldiag:0' shape=(21,) dtype=float64_ref>,\n",
       " <tf.Variable 'coef_rw_inference/lc_30/W:0' shape=(21, 21) dtype=float64_ref>,\n",
       " <tf.Variable 'coef_rw_inference/lc_31/lowerd:0' shape=(231,) dtype=float64_ref>,\n",
       " <tf.Variable 'coef_rw_inference/lc_31/ldiag:0' shape=(21,) dtype=float64_ref>,\n",
       " <tf.Variable 'coef_rw_inference/lc_31/W:0' shape=(21, 21) dtype=float64_ref>,\n",
       " <tf.Variable 'coef_rw_inference/lc_32/lowerd:0' shape=(231,) dtype=float64_ref>,\n",
       " <tf.Variable 'coef_rw_inference/lc_32/ldiag:0' shape=(21,) dtype=float64_ref>,\n",
       " <tf.Variable 'coef_rw_inference/lc_32/W:0' shape=(21, 21) dtype=float64_ref>,\n",
       " <tf.Variable 'coef_rw_inference/lc_33/lowerd:0' shape=(231,) dtype=float64_ref>,\n",
       " <tf.Variable 'coef_rw_inference/lc_33/ldiag:0' shape=(21,) dtype=float64_ref>,\n",
       " <tf.Variable 'coef_rw_inference/lc_33/W:0' shape=(21, 21) dtype=float64_ref>,\n",
       " <tf.Variable 'coef_rw_inference/lc_34/lowerd:0' shape=(231,) dtype=float64_ref>,\n",
       " <tf.Variable 'coef_rw_inference/lc_34/ldiag:0' shape=(21,) dtype=float64_ref>,\n",
       " <tf.Variable 'coef_rw_inference/lc_34/W:0' shape=(21, 21) dtype=float64_ref>,\n",
       " <tf.Variable 'coef_rw_inference/lc_35/lowerd:0' shape=(231,) dtype=float64_ref>,\n",
       " <tf.Variable 'coef_rw_inference/lc_35/ldiag:0' shape=(21,) dtype=float64_ref>,\n",
       " <tf.Variable 'coef_rw_inference/lc_35/W:0' shape=(21, 21) dtype=float64_ref>,\n",
       " <tf.Variable 'coef_rw_inference/mu:0' shape=(36, 21) dtype=float64_ref>,\n",
       " <tf.Variable 'obs_d_inference/mu:0' shape=(1,) dtype=float64_ref>,\n",
       " <tf.Variable 'obs_d_inference/logsigma:0' shape=(1,) dtype=float64_ref>]"
      ]
     },
     "execution_count": 42,
     "metadata": {},
     "output_type": "execute_result"
    }
   ],
   "source": [
    "rest_vars"
   ]
  },
  {
   "cell_type": "code",
   "execution_count": 43,
   "metadata": {},
   "outputs": [],
   "source": [
    "all_vars = shock_vars + rest_vars \n",
    "grads = shock_vars_grad + rest_gradients\n",
    "main_updates = [(g,x) for x,g in zip(all_vars, grads)]\n",
    "control_updates = [(g,x) for x,g in zip(controls, cv_gradients)]"
   ]
  },
  {
   "cell_type": "code",
   "execution_count": 44,
   "metadata": {},
   "outputs": [
    {
     "data": {
      "text/plain": [
       "<tf.Tensor 'KLd:0' shape=() dtype=string>"
      ]
     },
     "execution_count": 44,
     "metadata": {},
     "output_type": "execute_result"
    }
   ],
   "source": [
    "tf.summary.scalar('KLd', hard_kl)"
   ]
  },
  {
   "cell_type": "code",
   "execution_count": 45,
   "metadata": {},
   "outputs": [],
   "source": [
    "lr = tf.Variable(0.0001)\n",
    "main_opt = tf.train.AdamOptimizer(lr).apply_gradients(main_updates)\n",
    "cont_opt = tf.train.AdamOptimizer(0.0003).apply_gradients(control_updates)"
   ]
  },
  {
   "cell_type": "code",
   "execution_count": 46,
   "metadata": {},
   "outputs": [
    {
     "data": {
      "text/plain": [
       "[(<tf.Tensor 'gradients_1/Shock_Distr/shock_distr/controls/Exp_grad/mul:0' shape=(36, 1) dtype=float64>,\n",
       "  <tf.Variable 'Shock_Distr/shock_distr/controls/pretemp:0' shape=(36, 1) dtype=float64_ref>),\n",
       " (<tf.Tensor 'gradients_1/Shock_Distr/shock_distr/controls/Exp_1_grad/mul:0' shape=() dtype=float64>,\n",
       "  <tf.Variable 'Shock_Distr/shock_distr/controls/preeta:0' shape=() dtype=float64_ref>),\n",
       " (<tf.Tensor 'gradients_1/AddN_30:0' shape=(72, 128) dtype=float64>,\n",
       "  <tf.Variable 'Shock_Distr/shock_distr/controls/RELAX/FCN/d0/W:0' shape=(72, 128) dtype=float64_ref>),\n",
       " (<tf.Tensor 'gradients_1/AddN_29:0' shape=(1, 128) dtype=float64>,\n",
       "  <tf.Variable 'Shock_Distr/shock_distr/controls/RELAX/FCN/d0/b:0' shape=(1, 128) dtype=float64_ref>),\n",
       " (<tf.Tensor 'gradients_1/AddN_24:0' shape=(128, 64) dtype=float64>,\n",
       "  <tf.Variable 'Shock_Distr/shock_distr/controls/RELAX/FCN/d1/W:0' shape=(128, 64) dtype=float64_ref>),\n",
       " (<tf.Tensor 'gradients_1/AddN_22:0' shape=(1, 64) dtype=float64>,\n",
       "  <tf.Variable 'Shock_Distr/shock_distr/controls/RELAX/FCN/d1/b:0' shape=(1, 64) dtype=float64_ref>),\n",
       " (<tf.Tensor 'gradients_1/AddN_20:0' shape=(64, 1) dtype=float64>,\n",
       "  <tf.Variable 'Shock_Distr/shock_distr/controls/RELAX/FCN/d2/W:0' shape=(64, 1) dtype=float64_ref>),\n",
       " (<tf.Tensor 'gradients_1/shock_distr/RELAX/FCN/strided_slice_grad/StridedSliceGrad:0' shape=(1, 1) dtype=float64>,\n",
       "  <tf.Variable 'Shock_Distr/shock_distr/controls/RELAX/FCN/d2/b:0' shape=(1, 1) dtype=float64_ref>)]"
      ]
     },
     "execution_count": 46,
     "metadata": {},
     "output_type": "execute_result"
    }
   ],
   "source": [
    "control_updates"
   ]
  },
  {
   "cell_type": "code",
   "execution_count": 47,
   "metadata": {},
   "outputs": [],
   "source": [
    "opt = [main_opt, cont_opt]"
   ]
  },
  {
   "cell_type": "code",
   "execution_count": 48,
   "metadata": {},
   "outputs": [],
   "source": [
    "sess = tf.InteractiveSession()"
   ]
  },
  {
   "cell_type": "code",
   "execution_count": 49,
   "metadata": {},
   "outputs": [],
   "source": [
    "# !rm -R /tmp/tfdbg"
   ]
  },
  {
   "cell_type": "code",
   "execution_count": 50,
   "metadata": {},
   "outputs": [
    {
     "name": "stdout",
     "output_type": "stream",
     "text": [
      "mkdir: cannot create directory ‘/tmp/tfdbg’: File exists\r\n"
     ]
    }
   ],
   "source": [
    "!mkdir /tmp/tfdbg\n",
    "writer = tf.summary.FileWriter('/tmp/tfdbg/proper_prior_var_aus_rate10_2nd_order_fdif-init-uninformative-better_init')"
   ]
  },
  {
   "cell_type": "code",
   "execution_count": 51,
   "metadata": {},
   "outputs": [],
   "source": [
    "writer.add_graph(tf.get_default_graph())"
   ]
  },
  {
   "cell_type": "code",
   "execution_count": 52,
   "metadata": {},
   "outputs": [],
   "source": [
    "tf.global_variables_initializer().run()"
   ]
  },
  {
   "cell_type": "code",
   "execution_count": 53,
   "metadata": {},
   "outputs": [
    {
     "data": {
      "text/plain": [
       "1.0465753006116203"
      ]
     },
     "execution_count": 53,
     "metadata": {},
     "output_type": "execute_result"
    }
   ],
   "source": [
    "hard_kl.eval()"
   ]
  },
  {
   "cell_type": "code",
   "execution_count": 54,
   "metadata": {},
   "outputs": [
    {
     "data": {
      "text/plain": [
       "<tf.Tensor 'gradients_1/Shock_Distr/shock_distr/controls/Exp_grad/mul:0' shape=(36, 1) dtype=float64>"
      ]
     },
     "execution_count": 54,
     "metadata": {},
     "output_type": "execute_result"
    }
   ],
   "source": [
    "cv_gradients[0]"
   ]
  },
  {
   "cell_type": "code",
   "execution_count": 55,
   "metadata": {},
   "outputs": [],
   "source": [
    "# a = []\n",
    "# for _ in range(1000):\n",
    "#     a.append(sess.run(cv_gradients[0]))\n",
    "# np.mean(a, axis=0)"
   ]
  },
  {
   "cell_type": "code",
   "execution_count": 56,
   "metadata": {},
   "outputs": [],
   "source": [
    "np.set_printoptions(precision=3)"
   ]
  },
  {
   "cell_type": "code",
   "execution_count": 57,
   "metadata": {},
   "outputs": [],
   "source": [
    "# PWalk.inverse_sigma.eval()[:3,:3]"
   ]
  },
  {
   "cell_type": "code",
   "execution_count": 58,
   "metadata": {},
   "outputs": [],
   "source": [
    "out = tf.reshape(outputs, [NUM_STEPS, dim[0], dim[1]])"
   ]
  },
  {
   "cell_type": "code",
   "execution_count": 59,
   "metadata": {},
   "outputs": [],
   "source": [
    "epoch = 0"
   ]
  },
  {
   "cell_type": "code",
   "execution_count": 60,
   "metadata": {},
   "outputs": [],
   "source": [
    "all_sum = tf.summary.merge_all()"
   ]
  },
  {
   "cell_type": "code",
   "execution_count": 61,
   "metadata": {},
   "outputs": [],
   "source": [
    "def check_ppc(timestep):\n",
    "    n = 1000\n",
    "    all_preds = []\n",
    "    for _ in range(n):\n",
    "        tp = preds.eval({stop_time:timestep-1})\n",
    "        tp = tp[timestep-1]\n",
    "        all_preds.append(tp)\n",
    "    all_preds = np.array(all_preds).mean(axis=0)\n",
    "#     print(xs.shape)\n",
    "    return np.sqrt(np.mean((all_preds - xs[0,timestep])**2))"
   ]
  },
  {
   "cell_type": "code",
   "execution_count": 62,
   "metadata": {},
   "outputs": [],
   "source": [
    "# shock_d.logits.eval()"
   ]
  },
  {
   "cell_type": "code",
   "execution_count": null,
   "metadata": {
    "scrolled": true
   },
   "outputs": [
    {
     "name": "stdout",
     "output_type": "stream",
     "text": [
      "0.6593520513854791\n",
      "0.48980428421510736\n",
      "0.6157712921849169\n",
      "0.5604748373390684\n",
      "0.4401577630028026\n",
      "0.5303250816609485\n",
      "0.47384806572831356\n",
      "0.4265251396979143\n",
      "0.41014568929714074\n",
      "0.4020585223844268\n",
      "0.4329198850947279\n",
      "0.4207747100435322\n",
      "0.415293716698064\n",
      "0.4990400439572765\n",
      "0.40241195581257966\n",
      "0.3877008406706458\n",
      "0.38884711987086323\n",
      "0.42985566173540846\n",
      "0.38910053083466584\n",
      "0.41453509091091245\n",
      "0.4218960331471942\n",
      "0.37999891922956486\n",
      "0.41709015451278036\n",
      "0.44611120695366485\n",
      "0.3971691702635315\n",
      "0.3871439930282502\n",
      "0.38577239270439084\n",
      "0.3751705654935832\n",
      "0.3817299819026561\n",
      "0.4365155169497353\n",
      "0.38333789723452855\n",
      "0.3816898699006302\n",
      "0.38090770626627274\n",
      "0.41287606389277853\n",
      "0.41036468737670584\n",
      "0.370237169359587\n",
      "0.36906400559362657\n",
      "0.37142561411517955\n",
      "0.3723960511166217\n",
      "0.36638947404859573\n",
      "0.3635846936321546\n",
      "0.38323824931531125\n",
      "0.38791402798397895\n",
      "0.35891285155611796\n",
      "0.37469814082401615\n",
      "0.37083717142106837\n",
      "0.3607307585189925\n",
      "0.3610090318116985\n",
      "0.36618673954355696\n",
      "0.37018952935973815\n",
      "0.3660112089052924\n",
      "0.3691781798781699\n",
      "0.3747216307742043\n",
      "0.3648713532787423\n",
      "0.3601535575071803\n",
      "0.36399684142043887\n",
      "0.3604636779914532\n",
      "0.363492790056229\n",
      "0.37892386777105663\n",
      "0.3882894423990366\n",
      "0.37151123320971974\n",
      "0.3711568824856045\n",
      "0.36709641024668616\n",
      "0.3844000060744569\n",
      "0.3759863793374413\n",
      "0.36973498641269764\n",
      "0.36286444735132406\n",
      "0.35358508656795146\n",
      "0.37011486339672584\n",
      "0.4005901486442842\n",
      "0.36817005702600514\n",
      "0.3618757210465807\n",
      "0.36113099189415104\n",
      "0.36464991900113763\n",
      "0.37480006624885154\n",
      "0.3555237045416359\n",
      "0.362040328373221\n",
      "0.3643549275577373\n",
      "0.35597695078336217\n",
      "0.35917026783162237\n",
      "0.3619819492384604\n",
      "0.3655439936974795\n",
      "0.36175715121656515\n",
      "0.3577845971865132\n",
      "0.36768616503879986\n",
      "0.3598473296303127\n",
      "0.352681821052967\n",
      "0.3631919291914457\n",
      "0.3426713875384816\n",
      "0.36572386251222505\n",
      "0.37081184662113664\n",
      "0.37392826835655185\n",
      "0.3604344499307813\n",
      "0.3611468740279469\n",
      "0.36205622833417644\n",
      "0.3602149642186987\n",
      "0.35509329066315837\n",
      "0.3593369441500979\n",
      "0.35836863058208474\n",
      "0.3599097017182639\n",
      "0.3642377361134462\n",
      "0.36408952683191764\n",
      "0.35538825088290965\n",
      "0.363465909510651\n",
      "0.3497632715645935\n",
      "0.34946378421582397\n",
      "0.3694108962259127\n",
      "0.38111317065183403\n",
      "0.354219779907261\n",
      "0.35328637649161193\n",
      "0.36595097412406696\n",
      "0.36591696581137123\n",
      "0.3674413513247019\n",
      "0.3958303211772368\n",
      "0.36091845597336153\n",
      "0.3474646876055183\n",
      "0.3567641675119084\n",
      "0.3508547616949021\n",
      "0.35928718901297624\n",
      "0.36209267149754165\n",
      "0.34972509557459547\n",
      "0.35446437404616327\n",
      "0.35074687056504583\n",
      "0.36727495497693324\n",
      "0.34345994705431465\n",
      "0.35499309841322857\n",
      "0.35133227423975516\n",
      "0.3587198129863106\n",
      "0.3638755180037114\n",
      "0.38711697742276435\n",
      "0.3567426553210467\n",
      "0.35364181511811627\n",
      "0.3429310152142852\n",
      "0.3596934531327152\n",
      "0.3585000420724782\n",
      "0.35752657156522205\n",
      "0.3610846314265506\n",
      "0.3597820419795468\n",
      "0.3554156342280846\n",
      "0.3606495811440015\n",
      "0.36096487692401136\n",
      "0.35885823367183184\n",
      "0.3922152627897235\n",
      "0.35701704515438376\n",
      "0.33715437041103774\n",
      "0.36401516436904924\n",
      "0.3592066673145334\n",
      "0.3564983234766173\n",
      "0.3458579398417653\n",
      "0.3556627852503019\n",
      "0.3796429296263502\n",
      "0.35583896755030736\n",
      "0.3663158926283906\n",
      "0.3364306693587075\n",
      "0.3510180818397438\n",
      "0.3572841654792987\n",
      "0.36846330533376326\n",
      "0.34977322068203964\n",
      "0.3611028057814841\n",
      "0.34779821017073914\n",
      "0.35256646807073394\n",
      "0.34259844834877495\n",
      "0.35586122204731074\n",
      "0.3632182850975969\n",
      "0.35677151582141475\n",
      "0.34982366834064094\n",
      "0.3506759116331474\n",
      "0.36814829789670306\n",
      "0.3625252278714484\n",
      "0.3473291906456272\n",
      "0.3407318941289865\n",
      "0.36074703236858396\n",
      "0.35078173042424643\n",
      "0.3670383178964097\n",
      "0.3681088298943052\n",
      "0.3547980504565477\n",
      "0.3572421746845745\n",
      "0.33308445991896124\n",
      "0.3566788163797182\n",
      "0.3581760272549923\n",
      "0.3573224976920432\n",
      "0.3552006745885093\n",
      "0.36362480142738435\n",
      "0.363143623007512\n",
      "0.36286027481322186\n",
      "0.3596760676062995\n",
      "0.35299420894295963\n",
      "0.35836174056057113\n",
      "0.3493462979405837\n",
      "0.3582063538981113\n",
      "0.3589549078593726\n",
      "0.3600570860192627\n",
      "0.3545917935539238\n",
      "0.35095236581907807\n",
      "0.34780399676201845\n",
      "0.35124808777341937\n",
      "0.34464277684276534\n",
      "0.35069894100165666\n",
      "0.3438252318912964\n",
      "0.35347191883521173\n",
      "0.35597803694291885\n",
      "0.3438360750897852\n",
      "0.35141062762177266\n",
      "0.3670043673925988\n",
      "0.35519576655762103\n",
      "0.3616384118349454\n",
      "0.3481628272210841\n",
      "0.35115101586794006\n",
      "0.3524980125720372\n",
      "0.3690045738251884\n",
      "0.35776735884545907\n",
      "0.3478071649092572\n",
      "0.3513268658839503\n",
      "0.35891454137417017\n",
      "0.35093052411885134\n",
      "0.36124974740566657\n",
      "0.35292855055334477\n",
      "0.3739769857908439\n",
      "0.3571536045436375\n",
      "0.3679334971423525\n",
      "0.3525559898210589\n",
      "0.34903565828660676\n",
      "0.35136645819028295\n",
      "0.347643437249575\n",
      "0.3495373440468487\n",
      "0.34402841395943096\n",
      "0.3578611278336655\n",
      "0.36467410595783956\n",
      "0.3500868953862686\n",
      "0.34833331453918254\n",
      "0.34668698359377753\n",
      "0.35969506884399205\n",
      "0.34682750941653956\n",
      "0.35929587872916663\n",
      "0.3599961241661286\n",
      "0.3514520074542115\n",
      "0.3600275103433288\n",
      "0.35824430812890234\n",
      "0.3564704482651579\n",
      "0.3677300842389521\n",
      "0.35098949398815643\n",
      "0.344269493809013\n",
      "0.35701759325796\n",
      "0.3570734094875586\n",
      "0.35813114110231004\n",
      "0.35286530649811115\n",
      "0.3714120900265159\n",
      "0.3542106092952725\n",
      "0.3614940501705723\n",
      "0.3463439399067269\n",
      "0.36339186555905406\n",
      "0.36908929306385835\n",
      "0.3595983396874709\n",
      "0.3685912430118002\n",
      "0.35204387099367535\n",
      "0.3474827208121145\n",
      "0.35686217835655587\n",
      "0.352554939445922\n",
      "0.36707856317567195\n",
      "0.3483267498002277\n",
      "0.3577249996808369\n",
      "0.35235951727095116\n",
      "0.35013522887519355\n",
      "0.34416911330346844\n",
      "0.3478860656811737\n",
      "0.3625522337831289\n",
      "0.33844069320513315\n",
      "0.357296916806036\n",
      "0.3506061391322668\n",
      "0.35370167197510255\n",
      "0.3543413335522827\n",
      "0.368711210778398\n",
      "0.35550876661594133\n",
      "0.3647324105884778\n",
      "0.3494534721370735\n",
      "0.3416326216854474\n",
      "0.3549158389852053\n",
      "0.36798537910602763\n",
      "0.3539384502725255\n",
      "0.3495198982253272\n",
      "0.34320704127552837\n",
      "0.3575106373656408\n",
      "0.34705090037049147\n",
      "0.35661406165668547\n",
      "0.3432377497640068\n",
      "0.338338431798468\n",
      "0.3536548078427087\n",
      "0.33810182238985675\n",
      "0.37324069364645074\n",
      "0.3363579652599843\n",
      "0.3531130247941414\n",
      "0.36590950257614924\n",
      "0.3461797332636709\n",
      "0.3497816093551186\n",
      "0.35241302277342473\n",
      "0.35022871938456884\n",
      "0.36032268255371674\n",
      "0.348918455238492\n",
      "0.3496910457023089\n",
      "0.3433719488039974\n",
      "0.35848701164674684\n",
      "0.3507831175127098\n",
      "0.35708873693907345\n",
      "0.3521218824188546\n",
      "0.35780431568340704\n",
      "0.34347022919685755\n",
      "0.36905975537195534\n",
      "0.3774830593174063\n",
      "0.3346190520186461\n",
      "0.357803349980323\n",
      "0.34725482576652905\n",
      "0.3543772072240466\n",
      "0.3460438854415917\n",
      "0.32545923423557116\n",
      "0.34400126156295846\n",
      "0.3614679961567834\n",
      "0.3559985375773169\n",
      "0.3516355885638774\n",
      "0.3492306526530363\n",
      "0.34367795963047476\n",
      "0.3597274885029397\n",
      "0.35735349572585695\n",
      "0.35878596191111334\n",
      "0.3441728346513366\n",
      "0.36341918271816537\n",
      "0.3572603000391275\n",
      "0.3458537707133347\n",
      "0.3483560954188933\n",
      "0.3394046498059725\n",
      "0.3710490513809255\n",
      "0.35778939754495287\n",
      "0.3462422848623954\n",
      "0.3432010452175552\n",
      "0.3645952201006448\n",
      "0.35397723078108717\n",
      "0.3493157844821647\n",
      "0.36476410557875\n",
      "0.354431172794237\n",
      "0.34533046932259553\n",
      "0.36282374711740756\n",
      "0.34871935826195705\n",
      "0.34948260654862306\n",
      "0.34793251337333775\n",
      "0.34623046377474126\n",
      "0.3619084104454015\n",
      "0.34585429685945973\n",
      "0.34330408826470615\n",
      "0.36235249038357986\n",
      "0.3388517500700093\n",
      "0.3503496472752135\n",
      "0.35241233095631747\n",
      "0.3451492576962228\n",
      "0.36045298317924457\n",
      "0.34986766161348476\n",
      "0.3475223773560086\n",
      "0.36890030569425925\n",
      "0.3634524148815229\n",
      "0.3456396561475036\n",
      "0.33869990550742746\n",
      "0.36499336623193185\n",
      "0.3442802192406294\n",
      "0.3503916865181148\n",
      "0.35624913565483035\n",
      "0.3471811830392945\n",
      "0.3575584124909756\n",
      "0.3501774025303793\n",
      "0.3382643297950026\n",
      "0.34934552897281596\n",
      "0.34542796990663804\n",
      "0.3519970430583627\n",
      "0.3392486428442999\n",
      "0.3405361562186634\n",
      "0.34574112090181475\n",
      "0.3594065963453262\n",
      "0.34561470260475874\n",
      "0.35868394346264315\n",
      "0.3492831254022647\n",
      "0.34992050495159593\n",
      "0.354386244119149\n",
      "0.3476281135998185\n",
      "0.34594766113466197\n",
      "0.3462177904664391\n",
      "0.35049926133307396\n",
      "0.3415513410486175\n",
      "0.35317900884722253\n",
      "0.3355087905716662\n",
      "0.3512597708288191\n",
      "0.34760128896642883\n",
      "0.3544832889269344\n",
      "0.3546556239878263\n",
      "0.35972316920470493\n",
      "0.3562447928628557\n",
      "0.35314176602458575\n",
      "0.3547690888144228\n",
      "0.36213574369150087\n",
      "0.3438854392522592\n",
      "0.36245219038393334\n",
      "0.3661266016417999\n",
      "0.3491695850396916\n",
      "0.3534743019320332\n",
      "0.34794156412801036\n",
      "0.33753018542595137\n",
      "0.36634619375294875\n",
      "0.34819395032148304\n",
      "0.3593145949831023\n",
      "0.35909060874069854\n",
      "0.34643079546246675\n",
      "0.34561629835962976\n",
      "0.3452252434755356\n",
      "0.3498538392811765\n",
      "0.3453526440498758\n",
      "0.33256269358246865\n",
      "0.35922954511400085\n",
      "0.34472640046483355\n",
      "0.34814389692914716\n",
      "0.3442140954553701\n",
      "0.35780561500414826\n",
      "0.34475216438493883\n",
      "0.3474786088963221\n",
      "0.34908372427948975\n",
      "0.35271823238198396\n",
      "0.3563667115000365\n"
     ]
    },
    {
     "name": "stdout",
     "output_type": "stream",
     "text": [
      "0.34643229741895537\n",
      "0.3477995001659494\n",
      "0.36347185583447394\n",
      "0.3471224326262723\n",
      "0.37134954085371086\n",
      "0.3527506071672366\n",
      "0.3426077058126713\n",
      "0.35257403541788246\n",
      "0.35851367552586827\n",
      "0.3701869961004907\n",
      "0.3479796666044672\n",
      "0.3371398044256767\n",
      "0.35025479605439164\n",
      "0.36928172993692493\n",
      "0.3555268256817938\n",
      "0.3450831748269231\n",
      "0.3552531318584747\n",
      "0.3528211313675508\n",
      "0.3461667046047118\n",
      "0.3428461585105198\n",
      "0.3463790104123785\n",
      "0.37390350882686013\n",
      "0.3673722473533998\n",
      "0.3493975899206122\n",
      "0.34593076486567587\n",
      "0.3507846625963262\n",
      "0.3480239945946262\n",
      "0.3653543033200424\n",
      "0.35169514461759543\n",
      "0.35890188074338925\n",
      "0.3737002714594398\n",
      "0.35997652165918853\n",
      "0.3740811019968078\n",
      "0.3376174347248269\n",
      "0.3673609617226729\n",
      "0.34178714014525985\n",
      "0.34539490028101916\n",
      "0.3428132032717121\n",
      "0.3440157136356576\n",
      "0.3452389203768013\n",
      "0.35162834089492173\n",
      "0.3442881821502688\n",
      "0.3407253859297623\n",
      "0.33702857933331826\n",
      "0.3561092741419673\n",
      "0.3657169348124615\n",
      "0.34196648533770113\n",
      "0.3487522309656159\n",
      "0.35231772107876186\n",
      "0.3703762032383871\n",
      "0.34599341342334355\n",
      "0.3529844191309212\n",
      "0.35176412649624095\n",
      "0.3424306598031707\n",
      "0.3432964537690008\n",
      "0.34467208983476294\n",
      "0.35045499037814337\n",
      "0.35046030926775984\n",
      "0.3366091153889462\n",
      "0.3444086325885188\n",
      "0.3539449481461746\n",
      "0.34961384470987905\n",
      "0.3437758511433245\n",
      "0.3493939206860729\n",
      "0.3405192279581981\n",
      "0.3473812962901135\n",
      "0.3485228355035233\n",
      "0.3515606216575725\n",
      "0.34528422032086425\n",
      "0.3504042340234063\n",
      "0.35227694738571136\n",
      "0.3519597123581926\n",
      "0.3446568329056586\n",
      "0.34835830410210467\n",
      "0.35144687618142034\n",
      "0.34201701463868234\n",
      "0.3497595776611918\n",
      "0.34391918893664986\n",
      "0.3452271567954138\n",
      "0.34676844103259336\n",
      "0.3541260447508421\n",
      "0.3558436583999013\n",
      "0.3477229381450308\n",
      "0.34743032909498966\n",
      "0.3510992858069662\n",
      "0.34990277594787617\n",
      "0.344698278582706\n",
      "0.3509891927476167\n",
      "0.381405611820582\n",
      "0.35338895840956225\n",
      "0.3411561369411326\n",
      "0.34884525205296857\n",
      "0.3522127238280583\n",
      "0.3482784079704802\n",
      "0.3690353932677491\n",
      "0.34978067755559406\n",
      "0.32887611480549567\n",
      "0.34481326328163503\n",
      "0.35563528937854105\n",
      "0.36590815835082624\n",
      "0.3406481281687538\n",
      "0.3482033941173202\n",
      "0.3549860775374682\n",
      "0.3540305586104504\n",
      "0.3460941804184553\n",
      "0.3536889573295835\n",
      "0.35768271716361844\n",
      "0.34911450806619965\n",
      "0.3471393841170512\n",
      "0.3471363295167438\n",
      "0.34783796998357064\n",
      "0.3787697402918734\n",
      "0.3463668298094497\n",
      "0.3337487129307943\n",
      "0.3545744494507354\n",
      "0.3458861461686425\n",
      "0.3481853917809604\n",
      "0.35266290679105766\n",
      "0.34146480287735675\n",
      "0.34814611797003364\n",
      "0.3476084049455238\n"
     ]
    }
   ],
   "source": [
    "%%time\n",
    "for epoch in range(epoch, epoch+2000):\n",
    "    for i in range(1000):\n",
    "        l, _ = sess.run([hard_kl, opt], {phase:True})\n",
    "        if i % 30 == 0:\n",
    "            s = all_sum.eval({phase:True})\n",
    "            writer.add_summary(s, global_step=epoch*1000 + i)\n",
    "    print(l)"
   ]
  },
  {
   "cell_type": "code",
   "execution_count": null,
   "metadata": {},
   "outputs": [],
   "source": [
    "lr.assign(0.00003).eval()"
   ]
  },
  {
   "cell_type": "code",
   "execution_count": null,
   "metadata": {},
   "outputs": [],
   "source": [
    "ss = []\n",
    "for _ in range(40000):\n",
    "    s = shocks_hard.eval()[:,:,1].astype('float')\n",
    "    ss.append(s)\n",
    "ss = np.array(ss)\n",
    "print(ss.mean(axis=0))"
   ]
  },
  {
   "cell_type": "code",
   "execution_count": null,
   "metadata": {},
   "outputs": [],
   "source": [
    "x = range(2016-data.shape[1],2016)\n",
    "plt.plot(x, ss.mean(axis=0)[0][:])\n",
    "plt.show()"
   ]
  },
  {
   "cell_type": "code",
   "execution_count": null,
   "metadata": {},
   "outputs": [],
   "source": [
    "ss = []\n",
    "aa = []\n",
    "for _ in range(3000):\n",
    "    a = np.linalg.inv(PWalk.inverse_sigma.eval())\n",
    "    ss.append(np.sqrt(np.diag(a)))\n",
    "    aa.append(a)\n",
    "ss = np.array(ss)\n",
    "aa = np.array(aa)"
   ]
  },
  {
   "cell_type": "code",
   "execution_count": null,
   "metadata": {},
   "outputs": [],
   "source": [
    "aa.mean(axis=0)[:5,:5]"
   ]
  },
  {
   "cell_type": "code",
   "execution_count": null,
   "metadata": {},
   "outputs": [],
   "source": [
    "np.mean(ss, axis=0), np.std(ss, axis=0)"
   ]
  },
  {
   "cell_type": "code",
   "execution_count": null,
   "metadata": {},
   "outputs": [],
   "source": [
    "# sns.kdeplot(ss[:,1], ss[:,0])\n",
    "# plt.show()"
   ]
  },
  {
   "cell_type": "code",
   "execution_count": null,
   "metadata": {},
   "outputs": [],
   "source": [
    "samples = []\n",
    "for _ in range(3000):\n",
    "    s = out.eval({phase:True})\n",
    "    samples.append(s)\n",
    "samples = np.array(samples)"
   ]
  },
  {
   "cell_type": "code",
   "execution_count": null,
   "metadata": {},
   "outputs": [],
   "source": [
    "t = 10\n",
    "sns.kdeplot(samples[:,t,2,0], samples[:,t,0,3])\n",
    "plt.show()"
   ]
  },
  {
   "cell_type": "code",
   "execution_count": null,
   "metadata": {},
   "outputs": [],
   "source": [
    "t = 10\n",
    "# params[t]"
   ]
  },
  {
   "cell_type": "code",
   "execution_count": null,
   "metadata": {},
   "outputs": [],
   "source": [
    "np.mean(samples[:,t], axis=0)"
   ]
  },
  {
   "cell_type": "code",
   "execution_count": null,
   "metadata": {},
   "outputs": [],
   "source": [
    "np.std(samples[:,t], axis=0)"
   ]
  },
  {
   "cell_type": "code",
   "execution_count": null,
   "metadata": {},
   "outputs": [],
   "source": []
  },
  {
   "cell_type": "code",
   "execution_count": null,
   "metadata": {},
   "outputs": [],
   "source": [
    "from sklearn.neighbors.kde import KernelDensity\n",
    "def score(s1, s2):\n",
    "    bw = 0.1\n",
    "    s1 = s1[:,np.newaxis]\n",
    "    s2 = s2[:,np.newaxis]\n",
    "    e1 = KernelDensity(bandwidth=bw).fit(s1)\n",
    "    e2 = KernelDensity(bandwidth=bw).fit(s2)\n",
    "    \n",
    "    e1e2 = e1.score(s1) - e2.score(s1)\n",
    "    e2e1 = e2.score(s2) - e1.score(s2)\n",
    "    dist = (e1e2/len(s1) + e2e1/len(s2))/2\n",
    "    return dist"
   ]
  },
  {
   "cell_type": "code",
   "execution_count": null,
   "metadata": {},
   "outputs": [],
   "source": [
    "def get_cdf(ts):\n",
    "    return lambda x: (ts <= x).mean()\n",
    "def score(s1,s2):\n",
    "    c1 = get_cdf(s1)\n",
    "    c2 = get_cdf(s2)\n",
    "\n",
    "    m = 0\n",
    "    for s in np.concatenate([s1, s2]):\n",
    "        r = np.abs(c1(s) - c2(s))\n",
    "        if r > m:\n",
    "            m = r\n",
    "    return m"
   ]
  },
  {
   "cell_type": "code",
   "execution_count": null,
   "metadata": {},
   "outputs": [],
   "source": [
    "score(s1,s2)"
   ]
  },
  {
   "cell_type": "code",
   "execution_count": null,
   "metadata": {},
   "outputs": [],
   "source": [
    "dists = []\n",
    "for t1 in range(samples.shape[1] - 1):\n",
    "    np.random.seed(1234)\n",
    "    print(t1)\n",
    "    t2 = t1 + 1\n",
    "    s1 = samples[:,t1,0,0]\n",
    "    s2 = samples[:,t2,0,0]\n",
    "    ss = []\n",
    "    for _ in range(10):\n",
    "        s1_ = np.random.choice(s1, size=8000)\n",
    "        s2_ = np.random.choice(s2, size=8000)\n",
    "        m = score(s1_,s2_)\n",
    "        ss.append(m)\n",
    "    dists.append(ss)\n",
    "dists = np.array(dists).T"
   ]
  },
  {
   "cell_type": "markdown",
   "metadata": {},
   "source": [
    "## KDE + KL"
   ]
  },
  {
   "cell_type": "code",
   "execution_count": null,
   "metadata": {},
   "outputs": [],
   "source": [
    "sns.tsplot(dists, ci=[50, 95])\n",
    "plt.show()"
   ]
  },
  {
   "cell_type": "code",
   "execution_count": null,
   "metadata": {},
   "outputs": [],
   "source": [
    "sns.tsplot(dists, ci=[50, 95])\n",
    "plt.show()"
   ]
  },
  {
   "cell_type": "markdown",
   "metadata": {},
   "source": [
    "## Kolmogorov-Smirnov"
   ]
  },
  {
   "cell_type": "code",
   "execution_count": null,
   "metadata": {},
   "outputs": [],
   "source": [
    "sns.tsplot(dists, ci=[50, 95])\n",
    "plt.show()"
   ]
  },
  {
   "cell_type": "code",
   "execution_count": null,
   "metadata": {},
   "outputs": [],
   "source": [
    "tf.pow()"
   ]
  }
 ],
 "metadata": {
  "kernelspec": {
   "display_name": "Python 3.6 (sys p)",
   "language": "python",
   "name": "py3.6"
  },
  "language_info": {
   "codemirror_mode": {
    "name": "ipython",
    "version": 3
   },
   "file_extension": ".py",
   "mimetype": "text/x-python",
   "name": "python",
   "nbconvert_exporter": "python",
   "pygments_lexer": "ipython3",
   "version": "3.6.4"
  }
 },
 "nbformat": 4,
 "nbformat_minor": 2
}
