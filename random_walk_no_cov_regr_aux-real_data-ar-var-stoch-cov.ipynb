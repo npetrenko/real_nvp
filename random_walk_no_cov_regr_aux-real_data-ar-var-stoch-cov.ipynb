{
 "cells": [
  {
   "cell_type": "code",
   "execution_count": 1,
   "metadata": {},
   "outputs": [],
   "source": [
    "import tensorflow as tf\n",
    "from flows import NormalRW, DFlow, ResFlow, NVPFlow, phase, Normal, floatX, MVNormal, MVNormalRW, Linear, CFlow, LinearChol\n",
    "import numpy as np\n",
    "import pandas as pd\n",
    "from matplotlib import pyplot as plt\n",
    "import seaborn as sns\n",
    "from tensorflow.contrib.distributions import WishartCholesky\n",
    "\n",
    "np.random.seed(1234)"
   ]
  },
  {
   "cell_type": "code",
   "execution_count": 2,
   "metadata": {},
   "outputs": [],
   "source": [
    "data = pd.read_csv('./data/test_rus_data.csv').values.astype(floatX).T[np.newaxis][:,2:]/100"
   ]
  },
  {
   "cell_type": "code",
   "execution_count": 3,
   "metadata": {},
   "outputs": [
    {
     "name": "stdout",
     "output_type": "stream",
     "text": [
      "[0.21742282 0.16835931 0.01139835]\n"
     ]
    }
   ],
   "source": [
    "stds = (data[0,1:] - data[0,:-1]).std(axis=0)\n",
    "print(stds)\n",
    "data /= stds"
   ]
  },
  {
   "cell_type": "code",
   "execution_count": 4,
   "metadata": {},
   "outputs": [],
   "source": [
    "xs = data"
   ]
  },
  {
   "cell_type": "code",
   "execution_count": 5,
   "metadata": {},
   "outputs": [],
   "source": [
    "n = data.shape[1]\n",
    "s1 = 0.01\n",
    "s0 = 2.\n",
    "dim = [3,4]\n",
    "\n",
    "k = dim[0] * dim[1]\n",
    "# with tf.variable_scope('pwalk_inf', reuse=tf.AUTO_REUSE):\n",
    "#     lowerd = DFlow([Linear(dim=k*(k-1)//2 + k, name='lowerd_flow_' + str(i)) for i in range(1)])\n",
    "#     ldiag = DFlow([NVPFlow(dim=k, name='ldiag_flow_' + str(i)) for i in range(4)])\n",
    "# PWalk = MVNormalRW(dim[0]*dim[1], sigma=s1, sigma0=s0, name='param_walk_prior', \n",
    "#                    lowerd=lowerd.output[0], ldiag=ldiag.output[0]+np.log(1/s1))\n",
    "# PWalk = MVNormalRW(dim[0]*dim[1], sigma=s1, sigma0=s0, name='param_walk_prior')\n",
    "PWalk = NormalRW(dim=None, sigma0=s0, sigma=s1)"
   ]
  },
  {
   "cell_type": "code",
   "execution_count": 6,
   "metadata": {},
   "outputs": [],
   "source": [
    "def autoregr_tf(X, param):\n",
    "    d = param[:,:dim[-1]-1]\n",
    "    X = tf.matmul(X, d) + param[:,-1][np.newaxis]\n",
    "    return X"
   ]
  },
  {
   "cell_type": "code",
   "execution_count": 7,
   "metadata": {},
   "outputs": [],
   "source": [
    "def create_step_flow(name=None, aux_vars=None, init_sigma=1.):\n",
    "    with tf.variable_scope(name, reuse=False):\n",
    "        step_flow = DFlow([LinearChol(dim=dim[0]*dim[1], name='linearChol', aux_vars=aux_vars)], \n",
    "                          init_sigma=init_sigma)\n",
    "    return step_flow"
   ]
  },
  {
   "cell_type": "code",
   "execution_count": 8,
   "metadata": {},
   "outputs": [],
   "source": [
    "flows = [create_step_flow('step_flow0', init_sigma=s0)]\n",
    "outputs = [flows[-1].output]\n",
    "for i in range(n-1):\n",
    "    aux = outputs[-1]\n",
    "    new = create_step_flow('step_flow' + str(i+1), aux, init_sigma=s1)\n",
    "    flows.append(new)\n",
    "    outputs.append(outputs[-1] + new.output)\n",
    "init_out = tf.stack([outputs[0][0]]*n)[tf.newaxis]\n",
    "\n",
    "outputs = tf.concat(outputs, axis=0)[tf.newaxis]\n",
    "outputs = tf.where(phase, outputs, init_out)"
   ]
  },
  {
   "cell_type": "code",
   "execution_count": 9,
   "metadata": {},
   "outputs": [
    {
     "data": {
      "text/plain": [
       "<tf.Tensor 'strided_slice_1:0' shape=(1, 20, 12) dtype=float64>"
      ]
     },
     "execution_count": 9,
     "metadata": {},
     "output_type": "execute_result"
    }
   ],
   "source": [
    "init_out"
   ]
  },
  {
   "cell_type": "code",
   "execution_count": null,
   "metadata": {},
   "outputs": [],
   "source": []
  },
  {
   "cell_type": "code",
   "execution_count": 10,
   "metadata": {},
   "outputs": [
    {
     "data": {
      "text/plain": [
       "<tf.Tensor 'Select:0' shape=(1, 20, 12) dtype=float64>"
      ]
     },
     "execution_count": 10,
     "metadata": {},
     "output_type": "execute_result"
    }
   ],
   "source": [
    "outputs"
   ]
  },
  {
   "cell_type": "code",
   "execution_count": 11,
   "metadata": {},
   "outputs": [],
   "source": [
    "prior = PWalk.logdens(outputs)"
   ]
  },
  {
   "cell_type": "code",
   "execution_count": 12,
   "metadata": {},
   "outputs": [
    {
     "data": {
      "text/plain": [
       "<tf.Tensor 'add_21:0' shape=() dtype=float64>"
      ]
     },
     "execution_count": 12,
     "metadata": {},
     "output_type": "execute_result"
    }
   ],
   "source": [
    "prior"
   ]
  },
  {
   "cell_type": "code",
   "execution_count": 13,
   "metadata": {},
   "outputs": [],
   "source": [
    "def create_loglik2():\n",
    "    obs_d = Normal(dim=None, sigma=1., mu=0)\n",
    "    out = tf.reshape(outputs, [n, dim[0], dim[1]])\n",
    "    \n",
    "    def step1(current):\n",
    "        X = current[0][np.newaxis]\n",
    "        param = current[1]\n",
    "        d = param[:,:dim[-1]-1]\n",
    "        X = tf.matmul(X, d)[0] + param[:,-1]\n",
    "        return X\n",
    "    \n",
    "    ar = tf.map_fn(step1, (xs[0][:-1], out[:-1]), dtype=tf.float64)\n",
    "    return obs_d.logdens(ar - xs[0][1:])"
   ]
  },
  {
   "cell_type": "code",
   "execution_count": 14,
   "metadata": {},
   "outputs": [],
   "source": [
    "logl = create_loglik2()"
   ]
  },
  {
   "cell_type": "code",
   "execution_count": 15,
   "metadata": {},
   "outputs": [],
   "source": [
    "ent = tf.reduce_sum([flow.logdens for flow in flows])"
   ]
  },
  {
   "cell_type": "code",
   "execution_count": 16,
   "metadata": {},
   "outputs": [],
   "source": [
    "ent = tf.where(phase, ent, flows[0].logdens)#/1000)"
   ]
  },
  {
   "cell_type": "code",
   "execution_count": 17,
   "metadata": {},
   "outputs": [],
   "source": [
    "# df = dim[0]*dim[1]\n",
    "# pmat = np.diag([(1/s1**2)]*(dim[0]*dim[1]))/df\n",
    "# cov_prior = WishartCholesky(df, pmat, cholesky_input_output_matrices=True)"
   ]
  },
  {
   "cell_type": "code",
   "execution_count": 18,
   "metadata": {},
   "outputs": [],
   "source": [
    "loss = -logl - prior + ent# - cov_prior.log_prob(PWalk.fsigma) + lowerd.logdens + ldiag.logdens\n",
    "loss /= n*dim[0]*dim[1]"
   ]
  },
  {
   "cell_type": "code",
   "execution_count": 19,
   "metadata": {},
   "outputs": [
    {
     "data": {
      "text/plain": [
       "<tf.Tensor 'loss:0' shape=() dtype=string>"
      ]
     },
     "execution_count": 19,
     "metadata": {},
     "output_type": "execute_result"
    }
   ],
   "source": [
    "tf.summary.scalar('loss', loss)"
   ]
  },
  {
   "cell_type": "code",
   "execution_count": 20,
   "metadata": {},
   "outputs": [],
   "source": [
    "opti = tf.train.AdamOptimizer(0.004).minimize(loss)"
   ]
  },
  {
   "cell_type": "code",
   "execution_count": 21,
   "metadata": {},
   "outputs": [],
   "source": [
    "opt = tf.train.AdamOptimizer(0.0001).minimize(loss)"
   ]
  },
  {
   "cell_type": "code",
   "execution_count": 22,
   "metadata": {},
   "outputs": [],
   "source": [
    "sess = tf.InteractiveSession()"
   ]
  },
  {
   "cell_type": "code",
   "execution_count": 23,
   "metadata": {},
   "outputs": [],
   "source": [
    "tf.global_variables_initializer().run()"
   ]
  },
  {
   "cell_type": "code",
   "execution_count": 24,
   "metadata": {},
   "outputs": [
    {
     "data": {
      "text/plain": [
       "(591.8973115435185, 682.8739383528637, -6390.461361299493)"
      ]
     },
     "execution_count": 24,
     "metadata": {},
     "output_type": "execute_result"
    }
   ],
   "source": [
    "prior.eval(), ent.eval(), logl.eval()"
   ]
  },
  {
   "cell_type": "code",
   "execution_count": 25,
   "metadata": {},
   "outputs": [
    {
     "data": {
      "text/plain": [
       "8.218998232031877"
      ]
     },
     "execution_count": 25,
     "metadata": {},
     "output_type": "execute_result"
    }
   ],
   "source": [
    "loss.eval()"
   ]
  },
  {
   "cell_type": "code",
   "execution_count": 26,
   "metadata": {},
   "outputs": [],
   "source": [
    "np.set_printoptions(precision=4)"
   ]
  },
  {
   "cell_type": "code",
   "execution_count": 27,
   "metadata": {},
   "outputs": [],
   "source": [
    "# PWalk.inverse_sigma.eval()[:3,:3]"
   ]
  },
  {
   "cell_type": "code",
   "execution_count": 28,
   "metadata": {},
   "outputs": [],
   "source": [
    "!rm -R /tmp/tfdbg\n",
    "all_sum = tf.summary.merge_all()\n",
    "writer = tf.summary.FileWriter('/tmp/tfdbg')"
   ]
  },
  {
   "cell_type": "code",
   "execution_count": 29,
   "metadata": {},
   "outputs": [
    {
     "name": "stdout",
     "output_type": "stream",
     "text": [
      "-3.028648796908724\n",
      "-3.1291193382159617\n",
      "-3.1270274159329174\n",
      "-3.1260853971485516\n"
     ]
    }
   ],
   "source": [
    "for _ in range(4):\n",
    "    for _ in range(4000):\n",
    "        l, _ = sess.run([loss, opti], {phase:False})\n",
    "    print(l)"
   ]
  },
  {
   "cell_type": "code",
   "execution_count": 30,
   "metadata": {},
   "outputs": [],
   "source": [
    "out = tf.reshape(outputs, [n, dim[0], dim[1]])"
   ]
  },
  {
   "cell_type": "code",
   "execution_count": 35,
   "metadata": {
    "scrolled": true
   },
   "outputs": [
    {
     "name": "stdout",
     "output_type": "stream",
     "text": [
      "0.38004804796174907\n",
      "0.40029098307870753\n",
      "0.4056552703094482\n",
      "0.3836437995979357\n",
      "0.4118468184616186\n",
      "0.4000192165656301\n",
      "0.38076997749419944\n",
      "0.38391981085486576\n",
      "0.38143619233591625\n",
      "0.3774672591883406\n",
      "0.38533387373353684\n",
      "0.38495581634409554\n",
      "0.3707906584458892\n",
      "0.39660178648959127\n",
      "0.39253212135055077\n",
      "0.3896250846468438\n",
      "0.39598546213055147\n",
      "0.39218813628948274\n",
      "0.39253892987740213\n",
      "0.38707235975296705\n",
      "0.400801093244876\n",
      "0.37655147694417274\n",
      "0.41109606139536276\n",
      "0.3775988125952869\n",
      "0.3760664873028541\n",
      "0.3994249029057855\n",
      "0.3665185686080103\n",
      "0.40051428000327577\n",
      "0.37044783734045456\n",
      "0.3987607113813444\n",
      "0.39140378975046086\n",
      "0.38635043475248193\n",
      "0.38537917063258836\n",
      "0.3703253035858552\n",
      "0.4059729995668969\n",
      "0.402765462421263\n",
      "0.38584324907876305\n",
      "0.39411319118953636\n",
      "0.40346462751586454\n",
      "0.38945641761513533\n",
      "0.4019534721408789\n",
      "0.3802993523795834\n",
      "0.385943042098503\n",
      "0.3848884712625605\n",
      "0.39263205058326067\n",
      "0.3957602343146723\n",
      "0.36394020538325267\n",
      "0.3889125666185739\n",
      "0.3844699260360599\n",
      "0.3972319469627526\n",
      "0.3787586580187157\n",
      "0.39425663422098817\n",
      "0.39472715083708465\n",
      "0.3862304043714417\n",
      "0.3773545854765302\n",
      "0.3889958429125154\n",
      "0.39786099793327784\n",
      "0.3884942688805372\n",
      "0.38558464911433626\n",
      "0.37713235299681763\n",
      "0.41400375543668894\n",
      "0.38763197925428206\n",
      "0.3776403952364902\n",
      "0.381170294242033\n",
      "0.42174051960228953\n",
      "0.3686418014536836\n",
      "0.3764716587615458\n",
      "0.3990922069401587\n",
      "0.38654041531883415\n",
      "0.3786390549390257\n",
      "0.3901235940267028\n",
      "0.3820422444962977\n",
      "0.3970347726008943\n",
      "0.39608671926657024\n",
      "0.40654077618323803\n",
      "0.39504710843268165\n",
      "0.3795092699974532\n",
      "0.39122040317056084\n",
      "0.39096599687531136\n",
      "0.392245446415266\n",
      "0.412797824796462\n",
      "0.39214543268849883\n",
      "0.38679960948249176\n",
      "0.3963758378250835\n",
      "0.40271556129933117\n",
      "0.3791985630748295\n",
      "0.3919782396697589\n",
      "0.37404621458835835\n",
      "0.3891904674116319\n",
      "0.39757843099503515\n",
      "0.3897767516292054\n",
      "0.38633010513676475\n",
      "0.3819703803114919\n",
      "0.3838819310379089\n",
      "0.41663952305057045\n",
      "0.4007442715815865\n",
      "0.3945099823799059\n",
      "0.42114226503702906\n",
      "0.4191662551095078\n",
      "0.38206058713397983\n",
      "0.38628127754244396\n",
      "0.3956038715993643\n",
      "0.4014569979728672\n",
      "0.38472851694466165\n",
      "0.39857517274376636\n",
      "0.3878149895076097\n",
      "0.3784685137043193\n",
      "0.41068128522728437\n",
      "0.42682486059833735\n",
      "0.4030897017527844\n",
      "0.37380302583365127\n",
      "0.40455123358556144\n",
      "0.40304347509471605\n",
      "0.3780435242790053\n",
      "0.40142761296116874\n",
      "0.38713752278349794\n",
      "0.43396724225666694\n",
      "0.39056709512918864\n",
      "0.3948657671680422\n",
      "0.40391476582605035\n",
      "0.4021526301283719\n",
      "0.3956404263563035\n",
      "0.4011338904882876\n",
      "0.39294419571278827\n",
      "0.3964667039575024\n",
      "0.3967519369241022\n",
      "0.39669933777298355\n",
      "0.37673709020953133\n",
      "0.40834133900482783\n",
      "0.4082022683937917\n",
      "0.4079372489861773\n",
      "0.3980442103766483\n",
      "0.3893244168683632\n",
      "0.40971842845982615\n",
      "0.3780437936984967\n",
      "0.4192618256831703\n",
      "0.38496478489062064\n",
      "0.38456335590531265\n",
      "0.3959721178145855\n",
      "0.3868928215143465\n",
      "0.38370072766104263\n",
      "0.41190664300870544\n",
      "0.41798805749530316\n",
      "0.40799055462844364\n",
      "0.3983405430256909\n",
      "0.3899326640784854\n",
      "0.4014051589041467\n",
      "0.39532249490969257\n",
      "0.37383645104212493\n",
      "0.38627800971968235\n",
      "0.39603896935126104\n",
      "0.37490872362356337\n",
      "0.39042485376414265\n",
      "0.40017938808420295\n",
      "0.37875267974566074\n",
      "0.39830406821718706\n",
      "0.40713966186029327\n",
      "0.40339270618538875\n",
      "0.40245143522948157\n",
      "0.3960731954762068\n",
      "0.39613369344536503\n",
      "0.40550015502577047\n",
      "0.399571596720043\n",
      "0.37872854695914193\n",
      "0.404060340624559\n",
      "0.3998296071442837\n",
      "0.39008539146130944\n",
      "0.39228167687231374\n",
      "0.39719236216607595\n",
      "0.39361293757831295\n",
      "0.38317501241022284\n",
      "0.40292357027250936\n",
      "0.4013874547329716\n",
      "0.39357165930795096\n",
      "0.3938675156831171\n",
      "0.37772850466029884\n",
      "0.3870368604576702\n",
      "0.38767158260246837\n",
      "0.39236219746532963\n",
      "0.3889770712425076\n",
      "0.40101760409412607\n",
      "0.4074476366093748\n",
      "0.40594402119639833\n",
      "0.398080863846711\n",
      "0.4019885992626276\n",
      "0.3997795840904492\n",
      "0.3670090667470959\n",
      "0.39734615268380746\n",
      "0.3924246787218872\n",
      "0.39458407618659946\n",
      "0.38479733200707217\n",
      "0.3971753605143121\n",
      "0.41855174373812126\n",
      "0.3948725228900135\n",
      "0.3708531752026038\n",
      "0.40741467127402303\n",
      "0.4014409018746529\n",
      "0.3986305110161609\n",
      "0.38609730939263043\n",
      "0.3991431961583231\n",
      "0.39200803434388737\n",
      "0.37813232091949467\n",
      "0.3874755314811201\n",
      "0.407347126620148\n",
      "0.3751623300576469\n",
      "0.3827200145665126\n",
      "0.36555803652325713\n",
      "0.40192268007613213\n",
      "0.3906189238385115\n",
      "0.3940478732226614\n",
      "0.3960317011772446\n",
      "0.39118052640310924\n",
      "0.39622391929947676\n",
      "0.38700248111235236\n",
      "0.385564906172128\n",
      "0.37786216970875064\n",
      "0.40434656463124646\n",
      "0.403736789989081\n",
      "0.3981575486259146\n",
      "0.40591368778998743\n",
      "0.40720740911028913\n",
      "0.3842807350233476\n",
      "0.4029223061276549\n",
      "0.37344856512535074\n",
      "0.3939807020279157\n",
      "0.3870090838888302\n",
      "0.3880017829482104\n",
      "0.4060588392699974\n",
      "0.3871399466798546\n",
      "0.3776505838195391\n",
      "0.38864857030456457\n",
      "0.4027510152550562\n",
      "0.39393762151839506\n",
      "0.39536488928234187\n",
      "0.3888937540361468\n",
      "0.3899930859266154\n",
      "0.39572039570203876\n",
      "0.3975266439888273\n",
      "0.4012788636690838\n",
      "0.393962176974055\n",
      "0.38802468933115364\n",
      "0.4019182892228855\n",
      "0.36809675993861124\n",
      "0.3925945805401999\n",
      "0.4007531004162577\n",
      "0.38593026395594116\n",
      "0.4045257354330668\n",
      "0.4050464200996757\n",
      "0.4081739568502627\n",
      "0.4026947838410033\n",
      "0.3954722671550409\n",
      "0.37536910298839243\n",
      "0.3818770336591181\n",
      "0.4133899363996752\n",
      "0.42881010687841437\n",
      "0.39677513235422074\n",
      "0.4137025618753081\n",
      "0.3893395018836851\n",
      "0.39037636349686217\n",
      "0.40468291836606246\n",
      "0.3982064820345926\n",
      "0.37323588481256137\n",
      "0.38577355182182865\n",
      "0.3999040133808066\n",
      "0.38250404578339686\n",
      "0.3806729187217248\n",
      "0.39339806710164754\n",
      "0.4112615609119227\n",
      "0.39940094124221825\n",
      "0.3852094479354321\n",
      "0.4156908849030861\n",
      "0.4248410766056622\n",
      "0.3845859999447555\n",
      "0.3861751565160517\n",
      "0.38069599785830094\n",
      "0.38988401086990243\n",
      "0.4061085525374267\n",
      "0.3736976296772198\n",
      "0.39475852572530246\n",
      "0.39429618294620167\n",
      "0.40873481533573774\n",
      "0.3928438728939066\n",
      "0.3882285175566035\n",
      "0.3775979908542889\n",
      "0.39054459731062063\n",
      "0.3910875243753575\n",
      "0.40034873193318293\n",
      "0.40471899240496945\n",
      "0.3953861899541479\n",
      "0.3767616675615036\n",
      "0.41303494447854805\n",
      "0.38866628820399524\n",
      "0.37923449859570013\n",
      "0.40116307905671866\n",
      "0.3909975003025641\n",
      "0.38244195707685835\n",
      "0.3849458266278129\n",
      "0.3910768007757355\n",
      "0.39501553153896274\n",
      "0.3931785719021851\n",
      "0.37932422813252725\n",
      "0.3909560952954403\n",
      "0.40202300530030566\n",
      "0.3934759942847999\n",
      "0.4034481714585818\n",
      "0.3984063831333032\n",
      "0.3703870793091179\n",
      "0.39328404522829363\n",
      "0.40917161004110575\n",
      "0.4053621032856038\n",
      "0.39901321869822465\n",
      "0.38971556789332124\n",
      "0.3792897970606489\n",
      "0.40583417916050735\n",
      "0.39899891004699983\n",
      "0.3885630347182106\n",
      "0.3737405601037272\n",
      "0.38637254406110394\n",
      "0.39048231331400224\n",
      "0.3896207234026107\n",
      "0.34736946643649463\n",
      "0.3890971350103745\n",
      "0.39926489896976325\n",
      "0.41152433180370596\n",
      "0.374204501059449\n",
      "0.39340759606589065\n",
      "0.3855509714101937\n",
      "0.3880381259148971\n",
      "0.38079908686355946\n",
      "0.38758764692713804\n",
      "0.39525801549863027\n",
      "0.3989197556700096\n",
      "0.3889124311440194\n",
      "0.36738622367465673\n",
      "0.39679957101251895\n",
      "0.40740546137992906\n",
      "0.3864151265978767\n",
      "0.39036286237306494\n",
      "0.3922853812384214\n",
      "0.40332868732453686\n",
      "0.3885126501918009\n",
      "0.38012068034366564\n",
      "0.38403907015378425\n",
      "0.4072036029783073\n",
      "0.3955079348791439\n",
      "0.38828032909352145\n",
      "0.40228580133284736\n",
      "0.3995932848236298\n",
      "0.3748497628047706\n",
      "0.38561089224573003\n",
      "0.38583355519231616\n",
      "0.37984863912608186\n",
      "0.395323077416865\n",
      "0.38943848289509997\n",
      "0.39066127480302415\n",
      "0.4060292596099984\n",
      "0.4247706244366067\n",
      "0.3870455101572877\n",
      "0.40536612325663224\n",
      "0.3868995344439407\n",
      "0.38818253084613874\n",
      "0.38989992531022843\n",
      "0.40405636620854274\n",
      "0.3835022779901986\n",
      "0.4049720169127776\n",
      "0.388023045228609\n",
      "0.3978708117037428\n",
      "0.38812753359573454\n",
      "0.38571151929545666\n",
      "0.3871981593007367\n",
      "0.3968743524372466\n",
      "0.41532163746704354\n",
      "0.4032095741858626\n",
      "0.40275270406470537\n",
      "0.3949036890951135\n",
      "0.37457949928449635\n",
      "0.39084156694692734\n",
      "0.4045220522148706\n",
      "0.4001495746137735\n",
      "0.3981520450293753\n"
     ]
    },
    {
     "ename": "KeyboardInterrupt",
     "evalue": "",
     "output_type": "error",
     "traceback": [
      "\u001b[0;31m---------------------------------------------------------------------------\u001b[0m",
      "\u001b[0;31mKeyboardInterrupt\u001b[0m                         Traceback (most recent call last)",
      "\u001b[0;32m<ipython-input-35-aafda1816e6f>\u001b[0m in \u001b[0;36m<module>\u001b[0;34m()\u001b[0m\n\u001b[1;32m      1\u001b[0m \u001b[0;32mfor\u001b[0m \u001b[0m_\u001b[0m \u001b[0;32min\u001b[0m \u001b[0mrange\u001b[0m\u001b[0;34m(\u001b[0m\u001b[0;36m50000\u001b[0m\u001b[0;34m)\u001b[0m\u001b[0;34m:\u001b[0m\u001b[0;34m\u001b[0m\u001b[0m\n\u001b[1;32m      2\u001b[0m     \u001b[0;32mfor\u001b[0m \u001b[0mi\u001b[0m \u001b[0;32min\u001b[0m \u001b[0mrange\u001b[0m\u001b[0;34m(\u001b[0m\u001b[0;36m8000\u001b[0m\u001b[0;34m)\u001b[0m\u001b[0;34m:\u001b[0m\u001b[0;34m\u001b[0m\u001b[0m\n\u001b[0;32m----> 3\u001b[0;31m         \u001b[0ml\u001b[0m\u001b[0;34m,\u001b[0m \u001b[0m_\u001b[0m \u001b[0;34m=\u001b[0m \u001b[0msess\u001b[0m\u001b[0;34m.\u001b[0m\u001b[0mrun\u001b[0m\u001b[0;34m(\u001b[0m\u001b[0;34m[\u001b[0m\u001b[0mloss\u001b[0m\u001b[0;34m,\u001b[0m \u001b[0mopt\u001b[0m\u001b[0;34m]\u001b[0m\u001b[0;34m,\u001b[0m \u001b[0;34m{\u001b[0m\u001b[0mphase\u001b[0m\u001b[0;34m:\u001b[0m\u001b[0;32mTrue\u001b[0m\u001b[0;34m}\u001b[0m\u001b[0;34m)\u001b[0m\u001b[0;34m\u001b[0m\u001b[0m\n\u001b[0m\u001b[1;32m      4\u001b[0m         \u001b[0;32mif\u001b[0m \u001b[0mi\u001b[0m \u001b[0;34m%\u001b[0m \u001b[0;36m100\u001b[0m \u001b[0;34m==\u001b[0m \u001b[0;36m0\u001b[0m\u001b[0;34m:\u001b[0m\u001b[0;34m\u001b[0m\u001b[0m\n\u001b[1;32m      5\u001b[0m             \u001b[0ms\u001b[0m \u001b[0;34m=\u001b[0m \u001b[0mall_sum\u001b[0m\u001b[0;34m.\u001b[0m\u001b[0meval\u001b[0m\u001b[0;34m(\u001b[0m\u001b[0;34m{\u001b[0m\u001b[0mphase\u001b[0m\u001b[0;34m:\u001b[0m\u001b[0;32mTrue\u001b[0m\u001b[0;34m}\u001b[0m\u001b[0;34m)\u001b[0m\u001b[0;34m\u001b[0m\u001b[0m\n",
      "\u001b[0;32m/usr/lib/python3.6/site-packages/tensorflow/python/client/session.py\u001b[0m in \u001b[0;36mrun\u001b[0;34m(self, fetches, feed_dict, options, run_metadata)\u001b[0m\n\u001b[1;32m    903\u001b[0m     \u001b[0;32mtry\u001b[0m\u001b[0;34m:\u001b[0m\u001b[0;34m\u001b[0m\u001b[0m\n\u001b[1;32m    904\u001b[0m       result = self._run(None, fetches, feed_dict, options_ptr,\n\u001b[0;32m--> 905\u001b[0;31m                          run_metadata_ptr)\n\u001b[0m\u001b[1;32m    906\u001b[0m       \u001b[0;32mif\u001b[0m \u001b[0mrun_metadata\u001b[0m\u001b[0;34m:\u001b[0m\u001b[0;34m\u001b[0m\u001b[0m\n\u001b[1;32m    907\u001b[0m         \u001b[0mproto_data\u001b[0m \u001b[0;34m=\u001b[0m \u001b[0mtf_session\u001b[0m\u001b[0;34m.\u001b[0m\u001b[0mTF_GetBuffer\u001b[0m\u001b[0;34m(\u001b[0m\u001b[0mrun_metadata_ptr\u001b[0m\u001b[0;34m)\u001b[0m\u001b[0;34m\u001b[0m\u001b[0m\n",
      "\u001b[0;32m/usr/lib/python3.6/site-packages/tensorflow/python/client/session.py\u001b[0m in \u001b[0;36m_run\u001b[0;34m(self, handle, fetches, feed_dict, options, run_metadata)\u001b[0m\n\u001b[1;32m   1135\u001b[0m     \u001b[0;32mif\u001b[0m \u001b[0mfinal_fetches\u001b[0m \u001b[0;32mor\u001b[0m \u001b[0mfinal_targets\u001b[0m \u001b[0;32mor\u001b[0m \u001b[0;34m(\u001b[0m\u001b[0mhandle\u001b[0m \u001b[0;32mand\u001b[0m \u001b[0mfeed_dict_tensor\u001b[0m\u001b[0;34m)\u001b[0m\u001b[0;34m:\u001b[0m\u001b[0;34m\u001b[0m\u001b[0m\n\u001b[1;32m   1136\u001b[0m       results = self._do_run(handle, final_targets, final_fetches,\n\u001b[0;32m-> 1137\u001b[0;31m                              feed_dict_tensor, options, run_metadata)\n\u001b[0m\u001b[1;32m   1138\u001b[0m     \u001b[0;32melse\u001b[0m\u001b[0;34m:\u001b[0m\u001b[0;34m\u001b[0m\u001b[0m\n\u001b[1;32m   1139\u001b[0m       \u001b[0mresults\u001b[0m \u001b[0;34m=\u001b[0m \u001b[0;34m[\u001b[0m\u001b[0;34m]\u001b[0m\u001b[0;34m\u001b[0m\u001b[0m\n",
      "\u001b[0;32m/usr/lib/python3.6/site-packages/tensorflow/python/client/session.py\u001b[0m in \u001b[0;36m_do_run\u001b[0;34m(self, handle, target_list, fetch_list, feed_dict, options, run_metadata)\u001b[0m\n\u001b[1;32m   1353\u001b[0m     \u001b[0;32mif\u001b[0m \u001b[0mhandle\u001b[0m \u001b[0;32mis\u001b[0m \u001b[0;32mNone\u001b[0m\u001b[0;34m:\u001b[0m\u001b[0;34m\u001b[0m\u001b[0m\n\u001b[1;32m   1354\u001b[0m       return self._do_call(_run_fn, self._session, feeds, fetches, targets,\n\u001b[0;32m-> 1355\u001b[0;31m                            options, run_metadata)\n\u001b[0m\u001b[1;32m   1356\u001b[0m     \u001b[0;32melse\u001b[0m\u001b[0;34m:\u001b[0m\u001b[0;34m\u001b[0m\u001b[0m\n\u001b[1;32m   1357\u001b[0m       \u001b[0;32mreturn\u001b[0m \u001b[0mself\u001b[0m\u001b[0;34m.\u001b[0m\u001b[0m_do_call\u001b[0m\u001b[0;34m(\u001b[0m\u001b[0m_prun_fn\u001b[0m\u001b[0;34m,\u001b[0m \u001b[0mself\u001b[0m\u001b[0;34m.\u001b[0m\u001b[0m_session\u001b[0m\u001b[0;34m,\u001b[0m \u001b[0mhandle\u001b[0m\u001b[0;34m,\u001b[0m \u001b[0mfeeds\u001b[0m\u001b[0;34m,\u001b[0m \u001b[0mfetches\u001b[0m\u001b[0;34m)\u001b[0m\u001b[0;34m\u001b[0m\u001b[0m\n",
      "\u001b[0;32m/usr/lib/python3.6/site-packages/tensorflow/python/client/session.py\u001b[0m in \u001b[0;36m_do_call\u001b[0;34m(self, fn, *args)\u001b[0m\n\u001b[1;32m   1359\u001b[0m   \u001b[0;32mdef\u001b[0m \u001b[0m_do_call\u001b[0m\u001b[0;34m(\u001b[0m\u001b[0mself\u001b[0m\u001b[0;34m,\u001b[0m \u001b[0mfn\u001b[0m\u001b[0;34m,\u001b[0m \u001b[0;34m*\u001b[0m\u001b[0margs\u001b[0m\u001b[0;34m)\u001b[0m\u001b[0;34m:\u001b[0m\u001b[0;34m\u001b[0m\u001b[0m\n\u001b[1;32m   1360\u001b[0m     \u001b[0;32mtry\u001b[0m\u001b[0;34m:\u001b[0m\u001b[0;34m\u001b[0m\u001b[0m\n\u001b[0;32m-> 1361\u001b[0;31m       \u001b[0;32mreturn\u001b[0m \u001b[0mfn\u001b[0m\u001b[0;34m(\u001b[0m\u001b[0;34m*\u001b[0m\u001b[0margs\u001b[0m\u001b[0;34m)\u001b[0m\u001b[0;34m\u001b[0m\u001b[0m\n\u001b[0m\u001b[1;32m   1362\u001b[0m     \u001b[0;32mexcept\u001b[0m \u001b[0merrors\u001b[0m\u001b[0;34m.\u001b[0m\u001b[0mOpError\u001b[0m \u001b[0;32mas\u001b[0m \u001b[0me\u001b[0m\u001b[0;34m:\u001b[0m\u001b[0;34m\u001b[0m\u001b[0m\n\u001b[1;32m   1363\u001b[0m       \u001b[0mmessage\u001b[0m \u001b[0;34m=\u001b[0m \u001b[0mcompat\u001b[0m\u001b[0;34m.\u001b[0m\u001b[0mas_text\u001b[0m\u001b[0;34m(\u001b[0m\u001b[0me\u001b[0m\u001b[0;34m.\u001b[0m\u001b[0mmessage\u001b[0m\u001b[0;34m)\u001b[0m\u001b[0;34m\u001b[0m\u001b[0m\n",
      "\u001b[0;32m/usr/lib/python3.6/site-packages/tensorflow/python/client/session.py\u001b[0m in \u001b[0;36m_run_fn\u001b[0;34m(session, feed_dict, fetch_list, target_list, options, run_metadata)\u001b[0m\n\u001b[1;32m   1338\u001b[0m         \u001b[0;32melse\u001b[0m\u001b[0;34m:\u001b[0m\u001b[0;34m\u001b[0m\u001b[0m\n\u001b[1;32m   1339\u001b[0m           return tf_session.TF_Run(session, options, feed_dict, fetch_list,\n\u001b[0;32m-> 1340\u001b[0;31m                                    target_list, status, run_metadata)\n\u001b[0m\u001b[1;32m   1341\u001b[0m \u001b[0;34m\u001b[0m\u001b[0m\n\u001b[1;32m   1342\u001b[0m     \u001b[0;32mdef\u001b[0m \u001b[0m_prun_fn\u001b[0m\u001b[0;34m(\u001b[0m\u001b[0msession\u001b[0m\u001b[0;34m,\u001b[0m \u001b[0mhandle\u001b[0m\u001b[0;34m,\u001b[0m \u001b[0mfeed_dict\u001b[0m\u001b[0;34m,\u001b[0m \u001b[0mfetch_list\u001b[0m\u001b[0;34m)\u001b[0m\u001b[0;34m:\u001b[0m\u001b[0;34m\u001b[0m\u001b[0m\n",
      "\u001b[0;31mKeyboardInterrupt\u001b[0m: "
     ]
    }
   ],
   "source": [
    "for _ in range(50000):\n",
    "    for i in range(8000):\n",
    "        l, _ = sess.run([loss, opt], {phase:True})\n",
    "        if i % 100 == 0:\n",
    "            s = all_sum.eval({phase:True})\n",
    "            writer.add_summary(s)\n",
    "    print(l)\n",
    "#     print(PWalk.inverse_sigma.eval()[:3,:3])\n",
    "#     print('\\n')\n",
    "#     writer.add_summary(all_sum.eval())\n",
    "#     samples = []\n",
    "#     for _ in range(1000):\n",
    "#         s = out.eval({phase:True})\n",
    "#         samples.append(s)\n",
    "#     samples = np.array(samples)\n",
    "#     sns.kdeplot(samples[:,0,2,0], samples[:,0,0,3])\n",
    "#     plt.show()"
   ]
  },
  {
   "cell_type": "code",
   "execution_count": 49,
   "metadata": {},
   "outputs": [],
   "source": [
    "# saver = tf.train.Saver()"
   ]
  },
  {
   "cell_type": "code",
   "execution_count": 36,
   "metadata": {},
   "outputs": [
    {
     "data": {
      "text/plain": [
       "'/home/nikita/tmp/rdata3'"
      ]
     },
     "execution_count": 36,
     "metadata": {},
     "output_type": "execute_result"
    }
   ],
   "source": [
    "saver = tf.train.Saver()\n",
    "saver.save(sess,'/home/nikita/tmp/rdata3')"
   ]
  },
  {
   "cell_type": "code",
   "execution_count": 37,
   "metadata": {},
   "outputs": [],
   "source": [
    "# ss = []\n",
    "# for _ in range(3000):\n",
    "#     a = np.linalg.inv(PWalk.inverse_sigma.eval())\n",
    "#     ss.append(np.sqrt(np.diag(a)))\n",
    "# ss = np.array(ss)"
   ]
  },
  {
   "cell_type": "code",
   "execution_count": 38,
   "metadata": {},
   "outputs": [],
   "source": [
    "# np.mean(ss, axis=0), np.std(ss, axis=0)"
   ]
  },
  {
   "cell_type": "code",
   "execution_count": 39,
   "metadata": {},
   "outputs": [],
   "source": [
    "# sns.kdeplot(ss[:,1], ss[:,0])\n",
    "# plt.show()"
   ]
  },
  {
   "cell_type": "code",
   "execution_count": 40,
   "metadata": {},
   "outputs": [
    {
     "data": {
      "image/png": "[encoded data removed]",
      "text/plain": [
       "<matplotlib.figure.Figure at 0x7fe5c01b5630>"
      ]
     },
     "metadata": {},
     "output_type": "display_data"
    }
   ],
   "source": [
    "samples = []\n",
    "for _ in range(3000):\n",
    "    s = out.eval({phase:True})\n",
    "    samples.append(s)\n",
    "samples = np.array(samples)\n",
    "\n",
    "sns.kdeplot(samples[:,-1,2,0], samples[:,-1,0,3])\n",
    "plt.show()"
   ]
  },
  {
   "cell_type": "code",
   "execution_count": 41,
   "metadata": {},
   "outputs": [],
   "source": [
    "t = 10\n",
    "# params[t]"
   ]
  },
  {
   "cell_type": "code",
   "execution_count": 42,
   "metadata": {},
   "outputs": [
    {
     "data": {
      "text/plain": [
       "array([[-0.1448, -0.016 , -0.1657, -0.4296],\n",
       "       [ 0.0721,  0.1793,  0.5504,  0.1529],\n",
       "       [ 0.1852, -0.0303,  0.9283,  0.3405]])"
      ]
     },
     "execution_count": 42,
     "metadata": {},
     "output_type": "execute_result"
    }
   ],
   "source": [
    "np.mean(samples[:,t], axis=0)"
   ]
  },
  {
   "cell_type": "code",
   "execution_count": 34,
   "metadata": {},
   "outputs": [
    {
     "data": {
      "text/plain": [
       "array([[-0.2883, -0.0057, -0.1656, -1.1739],\n",
       "       [ 0.1146,  0.2282,  0.6319,  0.3809],\n",
       "       [ 0.3018, -0.0589,  0.8981,  0.5716]])"
      ]
     },
     "execution_count": 34,
     "metadata": {},
     "output_type": "execute_result"
    }
   ],
   "source": [
    "np.mean(samples[:,t], axis=0)"
   ]
  },
  {
   "cell_type": "code",
   "execution_count": 187,
   "metadata": {},
   "outputs": [],
   "source": []
  },
  {
   "cell_type": "code",
   "execution_count": 278,
   "metadata": {},
   "outputs": [],
   "source": [
    "from sklearn.neighbors.kde import KernelDensity\n",
    "def score(s1, s2):\n",
    "    bw = 0.1\n",
    "    s1 = s1[:,np.newaxis]\n",
    "    s2 = s2[:,np.newaxis]\n",
    "    e1 = KernelDensity(bandwidth=bw).fit(s1)\n",
    "    e2 = KernelDensity(bandwidth=bw).fit(s2)\n",
    "    \n",
    "    e1e2 = e1.score(s1) - e2.score(s1)\n",
    "    e2e1 = e2.score(s2) - e1.score(s2)\n",
    "    dist = (e1e2/len(s1) + e2e1/len(s2))/2\n",
    "    return dist"
   ]
  },
  {
   "cell_type": "code",
   "execution_count": 271,
   "metadata": {},
   "outputs": [],
   "source": [
    "def get_cdf(ts):\n",
    "    return lambda x: (ts <= x).mean()\n",
    "def score(s1,s2):\n",
    "    c1 = get_cdf(s1)\n",
    "    c2 = get_cdf(s2)\n",
    "\n",
    "    m = 0\n",
    "    for s in np.concatenate([s1, s2]):\n",
    "        r = np.abs(c1(s) - c2(s))\n",
    "        if r > m:\n",
    "            m = r\n",
    "    return m"
   ]
  },
  {
   "cell_type": "code",
   "execution_count": 203,
   "metadata": {},
   "outputs": [
    {
     "data": {
      "text/plain": [
       "0.00014521624382734903"
      ]
     },
     "execution_count": 203,
     "metadata": {},
     "output_type": "execute_result"
    }
   ],
   "source": [
    "score(s1,s2)"
   ]
  },
  {
   "cell_type": "code",
   "execution_count": 279,
   "metadata": {},
   "outputs": [
    {
     "name": "stdout",
     "output_type": "stream",
     "text": [
      "0\n",
      "1\n",
      "2\n",
      "3\n",
      "4\n",
      "6\n",
      "7\n",
      "8\n",
      "9\n",
      "10\n",
      "11\n",
      "12\n",
      "13\n",
      "14\n",
      "15\n",
      "16\n",
      "17\n",
      "18\n"
     ]
    }
   ],
   "source": [
    "dists = []\n",
    "for t1 in range(samples.shape[1] - 1):\n",
    "    np.random.seed(1234)\n",
    "    print(t1)\n",
    "    t2 = t1 + 1\n",
    "    s1 = samples[:,t1,0,0]\n",
    "    s2 = samples[:,t2,0,0]\n",
    "    ss = []\n",
    "    for _ in range(10):\n",
    "        s1_ = np.random.choice(s1, size=8000)\n",
    "        s2_ = np.random.choice(s2, size=8000)\n",
    "        m = score(s1_,s2_)\n",
    "        ss.append(m)\n",
    "    dists.append(ss)\n",
    "dists = np.array(dists).T"
   ]
  },
  {
   "cell_type": "markdown",
   "metadata": {},
   "source": [
    "## KDE + KL"
   ]
  },
  {
   "cell_type": "code",
   "execution_count": 270,
   "metadata": {},
   "outputs": [
    {
     "name": "stderr",
     "output_type": "stream",
     "text": [
      "/home/nikita/.virtualenvs/py3.6/lib/python3.6/site-packages/seaborn/timeseries.py:183: UserWarning: The tsplot function is deprecated and will be removed or replaced (in a substantially altered version) in a future release.\n",
      "  warnings.warn(msg, UserWarning)\n"
     ]
    },
    {
     "data": {
      "image/png": "[encoded data removed]",
      "text/plain": [
       "<matplotlib.figure.Figure at 0x7f08680eff60>"
      ]
     },
     "metadata": {},
     "output_type": "display_data"
    }
   ],
   "source": [
    "sns.tsplot(dists, ci=[50, 95])\n",
    "plt.show()"
   ]
  },
  {
   "cell_type": "code",
   "execution_count": 280,
   "metadata": {},
   "outputs": [
    {
     "name": "stderr",
     "output_type": "stream",
     "text": [
      "/home/nikita/.virtualenvs/py3.6/lib/python3.6/site-packages/seaborn/timeseries.py:183: UserWarning: The tsplot function is deprecated and will be removed or replaced (in a substantially altered version) in a future release.\n",
      "  warnings.warn(msg, UserWarning)\n"
     ]
    },
    {
     "data": {
      "image/png": "[encoded data removed]",
      "text/plain": [
       "<matplotlib.figure.Figure at 0x7f0863c040f0>"
      ]
     },
     "metadata": {},
     "output_type": "display_data"
    }
   ],
   "source": [
    "sns.tsplot(dists, ci=[50, 95])\n",
    "plt.show()"
   ]
  },
  {
   "cell_type": "markdown",
   "metadata": {},
   "source": [
    "## Kolmogorov-Smirnov"
   ]
  },
  {
   "cell_type": "code",
   "execution_count": 277,
   "metadata": {},
   "outputs": [
    {
     "name": "stderr",
     "output_type": "stream",
     "text": [
      "/home/nikita/.virtualenvs/py3.6/lib/python3.6/site-packages/seaborn/timeseries.py:183: UserWarning: The tsplot function is deprecated and will be removed or replaced (in a substantially altered version) in a future release.\n",
      "  warnings.warn(msg, UserWarning)\n"
     ]
    },
    {
     "data": {
      "image/png": "[encoded data removed]",
      "text/plain": [
       "<matplotlib.figure.Figure at 0x7f0863df7908>"
      ]
     },
     "metadata": {},
     "output_type": "display_data"
    }
   ],
   "source": [
    "sns.tsplot(dists, ci=[50, 95])\n",
    "plt.show()"
   ]
  },
  {
   "cell_type": "code",
   "execution_count": null,
   "metadata": {},
   "outputs": [],
   "source": [
    "tf.pow()"
   ]
  }
 ],
 "metadata": {
  "kernelspec": {
   "display_name": "Python 3.6 (sys p)",
   "language": "python",
   "name": "py3.6"
  }
 },
 "nbformat": 4,
 "nbformat_minor": 2
}
