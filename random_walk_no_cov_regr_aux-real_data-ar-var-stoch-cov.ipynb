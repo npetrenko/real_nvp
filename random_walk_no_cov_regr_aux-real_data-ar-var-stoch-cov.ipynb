{
 "cells": [
  {
   "cell_type": "code",
   "execution_count": 19,
   "metadata": {},
   "outputs": [],
   "source": [
    "import tensorflow as tf\n",
    "from flows import NormalRW, DFlow, ResFlow, NVPFlow, phase, GVAR, Normal, LogNormal, floatX, MVNormal, MVNormalRW, Linear, CFlow, LinearChol\n",
    "import numpy as np\n",
    "import pandas as pd\n",
    "from matplotlib import pyplot as plt\n",
    "import seaborn as sns\n",
    "from tensorflow.contrib.distributions import WishartCholesky\n",
    "\n",
    "np.random.seed(1234)\n",
    "tf.set_random_seed(1234)"
   ]
  },
  {
   "cell_type": "code",
   "execution_count": 2,
   "metadata": {},
   "outputs": [],
   "source": [
    "data = pd.read_csv('./CDATA/FRA.csv', index_col='VARIABLE').values.astype(floatX).T[np.newaxis][:,:,:3]"
   ]
  },
  {
   "cell_type": "code",
   "execution_count": 3,
   "metadata": {},
   "outputs": [
    {
     "data": {
      "text/plain": [
       "(1, 195, 3)"
      ]
     },
     "execution_count": 3,
     "metadata": {},
     "output_type": "execute_result"
    }
   ],
   "source": [
    "data.shape"
   ]
  },
  {
   "cell_type": "code",
   "execution_count": 4,
   "metadata": {},
   "outputs": [
    {
     "name": "stdout",
     "output_type": "stream",
     "text": [
      "[0.0057413  0.92696436 0.00503917]\n"
     ]
    }
   ],
   "source": [
    "stds = (data[0,1:] - data[0,:-1]).std(axis=0)\n",
    "print(stds)\n",
    "data /= stds"
   ]
  },
  {
   "cell_type": "code",
   "execution_count": 5,
   "metadata": {},
   "outputs": [],
   "source": [
    "xs = data"
   ]
  },
  {
   "cell_type": "code",
   "execution_count": 6,
   "metadata": {},
   "outputs": [],
   "source": [
    "n = data.shape[1]\n",
    "s1 = 0.007\n",
    "s0 = 2.\n",
    "dim = [3,4]\n",
    "\n",
    "k = dim[0] * dim[1]\n",
    "with tf.variable_scope('pwalk_inf', reuse=tf.AUTO_REUSE):\n",
    "    ldiag = DFlow([NVPFlow(dim=k, name='ldiag_flow_' + str(i)) for i in range(4)])\n",
    "    ldiag.output += np.log(1/s1)\n",
    "    ldiag.logdens -= tf.reduce_sum(ldiag.output)\n",
    "\n",
    "PWalk = MVNormalRW(dim[0]*dim[1], sigma=s1, sigma0=s0, name='param_walk_prior', \n",
    "                   ldiag=ldiag.output[0])\n",
    "# PWalk = MVNormalRW(dim[0]*dim[1], sigma=s1, sigma0=s0, name='param_walk_prior')\n",
    "# PWalk = NormalRW(dim=None, sigma0=s0, sigma=s1)"
   ]
  },
  {
   "cell_type": "code",
   "execution_count": 7,
   "metadata": {},
   "outputs": [],
   "source": [
    "# ldiag.logdens"
   ]
  },
  {
   "cell_type": "code",
   "execution_count": 8,
   "metadata": {},
   "outputs": [],
   "source": [
    "def autoregr_tf(X, param):\n",
    "    d = param[:,:dim[-1]-1]\n",
    "    X = tf.matmul(X, d) + param[:,-1][np.newaxis]\n",
    "    return X"
   ]
  },
  {
   "cell_type": "code",
   "execution_count": 9,
   "metadata": {},
   "outputs": [],
   "source": [
    "out_model = GVAR(dim[0]*dim[1], len=xs.shape[1], name='GVAR')"
   ]
  },
  {
   "cell_type": "code",
   "execution_count": 10,
   "metadata": {},
   "outputs": [],
   "source": [
    "outputs = out_model.sample()"
   ]
  },
  {
   "cell_type": "code",
   "execution_count": 11,
   "metadata": {},
   "outputs": [
    {
     "data": {
      "text/plain": [
       "<tf.Tensor 'GVAR_1/VAR/strided_slice:0' shape=(1, 195, 12) dtype=float64>"
      ]
     },
     "execution_count": 11,
     "metadata": {},
     "output_type": "execute_result"
    }
   ],
   "source": [
    "outputs"
   ]
  },
  {
   "cell_type": "code",
   "execution_count": 12,
   "metadata": {},
   "outputs": [],
   "source": [
    "prior = PWalk.logdens(outputs, reduce=False)"
   ]
  },
  {
   "cell_type": "code",
   "execution_count": 14,
   "metadata": {},
   "outputs": [],
   "source": [
    "prior = tf.reduce_sum(prior)"
   ]
  },
  {
   "cell_type": "code",
   "execution_count": 15,
   "metadata": {},
   "outputs": [],
   "source": [
    "def create_loglik2():\n",
    "    obs_d = Normal(dim=None, sigma=1., mu=0)\n",
    "    out = tf.reshape(outputs, [n, dim[0], dim[1]])\n",
    "    \n",
    "    def step1(current):\n",
    "        X = current[0][np.newaxis]\n",
    "        param = current[1]\n",
    "        d = param[:,:dim[-1]-1]\n",
    "        X = tf.matmul(X, d)[0] + param[:,-1]\n",
    "        return X\n",
    "    \n",
    "    ar = tf.map_fn(step1, (xs[0][:-1], out[:-1]), dtype=tf.float64)\n",
    "    return obs_d.logdens(ar - xs[0][1:])"
   ]
  },
  {
   "cell_type": "code",
   "execution_count": 16,
   "metadata": {},
   "outputs": [],
   "source": [
    "logl = create_loglik2()"
   ]
  },
  {
   "cell_type": "code",
   "execution_count": 17,
   "metadata": {},
   "outputs": [],
   "source": [
    "ent = out_model.logdens"
   ]
  },
  {
   "cell_type": "code",
   "execution_count": 18,
   "metadata": {},
   "outputs": [
    {
     "data": {
      "text/plain": [
       "<tf.Tensor 'GVAR_1/VAR/logdens/add:0' shape=() dtype=float64>"
      ]
     },
     "execution_count": 18,
     "metadata": {},
     "output_type": "execute_result"
    }
   ],
   "source": [
    "ent"
   ]
  },
  {
   "cell_type": "code",
   "execution_count": 20,
   "metadata": {},
   "outputs": [],
   "source": [
    "# df = dim[0]*dim[1]\n",
    "# pmat = np.diag([(1/s1**2)]*(dim[0]*dim[1]))/df\n",
    "# cov_prior = WishartCholesky(df, pmat, cholesky_input_output_matrices=True)\n",
    "import math\n",
    "cov_prior = LogNormal(None, mu=-0.5*math.log(s1), sigma=1.5)"
   ]
  },
  {
   "cell_type": "code",
   "execution_count": 21,
   "metadata": {},
   "outputs": [
    {
     "data": {
      "text/plain": [
       "<tf.Tensor 'Sum:0' shape=() dtype=float64>"
      ]
     },
     "execution_count": 21,
     "metadata": {},
     "output_type": "execute_result"
    }
   ],
   "source": [
    "prior"
   ]
  },
  {
   "cell_type": "code",
   "execution_count": 22,
   "metadata": {},
   "outputs": [],
   "source": [
    "loss = -logl - prior + ent - cov_prior.logdens(ldiag.output) + ldiag.logdens# + lowerd.logdens- cov_prior.log_prob(PWalk.fsigma)\n",
    "loss /= n*dim[0]*dim[1]"
   ]
  },
  {
   "cell_type": "code",
   "execution_count": 23,
   "metadata": {},
   "outputs": [
    {
     "data": {
      "text/plain": [
       "<tf.Tensor 'loss:0' shape=() dtype=string>"
      ]
     },
     "execution_count": 23,
     "metadata": {},
     "output_type": "execute_result"
    }
   ],
   "source": [
    "tf.summary.scalar('loss', loss[0])"
   ]
  },
  {
   "cell_type": "code",
   "execution_count": 24,
   "metadata": {},
   "outputs": [],
   "source": [
    "with tf.variable_scope('opt') as scope:\n",
    "    opt = tf.train.AdamOptimizer(0.0001).minimize(loss)"
   ]
  },
  {
   "cell_type": "code",
   "execution_count": 25,
   "metadata": {},
   "outputs": [],
   "source": [
    "graph = tf.get_default_graph()"
   ]
  },
  {
   "cell_type": "code",
   "execution_count": 26,
   "metadata": {},
   "outputs": [],
   "source": [
    "opt_vs = graph.get_collection('variables', scope=scope.name)"
   ]
  },
  {
   "cell_type": "code",
   "execution_count": 27,
   "metadata": {},
   "outputs": [
    {
     "data": {
      "text/plain": [
       "['variables', 'trainable_variables', 'while_context', 'summaries', 'train_op']"
      ]
     },
     "execution_count": 27,
     "metadata": {},
     "output_type": "execute_result"
    }
   ],
   "source": [
    "graph.get_all_collection_keys()"
   ]
  },
  {
   "cell_type": "code",
   "execution_count": 28,
   "metadata": {},
   "outputs": [],
   "source": [
    "# tf.variables_initializer(opt_vs).run()"
   ]
  },
  {
   "cell_type": "code",
   "execution_count": 29,
   "metadata": {},
   "outputs": [],
   "source": [
    "sess = tf.InteractiveSession()"
   ]
  },
  {
   "cell_type": "code",
   "execution_count": 30,
   "metadata": {},
   "outputs": [],
   "source": [
    "tf.global_variables_initializer().run()"
   ]
  },
  {
   "cell_type": "code",
   "execution_count": 31,
   "metadata": {},
   "outputs": [
    {
     "data": {
      "text/plain": [
       "(2504.5704283581767, 7493.5280618367115, -2426.170679166925)"
      ]
     },
     "execution_count": 31,
     "metadata": {},
     "output_type": "execute_result"
    }
   ],
   "source": [
    "prior.eval(), ent.eval(), logl.eval()"
   ]
  },
  {
   "cell_type": "code",
   "execution_count": 32,
   "metadata": {},
   "outputs": [
    {
     "data": {
      "text/plain": [
       "array([6.87293439])"
      ]
     },
     "execution_count": 32,
     "metadata": {},
     "output_type": "execute_result"
    }
   ],
   "source": [
    "loss.eval()"
   ]
  },
  {
   "cell_type": "code",
   "execution_count": 33,
   "metadata": {},
   "outputs": [],
   "source": [
    "np.set_printoptions(precision=4)"
   ]
  },
  {
   "cell_type": "code",
   "execution_count": 34,
   "metadata": {},
   "outputs": [],
   "source": [
    "# PWalk.inverse_sigma.eval()[:3,:3]"
   ]
  },
  {
   "cell_type": "code",
   "execution_count": 35,
   "metadata": {},
   "outputs": [],
   "source": [
    "# !rm -R /tmp/tfdbg\n",
    "writer = tf.summary.FileWriter('/tmp/tfdbg/modelfra_nonvp_correct_mvnormal_xTl_entfix_0.0001_nvp_soft_p')"
   ]
  },
  {
   "cell_type": "code",
   "execution_count": 36,
   "metadata": {},
   "outputs": [
    {
     "data": {
      "text/plain": [
       "<tf.Tensor 's1:0' shape=() dtype=string>"
      ]
     },
     "execution_count": 36,
     "metadata": {},
     "output_type": "execute_result"
    }
   ],
   "source": [
    "tf.summary.scalar('s1', tf.reduce_mean(tf.sqrt(tf.diag_part(PWalk.sigma))))"
   ]
  },
  {
   "cell_type": "code",
   "execution_count": 37,
   "metadata": {},
   "outputs": [],
   "source": [
    "all_sum = tf.summary.merge_all()"
   ]
  },
  {
   "cell_type": "code",
   "execution_count": 38,
   "metadata": {},
   "outputs": [],
   "source": [
    "out = tf.reshape(outputs, [n, dim[0], dim[1]])"
   ]
  },
  {
   "cell_type": "code",
   "execution_count": 39,
   "metadata": {},
   "outputs": [],
   "source": [
    "epoch = 0"
   ]
  },
  {
   "cell_type": "code",
   "execution_count": 40,
   "metadata": {},
   "outputs": [],
   "source": [
    "# for epoch in range(epoch, 20):\n",
    "#     for i in range(800):\n",
    "#         l, _ = sess.run([loss, opt], {phase:False})\n",
    "#     print(l)"
   ]
  },
  {
   "cell_type": "code",
   "execution_count": 41,
   "metadata": {
    "scrolled": true
   },
   "outputs": [
    {
     "name": "stdout",
     "output_type": "stream",
     "text": [
      "[3.9521]\n",
      "[4.6909]\n",
      "[4.0678]\n",
      "[125.8488]\n",
      "[7.7795]\n",
      "[6.8401]\n",
      "[6.1231]\n",
      "[1.9669]\n",
      "[4.0734]\n",
      "[3.8925]\n",
      "[2.1006]\n",
      "[3.2009]\n",
      "[2.0923]\n",
      "[4.3856]\n",
      "[2.4641]\n",
      "[2.1135]\n",
      "[2.5913]\n",
      "[4.4389]\n",
      "[2.8212]\n",
      "[2.3895]\n",
      "[2.3852]\n",
      "[1.7255]\n",
      "[3.0829]\n",
      "[5.4286]\n",
      "[5.5868]\n",
      "[6.165]\n",
      "[17.6904]\n",
      "[1.7472]\n",
      "[3.2798]\n",
      "[2.0944]\n",
      "[2.5239]\n",
      "[2.274]\n",
      "[2.8835]\n",
      "[1.9303]\n",
      "[2.1535]\n",
      "[3.183]\n",
      "[1.5614]\n",
      "[2.2267]\n",
      "[1.7312]\n",
      "[1.5845]\n",
      "[1.8622]\n",
      "[1.7236]\n",
      "[1.5959]\n",
      "[1.419]\n",
      "[1.7174]\n",
      "[1.7698]\n",
      "[2.5873]\n",
      "[1.6427]\n",
      "[1.663]\n",
      "[1.5761]\n",
      "[1.6592]\n",
      "[1.5946]\n",
      "[1.5587]\n",
      "[1.4684]\n",
      "[1.5504]\n",
      "[1.423]\n",
      "[1.5081]\n",
      "[1.4452]\n",
      "[1.4817]\n",
      "[1.5629]\n",
      "[1.4621]\n",
      "[1.5222]\n",
      "[1.4062]\n",
      "[1.5134]\n",
      "[1.4956]\n",
      "[1.4758]\n",
      "[1.3948]\n",
      "[1.3712]\n",
      "[1.4296]\n",
      "[1.4178]\n",
      "[1.3897]\n",
      "[1.498]\n",
      "[1.463]\n",
      "[1.6027]\n",
      "[1.5203]\n",
      "[1.3967]\n",
      "[1.4053]\n",
      "[1.497]\n",
      "[1.376]\n",
      "[1.3786]\n",
      "[1.3356]\n",
      "[1.3197]\n",
      "[1.3652]\n",
      "[1.3401]\n",
      "[1.3504]\n",
      "[1.3967]\n",
      "[1.3467]\n",
      "[1.4677]\n",
      "[1.3387]\n",
      "[1.3682]\n",
      "[1.3265]\n",
      "[1.3031]\n",
      "[1.3041]\n",
      "[1.3514]\n",
      "[1.3059]\n",
      "[1.2905]\n",
      "[1.2861]\n",
      "[1.3169]\n",
      "[1.3615]\n",
      "[1.3011]\n",
      "[1.2901]\n",
      "[1.334]\n",
      "[1.306]\n",
      "[1.2927]\n",
      "[1.2887]\n",
      "[1.2848]\n",
      "[1.2957]\n",
      "[1.2905]\n",
      "[1.2714]\n",
      "[1.2959]\n",
      "[1.2995]\n",
      "[1.2893]\n",
      "[1.3025]\n",
      "[1.29]\n",
      "[1.2879]\n",
      "[1.29]\n",
      "[1.2929]\n",
      "[1.2679]\n",
      "[1.2721]\n",
      "[1.2838]\n",
      "[1.2745]\n",
      "[1.2753]\n",
      "[1.2772]\n",
      "[1.2971]\n",
      "[1.2666]\n",
      "[1.2699]\n",
      "[1.2677]\n",
      "[1.2801]\n",
      "[1.2729]\n",
      "[1.2712]\n",
      "[1.2884]\n",
      "[1.2652]\n",
      "[1.2699]\n",
      "[1.2724]\n",
      "[1.264]\n",
      "[1.2818]\n",
      "[1.2604]\n",
      "[1.2712]\n",
      "[1.2642]\n",
      "[1.2687]\n",
      "[1.2654]\n",
      "[1.2884]\n",
      "[1.2793]\n",
      "[1.264]\n",
      "[1.2703]\n",
      "[1.2674]\n",
      "[1.2665]\n",
      "[1.2594]\n",
      "[1.2689]\n",
      "[1.2748]\n",
      "[1.268]\n",
      "[1.2747]\n",
      "[1.2715]\n",
      "[1.2658]\n",
      "[1.2676]\n",
      "[1.2654]\n",
      "[1.2626]\n",
      "[1.2692]\n",
      "[1.2709]\n",
      "[1.2693]\n",
      "[1.2688]\n",
      "[1.2729]\n",
      "[1.2597]\n",
      "[1.2725]\n",
      "[1.2711]\n",
      "[1.2642]\n",
      "[1.2656]\n",
      "[1.261]\n",
      "[1.2662]\n",
      "[1.2704]\n",
      "[1.2666]\n",
      "[1.2629]\n",
      "[1.2592]\n",
      "[1.26]\n",
      "[1.2696]\n",
      "[1.2614]\n",
      "[1.2758]\n",
      "[1.2662]\n",
      "[1.2655]\n",
      "[1.2699]\n",
      "[1.2709]\n",
      "[1.2628]\n",
      "[1.2657]\n",
      "[1.2639]\n",
      "[1.2647]\n",
      "[1.2744]\n",
      "[1.2633]\n",
      "[1.2658]\n",
      "[1.2822]\n",
      "[1.2669]\n",
      "[1.2623]\n",
      "[1.2609]\n",
      "[1.3011]\n",
      "[1.261]\n",
      "[1.2643]\n",
      "[1.2751]\n",
      "[1.2635]\n",
      "[1.2574]\n",
      "[1.2682]\n",
      "[1.2742]\n",
      "[1.2628]\n",
      "[1.2631]\n",
      "[1.268]\n",
      "[1.2595]\n",
      "[1.2685]\n",
      "[1.2661]\n",
      "[1.2656]\n",
      "[1.2662]\n",
      "[1.2598]\n",
      "[1.2744]\n",
      "[1.267]\n",
      "[1.2731]\n",
      "[1.2795]\n",
      "[1.2731]\n",
      "[1.2613]\n",
      "[1.2614]\n",
      "[1.2628]\n",
      "[1.2623]\n",
      "[1.2663]\n",
      "[1.2582]\n",
      "[1.2764]\n",
      "[1.2629]\n",
      "[1.2613]\n",
      "[1.2671]\n",
      "[1.2669]\n",
      "[1.2666]\n",
      "[1.2602]\n",
      "[1.2669]\n",
      "[1.2627]\n",
      "[1.2638]\n",
      "[1.2597]\n",
      "[1.2646]\n",
      "[1.2657]\n",
      "[1.2655]\n",
      "[1.26]\n",
      "[1.2683]\n",
      "[1.2605]\n",
      "[1.2584]\n",
      "[1.2631]\n",
      "[1.2695]\n",
      "[1.2616]\n",
      "[1.2645]\n",
      "[1.2704]\n",
      "[1.2607]\n",
      "[1.2589]\n",
      "[1.2599]\n",
      "[1.2611]\n",
      "[1.2611]\n",
      "[1.2637]\n",
      "[1.267]\n",
      "[1.2616]\n",
      "[1.2687]\n",
      "[1.2684]\n",
      "[1.2687]\n",
      "[1.2644]\n",
      "[1.261]\n",
      "[1.2708]\n",
      "[1.2566]\n",
      "[1.2679]\n",
      "[1.2577]\n",
      "[1.2639]\n",
      "[1.2583]\n",
      "[1.2594]\n",
      "[1.2702]\n",
      "[1.2593]\n",
      "[1.2538]\n",
      "[1.2614]\n",
      "[1.2665]\n",
      "[1.2577]\n",
      "[1.2553]\n",
      "[1.2658]\n",
      "[1.2661]\n",
      "[1.2646]\n",
      "[1.2702]\n",
      "[1.26]\n",
      "[1.2587]\n",
      "[1.2556]\n",
      "[1.2576]\n",
      "[1.2668]\n",
      "[1.2682]\n",
      "[1.2618]\n",
      "[1.2609]\n",
      "[1.2787]\n",
      "[1.2731]\n",
      "[1.2602]\n",
      "[1.2576]\n",
      "[1.2577]\n",
      "[1.2559]\n",
      "[1.2593]\n",
      "[1.2606]\n",
      "[1.2625]\n",
      "[1.2588]\n",
      "[1.2658]\n",
      "[1.264]\n",
      "[1.2621]\n",
      "[1.2746]\n",
      "[1.2546]\n",
      "[1.2595]\n",
      "[1.2593]\n",
      "[1.2646]\n",
      "[1.2671]\n",
      "[1.2617]\n",
      "[1.2616]\n",
      "[1.2586]\n",
      "[1.2614]\n",
      "[1.2601]\n",
      "[1.2647]\n",
      "[1.2634]\n",
      "[1.2551]\n",
      "[1.2603]\n",
      "[1.2731]\n",
      "[1.2656]\n",
      "[1.2569]\n",
      "[1.2648]\n",
      "[1.266]\n",
      "[1.2591]\n",
      "[1.2639]\n",
      "[1.2598]\n",
      "[1.274]\n",
      "[1.255]\n",
      "[1.2566]\n",
      "[1.2609]\n",
      "[1.2559]\n",
      "[1.263]\n",
      "[1.2586]\n",
      "[1.2759]\n",
      "[1.2577]\n",
      "[1.2609]\n",
      "[1.2597]\n",
      "[1.2659]\n",
      "[1.2663]\n",
      "[1.2564]\n",
      "[1.2607]\n",
      "[1.2578]\n",
      "[1.253]\n"
     ]
    },
    {
     "ename": "KeyboardInterrupt",
     "evalue": "",
     "output_type": "error",
     "traceback": [
      "\u001b[0;31m---------------------------------------------------------------------------\u001b[0m",
      "\u001b[0;31mKeyboardInterrupt\u001b[0m                         Traceback (most recent call last)",
      "\u001b[0;32m<timed exec>\u001b[0m in \u001b[0;36m<module>\u001b[0;34m()\u001b[0m\n",
      "\u001b[0;32m/usr/lib/python3.6/site-packages/tensorflow/python/framework/ops.py\u001b[0m in \u001b[0;36meval\u001b[0;34m(self, feed_dict, session)\u001b[0m\n\u001b[1;32m    654\u001b[0m \u001b[0;34m\u001b[0m\u001b[0m\n\u001b[1;32m    655\u001b[0m     \"\"\"\n\u001b[0;32m--> 656\u001b[0;31m     \u001b[0;32mreturn\u001b[0m \u001b[0m_eval_using_default_session\u001b[0m\u001b[0;34m(\u001b[0m\u001b[0mself\u001b[0m\u001b[0;34m,\u001b[0m \u001b[0mfeed_dict\u001b[0m\u001b[0;34m,\u001b[0m \u001b[0mself\u001b[0m\u001b[0;34m.\u001b[0m\u001b[0mgraph\u001b[0m\u001b[0;34m,\u001b[0m \u001b[0msession\u001b[0m\u001b[0;34m)\u001b[0m\u001b[0;34m\u001b[0m\u001b[0m\n\u001b[0m\u001b[1;32m    657\u001b[0m \u001b[0;34m\u001b[0m\u001b[0m\n\u001b[1;32m    658\u001b[0m \u001b[0;34m\u001b[0m\u001b[0m\n",
      "\u001b[0;32m/usr/lib/python3.6/site-packages/tensorflow/python/framework/ops.py\u001b[0m in \u001b[0;36m_eval_using_default_session\u001b[0;34m(tensors, feed_dict, graph, session)\u001b[0m\n\u001b[1;32m   5014\u001b[0m                        \u001b[0;34m\"the tensor's graph is different from the session's \"\u001b[0m\u001b[0;34m\u001b[0m\u001b[0m\n\u001b[1;32m   5015\u001b[0m                        \"graph.\")\n\u001b[0;32m-> 5016\u001b[0;31m   \u001b[0;32mreturn\u001b[0m \u001b[0msession\u001b[0m\u001b[0;34m.\u001b[0m\u001b[0mrun\u001b[0m\u001b[0;34m(\u001b[0m\u001b[0mtensors\u001b[0m\u001b[0;34m,\u001b[0m \u001b[0mfeed_dict\u001b[0m\u001b[0;34m)\u001b[0m\u001b[0;34m\u001b[0m\u001b[0m\n\u001b[0m\u001b[1;32m   5017\u001b[0m \u001b[0;34m\u001b[0m\u001b[0m\n\u001b[1;32m   5018\u001b[0m \u001b[0;34m\u001b[0m\u001b[0m\n",
      "\u001b[0;32m/usr/lib/python3.6/site-packages/tensorflow/python/client/session.py\u001b[0m in \u001b[0;36mrun\u001b[0;34m(self, fetches, feed_dict, options, run_metadata)\u001b[0m\n\u001b[1;32m    903\u001b[0m     \u001b[0;32mtry\u001b[0m\u001b[0;34m:\u001b[0m\u001b[0;34m\u001b[0m\u001b[0m\n\u001b[1;32m    904\u001b[0m       result = self._run(None, fetches, feed_dict, options_ptr,\n\u001b[0;32m--> 905\u001b[0;31m                          run_metadata_ptr)\n\u001b[0m\u001b[1;32m    906\u001b[0m       \u001b[0;32mif\u001b[0m \u001b[0mrun_metadata\u001b[0m\u001b[0;34m:\u001b[0m\u001b[0;34m\u001b[0m\u001b[0m\n\u001b[1;32m    907\u001b[0m         \u001b[0mproto_data\u001b[0m \u001b[0;34m=\u001b[0m \u001b[0mtf_session\u001b[0m\u001b[0;34m.\u001b[0m\u001b[0mTF_GetBuffer\u001b[0m\u001b[0;34m(\u001b[0m\u001b[0mrun_metadata_ptr\u001b[0m\u001b[0;34m)\u001b[0m\u001b[0;34m\u001b[0m\u001b[0m\n",
      "\u001b[0;32m/usr/lib/python3.6/site-packages/tensorflow/python/client/session.py\u001b[0m in \u001b[0;36m_run\u001b[0;34m(self, handle, fetches, feed_dict, options, run_metadata)\u001b[0m\n\u001b[1;32m   1138\u001b[0m     \u001b[0;32mif\u001b[0m \u001b[0mfinal_fetches\u001b[0m \u001b[0;32mor\u001b[0m \u001b[0mfinal_targets\u001b[0m \u001b[0;32mor\u001b[0m \u001b[0;34m(\u001b[0m\u001b[0mhandle\u001b[0m \u001b[0;32mand\u001b[0m \u001b[0mfeed_dict_tensor\u001b[0m\u001b[0;34m)\u001b[0m\u001b[0;34m:\u001b[0m\u001b[0;34m\u001b[0m\u001b[0m\n\u001b[1;32m   1139\u001b[0m       results = self._do_run(handle, final_targets, final_fetches,\n\u001b[0;32m-> 1140\u001b[0;31m                              feed_dict_tensor, options, run_metadata)\n\u001b[0m\u001b[1;32m   1141\u001b[0m     \u001b[0;32melse\u001b[0m\u001b[0;34m:\u001b[0m\u001b[0;34m\u001b[0m\u001b[0m\n\u001b[1;32m   1142\u001b[0m       \u001b[0mresults\u001b[0m \u001b[0;34m=\u001b[0m \u001b[0;34m[\u001b[0m\u001b[0;34m]\u001b[0m\u001b[0;34m\u001b[0m\u001b[0m\n",
      "\u001b[0;32m/usr/lib/python3.6/site-packages/tensorflow/python/client/session.py\u001b[0m in \u001b[0;36m_do_run\u001b[0;34m(self, handle, target_list, fetch_list, feed_dict, options, run_metadata)\u001b[0m\n\u001b[1;32m   1319\u001b[0m     \u001b[0;32mif\u001b[0m \u001b[0mhandle\u001b[0m \u001b[0;32mis\u001b[0m \u001b[0;32mNone\u001b[0m\u001b[0;34m:\u001b[0m\u001b[0;34m\u001b[0m\u001b[0m\n\u001b[1;32m   1320\u001b[0m       return self._do_call(_run_fn, feeds, fetches, targets, options,\n\u001b[0;32m-> 1321\u001b[0;31m                            run_metadata)\n\u001b[0m\u001b[1;32m   1322\u001b[0m     \u001b[0;32melse\u001b[0m\u001b[0;34m:\u001b[0m\u001b[0;34m\u001b[0m\u001b[0m\n\u001b[1;32m   1323\u001b[0m       \u001b[0;32mreturn\u001b[0m \u001b[0mself\u001b[0m\u001b[0;34m.\u001b[0m\u001b[0m_do_call\u001b[0m\u001b[0;34m(\u001b[0m\u001b[0m_prun_fn\u001b[0m\u001b[0;34m,\u001b[0m \u001b[0mhandle\u001b[0m\u001b[0;34m,\u001b[0m \u001b[0mfeeds\u001b[0m\u001b[0;34m,\u001b[0m \u001b[0mfetches\u001b[0m\u001b[0;34m)\u001b[0m\u001b[0;34m\u001b[0m\u001b[0m\n",
      "\u001b[0;32m/usr/lib/python3.6/site-packages/tensorflow/python/client/session.py\u001b[0m in \u001b[0;36m_do_call\u001b[0;34m(self, fn, *args)\u001b[0m\n\u001b[1;32m   1325\u001b[0m   \u001b[0;32mdef\u001b[0m \u001b[0m_do_call\u001b[0m\u001b[0;34m(\u001b[0m\u001b[0mself\u001b[0m\u001b[0;34m,\u001b[0m \u001b[0mfn\u001b[0m\u001b[0;34m,\u001b[0m \u001b[0;34m*\u001b[0m\u001b[0margs\u001b[0m\u001b[0;34m)\u001b[0m\u001b[0;34m:\u001b[0m\u001b[0;34m\u001b[0m\u001b[0m\n\u001b[1;32m   1326\u001b[0m     \u001b[0;32mtry\u001b[0m\u001b[0;34m:\u001b[0m\u001b[0;34m\u001b[0m\u001b[0m\n\u001b[0;32m-> 1327\u001b[0;31m       \u001b[0;32mreturn\u001b[0m \u001b[0mfn\u001b[0m\u001b[0;34m(\u001b[0m\u001b[0;34m*\u001b[0m\u001b[0margs\u001b[0m\u001b[0;34m)\u001b[0m\u001b[0;34m\u001b[0m\u001b[0m\n\u001b[0m\u001b[1;32m   1328\u001b[0m     \u001b[0;32mexcept\u001b[0m \u001b[0merrors\u001b[0m\u001b[0;34m.\u001b[0m\u001b[0mOpError\u001b[0m \u001b[0;32mas\u001b[0m \u001b[0me\u001b[0m\u001b[0;34m:\u001b[0m\u001b[0;34m\u001b[0m\u001b[0m\n\u001b[1;32m   1329\u001b[0m       \u001b[0mmessage\u001b[0m \u001b[0;34m=\u001b[0m \u001b[0mcompat\u001b[0m\u001b[0;34m.\u001b[0m\u001b[0mas_text\u001b[0m\u001b[0;34m(\u001b[0m\u001b[0me\u001b[0m\u001b[0;34m.\u001b[0m\u001b[0mmessage\u001b[0m\u001b[0;34m)\u001b[0m\u001b[0;34m\u001b[0m\u001b[0m\n",
      "\u001b[0;32m/usr/lib/python3.6/site-packages/tensorflow/python/client/session.py\u001b[0m in \u001b[0;36m_run_fn\u001b[0;34m(feed_dict, fetch_list, target_list, options, run_metadata)\u001b[0m\n\u001b[1;32m   1310\u001b[0m       \u001b[0mself\u001b[0m\u001b[0;34m.\u001b[0m\u001b[0m_extend_graph\u001b[0m\u001b[0;34m(\u001b[0m\u001b[0;34m)\u001b[0m\u001b[0;34m\u001b[0m\u001b[0m\n\u001b[1;32m   1311\u001b[0m       return self._call_tf_sessionrun(\n\u001b[0;32m-> 1312\u001b[0;31m           options, feed_dict, fetch_list, target_list, run_metadata)\n\u001b[0m\u001b[1;32m   1313\u001b[0m \u001b[0;34m\u001b[0m\u001b[0m\n\u001b[1;32m   1314\u001b[0m     \u001b[0;32mdef\u001b[0m \u001b[0m_prun_fn\u001b[0m\u001b[0;34m(\u001b[0m\u001b[0mhandle\u001b[0m\u001b[0;34m,\u001b[0m \u001b[0mfeed_dict\u001b[0m\u001b[0;34m,\u001b[0m \u001b[0mfetch_list\u001b[0m\u001b[0;34m)\u001b[0m\u001b[0;34m:\u001b[0m\u001b[0;34m\u001b[0m\u001b[0m\n",
      "\u001b[0;32m/usr/lib/python3.6/site-packages/tensorflow/python/client/session.py\u001b[0m in \u001b[0;36m_call_tf_sessionrun\u001b[0;34m(self, options, feed_dict, fetch_list, target_list, run_metadata)\u001b[0m\n\u001b[1;32m   1418\u001b[0m         return tf_session.TF_Run(\n\u001b[1;32m   1419\u001b[0m             \u001b[0mself\u001b[0m\u001b[0;34m.\u001b[0m\u001b[0m_session\u001b[0m\u001b[0;34m,\u001b[0m \u001b[0moptions\u001b[0m\u001b[0;34m,\u001b[0m \u001b[0mfeed_dict\u001b[0m\u001b[0;34m,\u001b[0m \u001b[0mfetch_list\u001b[0m\u001b[0;34m,\u001b[0m \u001b[0mtarget_list\u001b[0m\u001b[0;34m,\u001b[0m\u001b[0;34m\u001b[0m\u001b[0m\n\u001b[0;32m-> 1420\u001b[0;31m             status, run_metadata)\n\u001b[0m\u001b[1;32m   1421\u001b[0m \u001b[0;34m\u001b[0m\u001b[0m\n\u001b[1;32m   1422\u001b[0m   \u001b[0;32mdef\u001b[0m \u001b[0m_call_tf_sessionprun\u001b[0m\u001b[0;34m(\u001b[0m\u001b[0mself\u001b[0m\u001b[0;34m,\u001b[0m \u001b[0mhandle\u001b[0m\u001b[0;34m,\u001b[0m \u001b[0mfeed_dict\u001b[0m\u001b[0;34m,\u001b[0m \u001b[0mfetch_list\u001b[0m\u001b[0;34m)\u001b[0m\u001b[0;34m:\u001b[0m\u001b[0;34m\u001b[0m\u001b[0m\n",
      "\u001b[0;31mKeyboardInterrupt\u001b[0m: "
     ]
    }
   ],
   "source": [
    "%%time\n",
    "for epoch in range(epoch, epoch+10000):\n",
    "    for i in range(100):\n",
    "        l, _ = sess.run([loss, opt], {phase:True})\n",
    "        if i % 10 == 0 and epoch > 2:\n",
    "            s = all_sum.eval({phase:True})\n",
    "            writer.add_summary(s, global_step=epoch*100 + i)\n",
    "    print(l)\n",
    "#     print(PWalk.inverse_sigma.eval()[:3,:3])\n",
    "#     print('\\n')"
   ]
  },
  {
   "cell_type": "code",
   "execution_count": 59,
   "metadata": {},
   "outputs": [
    {
     "data": {
      "text/plain": [
       "array([0.0098, 0.0094, 0.0097, 0.0091, 0.0104, 0.0107, 0.0095, 0.0095,\n",
       "       0.0117, 0.0116, 0.0096, 0.0102])"
      ]
     },
     "execution_count": 59,
     "metadata": {},
     "output_type": "execute_result"
    }
   ],
   "source": [
    "sd.eval()"
   ]
  },
  {
   "cell_type": "code",
   "execution_count": 54,
   "metadata": {},
   "outputs": [],
   "source": [
    "sd = tf.sqrt(tf.diag_part(PWalk.sigma))"
   ]
  },
  {
   "cell_type": "code",
   "execution_count": null,
   "metadata": {},
   "outputs": [],
   "source": [
    "np.diag(PWalk.fsigma.eval())"
   ]
  },
  {
   "cell_type": "code",
   "execution_count": null,
   "metadata": {},
   "outputs": [],
   "source": [
    "epoch"
   ]
  },
  {
   "cell_type": "code",
   "execution_count": 42,
   "metadata": {},
   "outputs": [],
   "source": [
    "ss = []\n",
    "aa = []\n",
    "for _ in range(3000):\n",
    "    a = PWalk.sigma.eval()\n",
    "    ss.append(np.sqrt(np.diag(a)))\n",
    "    aa.append(a)\n",
    "ss = np.array(ss)\n",
    "aa = np.array(aa)"
   ]
  },
  {
   "cell_type": "code",
   "execution_count": 43,
   "metadata": {},
   "outputs": [
    {
     "data": {
      "text/plain": [
       "array([[ 9.4475e-05, -3.8617e-08,  5.7549e-07,  3.0892e-08,  3.4678e-08],\n",
       "       [-3.8617e-08,  8.9602e-05,  1.0797e-08,  1.0008e-08,  4.8208e-08],\n",
       "       [ 5.7549e-07,  1.0797e-08,  9.6222e-05,  3.0806e-07,  1.1184e-07],\n",
       "       [ 3.0892e-08,  1.0008e-08,  3.0806e-07,  9.4988e-05,  5.2669e-08],\n",
       "       [ 3.4678e-08,  4.8208e-08,  1.1184e-07,  5.2669e-08,  9.9481e-05]])"
      ]
     },
     "execution_count": 43,
     "metadata": {},
     "output_type": "execute_result"
    }
   ],
   "source": [
    "aa.mean(axis=0)[:5,:5]"
   ]
  },
  {
   "cell_type": "code",
   "execution_count": 44,
   "metadata": {},
   "outputs": [
    {
     "data": {
      "text/plain": [
       "(array([0.0097, 0.0095, 0.0098, 0.0097, 0.01  , 0.0102, 0.01  , 0.01  ,\n",
       "        0.0101, 0.0096, 0.0098, 0.0099]),\n",
       " array([0.0005, 0.0005, 0.0005, 0.0005, 0.0005, 0.0005, 0.0005, 0.0005,\n",
       "        0.0005, 0.0005, 0.0005, 0.0005]))"
      ]
     },
     "execution_count": 44,
     "metadata": {},
     "output_type": "execute_result"
    }
   ],
   "source": [
    "np.mean(ss, axis=0), np.std(ss, axis=0)"
   ]
  },
  {
   "cell_type": "code",
   "execution_count": null,
   "metadata": {},
   "outputs": [],
   "source": [
    "sns.kdeplot(ss[:,1], ss[:,0])\n",
    "plt.show()"
   ]
  },
  {
   "cell_type": "code",
   "execution_count": 46,
   "metadata": {},
   "outputs": [],
   "source": [
    "samples = []\n",
    "for _ in range(8000):\n",
    "    s = out.eval({phase:True})\n",
    "    samples.append(s)\n",
    "samples = np.array(samples)"
   ]
  },
  {
   "cell_type": "code",
   "execution_count": null,
   "metadata": {},
   "outputs": [],
   "source": []
  },
  {
   "cell_type": "code",
   "execution_count": 51,
   "metadata": {},
   "outputs": [
    {
     "name": "stdout",
     "output_type": "stream",
     "text": [
      "1 0.9853585627969467 0.11951449908923241\n",
      "2 0.9699330207748809 0.11855940369785078\n",
      "3 0.9540701421769443 0.11753452642376816\n",
      "4 0.9380486971030598 0.11644603560853832\n",
      "5 0.9214991200851105 0.11530480404434715\n",
      "6 0.9046759742730607 0.11411441944088356\n",
      "7 0.8873157053685081 0.11285140446692461\n",
      "8 0.8696008700402196 0.11151759315037375\n",
      "9 0.8517242177592718 0.11011580789943186\n",
      "10 0.8335347300525258 0.10868159891497789\n",
      "11 0.815021592260705 0.10718593881242232\n",
      "12 0.7964184828141888 0.10564211548529344\n",
      "13 0.7776522323781311 0.10409038334626515\n",
      "14 0.7583533425252832 0.10252306957395807\n",
      "15 0.7389536515989993 0.10087726478971319\n",
      "16 0.7194542053223992 0.09919002783475334\n",
      "17 0.6996552942773816 0.09746879355826221\n",
      "18 0.680034615287693 0.09569018130113269\n",
      "19 0.6606821947871078 0.09383871211545233\n"
     ]
    }
   ],
   "source": [
    "ix = [2,0]\n",
    "for d in range(1,20):\n",
    "    d *= 4\n",
    "    sh = [-1, 1]\n",
    "    s1 = np.reshape(samples[:,:-d,ix[0], ix[1]], sh)\n",
    "    s2 = np.reshape(samples[:,d:,ix[0], ix[1]], sh)\n",
    "    s1 -= s1.mean()\n",
    "    s2 -= s2.mean()\n",
    "    cov = np.mean(s1*s2)\n",
    "    \n",
    "    print(d//4, cov/(np.std(s1)*np.std(s2)), np.std(s1))"
   ]
  },
  {
   "cell_type": "code",
   "execution_count": 47,
   "metadata": {},
   "outputs": [
    {
     "name": "stdout",
     "output_type": "stream",
     "text": [
      "1 0.9845679092483259 0.11456496910120868\n",
      "2 0.9686155215778742 0.11362470757932798\n",
      "3 0.9519230188972749 0.11265143951861485\n",
      "4 0.934560995321362 0.11163569349824043\n",
      "5 0.9166273523370817 0.11055196194128945\n",
      "6 0.898265061165654 0.1093896885526279\n",
      "7 0.8796232308971386 0.10814681766664433\n",
      "8 0.8607502841603968 0.10683554444732167\n",
      "9 0.8418018791693167 0.10543187911072659\n",
      "10 0.8226648876349049 0.10393617104054294\n",
      "11 0.8033718254863436 0.102381332550622\n",
      "12 0.7837755397510248 0.10082583247362373\n",
      "13 0.7641139228559936 0.0992334502516869\n",
      "14 0.7444996610407795 0.0975837932735159\n",
      "15 0.7248335590415698 0.09590255279773185\n",
      "16 0.7054423792866007 0.09415962841891667\n",
      "17 0.686251805119828 0.09237664225567412\n",
      "18 0.667408640055795 0.09057219806544842\n",
      "19 0.6484978665501832 0.08880998592291706\n"
     ]
    }
   ],
   "source": [
    "ix = [2,0]\n",
    "for d in range(1,20):\n",
    "    d *= 4\n",
    "    sh = [-1, 1]\n",
    "    s1 = np.reshape(samples[:,:-d,ix[0], ix[1]], sh)\n",
    "    s2 = np.reshape(samples[:,d:,ix[0], ix[1]], sh)\n",
    "    s1 -= s1.mean()\n",
    "    s2 -= s2.mean()\n",
    "    cov = np.mean(s1*s2)\n",
    "    \n",
    "    print(d//4, cov/(np.std(s1)*np.std(s2)), np.std(s1))"
   ]
  },
  {
   "cell_type": "code",
   "execution_count": null,
   "metadata": {},
   "outputs": [],
   "source": [
    "t = -1\n",
    "sns.kdeplot(samples[:,t,2,0], samples[:,0,2,0])\n",
    "plt.show()"
   ]
  },
  {
   "cell_type": "code",
   "execution_count": null,
   "metadata": {},
   "outputs": [],
   "source": [
    "t = 10\n",
    "# params[t]"
   ]
  },
  {
   "cell_type": "code",
   "execution_count": null,
   "metadata": {},
   "outputs": [],
   "source": [
    "np.mean(samples[:,t], axis=0)"
   ]
  },
  {
   "cell_type": "code",
   "execution_count": null,
   "metadata": {},
   "outputs": [],
   "source": [
    "np.mean(samples[:,t], axis=0)"
   ]
  },
  {
   "cell_type": "code",
   "execution_count": null,
   "metadata": {},
   "outputs": [],
   "source": []
  },
  {
   "cell_type": "code",
   "execution_count": null,
   "metadata": {},
   "outputs": [],
   "source": [
    "from sklearn.neighbors.kde import KernelDensity\n",
    "def score(s1, s2):\n",
    "    bw = 0.1\n",
    "    s1 = s1[:,np.newaxis]\n",
    "    s2 = s2[:,np.newaxis]\n",
    "    e1 = KernelDensity(bandwidth=bw).fit(s1)\n",
    "    e2 = KernelDensity(bandwidth=bw).fit(s2)\n",
    "    \n",
    "    e1e2 = e1.score(s1) - e2.score(s1)\n",
    "    e2e1 = e2.score(s2) - e1.score(s2)\n",
    "    dist = (e1e2/len(s1) + e2e1/len(s2))/2\n",
    "    return dist"
   ]
  },
  {
   "cell_type": "code",
   "execution_count": null,
   "metadata": {},
   "outputs": [],
   "source": [
    "def get_cdf(ts):\n",
    "    return lambda x: (ts <= x).mean()\n",
    "def score(s1,s2):\n",
    "    c1 = get_cdf(s1)\n",
    "    c2 = get_cdf(s2)\n",
    "\n",
    "    m = 0\n",
    "    for s in np.concatenate([s1, s2]):\n",
    "        r = np.abs(c1(s) - c2(s))\n",
    "        if r > m:\n",
    "            m = r\n",
    "    return m"
   ]
  },
  {
   "cell_type": "code",
   "execution_count": null,
   "metadata": {},
   "outputs": [],
   "source": [
    "score(s1,s2)"
   ]
  },
  {
   "cell_type": "code",
   "execution_count": null,
   "metadata": {},
   "outputs": [],
   "source": [
    "dists = []\n",
    "for t1 in range(samples.shape[1] - 1):\n",
    "    np.random.seed(1234)\n",
    "    print(t1)\n",
    "    t2 = t1 + 1\n",
    "    s1 = samples[:,t1,0,0]\n",
    "    s2 = samples[:,t2,0,0]\n",
    "    ss = []\n",
    "    for _ in range(10):\n",
    "        s1_ = np.random.choice(s1, size=8000)\n",
    "        s2_ = np.random.choice(s2, size=8000)\n",
    "        m = score(s1_,s2_)\n",
    "        ss.append(m)\n",
    "    dists.append(ss)\n",
    "dists = np.array(dists).T"
   ]
  },
  {
   "cell_type": "markdown",
   "metadata": {},
   "source": [
    "## KDE + KL"
   ]
  },
  {
   "cell_type": "code",
   "execution_count": null,
   "metadata": {},
   "outputs": [],
   "source": [
    "sns.tsplot(dists, ci=[50, 95])\n",
    "plt.show()"
   ]
  },
  {
   "cell_type": "code",
   "execution_count": null,
   "metadata": {},
   "outputs": [],
   "source": [
    "sns.tsplot(dists, ci=[50, 95])\n",
    "plt.show()"
   ]
  },
  {
   "cell_type": "markdown",
   "metadata": {},
   "source": [
    "## Kolmogorov-Smirnov"
   ]
  },
  {
   "cell_type": "code",
   "execution_count": null,
   "metadata": {},
   "outputs": [],
   "source": [
    "sns.tsplot(dists, ci=[50, 95])\n",
    "plt.show()"
   ]
  },
  {
   "cell_type": "code",
   "execution_count": null,
   "metadata": {},
   "outputs": [],
   "source": [
    "tf.pow()"
   ]
  }
 ],
 "metadata": {
  "kernelspec": {
   "display_name": "Python 3.6 (sys p)",
   "language": "python",
   "name": "py3.6"
  },
  "language_info": {
   "codemirror_mode": {
    "name": "ipython",
    "version": 3
   },
   "file_extension": ".py",
   "mimetype": "text/x-python",
   "name": "python",
   "nbconvert_exporter": "python",
   "pygments_lexer": "ipython3",
   "version": "3.6.4"
  }
 },
 "nbformat": 4,
 "nbformat_minor": 2
}
