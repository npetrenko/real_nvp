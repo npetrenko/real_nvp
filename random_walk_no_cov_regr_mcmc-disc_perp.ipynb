{
 "cells": [
  {
   "cell_type": "code",
   "execution_count": 1,
   "metadata": {},
   "outputs": [
    {
     "name": "stdout",
     "output_type": "stream",
     "text": [
      "WARNING:tensorflow:From /usr/lib/python3.6/site-packages/tensorflow/contrib/learn/python/learn/datasets/base.py:198: retry (from tensorflow.contrib.learn.python.learn.datasets.base) is deprecated and will be removed in a future version.\n",
      "Instructions for updating:\n",
      "Use the retry module or similar alternatives.\n"
     ]
    }
   ],
   "source": [
    "import tensorflow as tf\n",
    "import edward as ed\n",
    "import numpy as np\n",
    "import pandas as pd\n",
    "\n",
    "from matplotlib import pyplot as plt\n",
    "import seaborn as sns\n",
    "np.random.seed(1234)"
   ]
  },
  {
   "cell_type": "code",
   "execution_count": 2,
   "metadata": {},
   "outputs": [],
   "source": [
    "sess = tf.InteractiveSession()"
   ]
  },
  {
   "cell_type": "code",
   "execution_count": 3,
   "metadata": {},
   "outputs": [],
   "source": [
    "floatX='float32'"
   ]
  },
  {
   "cell_type": "code",
   "execution_count": 4,
   "metadata": {},
   "outputs": [],
   "source": [
    "data = pd.read_csv('./data/test_rus_data.csv').values.astype(floatX).T[np.newaxis][:,2:]/100\n",
    "# data = data[:,1:]-data[:,:-1]"
   ]
  },
  {
   "cell_type": "code",
   "execution_count": 5,
   "metadata": {},
   "outputs": [
    {
     "data": {
      "text/plain": [
       "(1, 20, 3)"
      ]
     },
     "execution_count": 5,
     "metadata": {},
     "output_type": "execute_result"
    }
   ],
   "source": [
    "data.shape"
   ]
  },
  {
   "cell_type": "code",
   "execution_count": 6,
   "metadata": {},
   "outputs": [
    {
     "name": "stdout",
     "output_type": "stream",
     "text": [
      "[0.2174228  0.16835931 0.01139835]\n"
     ]
    }
   ],
   "source": [
    "stds = (data[0,1:] - data[0,:-1]).std(axis=0)\n",
    "print(stds)\n",
    "data /= stds"
   ]
  },
  {
   "cell_type": "code",
   "execution_count": 7,
   "metadata": {},
   "outputs": [],
   "source": [
    "xs = data"
   ]
  },
  {
   "cell_type": "code",
   "execution_count": 8,
   "metadata": {},
   "outputs": [
    {
     "data": {
      "text/plain": [
       "(1, 20, 3)"
      ]
     },
     "execution_count": 8,
     "metadata": {},
     "output_type": "execute_result"
    }
   ],
   "source": [
    "xs.shape"
   ]
  },
  {
   "cell_type": "code",
   "execution_count": 9,
   "metadata": {},
   "outputs": [],
   "source": [
    "n = data.shape[1]\n",
    "s1 = 0.01\n",
    "s0 = np.sqrt(2.**2 - s1**2)\n",
    "dim = [3,4]\n",
    "T = 50000\n",
    "\n",
    "k = dim[0] * dim[1]\n",
    "\n",
    "t = tf.Variable(0, name='step')\n",
    "\n",
    "pikes = tf.Variable(np.zeros([T,n], dtype='bool'), name='pikes')\n",
    "\n",
    "mean = float(np.log(0.01))\n",
    "std = 0.25\n",
    "c = np.ones(n, dtype=floatX)-1+mean\n",
    "r = np.ones_like(c)*std\n",
    "low_scale = ed.models.Normal(loc=c, scale=r)#Gamma(concentration=c, rate=r)\n",
    "\n",
    "mean = float(np.log(0.3))\n",
    "std = 0.3\n",
    "c = mean\n",
    "r = std\n",
    "incr = ed.models.Normal(loc=c, scale=r)\n",
    "high_scale = tf.exp(low_scale)*(tf.exp(incr)+1)\n",
    "\n",
    "cpikes = tf.gather(pikes, tf.maximum(t-1,0))\n",
    "scale = tf.where(cpikes, high_scale, tf.exp(low_scale))\n",
    "\n",
    "PWalk = ed.models.Normal(loc=np.zeros([n,k], dtype=floatX), scale=scale[:,tf.newaxis])\n",
    "PInit = ed.models.Normal(loc=0., scale=[s0]*k)\n",
    "\n",
    "tmp = tf.reshape(PWalk, [n, k])\n",
    "outs = [PInit]\n",
    "for i in range(n):\n",
    "    ap = outs[-1] + tmp[i]\n",
    "    outs.append(ap)\n",
    "outs = outs[1:]\n",
    "Walk = tf.stack(outs)"
   ]
  },
  {
   "cell_type": "code",
   "execution_count": 10,
   "metadata": {},
   "outputs": [],
   "source": [
    "# vv = tf.exp(low_scale)"
   ]
  },
  {
   "cell_type": "code",
   "execution_count": 11,
   "metadata": {},
   "outputs": [],
   "source": [
    "# vv.eval()"
   ]
  },
  {
   "cell_type": "code",
   "execution_count": 12,
   "metadata": {},
   "outputs": [],
   "source": [
    "def autoregr_tf(X, param):\n",
    "    d = param[:,:dim[-1]-1]\n",
    "    X = tf.matmul(X, d) + param[:,-1][np.newaxis]\n",
    "    return X"
   ]
  },
  {
   "cell_type": "code",
   "execution_count": 13,
   "metadata": {},
   "outputs": [],
   "source": [
    "outputs = tf.reshape(Walk, [1, n, dim[0]*dim[1]])"
   ]
  },
  {
   "cell_type": "code",
   "execution_count": 14,
   "metadata": {},
   "outputs": [],
   "source": [
    "def get_preds():\n",
    "    out = tf.reshape(outputs, [n, dim[0], dim[1]])\n",
    "    \n",
    "    def step1(current):\n",
    "        X = current[0][np.newaxis]\n",
    "        param = current[1]\n",
    "        d = param[:,:dim[-1]-1]\n",
    "        X = tf.matmul(X, d)[0] + param[:,-1]\n",
    "        return X\n",
    "    ret = []\n",
    "    for i in range(n-1):\n",
    "        current = xs[0][i], out[i]\n",
    "        ret.append(step1(current))\n",
    "    return tf.stack(ret)"
   ]
  },
  {
   "cell_type": "code",
   "execution_count": 15,
   "metadata": {},
   "outputs": [],
   "source": [
    "preds = get_preds()"
   ]
  },
  {
   "cell_type": "code",
   "execution_count": 16,
   "metadata": {},
   "outputs": [
    {
     "data": {
      "text/plain": [
       "<tf.Tensor 'stack_1:0' shape=(19, 3) dtype=float32>"
      ]
     },
     "execution_count": 16,
     "metadata": {},
     "output_type": "execute_result"
    }
   ],
   "source": [
    "preds"
   ]
  },
  {
   "cell_type": "code",
   "execution_count": 17,
   "metadata": {},
   "outputs": [],
   "source": [
    "y = ed.models.Normal(loc=preds, scale=1.)"
   ]
  },
  {
   "cell_type": "code",
   "execution_count": 18,
   "metadata": {},
   "outputs": [],
   "source": [
    "low_scale_q = ed.models.Empirical(tf.get_variable('low_scale_q', initializer=tf.zeros([T,n])+0.01))\n",
    "incr_q = ed.models.Empirical(tf.get_variable('incr_q', initializer=tf.zeros([T])+0.01))\n",
    "PWalk_q = ed.models.Empirical(tf.get_variable('PWalk_q', initializer=tf.zeros([T,n,dim[0]*dim[1]])))\n",
    "PInit_q = ed.models.Empirical(tf.get_variable('PInit_q', initializer=tf.zeros([T,dim[0]*dim[1]])))"
   ]
  },
  {
   "cell_type": "code",
   "execution_count": 19,
   "metadata": {},
   "outputs": [
    {
     "name": "stderr",
     "output_type": "stream",
     "text": [
      "/home/nikita/.virtualenvs/py3.6/lib/python3.6/site-packages/edward/util/random_variables.py:52: FutureWarning: Conversion of the second argument of issubdtype from `float` to `np.floating` is deprecated. In future, it will be treated as `np.float64 == np.dtype(float).type`.\n",
      "  not np.issubdtype(value.dtype, np.float) and \\\n"
     ]
    }
   ],
   "source": [
    "subs = {PWalk:PWalk_q, PInit:PInit_q, low_scale:low_scale_q, incr: incr_q}\n",
    "inference = ed.HMC(subs, data={y:xs[0,1:]})"
   ]
  },
  {
   "cell_type": "code",
   "execution_count": 20,
   "metadata": {},
   "outputs": [],
   "source": [
    "extr = lambda t, x: list(map(lambda x: tf.gather(x.get_variables()[0], t), x))\n",
    "vsq = [PWalk_q, PInit_q, low_scale_q, incr_q]\n",
    "vs = [PWalk, PInit, low_scale, incr]\n",
    "eval_points = extr(t, vsq)\n",
    "lps = [tf.reduce_sum(x.log_prob(y)) for x,y in zip(vs, eval_points)]\n",
    "logprob = tf.reduce_sum(lps)"
   ]
  },
  {
   "cell_type": "code",
   "execution_count": 21,
   "metadata": {},
   "outputs": [],
   "source": [
    "pike_inp = tf.placeholder(tf.bool, [n])\n",
    "logprob_eval = ed.copy(logprob, {cpikes:pike_inp})"
   ]
  },
  {
   "cell_type": "code",
   "execution_count": 22,
   "metadata": {},
   "outputs": [
    {
     "name": "stdout",
     "output_type": "stream",
     "text": [
      "190\n"
     ]
    }
   ],
   "source": [
    "def get_pks(n,k):\n",
    "    if k==0:\n",
    "        return [[0]*n]\n",
    "    if n==1:\n",
    "        if k == 1:\n",
    "            return [[1]]\n",
    "        elif k==0:\n",
    "            return [[0]]\n",
    "        else:\n",
    "            raise ValueError\n",
    "    \n",
    "    ret = []\n",
    "    ret += [[1] + x for x in get_pks(n-1, k-1)]\n",
    "    if n > k:\n",
    "        ret += [[0] + x for x in get_pks(n-1,k)]\n",
    "    return ret\n",
    "\n",
    "all_pks = get_pks(n, 2)\n",
    "print(len(all_pks))\n",
    "def sample_pikes():\n",
    "    evl = lambda pike: sess.run(logprob_eval, {pike_inp:pike})\n",
    "    probs = [evl(x) for x in all_pks]\n",
    "    probs = np.array(probs)\n",
    "    probs -= logsumexp(a=probs,b=1/len(probs))#probs.mean()\n",
    "#     print(probs)\n",
    "    probs = np.exp(probs.astype('float64'))\n",
    "#     print(probs)\n",
    "    probs /= probs.sum()\n",
    "    if np.any(np.isnan(probs)):\n",
    "        raise ValueError\n",
    "    smp = np.random.choice(range(len(all_pks)), p=probs)\n",
    "    return np.array(all_pks[smp]).astype('bool')"
   ]
  },
  {
   "cell_type": "code",
   "execution_count": 23,
   "metadata": {},
   "outputs": [],
   "source": [
    "from scipy.misc import logsumexp"
   ]
  },
  {
   "cell_type": "code",
   "execution_count": 24,
   "metadata": {},
   "outputs": [],
   "source": [
    "inference.initialize(step_size=1e-3,n_steps=20)\n",
    "tf.global_variables_initializer().run()"
   ]
  },
  {
   "cell_type": "code",
   "execution_count": 25,
   "metadata": {},
   "outputs": [],
   "source": [
    "pikes_upd = tf.scatter_update(pikes, t, pike_inp)\n",
    "upd_op = t.assign_add(1)"
   ]
  },
  {
   "cell_type": "code",
   "execution_count": 26,
   "metadata": {},
   "outputs": [],
   "source": [
    "i=0"
   ]
  },
  {
   "cell_type": "code",
   "execution_count": 27,
   "metadata": {},
   "outputs": [],
   "source": [
    "# new_pike = sample_pikes()"
   ]
  },
  {
   "cell_type": "code",
   "execution_count": 28,
   "metadata": {},
   "outputs": [],
   "source": [
    "# new_pike"
   ]
  },
  {
   "cell_type": "code",
   "execution_count": 29,
   "metadata": {},
   "outputs": [
    {
     "name": "stderr",
     "output_type": "stream",
     "text": [
      "/home/nikita/.virtualenvs/py3.6/lib/python3.6/site-packages/ipykernel_launcher.py:24: DeprecationWarning: `logsumexp` is deprecated!\n",
      "Importing `logsumexp` from scipy.misc is deprecated in scipy 1.0.0. Use `scipy.special.logsumexp` instead.\n"
     ]
    },
    {
     "name": "stdout",
     "output_type": "stream",
     "text": [
      "50000/50000 [100%] ██████████████████████████████ Elapsed: 3577s | Acceptance Rate: 0.990\n"
     ]
    }
   ],
   "source": [
    "for i in range(i,inference.n_iter):\n",
    "    res = inference.update()\n",
    "    new_pike = sample_pikes()\n",
    "    if i != inference.n_iter -1:\n",
    "        sess.run(pikes_upd, {pike_inp:new_pike})\n",
    "        sess.run(upd_op)\n",
    "    inference.print_progress(res)"
   ]
  },
  {
   "cell_type": "code",
   "execution_count": 30,
   "metadata": {},
   "outputs": [],
   "source": [
    "# i = 2\n",
    "# logprob_eval = ed.copy(tf.reduce_sum(vs[i].log_prob(eval_points[i])), {cpikes:pike_inp})"
   ]
  },
  {
   "cell_type": "code",
   "execution_count": 31,
   "metadata": {},
   "outputs": [
    {
     "data": {
      "text/plain": [
       "[<ed.RandomVariable 'Normal_2/' shape=(20, 12) dtype=float32>,\n",
       " <ed.RandomVariable 'Normal_3/' shape=(12,) dtype=float32>,\n",
       " <ed.RandomVariable 'Normal/' shape=(20,) dtype=float32>,\n",
       " <ed.RandomVariable 'Normal_1/' shape=() dtype=float32>]"
      ]
     },
     "execution_count": 31,
     "metadata": {},
     "output_type": "execute_result"
    }
   ],
   "source": [
    "vs"
   ]
  },
  {
   "cell_type": "code",
   "execution_count": 26,
   "metadata": {},
   "outputs": [],
   "source": [
    "evl = lambda pike: sess.run(logprob_eval, {pike_inp:pike})"
   ]
  },
  {
   "cell_type": "code",
   "execution_count": 27,
   "metadata": {},
   "outputs": [
    {
     "data": {
      "text/plain": [
       "91.4899"
      ]
     },
     "execution_count": 27,
     "metadata": {},
     "output_type": "execute_result"
    }
   ],
   "source": [
    "evl(all_pks[2])"
   ]
  },
  {
   "cell_type": "code",
   "execution_count": 28,
   "metadata": {},
   "outputs": [],
   "source": [
    "# sess.run(t.assign(20))"
   ]
  },
  {
   "cell_type": "code",
   "execution_count": 32,
   "metadata": {},
   "outputs": [],
   "source": [
    "out = tf.reshape(ed.copy(outputs, {PWalk:PWalk_q, PInit:PInit_q}), [n, dim[0], dim[1]])"
   ]
  },
  {
   "cell_type": "code",
   "execution_count": 33,
   "metadata": {},
   "outputs": [],
   "source": [
    "samples=[]\n",
    "for _ in range(3000):\n",
    "    samples.append(out.eval())\n",
    "samples = np.array(samples)"
   ]
  },
  {
   "cell_type": "code",
   "execution_count": null,
   "metadata": {},
   "outputs": [],
   "source": []
  },
  {
   "cell_type": "code",
   "execution_count": 34,
   "metadata": {},
   "outputs": [],
   "source": [
    "# def burnin(*emps):\n",
    "#     return map(ed.models.Empirical, [x.get_variables()[0][2000:] for x in emps])"
   ]
  },
  {
   "cell_type": "code",
   "execution_count": 35,
   "metadata": {},
   "outputs": [],
   "source": [
    "# PWalk_q, PInit_q = burnin(PWalk_q, PInit_q)"
   ]
  },
  {
   "cell_type": "code",
   "execution_count": 36,
   "metadata": {
    "scrolled": true
   },
   "outputs": [
    {
     "data": {
      "text/plain": [
       "(3000, 20, 3, 4)"
      ]
     },
     "execution_count": 36,
     "metadata": {},
     "output_type": "execute_result"
    }
   ],
   "source": [
    "samples.shape"
   ]
  },
  {
   "cell_type": "code",
   "execution_count": 37,
   "metadata": {},
   "outputs": [
    {
     "data": {
      "image/png": "[encoded data removed]",
      "text/plain": [
       "<Figure size 432x288 with 1 Axes>"
      ]
     },
     "metadata": {},
     "output_type": "display_data"
    }
   ],
   "source": [
    "sns.kdeplot(samples[:,0,2,0], samples[:,11,0,3])\n",
    "plt.show()"
   ]
  },
  {
   "cell_type": "code",
   "execution_count": 38,
   "metadata": {},
   "outputs": [],
   "source": [
    "pp = pikes.eval().mean(axis=0)"
   ]
  },
  {
   "cell_type": "code",
   "execution_count": 39,
   "metadata": {},
   "outputs": [
    {
     "data": {
      "image/png": "[encoded data removed]",
      "text/plain": [
       "<Figure size 432x288 with 1 Axes>"
      ]
     },
     "metadata": {},
     "output_type": "display_data"
    }
   ],
   "source": [
    "x = range(1996,2016)\n",
    "plt.plot(x,pp)\n",
    "plt.show()"
   ]
  },
  {
   "cell_type": "code",
   "execution_count": 37,
   "metadata": {},
   "outputs": [
    {
     "data": {
      "text/plain": [
       "array([[-0.4293576 , -0.00101855, -0.23306388,  0.04272224],\n",
       "       [ 0.27944702, -0.331215  ,  0.00592506, -0.06579777],\n",
       "       [ 0.14394076, -0.2612748 ,  0.14227562, -0.13728476]],\n",
       "      dtype=float32)"
      ]
     },
     "execution_count": 37,
     "metadata": {},
     "output_type": "execute_result"
    }
   ],
   "source": [
    "samples.mean(axis=0)[10]"
   ]
  },
  {
   "cell_type": "code",
   "execution_count": 38,
   "metadata": {},
   "outputs": [],
   "source": [
    "high_scale_q = ed.copy(high_scale, {low_scale:low_scale_q, incr: incr_q})"
   ]
  },
  {
   "cell_type": "code",
   "execution_count": 48,
   "metadata": {},
   "outputs": [],
   "source": [
    "samples = []\n",
    "for _ in range(3000):\n",
    "    s = sess.run([low_scale_q, high_scale_q])\n",
    "    s[0] = np.exp(s[0])\n",
    "    samples.append(s)\n",
    "samples=np.array(samples)"
   ]
  },
  {
   "cell_type": "code",
   "execution_count": 50,
   "metadata": {},
   "outputs": [
    {
     "data": {
      "image/png": "[encoded data removed]",
      "text/plain": [
       "<Figure size 432x288 with 1 Axes>"
      ]
     },
     "metadata": {},
     "output_type": "display_data"
    }
   ],
   "source": [
    "sns.kdeplot(samples[:,0,10], samples[:,1,10])\n",
    "plt.show()"
   ]
  },
  {
   "cell_type": "code",
   "execution_count": 46,
   "metadata": {},
   "outputs": [
    {
     "data": {
      "text/plain": [
       "(3000, 2, 19)"
      ]
     },
     "execution_count": 46,
     "metadata": {},
     "output_type": "execute_result"
    }
   ],
   "source": [
    "samples.shape"
   ]
  },
  {
   "cell_type": "code",
   "execution_count": null,
   "metadata": {},
   "outputs": [],
   "source": []
  }
 ],
 "metadata": {
  "kernelspec": {
   "display_name": "py3.6",
   "language": "python",
   "name": "py3.6"
  },
  "language_info": {
   "codemirror_mode": {
    "name": "ipython",
    "version": 3
   },
   "file_extension": ".py",
   "mimetype": "text/x-python",
   "name": "python",
   "nbconvert_exporter": "python",
   "pygments_lexer": "ipython3",
   "version": "3.6.4"
  }
 },
 "nbformat": 4,
 "nbformat_minor": 2
}
