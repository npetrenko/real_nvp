{
 "cells": [
  {
   "cell_type": "code",
   "execution_count": 1,
   "metadata": {},
   "outputs": [
    {
     "name": "stdout",
     "output_type": "stream",
     "text": [
      "WARNING:tensorflow:From /usr/lib/python3.6/site-packages/tensorflow/contrib/learn/python/learn/datasets/base.py:198: retry (from tensorflow.contrib.learn.python.learn.datasets.base) is deprecated and will be removed in a future version.\n",
      "Instructions for updating:\n",
      "Use the retry module or similar alternatives.\n"
     ]
    }
   ],
   "source": [
    "import tensorflow as tf\n",
    "from flows import DistLSTM, NormalRW, DFlow, ResFlow, NVPFlow, LogNormal, phase,\\\n",
    "Normal, floatX, MVNormal, MVNormalRW, Linear, CFlow, LinearChol\n",
    "import numpy as np\n",
    "import pandas as pd\n",
    "from matplotlib import pyplot as plt\n",
    "import seaborn as sns\n",
    "from tensorflow.contrib.distributions import WishartCholesky\n",
    "import flows\n",
    "import math\n",
    "\n",
    "np.random.seed(1234)"
   ]
  },
  {
   "cell_type": "code",
   "execution_count": 2,
   "metadata": {},
   "outputs": [],
   "source": [
    "# flows.floatX = 'float32'"
   ]
  },
  {
   "cell_type": "code",
   "execution_count": 3,
   "metadata": {},
   "outputs": [],
   "source": [
    "# floatX = flows.floatX."
   ]
  },
  {
   "cell_type": "code",
   "execution_count": 4,
   "metadata": {},
   "outputs": [],
   "source": [
    "data = pd.read_csv('./data/test_aus_data.csv').values.astype(floatX).T[np.newaxis]/100#[:,2:]"
   ]
  },
  {
   "cell_type": "code",
   "execution_count": 5,
   "metadata": {},
   "outputs": [
    {
     "name": "stdout",
     "output_type": "stream",
     "text": [
      "[146.57789207 147.60439221 147.96599127]\n"
     ]
    }
   ],
   "source": [
    "stds = (data[0,1:] - data[0,:-1]).std(axis=0)\n",
    "print(stds)\n",
    "data /= stds"
   ]
  },
  {
   "cell_type": "code",
   "execution_count": 6,
   "metadata": {},
   "outputs": [
    {
     "data": {
      "text/plain": [
       "False"
      ]
     },
     "execution_count": 6,
     "metadata": {},
     "output_type": "execute_result"
    }
   ],
   "source": [
    "np.any(np.isnan(data))"
   ]
  },
  {
   "cell_type": "code",
   "execution_count": 7,
   "metadata": {},
   "outputs": [],
   "source": [
    "xs = data"
   ]
  },
  {
   "cell_type": "code",
   "execution_count": 8,
   "metadata": {},
   "outputs": [
    {
     "name": "stdout",
     "output_type": "stream",
     "text": [
      "<tensorflow.python.ops.variable_scope.VariableScope object at 0x7f6e83a5f208>\n",
      "<tensorflow.python.ops.variable_scope.VariableScope object at 0x7f6e83a5f908>\n"
     ]
    }
   ],
   "source": [
    "n = data.shape[1]\n",
    "s1_prior_d = LogNormal(1, mu=math.log(0.01), sigma=0.8)\n",
    "\n",
    "with tf.variable_scope('s1_inference', initializer=tf.random_normal_initializer(stddev=0.05), dtype=floatX):\n",
    "    mu = tf.get_variable('mu', shape=[1])\n",
    "    sigma = tf.get_variable('sigma', shape=[1])\n",
    "    s1_d = LogNormal(1, mu=mu, sigma=sigma)\n",
    "    \n",
    "s1 = s1_d.sample()\n",
    "s1_prior = s1_prior_d.logdens(s1)\n",
    "\n",
    "with tf.variable_scope('incr_inference', initializer=tf.random_normal_initializer(stddev=0.05), dtype=floatX):\n",
    "    mu = tf.get_variable('mu', shape=[1])\n",
    "    sigma = tf.get_variable('sigma', shape=[1])\n",
    "    incr_d = LogNormal(1, mu=mu, sigma=sigma)\n",
    "    \n",
    "incr_prior_d = LogNormal(1, mu=math.log(.8), sigma=.5)\n",
    "incr = incr_d.sample()\n",
    "incr_prior = incr_prior_d.logdens(incr)\n",
    "\n",
    "incr += 1\n",
    "s_shock = s1*incr\n",
    "s0 = 2.\n",
    "dim = [3,4]\n",
    "\n",
    "k = dim[0] * dim[1]\n",
    "# with tf.variable_scope('pwalk_inf', reuse=tf.AUTO_REUSE):\n",
    "#     ldiag = DFlow([NVPFlow(dim=k, name='ldiag_flow_' + str(i)) for i in range(4)])\n",
    "#     ldiag.logdens -= tf.reduce_sum(ldiag.output)\n",
    "# PWalk = MVNormalRW(dim[0]*dim[1], sigma=s1, sigma0=s0, name='OrdWalk', \n",
    "#                    ldiag=ldiag.output[0]+np.log(1/s1))\n",
    "# PWalk_shock = MVNormalRW(dim=dim[0]*dim[1], sigma0=s0, sigma=s_shock, name='ShockWalk', \n",
    "#                        ldiag=ldiag.output[0]+np.log(1/s1)-np.log(0.5))\n",
    "# PWalk = MVNormalRW(dim[0]*dim[1], sigma=s1, sigma0=s0, name='param_walk_prior')\n",
    "PWalk = NormalRW(dim=None, sigma0=s0, sigma=s1, name='OrdWalk')\n",
    "PWalk_shock = NormalRW(dim=None, sigma0=s0, sigma=s_shock, name='ShockWalk')"
   ]
  },
  {
   "cell_type": "code",
   "execution_count": 61,
   "metadata": {},
   "outputs": [],
   "source": [
    "ss = []\n",
    "for _ in range(1000):\n",
    "    n = sess.run([s1, s_shock])\n",
    "    ss.append(n)\n",
    "ss = np.array(ss)[:,:,0]"
   ]
  },
  {
   "cell_type": "code",
   "execution_count": 62,
   "metadata": {},
   "outputs": [
    {
     "data": {
      "text/plain": [
       "array([0.0178, 0.0221])"
      ]
     },
     "execution_count": 62,
     "metadata": {},
     "output_type": "execute_result"
    }
   ],
   "source": [
    "ss.mean(axis=0)"
   ]
  },
  {
   "cell_type": "code",
   "execution_count": 8,
   "metadata": {},
   "outputs": [],
   "source": [
    "# sess = tf.InteractiveSession()\n",
    "# tf.global_variables_initializer().run()"
   ]
  },
  {
   "cell_type": "code",
   "execution_count": 9,
   "metadata": {},
   "outputs": [],
   "source": [
    "# s1.eval()"
   ]
  },
  {
   "cell_type": "code",
   "execution_count": 10,
   "metadata": {},
   "outputs": [
    {
     "data": {
      "text/plain": [
       "(<tf.Tensor 'LogNormal_1/Exp:0' shape=(1,) dtype=float64>,\n",
       " <tf.Tensor 'add:0' shape=(1,) dtype=float64>)"
      ]
     },
     "execution_count": 10,
     "metadata": {},
     "output_type": "execute_result"
    }
   ],
   "source": [
    "s1, incr"
   ]
  },
  {
   "cell_type": "code",
   "execution_count": null,
   "metadata": {},
   "outputs": [],
   "source": []
  },
  {
   "cell_type": "code",
   "execution_count": 8,
   "metadata": {},
   "outputs": [],
   "source": [
    "# a = tf.linalg.inv(PWalk.inverse_sigma)\n",
    "# tf.summary.histogram('WALK',tf.sqrt(tf.diag(a)))"
   ]
  },
  {
   "cell_type": "code",
   "execution_count": 9,
   "metadata": {},
   "outputs": [],
   "source": [
    "def autoregr_tf(X, param):\n",
    "    d = param[:,:dim[-1]-1]\n",
    "    X = tf.matmul(X, d) + param[:,-1][np.newaxis]\n",
    "    return X"
   ]
  },
  {
   "cell_type": "code",
   "execution_count": 10,
   "metadata": {},
   "outputs": [],
   "source": [
    "dim_ = dim[0]*dim[1]\n",
    "\n",
    "init = Normal([1,n, dim_], sigma=0.01)\n",
    "out_sample = init.sample()\n",
    "\n",
    "flows_0 = [LinearChol(dim_, name='lc0_0', use_bias=False)(out_sample[:,0,:])]\n",
    "for i in range(n-1):\n",
    "    aux = flows_0[-1][-1].output\n",
    "    new = LinearChol(dim_, name='lc0_{}'.format(i+1), aux_vars=aux, use_bias=False)(out_sample[:,i+1,:])\n",
    "    flows_0.append(new)"
   ]
  },
  {
   "cell_type": "code",
   "execution_count": 11,
   "metadata": {},
   "outputs": [],
   "source": [
    "flows = flows_0\n",
    "outputs = [x[-1].output for x in flows_0]\n",
    "outputs = tf.concat(outputs, axis=0)\n",
    "outputs += tf.Variable(np.zeros([n,dim_], floatX))\n",
    "outputs = tf.cumsum(outputs)[tf.newaxis]"
   ]
  },
  {
   "cell_type": "code",
   "execution_count": 12,
   "metadata": {},
   "outputs": [],
   "source": [
    "# init_out = tf.stack([outputs[0,0]]*n)[tf.newaxis]\n",
    "\n",
    "# outputs = tf.where(phase, outputs, init_out)"
   ]
  },
  {
   "cell_type": "code",
   "execution_count": 13,
   "metadata": {},
   "outputs": [],
   "source": [
    "# init_out"
   ]
  },
  {
   "cell_type": "code",
   "execution_count": 14,
   "metadata": {},
   "outputs": [
    {
     "data": {
      "text/plain": [
       "<tf.Tensor 'strided_slice_38:0' shape=(1, 38, 12) dtype=float64>"
      ]
     },
     "execution_count": 14,
     "metadata": {},
     "output_type": "execute_result"
    }
   ],
   "source": [
    "outputs"
   ]
  },
  {
   "cell_type": "code",
   "execution_count": 15,
   "metadata": {},
   "outputs": [],
   "source": [
    "prior_ord = PWalk.logdens(outputs, reduce=False)\n",
    "prior_shock = PWalk_shock.logdens(outputs, reduce=False)"
   ]
  },
  {
   "cell_type": "code",
   "execution_count": 16,
   "metadata": {},
   "outputs": [
    {
     "data": {
      "text/plain": [
       "(<tf.Tensor 'OrdWalk_2/concat:0' shape=(1, 38) dtype=float64>,\n",
       " <tf.Tensor 'ShockWalk_2/concat:0' shape=(1, 38) dtype=float64>)"
      ]
     },
     "execution_count": 16,
     "metadata": {},
     "output_type": "execute_result"
    }
   ],
   "source": [
    "prior_ord, prior_shock"
   ]
  },
  {
   "cell_type": "code",
   "execution_count": 17,
   "metadata": {},
   "outputs": [
    {
     "data": {
      "text/plain": [
       "<tf.Tensor 'strided_slice_39:0' shape=(1, 37, 1) dtype=float64>"
      ]
     },
     "execution_count": 17,
     "metadata": {},
     "output_type": "execute_result"
    }
   ],
   "source": [
    "aux = tf.range(0,data.shape[1]-1, dtype=floatX)[tf.newaxis,:,tf.newaxis]\n",
    "aux"
   ]
  },
  {
   "cell_type": "code",
   "execution_count": 18,
   "metadata": {},
   "outputs": [],
   "source": [
    "# shock_d = DistLSTM(2, name='Shock_Distr', sample_len=20, aux_vars=aux, state_dim=32, num_layers=2)\n",
    "with tf.variable_scope('Shock_Distr', dtype=floatX):\n",
    "    logits = tf.get_variable('bern_logits', shape=[1,data.shape[1],1], \n",
    "                             initializer=tf.random_normal_initializer(stddev=0.1, mean=-1.))\n",
    "    shock_d = tf.distributions.Bernoulli(logits=logits)"
   ]
  },
  {
   "cell_type": "code",
   "execution_count": 19,
   "metadata": {},
   "outputs": [],
   "source": [
    "shocks = shock_d.sample()\n",
    "shock_prior = tf.contrib.distributions.Poisson(rate=4.*data.shape[1]/20)"
   ]
  },
  {
   "cell_type": "code",
   "execution_count": 20,
   "metadata": {},
   "outputs": [
    {
     "data": {
      "text/plain": [
       "<tf.Tensor 'Cast_1:0' shape=() dtype=float64>"
      ]
     },
     "execution_count": 20,
     "metadata": {},
     "output_type": "execute_result"
    }
   ],
   "source": [
    "num_shocks = tf.reduce_sum(tf.cast(shocks[:,:,0], tf.float32))\n",
    "tf.summary.scalar('num_shocks', num_shocks)\n",
    "# num_shocks = tf.Print(num_shocks, data=[num_shocks])\n",
    "shock_prior = shock_prior.log_prob(num_shocks)\n",
    "shock_prior = tf.cast(shock_prior, tf.float64)\n",
    "tf.summary.scalar('shock_prior', shock_prior)\n",
    "shock_prior"
   ]
  },
  {
   "cell_type": "code",
   "execution_count": 21,
   "metadata": {},
   "outputs": [
    {
     "name": "stdout",
     "output_type": "stream",
     "text": [
      "Tensor(\"Select:0\", shape=(1, 38), dtype=float64)\n"
     ]
    },
    {
     "data": {
      "text/plain": [
       "<tf.Tensor 'prior:0' shape=() dtype=string>"
      ]
     },
     "execution_count": 21,
     "metadata": {},
     "output_type": "execute_result"
    }
   ],
   "source": [
    "prior = tf.where(tf.cast(shocks[:,:,0], tf.bool), prior_shock, prior_ord)\n",
    "print(prior)\n",
    "prior = tf.reduce_sum(prior) + shock_prior\n",
    "tf.summary.scalar('prior', prior)"
   ]
  },
  {
   "cell_type": "code",
   "execution_count": 22,
   "metadata": {},
   "outputs": [],
   "source": [
    "def create_loglik2():\n",
    "    obs_d = Normal(dim=None, sigma=1., mu=0)\n",
    "    out = tf.reshape(outputs, [n, dim[0], dim[1]])\n",
    "    \n",
    "    def step1(current):\n",
    "        X = current[0][np.newaxis]\n",
    "        param = current[1]\n",
    "        d = param[:,:dim[-1]-1]\n",
    "        X = tf.matmul(X, d)[0] + param[:,-1]\n",
    "        return X\n",
    "    \n",
    "    ar = tf.map_fn(step1, (xs[0][:-1], out[:-1]), dtype=floatX)\n",
    "    return obs_d.logdens(ar - xs[0][1:])"
   ]
  },
  {
   "cell_type": "code",
   "execution_count": 23,
   "metadata": {},
   "outputs": [
    {
     "data": {
      "text/plain": [
       "<tf.Tensor 'logl:0' shape=() dtype=string>"
      ]
     },
     "execution_count": 23,
     "metadata": {},
     "output_type": "execute_result"
    }
   ],
   "source": [
    "logl = create_loglik2()\n",
    "tf.summary.scalar('logl', logl)"
   ]
  },
  {
   "cell_type": "code",
   "execution_count": 24,
   "metadata": {},
   "outputs": [],
   "source": [
    "# df = dim[0]*dim[1]\n",
    "# pmat = np.diag([(1/s1**2)]*(dim[0]*dim[1]))/df\n",
    "# cov_prior = WishartCholesky(df, pmat, cholesky_input_output_matrices=True)"
   ]
  },
  {
   "cell_type": "code",
   "execution_count": 25,
   "metadata": {},
   "outputs": [],
   "source": [
    "# shock_d.log_prob(shocks)"
   ]
  },
  {
   "cell_type": "code",
   "execution_count": 26,
   "metadata": {
    "scrolled": false
   },
   "outputs": [
    {
     "data": {
      "text/plain": [
       "<tf.Tensor 'shock_ent:0' shape=() dtype=string>"
      ]
     },
     "execution_count": 26,
     "metadata": {},
     "output_type": "execute_result"
    }
   ],
   "source": [
    "shock_prob = tf.reduce_sum(shock_d.log_prob(shocks))\n",
    "tf.summary.scalar('shock_ent', -shock_prob)"
   ]
  },
  {
   "cell_type": "code",
   "execution_count": 27,
   "metadata": {},
   "outputs": [],
   "source": [
    "ent = -tf.reduce_sum([flow[-1].logj for flow in flows]) + init.logdens(out_sample)\n",
    "# ent = tf.where(phase, ent, -flows[0][-1].logj + init.logdens(out_sample[:,0]))"
   ]
  },
  {
   "cell_type": "code",
   "execution_count": 28,
   "metadata": {},
   "outputs": [],
   "source": [
    "prior += incr_prior + s1_prior"
   ]
  },
  {
   "cell_type": "code",
   "execution_count": 29,
   "metadata": {},
   "outputs": [],
   "source": [
    "KLd = -logl - prior + ent + shock_prob# - cov_prior.log_prob(PWalk.fsigma) + ldiag.logdens# + lowerd.logdens\n",
    "KLd /= n*dim[0]*dim[1]"
   ]
  },
  {
   "cell_type": "code",
   "execution_count": 30,
   "metadata": {},
   "outputs": [
    {
     "data": {
      "text/plain": [
       "[<tf.Variable 'Shock_Distr/bern_logits:0' shape=(1, 38, 1) dtype=float64_ref>]"
      ]
     },
     "execution_count": 30,
     "metadata": {},
     "output_type": "execute_result"
    }
   ],
   "source": [
    "shock_vars = [x for x in tf.global_variables() if 'Shock_Distr' in x.name]\n",
    "shock_vars"
   ]
  },
  {
   "cell_type": "code",
   "execution_count": 31,
   "metadata": {},
   "outputs": [],
   "source": [
    "shock_reinforce = tf.gradients(shock_prob, shock_vars)\n",
    "with tf.variable_scope('CV', dtype=floatX, initializer=tf.random_normal_initializer(stddev=0.1)):\n",
    "#     shock_flat = tf.reshape(shocks, [1,20])\n",
    "#     W = tf.get_variable('W1', shape=[20,80])\n",
    "#     b = tf.get_variable('b1', shape=[1,80])\n",
    "#     cv1 = tf.matmul(shock_flat, W) + b\n",
    "#     cv1 = tf.nn.tanh(cv1)\n",
    "#     W = tf.get_variable('W2', shape=[80,1])\n",
    "#     b = tf.get_variable('b2', shape=[1,1])\n",
    "#     cv2 = tf.matmul(cv1, W) + b\n",
    "#     print(cv2)\n",
    "#     cv2 = cv2[0,0]\n",
    "#     cv = tf.get_variable('cv', shape=(1,))\n",
    "#     controls = [cv]\n",
    "    cv = tf.get_variable('cv', shape=(1,), trainable=False)\n",
    "    cv_op = cv.assign(0.96*cv + 0.04*KLd)\n",
    "# shock_reinforce = [x*KLd for x in shock_reinforce]\n",
    "# shock_reinforce = [x*(KLd-cv) for x,cv in zip(shock_reinforce, controls)]\n",
    "shock_reinforce = [x*(KLd-cv) for x in shock_reinforce]"
   ]
  },
  {
   "cell_type": "code",
   "execution_count": 32,
   "metadata": {},
   "outputs": [
    {
     "data": {
      "text/plain": [
       "<tf.Tensor 'cv_loss:0' shape=() dtype=string>"
      ]
     },
     "execution_count": 32,
     "metadata": {},
     "output_type": "execute_result"
    }
   ],
   "source": [
    "cv_loss = [tf.reduce_mean(x*x) for x in shock_reinforce]\n",
    "cv_loss = tf.reduce_mean(cv_loss)\n",
    "tf.summary.scalar('cv_loss', cv_loss)\n",
    "# cv_gradients = tf.gradients(cv_loss, controls)"
   ]
  },
  {
   "cell_type": "code",
   "execution_count": 33,
   "metadata": {},
   "outputs": [],
   "source": [
    "rest_vars = [x for x in tf.global_variables() if not ('CV' in x.name or 'Shock_distr' in x.name)]\n",
    "rest_gradients = tf.gradients(KLd, rest_vars)"
   ]
  },
  {
   "cell_type": "code",
   "execution_count": 34,
   "metadata": {},
   "outputs": [],
   "source": [
    "xs = shock_vars + rest_vars# + controls \n",
    "grads = shock_reinforce + rest_gradients# + cv_gradients \n",
    "updates = [(g,x) for x,g in zip(xs, grads)]"
   ]
  },
  {
   "cell_type": "code",
   "execution_count": 35,
   "metadata": {},
   "outputs": [
    {
     "data": {
      "text/plain": [
       "<tf.Tensor 'truediv:0' shape=() dtype=float64>"
      ]
     },
     "execution_count": 35,
     "metadata": {},
     "output_type": "execute_result"
    }
   ],
   "source": [
    "KLd"
   ]
  },
  {
   "cell_type": "code",
   "execution_count": 36,
   "metadata": {},
   "outputs": [
    {
     "data": {
      "text/plain": [
       "<tf.Tensor 'KLd:0' shape=() dtype=string>"
      ]
     },
     "execution_count": 36,
     "metadata": {},
     "output_type": "execute_result"
    }
   ],
   "source": [
    "tf.summary.scalar('KLd', KLd)"
   ]
  },
  {
   "cell_type": "code",
   "execution_count": 37,
   "metadata": {},
   "outputs": [],
   "source": [
    "opt = tf.train.AdamOptimizer(0.0003)"
   ]
  },
  {
   "cell_type": "code",
   "execution_count": 38,
   "metadata": {},
   "outputs": [],
   "source": [
    "opt = [opt.apply_gradients(updates), cv_op]"
   ]
  },
  {
   "cell_type": "code",
   "execution_count": 39,
   "metadata": {},
   "outputs": [],
   "source": [
    "sess = tf.InteractiveSession()"
   ]
  },
  {
   "cell_type": "code",
   "execution_count": 40,
   "metadata": {},
   "outputs": [
    {
     "name": "stdout",
     "output_type": "stream",
     "text": [
      "rm: cannot remove '/tmp/tfdbg': No such file or directory\r\n"
     ]
    }
   ],
   "source": [
    "!rm -R /tmp/tfdbg\n",
    "!mkdir /tmp/tfdbg\n",
    "writer = tf.summary.FileWriter('/tmp/tfdbg/bern_more_shock')"
   ]
  },
  {
   "cell_type": "code",
   "execution_count": 41,
   "metadata": {},
   "outputs": [],
   "source": [
    "writer.add_graph(tf.get_default_graph())"
   ]
  },
  {
   "cell_type": "code",
   "execution_count": null,
   "metadata": {},
   "outputs": [],
   "source": []
  },
  {
   "cell_type": "code",
   "execution_count": 42,
   "metadata": {},
   "outputs": [],
   "source": [
    "tf.global_variables_initializer().run()"
   ]
  },
  {
   "cell_type": "code",
   "execution_count": 43,
   "metadata": {},
   "outputs": [
    {
     "data": {
      "text/plain": [
       "(-555.4642221882432, 1467.2184352433878, -102.10369458166639)"
      ]
     },
     "execution_count": 43,
     "metadata": {},
     "output_type": "execute_result"
    }
   ],
   "source": [
    "prior.eval(), ent.eval(), logl.eval()"
   ]
  },
  {
   "cell_type": "code",
   "execution_count": 44,
   "metadata": {},
   "outputs": [
    {
     "data": {
      "text/plain": [
       "4.58567016027444"
      ]
     },
     "execution_count": 44,
     "metadata": {},
     "output_type": "execute_result"
    }
   ],
   "source": [
    "KLd.eval()"
   ]
  },
  {
   "cell_type": "code",
   "execution_count": 45,
   "metadata": {},
   "outputs": [],
   "source": [
    "np.set_printoptions(precision=4)"
   ]
  },
  {
   "cell_type": "code",
   "execution_count": 46,
   "metadata": {},
   "outputs": [],
   "source": [
    "# PWalk.inverse_sigma.eval()[:3,:3]"
   ]
  },
  {
   "cell_type": "code",
   "execution_count": 47,
   "metadata": {},
   "outputs": [],
   "source": [
    "out = tf.reshape(outputs, [n, dim[0], dim[1]])"
   ]
  },
  {
   "cell_type": "code",
   "execution_count": 48,
   "metadata": {},
   "outputs": [],
   "source": [
    "epoch = 0"
   ]
  },
  {
   "cell_type": "code",
   "execution_count": 49,
   "metadata": {},
   "outputs": [],
   "source": [
    "all_sum = tf.summary.merge_all()"
   ]
  },
  {
   "cell_type": "code",
   "execution_count": 50,
   "metadata": {},
   "outputs": [],
   "source": [
    "# for epoch in range(epoch, 20):\n",
    "#     for i in range(800):\n",
    "#         l, _ = sess.run([loss, opt], {phase:False})\n",
    "#     print(l)"
   ]
  },
  {
   "cell_type": "code",
   "execution_count": null,
   "metadata": {
    "scrolled": true
   },
   "outputs": [
    {
     "name": "stdout",
     "output_type": "stream",
     "text": [
      "0.24596507745346366\n"
     ]
    }
   ],
   "source": [
    "%%time\n",
    "for epoch in range(epoch, epoch+10000):\n",
    "    for i in range(1000):\n",
    "        l, _ = sess.run([KLd, opt], {phase:True})\n",
    "        if i % 10 == 0 and epoch > 2:\n",
    "            s = all_sum.eval({phase:True})\n",
    "            writer.add_summary(s, global_step=epoch*1000 + i)\n",
    "    print(l)\n",
    "#     print(PWalk.inverse_sigma.eval()[:3,:3])\n",
    "#     print('\\n')"
   ]
  },
  {
   "cell_type": "code",
   "execution_count": 56,
   "metadata": {},
   "outputs": [
    {
     "data": {
      "text/plain": [
       "64"
      ]
     },
     "execution_count": 56,
     "metadata": {},
     "output_type": "execute_result"
    }
   ],
   "source": [
    "epoch"
   ]
  },
  {
   "cell_type": "code",
   "execution_count": 57,
   "metadata": {},
   "outputs": [
    {
     "name": "stdout",
     "output_type": "stream",
     "text": [
      "[[0.379  0.3617 0.3424 0.3321 0.3243 0.327  0.3304 0.3165 0.3396 0.346\n",
      "  0.3172 0.3639 0.3424 0.317  0.3214 0.3463 0.3077 0.3406 0.3436 0.3304\n",
      "  0.3386 0.3195 0.3194 0.3488 0.3273 0.3145 0.3308 0.3194 0.3418 0.3575\n",
      "  0.3367 0.3374 0.3388 0.3545 0.3438 0.3376 0.3448 0.3332]]\n"
     ]
    }
   ],
   "source": [
    "ss = []\n",
    "for _ in range(40000):\n",
    "    s = shocks.eval()[:,:,0].astype('float')\n",
    "    ss.append(s)\n",
    "ss = np.array(ss)\n",
    "print(ss.mean(axis=0))"
   ]
  },
  {
   "cell_type": "code",
   "execution_count": 58,
   "metadata": {},
   "outputs": [
    {
     "data": {
      "image/png": "[encoded data removed]",
      "text/plain": [
       "<Figure size 432x288 with 1 Axes>"
      ]
     },
     "metadata": {},
     "output_type": "display_data"
    }
   ],
   "source": [
    "x = range(2016-data.shape[1],2016)\n",
    "plt.plot(x, ss.mean(axis=0)[0])\n",
    "plt.show()"
   ]
  },
  {
   "cell_type": "code",
   "execution_count": 71,
   "metadata": {},
   "outputs": [
    {
     "ename": "AttributeError",
     "evalue": "'NormalRW' object has no attribute 'inverse_sigma'",
     "output_type": "error",
     "traceback": [
      "\u001b[0;31m---------------------------------------------------------------------------\u001b[0m",
      "\u001b[0;31mAttributeError\u001b[0m                            Traceback (most recent call last)",
      "\u001b[0;32m<ipython-input-71-7fd599b6d73f>\u001b[0m in \u001b[0;36m<module>\u001b[0;34m()\u001b[0m\n\u001b[1;32m      2\u001b[0m \u001b[0maa\u001b[0m \u001b[0;34m=\u001b[0m \u001b[0;34m[\u001b[0m\u001b[0;34m]\u001b[0m\u001b[0;34m\u001b[0m\u001b[0m\n\u001b[1;32m      3\u001b[0m \u001b[0;32mfor\u001b[0m \u001b[0m_\u001b[0m \u001b[0;32min\u001b[0m \u001b[0mrange\u001b[0m\u001b[0;34m(\u001b[0m\u001b[0;36m3000\u001b[0m\u001b[0;34m)\u001b[0m\u001b[0;34m:\u001b[0m\u001b[0;34m\u001b[0m\u001b[0m\n\u001b[0;32m----> 4\u001b[0;31m     \u001b[0ma\u001b[0m \u001b[0;34m=\u001b[0m \u001b[0mnp\u001b[0m\u001b[0;34m.\u001b[0m\u001b[0mlinalg\u001b[0m\u001b[0;34m.\u001b[0m\u001b[0minv\u001b[0m\u001b[0;34m(\u001b[0m\u001b[0mPWalk\u001b[0m\u001b[0;34m.\u001b[0m\u001b[0minverse_sigma\u001b[0m\u001b[0;34m.\u001b[0m\u001b[0meval\u001b[0m\u001b[0;34m(\u001b[0m\u001b[0;34m)\u001b[0m\u001b[0;34m)\u001b[0m\u001b[0;34m\u001b[0m\u001b[0m\n\u001b[0m\u001b[1;32m      5\u001b[0m     \u001b[0mss\u001b[0m\u001b[0;34m.\u001b[0m\u001b[0mappend\u001b[0m\u001b[0;34m(\u001b[0m\u001b[0mnp\u001b[0m\u001b[0;34m.\u001b[0m\u001b[0msqrt\u001b[0m\u001b[0;34m(\u001b[0m\u001b[0mnp\u001b[0m\u001b[0;34m.\u001b[0m\u001b[0mdiag\u001b[0m\u001b[0;34m(\u001b[0m\u001b[0ma\u001b[0m\u001b[0;34m)\u001b[0m\u001b[0;34m)\u001b[0m\u001b[0;34m)\u001b[0m\u001b[0;34m\u001b[0m\u001b[0m\n\u001b[1;32m      6\u001b[0m     \u001b[0maa\u001b[0m\u001b[0;34m.\u001b[0m\u001b[0mappend\u001b[0m\u001b[0;34m(\u001b[0m\u001b[0ma\u001b[0m\u001b[0;34m)\u001b[0m\u001b[0;34m\u001b[0m\u001b[0m\n",
      "\u001b[0;31mAttributeError\u001b[0m: 'NormalRW' object has no attribute 'inverse_sigma'"
     ]
    }
   ],
   "source": [
    "ss = []\n",
    "aa = []\n",
    "for _ in range(3000):\n",
    "    a = np.linalg.inv(PWalk.inverse_sigma.eval())\n",
    "    ss.append(np.sqrt(np.diag(a)))\n",
    "    aa.append(a)\n",
    "ss = np.array(ss)\n",
    "aa = np.array(aa)"
   ]
  },
  {
   "cell_type": "code",
   "execution_count": 48,
   "metadata": {},
   "outputs": [
    {
     "data": {
      "text/plain": [
       "array([[ 1.2923e-04, -7.1903e-09,  3.5436e-08,  6.2896e-08,  3.5567e-08],\n",
       "       [-7.1903e-09,  1.3707e-04,  9.9602e-08, -8.9267e-08,  2.4762e-08],\n",
       "       [ 3.5436e-08,  9.9602e-08,  1.2321e-04,  5.1597e-08,  7.2189e-08],\n",
       "       [ 6.2896e-08, -8.9267e-08,  5.1597e-08,  1.2432e-04, -7.2140e-08],\n",
       "       [ 3.5567e-08,  2.4762e-08,  7.2189e-08, -7.2140e-08,  1.3892e-04]])"
      ]
     },
     "execution_count": 48,
     "metadata": {},
     "output_type": "execute_result"
    }
   ],
   "source": [
    "aa.mean(axis=0)[:5,:5]"
   ]
  },
  {
   "cell_type": "code",
   "execution_count": 49,
   "metadata": {},
   "outputs": [
    {
     "data": {
      "text/plain": [
       "(array([0.0112, 0.0115, 0.0109, 0.011 , 0.0116, 0.0112, 0.0116, 0.0117,\n",
       "        0.0098, 0.0093, 0.01  , 0.011 ]),\n",
       " array([0.0018, 0.002 , 0.0019, 0.0019, 0.002 , 0.0018, 0.0019, 0.0019,\n",
       "        0.0017, 0.0015, 0.0016, 0.0017]))"
      ]
     },
     "execution_count": 49,
     "metadata": {},
     "output_type": "execute_result"
    }
   ],
   "source": [
    "np.mean(ss, axis=0), np.std(ss, axis=0)"
   ]
  },
  {
   "cell_type": "code",
   "execution_count": 72,
   "metadata": {},
   "outputs": [],
   "source": [
    "# sns.kdeplot(ss[:,1], ss[:,0])\n",
    "# plt.show()"
   ]
  },
  {
   "cell_type": "code",
   "execution_count": 73,
   "metadata": {},
   "outputs": [],
   "source": [
    "samples = []\n",
    "for _ in range(3000):\n",
    "    s = out.eval({phase:True})\n",
    "    samples.append(s)\n",
    "samples = np.array(samples)"
   ]
  },
  {
   "cell_type": "code",
   "execution_count": 74,
   "metadata": {},
   "outputs": [
    {
     "data": {
      "image/png": "[encoded data removed]",
      "text/plain": [
       "<Figure size 432x288 with 1 Axes>"
      ]
     },
     "metadata": {},
     "output_type": "display_data"
    }
   ],
   "source": [
    "t = 10\n",
    "sns.kdeplot(samples[:,t,2,0], samples[:,t,0,3])\n",
    "plt.show()"
   ]
  },
  {
   "cell_type": "code",
   "execution_count": 75,
   "metadata": {},
   "outputs": [],
   "source": [
    "t = 10\n",
    "# params[t]"
   ]
  },
  {
   "cell_type": "code",
   "execution_count": 76,
   "metadata": {},
   "outputs": [
    {
     "data": {
      "text/plain": [
       "array([[-0.3068, -0.011 , -0.2015, -0.7039],\n",
       "       [ 0.0662,  0.178 ,  0.5773,  0.5648],\n",
       "       [ 0.2297, -0.0859,  0.8326,  1.005 ]])"
      ]
     },
     "execution_count": 76,
     "metadata": {},
     "output_type": "execute_result"
    }
   ],
   "source": [
    "np.mean(samples[:,t], axis=0)"
   ]
  },
  {
   "cell_type": "code",
   "execution_count": 43,
   "metadata": {},
   "outputs": [
    {
     "data": {
      "text/plain": [
       "array([[-0.1967, -0.0331, -0.0692, -0.8973],\n",
       "       [ 0.0807,  0.1957,  0.629 ,  0.1535],\n",
       "       [ 0.2592, -0.0342,  0.8069,  1.1076]])"
      ]
     },
     "execution_count": 43,
     "metadata": {},
     "output_type": "execute_result"
    }
   ],
   "source": [
    "np.mean(samples[:,t], axis=0)"
   ]
  },
  {
   "cell_type": "code",
   "execution_count": 187,
   "metadata": {},
   "outputs": [],
   "source": []
  },
  {
   "cell_type": "code",
   "execution_count": 278,
   "metadata": {},
   "outputs": [],
   "source": [
    "from sklearn.neighbors.kde import KernelDensity\n",
    "def score(s1, s2):\n",
    "    bw = 0.1\n",
    "    s1 = s1[:,np.newaxis]\n",
    "    s2 = s2[:,np.newaxis]\n",
    "    e1 = KernelDensity(bandwidth=bw).fit(s1)\n",
    "    e2 = KernelDensity(bandwidth=bw).fit(s2)\n",
    "    \n",
    "    e1e2 = e1.score(s1) - e2.score(s1)\n",
    "    e2e1 = e2.score(s2) - e1.score(s2)\n",
    "    dist = (e1e2/len(s1) + e2e1/len(s2))/2\n",
    "    return dist"
   ]
  },
  {
   "cell_type": "code",
   "execution_count": 271,
   "metadata": {},
   "outputs": [],
   "source": [
    "def get_cdf(ts):\n",
    "    return lambda x: (ts <= x).mean()\n",
    "def score(s1,s2):\n",
    "    c1 = get_cdf(s1)\n",
    "    c2 = get_cdf(s2)\n",
    "\n",
    "    m = 0\n",
    "    for s in np.concatenate([s1, s2]):\n",
    "        r = np.abs(c1(s) - c2(s))\n",
    "        if r > m:\n",
    "            m = r\n",
    "    return m"
   ]
  },
  {
   "cell_type": "code",
   "execution_count": 203,
   "metadata": {},
   "outputs": [
    {
     "data": {
      "text/plain": [
       "0.00014521624382734903"
      ]
     },
     "execution_count": 203,
     "metadata": {},
     "output_type": "execute_result"
    }
   ],
   "source": [
    "score(s1,s2)"
   ]
  },
  {
   "cell_type": "code",
   "execution_count": 279,
   "metadata": {},
   "outputs": [
    {
     "name": "stdout",
     "output_type": "stream",
     "text": [
      "0\n",
      "1\n",
      "2\n",
      "3\n",
      "4\n",
      "6\n",
      "7\n",
      "8\n",
      "9\n",
      "10\n",
      "11\n",
      "12\n",
      "13\n",
      "14\n",
      "15\n",
      "16\n",
      "17\n",
      "18\n"
     ]
    }
   ],
   "source": [
    "dists = []\n",
    "for t1 in range(samples.shape[1] - 1):\n",
    "    np.random.seed(1234)\n",
    "    print(t1)\n",
    "    t2 = t1 + 1\n",
    "    s1 = samples[:,t1,0,0]\n",
    "    s2 = samples[:,t2,0,0]\n",
    "    ss = []\n",
    "    for _ in range(10):\n",
    "        s1_ = np.random.choice(s1, size=8000)\n",
    "        s2_ = np.random.choice(s2, size=8000)\n",
    "        m = score(s1_,s2_)\n",
    "        ss.append(m)\n",
    "    dists.append(ss)\n",
    "dists = np.array(dists).T"
   ]
  },
  {
   "cell_type": "markdown",
   "metadata": {},
   "source": [
    "## KDE + KL"
   ]
  },
  {
   "cell_type": "code",
   "execution_count": 270,
   "metadata": {},
   "outputs": [
    {
     "name": "stderr",
     "output_type": "stream",
     "text": [
      "/home/nikita/.virtualenvs/py3.6/lib/python3.6/site-packages/seaborn/timeseries.py:183: UserWarning: The tsplot function is deprecated and will be removed or replaced (in a substantially altered version) in a future release.\n",
      "  warnings.warn(msg, UserWarning)\n"
     ]
    },
    {
     "data": {
      "image/png": "[encoded data removed]",
      "text/plain": [
       "<matplotlib.figure.Figure at 0x7f08680eff60>"
      ]
     },
     "metadata": {},
     "output_type": "display_data"
    }
   ],
   "source": [
    "sns.tsplot(dists, ci=[50, 95])\n",
    "plt.show()"
   ]
  },
  {
   "cell_type": "code",
   "execution_count": 280,
   "metadata": {},
   "outputs": [
    {
     "name": "stderr",
     "output_type": "stream",
     "text": [
      "/home/nikita/.virtualenvs/py3.6/lib/python3.6/site-packages/seaborn/timeseries.py:183: UserWarning: The tsplot function is deprecated and will be removed or replaced (in a substantially altered version) in a future release.\n",
      "  warnings.warn(msg, UserWarning)\n"
     ]
    },
    {
     "data": {
      "image/png": "[encoded data removed]",
      "text/plain": [
       "<matplotlib.figure.Figure at 0x7f0863c040f0>"
      ]
     },
     "metadata": {},
     "output_type": "display_data"
    }
   ],
   "source": [
    "sns.tsplot(dists, ci=[50, 95])\n",
    "plt.show()"
   ]
  },
  {
   "cell_type": "markdown",
   "metadata": {},
   "source": [
    "## Kolmogorov-Smirnov"
   ]
  },
  {
   "cell_type": "code",
   "execution_count": 277,
   "metadata": {},
   "outputs": [
    {
     "name": "stderr",
     "output_type": "stream",
     "text": [
      "/home/nikita/.virtualenvs/py3.6/lib/python3.6/site-packages/seaborn/timeseries.py:183: UserWarning: The tsplot function is deprecated and will be removed or replaced (in a substantially altered version) in a future release.\n",
      "  warnings.warn(msg, UserWarning)\n"
     ]
    },
    {
     "data": {
      "image/png": "[encoded data removed]",
      "text/plain": [
       "<matplotlib.figure.Figure at 0x7f0863df7908>"
      ]
     },
     "metadata": {},
     "output_type": "display_data"
    }
   ],
   "source": [
    "sns.tsplot(dists, ci=[50, 95])\n",
    "plt.show()"
   ]
  },
  {
   "cell_type": "code",
   "execution_count": null,
   "metadata": {},
   "outputs": [],
   "source": [
    "tf.pow()"
   ]
  }
 ],
 "metadata": {
  "kernelspec": {
   "display_name": "py3.6",
   "language": "python",
   "name": "py3.6"
  },
  "language_info": {
   "codemirror_mode": {
    "name": "ipython",
    "version": 3
   },
   "file_extension": ".py",
   "mimetype": "text/x-python",
   "name": "python",
   "nbconvert_exporter": "python",
   "pygments_lexer": "ipython3",
   "version": "3.6.4"
  }
 },
 "nbformat": 4,
 "nbformat_minor": 2
}
