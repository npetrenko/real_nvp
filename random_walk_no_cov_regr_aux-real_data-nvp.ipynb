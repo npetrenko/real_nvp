{
 "cells": [
  {
   "cell_type": "code",
   "execution_count": 1,
   "metadata": {},
   "outputs": [],
   "source": [
    "import tensorflow as tf\n",
    "from flows import NormalRW, DFlow, ResFlow, NVPFlow, phase, Normal, floatX, MVNormal, MVNormalRW, Linear, CFlow, LinearChol\n",
    "import numpy as np\n",
    "import pandas as pd\n",
    "from matplotlib import pyplot as plt\n",
    "import seaborn as sns\n",
    "from tensorflow.contrib.distributions import WishartCholesky\n",
    "\n",
    "np.random.seed(1234)"
   ]
  },
  {
   "cell_type": "code",
   "execution_count": 2,
   "metadata": {},
   "outputs": [],
   "source": [
    "data = pd.read_csv('./data/test_rus_data.csv').values.astype(floatX).T[np.newaxis][:,2:]/100"
   ]
  },
  {
   "cell_type": "code",
   "execution_count": 3,
   "metadata": {},
   "outputs": [
    {
     "name": "stdout",
     "output_type": "stream",
     "text": [
      "[0.21742282 0.16835931 0.01139835]\n"
     ]
    }
   ],
   "source": [
    "stds = (data[0,1:] - data[0,:-1]).std(axis=0)\n",
    "print(stds)\n",
    "data /= stds"
   ]
  },
  {
   "cell_type": "code",
   "execution_count": 4,
   "metadata": {},
   "outputs": [],
   "source": [
    "xs = data"
   ]
  },
  {
   "cell_type": "code",
   "execution_count": 5,
   "metadata": {},
   "outputs": [],
   "source": [
    "n = data.shape[1]\n",
    "s1 = 0.01\n",
    "s0 = 2.\n",
    "dim = [3,4]\n",
    "\n",
    "k = dim[0] * dim[1]\n",
    "with tf.variable_scope('pwalk_inf', reuse=tf.AUTO_REUSE):\n",
    "    lowerd = DFlow([NVPFlow(dim=k*(k-1)//2 + k, name='lowerd_flow_' + str(i)) for i in range(2)])\n",
    "    ldiag = DFlow([NVPFlow(dim=k, name='ldiag_flow_' + str(i)) for i in range(4)])\n",
    "PWalk = MVNormalRW(dim[0]*dim[1], sigma=s1, sigma0=s0, name='param_walk_prior', \n",
    "                   lowerd=lowerd.output[0], ldiag=ldiag.output[0]+np.log(1/s1))\n",
    "# PWalk = MVNormalRW(dim[0]*dim[1], sigma=s1, sigma0=s0, name='param_walk_prior')"
   ]
  },
  {
   "cell_type": "code",
   "execution_count": 6,
   "metadata": {},
   "outputs": [],
   "source": [
    "def autoregr_tf(X, param):\n",
    "    d = param[:,:dim[-1]-1]\n",
    "    X = tf.matmul(X, d) + param[:,-1][np.newaxis]\n",
    "    return X"
   ]
  },
  {
   "cell_type": "code",
   "execution_count": 7,
   "metadata": {},
   "outputs": [],
   "source": [
    "def create_step_flow(name=None, prev_flow_output=None, init_sigma=1.):\n",
    "    with tf.variable_scope(name, reuse=False):\n",
    "        \n",
    "        if prev_flow_output is not None:\n",
    "            aux_vars = prev_flow_output\n",
    "        else:\n",
    "            aux_vars = None\n",
    "            \n",
    "        step_flow = DFlow([NVPFlow(dim=dim[0]*dim[1], name='res{}'.format(i), aux_vars=aux_vars)\\\n",
    "                           for i in range(6)], \n",
    "                          init_sigma=init_sigma)\n",
    "    return step_flow"
   ]
  },
  {
   "cell_type": "code",
   "execution_count": 8,
   "metadata": {},
   "outputs": [],
   "source": [
    "flows = [create_step_flow('step_flow0', init_sigma=s0)]\n",
    "outputs = [flows[-1].output]\n",
    "for i in range(n-1):\n",
    "    if i >= 1:\n",
    "        aux = tf.concat([outputs[-1], outputs[-2]], 1)\n",
    "    else:\n",
    "        aux = outputs[-1]\n",
    "    new = create_step_flow('step_flow' + str(i+1), aux, init_sigma=s1)\n",
    "    flows.append(new)\n",
    "    outputs.append(outputs[-1] + new.output)"
   ]
  },
  {
   "cell_type": "code",
   "execution_count": 9,
   "metadata": {},
   "outputs": [],
   "source": [
    "outputs = tf.concat(outputs, axis=0)[tf.newaxis]"
   ]
  },
  {
   "cell_type": "code",
   "execution_count": 10,
   "metadata": {},
   "outputs": [
    {
     "data": {
      "text/plain": [
       "<tf.Tensor 'strided_slice_2:0' shape=(1, 20, 12) dtype=float64>"
      ]
     },
     "execution_count": 10,
     "metadata": {},
     "output_type": "execute_result"
    }
   ],
   "source": [
    "outputs"
   ]
  },
  {
   "cell_type": "code",
   "execution_count": 11,
   "metadata": {},
   "outputs": [],
   "source": [
    "prior = PWalk.logdens(outputs)"
   ]
  },
  {
   "cell_type": "code",
   "execution_count": 12,
   "metadata": {},
   "outputs": [
    {
     "data": {
      "text/plain": [
       "<tf.Tensor 'param_walk_prior_2/logdens/add:0' shape=() dtype=float64>"
      ]
     },
     "execution_count": 12,
     "metadata": {},
     "output_type": "execute_result"
    }
   ],
   "source": [
    "prior"
   ]
  },
  {
   "cell_type": "code",
   "execution_count": 13,
   "metadata": {},
   "outputs": [],
   "source": [
    "def create_loglik2():\n",
    "    obs_d = Normal(dim=None, sigma=1., mu=0)\n",
    "    out = tf.reshape(outputs, [n, dim[0], dim[1]])\n",
    "    \n",
    "    def step1(current):\n",
    "        X = current[0][np.newaxis]\n",
    "        param = current[1]\n",
    "        d = param[:,:dim[-1]-1]\n",
    "        X = tf.matmul(X, d)[0] + param[:,-1]\n",
    "        return X\n",
    "    \n",
    "    ar = tf.map_fn(step1, (xs[0][:-1], out[:-1]), dtype=tf.float64)\n",
    "    return obs_d.logdens(ar - xs[0][1:])"
   ]
  },
  {
   "cell_type": "code",
   "execution_count": 14,
   "metadata": {},
   "outputs": [],
   "source": [
    "logl = create_loglik2()"
   ]
  },
  {
   "cell_type": "code",
   "execution_count": 15,
   "metadata": {},
   "outputs": [],
   "source": [
    "ent = tf.reduce_sum([flow.logdens for flow in flows])"
   ]
  },
  {
   "cell_type": "code",
   "execution_count": 16,
   "metadata": {},
   "outputs": [
    {
     "data": {
      "text/plain": [
       "<tf.Tensor 'Sum_1:0' shape=() dtype=float64>"
      ]
     },
     "execution_count": 16,
     "metadata": {},
     "output_type": "execute_result"
    }
   ],
   "source": [
    "ent"
   ]
  },
  {
   "cell_type": "code",
   "execution_count": 17,
   "metadata": {},
   "outputs": [],
   "source": [
    "df = dim[0]*dim[1]\n",
    "pmat = np.diag([(1/s1**2)]*(dim[0]*dim[1]))/df\n",
    "cov_prior = WishartCholesky(df, pmat, cholesky_input_output_matrices=True)"
   ]
  },
  {
   "cell_type": "code",
   "execution_count": 18,
   "metadata": {},
   "outputs": [],
   "source": [
    "loss = -logl - prior + ent - cov_prior.log_prob(PWalk.fsigma) + lowerd.logdens + ldiag.logdens\n",
    "loss /= n*dim[0]*dim[1]"
   ]
  },
  {
   "cell_type": "code",
   "execution_count": 19,
   "metadata": {},
   "outputs": [
    {
     "data": {
      "text/plain": [
       "<tf.Tensor 'loss:0' shape=() dtype=string>"
      ]
     },
     "execution_count": 19,
     "metadata": {},
     "output_type": "execute_result"
    }
   ],
   "source": [
    "tf.summary.scalar('loss', loss[0])"
   ]
  },
  {
   "cell_type": "code",
   "execution_count": 20,
   "metadata": {},
   "outputs": [],
   "source": [
    "opt = tf.train.AdamOptimizer(0.0001).minimize(loss)"
   ]
  },
  {
   "cell_type": "code",
   "execution_count": 21,
   "metadata": {},
   "outputs": [],
   "source": [
    "sess = tf.InteractiveSession()"
   ]
  },
  {
   "cell_type": "code",
   "execution_count": 22,
   "metadata": {},
   "outputs": [],
   "source": [
    "tf.global_variables_initializer().run()"
   ]
  },
  {
   "cell_type": "code",
   "execution_count": 23,
   "metadata": {},
   "outputs": [
    {
     "data": {
      "text/plain": [
       "(-2863.4547808916705, 710.6423782664745, -9753.619398436133)"
      ]
     },
     "execution_count": 23,
     "metadata": {},
     "output_type": "execute_result"
    }
   ],
   "source": [
    "prior.eval(), ent.eval(), logl.eval()"
   ]
  },
  {
   "cell_type": "code",
   "execution_count": 24,
   "metadata": {},
   "outputs": [
    {
     "data": {
      "text/plain": [
       "array([27.19708299])"
      ]
     },
     "execution_count": 24,
     "metadata": {},
     "output_type": "execute_result"
    }
   ],
   "source": [
    "loss.eval()"
   ]
  },
  {
   "cell_type": "code",
   "execution_count": 25,
   "metadata": {},
   "outputs": [],
   "source": [
    "np.set_printoptions(precision=4)"
   ]
  },
  {
   "cell_type": "code",
   "execution_count": 26,
   "metadata": {},
   "outputs": [
    {
     "data": {
      "text/plain": [
       "array([[ 1.0615e+02, -3.4804e+00,  5.5874e+00],\n",
       "       [-3.4804e+00,  5.0982e+04, -2.8930e+02],\n",
       "       [ 5.5874e+00, -2.8930e+02,  7.2134e+03]])"
      ]
     },
     "execution_count": 26,
     "metadata": {},
     "output_type": "execute_result"
    }
   ],
   "source": [
    "PWalk.inverse_sigma.eval()[:3,:3]"
   ]
  },
  {
   "cell_type": "code",
   "execution_count": 27,
   "metadata": {},
   "outputs": [
    {
     "name": "stdout",
     "output_type": "stream",
     "text": [
      "rm: cannot remove '/tmp/tfdbg': No such file or directory\r\n"
     ]
    }
   ],
   "source": [
    "!rm -R /tmp/tfdbg\n",
    "all_sum = tf.summary.merge_all()\n",
    "writer = tf.summary.FileWriter('/tmp/tfdbg')"
   ]
  },
  {
   "cell_type": "code",
   "execution_count": 62,
   "metadata": {
    "scrolled": true
   },
   "outputs": [
    {
     "name": "stdout",
     "output_type": "stream",
     "text": [
      "[2.9458]\n",
      "[[ 2.3490e+01 -2.5131e+01 -2.1958e+02]\n",
      " [-2.5131e+01  4.1409e+02 -3.2460e+02]\n",
      " [-2.1958e+02 -3.2460e+02  1.1465e+05]]\n",
      "\n",
      "\n",
      "[2.9736]\n",
      "[[ 1.8969e+01 -6.3868e+00  6.1389e+02]\n",
      " [-6.3868e+00  6.3117e+02  6.5878e+02]\n",
      " [ 6.1389e+02  6.5878e+02  1.2238e+05]]\n",
      "\n",
      "\n",
      "[3.0353]\n",
      "[[ 2.9676e+01  7.9959e+01  2.2098e+02]\n",
      " [ 7.9959e+01  7.5888e+02 -4.1215e+03]\n",
      " [ 2.2098e+02 -4.1215e+03  1.7538e+05]]\n",
      "\n",
      "\n",
      "[3.0449]\n",
      "[[ 3.8351e+01  7.6757e+00 -2.0916e+02]\n",
      " [ 7.6757e+00  6.0689e+02 -1.4283e+03]\n",
      " [-2.0916e+02 -1.4283e+03  1.4130e+05]]\n",
      "\n",
      "\n",
      "[2.9956]\n",
      "[[ 3.7611e+01  3.6225e+00 -1.7981e+02]\n",
      " [ 3.6225e+00  1.2481e+03  1.8448e+03]\n",
      " [-1.7981e+02  1.8448e+03  1.4490e+05]]\n",
      "\n",
      "\n",
      "[2.9925]\n",
      "[[ 2.2411e+01 -2.7739e+01 -3.3110e+01]\n",
      " [-2.7739e+01  5.3550e+02 -7.0294e+02]\n",
      " [-3.3110e+01 -7.0294e+02  1.7653e+05]]\n",
      "\n",
      "\n",
      "[2.948]\n",
      "[[ 4.1375e+01  2.9367e+01 -3.8473e+02]\n",
      " [ 2.9367e+01  6.7772e+02 -5.1446e+03]\n",
      " [-3.8473e+02 -5.1446e+03  1.4908e+05]]\n",
      "\n",
      "\n",
      "[2.9718]\n",
      "[[ 1.9882e+01 -2.4790e+01 -2.9965e+01]\n",
      " [-2.4790e+01  1.0003e+03 -1.7936e+03]\n",
      " [-2.9965e+01 -1.7936e+03  1.2365e+05]]\n",
      "\n",
      "\n",
      "[2.9464]\n",
      "[[ 5.0034e+01  2.9811e+01 -3.3596e+02]\n",
      " [ 2.9811e+01  1.1781e+03 -3.4725e+03]\n",
      " [-3.3596e+02 -3.4725e+03  8.7083e+04]]\n",
      "\n",
      "\n",
      "[2.9988]\n",
      "[[ 3.4430e+01 -5.2649e+01 -4.4490e+02]\n",
      " [-5.2649e+01  6.1542e+02 -1.8544e+03]\n",
      " [-4.4490e+02 -1.8544e+03  1.6482e+05]]\n",
      "\n",
      "\n",
      "[2.8512]\n",
      "[[ 3.0280e+01  7.8278e-01  7.1175e+02]\n",
      " [ 7.8278e-01  1.1861e+03 -4.5146e+03]\n",
      " [ 7.1175e+02 -4.5146e+03  1.9978e+05]]\n",
      "\n",
      "\n",
      "[3.0551]\n",
      "[[ 3.1694e+01  5.0085e+00  6.4913e+02]\n",
      " [ 5.0085e+00  4.9205e+02 -1.8906e+03]\n",
      " [ 6.4913e+02 -1.8906e+03  1.2043e+05]]\n",
      "\n",
      "\n",
      "[3.0427]\n",
      "[[ 3.4667e+01  9.0124e+01  2.4720e+02]\n",
      " [ 9.0124e+01  9.5342e+02 -3.3560e+03]\n",
      " [ 2.4720e+02 -3.3560e+03  2.0891e+05]]\n",
      "\n",
      "\n",
      "[2.9412]\n",
      "[[ 2.4154e+01 -3.8744e+01 -4.3053e+02]\n",
      " [-3.8744e+01  6.0763e+02 -9.8874e+02]\n",
      " [-4.3053e+02 -9.8874e+02  1.4686e+05]]\n",
      "\n",
      "\n",
      "[2.9618]\n",
      "[[ 1.3343e+01 -9.8039e+00  6.0546e+01]\n",
      " [-9.8039e+00  4.3513e+02 -3.1041e+03]\n",
      " [ 6.0546e+01 -3.1041e+03  1.2550e+05]]\n",
      "\n",
      "\n",
      "[2.954]\n",
      "[[ 3.0802e+01  6.0095e-01 -2.2055e+02]\n",
      " [ 6.0095e-01  8.7231e+02 -3.8514e+03]\n",
      " [-2.2055e+02 -3.8514e+03  2.8019e+05]]\n",
      "\n",
      "\n",
      "[2.9579]\n",
      "[[ 2.3931e+01  1.4130e+01  7.1412e+01]\n",
      " [ 1.4130e+01  5.7516e+02 -2.0455e+02]\n",
      " [ 7.1412e+01 -2.0455e+02  7.4718e+04]]\n",
      "\n",
      "\n",
      "[2.9143]\n",
      "[[ 6.8843e+01 -2.4634e+00 -3.0722e+02]\n",
      " [-2.4634e+00  6.0756e+02 -3.9030e+03]\n",
      " [-3.0722e+02 -3.9030e+03  1.1832e+05]]\n",
      "\n",
      "\n",
      "[3.0074]\n",
      "[[ 2.2938e+01  2.5275e+00  1.0398e+03]\n",
      " [ 2.5275e+00  7.4890e+02 -3.7275e+03]\n",
      " [ 1.0398e+03 -3.7275e+03  1.9370e+05]]\n",
      "\n",
      "\n",
      "[3.0052]\n",
      "[[ 2.7037e+01  1.7596e+01  2.0467e+01]\n",
      " [ 1.7596e+01  7.8727e+02 -3.4830e+03]\n",
      " [ 2.0467e+01 -3.4830e+03  3.0828e+05]]\n",
      "\n",
      "\n",
      "[2.9814]\n",
      "[[1.1750e+01 6.5010e+01 4.0913e+02]\n",
      " [6.5010e+01 6.0529e+02 4.3552e+02]\n",
      " [4.0913e+02 4.3552e+02 1.0901e+05]]\n",
      "\n",
      "\n",
      "[2.9966]\n",
      "[[ 2.9402e+01 -3.0777e+01 -1.3457e+01]\n",
      " [-3.0777e+01  8.1722e+02 -2.1654e+03]\n",
      " [-1.3457e+01 -2.1654e+03  8.7909e+04]]\n",
      "\n",
      "\n",
      "[3.0196]\n",
      "[[ 4.0286e+01  2.1168e+01  7.3793e+02]\n",
      " [ 2.1168e+01  1.3832e+03 -1.4455e+03]\n",
      " [ 7.3793e+02 -1.4455e+03  2.0650e+05]]\n",
      "\n",
      "\n",
      "[2.9836]\n",
      "[[ 3.7286e+01  8.4371e+01 -5.1572e+02]\n",
      " [ 8.4371e+01  9.5035e+02 -1.9497e+03]\n",
      " [-5.1572e+02 -1.9497e+03  2.0222e+05]]\n",
      "\n",
      "\n",
      "[2.986]\n",
      "[[ 3.8825e+01 -1.4990e+01  3.2658e+02]\n",
      " [-1.4990e+01  7.1419e+02 -2.5606e+03]\n",
      " [ 3.2658e+02 -2.5606e+03  1.2219e+05]]\n",
      "\n",
      "\n",
      "[2.9569]\n",
      "[[ 3.9311e+01 -1.3639e+01 -2.0997e+02]\n",
      " [-1.3639e+01  7.7871e+02 -2.0769e+03]\n",
      " [-2.0997e+02 -2.0769e+03  1.7662e+05]]\n",
      "\n",
      "\n",
      "[2.9668]\n",
      "[[ 2.1297e+01 -1.5309e+01 -2.8518e+02]\n",
      " [-1.5309e+01  7.8822e+02  9.9750e+02]\n",
      " [-2.8518e+02  9.9750e+02  2.6765e+05]]\n",
      "\n",
      "\n",
      "[2.8898]\n",
      "[[ 2.7687e+01 -3.7482e+01  2.1407e+02]\n",
      " [-3.7482e+01  1.1437e+03 -1.4499e+03]\n",
      " [ 2.1407e+02 -1.4499e+03  1.3007e+05]]\n",
      "\n",
      "\n",
      "[2.974]\n",
      "[[ 3.2320e+01 -1.3956e+01  1.5580e+02]\n",
      " [-1.3956e+01  5.8654e+02 -3.3036e+03]\n",
      " [ 1.5580e+02 -3.3036e+03  1.7981e+05]]\n",
      "\n",
      "\n",
      "[2.9301]\n",
      "[[ 4.0434e+01 -2.8443e+01 -2.7934e+02]\n",
      " [-2.8443e+01  1.0689e+03  2.5788e+03]\n",
      " [-2.7934e+02  2.5788e+03  2.1992e+05]]\n",
      "\n",
      "\n",
      "[3.014]\n",
      "[[ 2.6612e+01 -1.7574e+01 -3.1514e+02]\n",
      " [-1.7574e+01  6.3140e+02 -1.0285e+03]\n",
      " [-3.1514e+02 -1.0285e+03  1.9210e+05]]\n",
      "\n",
      "\n",
      "[2.963]\n",
      "[[ 3.1623e+01 -3.1175e+00 -5.1596e+02]\n",
      " [-3.1175e+00  6.2248e+02 -1.4891e+03]\n",
      " [-5.1596e+02 -1.4891e+03  1.6267e+05]]\n",
      "\n",
      "\n",
      "[2.985]\n",
      "[[ 1.7884e+01 -1.8015e+01 -3.4594e+02]\n",
      " [-1.8015e+01  8.4736e+02 -5.9550e+02]\n",
      " [-3.4594e+02 -5.9550e+02  1.4391e+05]]\n",
      "\n",
      "\n",
      "[2.9905]\n",
      "[[ 4.0571e+01 -5.6611e+01  7.3376e+02]\n",
      " [-5.6611e+01  6.5932e+02 -6.5653e+03]\n",
      " [ 7.3376e+02 -6.5653e+03  3.2615e+05]]\n",
      "\n",
      "\n",
      "[2.9473]\n",
      "[[ 3.0624e+01 -2.3614e+01  2.4885e+02]\n",
      " [-2.3614e+01  5.9306e+02  4.9225e+02]\n",
      " [ 2.4885e+02  4.9225e+02  1.3289e+05]]\n",
      "\n",
      "\n",
      "[3.0678]\n",
      "[[ 5.3117e+01 -8.0934e+01 -3.1620e+01]\n",
      " [-8.0934e+01  1.3133e+03 -2.1206e+03]\n",
      " [-3.1620e+01 -2.1206e+03  1.3702e+05]]\n",
      "\n",
      "\n",
      "[2.9601]\n",
      "[[ 3.2826e+01  3.8206e+01 -3.2507e+02]\n",
      " [ 3.8206e+01  4.2835e+02 -9.3599e+02]\n",
      " [-3.2507e+02 -9.3599e+02  1.1224e+05]]\n",
      "\n",
      "\n",
      "[2.9176]\n",
      "[[ 1.6317e+01 -1.7380e+01  2.4495e+02]\n",
      " [-1.7380e+01  4.9368e+02 -2.2596e+03]\n",
      " [ 2.4495e+02 -2.2596e+03  1.3898e+05]]\n",
      "\n",
      "\n",
      "[2.9649]\n",
      "[[ 3.4570e+01 -2.9329e+01 -1.2606e+02]\n",
      " [-2.9329e+01  7.1112e+02  2.4508e+01]\n",
      " [-1.2606e+02  2.4508e+01  7.8998e+04]]\n",
      "\n",
      "\n",
      "[2.9749]\n",
      "[[ 3.0283e+01  5.0784e+01  2.1620e+02]\n",
      " [ 5.0784e+01  8.6837e+02 -1.7123e+03]\n",
      " [ 2.1620e+02 -1.7123e+03  1.1257e+05]]\n",
      "\n",
      "\n",
      "[2.9914]\n",
      "[[ 2.4874e+01 -1.5343e+01  2.6349e+02]\n",
      " [-1.5343e+01  1.6937e+03  2.9526e+03]\n",
      " [ 2.6349e+02  2.9526e+03  1.5048e+05]]\n",
      "\n",
      "\n",
      "[2.948]\n",
      "[[ 3.2988e+01 -4.3962e+00 -9.3859e+01]\n",
      " [-4.3962e+00  1.2913e+03  7.3563e+02]\n",
      " [-9.3859e+01  7.3563e+02  1.0565e+05]]\n",
      "\n",
      "\n",
      "[2.9841]\n",
      "[[ 2.9047e+01 -3.7955e+01  2.5537e+02]\n",
      " [-3.7955e+01  7.1988e+02 -4.1636e+03]\n",
      " [ 2.5537e+02 -4.1636e+03  1.4835e+05]]\n",
      "\n",
      "\n",
      "[2.9912]\n",
      "[[ 2.4977e+01  5.3792e+00 -9.2790e+02]\n",
      " [ 5.3792e+00  6.0543e+02 -2.7319e+03]\n",
      " [-9.2790e+02 -2.7319e+03  1.6650e+05]]\n",
      "\n",
      "\n",
      "[2.9482]\n",
      "[[ 3.0418e+01  6.9163e+01 -7.3064e+01]\n",
      " [ 6.9163e+01  1.0957e+03 -3.5095e+03]\n",
      " [-7.3064e+01 -3.5095e+03  2.4943e+05]]\n",
      "\n",
      "\n",
      "[2.9986]\n",
      "[[ 1.6234e+01  9.8833e+00  1.7988e+02]\n",
      " [ 9.8833e+00  4.4176e+02 -2.4380e+03]\n",
      " [ 1.7988e+02 -2.4380e+03  1.2960e+05]]\n",
      "\n",
      "\n",
      "[2.9751]\n",
      "[[ 4.2763e+01  9.6043e+00 -3.6215e+02]\n",
      " [ 9.6043e+00  6.9938e+02 -2.9259e+03]\n",
      " [-3.6215e+02 -2.9259e+03  1.8187e+05]]\n",
      "\n",
      "\n",
      "[3.]\n",
      "[[ 1.6552e+01  1.9136e+01 -2.1373e+02]\n",
      " [ 1.9136e+01  8.9372e+02 -2.7972e+03]\n",
      " [-2.1373e+02 -2.7972e+03  9.6095e+04]]\n",
      "\n",
      "\n",
      "[2.9438]\n",
      "[[ 1.3941e+01  1.1219e+01  2.7894e+02]\n",
      " [ 1.1219e+01  7.5430e+02 -9.9288e+02]\n",
      " [ 2.7894e+02 -9.9288e+02  1.4780e+05]]\n",
      "\n",
      "\n",
      "[3.0781]\n",
      "[[ 2.1451e+01 -4.5089e+01 -3.1166e+02]\n",
      " [-4.5089e+01  9.8267e+02  1.6565e+02]\n",
      " [-3.1166e+02  1.6565e+02  1.4670e+05]]\n",
      "\n",
      "\n",
      "[2.9511]\n",
      "[[ 3.6851e+01  6.5045e+01 -5.4279e+02]\n",
      " [ 6.5045e+01  1.5384e+03  4.2107e+02]\n",
      " [-5.4279e+02  4.2107e+02  2.1708e+05]]\n",
      "\n",
      "\n",
      "[3.0194]\n",
      "[[ 2.0669e+01 -2.2441e+01 -1.8118e+02]\n",
      " [-2.2441e+01  5.3430e+02 -4.2066e+03]\n",
      " [-1.8118e+02 -4.2066e+03  1.4749e+05]]\n",
      "\n",
      "\n",
      "[3.0388]\n",
      "[[ 5.2671e+01 -3.5712e+01  8.1510e+01]\n",
      " [-3.5712e+01  1.0662e+03 -3.0406e+03]\n",
      " [ 8.1510e+01 -3.0406e+03  1.3136e+05]]\n",
      "\n",
      "\n",
      "[2.9566]\n",
      "[[ 2.0577e+01 -6.4190e+00  5.7187e+02]\n",
      " [-6.4190e+00  6.1281e+02 -2.3962e+03]\n",
      " [ 5.7187e+02 -2.3962e+03  1.4152e+05]]\n",
      "\n",
      "\n",
      "[2.9699]\n",
      "[[2.1781e+01 1.0717e+01 5.4546e+02]\n",
      " [1.0717e+01 5.2662e+02 4.2758e+01]\n",
      " [5.4546e+02 4.2758e+01 1.2145e+05]]\n",
      "\n",
      "\n",
      "[2.976]\n",
      "[[ 4.9347e+01 -5.6343e+00 -1.1727e+03]\n",
      " [-5.6343e+00  1.0343e+03 -2.1809e+03]\n",
      " [-1.1727e+03 -2.1809e+03  2.5887e+05]]\n",
      "\n",
      "\n",
      "[2.9602]\n",
      "[[ 1.3968e+01 -1.4181e+01  1.3923e+02]\n",
      " [-1.4181e+01  8.5019e+02 -3.8087e+03]\n",
      " [ 1.3923e+02 -3.8087e+03  1.6211e+05]]\n",
      "\n",
      "\n",
      "[3.0123]\n",
      "[[ 5.3412e+01 -8.9639e+01 -1.9078e+02]\n",
      " [-8.9639e+01  9.2949e+02 -1.1349e+03]\n",
      " [-1.9078e+02 -1.1349e+03  1.0254e+05]]\n",
      "\n",
      "\n",
      "[2.9629]\n",
      "[[ 3.2659e+01 -2.1461e+01  3.4019e+01]\n",
      " [-2.1461e+01  4.4609e+02 -2.3624e+03]\n",
      " [ 3.4019e+01 -2.3624e+03  1.4357e+05]]\n",
      "\n",
      "\n",
      "[3.0038]\n",
      "[[ 3.2853e+01 -1.8807e+00 -4.8755e+02]\n",
      " [-1.8807e+00  8.4895e+02  7.4498e+01]\n",
      " [-4.8755e+02  7.4498e+01  1.7434e+05]]\n",
      "\n",
      "\n",
      "[2.9869]\n",
      "[[ 1.9117e+01  2.4418e+01 -9.8510e+01]\n",
      " [ 2.4418e+01  5.1370e+02 -1.1202e+02]\n",
      " [-9.8510e+01 -1.1202e+02  1.5232e+05]]\n",
      "\n",
      "\n",
      "[2.9702]\n",
      "[[ 2.1565e+01  1.1338e+01  3.7443e+00]\n",
      " [ 1.1338e+01  9.1967e+02 -4.9383e+03]\n",
      " [ 3.7443e+00 -4.9383e+03  1.1996e+05]]\n",
      "\n",
      "\n",
      "[2.9554]\n",
      "[[ 1.7842e+01  1.6789e+01  2.3429e+02]\n",
      " [ 1.6789e+01  8.5311e+02 -1.5774e+03]\n",
      " [ 2.3429e+02 -1.5774e+03  1.1057e+05]]\n",
      "\n",
      "\n",
      "[2.9723]\n",
      "[[ 2.6708e+01 -5.0545e+01  1.8003e+02]\n",
      " [-5.0545e+01  1.0465e+03 -1.3971e+02]\n",
      " [ 1.8003e+02 -1.3971e+02  1.1397e+05]]\n",
      "\n",
      "\n"
     ]
    },
    {
     "name": "stdout",
     "output_type": "stream",
     "text": [
      "[2.9168]\n",
      "[[ 3.0623e+01 -5.9863e+00 -4.4036e+02]\n",
      " [-5.9863e+00  9.5611e+02  1.3520e+03]\n",
      " [-4.4036e+02  1.3520e+03  1.2493e+05]]\n",
      "\n",
      "\n",
      "[3.02]\n",
      "[[ 3.6889e+01  1.0919e+01  1.6074e+02]\n",
      " [ 1.0919e+01  6.8724e+02 -1.1989e+03]\n",
      " [ 1.6074e+02 -1.1989e+03  1.4920e+05]]\n",
      "\n",
      "\n",
      "[2.9672]\n",
      "[[ 1.9849e+01  3.9046e+01 -6.7232e+02]\n",
      " [ 3.9046e+01  5.0871e+02 -4.6411e+02]\n",
      " [-6.7232e+02 -4.6411e+02  1.9876e+05]]\n",
      "\n",
      "\n",
      "[3.0176]\n",
      "[[ 3.9924e+01 -9.3464e+00 -7.1882e+02]\n",
      " [-9.3464e+00  1.0421e+03  7.5778e+02]\n",
      " [-7.1882e+02  7.5778e+02  9.7601e+04]]\n",
      "\n",
      "\n",
      "[2.9238]\n",
      "[[ 2.9534e+01  4.2266e+01 -2.7877e+02]\n",
      " [ 4.2266e+01  6.0411e+02 -2.1004e+03]\n",
      " [-2.7877e+02 -2.1004e+03  1.1267e+05]]\n",
      "\n",
      "\n",
      "[2.9737]\n",
      "[[ 3.5174e+01 -2.3078e-01  5.0835e+01]\n",
      " [-2.3078e-01  7.6979e+02  1.9935e+03]\n",
      " [ 5.0835e+01  1.9935e+03  1.2200e+05]]\n",
      "\n",
      "\n",
      "[2.9687]\n",
      "[[ 3.7936e+01 -2.7158e+00  2.0315e+02]\n",
      " [-2.7158e+00  8.7010e+02  7.4495e+02]\n",
      " [ 2.0315e+02  7.4495e+02  1.1453e+05]]\n",
      "\n",
      "\n",
      "[3.0104]\n",
      "[[ 2.0580e+01 -1.1159e+01  3.2739e+02]\n",
      " [-1.1159e+01  1.0562e+03 -1.6764e+03]\n",
      " [ 3.2739e+02 -1.6764e+03  1.8473e+05]]\n",
      "\n",
      "\n",
      "[2.9085]\n",
      "[[ 3.4728e+01 -6.9671e+00 -3.6277e+02]\n",
      " [-6.9671e+00  8.4274e+02 -3.8366e+03]\n",
      " [-3.6277e+02 -3.8366e+03  1.8952e+05]]\n",
      "\n",
      "\n",
      "[3.0043]\n",
      "[[ 3.5443e+01 -1.0614e+01 -3.9549e+01]\n",
      " [-1.0614e+01  1.0492e+03 -6.2720e+03]\n",
      " [-3.9549e+01 -6.2720e+03  1.2823e+05]]\n",
      "\n",
      "\n"
     ]
    },
    {
     "ename": "KeyboardInterrupt",
     "evalue": "",
     "output_type": "error",
     "traceback": [
      "\u001b[0;31m---------------------------------------------------------------------------\u001b[0m",
      "\u001b[0;31mKeyboardInterrupt\u001b[0m                         Traceback (most recent call last)",
      "\u001b[0;32m<timed exec>\u001b[0m in \u001b[0;36m<module>\u001b[0;34m()\u001b[0m\n",
      "\u001b[0;32m/usr/lib/python3.6/site-packages/tensorflow/python/client/session.py\u001b[0m in \u001b[0;36mrun\u001b[0;34m(self, fetches, feed_dict, options, run_metadata)\u001b[0m\n\u001b[1;32m    903\u001b[0m     \u001b[0;32mtry\u001b[0m\u001b[0;34m:\u001b[0m\u001b[0;34m\u001b[0m\u001b[0m\n\u001b[1;32m    904\u001b[0m       result = self._run(None, fetches, feed_dict, options_ptr,\n\u001b[0;32m--> 905\u001b[0;31m                          run_metadata_ptr)\n\u001b[0m\u001b[1;32m    906\u001b[0m       \u001b[0;32mif\u001b[0m \u001b[0mrun_metadata\u001b[0m\u001b[0;34m:\u001b[0m\u001b[0;34m\u001b[0m\u001b[0m\n\u001b[1;32m    907\u001b[0m         \u001b[0mproto_data\u001b[0m \u001b[0;34m=\u001b[0m \u001b[0mtf_session\u001b[0m\u001b[0;34m.\u001b[0m\u001b[0mTF_GetBuffer\u001b[0m\u001b[0;34m(\u001b[0m\u001b[0mrun_metadata_ptr\u001b[0m\u001b[0;34m)\u001b[0m\u001b[0;34m\u001b[0m\u001b[0m\n",
      "\u001b[0;32m/usr/lib/python3.6/site-packages/tensorflow/python/client/session.py\u001b[0m in \u001b[0;36m_run\u001b[0;34m(self, handle, fetches, feed_dict, options, run_metadata)\u001b[0m\n\u001b[1;32m   1135\u001b[0m     \u001b[0;32mif\u001b[0m \u001b[0mfinal_fetches\u001b[0m \u001b[0;32mor\u001b[0m \u001b[0mfinal_targets\u001b[0m \u001b[0;32mor\u001b[0m \u001b[0;34m(\u001b[0m\u001b[0mhandle\u001b[0m \u001b[0;32mand\u001b[0m \u001b[0mfeed_dict_tensor\u001b[0m\u001b[0;34m)\u001b[0m\u001b[0;34m:\u001b[0m\u001b[0;34m\u001b[0m\u001b[0m\n\u001b[1;32m   1136\u001b[0m       results = self._do_run(handle, final_targets, final_fetches,\n\u001b[0;32m-> 1137\u001b[0;31m                              feed_dict_tensor, options, run_metadata)\n\u001b[0m\u001b[1;32m   1138\u001b[0m     \u001b[0;32melse\u001b[0m\u001b[0;34m:\u001b[0m\u001b[0;34m\u001b[0m\u001b[0m\n\u001b[1;32m   1139\u001b[0m       \u001b[0mresults\u001b[0m \u001b[0;34m=\u001b[0m \u001b[0;34m[\u001b[0m\u001b[0;34m]\u001b[0m\u001b[0;34m\u001b[0m\u001b[0m\n",
      "\u001b[0;32m/usr/lib/python3.6/site-packages/tensorflow/python/client/session.py\u001b[0m in \u001b[0;36m_do_run\u001b[0;34m(self, handle, target_list, fetch_list, feed_dict, options, run_metadata)\u001b[0m\n\u001b[1;32m   1353\u001b[0m     \u001b[0;32mif\u001b[0m \u001b[0mhandle\u001b[0m \u001b[0;32mis\u001b[0m \u001b[0;32mNone\u001b[0m\u001b[0;34m:\u001b[0m\u001b[0;34m\u001b[0m\u001b[0m\n\u001b[1;32m   1354\u001b[0m       return self._do_call(_run_fn, self._session, feeds, fetches, targets,\n\u001b[0;32m-> 1355\u001b[0;31m                            options, run_metadata)\n\u001b[0m\u001b[1;32m   1356\u001b[0m     \u001b[0;32melse\u001b[0m\u001b[0;34m:\u001b[0m\u001b[0;34m\u001b[0m\u001b[0m\n\u001b[1;32m   1357\u001b[0m       \u001b[0;32mreturn\u001b[0m \u001b[0mself\u001b[0m\u001b[0;34m.\u001b[0m\u001b[0m_do_call\u001b[0m\u001b[0;34m(\u001b[0m\u001b[0m_prun_fn\u001b[0m\u001b[0;34m,\u001b[0m \u001b[0mself\u001b[0m\u001b[0;34m.\u001b[0m\u001b[0m_session\u001b[0m\u001b[0;34m,\u001b[0m \u001b[0mhandle\u001b[0m\u001b[0;34m,\u001b[0m \u001b[0mfeeds\u001b[0m\u001b[0;34m,\u001b[0m \u001b[0mfetches\u001b[0m\u001b[0;34m)\u001b[0m\u001b[0;34m\u001b[0m\u001b[0m\n",
      "\u001b[0;32m/usr/lib/python3.6/site-packages/tensorflow/python/client/session.py\u001b[0m in \u001b[0;36m_do_call\u001b[0;34m(self, fn, *args)\u001b[0m\n\u001b[1;32m   1359\u001b[0m   \u001b[0;32mdef\u001b[0m \u001b[0m_do_call\u001b[0m\u001b[0;34m(\u001b[0m\u001b[0mself\u001b[0m\u001b[0;34m,\u001b[0m \u001b[0mfn\u001b[0m\u001b[0;34m,\u001b[0m \u001b[0;34m*\u001b[0m\u001b[0margs\u001b[0m\u001b[0;34m)\u001b[0m\u001b[0;34m:\u001b[0m\u001b[0;34m\u001b[0m\u001b[0m\n\u001b[1;32m   1360\u001b[0m     \u001b[0;32mtry\u001b[0m\u001b[0;34m:\u001b[0m\u001b[0;34m\u001b[0m\u001b[0m\n\u001b[0;32m-> 1361\u001b[0;31m       \u001b[0;32mreturn\u001b[0m \u001b[0mfn\u001b[0m\u001b[0;34m(\u001b[0m\u001b[0;34m*\u001b[0m\u001b[0margs\u001b[0m\u001b[0;34m)\u001b[0m\u001b[0;34m\u001b[0m\u001b[0m\n\u001b[0m\u001b[1;32m   1362\u001b[0m     \u001b[0;32mexcept\u001b[0m \u001b[0merrors\u001b[0m\u001b[0;34m.\u001b[0m\u001b[0mOpError\u001b[0m \u001b[0;32mas\u001b[0m \u001b[0me\u001b[0m\u001b[0;34m:\u001b[0m\u001b[0;34m\u001b[0m\u001b[0m\n\u001b[1;32m   1363\u001b[0m       \u001b[0mmessage\u001b[0m \u001b[0;34m=\u001b[0m \u001b[0mcompat\u001b[0m\u001b[0;34m.\u001b[0m\u001b[0mas_text\u001b[0m\u001b[0;34m(\u001b[0m\u001b[0me\u001b[0m\u001b[0;34m.\u001b[0m\u001b[0mmessage\u001b[0m\u001b[0;34m)\u001b[0m\u001b[0;34m\u001b[0m\u001b[0m\n",
      "\u001b[0;32m/usr/lib/python3.6/site-packages/tensorflow/python/client/session.py\u001b[0m in \u001b[0;36m_run_fn\u001b[0;34m(session, feed_dict, fetch_list, target_list, options, run_metadata)\u001b[0m\n\u001b[1;32m   1338\u001b[0m         \u001b[0;32melse\u001b[0m\u001b[0;34m:\u001b[0m\u001b[0;34m\u001b[0m\u001b[0m\n\u001b[1;32m   1339\u001b[0m           return tf_session.TF_Run(session, options, feed_dict, fetch_list,\n\u001b[0;32m-> 1340\u001b[0;31m                                    target_list, status, run_metadata)\n\u001b[0m\u001b[1;32m   1341\u001b[0m \u001b[0;34m\u001b[0m\u001b[0m\n\u001b[1;32m   1342\u001b[0m     \u001b[0;32mdef\u001b[0m \u001b[0m_prun_fn\u001b[0m\u001b[0;34m(\u001b[0m\u001b[0msession\u001b[0m\u001b[0;34m,\u001b[0m \u001b[0mhandle\u001b[0m\u001b[0;34m,\u001b[0m \u001b[0mfeed_dict\u001b[0m\u001b[0;34m,\u001b[0m \u001b[0mfetch_list\u001b[0m\u001b[0;34m)\u001b[0m\u001b[0;34m:\u001b[0m\u001b[0;34m\u001b[0m\u001b[0m\n",
      "\u001b[0;31mKeyboardInterrupt\u001b[0m: "
     ]
    }
   ],
   "source": [
    "%%time\n",
    "for _ in range(50000):\n",
    "    for _ in range(400):\n",
    "        l, _ = sess.run([loss, opt], {phase:True})\n",
    "    print(l)\n",
    "    print(PWalk.inverse_sigma.eval()[:3,:3])\n",
    "    print('\\n')\n",
    "    writer.add_summary(all_sum.eval())"
   ]
  },
  {
   "cell_type": "code",
   "execution_count": 63,
   "metadata": {},
   "outputs": [],
   "source": []
  },
  {
   "cell_type": "code",
   "execution_count": 74,
   "metadata": {},
   "outputs": [
    {
     "data": {
      "text/plain": [
       "'/home/nikita/tmp/rdata1'"
      ]
     },
     "execution_count": 74,
     "metadata": {},
     "output_type": "execute_result"
    }
   ],
   "source": [
    "saver = tf.train.Saver()\n",
    "saver.save(sess,'/home/nikita/tmp/rdata1')"
   ]
  },
  {
   "cell_type": "code",
   "execution_count": 65,
   "metadata": {},
   "outputs": [],
   "source": [
    "ss = []\n",
    "for _ in range(3000):\n",
    "    a = np.linalg.inv(PWalk.inverse_sigma.eval())\n",
    "    ss.append(np.sqrt(np.diag(a)))\n",
    "ss = np.array(ss)"
   ]
  },
  {
   "cell_type": "code",
   "execution_count": 66,
   "metadata": {},
   "outputs": [
    {
     "data": {
      "text/plain": [
       "(array([0.2559, 0.0513, 0.0036, 0.0021, 0.0016, 0.0012, 0.001 , 0.0009,\n",
       "        0.0008, 0.0007, 0.0007, 0.0006]),\n",
       " array([0.0551, 0.0115, 0.0008, 0.0005, 0.0003, 0.0003, 0.0002, 0.0002,\n",
       "        0.0001, 0.0001, 0.0001, 0.0001]))"
      ]
     },
     "execution_count": 66,
     "metadata": {},
     "output_type": "execute_result"
    }
   ],
   "source": [
    "np.mean(ss, axis=0), np.std(ss, axis=0)"
   ]
  },
  {
   "cell_type": "code",
   "execution_count": 67,
   "metadata": {},
   "outputs": [
    {
     "data": {
      "image/png": "[encoded data removed]",
      "text/plain": [
       "<matplotlib.figure.Figure at 0x7f147c04a8d0>"
      ]
     },
     "metadata": {},
     "output_type": "display_data"
    }
   ],
   "source": [
    "sns.kdeplot(ss[:,1], ss[:,0])\n",
    "plt.show()"
   ]
  },
  {
   "cell_type": "code",
   "execution_count": 33,
   "metadata": {},
   "outputs": [],
   "source": [
    "out = tf.reshape(outputs, [n, dim[0], dim[1]])"
   ]
  },
  {
   "cell_type": "code",
   "execution_count": 68,
   "metadata": {},
   "outputs": [],
   "source": [
    "samples = []\n",
    "for _ in range(3000):\n",
    "    s = out.eval()\n",
    "    samples.append(s)\n",
    "samples = np.array(samples)"
   ]
  },
  {
   "cell_type": "code",
   "execution_count": 69,
   "metadata": {},
   "outputs": [
    {
     "data": {
      "text/plain": [
       "(3000, 20, 3, 4)"
      ]
     },
     "execution_count": 69,
     "metadata": {},
     "output_type": "execute_result"
    }
   ],
   "source": [
    "samples.shape"
   ]
  },
  {
   "cell_type": "code",
   "execution_count": 70,
   "metadata": {},
   "outputs": [],
   "source": [
    "# samples[:,1,0,3].mean()"
   ]
  },
  {
   "cell_type": "code",
   "execution_count": 71,
   "metadata": {},
   "outputs": [],
   "source": [
    "# ix = np.abs(samples[:,5,2,0] - samples[:,5,2,0].mean()) < 0.02"
   ]
  },
  {
   "cell_type": "code",
   "execution_count": 72,
   "metadata": {},
   "outputs": [
    {
     "data": {
      "image/png": "[encoded data removed]",
      "text/plain": [
       "<matplotlib.figure.Figure at 0x7f147c046470>"
      ]
     },
     "metadata": {},
     "output_type": "display_data"
    }
   ],
   "source": [
    "sns.kdeplot(samples[:,0,2,0], samples[:,11,0,3])\n",
    "plt.show()"
   ]
  },
  {
   "cell_type": "code",
   "execution_count": 58,
   "metadata": {},
   "outputs": [
    {
     "data": {
      "text/plain": [
       "0.22549790161060815"
      ]
     },
     "execution_count": 58,
     "metadata": {},
     "output_type": "execute_result"
    }
   ],
   "source": [
    "samples[:,10,2,0].mean()"
   ]
  },
  {
   "cell_type": "code",
   "execution_count": 38,
   "metadata": {},
   "outputs": [
    {
     "data": {
      "image/png": "[encoded data removed]",
      "text/plain": [
       "<matplotlib.figure.Figure at 0x7f3edc20cb38>"
      ]
     },
     "metadata": {},
     "output_type": "display_data"
    }
   ],
   "source": [
    "sns.kdeplot(samples[:,5,2,0], samples[:,5,0,0])\n",
    "plt.show()"
   ]
  },
  {
   "cell_type": "code",
   "execution_count": 39,
   "metadata": {},
   "outputs": [],
   "source": [
    "t = 10\n",
    "# params[t]"
   ]
  },
  {
   "cell_type": "code",
   "execution_count": 40,
   "metadata": {},
   "outputs": [
    {
     "data": {
      "text/plain": [
       "array([[-0.3173, -0.0059, -0.1162, -0.6569],\n",
       "       [ 0.0574,  0.1714,  0.5882,  0.0956],\n",
       "       [ 0.221 , -0.018 ,  0.8688,  0.6791]])"
      ]
     },
     "execution_count": 40,
     "metadata": {},
     "output_type": "execute_result"
    }
   ],
   "source": [
    "np.mean(samples[:,t], axis=0)"
   ]
  },
  {
   "cell_type": "code",
   "execution_count": 41,
   "metadata": {},
   "outputs": [
    {
     "data": {
      "text/plain": [
       "array([[0.4547, 0.1153, 0.0787, 0.1863],\n",
       "       [0.0513, 0.0717, 0.1102, 0.0726],\n",
       "       [0.036 , 0.0121, 0.0416, 0.2064]])"
      ]
     },
     "execution_count": 41,
     "metadata": {},
     "output_type": "execute_result"
    }
   ],
   "source": [
    "np.std(samples[:,t], axis=0)"
   ]
  },
  {
   "cell_type": "code",
   "execution_count": 42,
   "metadata": {},
   "outputs": [],
   "source": [
    "from scipy.stats import normaltest"
   ]
  },
  {
   "cell_type": "code",
   "execution_count": 50,
   "metadata": {},
   "outputs": [
    {
     "data": {
      "text/plain": [
       "NormaltestResult(statistic=2.1575184713748143, pvalue=0.3400171451650124)"
      ]
     },
     "execution_count": 50,
     "metadata": {},
     "output_type": "execute_result"
    }
   ],
   "source": [
    "normaltest(samples[:,13,2,3])"
   ]
  },
  {
   "cell_type": "code",
   "execution_count": null,
   "metadata": {},
   "outputs": [],
   "source": []
  },
  {
   "cell_type": "code",
   "execution_count": 278,
   "metadata": {},
   "outputs": [],
   "source": [
    "from sklearn.neighbors.kde import KernelDensity\n",
    "def score(s1, s2):\n",
    "    bw = 0.1\n",
    "    s1 = s1[:,np.newaxis]\n",
    "    s2 = s2[:,np.newaxis]\n",
    "    e1 = KernelDensity(bandwidth=bw).fit(s1)\n",
    "    e2 = KernelDensity(bandwidth=bw).fit(s2)\n",
    "    \n",
    "    e1e2 = e1.score(s1) - e2.score(s1)\n",
    "    e2e1 = e2.score(s2) - e1.score(s2)\n",
    "    dist = (e1e2/len(s1) + e2e1/len(s2))/2\n",
    "    return dist"
   ]
  },
  {
   "cell_type": "code",
   "execution_count": 271,
   "metadata": {},
   "outputs": [],
   "source": [
    "def get_cdf(ts):\n",
    "    return lambda x: (ts <= x).mean()\n",
    "def score(s1,s2):\n",
    "    c1 = get_cdf(s1)\n",
    "    c2 = get_cdf(s2)\n",
    "\n",
    "    m = 0\n",
    "    for s in np.concatenate([s1, s2]):\n",
    "        r = np.abs(c1(s) - c2(s))\n",
    "        if r > m:\n",
    "            m = r\n",
    "    return m"
   ]
  },
  {
   "cell_type": "code",
   "execution_count": 203,
   "metadata": {},
   "outputs": [
    {
     "data": {
      "text/plain": [
       "0.00014521624382734903"
      ]
     },
     "execution_count": 203,
     "metadata": {},
     "output_type": "execute_result"
    }
   ],
   "source": [
    "score(s1,s2)"
   ]
  },
  {
   "cell_type": "code",
   "execution_count": 279,
   "metadata": {},
   "outputs": [
    {
     "name": "stdout",
     "output_type": "stream",
     "text": [
      "0\n",
      "1\n",
      "2\n",
      "3\n",
      "4\n",
      "6\n",
      "7\n",
      "8\n",
      "9\n",
      "10\n",
      "11\n",
      "12\n",
      "13\n",
      "14\n",
      "15\n",
      "16\n",
      "17\n",
      "18\n"
     ]
    }
   ],
   "source": [
    "dists = []\n",
    "for t1 in range(samples.shape[1] - 1):\n",
    "    np.random.seed(1234)\n",
    "    print(t1)\n",
    "    t2 = t1 + 1\n",
    "    s1 = samples[:,t1,0,0]\n",
    "    s2 = samples[:,t2,0,0]\n",
    "    ss = []\n",
    "    for _ in range(10):\n",
    "        s1_ = np.random.choice(s1, size=8000)\n",
    "        s2_ = np.random.choice(s2, size=8000)\n",
    "        m = score(s1_,s2_)\n",
    "        ss.append(m)\n",
    "    dists.append(ss)\n",
    "dists = np.array(dists).T"
   ]
  },
  {
   "cell_type": "markdown",
   "metadata": {},
   "source": [
    "## KDE + KL"
   ]
  },
  {
   "cell_type": "code",
   "execution_count": 270,
   "metadata": {},
   "outputs": [
    {
     "name": "stderr",
     "output_type": "stream",
     "text": [
      "/home/nikita/.virtualenvs/py3.6/lib/python3.6/site-packages/seaborn/timeseries.py:183: UserWarning: The tsplot function is deprecated and will be removed or replaced (in a substantially altered version) in a future release.\n",
      "  warnings.warn(msg, UserWarning)\n"
     ]
    },
    {
     "data": {
      "image/png": "[encoded data removed]",
      "text/plain": [
       "<matplotlib.figure.Figure at 0x7f08680eff60>"
      ]
     },
     "metadata": {},
     "output_type": "display_data"
    }
   ],
   "source": [
    "sns.tsplot(dists, ci=[50, 95])\n",
    "plt.show()"
   ]
  },
  {
   "cell_type": "code",
   "execution_count": 280,
   "metadata": {},
   "outputs": [
    {
     "name": "stderr",
     "output_type": "stream",
     "text": [
      "/home/nikita/.virtualenvs/py3.6/lib/python3.6/site-packages/seaborn/timeseries.py:183: UserWarning: The tsplot function is deprecated and will be removed or replaced (in a substantially altered version) in a future release.\n",
      "  warnings.warn(msg, UserWarning)\n"
     ]
    },
    {
     "data": {
      "image/png": "[encoded data removed]",
      "text/plain": [
       "<matplotlib.figure.Figure at 0x7f0863c040f0>"
      ]
     },
     "metadata": {},
     "output_type": "display_data"
    }
   ],
   "source": [
    "sns.tsplot(dists, ci=[50, 95])\n",
    "plt.show()"
   ]
  },
  {
   "cell_type": "markdown",
   "metadata": {},
   "source": [
    "## Kolmogorov-Smirnov"
   ]
  },
  {
   "cell_type": "code",
   "execution_count": 277,
   "metadata": {},
   "outputs": [
    {
     "name": "stderr",
     "output_type": "stream",
     "text": [
      "/home/nikita/.virtualenvs/py3.6/lib/python3.6/site-packages/seaborn/timeseries.py:183: UserWarning: The tsplot function is deprecated and will be removed or replaced (in a substantially altered version) in a future release.\n",
      "  warnings.warn(msg, UserWarning)\n"
     ]
    },
    {
     "data": {
      "image/png": "[encoded data removed]",
      "text/plain": [
       "<matplotlib.figure.Figure at 0x7f0863df7908>"
      ]
     },
     "metadata": {},
     "output_type": "display_data"
    }
   ],
   "source": [
    "sns.tsplot(dists, ci=[50, 95])\n",
    "plt.show()"
   ]
  },
  {
   "cell_type": "code",
   "execution_count": null,
   "metadata": {},
   "outputs": [],
   "source": []
  }
 ],
 "metadata": {
  "kernelspec": {
   "display_name": "Python 3.6 (sys p)",
   "language": "python",
   "name": "py3.6"
  },
  "language_info": {
   "codemirror_mode": {
    "name": "ipython",
    "version": 3
   },
   "file_extension": ".py",
   "mimetype": "text/x-python",
   "name": "python",
   "nbconvert_exporter": "python",
   "pygments_lexer": "ipython3",
   "version": "3.6.4"
  }
 },
 "nbformat": 4,
 "nbformat_minor": 2
}
