{
 "cells": [
  {
   "cell_type": "code",
   "execution_count": 1,
   "metadata": {},
   "outputs": [],
   "source": [
    "import tensorflow as tf\n",
    "import numpy as np\n",
    "import random\n",
    "sess = tf.InteractiveSession()"
   ]
  },
  {
   "cell_type": "code",
   "execution_count": 2,
   "metadata": {},
   "outputs": [],
   "source": [
    "names = np.loadtxt('/tmp/Practical_RL/week7_[recap]_rnn/names', dtype=str, delimiter=';').tolist()"
   ]
  },
  {
   "cell_type": "code",
   "execution_count": 3,
   "metadata": {},
   "outputs": [],
   "source": [
    "random.shuffle(names)"
   ]
  },
  {
   "cell_type": "code",
   "execution_count": 4,
   "metadata": {},
   "outputs": [
    {
     "data": {
      "text/plain": [
       "['Alvinia', 'Rolland', 'Joanna', 'Susanne', 'Sarajane']"
      ]
     },
     "execution_count": 4,
     "metadata": {},
     "output_type": "execute_result"
    }
   ],
   "source": [
    "names[:5]"
   ]
  },
  {
   "cell_type": "code",
   "execution_count": 5,
   "metadata": {},
   "outputs": [
    {
     "data": {
      "text/plain": [
       "7944"
      ]
     },
     "execution_count": 5,
     "metadata": {},
     "output_type": "execute_result"
    }
   ],
   "source": [
    "len(names)"
   ]
  },
  {
   "cell_type": "code",
   "execution_count": 6,
   "metadata": {},
   "outputs": [],
   "source": [
    "chars = set(''.join(names)+'_')\n",
    "dic = {x:i for i,x in enumerate(chars)}"
   ]
  },
  {
   "cell_type": "code",
   "execution_count": 7,
   "metadata": {},
   "outputs": [],
   "source": [
    "def convert_to_ix(names):\n",
    "    if type(names[0]) != str:\n",
    "        names = list(map(lambda x: x.decode('utf-8'), names))\n",
    "    chars = []\n",
    "    max_len = max([len(x) for x in names])\n",
    "    filler = dic['_']\n",
    "    for name in names:\n",
    "        chars.append([])\n",
    "        for s in name:\n",
    "            chars[-1].append(dic[s])\n",
    "        chars[-1] += [filler]*(max_len-len(name))\n",
    "#     print(chars)\n",
    "    return np.array(chars)"
   ]
  },
  {
   "cell_type": "code",
   "execution_count": 8,
   "metadata": {},
   "outputs": [
    {
     "data": {
      "text/plain": [
       "array([[32, 24, 41, 52, 31, 52, 28],\n",
       "       [ 8, 18, 24, 24, 28, 31, 15],\n",
       "       [16, 18, 28, 31, 31, 28,  0]])"
      ]
     },
     "execution_count": 8,
     "metadata": {},
     "output_type": "execute_result"
    }
   ],
   "source": [
    "convert_to_ix(names[:3])"
   ]
  },
  {
   "cell_type": "code",
   "execution_count": 9,
   "metadata": {},
   "outputs": [],
   "source": [
    "def get_random_states(cell, batch_size):\n",
    "    state_variables=[]\n",
    "    for state_c, state_h in cell.zero_state(batch_size, tf.float32):\n",
    "            state_variables.append(tf.contrib.rnn.LSTMStateTuple(\n",
    "                tf.random_normal(tf.shape(state_c), stddev=0.01),\n",
    "                tf.random_normal(tf.shape(state_h), stddev=0.01)))\n",
    "    return tuple(state_variables)"
   ]
  },
  {
   "cell_type": "code",
   "execution_count": 10,
   "metadata": {},
   "outputs": [],
   "source": [
    "def process_names(names):\n",
    "    with tf.variable_scope('test', reuse=tf.AUTO_REUSE):\n",
    "        inp = names\n",
    "\n",
    "        forward_lookup = tf.py_func(convert_to_ix, [inp], tf.int64)\n",
    "        forward_lookup = tf.nn.embedding_lookup(tf.diag(tf.range(len(chars))), forward_lookup)\n",
    "        forward_lookup = tf.reshape(forward_lookup, [tf.shape(inp)[0], -1, len(chars)])\n",
    "        forward_lookup = tf.cast(forward_lookup, tf.float32)\n",
    "\n",
    "        batch_size, series_len = tf.shape(forward_lookup)[0], tf.shape(forward_lookup)[1]\n",
    "\n",
    "        cells = [tf.nn.rnn_cell.LSTMCell(128, name='cell_{}'.format(i), activation=tf.nn.tanh) for i in range(3)]\n",
    "        mul_rnn = tf.nn.rnn_cell.MultiRNNCell(cells)\n",
    "\n",
    "        flt = tf.transpose(forward_lookup, [1,0,2])\n",
    "        init_state = get_random_states(mul_rnn, batch_size)#mul_rnn.zero_state(batch_size=batch_size, dtype=tf.float32)\n",
    "        \n",
    "        init = (tf.zeros([batch_size, mul_rnn.state_size[0][0]]), init_state)\n",
    "        out,_ = tf.scan(lambda prev,x: mul_rnn(x, prev[1]), flt, initializer=init)\n",
    "        out = tf.transpose(out, [1,0,2])\n",
    "        \n",
    "        dim = out.shape[-1]\n",
    "        out = tf.reshape(out, [-1, dim])\n",
    "        with tf.variable_scope('ww', initializer=tf.random_normal_initializer(stddev=0.01)):\n",
    "            W = tf.get_variable('W',shape=[dim, len(chars)])\n",
    "            b = tf.get_variable('b', shape=[1,len(chars)])\n",
    "        out = tf.matmul(out,W) + b\n",
    "\n",
    "        out = tf.reshape(out, [batch_size, series_len, len(chars)])\n",
    "\n",
    "        preds = out[:,:-1]\n",
    "        targets = forward_lookup[:,1:]\n",
    "        loss = tf.nn.softmax_cross_entropy_with_logits_v2(labels=targets, logits=preds)\n",
    "        loss = tf.reduce_mean(loss)\n",
    "        return out, loss"
   ]
  },
  {
   "cell_type": "code",
   "execution_count": null,
   "metadata": {},
   "outputs": [],
   "source": []
  },
  {
   "cell_type": "code",
   "execution_count": 11,
   "metadata": {},
   "outputs": [],
   "source": [
    "train_data = tf.Variable(np.array(names), trainable=False, name='train_data')\n",
    "shuffle_op = tf.assign(train_data, tf.random_shuffle(train_data))\n",
    "train_crop = tf.random_crop(train_data, [100])"
   ]
  },
  {
   "cell_type": "code",
   "execution_count": 12,
   "metadata": {
    "scrolled": false
   },
   "outputs": [
    {
     "name": "stdout",
     "output_type": "stream",
     "text": [
      "WARNING:tensorflow:From /usr/lib/python3.6/site-packages/tensorflow/contrib/learn/python/learn/datasets/base.py:198: retry (from tensorflow.contrib.learn.python.learn.datasets.base) is deprecated and will be removed in a future version.\n",
      "Instructions for updating:\n",
      "Use the retry module or similar alternatives.\n"
     ]
    }
   ],
   "source": [
    "out, loss = process_names(train_crop)"
   ]
  },
  {
   "cell_type": "code",
   "execution_count": 13,
   "metadata": {},
   "outputs": [
    {
     "name": "stdout",
     "output_type": "stream",
     "text": [
      "mkdir: cannot create directory ‘/tmp/tfdbg’: File exists\r\n"
     ]
    }
   ],
   "source": [
    "summary = tf.summary.scalar('loss', loss)\n",
    "!mkdir /tmp/tfdbg\n",
    "writer = tf.summary.FileWriter('/tmp/tfdbg/2')"
   ]
  },
  {
   "cell_type": "code",
   "execution_count": 14,
   "metadata": {},
   "outputs": [],
   "source": [
    "opt = tf.train.AdamOptimizer(0.001).minimize(loss)"
   ]
  },
  {
   "cell_type": "code",
   "execution_count": 15,
   "metadata": {},
   "outputs": [],
   "source": [
    "tf.global_variables_initializer().run()"
   ]
  },
  {
   "cell_type": "code",
   "execution_count": null,
   "metadata": {},
   "outputs": [
    {
     "name": "stdout",
     "output_type": "stream",
     "text": [
      "61.41399\n",
      "47.69909\n",
      "44.349922\n",
      "48.12338\n",
      "51.0445\n",
      "47.30741\n",
      "73.736824\n",
      "61.064575\n",
      "70.388306\n",
      "72.30483\n",
      "85.21728\n",
      "80.641205\n",
      "73.937454\n",
      "100.21162\n",
      "92.855316\n",
      "91.25403\n"
     ]
    }
   ],
   "source": [
    "for i in range(100000):\n",
    "    opt.run()\n",
    "    if i %200 == 0:\n",
    "        print(loss.eval())\n",
    "        shuffle_op.eval()\n",
    "    if i % 20 == 0:\n",
    "        s = summary.eval()\n",
    "        writer.add_summary(s)"
   ]
  },
  {
   "cell_type": "code",
   "execution_count": 13,
   "metadata": {},
   "outputs": [
    {
     "data": {
      "text/plain": [
       "(30, 10, 60)"
      ]
     },
     "execution_count": 13,
     "metadata": {},
     "output_type": "execute_result"
    }
   ],
   "source": [
    "out.eval().shape"
   ]
  },
  {
   "cell_type": "code",
   "execution_count": 38,
   "metadata": {},
   "outputs": [],
   "source": [
    "fb = lambda prev,_: [prev[1],prev[0]+prev[1]]"
   ]
  },
  {
   "cell_type": "code",
   "execution_count": 39,
   "metadata": {
    "scrolled": false
   },
   "outputs": [],
   "source": [
    "fbs = tf.scan(fb, tf.range(10), initializer=[1.,1.])"
   ]
  },
  {
   "cell_type": "code",
   "execution_count": 41,
   "metadata": {},
   "outputs": [
    {
     "data": {
      "text/plain": [
       "array([ 1.,  2.,  3.,  5.,  8., 13., 21., 34., 55., 89.], dtype=float32)"
      ]
     },
     "execution_count": 41,
     "metadata": {},
     "output_type": "execute_result"
    }
   ],
   "source": [
    "fbs[0].eval()"
   ]
  },
  {
   "cell_type": "code",
   "execution_count": 42,
   "metadata": {},
   "outputs": [
    {
     "data": {
      "text/plain": [
       "[<tf.Tensor 'scan_7/TensorArrayStack/TensorArrayGatherV3:0' shape=(10,) dtype=float32>,\n",
       " <tf.Tensor 'scan_7/TensorArrayStack_1/TensorArrayGatherV3:0' shape=(10,) dtype=float32>]"
      ]
     },
     "execution_count": 42,
     "metadata": {},
     "output_type": "execute_result"
    }
   ],
   "source": [
    "fbs"
   ]
  },
  {
   "cell_type": "code",
   "execution_count": 12,
   "metadata": {},
   "outputs": [],
   "source": [
    "cells = [tf.nn.rnn_cell.BasicLSTMCell(80, name='cell_{}'.format(i)) for i in range(3)]\n",
    "cell = tf.nn.rnn_cell.MultiRNNCell(cells)"
   ]
  },
  {
   "cell_type": "code",
   "execution_count": 13,
   "metadata": {},
   "outputs": [
    {
     "data": {
      "text/plain": [
       "(LSTMStateTuple(c=<tf.Tensor 'MultiRNNCellZeroState/BasicLSTMCellZeroState/zeros:0' shape=(5, 80) dtype=float32>, h=<tf.Tensor 'MultiRNNCellZeroState/BasicLSTMCellZeroState/zeros_1:0' shape=(5, 80) dtype=float32>),\n",
       " LSTMStateTuple(c=<tf.Tensor 'MultiRNNCellZeroState/BasicLSTMCellZeroState_1/zeros:0' shape=(5, 80) dtype=float32>, h=<tf.Tensor 'MultiRNNCellZeroState/BasicLSTMCellZeroState_1/zeros_1:0' shape=(5, 80) dtype=float32>),\n",
       " LSTMStateTuple(c=<tf.Tensor 'MultiRNNCellZeroState/BasicLSTMCellZeroState_2/zeros:0' shape=(5, 80) dtype=float32>, h=<tf.Tensor 'MultiRNNCellZeroState/BasicLSTMCellZeroState_2/zeros_1:0' shape=(5, 80) dtype=float32>))"
      ]
     },
     "execution_count": 13,
     "metadata": {},
     "output_type": "execute_result"
    }
   ],
   "source": [
    "cell.zero_state(5, tf.float32)"
   ]
  },
  {
   "cell_type": "code",
   "execution_count": 15,
   "metadata": {},
   "outputs": [
    {
     "data": {
      "text/plain": [
       "[LSTMStateTuple(c=<tf.Variable 'Variable:0' shape=(5, 80) dtype=float32_ref>, h=<tf.Variable 'Variable_1:0' shape=(5, 80) dtype=float32_ref>),\n",
       " LSTMStateTuple(c=<tf.Variable 'Variable_2:0' shape=(5, 80) dtype=float32_ref>, h=<tf.Variable 'Variable_3:0' shape=(5, 80) dtype=float32_ref>),\n",
       " LSTMStateTuple(c=<tf.Variable 'Variable_4:0' shape=(5, 80) dtype=float32_ref>, h=<tf.Variable 'Variable_5:0' shape=(5, 80) dtype=float32_ref>)]"
      ]
     },
     "execution_count": 15,
     "metadata": {},
     "output_type": "execute_result"
    }
   ],
   "source": [
    "state_variables"
   ]
  },
  {
   "cell_type": "code",
   "execution_count": 16,
   "metadata": {},
   "outputs": [
    {
     "data": {
      "text/plain": [
       "<tf.Tensor 'MultiRNNCellZeroState_1/BasicLSTMCellZeroState_2/zeros:0' shape=(5, 80) dtype=float32>"
      ]
     },
     "execution_count": 16,
     "metadata": {},
     "output_type": "execute_result"
    }
   ],
   "source": [
    "state_c"
   ]
  },
  {
   "cell_type": "code",
   "execution_count": null,
   "metadata": {},
   "outputs": [],
   "source": []
  }
 ],
 "metadata": {
  "kernelspec": {
   "display_name": "py3.6",
   "language": "python",
   "name": "py3.6"
  },
  "language_info": {
   "codemirror_mode": {
    "name": "ipython",
    "version": 3
   },
   "file_extension": ".py",
   "mimetype": "text/x-python",
   "name": "python",
   "nbconvert_exporter": "python",
   "pygments_lexer": "ipython3",
   "version": "3.6.4"
  }
 },
 "nbformat": 4,
 "nbformat_minor": 2
}
