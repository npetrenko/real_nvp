{
 "cells": [
  {
   "cell_type": "code",
   "execution_count": 1,
   "metadata": {},
   "outputs": [],
   "source": [
    "import tensorflow as tf\n",
    "from flows import NormalRW, DFlow, ResFlow, NVPFlow, phase, Normal, floatX, MVNormal, MVNormalRW, Linear, CFlow, LinearChol\n",
    "import numpy as np\n",
    "import pandas as pd\n",
    "from matplotlib import pyplot as plt\n",
    "import seaborn as sns\n",
    "from tensorflow.contrib.distributions import WishartCholesky\n",
    "\n",
    "np.random.seed(1234)"
   ]
  },
  {
   "cell_type": "code",
   "execution_count": 2,
   "metadata": {},
   "outputs": [],
   "source": [
    "data = pd.read_csv('./data/test_rus_data.csv').values.astype(floatX).T[np.newaxis][:,2:]/100"
   ]
  },
  {
   "cell_type": "code",
   "execution_count": 3,
   "metadata": {},
   "outputs": [
    {
     "name": "stdout",
     "output_type": "stream",
     "text": [
      "[0.21742282 0.16835931 0.01139835]\n"
     ]
    }
   ],
   "source": [
    "stds = (data[0,1:] - data[0,:-1]).std(axis=0)\n",
    "print(stds)\n",
    "data /= stds"
   ]
  },
  {
   "cell_type": "code",
   "execution_count": 4,
   "metadata": {},
   "outputs": [],
   "source": [
    "xs = data"
   ]
  },
  {
   "cell_type": "code",
   "execution_count": 5,
   "metadata": {},
   "outputs": [],
   "source": [
    "n = data.shape[1]\n",
    "s1 = 0.01\n",
    "s0 = 2.\n",
    "dim = [3,4]\n",
    "\n",
    "k = dim[0] * dim[1]\n",
    "# with tf.variable_scope('pwalk_inf', reuse=tf.AUTO_REUSE):\n",
    "#     lowerd = DFlow([NVPFlow(dim=k*(k-1)//2 + k, name='lowerd_flow_' + str(i)) for i in range(2)])\n",
    "#     ldiag = DFlow([NVPFlow(dim=k, name='ldiag_flow_' + str(i)) for i in range(4)])\n",
    "# PWalk = MVNormalRW(dim[0]*dim[1], sigma=s1, sigma0=s0, name='param_walk_prior', \n",
    "#                    lowerd=lowerd.output[0], ldiag=ldiag.output[0]+np.log(1/s1))\n",
    "# PWalk = MVNormalRW(dim[0]*dim[1], sigma=s1, sigma0=s0, name='param_walk_prior')\n",
    "PWalk = NormalRW(dim=None, sigma0=s0, sigma=s1)"
   ]
  },
  {
   "cell_type": "code",
   "execution_count": 6,
   "metadata": {},
   "outputs": [],
   "source": [
    "def autoregr_tf(X, param):\n",
    "    d = param[:,:dim[-1]-1]\n",
    "    X = tf.matmul(X, d) + param[:,-1][np.newaxis]\n",
    "    return X"
   ]
  },
  {
   "cell_type": "code",
   "execution_count": 7,
   "metadata": {},
   "outputs": [],
   "source": [
    "init = np.array([[ 0.0309,  0.0638, -0.1418, -0.1054,  0.1332,  0.2403,  0.5305, \n",
    "                  0.2873,  0.1176, -0.0548,  0.9631,  0.0343]])[np.newaxis]\n",
    "out_flow = DFlow([LinearChol(n*dim[0]*dim[1], name='approx')])\n",
    "outputs = tf.reshape(out_flow.output, [1, n, dim[0]*dim[1]])\n",
    "outputs += init\n",
    "# out_flow = DFlow([LinearChol(dim[0]*dim[1], name='approx')])\n",
    "# outputs = tf.stack([out_flow.output]*n)"
   ]
  },
  {
   "cell_type": "code",
   "execution_count": 8,
   "metadata": {},
   "outputs": [
    {
     "data": {
      "text/plain": [
       "<tf.Tensor 'add_3:0' shape=(1, 20, 12) dtype=float64>"
      ]
     },
     "execution_count": 8,
     "metadata": {},
     "output_type": "execute_result"
    }
   ],
   "source": [
    "outputs"
   ]
  },
  {
   "cell_type": "code",
   "execution_count": 9,
   "metadata": {},
   "outputs": [],
   "source": [
    "prior = PWalk.logdens(outputs)"
   ]
  },
  {
   "cell_type": "code",
   "execution_count": 10,
   "metadata": {},
   "outputs": [
    {
     "data": {
      "text/plain": [
       "<tf.Tensor 'add_6:0' shape=() dtype=float64>"
      ]
     },
     "execution_count": 10,
     "metadata": {},
     "output_type": "execute_result"
    }
   ],
   "source": [
    "prior"
   ]
  },
  {
   "cell_type": "code",
   "execution_count": 11,
   "metadata": {},
   "outputs": [],
   "source": [
    "def create_loglik2():\n",
    "    obs_d = Normal(dim=None, sigma=1., mu=0)\n",
    "    out = tf.reshape(outputs, [n, dim[0], dim[1]])\n",
    "    \n",
    "    def step1(current):\n",
    "        X = current[0][np.newaxis]\n",
    "        param = current[1]\n",
    "        d = param[:,:dim[-1]-1]\n",
    "        X = tf.matmul(X, d)[0] + param[:,-1]\n",
    "        return X\n",
    "    \n",
    "    ar = tf.map_fn(step1, (xs[0][:-1], out[:-1]), dtype=tf.float64)\n",
    "    return obs_d.logdens(ar - xs[0][1:])"
   ]
  },
  {
   "cell_type": "code",
   "execution_count": 12,
   "metadata": {},
   "outputs": [],
   "source": [
    "logl = create_loglik2()"
   ]
  },
  {
   "cell_type": "code",
   "execution_count": 13,
   "metadata": {},
   "outputs": [],
   "source": [
    "ent = out_flow.logdens"
   ]
  },
  {
   "cell_type": "code",
   "execution_count": 14,
   "metadata": {},
   "outputs": [
    {
     "data": {
      "text/plain": [
       "<tf.Tensor 'sub_1:0' shape=() dtype=float64>"
      ]
     },
     "execution_count": 14,
     "metadata": {},
     "output_type": "execute_result"
    }
   ],
   "source": [
    "ent"
   ]
  },
  {
   "cell_type": "code",
   "execution_count": 15,
   "metadata": {},
   "outputs": [],
   "source": [
    "df = dim[0]*dim[1]*5\n",
    "pmat = np.diag([(1/s1**2)]*(dim[0]*dim[1]))/df\n",
    "cov_prior = WishartCholesky(df, pmat, cholesky_input_output_matrices=True)"
   ]
  },
  {
   "cell_type": "code",
   "execution_count": 16,
   "metadata": {},
   "outputs": [],
   "source": [
    "loss = -logl - prior + ent# - cov_prior.log_prob(PWalk.fsigma) + lowerd.logdens + ldiag.logdens\n",
    "loss /= n*dim[0]*dim[1]"
   ]
  },
  {
   "cell_type": "code",
   "execution_count": 17,
   "metadata": {},
   "outputs": [
    {
     "data": {
      "text/plain": [
       "<tf.Tensor 'loss:0' shape=() dtype=string>"
      ]
     },
     "execution_count": 17,
     "metadata": {},
     "output_type": "execute_result"
    }
   ],
   "source": [
    "tf.summary.scalar('loss', loss)"
   ]
  },
  {
   "cell_type": "code",
   "execution_count": 18,
   "metadata": {},
   "outputs": [],
   "source": [
    "opt = tf.train.FtrlOptimizer(#AdamOptimizer(0.001).minimize(loss)"
   ]
  },
  {
   "cell_type": "code",
   "execution_count": 19,
   "metadata": {},
   "outputs": [],
   "source": [
    "sess = tf.InteractiveSession()"
   ]
  },
  {
   "cell_type": "code",
   "execution_count": 20,
   "metadata": {},
   "outputs": [],
   "source": [
    "tf.global_variables_initializer().run()"
   ]
  },
  {
   "cell_type": "code",
   "execution_count": 21,
   "metadata": {},
   "outputs": [
    {
     "data": {
      "text/plain": [
       "(-4010934.7500033253, -362.67217300760683, -2336.008498405986)"
      ]
     },
     "execution_count": 21,
     "metadata": {},
     "output_type": "execute_result"
    }
   ],
   "source": [
    "prior.eval(), ent.eval(), logl.eval()"
   ]
  },
  {
   "cell_type": "code",
   "execution_count": 22,
   "metadata": {},
   "outputs": [
    {
     "data": {
      "text/plain": [
       "13003.54706472722"
      ]
     },
     "execution_count": 22,
     "metadata": {},
     "output_type": "execute_result"
    }
   ],
   "source": [
    "loss.eval()"
   ]
  },
  {
   "cell_type": "code",
   "execution_count": 23,
   "metadata": {},
   "outputs": [],
   "source": [
    "np.set_printoptions(precision=4)"
   ]
  },
  {
   "cell_type": "code",
   "execution_count": 24,
   "metadata": {},
   "outputs": [],
   "source": [
    "# PWalk.inverse_sigma.eval()[:3,:3]"
   ]
  },
  {
   "cell_type": "code",
   "execution_count": 25,
   "metadata": {},
   "outputs": [],
   "source": [
    "# all_sum = tf.summary.merge_all()\n",
    "# writer = tf.summary.FileWriter('/tmp/tfdbg')"
   ]
  },
  {
   "cell_type": "code",
   "execution_count": null,
   "metadata": {
    "scrolled": true
   },
   "outputs": [
    {
     "name": "stdout",
     "output_type": "stream",
     "text": [
      "106.92375096162594\n",
      "\n",
      "\n",
      "153.2582370014391\n",
      "\n",
      "\n",
      "79.35847699656468\n",
      "\n",
      "\n",
      "81.76617388475589\n",
      "\n",
      "\n",
      "107.86322265680282\n",
      "\n",
      "\n",
      "101.91436346010973\n",
      "\n",
      "\n",
      "126.504283403137\n",
      "\n",
      "\n",
      "116.14173228227926\n",
      "\n",
      "\n",
      "91.39693644510638\n",
      "\n",
      "\n",
      "87.88258808285862\n",
      "\n",
      "\n",
      "99.88238715055854\n",
      "\n",
      "\n",
      "67.5340376349112\n",
      "\n",
      "\n",
      "88.09845822656808\n",
      "\n",
      "\n",
      "100.10767487087084\n",
      "\n",
      "\n",
      "65.7210059587339\n",
      "\n",
      "\n",
      "79.52351685466465\n",
      "\n",
      "\n",
      "86.1188690135783\n",
      "\n",
      "\n",
      "91.32853421496685\n",
      "\n",
      "\n",
      "89.5985952665365\n",
      "\n",
      "\n",
      "97.21596904400968\n",
      "\n",
      "\n",
      "61.34786927916152\n",
      "\n",
      "\n",
      "91.50270934374323\n",
      "\n",
      "\n",
      "79.73315494353476\n",
      "\n",
      "\n",
      "138.69125115991565\n",
      "\n",
      "\n",
      "85.80078402415297\n",
      "\n",
      "\n",
      "78.51877737321169\n",
      "\n",
      "\n",
      "86.48964204940897\n",
      "\n",
      "\n",
      "141.25174070412658\n",
      "\n",
      "\n",
      "86.15710006365339\n",
      "\n",
      "\n",
      "76.6239200618184\n",
      "\n",
      "\n",
      "117.54278608014904\n",
      "\n",
      "\n",
      "112.1034407261368\n",
      "\n",
      "\n",
      "86.77371520153636\n",
      "\n",
      "\n",
      "80.83960695798046\n",
      "\n",
      "\n",
      "69.96672128856336\n",
      "\n",
      "\n",
      "100.95360755572587\n",
      "\n",
      "\n",
      "55.72440924133392\n",
      "\n",
      "\n",
      "99.03863358887946\n",
      "\n",
      "\n",
      "82.89237882312423\n",
      "\n",
      "\n",
      "119.83173753737061\n",
      "\n",
      "\n",
      "126.1959958241132\n",
      "\n",
      "\n",
      "98.10657015322587\n",
      "\n",
      "\n",
      "73.22625358701877\n",
      "\n",
      "\n",
      "79.51845514804337\n",
      "\n",
      "\n",
      "128.7096600135102\n",
      "\n",
      "\n",
      "86.55315446710391\n",
      "\n",
      "\n",
      "103.86292240314863\n",
      "\n",
      "\n",
      "110.29741882416154\n",
      "\n",
      "\n",
      "90.08887676708224\n",
      "\n",
      "\n",
      "114.19312823822617\n",
      "\n",
      "\n",
      "61.103155200954724\n",
      "\n",
      "\n",
      "72.5933476533488\n",
      "\n",
      "\n",
      "108.6637050382211\n",
      "\n",
      "\n",
      "102.32523626777039\n",
      "\n",
      "\n",
      "78.20825638904877\n",
      "\n",
      "\n",
      "65.18913920024453\n",
      "\n",
      "\n",
      "83.14318601304936\n",
      "\n",
      "\n",
      "102.77607630104555\n",
      "\n",
      "\n",
      "74.12275692356783\n",
      "\n",
      "\n",
      "54.18187236781078\n",
      "\n",
      "\n",
      "86.29166171523758\n",
      "\n",
      "\n",
      "115.36146680880465\n",
      "\n",
      "\n",
      "60.10809221939437\n",
      "\n",
      "\n",
      "110.90426594140497\n",
      "\n",
      "\n",
      "99.53777656097459\n",
      "\n",
      "\n",
      "191.5149975379874\n",
      "\n",
      "\n",
      "64.80173907956893\n",
      "\n",
      "\n",
      "50.66461175945022\n",
      "\n",
      "\n",
      "109.13045253118656\n",
      "\n",
      "\n",
      "146.12703315726495\n",
      "\n",
      "\n",
      "126.20106866003083\n",
      "\n",
      "\n",
      "109.5242870520648\n",
      "\n",
      "\n",
      "88.79774922641467\n",
      "\n",
      "\n",
      "77.87355274345154\n",
      "\n",
      "\n",
      "157.43604630660087\n",
      "\n",
      "\n",
      "118.33631085524544\n",
      "\n",
      "\n",
      "81.75219801283679\n",
      "\n",
      "\n",
      "77.0610360219455\n",
      "\n",
      "\n",
      "63.710595922438756\n",
      "\n",
      "\n",
      "102.24550885483538\n",
      "\n",
      "\n",
      "69.33217174010072\n",
      "\n",
      "\n",
      "91.78607515169672\n",
      "\n",
      "\n",
      "131.387970691181\n",
      "\n",
      "\n",
      "53.30897815831313\n",
      "\n",
      "\n",
      "133.7325711187953\n",
      "\n",
      "\n",
      "69.67326320855679\n",
      "\n",
      "\n",
      "59.5336741279348\n",
      "\n",
      "\n",
      "74.00442311857654\n",
      "\n",
      "\n",
      "77.10218657832571\n",
      "\n",
      "\n",
      "72.55987580084499\n",
      "\n",
      "\n",
      "74.09502318873454\n",
      "\n",
      "\n",
      "86.82224155202893\n",
      "\n",
      "\n",
      "122.26595388337485\n",
      "\n",
      "\n",
      "88.04170045805914\n",
      "\n",
      "\n",
      "72.90503210520004\n",
      "\n",
      "\n",
      "81.96809886018461\n",
      "\n",
      "\n",
      "88.80791368004505\n",
      "\n",
      "\n",
      "81.64475325552043\n",
      "\n",
      "\n",
      "78.19616022824016\n",
      "\n",
      "\n",
      "149.18225140645845\n",
      "\n",
      "\n",
      "106.72748465781403\n",
      "\n",
      "\n",
      "79.6617606390313\n",
      "\n",
      "\n",
      "113.79923751364456\n",
      "\n",
      "\n",
      "70.44696929249737\n",
      "\n",
      "\n",
      "48.917695204084254\n",
      "\n",
      "\n",
      "102.71313620390906\n",
      "\n",
      "\n",
      "83.35174821107923\n",
      "\n",
      "\n",
      "63.95486800582407\n",
      "\n",
      "\n",
      "82.11121535255835\n",
      "\n",
      "\n",
      "48.93070294703792\n",
      "\n",
      "\n",
      "108.41047818330352\n",
      "\n",
      "\n",
      "110.56538450206634\n",
      "\n",
      "\n",
      "107.91937049098219\n",
      "\n",
      "\n",
      "88.88872231202866\n",
      "\n",
      "\n",
      "42.036775154488105\n",
      "\n",
      "\n",
      "62.53368851662072\n",
      "\n",
      "\n",
      "54.02682785979379\n",
      "\n",
      "\n",
      "66.08708460198301\n",
      "\n",
      "\n",
      "40.10199612278763\n",
      "\n",
      "\n",
      "86.24697710087851\n",
      "\n",
      "\n",
      "73.98206481977226\n",
      "\n",
      "\n",
      "79.4131303887627\n",
      "\n",
      "\n",
      "67.42633557793114\n",
      "\n",
      "\n",
      "53.32000464530377\n",
      "\n",
      "\n",
      "146.6759278241688\n",
      "\n",
      "\n",
      "64.70263861260811\n",
      "\n",
      "\n",
      "82.24601150967736\n",
      "\n",
      "\n",
      "66.13803111927515\n",
      "\n",
      "\n",
      "106.48291671095002\n",
      "\n",
      "\n",
      "65.57740939578433\n",
      "\n",
      "\n",
      "54.674078144695976\n",
      "\n",
      "\n",
      "93.20280005237422\n",
      "\n",
      "\n",
      "94.56717917186714\n",
      "\n",
      "\n",
      "69.71755650482402\n",
      "\n",
      "\n",
      "88.77426393151089\n",
      "\n",
      "\n",
      "84.8748698217426\n",
      "\n",
      "\n",
      "76.56489995672858\n",
      "\n",
      "\n",
      "97.92860730148186\n",
      "\n",
      "\n",
      "68.50968398626053\n",
      "\n",
      "\n",
      "82.75099753349124\n",
      "\n",
      "\n",
      "138.54223686944135\n",
      "\n",
      "\n",
      "59.14705788393859\n",
      "\n",
      "\n",
      "69.65870229275644\n",
      "\n",
      "\n",
      "93.86513260896534\n",
      "\n",
      "\n",
      "89.87743311635421\n",
      "\n",
      "\n",
      "59.82196279751636\n",
      "\n",
      "\n",
      "169.5560412064722\n",
      "\n",
      "\n",
      "98.18213505401557\n",
      "\n",
      "\n",
      "49.877014894507134\n",
      "\n",
      "\n",
      "95.42993590786052\n",
      "\n",
      "\n",
      "96.82778574918234\n",
      "\n",
      "\n"
     ]
    }
   ],
   "source": [
    "%%time\n",
    "for _ in range(50000):\n",
    "    for _ in range(400):\n",
    "        l, _ = sess.run([loss, opt], {phase:True})\n",
    "    print(l)\n",
    "#     print(PWalk.inverse_sigma.eval()[:3,:3])\n",
    "    print('\\n')\n",
    "#     writer.add_summary(all_sum.eval())"
   ]
  },
  {
   "cell_type": "code",
   "execution_count": 26,
   "metadata": {},
   "outputs": [],
   "source": [
    "# saver = tf.train.Saver()"
   ]
  },
  {
   "cell_type": "code",
   "execution_count": 27,
   "metadata": {},
   "outputs": [
    {
     "name": "stdout",
     "output_type": "stream",
     "text": [
      "INFO:tensorflow:Restoring parameters from /home/nikita/tmp/rdata4\n"
     ]
    }
   ],
   "source": [
    "saver = tf.train.Saver()\n",
    "saver.restore(sess,'/home/nikita/tmp/rdata4')"
   ]
  },
  {
   "cell_type": "code",
   "execution_count": 27,
   "metadata": {},
   "outputs": [
    {
     "ename": "AttributeError",
     "evalue": "'NormalRW' object has no attribute 'inverse_sigma'",
     "output_type": "error",
     "traceback": [
      "\u001b[0;31m---------------------------------------------------------------------------\u001b[0m",
      "\u001b[0;31mAttributeError\u001b[0m                            Traceback (most recent call last)",
      "\u001b[0;32m<ipython-input-27-0dee7075c871>\u001b[0m in \u001b[0;36m<module>\u001b[0;34m()\u001b[0m\n\u001b[1;32m      1\u001b[0m \u001b[0mss\u001b[0m \u001b[0;34m=\u001b[0m \u001b[0;34m[\u001b[0m\u001b[0;34m]\u001b[0m\u001b[0;34m\u001b[0m\u001b[0m\n\u001b[1;32m      2\u001b[0m \u001b[0;32mfor\u001b[0m \u001b[0m_\u001b[0m \u001b[0;32min\u001b[0m \u001b[0mrange\u001b[0m\u001b[0;34m(\u001b[0m\u001b[0;36m3000\u001b[0m\u001b[0;34m)\u001b[0m\u001b[0;34m:\u001b[0m\u001b[0;34m\u001b[0m\u001b[0m\n\u001b[0;32m----> 3\u001b[0;31m     \u001b[0ma\u001b[0m \u001b[0;34m=\u001b[0m \u001b[0mnp\u001b[0m\u001b[0;34m.\u001b[0m\u001b[0mlinalg\u001b[0m\u001b[0;34m.\u001b[0m\u001b[0minv\u001b[0m\u001b[0;34m(\u001b[0m\u001b[0mPWalk\u001b[0m\u001b[0;34m.\u001b[0m\u001b[0minverse_sigma\u001b[0m\u001b[0;34m.\u001b[0m\u001b[0meval\u001b[0m\u001b[0;34m(\u001b[0m\u001b[0;34m)\u001b[0m\u001b[0;34m)\u001b[0m\u001b[0;34m\u001b[0m\u001b[0m\n\u001b[0m\u001b[1;32m      4\u001b[0m     \u001b[0mss\u001b[0m\u001b[0;34m.\u001b[0m\u001b[0mappend\u001b[0m\u001b[0;34m(\u001b[0m\u001b[0mnp\u001b[0m\u001b[0;34m.\u001b[0m\u001b[0msqrt\u001b[0m\u001b[0;34m(\u001b[0m\u001b[0mnp\u001b[0m\u001b[0;34m.\u001b[0m\u001b[0mdiag\u001b[0m\u001b[0;34m(\u001b[0m\u001b[0ma\u001b[0m\u001b[0;34m)\u001b[0m\u001b[0;34m)\u001b[0m\u001b[0;34m)\u001b[0m\u001b[0;34m\u001b[0m\u001b[0m\n\u001b[1;32m      5\u001b[0m \u001b[0mss\u001b[0m \u001b[0;34m=\u001b[0m \u001b[0mnp\u001b[0m\u001b[0;34m.\u001b[0m\u001b[0marray\u001b[0m\u001b[0;34m(\u001b[0m\u001b[0mss\u001b[0m\u001b[0;34m)\u001b[0m\u001b[0;34m\u001b[0m\u001b[0m\n",
      "\u001b[0;31mAttributeError\u001b[0m: 'NormalRW' object has no attribute 'inverse_sigma'"
     ]
    }
   ],
   "source": [
    "ss = []\n",
    "for _ in range(3000):\n",
    "    a = np.linalg.inv(PWalk.inverse_sigma.eval())\n",
    "    ss.append(np.sqrt(np.diag(a)))\n",
    "ss = np.array(ss)"
   ]
  },
  {
   "cell_type": "code",
   "execution_count": 47,
   "metadata": {},
   "outputs": [
    {
     "data": {
      "text/plain": [
       "(array([0.2575, 0.2548, 0.2836, 0.2809, 0.3   , 0.2513, 0.2655, 0.2668,\n",
       "        0.0801, 0.0746, 0.0824, 0.2918]),\n",
       " array([8.3267e-15, 1.3323e-15, 2.8866e-15, 1.3212e-14, 4.3854e-15,\n",
       "        1.2212e-15, 6.4948e-15, 6.4393e-15, 2.5119e-15, 1.9845e-15,\n",
       "        3.8025e-15, 4.9405e-15]))"
      ]
     },
     "execution_count": 47,
     "metadata": {},
     "output_type": "execute_result"
    }
   ],
   "source": [
    "np.mean(ss, axis=0), np.std(ss, axis=0)"
   ]
  },
  {
   "cell_type": "code",
   "execution_count": 39,
   "metadata": {
    "scrolled": true
   },
   "outputs": [],
   "source": [
    "# sns.kdeplot(ss[:,1], ss[:,0])\n",
    "# plt.show()"
   ]
  },
  {
   "cell_type": "code",
   "execution_count": 27,
   "metadata": {},
   "outputs": [],
   "source": [
    "out = tf.reshape(outputs, [n, dim[0], dim[1]])"
   ]
  },
  {
   "cell_type": "code",
   "execution_count": 28,
   "metadata": {},
   "outputs": [],
   "source": [
    "samples = []\n",
    "for _ in range(3000):\n",
    "    s = out.eval()\n",
    "    samples.append(s)\n",
    "samples = np.array(samples)"
   ]
  },
  {
   "cell_type": "code",
   "execution_count": 29,
   "metadata": {
    "scrolled": true
   },
   "outputs": [
    {
     "data": {
      "text/plain": [
       "(3000, 20, 3, 4)"
      ]
     },
     "execution_count": 29,
     "metadata": {},
     "output_type": "execute_result"
    }
   ],
   "source": [
    "samples.shape"
   ]
  },
  {
   "cell_type": "code",
   "execution_count": 30,
   "metadata": {},
   "outputs": [
    {
     "data": {
      "image/png": "[encoded data removed]",
      "text/plain": [
       "<Figure size 432x288 with 1 Axes>"
      ]
     },
     "metadata": {},
     "output_type": "display_data"
    }
   ],
   "source": [
    "sns.kdeplot(samples[:,0,2,0], samples[:,11,0,3])\n",
    "plt.show()"
   ]
  },
  {
   "cell_type": "code",
   "execution_count": 139,
   "metadata": {},
   "outputs": [
    {
     "data": {
      "text/plain": [
       "0.09639029882481966"
      ]
     },
     "execution_count": 139,
     "metadata": {},
     "output_type": "execute_result"
    }
   ],
   "source": [
    "samples[:,10,2,0].mean()"
   ]
  },
  {
   "cell_type": "code",
   "execution_count": 140,
   "metadata": {},
   "outputs": [
    {
     "data": {
      "image/png": "[encoded data removed]",
      "text/plain": [
       "<matplotlib.figure.Figure at 0x7fddcddff438>"
      ]
     },
     "metadata": {},
     "output_type": "display_data"
    }
   ],
   "source": [
    "sns.kdeplot(samples[:,5,2,0], samples[:,5,0,0])\n",
    "plt.show()"
   ]
  },
  {
   "cell_type": "code",
   "execution_count": 83,
   "metadata": {},
   "outputs": [],
   "source": [
    "t = 10\n",
    "# params[t]"
   ]
  },
  {
   "cell_type": "code",
   "execution_count": 84,
   "metadata": {},
   "outputs": [
    {
     "data": {
      "text/plain": [
       "array([[ 3.3247e-03, -7.3668e-03,  6.3002e-03,  1.1010e-02],\n",
       "       [ 4.5848e-03, -3.7239e-04,  9.8147e-03,  3.6363e-03],\n",
       "       [ 9.8738e-02, -1.8441e-03,  9.1986e-01,  1.1776e-04]])"
      ]
     },
     "execution_count": 84,
     "metadata": {},
     "output_type": "execute_result"
    }
   ],
   "source": [
    "np.mean(samples[:,t], axis=0)"
   ]
  },
  {
   "cell_type": "code",
   "execution_count": 85,
   "metadata": {},
   "outputs": [
    {
     "data": {
      "text/plain": [
       "array([[0.0571, 0.032 , 0.0175, 0.0123],\n",
       "       [0.0097, 0.0084, 0.0086, 0.0065],\n",
       "       [0.0108, 0.0047, 0.024 , 0.003 ]])"
      ]
     },
     "execution_count": 85,
     "metadata": {},
     "output_type": "execute_result"
    }
   ],
   "source": [
    "np.std(samples[:,t], axis=0)"
   ]
  },
  {
   "cell_type": "code",
   "execution_count": 163,
   "metadata": {},
   "outputs": [
    {
     "data": {
      "text/plain": [
       "array([[-0.2617, -0.0514, -0.1421, -1.1013],\n",
       "       [ 0.0716,  0.1932,  0.6169,  0.2148],\n",
       "       [ 0.2826, -0.0293,  0.8549,  0.9093]])"
      ]
     },
     "execution_count": 163,
     "metadata": {},
     "output_type": "execute_result"
    }
   ],
   "source": [
    "np.mean(samples[:,t], axis=0)"
   ]
  },
  {
   "cell_type": "code",
   "execution_count": 164,
   "metadata": {},
   "outputs": [
    {
     "data": {
      "text/plain": [
       "array([[0.1349, 0.0932, 0.1238, 0.3107],\n",
       "       [0.0814, 0.0982, 0.1407, 0.1506],\n",
       "       [0.0623, 0.039 , 0.0645, 0.3178]])"
      ]
     },
     "execution_count": 164,
     "metadata": {},
     "output_type": "execute_result"
    }
   ],
   "source": [
    "np.std(samples[:,t], axis=0)"
   ]
  },
  {
   "cell_type": "code",
   "execution_count": 187,
   "metadata": {},
   "outputs": [],
   "source": []
  },
  {
   "cell_type": "code",
   "execution_count": 278,
   "metadata": {},
   "outputs": [],
   "source": [
    "from sklearn.neighbors.kde import KernelDensity\n",
    "def score(s1, s2):\n",
    "    bw = 0.1\n",
    "    s1 = s1[:,np.newaxis]\n",
    "    s2 = s2[:,np.newaxis]\n",
    "    e1 = KernelDensity(bandwidth=bw).fit(s1)\n",
    "    e2 = KernelDensity(bandwidth=bw).fit(s2)\n",
    "    \n",
    "    e1e2 = e1.score(s1) - e2.score(s1)\n",
    "    e2e1 = e2.score(s2) - e1.score(s2)\n",
    "    dist = (e1e2/len(s1) + e2e1/len(s2))/2\n",
    "    return dist"
   ]
  },
  {
   "cell_type": "code",
   "execution_count": 271,
   "metadata": {},
   "outputs": [],
   "source": [
    "def get_cdf(ts):\n",
    "    return lambda x: (ts <= x).mean()\n",
    "def score(s1,s2):\n",
    "    c1 = get_cdf(s1)\n",
    "    c2 = get_cdf(s2)\n",
    "\n",
    "    m = 0\n",
    "    for s in np.concatenate([s1, s2]):\n",
    "        r = np.abs(c1(s) - c2(s))\n",
    "        if r > m:\n",
    "            m = r\n",
    "    return m"
   ]
  },
  {
   "cell_type": "code",
   "execution_count": 203,
   "metadata": {},
   "outputs": [
    {
     "data": {
      "text/plain": [
       "0.00014521624382734903"
      ]
     },
     "execution_count": 203,
     "metadata": {},
     "output_type": "execute_result"
    }
   ],
   "source": [
    "score(s1,s2)"
   ]
  },
  {
   "cell_type": "code",
   "execution_count": 279,
   "metadata": {},
   "outputs": [
    {
     "name": "stdout",
     "output_type": "stream",
     "text": [
      "0\n",
      "1\n",
      "2\n",
      "3\n",
      "4\n",
      "6\n",
      "7\n",
      "8\n",
      "9\n",
      "10\n",
      "11\n",
      "12\n",
      "13\n",
      "14\n",
      "15\n",
      "16\n",
      "17\n",
      "18\n"
     ]
    }
   ],
   "source": [
    "dists = []\n",
    "for t1 in range(samples.shape[1] - 1):\n",
    "    np.random.seed(1234)\n",
    "    print(t1)\n",
    "    t2 = t1 + 1\n",
    "    s1 = samples[:,t1,0,0]\n",
    "    s2 = samples[:,t2,0,0]\n",
    "    ss = []\n",
    "    for _ in range(10):\n",
    "        s1_ = np.random.choice(s1, size=8000)\n",
    "        s2_ = np.random.choice(s2, size=8000)\n",
    "        m = score(s1_,s2_)\n",
    "        ss.append(m)\n",
    "    dists.append(ss)\n",
    "dists = np.array(dists).T"
   ]
  },
  {
   "cell_type": "markdown",
   "metadata": {},
   "source": [
    "## KDE + KL"
   ]
  },
  {
   "cell_type": "code",
   "execution_count": 270,
   "metadata": {},
   "outputs": [
    {
     "name": "stderr",
     "output_type": "stream",
     "text": [
      "/home/nikita/.virtualenvs/py3.6/lib/python3.6/site-packages/seaborn/timeseries.py:183: UserWarning: The tsplot function is deprecated and will be removed or replaced (in a substantially altered version) in a future release.\n",
      "  warnings.warn(msg, UserWarning)\n"
     ]
    },
    {
     "data": {
      "image/png": "[encoded data removed]",
      "text/plain": [
       "<matplotlib.figure.Figure at 0x7f08680eff60>"
      ]
     },
     "metadata": {},
     "output_type": "display_data"
    }
   ],
   "source": [
    "sns.tsplot(dists, ci=[50, 95])\n",
    "plt.show()"
   ]
  },
  {
   "cell_type": "code",
   "execution_count": 280,
   "metadata": {},
   "outputs": [
    {
     "name": "stderr",
     "output_type": "stream",
     "text": [
      "/home/nikita/.virtualenvs/py3.6/lib/python3.6/site-packages/seaborn/timeseries.py:183: UserWarning: The tsplot function is deprecated and will be removed or replaced (in a substantially altered version) in a future release.\n",
      "  warnings.warn(msg, UserWarning)\n"
     ]
    },
    {
     "data": {
      "image/png": "[encoded data removed]",
      "text/plain": [
       "<matplotlib.figure.Figure at 0x7f0863c040f0>"
      ]
     },
     "metadata": {},
     "output_type": "display_data"
    }
   ],
   "source": [
    "sns.tsplot(dists, ci=[50, 95])\n",
    "plt.show()"
   ]
  },
  {
   "cell_type": "markdown",
   "metadata": {},
   "source": [
    "## Kolmogorov-Smirnov"
   ]
  },
  {
   "cell_type": "code",
   "execution_count": 277,
   "metadata": {},
   "outputs": [
    {
     "name": "stderr",
     "output_type": "stream",
     "text": [
      "/home/nikita/.virtualenvs/py3.6/lib/python3.6/site-packages/seaborn/timeseries.py:183: UserWarning: The tsplot function is deprecated and will be removed or replaced (in a substantially altered version) in a future release.\n",
      "  warnings.warn(msg, UserWarning)\n"
     ]
    },
    {
     "data": {
      "image/png": "[encoded data removed]",
      "text/plain": [
       "<matplotlib.figure.Figure at 0x7f0863df7908>"
      ]
     },
     "metadata": {},
     "output_type": "display_data"
    }
   ],
   "source": [
    "sns.tsplot(dists, ci=[50, 95])\n",
    "plt.show()"
   ]
  },
  {
   "cell_type": "code",
   "execution_count": null,
   "metadata": {},
   "outputs": [],
   "source": [
    "tf.pow()"
   ]
  }
 ],
 "metadata": {
  "kernelspec": {
   "display_name": "py3.6",
   "language": "python",
   "name": "py3.6"
  },
  "language_info": {
   "codemirror_mode": {
    "name": "ipython",
    "version": 3
   },
   "file_extension": ".py",
   "mimetype": "text/x-python",
   "name": "python",
   "nbconvert_exporter": "python",
   "pygments_lexer": "ipython3",
   "version": "3.6.4"
  }
 },
 "nbformat": 4,
 "nbformat_minor": 2
}
