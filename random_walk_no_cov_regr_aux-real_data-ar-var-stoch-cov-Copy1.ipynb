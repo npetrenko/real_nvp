{
 "cells": [
  {
   "cell_type": "code",
   "execution_count": 1,
   "metadata": {},
   "outputs": [
    {
     "name": "stdout",
     "output_type": "stream",
     "text": [
      "WARNING:tensorflow:From /usr/lib/python3.6/site-packages/tensorflow/contrib/learn/python/learn/datasets/base.py:198: retry (from tensorflow.contrib.learn.python.learn.datasets.base) is deprecated and will be removed in a future version.\n",
      "Instructions for updating:\n",
      "Use the retry module or similar alternatives.\n"
     ]
    }
   ],
   "source": [
    "import tensorflow as tf\n",
    "from flows import NormalRW, DFlow, ResFlow, NVPFlow, phase, Normal, floatX, MVNormal, MVNormalRW, Linear, CFlow, LinearChol\n",
    "import numpy as np\n",
    "import pandas as pd\n",
    "from matplotlib import pyplot as plt\n",
    "import seaborn as sns\n",
    "from tensorflow.contrib.distributions import WishartCholesky\n",
    "\n",
    "np.random.seed(1234)"
   ]
  },
  {
   "cell_type": "code",
   "execution_count": 2,
   "metadata": {},
   "outputs": [],
   "source": [
    "data = pd.read_csv('./data/test_rus_data.csv').values.astype(floatX).T[np.newaxis][:,2:]/100"
   ]
  },
  {
   "cell_type": "code",
   "execution_count": 3,
   "metadata": {},
   "outputs": [
    {
     "name": "stdout",
     "output_type": "stream",
     "text": [
      "[0.21742282 0.16835931 0.01139835]\n"
     ]
    }
   ],
   "source": [
    "stds = (data[0,1:] - data[0,:-1]).std(axis=0)\n",
    "print(stds)\n",
    "data /= stds"
   ]
  },
  {
   "cell_type": "code",
   "execution_count": 4,
   "metadata": {},
   "outputs": [],
   "source": [
    "xs = data"
   ]
  },
  {
   "cell_type": "code",
   "execution_count": 5,
   "metadata": {},
   "outputs": [],
   "source": [
    "n = data.shape[1]\n",
    "s1 = 0.01\n",
    "s0 = 2.\n",
    "dim = [3,4]\n",
    "\n",
    "k = dim[0] * dim[1]\n",
    "with tf.variable_scope('pwalk_inf', reuse=tf.AUTO_REUSE):\n",
    "    ldiag = DFlow([NVPFlow(dim=k, name='ldiag_flow_' + str(i)) for i in range(4)])\n",
    "    ldiag.logdens -= tf.reduce_sum(ldiag.output)\n",
    "PWalk = MVNormalRW(dim[0]*dim[1], sigma=s1, sigma0=s0, name='param_walk_prior', ldiag=ldiag.output[0]+np.log(1/s1))\n",
    "# PWalk = MVNormalRW(dim[0]*dim[1], sigma=s1, sigma0=s0, name='param_walk_prior')\n",
    "# PWalk = NormalRW(dim=None, sigma0=s0, sigma=s1)"
   ]
  },
  {
   "cell_type": "code",
   "execution_count": 6,
   "metadata": {},
   "outputs": [],
   "source": [
    "def autoregr_tf(X, param):\n",
    "    d = param[:,:dim[-1]-1]\n",
    "    X = tf.matmul(X, d) + param[:,-1][np.newaxis]\n",
    "    return X"
   ]
  },
  {
   "cell_type": "code",
   "execution_count": 7,
   "metadata": {},
   "outputs": [],
   "source": [
    "init = np.array([[ 0.0309,  0.0638, -0.1418, -0.1054,  0.1332,  0.2403,  0.5305, \n",
    "                  0.2873,  0.1176, -0.0548,  0.9631,  0.0343]])[np.newaxis]\n",
    "out_flow = DFlow([LinearChol(n*dim[0]*dim[1], name='approx')], init_sigma=s1)\n",
    "outputs = tf.reshape(out_flow.output, [n, dim[0]*dim[1]])\n",
    "outputs = tf.cumsum(outputs)[tf.newaxis]\n",
    "outputs += init\n",
    "# out_flow = DFlow([LinearChol(dim[0]*dim[1], name='approx')])\n",
    "# outputs = tf.stack([out_flow.output]*n)"
   ]
  },
  {
   "cell_type": "code",
   "execution_count": 8,
   "metadata": {},
   "outputs": [
    {
     "data": {
      "text/plain": [
       "<tf.Tensor 'add_4:0' shape=(1, 20, 12) dtype=float64>"
      ]
     },
     "execution_count": 8,
     "metadata": {},
     "output_type": "execute_result"
    }
   ],
   "source": [
    "outputs"
   ]
  },
  {
   "cell_type": "code",
   "execution_count": 9,
   "metadata": {},
   "outputs": [],
   "source": [
    "prior = PWalk.logdens(outputs)"
   ]
  },
  {
   "cell_type": "code",
   "execution_count": 10,
   "metadata": {},
   "outputs": [
    {
     "data": {
      "text/plain": [
       "<tf.Tensor 'param_walk_prior_2/logdens/add:0' shape=() dtype=float64>"
      ]
     },
     "execution_count": 10,
     "metadata": {},
     "output_type": "execute_result"
    }
   ],
   "source": [
    "prior"
   ]
  },
  {
   "cell_type": "code",
   "execution_count": 11,
   "metadata": {},
   "outputs": [],
   "source": [
    "def create_loglik2():\n",
    "    obs_d = Normal(dim=None, sigma=1., mu=0)\n",
    "    out = tf.reshape(outputs, [n, dim[0], dim[1]])\n",
    "    \n",
    "    def step1(current):\n",
    "        X = current[0][np.newaxis]\n",
    "        param = current[1]\n",
    "        d = param[:,:dim[-1]-1]\n",
    "        X = tf.matmul(X, d)[0] + param[:,-1]\n",
    "        return X\n",
    "    \n",
    "    ar = tf.map_fn(step1, (xs[0][:-1], out[:-1]), dtype=tf.float64)\n",
    "    return obs_d.logdens(ar - xs[0][1:])"
   ]
  },
  {
   "cell_type": "code",
   "execution_count": 12,
   "metadata": {},
   "outputs": [],
   "source": [
    "logl = create_loglik2()"
   ]
  },
  {
   "cell_type": "code",
   "execution_count": 13,
   "metadata": {},
   "outputs": [],
   "source": [
    "ent = out_flow.logdens"
   ]
  },
  {
   "cell_type": "code",
   "execution_count": 14,
   "metadata": {},
   "outputs": [
    {
     "data": {
      "text/plain": [
       "<tf.Tensor 'sub_1:0' shape=() dtype=float64>"
      ]
     },
     "execution_count": 14,
     "metadata": {},
     "output_type": "execute_result"
    }
   ],
   "source": [
    "ent"
   ]
  },
  {
   "cell_type": "code",
   "execution_count": 15,
   "metadata": {},
   "outputs": [],
   "source": [
    "df = dim[0]*dim[1]\n",
    "pmat = np.diag([(1/s1**2)]*(dim[0]*dim[1]))/df\n",
    "cov_prior = WishartCholesky(df, pmat, cholesky_input_output_matrices=True)"
   ]
  },
  {
   "cell_type": "code",
   "execution_count": 16,
   "metadata": {},
   "outputs": [],
   "source": [
    "loss = -logl - prior + ent - cov_prior.log_prob(PWalk.fsigma) + ldiag.logdens #+ lowerd.logdens\n",
    "loss /= n*dim[0]*dim[1]"
   ]
  },
  {
   "cell_type": "code",
   "execution_count": 17,
   "metadata": {},
   "outputs": [
    {
     "data": {
      "text/plain": [
       "<tf.Tensor 'loss:0' shape=() dtype=string>"
      ]
     },
     "execution_count": 17,
     "metadata": {},
     "output_type": "execute_result"
    }
   ],
   "source": [
    "tf.summary.scalar('loss', loss)"
   ]
  },
  {
   "cell_type": "code",
   "execution_count": 18,
   "metadata": {},
   "outputs": [],
   "source": [
    "opt = tf.train.AdamOptimizer(0.0001).minimize(loss)"
   ]
  },
  {
   "cell_type": "code",
   "execution_count": 19,
   "metadata": {},
   "outputs": [],
   "source": [
    "sess = tf.InteractiveSession()"
   ]
  },
  {
   "cell_type": "code",
   "execution_count": 20,
   "metadata": {},
   "outputs": [],
   "source": [
    "tf.global_variables_initializer().run()"
   ]
  },
  {
   "cell_type": "code",
   "execution_count": 21,
   "metadata": {},
   "outputs": [
    {
     "data": {
      "text/plain": [
       "(-748.0602190186156, 765.434704416593, -64.25003401298892)"
      ]
     },
     "execution_count": 21,
     "metadata": {},
     "output_type": "execute_result"
    }
   ],
   "source": [
    "prior.eval(), ent.eval(), logl.eval()"
   ]
  },
  {
   "cell_type": "code",
   "execution_count": 22,
   "metadata": {},
   "outputs": [
    {
     "data": {
      "text/plain": [
       "array([7.29189937])"
      ]
     },
     "execution_count": 22,
     "metadata": {},
     "output_type": "execute_result"
    }
   ],
   "source": [
    "loss.eval()"
   ]
  },
  {
   "cell_type": "code",
   "execution_count": 23,
   "metadata": {},
   "outputs": [],
   "source": [
    "np.set_printoptions(precision=4)"
   ]
  },
  {
   "cell_type": "code",
   "execution_count": 24,
   "metadata": {},
   "outputs": [],
   "source": [
    "# PWalk.inverse_sigma.eval()[:3,:3]"
   ]
  },
  {
   "cell_type": "code",
   "execution_count": 25,
   "metadata": {},
   "outputs": [],
   "source": [
    "# all_sum = tf.summary.merge_all()\n",
    "# writer = tf.summary.FileWriter('/tmp/tfdbg')"
   ]
  },
  {
   "cell_type": "code",
   "execution_count": 35,
   "metadata": {
    "scrolled": true
   },
   "outputs": [
    {
     "name": "stdout",
     "output_type": "stream",
     "text": [
      "[5.023]\n",
      "[5.033]\n",
      "[5.0382]\n",
      "[5.0529]\n",
      "[5.0418]\n",
      "[5.0347]\n",
      "[5.0307]\n",
      "[5.0424]\n",
      "[5.0526]\n",
      "[5.0438]\n",
      "[5.0543]\n",
      "[5.0245]\n",
      "[5.0313]\n",
      "[5.0737]\n",
      "[5.0749]\n",
      "[5.0587]\n",
      "[5.0585]\n",
      "[5.0414]\n",
      "[5.0425]\n",
      "[5.0454]\n",
      "[5.0434]\n",
      "[5.0481]\n",
      "[5.05]\n",
      "[5.0516]\n",
      "[5.0235]\n",
      "[5.0403]\n",
      "[5.0401]\n",
      "[5.0375]\n",
      "[5.0452]\n",
      "[5.0421]\n",
      "[5.0563]\n",
      "[5.0233]\n",
      "[5.0601]\n",
      "[5.0479]\n",
      "[5.0726]\n",
      "[5.0298]\n",
      "[5.0441]\n",
      "[5.058]\n",
      "[5.0641]\n",
      "[5.0277]\n",
      "[5.0487]\n",
      "[5.0368]\n",
      "[5.0409]\n",
      "[5.0278]\n",
      "[5.0643]\n",
      "[5.0482]\n",
      "[5.048]\n",
      "[5.0533]\n",
      "[5.0898]\n",
      "[5.071]\n",
      "[5.0373]\n",
      "[5.0589]\n",
      "[5.0551]\n",
      "[5.074]\n",
      "[5.0336]\n",
      "[5.0471]\n",
      "[5.0471]\n",
      "[5.0615]\n",
      "[5.0549]\n",
      "[5.0309]\n",
      "[5.0327]\n",
      "[5.0357]\n",
      "[5.0247]\n",
      "[5.0486]\n",
      "[5.0376]\n",
      "[5.0387]\n",
      "[5.0166]\n",
      "[5.0252]\n",
      "[5.0425]\n",
      "[5.0562]\n",
      "[5.0426]\n",
      "[5.0549]\n",
      "[5.0427]\n",
      "[5.0557]\n",
      "[5.0552]\n",
      "[5.0613]\n",
      "[5.0509]\n",
      "[5.0365]\n",
      "[5.0375]\n",
      "[5.0492]\n",
      "[5.052]\n",
      "[5.0573]\n",
      "[5.0284]\n",
      "[5.0409]\n",
      "[5.0379]\n",
      "[5.1184]\n",
      "[5.0325]\n",
      "[5.0563]\n",
      "[5.0442]\n",
      "[5.0442]\n",
      "[5.072]\n",
      "[5.0434]\n",
      "[5.0318]\n",
      "[5.0379]\n",
      "[5.05]\n",
      "[5.0764]\n",
      "[5.0618]\n",
      "[5.0455]\n",
      "[5.0585]\n",
      "[5.0659]\n",
      "[5.0502]\n",
      "[5.0704]\n",
      "[5.0786]\n",
      "[5.0504]\n",
      "[5.021]\n",
      "[5.0368]\n",
      "[5.0427]\n",
      "[5.0469]\n",
      "[5.038]\n",
      "[5.0267]\n",
      "[5.0129]\n",
      "[5.0533]\n",
      "[5.0479]\n",
      "[5.0374]\n",
      "[5.0466]\n",
      "[5.0612]\n",
      "[5.027]\n",
      "[5.0453]\n",
      "[5.047]\n",
      "[5.0564]\n",
      "[5.0313]\n",
      "[5.0459]\n",
      "[5.0223]\n",
      "[5.0493]\n",
      "[5.0424]\n",
      "[5.0365]\n",
      "[5.0303]\n",
      "[5.0356]\n",
      "[5.0141]\n",
      "[5.0327]\n",
      "[5.0461]\n",
      "[5.0341]\n",
      "[5.0303]\n",
      "[5.0676]\n",
      "[5.0413]\n",
      "[5.0371]\n",
      "[5.0407]\n",
      "[5.0576]\n",
      "[5.0325]\n",
      "[5.0329]\n",
      "[5.0414]\n",
      "[5.0481]\n",
      "[4.9961]\n",
      "[5.0466]\n",
      "[4.9936]\n",
      "[5.0435]\n",
      "[5.0485]\n",
      "[5.0601]\n",
      "[5.0313]\n",
      "[5.0591]\n",
      "[5.0326]\n",
      "[5.0315]\n",
      "[5.0492]\n",
      "[5.0326]\n",
      "[5.0611]\n",
      "[5.0518]\n",
      "[5.0452]\n",
      "[5.0363]\n",
      "[5.0562]\n",
      "[5.0385]\n",
      "[5.0446]\n",
      "[5.0407]\n",
      "[5.0509]\n",
      "[5.0064]\n",
      "[5.0488]\n",
      "[5.0453]\n",
      "[5.0237]\n",
      "[5.0269]\n",
      "[5.0468]\n",
      "[5.0222]\n",
      "[5.0415]\n",
      "[5.0183]\n",
      "[5.042]\n",
      "[5.0507]\n",
      "[5.0286]\n",
      "[5.0543]\n",
      "[5.0574]\n",
      "[5.0388]\n",
      "[5.0412]\n",
      "[5.033]\n",
      "[5.051]\n",
      "[5.0531]\n",
      "[5.0381]\n",
      "[5.0504]\n",
      "[5.0376]\n",
      "[5.0557]\n",
      "[5.0213]\n",
      "[5.0637]\n",
      "[5.0428]\n",
      "[5.0323]\n",
      "[5.0559]\n",
      "[5.0424]\n",
      "[5.0573]\n",
      "[5.0498]\n",
      "[5.0511]\n",
      "[5.0537]\n",
      "[5.0401]\n",
      "[5.0599]\n",
      "[5.0425]\n",
      "[5.0462]\n",
      "[5.0693]\n",
      "[5.0353]\n",
      "[5.0237]\n",
      "[5.0268]\n",
      "[5.0521]\n",
      "[5.058]\n",
      "[5.0319]\n",
      "[4.9862]\n",
      "[5.0119]\n",
      "[5.036]\n",
      "[5.0348]\n",
      "[5.0464]\n",
      "[5.0364]\n",
      "[5.0417]\n",
      "[5.054]\n",
      "[5.0051]\n",
      "[5.009]\n",
      "[5.0268]\n",
      "[5.0402]\n",
      "[5.0326]\n",
      "[5.0825]\n",
      "[5.0577]\n",
      "[5.0264]\n",
      "[5.0279]\n",
      "[5.0465]\n",
      "[5.0424]\n",
      "[5.0533]\n",
      "[5.0373]\n",
      "[5.0459]\n",
      "[5.0335]\n",
      "[5.0439]\n",
      "[5.028]\n",
      "[5.0331]\n",
      "[5.0693]\n",
      "[5.0481]\n",
      "[5.0483]\n",
      "[5.0702]\n",
      "[5.03]\n",
      "[5.0362]\n",
      "[5.0177]\n",
      "[5.0418]\n",
      "[5.0265]\n",
      "[5.0397]\n",
      "[5.0578]\n",
      "[5.0283]\n",
      "[5.0344]\n",
      "[5.0532]\n",
      "[5.0287]\n",
      "[5.0441]\n",
      "[5.0623]\n",
      "[5.053]\n",
      "[5.0195]\n",
      "[5.0345]\n",
      "[5.0402]\n",
      "[5.0261]\n",
      "[5.0416]\n",
      "[5.033]\n",
      "[5.0043]\n",
      "[5.0561]\n",
      "[5.0432]\n",
      "[5.0379]\n",
      "[5.0459]\n",
      "[5.0411]\n",
      "[5.0522]\n",
      "[5.0417]\n",
      "[5.0254]\n",
      "[5.0391]\n",
      "[5.0442]\n",
      "[5.0624]\n",
      "[5.0473]\n",
      "[5.043]\n",
      "[5.0606]\n",
      "[5.0288]\n",
      "[5.0281]\n",
      "[5.0461]\n",
      "[5.0523]\n",
      "[5.0387]\n",
      "[5.0716]\n",
      "[5.0463]\n",
      "[5.0335]\n",
      "[5.0617]\n",
      "[5.0435]\n",
      "[5.06]\n",
      "[5.0289]\n",
      "[5.0361]\n",
      "[5.0651]\n",
      "[5.0562]\n",
      "[5.0295]\n",
      "[5.0218]\n",
      "[5.048]\n",
      "[5.041]\n",
      "[5.042]\n",
      "[5.0253]\n",
      "[5.0475]\n",
      "[5.0526]\n",
      "[5.0311]\n",
      "[5.0422]\n",
      "[5.0273]\n",
      "[5.0687]\n",
      "[5.0573]\n",
      "[5.0347]\n",
      "[5.0559]\n",
      "[5.0401]\n",
      "[5.0125]\n",
      "[5.0542]\n",
      "[5.0303]\n",
      "[5.0094]\n",
      "[5.0435]\n",
      "[5.0362]\n",
      "[5.046]\n",
      "[5.0607]\n",
      "[5.0503]\n",
      "[5.0282]\n",
      "[5.0345]\n",
      "[5.0235]\n",
      "[5.033]\n",
      "[5.0235]\n",
      "[5.0266]\n",
      "[5.0395]\n",
      "[5.0321]\n",
      "[5.0627]\n",
      "[5.0288]\n",
      "[5.0342]\n",
      "[5.0512]\n",
      "[5.0573]\n",
      "[5.0088]\n",
      "[5.0479]\n",
      "[5.0527]\n",
      "[5.0343]\n",
      "[5.0442]\n",
      "[5.0444]\n",
      "[5.0593]\n",
      "[5.013]\n",
      "[5.0461]\n",
      "[5.0442]\n",
      "[5.0747]\n",
      "[5.0561]\n",
      "[5.0326]\n",
      "[5.0319]\n",
      "[5.0424]\n",
      "[5.0404]\n",
      "[5.0415]\n",
      "[5.0545]\n",
      "[5.0259]\n",
      "[5.039]\n",
      "[5.0157]\n",
      "[5.0507]\n",
      "[5.0487]\n",
      "[5.0357]\n",
      "[5.0483]\n",
      "[5.0396]\n",
      "[5.0098]\n",
      "[5.0566]\n",
      "[5.0148]\n",
      "[5.0323]\n",
      "[5.0521]\n",
      "[5.0483]\n",
      "[5.0305]\n",
      "[5.0295]\n",
      "[5.0466]\n",
      "[5.0386]\n",
      "[5.055]\n",
      "[5.063]\n",
      "[5.0313]\n",
      "[5.0274]\n",
      "[5.0519]\n",
      "[5.0385]\n",
      "[5.0179]\n",
      "[5.05]\n",
      "[5.0315]\n",
      "[5.0697]\n",
      "[5.0634]\n",
      "[5.0365]\n",
      "[5.0311]\n",
      "[5.041]\n",
      "[5.0468]\n",
      "[5.0384]\n",
      "[5.0583]\n",
      "[5.0459]\n",
      "[5.0405]\n",
      "[5.0526]\n",
      "[5.0564]\n",
      "[5.0549]\n",
      "[5.0231]\n",
      "[5.0373]\n",
      "[5.0332]\n",
      "[5.034]\n",
      "[5.0337]\n",
      "[5.0672]\n",
      "[5.0227]\n",
      "[5.0191]\n",
      "[5.0527]\n",
      "[5.0395]\n",
      "[5.0368]\n",
      "[5.0321]\n",
      "[5.0499]\n",
      "[5.0313]\n",
      "[5.0418]\n",
      "[5.0589]\n",
      "[5.0367]\n",
      "[5.0631]\n",
      "[5.033]\n",
      "[5.0069]\n",
      "[5.0509]\n",
      "[5.0327]\n",
      "[5.0402]\n",
      "[5.0467]\n",
      "[5.0595]\n",
      "[5.0506]\n",
      "[5.0469]\n",
      "[5.0441]\n",
      "[5.0151]\n",
      "[5.0514]\n",
      "[5.0363]\n",
      "[5.0526]\n",
      "[5.0183]\n",
      "[5.0483]\n",
      "[5.0279]\n",
      "[5.0589]\n",
      "[5.0396]\n",
      "[5.0338]\n",
      "[5.0565]\n",
      "[5.023]\n",
      "[5.0417]\n",
      "[5.05]\n",
      "[5.0207]\n",
      "[5.0384]\n",
      "[5.0163]\n",
      "[5.0579]\n",
      "[5.0274]\n",
      "[5.0309]\n",
      "[5.0244]\n",
      "[5.0558]\n",
      "[5.0356]\n",
      "[5.0359]\n",
      "[5.0268]\n",
      "[5.051]\n",
      "[5.0314]\n",
      "[5.0211]\n",
      "[5.0481]\n",
      "[5.0443]\n",
      "[5.0215]\n",
      "[5.0564]\n",
      "[5.0545]\n",
      "[5.0269]\n",
      "[5.0639]\n",
      "[5.0141]\n",
      "[5.0341]\n",
      "[5.0371]\n",
      "[5.0463]\n",
      "[5.0322]\n",
      "[5.0398]\n",
      "[5.0537]\n",
      "[5.0336]\n",
      "[5.0508]\n",
      "[5.0387]\n",
      "[5.0632]\n",
      "[5.042]\n",
      "[5.046]\n",
      "[5.0319]\n",
      "[5.0417]\n",
      "[5.0271]\n",
      "[5.0417]\n",
      "[5.0218]\n",
      "[4.9999]\n",
      "[5.0354]\n",
      "[5.0326]\n",
      "[5.0352]\n",
      "[5.0353]\n",
      "[5.0553]\n",
      "[5.0308]\n",
      "[5.0322]\n",
      "[5.028]\n",
      "[5.0618]\n",
      "[5.0436]\n",
      "[5.0618]\n",
      "[5.0365]\n",
      "[5.0271]\n",
      "[5.0379]\n",
      "[5.0452]\n",
      "[5.0502]\n",
      "[5.0337]\n",
      "[5.0091]\n",
      "[5.0515]\n",
      "[5.0572]\n",
      "[5.0433]\n",
      "[5.0398]\n",
      "[5.0245]\n",
      "[5.0313]\n",
      "[5.0376]\n",
      "[5.0564]\n",
      "[5.0535]\n",
      "[5.0328]\n",
      "[5.0378]\n",
      "[5.0278]\n",
      "[5.0359]\n",
      "[5.0204]\n",
      "[5.0262]\n",
      "[5.0381]\n",
      "[5.019]\n",
      "[5.0571]\n",
      "[5.0601]\n",
      "[5.0259]\n",
      "[5.0297]\n",
      "[5.0488]\n",
      "[5.0097]\n",
      "[5.022]\n",
      "[5.0466]\n",
      "[5.0372]\n",
      "[5.0576]\n",
      "[5.048]\n",
      "[5.0588]\n",
      "[5.0311]\n",
      "[5.0418]\n",
      "[5.02]\n",
      "[5.0458]\n",
      "[5.0194]\n",
      "[5.0425]\n",
      "[5.059]\n",
      "[5.0228]\n",
      "[5.0445]\n",
      "[5.0604]\n",
      "[5.013]\n",
      "[5.0626]\n",
      "[5.0465]\n",
      "[5.0069]\n",
      "[5.0508]\n",
      "[5.0133]\n",
      "[5.0245]\n",
      "[5.05]\n",
      "[5.0416]\n",
      "[5.0201]\n",
      "[5.0145]\n",
      "[5.0573]\n",
      "[5.0424]\n",
      "[5.0478]\n",
      "[5.0928]\n",
      "[5.0329]\n",
      "[5.0426]\n",
      "[5.0433]\n",
      "[5.0472]\n",
      "[5.0409]\n",
      "[5.0791]\n",
      "[5.0101]\n",
      "[5.0315]\n",
      "[5.0658]\n",
      "[5.0735]\n",
      "[5.047]\n",
      "[5.0528]\n",
      "[5.037]\n",
      "[5.0262]\n",
      "[5.0323]\n",
      "[5.0845]\n",
      "[5.0372]\n",
      "[5.0378]\n",
      "[5.0466]\n",
      "[5.0375]\n",
      "[5.0481]\n",
      "[5.0218]\n",
      "[5.024]\n",
      "[5.0339]\n",
      "[5.0326]\n",
      "[5.0521]\n",
      "[5.0427]\n",
      "[5.0536]\n",
      "[5.0421]\n",
      "[5.035]\n",
      "[5.0374]\n",
      "[5.0625]\n",
      "[5.042]\n",
      "[5.0342]\n",
      "[5.035]\n",
      "[5.0366]\n",
      "[5.0583]\n",
      "[5.0304]\n",
      "[5.0698]\n",
      "[5.0459]\n",
      "[5.0503]\n",
      "[5.0755]\n",
      "[5.0512]\n",
      "[5.0226]\n",
      "[5.0415]\n",
      "[5.03]\n",
      "[5.0467]\n",
      "[5.0721]\n",
      "[5.06]\n",
      "[5.0405]\n",
      "[5.0339]\n",
      "[5.0251]\n",
      "[5.0219]\n",
      "[5.0522]\n",
      "[5.0448]\n",
      "[5.03]\n",
      "[5.0303]\n",
      "[5.032]\n",
      "[5.0397]\n",
      "[5.05]\n",
      "[5.0328]\n",
      "[5.0267]\n",
      "[5.0342]\n",
      "[5.0242]\n",
      "[5.035]\n",
      "[5.0126]\n",
      "[5.0176]\n",
      "[5.0675]\n",
      "[5.016]\n",
      "[5.0301]\n",
      "[5.0383]\n",
      "[5.043]\n",
      "[5.0315]\n",
      "[5.0228]\n",
      "[5.0271]\n",
      "[5.038]\n",
      "[5.0283]\n",
      "[5.0456]\n",
      "[5.0392]\n",
      "[5.03]\n",
      "[5.0143]\n",
      "[5.0645]\n",
      "[5.0419]\n",
      "[5.0264]\n",
      "[5.0157]\n",
      "[5.0445]\n",
      "[5.0479]\n",
      "[5.0663]\n",
      "[4.9859]\n",
      "[5.0512]\n",
      "[5.0485]\n",
      "[5.0406]\n",
      "[5.0424]\n",
      "[5.0383]\n",
      "[5.0241]\n",
      "[5.0221]\n",
      "[5.0447]\n",
      "[5.0137]\n",
      "[5.0504]\n",
      "[5.0577]\n",
      "[5.0198]\n",
      "[5.0206]\n",
      "[5.0326]\n",
      "[5.0322]\n",
      "[5.0439]\n",
      "[5.0069]\n",
      "[5.0316]\n",
      "[5.0321]\n",
      "[5.0252]\n",
      "[5.0438]\n",
      "[5.0242]\n",
      "[5.048]\n",
      "[5.0471]\n",
      "[5.0337]\n",
      "[5.05]\n",
      "[5.023]\n",
      "[5.0392]\n",
      "[5.037]\n",
      "[5.0575]\n",
      "[5.0421]\n",
      "[5.0338]\n",
      "[5.0561]\n",
      "[5.035]\n",
      "[5.0205]\n",
      "[5.0618]\n",
      "[5.0273]\n",
      "[5.0206]\n",
      "[5.0303]\n",
      "[5.0085]\n",
      "[5.0349]\n",
      "[5.0469]\n",
      "[5.0345]\n",
      "[5.0155]\n",
      "[5.0175]\n",
      "[5.0479]\n",
      "[5.0276]\n",
      "[5.0364]\n",
      "[5.0945]\n",
      "[5.0641]\n",
      "[5.0841]\n",
      "[5.0518]\n",
      "[5.0591]\n",
      "[5.0235]\n",
      "[5.0592]\n",
      "[5.0293]\n",
      "[5.0512]\n",
      "[5.015]\n",
      "[5.0227]\n",
      "[5.0632]\n",
      "[5.0691]\n",
      "[5.0301]\n",
      "[5.0618]\n",
      "[5.0302]\n",
      "[5.043]\n",
      "[5.0449]\n",
      "[5.0503]\n",
      "[5.0121]\n",
      "[5.04]\n",
      "[5.0406]\n",
      "[5.0291]\n",
      "[5.0558]\n",
      "[5.0648]\n",
      "[5.0428]\n",
      "[5.0474]\n",
      "[5.0464]\n",
      "[5.0141]\n",
      "[5.0643]\n",
      "[5.0625]\n",
      "[5.0388]\n",
      "[5.0161]\n",
      "[5.058]\n",
      "[5.0527]\n",
      "[5.0462]\n",
      "[5.0478]\n",
      "[5.067]\n",
      "[5.0349]\n",
      "[5.0435]\n",
      "[5.0231]\n",
      "[5.0011]\n",
      "[5.0404]\n",
      "[5.0299]\n",
      "[5.044]\n",
      "[5.0222]\n",
      "[5.0448]\n",
      "[5.025]\n",
      "[5.0272]\n",
      "[5.0401]\n",
      "[5.0732]\n",
      "[5.0811]\n",
      "[5.0508]\n",
      "[5.0576]\n",
      "[5.015]\n",
      "[5.0184]\n",
      "[5.0566]\n",
      "[5.0486]\n",
      "[5.0569]\n",
      "[5.0588]\n",
      "[5.0383]\n",
      "[5.0141]\n",
      "[5.0547]\n",
      "[5.0251]\n",
      "[5.0449]\n",
      "[5.0635]\n",
      "[5.0609]\n",
      "[5.0454]\n",
      "[5.0527]\n",
      "[5.0296]\n",
      "[5.0433]\n",
      "[5.0422]\n",
      "[5.0286]\n",
      "[5.048]\n",
      "[5.0574]\n",
      "[5.0491]\n",
      "[5.0141]\n",
      "[5.0113]\n",
      "[5.047]\n",
      "[5.0472]\n",
      "[5.0257]\n",
      "[5.0295]\n",
      "[5.0398]\n",
      "[5.0127]\n",
      "[5.0415]\n",
      "[5.0323]\n",
      "[5.0343]\n",
      "[5.0322]\n",
      "[5.0165]\n",
      "[5.0171]\n",
      "[5.0485]\n",
      "[5.0475]\n",
      "[5.0344]\n",
      "[5.0273]\n",
      "[5.0041]\n",
      "[5.0324]\n",
      "[5.0115]\n",
      "[5.0226]\n",
      "[5.0316]\n",
      "[5.0728]\n",
      "[5.03]\n",
      "[5.0187]\n",
      "[5.051]\n",
      "[5.0082]\n",
      "[5.0251]\n",
      "[5.0453]\n",
      "[5.0421]\n",
      "[5.029]\n",
      "[5.0216]\n",
      "[5.0282]\n",
      "[5.0356]\n",
      "[5.0468]\n",
      "[5.0388]\n",
      "[5.0231]\n",
      "[5.0404]\n",
      "[5.0214]\n",
      "[5.0633]\n",
      "[5.0448]\n",
      "[5.0449]\n",
      "[5.0362]\n",
      "[5.0261]\n",
      "[5.0288]\n",
      "[5.0286]\n",
      "[5.0719]\n",
      "[5.0429]\n",
      "[5.0182]\n",
      "[5.0471]\n",
      "[5.0347]\n",
      "[5.0331]\n",
      "[5.0137]\n",
      "[5.0371]\n",
      "[5.0354]\n",
      "[5.0449]\n",
      "[5.0517]\n",
      "[5.0542]\n",
      "[5.0688]\n",
      "[5.0332]\n",
      "[5.0367]\n",
      "[5.0447]\n",
      "[5.044]\n",
      "[5.0241]\n",
      "[5.0358]\n",
      "[5.0349]\n",
      "[5.0282]\n",
      "[5.0383]\n",
      "[5.0429]\n",
      "[5.0384]\n",
      "[5.0717]\n",
      "[5.0348]\n",
      "[5.0219]\n",
      "[5.0332]\n",
      "[5.0259]\n",
      "[5.0414]\n",
      "[5.034]\n",
      "[5.0289]\n",
      "[5.0403]\n",
      "[5.0618]\n",
      "[5.0315]\n",
      "[5.0108]\n",
      "[5.0378]\n",
      "[5.0253]\n",
      "[5.0445]\n",
      "[5.0669]\n",
      "[5.0286]\n",
      "[5.0516]\n",
      "[5.0403]\n",
      "[5.0447]\n",
      "[5.0277]\n",
      "[5.0401]\n",
      "[5.0438]\n",
      "[5.0279]\n",
      "[5.034]\n",
      "[5.043]\n",
      "[5.0407]\n",
      "[5.0488]\n",
      "[5.0317]\n",
      "[5.0631]\n",
      "[5.043]\n",
      "[5.0315]\n",
      "[5.0695]\n",
      "[5.0341]\n",
      "[5.0192]\n",
      "[5.015]\n",
      "[5.0303]\n",
      "[5.0357]\n",
      "[5.0298]\n",
      "[5.0377]\n",
      "[5.0143]\n",
      "[5.0384]\n",
      "[5.0082]\n",
      "[5.0322]\n",
      "[5.0245]\n",
      "[5.0313]\n",
      "[5.0433]\n",
      "[5.0505]\n",
      "[5.0166]\n",
      "[5.041]\n",
      "[5.0138]\n",
      "[5.0409]\n",
      "[5.0134]\n",
      "[5.0246]\n",
      "[5.0565]\n",
      "[5.041]\n",
      "[5.0341]\n",
      "[5.0482]\n",
      "[5.0359]\n",
      "[5.0463]\n",
      "[5.0516]\n",
      "[5.0467]\n",
      "[5.0641]\n",
      "[5.0545]\n",
      "[5.017]\n",
      "[5.0401]\n",
      "[5.031]\n",
      "[5.0172]\n",
      "[5.0397]\n",
      "[5.012]\n",
      "[5.0243]\n",
      "[5.0411]\n",
      "[5.0296]\n",
      "[5.0494]\n",
      "[5.039]\n",
      "[5.0437]\n",
      "[5.0627]\n",
      "[5.0148]\n",
      "[5.0454]\n",
      "[5.0212]\n",
      "[5.0162]\n",
      "[5.0538]\n",
      "[5.038]\n",
      "[5.0641]\n",
      "[5.0158]\n",
      "[5.0413]\n",
      "[5.046]\n",
      "[5.0116]\n",
      "[5.0575]\n",
      "[5.0247]\n",
      "[5.0179]\n",
      "[5.043]\n",
      "[5.0327]\n",
      "[5.0374]\n",
      "[5.0349]\n",
      "[5.0384]\n",
      "[5.0287]\n",
      "[5.0297]\n",
      "[5.0357]\n",
      "[5.0083]\n",
      "[5.0671]\n",
      "[5.0591]\n",
      "[5.0267]\n"
     ]
    },
    {
     "name": "stdout",
     "output_type": "stream",
     "text": [
      "[5.0334]\n",
      "[5.0331]\n",
      "[5.0308]\n",
      "[5.0309]\n",
      "[5.0287]\n",
      "[5.0465]\n",
      "[5.0718]\n",
      "[5.0528]\n",
      "[5.0609]\n",
      "[5.0615]\n",
      "[5.0539]\n",
      "[5.0501]\n",
      "[5.0488]\n",
      "[5.0551]\n",
      "[5.0324]\n",
      "[4.9964]\n",
      "[5.0282]\n",
      "[5.032]\n",
      "[5.064]\n",
      "[5.0305]\n",
      "[5.0206]\n",
      "[5.0285]\n",
      "[5.0408]\n",
      "[5.0338]\n",
      "[5.0459]\n",
      "[5.0259]\n",
      "[5.0209]\n",
      "[5.0793]\n",
      "[5.0383]\n",
      "[5.0366]\n",
      "[5.0059]\n",
      "[5.0038]\n",
      "[5.0315]\n",
      "[5.0452]\n",
      "[5.0339]\n",
      "[5.0346]\n",
      "[5.0396]\n",
      "[5.0516]\n",
      "[5.0642]\n",
      "[5.022]\n",
      "[5.0404]\n",
      "[5.0457]\n",
      "[5.0575]\n",
      "CPU times: user 3h 32min 1s, sys: 52min 1s, total: 4h 24min 3s\n",
      "Wall time: 59min 35s\n"
     ]
    }
   ],
   "source": [
    "%%time\n",
    "for epoch in range(1000):\n",
    "    for _ in range(1000):\n",
    "        l, _ = sess.run([loss,opt], {phase:True})\n",
    "    print(l)\n",
    "#     print(PWalk.inverse_sigma.eval()[:3,:3])\n",
    "#     print('\\n')\n",
    "#     writer.add_summary(all_sum.eval())"
   ]
  },
  {
   "cell_type": "code",
   "execution_count": 27,
   "metadata": {},
   "outputs": [],
   "source": [
    "# saver = tf.train.Saver()"
   ]
  },
  {
   "cell_type": "code",
   "execution_count": 27,
   "metadata": {},
   "outputs": [
    {
     "name": "stdout",
     "output_type": "stream",
     "text": [
      "INFO:tensorflow:Restoring parameters from /home/nikita/tmp/rdata4\n"
     ]
    }
   ],
   "source": [
    "saver = tf.train.Saver()\n",
    "saver.restore(sess,'/home/nikita/tmp/rdata4')"
   ]
  },
  {
   "cell_type": "code",
   "execution_count": 36,
   "metadata": {},
   "outputs": [],
   "source": [
    "ss = []\n",
    "for _ in range(3000):\n",
    "    a = np.linalg.inv(PWalk.inverse_sigma.eval())\n",
    "    ss.append(np.sqrt(np.diag(a)))\n",
    "ss = np.array(ss)"
   ]
  },
  {
   "cell_type": "code",
   "execution_count": 37,
   "metadata": {},
   "outputs": [
    {
     "data": {
      "text/plain": [
       "(array([0.0202, 0.0203, 0.0201, 0.0195, 0.0213, 0.0208, 0.0211, 0.0194,\n",
       "        0.0098, 0.0088, 0.0126, 0.0196]),\n",
       " array([0.0033, 0.0034, 0.0032, 0.0031, 0.0035, 0.0033, 0.0035, 0.0032,\n",
       "        0.0016, 0.0015, 0.0021, 0.0032]))"
      ]
     },
     "execution_count": 37,
     "metadata": {},
     "output_type": "execute_result"
    }
   ],
   "source": [
    "np.mean(ss, axis=0), np.std(ss, axis=0)"
   ]
  },
  {
   "cell_type": "code",
   "execution_count": 38,
   "metadata": {
    "scrolled": true
   },
   "outputs": [
    {
     "data": {
      "image/png": "[encoded data removed]",
      "text/plain": [
       "<matplotlib.figure.Figure at 0x7f2a605a46d8>"
      ]
     },
     "metadata": {},
     "output_type": "display_data"
    }
   ],
   "source": [
    "sns.kdeplot(ss[:,1], ss[:,0])\n",
    "plt.show()"
   ]
  },
  {
   "cell_type": "code",
   "execution_count": 31,
   "metadata": {},
   "outputs": [],
   "source": [
    "out = tf.reshape(outputs, [n, dim[0], dim[1]])"
   ]
  },
  {
   "cell_type": "code",
   "execution_count": 39,
   "metadata": {},
   "outputs": [],
   "source": [
    "samples = []\n",
    "for _ in range(3000):\n",
    "    s = out.eval()\n",
    "    samples.append(s)\n",
    "samples = np.array(samples)"
   ]
  },
  {
   "cell_type": "code",
   "execution_count": 33,
   "metadata": {
    "scrolled": true
   },
   "outputs": [
    {
     "data": {
      "text/plain": [
       "(3000, 20, 3, 4)"
      ]
     },
     "execution_count": 33,
     "metadata": {},
     "output_type": "execute_result"
    }
   ],
   "source": [
    "samples.shape"
   ]
  },
  {
   "cell_type": "code",
   "execution_count": 34,
   "metadata": {},
   "outputs": [
    {
     "data": {
      "image/png": "[encoded data removed]",
      "text/plain": [
       "<matplotlib.figure.Figure at 0x7f2a606cbb38>"
      ]
     },
     "metadata": {},
     "output_type": "display_data"
    }
   ],
   "source": [
    "sns.kdeplot(samples[:,-1,2,0], samples[:,-1,0,3])\n",
    "plt.show()"
   ]
  },
  {
   "cell_type": "code",
   "execution_count": 49,
   "metadata": {},
   "outputs": [],
   "source": [
    "t = 10\n",
    "# params[t]"
   ]
  },
  {
   "cell_type": "code",
   "execution_count": 50,
   "metadata": {},
   "outputs": [
    {
     "data": {
      "text/plain": [
       "array([[-0.3147, -0.0204, -0.1545, -1.189 ],\n",
       "       [ 0.0792,  0.2065,  0.6135,  0.4217],\n",
       "       [ 0.3012, -0.0562,  0.8219,  1.0688]])"
      ]
     },
     "execution_count": 50,
     "metadata": {},
     "output_type": "execute_result"
    }
   ],
   "source": [
    "np.mean(samples[:,t], axis=0)"
   ]
  },
  {
   "cell_type": "code",
   "execution_count": 58,
   "metadata": {},
   "outputs": [
    {
     "data": {
      "text/plain": [
       "array([[0.354 , 0.3569, 0.3657, 0.8392],\n",
       "       [0.2299, 0.2264, 0.2241, 0.8236],\n",
       "       [0.1368, 0.1353, 0.1425, 0.8592]])"
      ]
     },
     "execution_count": 58,
     "metadata": {},
     "output_type": "execute_result"
    }
   ],
   "source": [
    "np.std(samples[:,t], axis=0)"
   ]
  },
  {
   "cell_type": "code",
   "execution_count": 163,
   "metadata": {},
   "outputs": [
    {
     "data": {
      "text/plain": [
       "array([[-0.2617, -0.0514, -0.1421, -1.1013],\n",
       "       [ 0.0716,  0.1932,  0.6169,  0.2148],\n",
       "       [ 0.2826, -0.0293,  0.8549,  0.9093]])"
      ]
     },
     "execution_count": 163,
     "metadata": {},
     "output_type": "execute_result"
    }
   ],
   "source": [
    "np.mean(samples[:,t], axis=0)"
   ]
  },
  {
   "cell_type": "code",
   "execution_count": 164,
   "metadata": {},
   "outputs": [
    {
     "data": {
      "text/plain": [
       "array([[0.1349, 0.0932, 0.1238, 0.3107],\n",
       "       [0.0814, 0.0982, 0.1407, 0.1506],\n",
       "       [0.0623, 0.039 , 0.0645, 0.3178]])"
      ]
     },
     "execution_count": 164,
     "metadata": {},
     "output_type": "execute_result"
    }
   ],
   "source": [
    "np.std(samples[:,t], axis=0)"
   ]
  },
  {
   "cell_type": "code",
   "execution_count": 187,
   "metadata": {},
   "outputs": [],
   "source": []
  },
  {
   "cell_type": "code",
   "execution_count": 278,
   "metadata": {},
   "outputs": [],
   "source": [
    "from sklearn.neighbors.kde import KernelDensity\n",
    "def score(s1, s2):\n",
    "    bw = 0.1\n",
    "    s1 = s1[:,np.newaxis]\n",
    "    s2 = s2[:,np.newaxis]\n",
    "    e1 = KernelDensity(bandwidth=bw).fit(s1)\n",
    "    e2 = KernelDensity(bandwidth=bw).fit(s2)\n",
    "    \n",
    "    e1e2 = e1.score(s1) - e2.score(s1)\n",
    "    e2e1 = e2.score(s2) - e1.score(s2)\n",
    "    dist = (e1e2/len(s1) + e2e1/len(s2))/2\n",
    "    return dist"
   ]
  },
  {
   "cell_type": "code",
   "execution_count": 271,
   "metadata": {},
   "outputs": [],
   "source": [
    "def get_cdf(ts):\n",
    "    return lambda x: (ts <= x).mean()\n",
    "def score(s1,s2):\n",
    "    c1 = get_cdf(s1)\n",
    "    c2 = get_cdf(s2)\n",
    "\n",
    "    m = 0\n",
    "    for s in np.concatenate([s1, s2]):\n",
    "        r = np.abs(c1(s) - c2(s))\n",
    "        if r > m:\n",
    "            m = r\n",
    "    return m"
   ]
  },
  {
   "cell_type": "code",
   "execution_count": 203,
   "metadata": {},
   "outputs": [
    {
     "data": {
      "text/plain": [
       "0.00014521624382734903"
      ]
     },
     "execution_count": 203,
     "metadata": {},
     "output_type": "execute_result"
    }
   ],
   "source": [
    "score(s1,s2)"
   ]
  },
  {
   "cell_type": "code",
   "execution_count": 279,
   "metadata": {},
   "outputs": [
    {
     "name": "stdout",
     "output_type": "stream",
     "text": [
      "0\n",
      "1\n",
      "2\n",
      "3\n",
      "4\n",
      "6\n",
      "7\n",
      "8\n",
      "9\n",
      "10\n",
      "11\n",
      "12\n",
      "13\n",
      "14\n",
      "15\n",
      "16\n",
      "17\n",
      "18\n"
     ]
    }
   ],
   "source": [
    "dists = []\n",
    "for t1 in range(samples.shape[1] - 1):\n",
    "    np.random.seed(1234)\n",
    "    print(t1)\n",
    "    t2 = t1 + 1\n",
    "    s1 = samples[:,t1,0,0]\n",
    "    s2 = samples[:,t2,0,0]\n",
    "    ss = []\n",
    "    for _ in range(10):\n",
    "        s1_ = np.random.choice(s1, size=8000)\n",
    "        s2_ = np.random.choice(s2, size=8000)\n",
    "        m = score(s1_,s2_)\n",
    "        ss.append(m)\n",
    "    dists.append(ss)\n",
    "dists = np.array(dists).T"
   ]
  },
  {
   "cell_type": "markdown",
   "metadata": {},
   "source": [
    "## KDE + KL"
   ]
  },
  {
   "cell_type": "code",
   "execution_count": 270,
   "metadata": {},
   "outputs": [
    {
     "name": "stderr",
     "output_type": "stream",
     "text": [
      "/home/nikita/.virtualenvs/py3.6/lib/python3.6/site-packages/seaborn/timeseries.py:183: UserWarning: The tsplot function is deprecated and will be removed or replaced (in a substantially altered version) in a future release.\n",
      "  warnings.warn(msg, UserWarning)\n"
     ]
    },
    {
     "data": {
      "image/png": "[encoded data removed]",
      "text/plain": [
       "<matplotlib.figure.Figure at 0x7f08680eff60>"
      ]
     },
     "metadata": {},
     "output_type": "display_data"
    }
   ],
   "source": [
    "sns.tsplot(dists, ci=[50, 95])\n",
    "plt.show()"
   ]
  },
  {
   "cell_type": "code",
   "execution_count": 280,
   "metadata": {},
   "outputs": [
    {
     "name": "stderr",
     "output_type": "stream",
     "text": [
      "/home/nikita/.virtualenvs/py3.6/lib/python3.6/site-packages/seaborn/timeseries.py:183: UserWarning: The tsplot function is deprecated and will be removed or replaced (in a substantially altered version) in a future release.\n",
      "  warnings.warn(msg, UserWarning)\n"
     ]
    },
    {
     "data": {
      "image/png": "[encoded data removed]",
      "text/plain": [
       "<matplotlib.figure.Figure at 0x7f0863c040f0>"
      ]
     },
     "metadata": {},
     "output_type": "display_data"
    }
   ],
   "source": [
    "sns.tsplot(dists, ci=[50, 95])\n",
    "plt.show()"
   ]
  },
  {
   "cell_type": "markdown",
   "metadata": {},
   "source": [
    "## Kolmogorov-Smirnov"
   ]
  },
  {
   "cell_type": "code",
   "execution_count": 277,
   "metadata": {},
   "outputs": [
    {
     "name": "stderr",
     "output_type": "stream",
     "text": [
      "/home/nikita/.virtualenvs/py3.6/lib/python3.6/site-packages/seaborn/timeseries.py:183: UserWarning: The tsplot function is deprecated and will be removed or replaced (in a substantially altered version) in a future release.\n",
      "  warnings.warn(msg, UserWarning)\n"
     ]
    },
    {
     "data": {
      "image/png": "[encoded data removed]",
      "text/plain": [
       "<matplotlib.figure.Figure at 0x7f0863df7908>"
      ]
     },
     "metadata": {},
     "output_type": "display_data"
    }
   ],
   "source": [
    "sns.tsplot(dists, ci=[50, 95])\n",
    "plt.show()"
   ]
  },
  {
   "cell_type": "code",
   "execution_count": null,
   "metadata": {},
   "outputs": [],
   "source": [
    "tf.pow()"
   ]
  }
 ],
 "metadata": {
  "kernelspec": {
   "display_name": "Python 3.6 (sys p)",
   "language": "python",
   "name": "py3.6"
  },
  "language_info": {
   "codemirror_mode": {
    "name": "ipython",
    "version": 3
   },
   "file_extension": ".py",
   "mimetype": "text/x-python",
   "name": "python",
   "nbconvert_exporter": "python",
   "pygments_lexer": "ipython3",
   "version": "3.6.4"
  }
 },
 "nbformat": 4,
 "nbformat_minor": 2
}
