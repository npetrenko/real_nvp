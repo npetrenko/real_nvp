{
 "cells": [
  {
   "cell_type": "code",
   "execution_count": 1,
   "metadata": {},
   "outputs": [
    {
     "name": "stdout",
     "output_type": "stream",
     "text": [
      "WARNING:tensorflow:From /usr/lib/python3.6/site-packages/tensorflow/contrib/learn/python/learn/datasets/base.py:198: retry (from tensorflow.contrib.learn.python.learn.datasets.base) is deprecated and will be removed in a future version.\n",
      "Instructions for updating:\n",
      "Use the retry module or similar alternatives.\n"
     ]
    }
   ],
   "source": [
    "import tensorflow as tf\n",
    "from flows import NormalRW, DFlow, ResFlow, NVPFlow, phase, Normal, floatX, MVNormal, MVNormalRW, Linear, CFlow, LinearChol\n",
    "import numpy as np\n",
    "import pandas as pd\n",
    "from matplotlib import pyplot as plt\n",
    "import seaborn as sns\n",
    "from tensorflow.contrib.distributions import WishartCholesky\n",
    "\n",
    "np.random.seed(1234)"
   ]
  },
  {
   "cell_type": "code",
   "execution_count": 2,
   "metadata": {},
   "outputs": [],
   "source": [
    "data = pd.read_csv('./data/test_rus_data.csv').values.astype(floatX).T[np.newaxis][:,2:]/100"
   ]
  },
  {
   "cell_type": "code",
   "execution_count": 3,
   "metadata": {},
   "outputs": [
    {
     "name": "stdout",
     "output_type": "stream",
     "text": [
      "[0.21742282 0.16835931 0.01139835]\n"
     ]
    }
   ],
   "source": [
    "stds = (data[0,1:] - data[0,:-1]).std(axis=0)\n",
    "print(stds)\n",
    "data /= stds"
   ]
  },
  {
   "cell_type": "code",
   "execution_count": 4,
   "metadata": {},
   "outputs": [],
   "source": [
    "xs = data"
   ]
  },
  {
   "cell_type": "code",
   "execution_count": null,
   "metadata": {},
   "outputs": [],
   "source": [
    "n = data.shape[1]\n",
    "s1 = 0.01\n",
    "s0 = 2.\n",
    "dim = [3,4]\n",
    "\n",
    "k = dim[0] * dim[1]\n",
    "# with tf.variable_scope('pwalk_inf', reuse=tf.AUTO_REUSE):\n",
    "#     lowerd = DFlow([NVPFlow(dim=k*(k-1)//2 + k, name='lowerd_flow_' + str(i)) for i in range(2)])\n",
    "#     ldiag = DFlow([NVPFlow(dim=k, name='ldiag_flow_' + str(i)) for i in range(4)])\n",
    "# PWalk = MVNormalRW(dim[0]*dim[1], sigma=s1, sigma0=s0, name='param_walk_prior', \n",
    "#                    lowerd=lowerd.output[0], ldiag=ldiag.output[0]+np.log(1/s1))\n",
    "# PWalk = MVNormalRW(dim[0]*dim[1], sigma=s1, sigma0=s0, name='param_walk_prior')\n",
    "PWalk = NormalRW(dim=None, sigma0=s0, sigma=s1)"
   ]
  },
  {
   "cell_type": "code",
   "execution_count": 6,
   "metadata": {},
   "outputs": [],
   "source": [
    "def autoregr_tf(X, param):\n",
    "    d = param[:,:dim[-1]-1]\n",
    "    X = tf.matmul(X, d) + param[:,-1][np.newaxis]\n",
    "    return X"
   ]
  },
  {
   "cell_type": "code",
   "execution_count": 7,
   "metadata": {},
   "outputs": [],
   "source": [
    "init = np.array([[ 0.0309,  0.0638, -0.1418, -0.1054,  0.1332,  0.2403,  0.5305, \n",
    "                  0.2873,  0.1176, -0.0548,  0.9631,  0.0343]])[np.newaxis]\n",
    "out_flow = DFlow([LinearChol(n*dim[0]*dim[1], name='approx')], init_sigma=s1)\n",
    "outputs = tf.reshape(out_flow.output, [n, dim[0]*dim[1]])\n",
    "outputs = tf.cumsum(outputs)[tf.newaxis]\n",
    "outputs += init\n",
    "# out_flow = DFlow([LinearChol(dim[0]*dim[1], name='approx')])\n",
    "# outputs = tf.stack([out_flow.output]*n)"
   ]
  },
  {
   "cell_type": "code",
   "execution_count": 8,
   "metadata": {},
   "outputs": [
    {
     "data": {
      "text/plain": [
       "<tf.Tensor 'add_3:0' shape=(1, 20, 12) dtype=float64>"
      ]
     },
     "execution_count": 8,
     "metadata": {},
     "output_type": "execute_result"
    }
   ],
   "source": [
    "outputs"
   ]
  },
  {
   "cell_type": "code",
   "execution_count": 9,
   "metadata": {},
   "outputs": [],
   "source": [
    "prior = PWalk.logdens(outputs)"
   ]
  },
  {
   "cell_type": "code",
   "execution_count": 10,
   "metadata": {},
   "outputs": [
    {
     "data": {
      "text/plain": [
       "<tf.Tensor 'add_6:0' shape=() dtype=float64>"
      ]
     },
     "execution_count": 10,
     "metadata": {},
     "output_type": "execute_result"
    }
   ],
   "source": [
    "prior"
   ]
  },
  {
   "cell_type": "code",
   "execution_count": 11,
   "metadata": {},
   "outputs": [],
   "source": [
    "def create_loglik2():\n",
    "    obs_d = Normal(dim=None, sigma=1., mu=0)\n",
    "    out = tf.reshape(outputs, [n, dim[0], dim[1]])\n",
    "    \n",
    "    def step1(current):\n",
    "        X = current[0][np.newaxis]\n",
    "        param = current[1]\n",
    "        d = param[:,:dim[-1]-1]\n",
    "        X = tf.matmul(X, d)[0] + param[:,-1]\n",
    "        return X\n",
    "    \n",
    "    ar = tf.map_fn(step1, (xs[0][:-1], out[:-1]), dtype=tf.float64)\n",
    "    return obs_d.logdens(ar - xs[0][1:])"
   ]
  },
  {
   "cell_type": "code",
   "execution_count": 12,
   "metadata": {},
   "outputs": [],
   "source": [
    "logl = create_loglik2()"
   ]
  },
  {
   "cell_type": "code",
   "execution_count": 13,
   "metadata": {},
   "outputs": [],
   "source": [
    "ent = out_flow.logdens"
   ]
  },
  {
   "cell_type": "code",
   "execution_count": 14,
   "metadata": {},
   "outputs": [
    {
     "data": {
      "text/plain": [
       "<tf.Tensor 'sub_1:0' shape=() dtype=float64>"
      ]
     },
     "execution_count": 14,
     "metadata": {},
     "output_type": "execute_result"
    }
   ],
   "source": [
    "ent"
   ]
  },
  {
   "cell_type": "code",
   "execution_count": 15,
   "metadata": {},
   "outputs": [],
   "source": [
    "# df = dim[0]*dim[1]*5\n",
    "# pmat = np.diag([(1/s1**2)]*(dim[0]*dim[1]))/df\n",
    "# cov_prior = WishartCholesky(df, pmat, cholesky_input_output_matrices=True)"
   ]
  },
  {
   "cell_type": "code",
   "execution_count": 16,
   "metadata": {},
   "outputs": [],
   "source": [
    "loss = -logl - prior + ent# - cov_prior.log_prob(PWalk.fsigma) + lowerd.logdens + ldiag.logdens\n",
    "loss /= n*dim[0]*dim[1]"
   ]
  },
  {
   "cell_type": "code",
   "execution_count": 17,
   "metadata": {},
   "outputs": [
    {
     "data": {
      "text/plain": [
       "<tf.Tensor 'loss:0' shape=() dtype=string>"
      ]
     },
     "execution_count": 17,
     "metadata": {},
     "output_type": "execute_result"
    }
   ],
   "source": [
    "tf.summary.scalar('loss', loss)"
   ]
  },
  {
   "cell_type": "code",
   "execution_count": 18,
   "metadata": {},
   "outputs": [],
   "source": [
    "opt = tf.train.AdamOptimizer(0.0003).minimize(loss)"
   ]
  },
  {
   "cell_type": "code",
   "execution_count": 19,
   "metadata": {},
   "outputs": [],
   "source": [
    "sess = tf.InteractiveSession()"
   ]
  },
  {
   "cell_type": "code",
   "execution_count": 20,
   "metadata": {},
   "outputs": [],
   "source": [
    "tf.global_variables_initializer().run()"
   ]
  },
  {
   "cell_type": "code",
   "execution_count": 21,
   "metadata": {},
   "outputs": [
    {
     "data": {
      "text/plain": [
       "(684.6696083301631, 766.3982570984143, -65.67598150086904)"
      ]
     },
     "execution_count": 21,
     "metadata": {},
     "output_type": "execute_result"
    }
   ],
   "source": [
    "prior.eval(), ent.eval(), logl.eval()"
   ]
  },
  {
   "cell_type": "code",
   "execution_count": 22,
   "metadata": {},
   "outputs": [
    {
     "data": {
      "text/plain": [
       "0.71246096210442"
      ]
     },
     "execution_count": 22,
     "metadata": {},
     "output_type": "execute_result"
    }
   ],
   "source": [
    "loss.eval()"
   ]
  },
  {
   "cell_type": "code",
   "execution_count": 23,
   "metadata": {},
   "outputs": [],
   "source": [
    "np.set_printoptions(precision=4)"
   ]
  },
  {
   "cell_type": "code",
   "execution_count": 24,
   "metadata": {},
   "outputs": [],
   "source": [
    "# PWalk.inverse_sigma.eval()[:3,:3]"
   ]
  },
  {
   "cell_type": "code",
   "execution_count": 25,
   "metadata": {},
   "outputs": [],
   "source": [
    "# all_sum = tf.summary.merge_all()\n",
    "# writer = tf.summary.FileWriter('/tmp/tfdbg')"
   ]
  },
  {
   "cell_type": "code",
   "execution_count": 44,
   "metadata": {
    "scrolled": true
   },
   "outputs": [
    {
     "name": "stdout",
     "output_type": "stream",
     "text": [
      "0.3816524172720643\n",
      "0.40430162591627833\n",
      "0.3643666449803149\n",
      "0.3949184750660052\n",
      "0.40071927696859483\n",
      "0.3927689940978103\n",
      "0.37937968739528855\n",
      "0.374644320692821\n",
      "0.40191262167104136\n",
      "0.40976826241772196\n",
      "0.37218006341422744\n",
      "0.4001413375124159\n",
      "0.3797539031130005\n",
      "0.38226830929947414\n",
      "0.379302204409944\n",
      "0.38714494272303124\n",
      "0.38584839896792855\n",
      "0.3812526673715425\n",
      "0.3755779907850221\n",
      "0.39165886365790875\n",
      "0.3916266793717398\n",
      "0.4080043163773344\n",
      "0.39939381879199043\n",
      "0.37459834524073204\n",
      "0.3723104941195961\n",
      "0.38357251694898814\n",
      "0.38593358010035433\n",
      "0.3840736058176892\n",
      "0.3956436655532987\n",
      "0.3812652738013374\n",
      "0.37385890921831383\n",
      "0.3732865903207449\n",
      "0.3961858110960866\n",
      "0.4090480493126535\n",
      "0.3886169304975899\n",
      "0.406981116505942\n",
      "0.3752778497831083\n",
      "0.4000929481811231\n",
      "0.3789452867193063\n",
      "0.39323057527031957\n",
      "0.39615359588600163\n",
      "0.385654605100333\n",
      "0.4065004292107962\n",
      "0.3869258700610781\n",
      "0.39273392626987896\n",
      "0.39899570149484115\n",
      "0.40165069826653194\n",
      "0.4145996266976496\n",
      "0.40007878315983114\n",
      "0.3868109540377508\n",
      "0.41657025058913794\n",
      "0.402202300983033\n",
      "0.40240007469638783\n",
      "0.3887023502355461\n",
      "0.3603026806065827\n",
      "0.40571484927014345\n",
      "0.41054046053083887\n",
      "0.3920015404366855\n",
      "0.38726210804924316\n",
      "0.38433343932759245\n",
      "0.401047191913897\n",
      "0.38069521696544084\n",
      "0.38835087248203926\n",
      "0.3854345660274632\n",
      "0.3938595158414529\n",
      "0.40244451831166544\n",
      "0.3635817214956693\n",
      "0.4035818496301038\n",
      "0.3839537720328551\n",
      "0.38160733731698904\n",
      "0.39454540815328915\n",
      "0.41106693544976214\n",
      "0.39354563464811604\n",
      "0.393945018651641\n",
      "0.3815894902568355\n",
      "0.3782575301576083\n",
      "0.3961575757122721\n",
      "0.37555922855128093\n",
      "0.37790632452605877\n",
      "0.39871086832075187\n",
      "0.4133182581590101\n",
      "0.375617473030493\n",
      "0.3733370863382589\n",
      "0.3879076863973353\n",
      "0.3892795062571229\n",
      "0.38358344363129265\n",
      "0.4070521152316066\n",
      "0.3929217261814955\n",
      "0.38262437281658207\n",
      "0.36225542243517644\n",
      "0.3818491224121601\n",
      "0.41150984416048714\n",
      "0.4087895179258946\n",
      "0.38051215738995126\n",
      "0.3834679307318121\n",
      "0.37568507296152615\n",
      "0.3816831153385242\n",
      "0.3777586277479993\n",
      "0.38622402680005524\n",
      "0.39405842886937376\n",
      "0.3754997477519135\n",
      "0.39228163654591647\n",
      "0.3852529091852901\n",
      "0.38317965693234063\n",
      "0.3890586690270463\n",
      "0.38324270076600203\n",
      "0.3955731218351763\n",
      "0.36542098199306994\n",
      "0.3719077815153222\n",
      "0.38534434514326016\n",
      "0.39493150526714704\n",
      "0.3862640178047575\n",
      "0.39450247196835825\n",
      "0.3653221604068335\n",
      "0.4064678950234745\n",
      "0.3789289092803178\n",
      "0.38630212730922625\n",
      "0.39997857668111625\n",
      "0.3933342724130938\n",
      "0.3656290448830513\n",
      "0.382060645954643\n",
      "0.3720389220049422\n",
      "0.403242560721255\n",
      "0.37890037288200534\n",
      "0.37580862553980265\n",
      "0.3933358051972931\n",
      "0.3843818698662034\n",
      "0.38532800887215996\n",
      "0.3936246720898718\n",
      "0.3993872462930824\n",
      "0.40119321716266776\n",
      "0.36783586871465085\n",
      "0.39459430228385534\n",
      "0.3827263221447789\n",
      "0.40035090443793186\n",
      "0.3805730394567339\n",
      "0.3887005107952793\n",
      "0.3863681482830543\n",
      "0.39134059687384165\n",
      "0.4097110848314055\n",
      "0.375065858594049\n",
      "0.38644309283502687\n",
      "0.3815502093520384\n",
      "0.38810100633972033\n",
      "0.401859194874766\n",
      "0.385984838831187\n",
      "0.39368776620856305\n",
      "0.3711986517243432\n",
      "0.3960353373473003\n",
      "0.3854228057379056\n",
      "0.39405739308669324\n",
      "0.3714084895441369\n",
      "0.3806502267914212\n",
      "0.37832225467782477\n",
      "0.3860838530314273\n",
      "0.381568808877707\n",
      "0.37168014005648187\n",
      "0.3807073447231758\n",
      "0.3905800190317251\n",
      "0.4109654082810143\n",
      "0.4061187762007696\n",
      "0.38641159147711096\n",
      "0.3972715935820195\n",
      "0.38303185605580503\n",
      "0.3811031600839589\n",
      "0.39431742342585824\n",
      "0.3781432062355833\n",
      "0.3903572475486153\n",
      "0.39920750612759975\n",
      "0.3987984459381058\n",
      "0.39297150327769825\n",
      "0.37300769958807223\n",
      "0.37910327930938337\n",
      "0.4011901508444377\n",
      "0.4127221600237211\n",
      "0.380909478616869\n",
      "0.40967251752581574\n",
      "0.3905469988900833\n",
      "0.40191388973678527\n",
      "0.3744805265616885\n",
      "0.39995946512931224\n",
      "0.37686154120401766\n",
      "0.3866422090177944\n",
      "0.37580596004967265\n",
      "0.40994100511359005\n",
      "0.40915843454520723\n",
      "0.3936050698438237\n",
      "0.37069894270062964\n",
      "0.4075550926468305\n",
      "0.382599205481309\n",
      "0.4128651537116179\n",
      "0.3996641064692208\n",
      "0.39543853452032635\n",
      "0.3709142527399573\n",
      "0.40215355210117376\n",
      "0.3920739995703092\n",
      "0.37928354618924515\n",
      "0.4058404112400723\n",
      "0.3989076158833749\n",
      "0.39553888999598524\n",
      "0.3960518607599605\n",
      "0.39517067731927635\n",
      "0.39164806460309953\n",
      "0.39123331445241455\n",
      "0.4169664179714928\n",
      "0.3885089362077011\n",
      "0.3970270207564681\n",
      "0.3905259026934814\n",
      "0.3751745929931715\n",
      "0.39072532402126114\n",
      "0.37253392410068403\n",
      "0.37945771836979864\n",
      "0.3862919760950623\n",
      "0.38428745763543\n",
      "0.3924906448218778\n",
      "0.40353260772159794\n",
      "0.3914599846032004\n",
      "0.399977042215554\n",
      "0.38982476432318264\n",
      "0.39144501768125556\n",
      "0.3805945952199347\n",
      "0.4008863019472211\n",
      "0.40580215779303613\n",
      "0.40709616613444694\n",
      "0.3825660769546658\n",
      "0.3942248831950787\n",
      "0.3849946357147028\n",
      "0.3739891924009858\n",
      "0.3965807571442876\n",
      "0.3892033931632871\n",
      "0.383875684865176\n",
      "0.3835108933918894\n",
      "0.38807005845962217\n",
      "0.39960617116831826\n",
      "0.38402205029218617\n",
      "0.3904353676499634\n",
      "0.3937460894231165\n",
      "0.4325654376925944\n",
      "0.38056112624865934\n",
      "0.3789260549666835\n",
      "0.3941025565407415\n",
      "0.3834842651080109\n",
      "0.4106621900886978\n",
      "0.38031245493507604\n",
      "0.39392666600409615\n",
      "0.38332943648407536\n",
      "0.3849771595276896\n",
      "0.3937462351043933\n",
      "0.38187993444696294\n",
      "0.37821839710889643\n",
      "0.37394805951937304\n",
      "0.38756717864051116\n",
      "0.38731849098000787\n",
      "0.3935229016295826\n",
      "0.4106728804505148\n",
      "0.3992166969033003\n",
      "0.3820320079606375\n",
      "0.381962503855731\n",
      "0.4051880278377586\n",
      "0.4121335593671252\n",
      "0.3927717706851643\n",
      "0.3958130853108031\n",
      "0.3867695550624186\n",
      "0.383675259754141\n",
      "0.3737711017934108\n",
      "0.3948732419163406\n",
      "0.382978986830265\n",
      "0.3825913929978853\n",
      "0.39149555328501295\n",
      "0.39367952529469363\n",
      "0.3827121749494035\n",
      "0.4026898577649064\n",
      "0.3861861475607739\n",
      "0.3875963267058869\n",
      "0.40387093080511677\n",
      "0.3837911662551145\n",
      "0.36806890576042217\n",
      "0.4180198145026637\n",
      "0.3825021291547642\n",
      "0.3704410664845094\n",
      "0.37587440419067236\n",
      "0.40723834572244993\n",
      "0.36500232621258843\n",
      "0.3975379530112415\n",
      "0.39190714980719055\n",
      "0.3859627349081554\n",
      "0.39380100951346436\n",
      "0.39362016039702896\n",
      "0.38132179609628264\n",
      "0.38482476279819766\n",
      "0.39074057007108676\n",
      "0.3929171315999573\n",
      "0.3761136311235968\n",
      "0.3882271266077434\n",
      "0.3813112398490612\n",
      "0.37076010567278816\n",
      "0.37612816929363885\n",
      "0.3737298282996406\n",
      "0.37220977534224836\n",
      "0.38744624786224385\n",
      "0.3769186250895302\n",
      "0.38718766415083367\n",
      "0.3872761220070141\n",
      "0.4220777252565199\n",
      "0.3929499831337362\n",
      "0.39240246933458944\n",
      "0.3732804695773012\n",
      "0.43392786199415384\n",
      "0.38913635941954683\n",
      "0.40869015248309826\n",
      "0.4000686172495842\n",
      "0.3917951898802973\n",
      "0.3836347187322114\n",
      "0.38839016470660775\n",
      "0.40495348237268636\n",
      "0.38304837519474927\n",
      "0.38789676829692515\n",
      "0.3709655783573178\n",
      "0.3970132682974158\n",
      "0.38811073955189246\n",
      "0.37725520364003556\n",
      "0.3773143469546184\n",
      "0.3949952411532815\n",
      "0.3965372809093173\n",
      "0.39288844013177215\n",
      "0.38411423460855854\n",
      "0.39077220168850935\n",
      "0.3988052815967961\n",
      "0.39375430774023196\n",
      "0.39358269816041086\n",
      "0.3901024869367442\n",
      "0.39645794353828684\n",
      "0.39474435098576444\n",
      "0.40362739933927877\n",
      "0.376077271808641\n",
      "0.3941097479524752\n",
      "0.4069800143248808\n",
      "0.3724202253512118\n",
      "0.3716265120262297\n",
      "0.3873543314178202\n",
      "0.39283106507065496\n",
      "0.39607639822144447\n",
      "0.38549284437884523\n",
      "0.39118918383741935\n",
      "0.3694163740945086\n",
      "0.3736801337638942\n",
      "0.3874578232425241\n",
      "0.395301975000442\n",
      "0.3971866386231525\n",
      "0.3911979585647051\n",
      "0.38663633712764495\n",
      "0.39597496896437956\n",
      "0.38933477182025106\n",
      "0.37985857335471374\n",
      "0.3812561830147686\n",
      "0.3933718241981902\n",
      "0.37023035097072543\n",
      "0.4019103283249564\n",
      "0.38790724182795533\n",
      "0.3813272753891421\n",
      "0.3779220365242371\n",
      "0.40094261949814297\n",
      "0.3982469252429553\n",
      "0.40935073932561417\n",
      "0.3847873346992202\n",
      "0.38929410365735845\n",
      "0.3917303253923265\n",
      "0.3813386698762107\n",
      "0.4015432883041266\n",
      "0.40160902077101734\n",
      "0.39322890297108964\n",
      "0.38839396450343977\n",
      "0.3910272731142598\n",
      "0.39681596698658267\n",
      "0.3880175262024726\n",
      "0.4050571528959575\n",
      "0.38573965298577945\n",
      "0.3910499477919776\n",
      "0.35828014813800496\n",
      "0.39631679594764885\n",
      "0.40382067406922223\n",
      "0.3737421561920044\n",
      "0.37869050116870207\n",
      "0.37704160265587916\n",
      "0.3901271144528176\n",
      "0.38249228755409204\n",
      "0.39357360717331935\n",
      "0.3832483966643546\n",
      "0.3933910560593361\n",
      "0.3868650272496064\n",
      "0.3870101784980013\n",
      "0.39376283452960764\n",
      "0.39972368945512643\n",
      "0.3987026316386197\n",
      "0.3979719091531502\n",
      "0.3776934877375889\n"
     ]
    },
    {
     "ename": "KeyboardInterrupt",
     "evalue": "",
     "output_type": "error",
     "traceback": [
      "\u001b[0;31m---------------------------------------------------------------------------\u001b[0m",
      "\u001b[0;31mKeyboardInterrupt\u001b[0m                         Traceback (most recent call last)",
      "\u001b[0;32m<timed exec>\u001b[0m in \u001b[0;36m<module>\u001b[0;34m()\u001b[0m\n",
      "\u001b[0;32m/usr/lib/python3.6/site-packages/tensorflow/python/client/session.py\u001b[0m in \u001b[0;36mrun\u001b[0;34m(self, fetches, feed_dict, options, run_metadata)\u001b[0m\n\u001b[1;32m    903\u001b[0m     \u001b[0;32mtry\u001b[0m\u001b[0;34m:\u001b[0m\u001b[0;34m\u001b[0m\u001b[0m\n\u001b[1;32m    904\u001b[0m       result = self._run(None, fetches, feed_dict, options_ptr,\n\u001b[0;32m--> 905\u001b[0;31m                          run_metadata_ptr)\n\u001b[0m\u001b[1;32m    906\u001b[0m       \u001b[0;32mif\u001b[0m \u001b[0mrun_metadata\u001b[0m\u001b[0;34m:\u001b[0m\u001b[0;34m\u001b[0m\u001b[0m\n\u001b[1;32m    907\u001b[0m         \u001b[0mproto_data\u001b[0m \u001b[0;34m=\u001b[0m \u001b[0mtf_session\u001b[0m\u001b[0;34m.\u001b[0m\u001b[0mTF_GetBuffer\u001b[0m\u001b[0;34m(\u001b[0m\u001b[0mrun_metadata_ptr\u001b[0m\u001b[0;34m)\u001b[0m\u001b[0;34m\u001b[0m\u001b[0m\n",
      "\u001b[0;32m/usr/lib/python3.6/site-packages/tensorflow/python/client/session.py\u001b[0m in \u001b[0;36m_run\u001b[0;34m(self, handle, fetches, feed_dict, options, run_metadata)\u001b[0m\n\u001b[1;32m   1135\u001b[0m     \u001b[0;32mif\u001b[0m \u001b[0mfinal_fetches\u001b[0m \u001b[0;32mor\u001b[0m \u001b[0mfinal_targets\u001b[0m \u001b[0;32mor\u001b[0m \u001b[0;34m(\u001b[0m\u001b[0mhandle\u001b[0m \u001b[0;32mand\u001b[0m \u001b[0mfeed_dict_tensor\u001b[0m\u001b[0;34m)\u001b[0m\u001b[0;34m:\u001b[0m\u001b[0;34m\u001b[0m\u001b[0m\n\u001b[1;32m   1136\u001b[0m       results = self._do_run(handle, final_targets, final_fetches,\n\u001b[0;32m-> 1137\u001b[0;31m                              feed_dict_tensor, options, run_metadata)\n\u001b[0m\u001b[1;32m   1138\u001b[0m     \u001b[0;32melse\u001b[0m\u001b[0;34m:\u001b[0m\u001b[0;34m\u001b[0m\u001b[0m\n\u001b[1;32m   1139\u001b[0m       \u001b[0mresults\u001b[0m \u001b[0;34m=\u001b[0m \u001b[0;34m[\u001b[0m\u001b[0;34m]\u001b[0m\u001b[0;34m\u001b[0m\u001b[0m\n",
      "\u001b[0;32m/usr/lib/python3.6/site-packages/tensorflow/python/client/session.py\u001b[0m in \u001b[0;36m_do_run\u001b[0;34m(self, handle, target_list, fetch_list, feed_dict, options, run_metadata)\u001b[0m\n\u001b[1;32m   1353\u001b[0m     \u001b[0;32mif\u001b[0m \u001b[0mhandle\u001b[0m \u001b[0;32mis\u001b[0m \u001b[0;32mNone\u001b[0m\u001b[0;34m:\u001b[0m\u001b[0;34m\u001b[0m\u001b[0m\n\u001b[1;32m   1354\u001b[0m       return self._do_call(_run_fn, self._session, feeds, fetches, targets,\n\u001b[0;32m-> 1355\u001b[0;31m                            options, run_metadata)\n\u001b[0m\u001b[1;32m   1356\u001b[0m     \u001b[0;32melse\u001b[0m\u001b[0;34m:\u001b[0m\u001b[0;34m\u001b[0m\u001b[0m\n\u001b[1;32m   1357\u001b[0m       \u001b[0;32mreturn\u001b[0m \u001b[0mself\u001b[0m\u001b[0;34m.\u001b[0m\u001b[0m_do_call\u001b[0m\u001b[0;34m(\u001b[0m\u001b[0m_prun_fn\u001b[0m\u001b[0;34m,\u001b[0m \u001b[0mself\u001b[0m\u001b[0;34m.\u001b[0m\u001b[0m_session\u001b[0m\u001b[0;34m,\u001b[0m \u001b[0mhandle\u001b[0m\u001b[0;34m,\u001b[0m \u001b[0mfeeds\u001b[0m\u001b[0;34m,\u001b[0m \u001b[0mfetches\u001b[0m\u001b[0;34m)\u001b[0m\u001b[0;34m\u001b[0m\u001b[0m\n",
      "\u001b[0;32m/usr/lib/python3.6/site-packages/tensorflow/python/client/session.py\u001b[0m in \u001b[0;36m_do_call\u001b[0;34m(self, fn, *args)\u001b[0m\n\u001b[1;32m   1359\u001b[0m   \u001b[0;32mdef\u001b[0m \u001b[0m_do_call\u001b[0m\u001b[0;34m(\u001b[0m\u001b[0mself\u001b[0m\u001b[0;34m,\u001b[0m \u001b[0mfn\u001b[0m\u001b[0;34m,\u001b[0m \u001b[0;34m*\u001b[0m\u001b[0margs\u001b[0m\u001b[0;34m)\u001b[0m\u001b[0;34m:\u001b[0m\u001b[0;34m\u001b[0m\u001b[0m\n\u001b[1;32m   1360\u001b[0m     \u001b[0;32mtry\u001b[0m\u001b[0;34m:\u001b[0m\u001b[0;34m\u001b[0m\u001b[0m\n\u001b[0;32m-> 1361\u001b[0;31m       \u001b[0;32mreturn\u001b[0m \u001b[0mfn\u001b[0m\u001b[0;34m(\u001b[0m\u001b[0;34m*\u001b[0m\u001b[0margs\u001b[0m\u001b[0;34m)\u001b[0m\u001b[0;34m\u001b[0m\u001b[0m\n\u001b[0m\u001b[1;32m   1362\u001b[0m     \u001b[0;32mexcept\u001b[0m \u001b[0merrors\u001b[0m\u001b[0;34m.\u001b[0m\u001b[0mOpError\u001b[0m \u001b[0;32mas\u001b[0m \u001b[0me\u001b[0m\u001b[0;34m:\u001b[0m\u001b[0;34m\u001b[0m\u001b[0m\n\u001b[1;32m   1363\u001b[0m       \u001b[0mmessage\u001b[0m \u001b[0;34m=\u001b[0m \u001b[0mcompat\u001b[0m\u001b[0;34m.\u001b[0m\u001b[0mas_text\u001b[0m\u001b[0;34m(\u001b[0m\u001b[0me\u001b[0m\u001b[0;34m.\u001b[0m\u001b[0mmessage\u001b[0m\u001b[0;34m)\u001b[0m\u001b[0;34m\u001b[0m\u001b[0m\n",
      "\u001b[0;32m/usr/lib/python3.6/site-packages/tensorflow/python/client/session.py\u001b[0m in \u001b[0;36m_run_fn\u001b[0;34m(session, feed_dict, fetch_list, target_list, options, run_metadata)\u001b[0m\n\u001b[1;32m   1338\u001b[0m         \u001b[0;32melse\u001b[0m\u001b[0;34m:\u001b[0m\u001b[0;34m\u001b[0m\u001b[0m\n\u001b[1;32m   1339\u001b[0m           return tf_session.TF_Run(session, options, feed_dict, fetch_list,\n\u001b[0;32m-> 1340\u001b[0;31m                                    target_list, status, run_metadata)\n\u001b[0m\u001b[1;32m   1341\u001b[0m \u001b[0;34m\u001b[0m\u001b[0m\n\u001b[1;32m   1342\u001b[0m     \u001b[0;32mdef\u001b[0m \u001b[0m_prun_fn\u001b[0m\u001b[0;34m(\u001b[0m\u001b[0msession\u001b[0m\u001b[0;34m,\u001b[0m \u001b[0mhandle\u001b[0m\u001b[0;34m,\u001b[0m \u001b[0mfeed_dict\u001b[0m\u001b[0;34m,\u001b[0m \u001b[0mfetch_list\u001b[0m\u001b[0;34m)\u001b[0m\u001b[0;34m:\u001b[0m\u001b[0;34m\u001b[0m\u001b[0m\n",
      "\u001b[0;31mKeyboardInterrupt\u001b[0m: "
     ]
    }
   ],
   "source": [
    "%%time\n",
    "for _ in range(50000):\n",
    "    for _ in range(400):\n",
    "        l, _ = sess.run([loss,opt], {phase:True})\n",
    "    print(l)\n",
    "#     print(PWalk.inverse_sigma.eval()[:3,:3])\n",
    "#     print('\\n')\n",
    "#     writer.add_summary(all_sum.eval())"
   ]
  },
  {
   "cell_type": "code",
   "execution_count": 26,
   "metadata": {},
   "outputs": [],
   "source": [
    "# saver = tf.train.Saver()"
   ]
  },
  {
   "cell_type": "code",
   "execution_count": 27,
   "metadata": {},
   "outputs": [
    {
     "name": "stdout",
     "output_type": "stream",
     "text": [
      "INFO:tensorflow:Restoring parameters from /home/nikita/tmp/rdata4\n"
     ]
    }
   ],
   "source": [
    "saver = tf.train.Saver()\n",
    "saver.restore(sess,'/home/nikita/tmp/rdata4')"
   ]
  },
  {
   "cell_type": "code",
   "execution_count": 27,
   "metadata": {},
   "outputs": [],
   "source": [
    "# ss = []\n",
    "# for _ in range(3000):\n",
    "#     a = np.linalg.inv(PWalk.inverse_sigma.eval())\n",
    "#     ss.append(np.sqrt(np.diag(a)))\n",
    "# ss = np.array(ss)"
   ]
  },
  {
   "cell_type": "code",
   "execution_count": 28,
   "metadata": {},
   "outputs": [],
   "source": [
    "# np.mean(ss, axis=0), np.std(ss, axis=0)"
   ]
  },
  {
   "cell_type": "code",
   "execution_count": 29,
   "metadata": {
    "scrolled": true
   },
   "outputs": [],
   "source": [
    "# sns.kdeplot(ss[:,1], ss[:,0])\n",
    "# plt.show()"
   ]
  },
  {
   "cell_type": "code",
   "execution_count": 28,
   "metadata": {},
   "outputs": [],
   "source": [
    "out = tf.reshape(outputs, [n, dim[0], dim[1]])"
   ]
  },
  {
   "cell_type": "code",
   "execution_count": 50,
   "metadata": {},
   "outputs": [],
   "source": [
    "samples = []\n",
    "for _ in range(3000):\n",
    "    s = out.eval()\n",
    "    samples.append(s)\n",
    "samples = np.array(samples)"
   ]
  },
  {
   "cell_type": "code",
   "execution_count": 51,
   "metadata": {
    "scrolled": true
   },
   "outputs": [
    {
     "data": {
      "text/plain": [
       "(3000, 20, 3, 4)"
      ]
     },
     "execution_count": 51,
     "metadata": {},
     "output_type": "execute_result"
    }
   ],
   "source": [
    "samples.shape"
   ]
  },
  {
   "cell_type": "code",
   "execution_count": 52,
   "metadata": {},
   "outputs": [
    {
     "data": {
      "image/png": "[encoded data removed]",
      "text/plain": [
       "<matplotlib.figure.Figure at 0x7ff47067c358>"
      ]
     },
     "metadata": {},
     "output_type": "display_data"
    }
   ],
   "source": [
    "sns.kdeplot(samples[:,-1,2,0], samples[:,-1,0,3])\n",
    "plt.show()"
   ]
  },
  {
   "cell_type": "code",
   "execution_count": 139,
   "metadata": {},
   "outputs": [
    {
     "data": {
      "text/plain": [
       "0.09639029882481966"
      ]
     },
     "execution_count": 139,
     "metadata": {},
     "output_type": "execute_result"
    }
   ],
   "source": [
    "samples[:,10,2,0].mean()"
   ]
  },
  {
   "cell_type": "code",
   "execution_count": 140,
   "metadata": {},
   "outputs": [
    {
     "data": {
      "image/png": "[encoded data removed]",
      "text/plain": [
       "<matplotlib.figure.Figure at 0x7fddcddff438>"
      ]
     },
     "metadata": {},
     "output_type": "display_data"
    }
   ],
   "source": [
    "sns.kdeplot(samples[:,5,2,0], samples[:,5,0,0])\n",
    "plt.show()"
   ]
  },
  {
   "cell_type": "code",
   "execution_count": 56,
   "metadata": {},
   "outputs": [],
   "source": [
    "t = 10\n",
    "# params[t]"
   ]
  },
  {
   "cell_type": "code",
   "execution_count": 57,
   "metadata": {},
   "outputs": [
    {
     "data": {
      "text/plain": [
       "array([[-0.3194,  0.0266, -0.1808, -1.1484],\n",
       "       [ 0.0855,  0.2261,  0.6021,  0.4902],\n",
       "       [ 0.3017, -0.0875,  0.8834,  0.6332]])"
      ]
     },
     "execution_count": 57,
     "metadata": {},
     "output_type": "execute_result"
    }
   ],
   "source": [
    "np.mean(samples[:,t], axis=0)"
   ]
  },
  {
   "cell_type": "code",
   "execution_count": 58,
   "metadata": {},
   "outputs": [
    {
     "data": {
      "text/plain": [
       "array([[0.354 , 0.3569, 0.3657, 0.8392],\n",
       "       [0.2299, 0.2264, 0.2241, 0.8236],\n",
       "       [0.1368, 0.1353, 0.1425, 0.8592]])"
      ]
     },
     "execution_count": 58,
     "metadata": {},
     "output_type": "execute_result"
    }
   ],
   "source": [
    "np.std(samples[:,t], axis=0)"
   ]
  },
  {
   "cell_type": "code",
   "execution_count": 163,
   "metadata": {},
   "outputs": [
    {
     "data": {
      "text/plain": [
       "array([[-0.2617, -0.0514, -0.1421, -1.1013],\n",
       "       [ 0.0716,  0.1932,  0.6169,  0.2148],\n",
       "       [ 0.2826, -0.0293,  0.8549,  0.9093]])"
      ]
     },
     "execution_count": 163,
     "metadata": {},
     "output_type": "execute_result"
    }
   ],
   "source": [
    "np.mean(samples[:,t], axis=0)"
   ]
  },
  {
   "cell_type": "code",
   "execution_count": 164,
   "metadata": {},
   "outputs": [
    {
     "data": {
      "text/plain": [
       "array([[0.1349, 0.0932, 0.1238, 0.3107],\n",
       "       [0.0814, 0.0982, 0.1407, 0.1506],\n",
       "       [0.0623, 0.039 , 0.0645, 0.3178]])"
      ]
     },
     "execution_count": 164,
     "metadata": {},
     "output_type": "execute_result"
    }
   ],
   "source": [
    "np.std(samples[:,t], axis=0)"
   ]
  },
  {
   "cell_type": "code",
   "execution_count": 187,
   "metadata": {},
   "outputs": [],
   "source": []
  },
  {
   "cell_type": "code",
   "execution_count": 278,
   "metadata": {},
   "outputs": [],
   "source": [
    "from sklearn.neighbors.kde import KernelDensity\n",
    "def score(s1, s2):\n",
    "    bw = 0.1\n",
    "    s1 = s1[:,np.newaxis]\n",
    "    s2 = s2[:,np.newaxis]\n",
    "    e1 = KernelDensity(bandwidth=bw).fit(s1)\n",
    "    e2 = KernelDensity(bandwidth=bw).fit(s2)\n",
    "    \n",
    "    e1e2 = e1.score(s1) - e2.score(s1)\n",
    "    e2e1 = e2.score(s2) - e1.score(s2)\n",
    "    dist = (e1e2/len(s1) + e2e1/len(s2))/2\n",
    "    return dist"
   ]
  },
  {
   "cell_type": "code",
   "execution_count": 271,
   "metadata": {},
   "outputs": [],
   "source": [
    "def get_cdf(ts):\n",
    "    return lambda x: (ts <= x).mean()\n",
    "def score(s1,s2):\n",
    "    c1 = get_cdf(s1)\n",
    "    c2 = get_cdf(s2)\n",
    "\n",
    "    m = 0\n",
    "    for s in np.concatenate([s1, s2]):\n",
    "        r = np.abs(c1(s) - c2(s))\n",
    "        if r > m:\n",
    "            m = r\n",
    "    return m"
   ]
  },
  {
   "cell_type": "code",
   "execution_count": 203,
   "metadata": {},
   "outputs": [
    {
     "data": {
      "text/plain": [
       "0.00014521624382734903"
      ]
     },
     "execution_count": 203,
     "metadata": {},
     "output_type": "execute_result"
    }
   ],
   "source": [
    "score(s1,s2)"
   ]
  },
  {
   "cell_type": "code",
   "execution_count": 279,
   "metadata": {},
   "outputs": [
    {
     "name": "stdout",
     "output_type": "stream",
     "text": [
      "0\n",
      "1\n",
      "2\n",
      "3\n",
      "4\n",
      "6\n",
      "7\n",
      "8\n",
      "9\n",
      "10\n",
      "11\n",
      "12\n",
      "13\n",
      "14\n",
      "15\n",
      "16\n",
      "17\n",
      "18\n"
     ]
    }
   ],
   "source": [
    "dists = []\n",
    "for t1 in range(samples.shape[1] - 1):\n",
    "    np.random.seed(1234)\n",
    "    print(t1)\n",
    "    t2 = t1 + 1\n",
    "    s1 = samples[:,t1,0,0]\n",
    "    s2 = samples[:,t2,0,0]\n",
    "    ss = []\n",
    "    for _ in range(10):\n",
    "        s1_ = np.random.choice(s1, size=8000)\n",
    "        s2_ = np.random.choice(s2, size=8000)\n",
    "        m = score(s1_,s2_)\n",
    "        ss.append(m)\n",
    "    dists.append(ss)\n",
    "dists = np.array(dists).T"
   ]
  },
  {
   "cell_type": "markdown",
   "metadata": {},
   "source": [
    "## KDE + KL"
   ]
  },
  {
   "cell_type": "code",
   "execution_count": 270,
   "metadata": {},
   "outputs": [
    {
     "name": "stderr",
     "output_type": "stream",
     "text": [
      "/home/nikita/.virtualenvs/py3.6/lib/python3.6/site-packages/seaborn/timeseries.py:183: UserWarning: The tsplot function is deprecated and will be removed or replaced (in a substantially altered version) in a future release.\n",
      "  warnings.warn(msg, UserWarning)\n"
     ]
    },
    {
     "data": {
      "image/png": "[encoded data removed]",
      "text/plain": [
       "<matplotlib.figure.Figure at 0x7f08680eff60>"
      ]
     },
     "metadata": {},
     "output_type": "display_data"
    }
   ],
   "source": [
    "sns.tsplot(dists, ci=[50, 95])\n",
    "plt.show()"
   ]
  },
  {
   "cell_type": "code",
   "execution_count": 280,
   "metadata": {},
   "outputs": [
    {
     "name": "stderr",
     "output_type": "stream",
     "text": [
      "/home/nikita/.virtualenvs/py3.6/lib/python3.6/site-packages/seaborn/timeseries.py:183: UserWarning: The tsplot function is deprecated and will be removed or replaced (in a substantially altered version) in a future release.\n",
      "  warnings.warn(msg, UserWarning)\n"
     ]
    },
    {
     "data": {
      "image/png": "[encoded data removed]",
      "text/plain": [
       "<matplotlib.figure.Figure at 0x7f0863c040f0>"
      ]
     },
     "metadata": {},
     "output_type": "display_data"
    }
   ],
   "source": [
    "sns.tsplot(dists, ci=[50, 95])\n",
    "plt.show()"
   ]
  },
  {
   "cell_type": "markdown",
   "metadata": {},
   "source": [
    "## Kolmogorov-Smirnov"
   ]
  },
  {
   "cell_type": "code",
   "execution_count": 277,
   "metadata": {},
   "outputs": [
    {
     "name": "stderr",
     "output_type": "stream",
     "text": [
      "/home/nikita/.virtualenvs/py3.6/lib/python3.6/site-packages/seaborn/timeseries.py:183: UserWarning: The tsplot function is deprecated and will be removed or replaced (in a substantially altered version) in a future release.\n",
      "  warnings.warn(msg, UserWarning)\n"
     ]
    },
    {
     "data": {
      "image/png": "[encoded data removed]",
      "text/plain": [
       "<matplotlib.figure.Figure at 0x7f0863df7908>"
      ]
     },
     "metadata": {},
     "output_type": "display_data"
    }
   ],
   "source": [
    "sns.tsplot(dists, ci=[50, 95])\n",
    "plt.show()"
   ]
  },
  {
   "cell_type": "code",
   "execution_count": null,
   "metadata": {},
   "outputs": [],
   "source": [
    "tf.pow()"
   ]
  }
 ],
 "metadata": {
  "kernelspec": {
   "display_name": "Python 3.6 (sys p)",
   "language": "python",
   "name": "py3.6"
  },
  "language_info": {
   "codemirror_mode": {
    "name": "ipython",
    "version": 3
   },
   "file_extension": ".py",
   "mimetype": "text/x-python",
   "name": "python",
   "nbconvert_exporter": "python",
   "pygments_lexer": "ipython3",
   "version": "3.6.4"
  }
 },
 "nbformat": 4,
 "nbformat_minor": 2
}
