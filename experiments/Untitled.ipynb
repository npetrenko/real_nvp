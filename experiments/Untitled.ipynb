{
 "cells": [
  {
   "cell_type": "code",
   "execution_count": 1,
   "metadata": {},
   "outputs": [],
   "source": [
    "import pickle as pkl\n",
    "import pandas as pd\n",
    "import numpy as np"
   ]
  },
  {
   "cell_type": "code",
   "execution_count": 2,
   "metadata": {},
   "outputs": [],
   "source": [
    "with open('./output.pkl','rb') as f:\n",
    "    datas = pkl.load(f)"
   ]
  },
  {
   "cell_type": "code",
   "execution_count": 3,
   "metadata": {},
   "outputs": [],
   "source": [
    "datas = [x['GBR_model'].iloc[:,[0,-1]] for x in datas]"
   ]
  },
  {
   "cell_type": "code",
   "execution_count": 4,
   "metadata": {},
   "outputs": [],
   "source": [
    "true = [data.iloc[:,-1] for data in datas]"
   ]
  },
  {
   "cell_type": "code",
   "execution_count": 5,
   "metadata": {},
   "outputs": [],
   "source": [
    "true = pd.concat(true, axis=1).iloc[:,:-1]"
   ]
  },
  {
   "cell_type": "code",
   "execution_count": 6,
   "metadata": {},
   "outputs": [
    {
     "data": {
      "text/html": [
       "<div>\n",
       "<style scoped>\n",
       "    .dataframe tbody tr th:only-of-type {\n",
       "        vertical-align: middle;\n",
       "    }\n",
       "\n",
       "    .dataframe tbody tr th {\n",
       "        vertical-align: top;\n",
       "    }\n",
       "\n",
       "    .dataframe thead th {\n",
       "        text-align: right;\n",
       "    }\n",
       "</style>\n",
       "<table border=\"1\" class=\"dataframe\">\n",
       "  <thead>\n",
       "    <tr style=\"text-align: right;\">\n",
       "      <th></th>\n",
       "      <th>CYEAR=2000</th>\n",
       "      <th>CYEAR=2001</th>\n",
       "      <th>CYEAR=2002</th>\n",
       "      <th>CYEAR=2003</th>\n",
       "      <th>CYEAR=2004</th>\n",
       "      <th>CYEAR=2005</th>\n",
       "      <th>CYEAR=2006</th>\n",
       "      <th>CYEAR=2007</th>\n",
       "      <th>CYEAR=2008</th>\n",
       "      <th>CYEAR=2009</th>\n",
       "      <th>CYEAR=2010</th>\n",
       "      <th>CYEAR=2011</th>\n",
       "      <th>CYEAR=2012</th>\n",
       "    </tr>\n",
       "  </thead>\n",
       "  <tbody>\n",
       "    <tr>\n",
       "      <th>0</th>\n",
       "      <td>0.785269</td>\n",
       "      <td>1.235895</td>\n",
       "      <td>1.256192</td>\n",
       "      <td>1.362922</td>\n",
       "      <td>1.344596</td>\n",
       "      <td>2.049668</td>\n",
       "      <td>2.333528</td>\n",
       "      <td>2.321036</td>\n",
       "      <td>3.613499</td>\n",
       "      <td>2.166231</td>\n",
       "      <td>3.285714</td>\n",
       "      <td>4.484240</td>\n",
       "      <td>2.821710</td>\n",
       "    </tr>\n",
       "    <tr>\n",
       "      <th>1</th>\n",
       "      <td>3.834557</td>\n",
       "      <td>4.224341</td>\n",
       "      <td>1.731875</td>\n",
       "      <td>1.254535</td>\n",
       "      <td>1.826005</td>\n",
       "      <td>1.951407</td>\n",
       "      <td>1.563726</td>\n",
       "      <td>2.855405</td>\n",
       "      <td>1.802060</td>\n",
       "      <td>-0.863299</td>\n",
       "      <td>-1.053564</td>\n",
       "      <td>-1.481362</td>\n",
       "      <td>-1.047096</td>\n",
       "    </tr>\n",
       "    <tr>\n",
       "      <th>2</th>\n",
       "      <td>5.600000</td>\n",
       "      <td>4.700000</td>\n",
       "      <td>5.000000</td>\n",
       "      <td>4.800000</td>\n",
       "      <td>4.600000</td>\n",
       "      <td>4.800000</td>\n",
       "      <td>5.400000</td>\n",
       "      <td>5.300000</td>\n",
       "      <td>5.600000</td>\n",
       "      <td>7.500000</td>\n",
       "      <td>7.800000</td>\n",
       "      <td>8.000000</td>\n",
       "      <td>7.900000</td>\n",
       "    </tr>\n",
       "  </tbody>\n",
       "</table>\n",
       "</div>"
      ],
      "text/plain": [
       "   CYEAR=2000  CYEAR=2001  CYEAR=2002  CYEAR=2003  CYEAR=2004  CYEAR=2005  \\\n",
       "0    0.785269    1.235895    1.256192    1.362922    1.344596    2.049668   \n",
       "1    3.834557    4.224341    1.731875    1.254535    1.826005    1.951407   \n",
       "2    5.600000    4.700000    5.000000    4.800000    4.600000    4.800000   \n",
       "\n",
       "   CYEAR=2006  CYEAR=2007  CYEAR=2008  CYEAR=2009  CYEAR=2010  CYEAR=2011  \\\n",
       "0    2.333528    2.321036    3.613499    2.166231    3.285714    4.484240   \n",
       "1    1.563726    2.855405    1.802060   -0.863299   -1.053564   -1.481362   \n",
       "2    5.400000    5.300000    5.600000    7.500000    7.800000    8.000000   \n",
       "\n",
       "   CYEAR=2012  \n",
       "0    2.821710  \n",
       "1   -1.047096  \n",
       "2    7.900000  "
      ]
     },
     "execution_count": 6,
     "metadata": {},
     "output_type": "execute_result"
    }
   ],
   "source": [
    "true"
   ]
  },
  {
   "cell_type": "code",
   "execution_count": 7,
   "metadata": {},
   "outputs": [],
   "source": [
    "pred = [data.iloc[:,0] for data in datas]"
   ]
  },
  {
   "cell_type": "code",
   "execution_count": 8,
   "metadata": {},
   "outputs": [],
   "source": [
    "pred = pd.concat(pred, axis=1).iloc[:,:-2]"
   ]
  },
  {
   "cell_type": "code",
   "execution_count": 9,
   "metadata": {},
   "outputs": [
    {
     "data": {
      "text/html": [
       "<div>\n",
       "<style scoped>\n",
       "    .dataframe tbody tr th:only-of-type {\n",
       "        vertical-align: middle;\n",
       "    }\n",
       "\n",
       "    .dataframe tbody tr th {\n",
       "        vertical-align: top;\n",
       "    }\n",
       "\n",
       "    .dataframe thead th {\n",
       "        text-align: right;\n",
       "    }\n",
       "</style>\n",
       "<table border=\"1\" class=\"dataframe\">\n",
       "  <thead>\n",
       "    <tr style=\"text-align: right;\">\n",
       "      <th></th>\n",
       "      <th>2001</th>\n",
       "      <th>2002</th>\n",
       "      <th>2003</th>\n",
       "      <th>2004</th>\n",
       "      <th>2005</th>\n",
       "      <th>2006</th>\n",
       "      <th>2007</th>\n",
       "      <th>2008</th>\n",
       "      <th>2009</th>\n",
       "      <th>2010</th>\n",
       "      <th>2011</th>\n",
       "      <th>2012</th>\n",
       "    </tr>\n",
       "  </thead>\n",
       "  <tbody>\n",
       "    <tr>\n",
       "      <th>0</th>\n",
       "      <td>0.528940</td>\n",
       "      <td>1.224065</td>\n",
       "      <td>0.974159</td>\n",
       "      <td>1.238924</td>\n",
       "      <td>1.183476</td>\n",
       "      <td>1.624538</td>\n",
       "      <td>1.862761</td>\n",
       "      <td>1.994376</td>\n",
       "      <td>2.975589</td>\n",
       "      <td>1.040496</td>\n",
       "      <td>3.669730</td>\n",
       "      <td>4.987167</td>\n",
       "    </tr>\n",
       "    <tr>\n",
       "      <th>1</th>\n",
       "      <td>2.961764</td>\n",
       "      <td>3.492698</td>\n",
       "      <td>1.706393</td>\n",
       "      <td>1.378301</td>\n",
       "      <td>1.918263</td>\n",
       "      <td>2.005189</td>\n",
       "      <td>1.699752</td>\n",
       "      <td>2.006523</td>\n",
       "      <td>2.115074</td>\n",
       "      <td>1.409744</td>\n",
       "      <td>1.158246</td>\n",
       "      <td>0.490802</td>\n",
       "    </tr>\n",
       "    <tr>\n",
       "      <th>2</th>\n",
       "      <td>4.820052</td>\n",
       "      <td>3.959887</td>\n",
       "      <td>4.337949</td>\n",
       "      <td>4.092952</td>\n",
       "      <td>4.126703</td>\n",
       "      <td>4.690189</td>\n",
       "      <td>5.306482</td>\n",
       "      <td>5.572294</td>\n",
       "      <td>6.564552</td>\n",
       "      <td>6.904358</td>\n",
       "      <td>7.796179</td>\n",
       "      <td>9.249338</td>\n",
       "    </tr>\n",
       "  </tbody>\n",
       "</table>\n",
       "</div>"
      ],
      "text/plain": [
       "       2001      2002      2003      2004      2005      2006      2007  \\\n",
       "0  0.528940  1.224065  0.974159  1.238924  1.183476  1.624538  1.862761   \n",
       "1  2.961764  3.492698  1.706393  1.378301  1.918263  2.005189  1.699752   \n",
       "2  4.820052  3.959887  4.337949  4.092952  4.126703  4.690189  5.306482   \n",
       "\n",
       "       2008      2009      2010      2011      2012  \n",
       "0  1.994376  2.975589  1.040496  3.669730  4.987167  \n",
       "1  2.006523  2.115074  1.409744  1.158246  0.490802  \n",
       "2  5.572294  6.564552  6.904358  7.796179  9.249338  "
      ]
     },
     "execution_count": 9,
     "metadata": {},
     "output_type": "execute_result"
    }
   ],
   "source": [
    "pred"
   ]
  },
  {
   "cell_type": "code",
   "execution_count": 10,
   "metadata": {},
   "outputs": [],
   "source": [
    "rw_pred_std = np.std(true.values[:,1:] - true.values[:,:-1], axis=1)"
   ]
  },
  {
   "cell_type": "code",
   "execution_count": 11,
   "metadata": {},
   "outputs": [
    {
     "data": {
      "text/plain": [
       "array([0.89750698, 1.13243115, 0.63174145])"
      ]
     },
     "execution_count": 11,
     "metadata": {},
     "output_type": "execute_result"
    }
   ],
   "source": [
    "rw_pred_std"
   ]
  },
  {
   "cell_type": "code",
   "execution_count": 12,
   "metadata": {},
   "outputs": [],
   "source": [
    "pred_std = np.std(true.values[:,1:] - pred.values, axis=1)"
   ]
  },
  {
   "cell_type": "code",
   "execution_count": 13,
   "metadata": {},
   "outputs": [
    {
     "data": {
      "text/plain": [
       "array([1.06993395, 1.39337163, 0.62881436])"
      ]
     },
     "execution_count": 13,
     "metadata": {},
     "output_type": "execute_result"
    }
   ],
   "source": [
    "pred_std"
   ]
  },
  {
   "cell_type": "code",
   "execution_count": null,
   "metadata": {},
   "outputs": [],
   "source": []
  }
 ],
 "metadata": {
  "kernelspec": {
   "display_name": "Python 3.6 (sys p)",
   "language": "python",
   "name": "py3.6"
  },
  "language_info": {
   "codemirror_mode": {
    "name": "ipython",
    "version": 3
   },
   "file_extension": ".py",
   "mimetype": "text/x-python",
   "name": "python",
   "nbconvert_exporter": "python",
   "pygments_lexer": "ipython3",
   "version": "3.6.4"
  }
 },
 "nbformat": 4,
 "nbformat_minor": 2
}
