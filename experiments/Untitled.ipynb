{
 "cells": [
  {
   "cell_type": "code",
   "execution_count": 1,
   "metadata": {},
   "outputs": [],
   "source": [
    "import pickle as pkl\n",
    "import pandas as pd\n",
    "import numpy as np"
   ]
  },
  {
   "cell_type": "code",
   "execution_count": 2,
   "metadata": {},
   "outputs": [],
   "source": [
    "with open('./output.pkl','rb') as f:\n",
    "    datas = pkl.load(f)"
   ]
  },
  {
   "cell_type": "code",
   "execution_count": 3,
   "metadata": {},
   "outputs": [],
   "source": [
    "datas = [x['AUS_model'].iloc[:,[0,-1]] for x in datas]"
   ]
  },
  {
   "cell_type": "code",
   "execution_count": 4,
   "metadata": {},
   "outputs": [],
   "source": [
    "true = [data.iloc[:,-1] for data in datas]"
   ]
  },
  {
   "cell_type": "code",
   "execution_count": 5,
   "metadata": {},
   "outputs": [],
   "source": [
    "true = pd.concat(true, axis=1).iloc[:,:-1]"
   ]
  },
  {
   "cell_type": "code",
   "execution_count": 6,
   "metadata": {},
   "outputs": [
    {
     "data": {
      "text/html": [
       "<div>\n",
       "<style scoped>\n",
       "    .dataframe tbody tr th:only-of-type {\n",
       "        vertical-align: middle;\n",
       "    }\n",
       "\n",
       "    .dataframe tbody tr th {\n",
       "        vertical-align: top;\n",
       "    }\n",
       "\n",
       "    .dataframe thead th {\n",
       "        text-align: right;\n",
       "    }\n",
       "</style>\n",
       "<table border=\"1\" class=\"dataframe\">\n",
       "  <thead>\n",
       "    <tr style=\"text-align: right;\">\n",
       "      <th></th>\n",
       "      <th>CYEAR=2000</th>\n",
       "      <th>CYEAR=2001</th>\n",
       "      <th>CYEAR=2002</th>\n",
       "      <th>CYEAR=2003</th>\n",
       "      <th>CYEAR=2004</th>\n",
       "      <th>CYEAR=2005</th>\n",
       "      <th>CYEAR=2006</th>\n",
       "      <th>CYEAR=2007</th>\n",
       "      <th>CYEAR=2008</th>\n",
       "      <th>CYEAR=2009</th>\n",
       "      <th>CYEAR=2010</th>\n",
       "      <th>CYEAR=2011</th>\n",
       "      <th>CYEAR=2012</th>\n",
       "    </tr>\n",
       "  </thead>\n",
       "  <tbody>\n",
       "    <tr>\n",
       "      <th>0</th>\n",
       "      <td>4.475183</td>\n",
       "      <td>4.380841</td>\n",
       "      <td>3.003171</td>\n",
       "      <td>2.770735</td>\n",
       "      <td>2.343612</td>\n",
       "      <td>2.668733</td>\n",
       "      <td>3.538487</td>\n",
       "      <td>2.332362</td>\n",
       "      <td>4.352643</td>\n",
       "      <td>1.820112</td>\n",
       "      <td>2.845226</td>\n",
       "      <td>3.303850</td>\n",
       "      <td>1.762780</td>\n",
       "    </tr>\n",
       "    <tr>\n",
       "      <th>1</th>\n",
       "      <td>5.030644</td>\n",
       "      <td>2.035681</td>\n",
       "      <td>3.403482</td>\n",
       "      <td>3.391598</td>\n",
       "      <td>3.648011</td>\n",
       "      <td>3.422373</td>\n",
       "      <td>2.425093</td>\n",
       "      <td>3.067561</td>\n",
       "      <td>4.182300</td>\n",
       "      <td>1.044141</td>\n",
       "      <td>6.206931</td>\n",
       "      <td>1.462691</td>\n",
       "      <td>4.820785</td>\n",
       "    </tr>\n",
       "    <tr>\n",
       "      <th>2</th>\n",
       "      <td>6.300000</td>\n",
       "      <td>6.700000</td>\n",
       "      <td>6.400000</td>\n",
       "      <td>5.900000</td>\n",
       "      <td>5.400000</td>\n",
       "      <td>5.000000</td>\n",
       "      <td>4.800000</td>\n",
       "      <td>4.400000</td>\n",
       "      <td>4.200000</td>\n",
       "      <td>5.600000</td>\n",
       "      <td>5.200000</td>\n",
       "      <td>5.100000</td>\n",
       "      <td>5.200000</td>\n",
       "    </tr>\n",
       "  </tbody>\n",
       "</table>\n",
       "</div>"
      ],
      "text/plain": [
       "   CYEAR=2000  CYEAR=2001  CYEAR=2002  CYEAR=2003  CYEAR=2004  CYEAR=2005  \\\n",
       "0    4.475183    4.380841    3.003171    2.770735    2.343612    2.668733   \n",
       "1    5.030644    2.035681    3.403482    3.391598    3.648011    3.422373   \n",
       "2    6.300000    6.700000    6.400000    5.900000    5.400000    5.000000   \n",
       "\n",
       "   CYEAR=2006  CYEAR=2007  CYEAR=2008  CYEAR=2009  CYEAR=2010  CYEAR=2011  \\\n",
       "0    3.538487    2.332362    4.352643    1.820112    2.845226    3.303850   \n",
       "1    2.425093    3.067561    4.182300    1.044141    6.206931    1.462691   \n",
       "2    4.800000    4.400000    4.200000    5.600000    5.200000    5.100000   \n",
       "\n",
       "   CYEAR=2012  \n",
       "0    1.762780  \n",
       "1    4.820785  \n",
       "2    5.200000  "
      ]
     },
     "execution_count": 6,
     "metadata": {},
     "output_type": "execute_result"
    }
   ],
   "source": [
    "true"
   ]
  },
  {
   "cell_type": "code",
   "execution_count": 7,
   "metadata": {},
   "outputs": [],
   "source": [
    "pred = [data.iloc[:,0] for data in datas]"
   ]
  },
  {
   "cell_type": "code",
   "execution_count": 8,
   "metadata": {},
   "outputs": [],
   "source": [
    "pred = pd.concat(pred, axis=1).iloc[:,:-2]"
   ]
  },
  {
   "cell_type": "code",
   "execution_count": 9,
   "metadata": {},
   "outputs": [
    {
     "data": {
      "text/html": [
       "<div>\n",
       "<style scoped>\n",
       "    .dataframe tbody tr th:only-of-type {\n",
       "        vertical-align: middle;\n",
       "    }\n",
       "\n",
       "    .dataframe tbody tr th {\n",
       "        vertical-align: top;\n",
       "    }\n",
       "\n",
       "    .dataframe thead th {\n",
       "        text-align: right;\n",
       "    }\n",
       "</style>\n",
       "<table border=\"1\" class=\"dataframe\">\n",
       "  <thead>\n",
       "    <tr style=\"text-align: right;\">\n",
       "      <th></th>\n",
       "      <th>2001</th>\n",
       "      <th>2002</th>\n",
       "      <th>2003</th>\n",
       "      <th>2004</th>\n",
       "      <th>2005</th>\n",
       "      <th>2006</th>\n",
       "      <th>2007</th>\n",
       "      <th>2008</th>\n",
       "      <th>2009</th>\n",
       "      <th>2010</th>\n",
       "      <th>2011</th>\n",
       "      <th>2012</th>\n",
       "    </tr>\n",
       "  </thead>\n",
       "  <tbody>\n",
       "    <tr>\n",
       "      <th>0</th>\n",
       "      <td>5.178518</td>\n",
       "      <td>6.289144</td>\n",
       "      <td>5.053928</td>\n",
       "      <td>4.238345</td>\n",
       "      <td>4.172746</td>\n",
       "      <td>4.098124</td>\n",
       "      <td>3.951116</td>\n",
       "      <td>3.337889</td>\n",
       "      <td>3.953211</td>\n",
       "      <td>2.159922</td>\n",
       "      <td>2.567804</td>\n",
       "      <td>4.051530</td>\n",
       "    </tr>\n",
       "    <tr>\n",
       "      <th>1</th>\n",
       "      <td>4.731508</td>\n",
       "      <td>2.492307</td>\n",
       "      <td>3.999616</td>\n",
       "      <td>3.833587</td>\n",
       "      <td>3.465822</td>\n",
       "      <td>2.977892</td>\n",
       "      <td>1.970480</td>\n",
       "      <td>3.127066</td>\n",
       "      <td>3.143707</td>\n",
       "      <td>2.104447</td>\n",
       "      <td>4.458294</td>\n",
       "      <td>2.567048</td>\n",
       "    </tr>\n",
       "    <tr>\n",
       "      <th>2</th>\n",
       "      <td>6.653108</td>\n",
       "      <td>5.644829</td>\n",
       "      <td>6.394327</td>\n",
       "      <td>5.667459</td>\n",
       "      <td>5.115726</td>\n",
       "      <td>5.059286</td>\n",
       "      <td>4.932859</td>\n",
       "      <td>4.838956</td>\n",
       "      <td>5.211691</td>\n",
       "      <td>4.678940</td>\n",
       "      <td>6.255990</td>\n",
       "      <td>4.553951</td>\n",
       "    </tr>\n",
       "  </tbody>\n",
       "</table>\n",
       "</div>"
      ],
      "text/plain": [
       "       2001      2002      2003      2004      2005      2006      2007  \\\n",
       "0  5.178518  6.289144  5.053928  4.238345  4.172746  4.098124  3.951116   \n",
       "1  4.731508  2.492307  3.999616  3.833587  3.465822  2.977892  1.970480   \n",
       "2  6.653108  5.644829  6.394327  5.667459  5.115726  5.059286  4.932859   \n",
       "\n",
       "       2008      2009      2010      2011      2012  \n",
       "0  3.337889  3.953211  2.159922  2.567804  4.051530  \n",
       "1  3.127066  3.143707  2.104447  4.458294  2.567048  \n",
       "2  4.838956  5.211691  4.678940  6.255990  4.553951  "
      ]
     },
     "execution_count": 9,
     "metadata": {},
     "output_type": "execute_result"
    }
   ],
   "source": [
    "pred"
   ]
  },
  {
   "cell_type": "code",
   "execution_count": 10,
   "metadata": {},
   "outputs": [],
   "source": [
    "rw_pred_std = np.std(true.values[:,1:] - true.values[:,:-1], axis=1)"
   ]
  },
  {
   "cell_type": "code",
   "execution_count": 11,
   "metadata": {},
   "outputs": [
    {
     "data": {
      "text/plain": [
       "array([1.22401319, 2.64403164, 0.51552292])"
      ]
     },
     "execution_count": 11,
     "metadata": {},
     "output_type": "execute_result"
    }
   ],
   "source": [
    "rw_pred_std"
   ]
  },
  {
   "cell_type": "code",
   "execution_count": 12,
   "metadata": {},
   "outputs": [],
   "source": [
    "pred_std = np.std(true.values[:,1:] - pred.values, axis=1)"
   ]
  },
  {
   "cell_type": "code",
   "execution_count": 13,
   "metadata": {},
   "outputs": [
    {
     "data": {
      "text/plain": [
       "array([1.32578127, 1.9666636 , 0.55790062])"
      ]
     },
     "execution_count": 13,
     "metadata": {},
     "output_type": "execute_result"
    }
   ],
   "source": [
    "pred_std"
   ]
  },
  {
   "cell_type": "code",
   "execution_count": null,
   "metadata": {},
   "outputs": [],
   "source": []
  }
 ],
 "metadata": {
  "kernelspec": {
   "display_name": "Python 3.6 (sys p)",
   "language": "python",
   "name": "py3.6"
  },
  "language_info": {
   "codemirror_mode": {
    "name": "ipython",
    "version": 3
   },
   "file_extension": ".py",
   "mimetype": "text/x-python",
   "name": "python",
   "nbconvert_exporter": "python",
   "pygments_lexer": "ipython3",
   "version": "3.6.4"
  }
 },
 "nbformat": 4,
 "nbformat_minor": 2
}
