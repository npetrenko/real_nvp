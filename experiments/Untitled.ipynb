{
 "cells": [
  {
   "cell_type": "code",
   "execution_count": 1,
   "metadata": {},
   "outputs": [],
   "source": [
    "import pickle as pkl\n",
    "import pandas as pd\n",
    "import numpy as np\n",
    "from matplotlib import pyplot as plt"
   ]
  },
  {
   "cell_type": "code",
   "execution_count": 2,
   "metadata": {},
   "outputs": [],
   "source": [
    "mm = 'GBR'"
   ]
  },
  {
   "cell_type": "code",
   "execution_count": 3,
   "metadata": {},
   "outputs": [],
   "source": [
    "with open('./','rb') as f:\n",
    "    datas = pkl.load(f)"
   ]
  },
  {
   "cell_type": "code",
   "execution_count": 4,
   "metadata": {},
   "outputs": [],
   "source": [
    "datas = [x['{}_model'.format(mm)].iloc[:,[0,-1]] for x in datas]"
   ]
  },
  {
   "cell_type": "code",
   "execution_count": 5,
   "metadata": {},
   "outputs": [],
   "source": [
    "true = [data.iloc[:,-1] for data in datas]"
   ]
  },
  {
   "cell_type": "code",
   "execution_count": 6,
   "metadata": {},
   "outputs": [],
   "source": [
    "true = pd.concat(true, axis=1).iloc[:,:-1]"
   ]
  },
  {
   "cell_type": "code",
   "execution_count": 7,
   "metadata": {},
   "outputs": [
    {
     "data": {
      "text/html": [
       "<div>\n",
       "<style scoped>\n",
       "    .dataframe tbody tr th:only-of-type {\n",
       "        vertical-align: middle;\n",
       "    }\n",
       "\n",
       "    .dataframe tbody tr th {\n",
       "        vertical-align: top;\n",
       "    }\n",
       "\n",
       "    .dataframe thead th {\n",
       "        text-align: right;\n",
       "    }\n",
       "</style>\n",
       "<table border=\"1\" class=\"dataframe\">\n",
       "  <thead>\n",
       "    <tr style=\"text-align: right;\">\n",
       "      <th></th>\n",
       "      <th>CYEAR=2000.25</th>\n",
       "      <th>CYEAR=2000.5</th>\n",
       "      <th>CYEAR=2000.75</th>\n",
       "      <th>CYEAR=2001.0</th>\n",
       "      <th>CYEAR=2001.25</th>\n",
       "      <th>CYEAR=2001.5</th>\n",
       "      <th>CYEAR=2001.75</th>\n",
       "      <th>CYEAR=2002.0</th>\n",
       "      <th>CYEAR=2002.25</th>\n",
       "      <th>CYEAR=2002.5</th>\n",
       "      <th>...</th>\n",
       "      <th>CYEAR=2016.5</th>\n",
       "      <th>CYEAR=2016.75</th>\n",
       "      <th>CYEAR=2017.0</th>\n",
       "      <th>CYEAR=2017.25</th>\n",
       "      <th>CYEAR=2017.5</th>\n",
       "      <th>CYEAR=2017.75</th>\n",
       "      <th>CYEAR=2018.0</th>\n",
       "      <th>CYEAR=2018.25</th>\n",
       "      <th>CYEAR=2018.5</th>\n",
       "      <th>CYEAR=2018.75</th>\n",
       "    </tr>\n",
       "  </thead>\n",
       "  <tbody>\n",
       "    <tr>\n",
       "      <th>0</th>\n",
       "      <td>2.369640</td>\n",
       "      <td>1.451506</td>\n",
       "      <td>0.775509</td>\n",
       "      <td>0.240273</td>\n",
       "      <td>0.525184</td>\n",
       "      <td>2.008726</td>\n",
       "      <td>0.381937</td>\n",
       "      <td>0.887576</td>\n",
       "      <td>1.216865</td>\n",
       "      <td>1.263444</td>\n",
       "      <td>...</td>\n",
       "      <td>1.420140</td>\n",
       "      <td>0.912196</td>\n",
       "      <td>1.143991</td>\n",
       "      <td>0.704940</td>\n",
       "      <td>0.840569</td>\n",
       "      <td>0.687071</td>\n",
       "      <td>0.815218</td>\n",
       "      <td>0.667208</td>\n",
       "      <td>0.936592</td>\n",
       "      <td>0.808402</td>\n",
       "    </tr>\n",
       "    <tr>\n",
       "      <th>1</th>\n",
       "      <td>0.184661</td>\n",
       "      <td>0.064132</td>\n",
       "      <td>-0.059308</td>\n",
       "      <td>-0.110991</td>\n",
       "      <td>-0.290384</td>\n",
       "      <td>-0.340653</td>\n",
       "      <td>-0.257001</td>\n",
       "      <td>-0.690372</td>\n",
       "      <td>-0.071480</td>\n",
       "      <td>0.077829</td>\n",
       "      <td>...</td>\n",
       "      <td>-0.000832</td>\n",
       "      <td>-0.088976</td>\n",
       "      <td>-0.066489</td>\n",
       "      <td>-0.032357</td>\n",
       "      <td>-0.010786</td>\n",
       "      <td>-0.007958</td>\n",
       "      <td>0.145095</td>\n",
       "      <td>0.000000</td>\n",
       "      <td>0.000000</td>\n",
       "      <td>0.000000</td>\n",
       "    </tr>\n",
       "    <tr>\n",
       "      <th>2</th>\n",
       "      <td>1.659512</td>\n",
       "      <td>0.853611</td>\n",
       "      <td>0.500939</td>\n",
       "      <td>0.032683</td>\n",
       "      <td>-0.524229</td>\n",
       "      <td>1.363736</td>\n",
       "      <td>-0.339688</td>\n",
       "      <td>0.632468</td>\n",
       "      <td>0.858799</td>\n",
       "      <td>0.641864</td>\n",
       "      <td>...</td>\n",
       "      <td>1.031191</td>\n",
       "      <td>0.556575</td>\n",
       "      <td>0.650669</td>\n",
       "      <td>0.533855</td>\n",
       "      <td>0.646001</td>\n",
       "      <td>0.272633</td>\n",
       "      <td>0.541562</td>\n",
       "      <td>0.456979</td>\n",
       "      <td>0.766150</td>\n",
       "      <td>0.559946</td>\n",
       "    </tr>\n",
       "    <tr>\n",
       "      <th>3</th>\n",
       "      <td>-0.061483</td>\n",
       "      <td>-1.220400</td>\n",
       "      <td>-0.821404</td>\n",
       "      <td>-0.460929</td>\n",
       "      <td>-0.632386</td>\n",
       "      <td>-0.273797</td>\n",
       "      <td>0.320497</td>\n",
       "      <td>0.388934</td>\n",
       "      <td>-0.071767</td>\n",
       "      <td>-0.020118</td>\n",
       "      <td>...</td>\n",
       "      <td>-0.827949</td>\n",
       "      <td>-0.504803</td>\n",
       "      <td>-0.252200</td>\n",
       "      <td>-0.873957</td>\n",
       "      <td>-0.936632</td>\n",
       "      <td>-0.953234</td>\n",
       "      <td>0.350846</td>\n",
       "      <td>0.214036</td>\n",
       "      <td>0.244482</td>\n",
       "      <td>0.314063</td>\n",
       "    </tr>\n",
       "  </tbody>\n",
       "</table>\n",
       "<p>4 rows × 75 columns</p>\n",
       "</div>"
      ],
      "text/plain": [
       "   CYEAR=2000.25  CYEAR=2000.5  CYEAR=2000.75  CYEAR=2001.0  CYEAR=2001.25  \\\n",
       "0       2.369640      1.451506       0.775509      0.240273       0.525184   \n",
       "1       0.184661      0.064132      -0.059308     -0.110991      -0.290384   \n",
       "2       1.659512      0.853611       0.500939      0.032683      -0.524229   \n",
       "3      -0.061483     -1.220400      -0.821404     -0.460929      -0.632386   \n",
       "\n",
       "   CYEAR=2001.5  CYEAR=2001.75  CYEAR=2002.0  CYEAR=2002.25  CYEAR=2002.5  \\\n",
       "0      2.008726       0.381937      0.887576       1.216865      1.263444   \n",
       "1     -0.340653      -0.257001     -0.690372      -0.071480      0.077829   \n",
       "2      1.363736      -0.339688      0.632468       0.858799      0.641864   \n",
       "3     -0.273797       0.320497      0.388934      -0.071767     -0.020118   \n",
       "\n",
       "       ...        CYEAR=2016.5  CYEAR=2016.75  CYEAR=2017.0  CYEAR=2017.25  \\\n",
       "0      ...            1.420140       0.912196      1.143991       0.704940   \n",
       "1      ...           -0.000832      -0.088976     -0.066489      -0.032357   \n",
       "2      ...            1.031191       0.556575      0.650669       0.533855   \n",
       "3      ...           -0.827949      -0.504803     -0.252200      -0.873957   \n",
       "\n",
       "   CYEAR=2017.5  CYEAR=2017.75  CYEAR=2018.0  CYEAR=2018.25  CYEAR=2018.5  \\\n",
       "0      0.840569       0.687071      0.815218       0.667208      0.936592   \n",
       "1     -0.010786      -0.007958      0.145095       0.000000      0.000000   \n",
       "2      0.646001       0.272633      0.541562       0.456979      0.766150   \n",
       "3     -0.936632      -0.953234      0.350846       0.214036      0.244482   \n",
       "\n",
       "   CYEAR=2018.75  \n",
       "0       0.808402  \n",
       "1       0.000000  \n",
       "2       0.559946  \n",
       "3       0.314063  \n",
       "\n",
       "[4 rows x 75 columns]"
      ]
     },
     "execution_count": 7,
     "metadata": {},
     "output_type": "execute_result"
    }
   ],
   "source": [
    "true"
   ]
  },
  {
   "cell_type": "code",
   "execution_count": 8,
   "metadata": {},
   "outputs": [],
   "source": [
    "pred = [data.iloc[:,0] for data in datas]"
   ]
  },
  {
   "cell_type": "code",
   "execution_count": 9,
   "metadata": {},
   "outputs": [],
   "source": [
    "pred = pd.concat(pred, axis=1).iloc[:,:-2]"
   ]
  },
  {
   "cell_type": "code",
   "execution_count": 10,
   "metadata": {},
   "outputs": [
    {
     "data": {
      "text/html": [
       "<div>\n",
       "<style scoped>\n",
       "    .dataframe tbody tr th:only-of-type {\n",
       "        vertical-align: middle;\n",
       "    }\n",
       "\n",
       "    .dataframe tbody tr th {\n",
       "        vertical-align: top;\n",
       "    }\n",
       "\n",
       "    .dataframe thead th {\n",
       "        text-align: right;\n",
       "    }\n",
       "</style>\n",
       "<table border=\"1\" class=\"dataframe\">\n",
       "  <thead>\n",
       "    <tr style=\"text-align: right;\">\n",
       "      <th></th>\n",
       "      <th>2000.5</th>\n",
       "      <th>2000.75</th>\n",
       "      <th>2001.0</th>\n",
       "      <th>2001.25</th>\n",
       "      <th>2001.5</th>\n",
       "      <th>2001.75</th>\n",
       "      <th>2002.0</th>\n",
       "      <th>2002.25</th>\n",
       "      <th>2002.5</th>\n",
       "      <th>2002.75</th>\n",
       "      <th>...</th>\n",
       "      <th>2016.5</th>\n",
       "      <th>2016.75</th>\n",
       "      <th>2017.0</th>\n",
       "      <th>2017.25</th>\n",
       "      <th>2017.5</th>\n",
       "      <th>2017.75</th>\n",
       "      <th>2018.0</th>\n",
       "      <th>2018.25</th>\n",
       "      <th>2018.5</th>\n",
       "      <th>2018.75</th>\n",
       "    </tr>\n",
       "  </thead>\n",
       "  <tbody>\n",
       "    <tr>\n",
       "      <th>0</th>\n",
       "      <td>1.470080</td>\n",
       "      <td>1.679613</td>\n",
       "      <td>1.352106</td>\n",
       "      <td>1.090898</td>\n",
       "      <td>1.206211</td>\n",
       "      <td>1.539982</td>\n",
       "      <td>0.943453</td>\n",
       "      <td>1.148808</td>\n",
       "      <td>1.264857</td>\n",
       "      <td>1.218244</td>\n",
       "      <td>...</td>\n",
       "      <td>0.919915</td>\n",
       "      <td>1.174040</td>\n",
       "      <td>0.996205</td>\n",
       "      <td>0.948195</td>\n",
       "      <td>1.174140</td>\n",
       "      <td>0.980316</td>\n",
       "      <td>1.056999</td>\n",
       "      <td>0.750513</td>\n",
       "      <td>0.766892</td>\n",
       "      <td>0.907324</td>\n",
       "    </tr>\n",
       "    <tr>\n",
       "      <th>1</th>\n",
       "      <td>-0.126513</td>\n",
       "      <td>0.143136</td>\n",
       "      <td>0.187845</td>\n",
       "      <td>-0.048009</td>\n",
       "      <td>-0.101752</td>\n",
       "      <td>-0.023355</td>\n",
       "      <td>-0.082476</td>\n",
       "      <td>-0.319403</td>\n",
       "      <td>-0.254929</td>\n",
       "      <td>-0.227894</td>\n",
       "      <td>...</td>\n",
       "      <td>-0.051342</td>\n",
       "      <td>-0.031629</td>\n",
       "      <td>-0.061335</td>\n",
       "      <td>-0.039343</td>\n",
       "      <td>-0.017586</td>\n",
       "      <td>-0.028493</td>\n",
       "      <td>0.146470</td>\n",
       "      <td>-0.092426</td>\n",
       "      <td>-0.226070</td>\n",
       "      <td>-0.151441</td>\n",
       "    </tr>\n",
       "    <tr>\n",
       "      <th>2</th>\n",
       "      <td>1.066369</td>\n",
       "      <td>0.878322</td>\n",
       "      <td>0.840220</td>\n",
       "      <td>0.580019</td>\n",
       "      <td>0.410851</td>\n",
       "      <td>0.906184</td>\n",
       "      <td>0.168905</td>\n",
       "      <td>0.513437</td>\n",
       "      <td>0.749285</td>\n",
       "      <td>0.690344</td>\n",
       "      <td>...</td>\n",
       "      <td>0.531680</td>\n",
       "      <td>0.666583</td>\n",
       "      <td>0.544527</td>\n",
       "      <td>0.551921</td>\n",
       "      <td>0.613568</td>\n",
       "      <td>0.634616</td>\n",
       "      <td>0.592957</td>\n",
       "      <td>0.551673</td>\n",
       "      <td>0.495958</td>\n",
       "      <td>0.537633</td>\n",
       "    </tr>\n",
       "    <tr>\n",
       "      <th>3</th>\n",
       "      <td>-0.305406</td>\n",
       "      <td>-0.817555</td>\n",
       "      <td>-0.557791</td>\n",
       "      <td>-0.140867</td>\n",
       "      <td>-0.517022</td>\n",
       "      <td>-0.537813</td>\n",
       "      <td>-0.042566</td>\n",
       "      <td>0.056691</td>\n",
       "      <td>-0.173416</td>\n",
       "      <td>-0.171401</td>\n",
       "      <td>...</td>\n",
       "      <td>-0.263580</td>\n",
       "      <td>-0.452559</td>\n",
       "      <td>-0.420381</td>\n",
       "      <td>-0.404540</td>\n",
       "      <td>-0.513974</td>\n",
       "      <td>-0.474573</td>\n",
       "      <td>-0.744782</td>\n",
       "      <td>-0.088353</td>\n",
       "      <td>0.004731</td>\n",
       "      <td>0.038664</td>\n",
       "    </tr>\n",
       "  </tbody>\n",
       "</table>\n",
       "<p>4 rows × 74 columns</p>\n",
       "</div>"
      ],
      "text/plain": [
       "    2000.50   2000.75   2001.00   2001.25   2001.50   2001.75   2002.00  \\\n",
       "0  1.470080  1.679613  1.352106  1.090898  1.206211  1.539982  0.943453   \n",
       "1 -0.126513  0.143136  0.187845 -0.048009 -0.101752 -0.023355 -0.082476   \n",
       "2  1.066369  0.878322  0.840220  0.580019  0.410851  0.906184  0.168905   \n",
       "3 -0.305406 -0.817555 -0.557791 -0.140867 -0.517022 -0.537813 -0.042566   \n",
       "\n",
       "    2002.25   2002.50   2002.75    ...      2016.50   2016.75   2017.00  \\\n",
       "0  1.148808  1.264857  1.218244    ...     0.919915  1.174040  0.996205   \n",
       "1 -0.319403 -0.254929 -0.227894    ...    -0.051342 -0.031629 -0.061335   \n",
       "2  0.513437  0.749285  0.690344    ...     0.531680  0.666583  0.544527   \n",
       "3  0.056691 -0.173416 -0.171401    ...    -0.263580 -0.452559 -0.420381   \n",
       "\n",
       "    2017.25   2017.50   2017.75   2018.00   2018.25   2018.50   2018.75  \n",
       "0  0.948195  1.174140  0.980316  1.056999  0.750513  0.766892  0.907324  \n",
       "1 -0.039343 -0.017586 -0.028493  0.146470 -0.092426 -0.226070 -0.151441  \n",
       "2  0.551921  0.613568  0.634616  0.592957  0.551673  0.495958  0.537633  \n",
       "3 -0.404540 -0.513974 -0.474573 -0.744782 -0.088353  0.004731  0.038664  \n",
       "\n",
       "[4 rows x 74 columns]"
      ]
     },
     "execution_count": 10,
     "metadata": {},
     "output_type": "execute_result"
    }
   ],
   "source": [
    "pred"
   ]
  },
  {
   "cell_type": "code",
   "execution_count": 11,
   "metadata": {},
   "outputs": [],
   "source": [
    "rw_pred_std = np.std(true.values[:,1:] - true.values[:,:-1], axis=1)"
   ]
  },
  {
   "cell_type": "code",
   "execution_count": 12,
   "metadata": {},
   "outputs": [
    {
     "data": {
      "text/plain": [
       "array([0.93893305, 0.30423108, 0.87150164, 0.8080987 ])"
      ]
     },
     "execution_count": 12,
     "metadata": {},
     "output_type": "execute_result"
    }
   ],
   "source": [
    "rw_pred_std"
   ]
  },
  {
   "cell_type": "code",
   "execution_count": 13,
   "metadata": {},
   "outputs": [],
   "source": [
    "pred_std = np.std(true.values[:,1:] - pred.values, axis=1)"
   ]
  },
  {
   "cell_type": "code",
   "execution_count": 14,
   "metadata": {},
   "outputs": [
    {
     "data": {
      "text/plain": [
       "array([0.72088812, 0.31753549, 0.66072438, 0.70659989])"
      ]
     },
     "execution_count": 14,
     "metadata": {},
     "output_type": "execute_result"
    }
   ],
   "source": [
    "pred_std"
   ]
  },
  {
   "cell_type": "code",
   "execution_count": 15,
   "metadata": {},
   "outputs": [
    {
     "name": "stderr",
     "output_type": "stream",
     "text": [
      "/home/nikita/.virtualenvs/py3.6_gpu/lib/python3.6/site-packages/statsmodels/compat/pandas.py:56: FutureWarning: The pandas.core.datetools module is deprecated and will be removed in a future version. Please use the pandas.tseries module instead.\n",
      "  from pandas.core import datetools\n"
     ]
    }
   ],
   "source": [
    "from statsmodels.tsa.api import VAR, DynamicVAR"
   ]
  },
  {
   "cell_type": "code",
   "execution_count": 16,
   "metadata": {},
   "outputs": [],
   "source": [
    "data = pd.read_csv('../CDATA/{}.csv'.format(mm), index_col='VARIABLE')"
   ]
  },
  {
   "cell_type": "code",
   "execution_count": 17,
   "metadata": {},
   "outputs": [],
   "source": [
    "data.columns = data.columns.astype('float32')"
   ]
  },
  {
   "cell_type": "code",
   "execution_count": 18,
   "metadata": {},
   "outputs": [],
   "source": [
    "years = [x for x in pred.columns if x > 2000]"
   ]
  },
  {
   "cell_type": "code",
   "execution_count": 19,
   "metadata": {},
   "outputs": [
    {
     "data": {
      "text/plain": [
       "(2000.5, 2018.75)"
      ]
     },
     "execution_count": 19,
     "metadata": {},
     "output_type": "execute_result"
    }
   ],
   "source": [
    "min(years), max(years)"
   ]
  },
  {
   "cell_type": "code",
   "execution_count": 20,
   "metadata": {},
   "outputs": [
    {
     "name": "stderr",
     "output_type": "stream",
     "text": [
      "/home/nikita/.virtualenvs/py3.6_gpu/lib/python3.6/site-packages/statsmodels/tsa/vector_ar/var_model.py:461: FutureWarning: `rcond` parameter will change to the default of machine precision times ``max(M, N)`` where M and N are the input matrix dimensions.\n",
      "To use the future default and silence this warning we advise to pass `rcond=None`, to keep using the old, explicitly pass `rcond=-1`.\n",
      "  params = np.linalg.lstsq(z, y_sample)[0]\n"
     ]
    }
   ],
   "source": [
    "forecast = []\n",
    "for year in years:\n",
    "    yd = data.loc[:,data.columns<=year]\n",
    "    yd = data.loc[:,yd.columns >= year-10]\n",
    "    model = VAR(yd.values.T)\n",
    "    results = model.fit()\n",
    "    fc = results.forecast(yd.values.T, 1)[0]\n",
    "    forecast.append(fc)\n",
    "forecast = np.array(forecast)[:-1]"
   ]
  },
  {
   "cell_type": "code",
   "execution_count": 21,
   "metadata": {},
   "outputs": [],
   "source": [
    "true_vals = data.loc[:,years[1:]].values.T"
   ]
  },
  {
   "cell_type": "code",
   "execution_count": 22,
   "metadata": {},
   "outputs": [
    {
     "data": {
      "text/plain": [
       "((73, 4), (73, 4))"
      ]
     },
     "execution_count": 22,
     "metadata": {},
     "output_type": "execute_result"
    }
   ],
   "source": [
    "forecast.shape, true_vals.shape"
   ]
  },
  {
   "cell_type": "code",
   "execution_count": 23,
   "metadata": {},
   "outputs": [
    {
     "data": {
      "text/plain": [
       "array([0.79904748, 1.01394326, 0.69919747, 0.9233598 ])"
      ]
     },
     "execution_count": 23,
     "metadata": {},
     "output_type": "execute_result"
    }
   ],
   "source": [
    "np.std(forecast-true_vals, axis=0)/np.std((true_vals[1:]-true_vals[:-1])[:len(forecast)], axis=0)"
   ]
  },
  {
   "cell_type": "code",
   "execution_count": 24,
   "metadata": {},
   "outputs": [
    {
     "data": {
      "text/plain": [
       "array([0.76777373, 1.04373127, 0.75814473, 0.87439801])"
      ]
     },
     "execution_count": 24,
     "metadata": {},
     "output_type": "execute_result"
    }
   ],
   "source": [
    "pred_std/rw_pred_std"
   ]
  },
  {
   "cell_type": "code",
   "execution_count": null,
   "metadata": {},
   "outputs": [],
   "source": []
  },
  {
   "cell_type": "code",
   "execution_count": 25,
   "metadata": {},
   "outputs": [
    {
     "data": {
      "text/plain": [
       "array([ 0.07179551, -0.02531475, -0.02836306, -0.32389664])"
      ]
     },
     "execution_count": 25,
     "metadata": {},
     "output_type": "execute_result"
    }
   ],
   "source": [
    "np.mean(forecast-true_vals, axis=0)/np.std((true_vals[1:]-true_vals[:-1])[:len(forecast)], axis=0)"
   ]
  },
  {
   "cell_type": "code",
   "execution_count": 26,
   "metadata": {},
   "outputs": [
    {
     "data": {
      "text/plain": [
       "array([-0.19125634,  0.27257217, -0.04485597,  0.04729825])"
      ]
     },
     "execution_count": 26,
     "metadata": {},
     "output_type": "execute_result"
    }
   ],
   "source": [
    "np.mean(true.values[:,1:] - pred.values, axis=1)/rw_pred_std"
   ]
  },
  {
   "cell_type": "code",
   "execution_count": 27,
   "metadata": {},
   "outputs": [
    {
     "data": {
      "text/plain": [
       "array([0.83642454, 0.40445279, 0.78413652, 0.92916721])"
      ]
     },
     "execution_count": 27,
     "metadata": {},
     "output_type": "execute_result"
    }
   ],
   "source": [
    "rw_pred_std"
   ]
  },
  {
   "cell_type": "code",
   "execution_count": 1,
   "metadata": {},
   "outputs": [
    {
     "name": "stdout",
     "output_type": "stream",
     "text": [
      "WARNING:tensorflow:From /usr/lib/python3.6/site-packages/tensorflow/contrib/learn/python/learn/datasets/base.py:198: retry (from tensorflow.contrib.learn.python.learn.datasets.base) is deprecated and will be removed in a future version.\n",
      "Instructions for updating:\n",
      "Use the retry module or similar alternatives.\n"
     ]
    }
   ],
   "source": [
    "import tensorflow as tf\n",
    "from flows import NormalRW, DFlow, NVPFlow, LogNormal, GVAR, phase,Normal, floatX, MVNormal, MVNormalRW, Linear, LinearChol\n",
    "from flows.models import VARmodel\n",
    "import flows\n",
    "\n",
    "import numpy as np\n",
    "import pandas as pd\n",
    "from tensorflow.contrib.distributions import WishartCholesky\n",
    "import math\n",
    "from tqdm import tqdm\n",
    "import pickle as pkl\n",
    "\n",
    "VAR_DIM = 4\n",
    "\n",
    "\n",
    "global_inf = DFlow([NVPFlow(dim=(VAR_DIM*2+1)*VAR_DIM, name='flow_{}'.format(i)) for i in range(6)], init_sigma=0.08)\n",
    "global_prior = Normal(None, sigma=.3).logdens(global_inf.output)\n",
    "tf.add_to_collection('priors', global_prior)\n",
    "tf.add_to_collection('logdensities', global_inf.logdens)\n",
    "\n",
    "\n",
    "\n",
    "with tf.variable_scope('variation_rate', dtype=floatX):\n",
    "    variation_prerate = tf.get_variable('prerate',trainable=False, initializer=math.log(0.3))\n",
    "    variation_rate = tf.exp(variation_prerate)\n",
    "    variation = variation_rate#variation_d.sample()\n",
    "\n",
    "    variation = tf.cast(variation, floatX)\n",
    "    \n",
    "    tf.summary.scalar('variation', variation)\n",
    "\n",
    "individ_variation_prior = Normal((VAR_DIM*2+1)*VAR_DIM, sigma=variation, mu=global_inf.output[0])\n",
    "\n",
    "models = []\n",
    "indiv_logdens = []\n",
    "indiv_priors = []\n",
    "indivs = {}\n",
    "\n",
    "with tf.variable_scope(tf.get_variable_scope(), dtype=floatX, reuse=tf.AUTO_REUSE):\n",
    "    for country in ['AUS','GBR','FRA']:\n",
    "        with tf.variable_scope(country):\n",
    "            individ_variation = DFlow([NVPFlow((VAR_DIM*2+1)*VAR_DIM, \n",
    "                                               name='nvp_{}'.format(i), \n",
    "                                               aux_vars=global_inf.output) for i in range(6)], init_sigma=0.01)\n",
    "\n",
    "            ind = individ_variation.output[0]\n",
    "            indivs[country] = ind\n",
    "    \n",
    "saver = tf.train.Saver()"
   ]
  },
  {
   "cell_type": "code",
   "execution_count": 2,
   "metadata": {},
   "outputs": [],
   "source": [
    "sess = tf.InteractiveSession()"
   ]
  },
  {
   "cell_type": "code",
   "execution_count": 3,
   "metadata": {},
   "outputs": [
    {
     "name": "stdout",
     "output_type": "stream",
     "text": [
      "INFO:tensorflow:Restoring parameters from /home/nikita/tmp/gvar_save\n"
     ]
    }
   ],
   "source": [
    "saver.restore(sess, '/home/nikita/tmp/gvar_save')"
   ]
  },
  {
   "cell_type": "code",
   "execution_count": 4,
   "metadata": {},
   "outputs": [
    {
     "data": {
      "text/plain": [
       "{'AUS': <tf.Tensor 'AUS/strided_slice:0' shape=(36,) dtype=float64>,\n",
       " 'FRA': <tf.Tensor 'FRA/strided_slice:0' shape=(36,) dtype=float64>,\n",
       " 'GBR': <tf.Tensor 'GBR/strided_slice:0' shape=(36,) dtype=float64>}"
      ]
     },
     "execution_count": 4,
     "metadata": {},
     "output_type": "execute_result"
    }
   ],
   "source": [
    "indivs"
   ]
  },
  {
   "cell_type": "code",
   "execution_count": 5,
   "metadata": {},
   "outputs": [],
   "source": [
    "gi = global_inf.output[0]"
   ]
  },
  {
   "cell_type": "code",
   "execution_count": 6,
   "metadata": {},
   "outputs": [],
   "source": [
    "post = []\n",
    "for _ in range(4000):\n",
    "    post.append(indivs['GBR'].eval())"
   ]
  },
  {
   "cell_type": "code",
   "execution_count": 7,
   "metadata": {},
   "outputs": [],
   "source": [
    "post = np.array(post)"
   ]
  },
  {
   "cell_type": "code",
   "execution_count": 8,
   "metadata": {},
   "outputs": [],
   "source": [
    "import seaborn as sns\n",
    "from matplotlib import pyplot as plt"
   ]
  },
  {
   "cell_type": "code",
   "execution_count": 10,
   "metadata": {},
   "outputs": [
    {
     "data": {
      "image/png": "[encoded data removed]",
      "text/plain": [
       "<matplotlib.figure.Figure at 0x7f6a70b8a208>"
      ]
     },
     "metadata": {},
     "output_type": "display_data"
    }
   ],
   "source": [
    "sns.kdeplot(post[:,10],post[:,-2])\n",
    "plt.show()"
   ]
  },
  {
   "cell_type": "code",
   "execution_count": 11,
   "metadata": {},
   "outputs": [
    {
     "data": {
      "text/plain": [
       "array([ 0.1234352 ,  0.05440993,  0.07546286, -0.09812307, -0.4926919 ,\n",
       "        0.08766862,  0.1040237 , -0.21993177,  0.49576977, -0.06701268,\n",
       "       -0.13854845,  0.07872439,  0.07009993,  0.08149226, -0.67749245,\n",
       "        0.09420848, -0.06961612, -0.17057075,  0.00135235, -0.02374547,\n",
       "        0.10028396,  0.20502153,  0.00262844, -0.04962745, -0.61399851,\n",
       "        0.12724653,  0.19321798, -0.02421182, -0.0777595 , -0.03063257,\n",
       "        0.04558426, -0.03753896, -0.11787274,  0.08232951, -0.4946711 ,\n",
       "        0.14691354])"
      ]
     },
     "execution_count": 11,
     "metadata": {},
     "output_type": "execute_result"
    }
   ],
   "source": [
    "np.mean(post, axis=0)"
   ]
  },
  {
   "cell_type": "code",
   "execution_count": 12,
   "metadata": {},
   "outputs": [
    {
     "data": {
      "text/plain": [
       "array([0.15200107, 0.15723732, 0.1543145 , 0.15098003, 0.1565619 ,\n",
       "       0.1508831 , 0.14823746, 0.15302687, 0.14954049, 0.15511117,\n",
       "       0.15277139, 0.14164341, 0.14980194, 0.15391319, 0.15486174,\n",
       "       0.15467602, 0.15542588, 0.15735737, 0.15647566, 0.15114434,\n",
       "       0.15390805, 0.15297313, 0.15805968, 0.15747916, 0.1561676 ,\n",
       "       0.15825775, 0.14866528, 0.14499842, 0.15288236, 0.15320523,\n",
       "       0.14813876, 0.15628772, 0.14828984, 0.15205224, 0.15257866,\n",
       "       0.15585343])"
      ]
     },
     "execution_count": 12,
     "metadata": {},
     "output_type": "execute_result"
    }
   ],
   "source": [
    "np.std(post, axis=0)"
   ]
  },
  {
   "cell_type": "code",
   "execution_count": 27,
   "metadata": {},
   "outputs": [],
   "source": [
    "lns = np.exp(np.random.normal(-np.log(0.01), .8, size=2000))"
   ]
  },
  {
   "cell_type": "code",
   "execution_count": 28,
   "metadata": {},
   "outputs": [],
   "source": [
    "tg = 1/lns"
   ]
  },
  {
   "cell_type": "code",
   "execution_count": 29,
   "metadata": {},
   "outputs": [
    {
     "data": {
      "text/plain": [
       "(0.013825768737978507, 0.013106670510527382)"
      ]
     },
     "execution_count": 29,
     "metadata": {},
     "output_type": "execute_result"
    }
   ],
   "source": [
    "np.mean(tg), np.std(tg)"
   ]
  },
  {
   "cell_type": "code",
   "execution_count": 30,
   "metadata": {},
   "outputs": [
    {
     "data": {
      "image/png": "[encoded data removed]",
      "text/plain": [
       "<matplotlib.figure.Figure at 0x7f69cab5aba8>"
      ]
     },
     "metadata": {},
     "output_type": "display_data"
    }
   ],
   "source": [
    "sns.kdeplot(tg)\n",
    "plt.show()"
   ]
  },
  {
   "cell_type": "code",
   "execution_count": null,
   "metadata": {},
   "outputs": [],
   "source": []
  }
 ],
 "metadata": {
  "kernelspec": {
   "display_name": "py3.6_gpu",
   "language": "python",
   "name": "myenv"
  },
  "language_info": {
   "codemirror_mode": {
    "name": "ipython",
    "version": 3
   },
   "file_extension": ".py",
   "mimetype": "text/x-python",
   "name": "python",
   "nbconvert_exporter": "python",
   "pygments_lexer": "ipython3",
   "version": "3.6.4"
  }
 },
 "nbformat": 4,
 "nbformat_minor": 2
}
