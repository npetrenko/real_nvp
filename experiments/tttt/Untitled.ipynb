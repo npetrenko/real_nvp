{
 "cells": [
  {
   "cell_type": "code",
   "execution_count": 1,
   "metadata": {},
   "outputs": [
    {
     "name": "stdout",
     "output_type": "stream",
     "text": [
      "WARNING:tensorflow:From /usr/lib/python3.6/site-packages/tensorflow/contrib/learn/python/learn/datasets/base.py:198: retry (from tensorflow.contrib.learn.python.learn.datasets.base) is deprecated and will be removed in a future version.\n",
      "Instructions for updating:\n",
      "Use the retry module or similar alternatives.\n",
      "Mean std: [0.00997741 1.20220203 0.00878533 0.04104758 0.00997741 1.20220203\n",
      " 0.00878533 0.04104758]\n",
      "ldiag logdens Tensor(\"AUS_model/rw_priors/PWalk_inf/flows/sub_1:0\", shape=(1024,), dtype=float32)\n",
      "pwld Tensor(\"AUS_model/PWald_prior/OrdWalk/logdens/concat:0\", shape=(1024, 201), dtype=float32)\n",
      "Prior disp: [0.67596424 0.7066679  0.61292326 0.8164308 ]\n",
      "preds Tensor(\"AUS_model/strided_slice:0\", shape=(201, 1024, 4), dtype=float32)\n",
      "blogl Tensor(\"AUS_model/loglikelihood/mul:0\", shape=(200, 1024), dtype=float32)\n",
      "logl Tensor(\"AUS_model/loglikelihood/Sum_1:0\", shape=(1024,), dtype=float32)\n",
      "ldiag logdens Tensor(\"FRA_model/rw_priors/PWalk_inf/flows/sub_1:0\", shape=(1024,), dtype=float32)\n",
      "pwld Tensor(\"FRA_model/PWald_prior/OrdWalk/logdens/concat:0\", shape=(1024, 193), dtype=float32)\n",
      "Prior disp: [0.286496   0.38744742 0.28630462 0.36744264]\n",
      "preds Tensor(\"FRA_model/strided_slice:0\", shape=(193, 1024, 4), dtype=float32)\n",
      "blogl Tensor(\"FRA_model/loglikelihood/mul:0\", shape=(192, 1024), dtype=float32)\n",
      "logl Tensor(\"FRA_model/loglikelihood/Sum_1:0\", shape=(1024,), dtype=float32)\n",
      "ldiag logdens Tensor(\"GBR_model/rw_priors/PWalk_inf/flows/sub_1:0\", shape=(1024,), dtype=float32)\n",
      "pwld Tensor(\"GBR_model/PWald_prior/OrdWalk/logdens/concat:0\", shape=(1024, 161), dtype=float32)\n",
      "Prior disp: [0.53445375 0.40242547 0.5618466  0.3193132 ]\n",
      "preds Tensor(\"GBR_model/strided_slice:0\", shape=(161, 1024, 4), dtype=float32)\n",
      "blogl Tensor(\"GBR_model/loglikelihood/mul:0\", shape=(160, 1024), dtype=float32)\n",
      "logl Tensor(\"GBR_model/loglikelihood/Sum_1:0\", shape=(1024,), dtype=float32)\n",
      "Tensor(\"sub_1:0\", shape=(1024,), dtype=float32)\n",
      "INFO:tensorflow:Restoring parameters from ../shrinkage_cond-MP-multisample/save/gvar_hier_fullcond1000-MP\n"
     ]
    }
   ],
   "source": [
    "import tensorflow as tf\n",
    "from flows import NormalRW, DFlow, NVPFlow, LogNormal, GVAR, phase,Normal, floatX, MVNormal, MVNormalRW, Linear, LinearChol\n",
    "from flows.models import VARmodel\n",
    "import flows\n",
    "\n",
    "import numpy as np\n",
    "import pandas as pd\n",
    "from tensorflow.contrib.distributions import WishartCholesky\n",
    "import math\n",
    "from tqdm import tqdm\n",
    "import pickle as pkl\n",
    "\n",
    "np.random.seed(1234)\n",
    "tf.set_random_seed(1234)\n",
    "\n",
    "ccodes = ['AUS', 'FRA', 'GBR']\n",
    "datas = ['../../CDATA/{}.csv'.format(x) for x in ccodes]\n",
    "\n",
    "datas = [pd.read_csv(x, index_col='VARIABLE').iloc[:,:-1] for x in datas]\n",
    "\n",
    "mean_std = 0.\n",
    "for data in datas:\n",
    "    std = np.std(data.values[:,1:] - data.values[:,:-1], axis=1)\n",
    "    mean_std = std + mean_std\n",
    "mean_std /= len(datas)\n",
    "mean_std = np.concatenate([mean_std]*2, axis=0)\n",
    "print('Mean std: {}'.format(mean_std))\n",
    "\n",
    "max_year = 0\n",
    "for i, data in enumerate(datas):\n",
    "    data = data.astype(floatX)\n",
    "    data.columns = data.columns.astype('float32')\n",
    "    \n",
    "    new_data = np.concatenate([data.values.T[1:], data.values.T[:-1]], axis=1)\n",
    "    new_data_columns = data.columns[1:]\n",
    "    new_data = pd.DataFrame(new_data.T/mean_std[:,np.newaxis], columns=new_data_columns)\n",
    "    data = new_data\n",
    "    datas[i] = data\n",
    "    max_year = max(max(data.columns), max_year)\n",
    "\n",
    "VAR_DIM = 4\n",
    "\n",
    "YEARS = [x for x in data.columns if x > 2000]\n",
    "\n",
    "country_data = {c:d for c,d in zip(ccodes, datas)}\n",
    "\n",
    "NUM_SAMPLES=1024\n",
    "\n",
    "#BUILDING the model\n",
    "\n",
    "current_year = tf.placeholder(tf.float32, shape=(), name='current_year')\n",
    "tf.summary.scalar('current_year', current_year)\n",
    "\n",
    "with tf.variable_scope('variation_rate', dtype=floatX):\n",
    "    variation_prior = tf.distributions.Exponential(rate=.3)\n",
    "    dim_ = (VAR_DIM*2+1)*VAR_DIM\n",
    "    variation_mu = tf.get_variable('mu', shape=[dim_], initializer=tf.constant_initializer(math.log(0.3)))\n",
    "    variation_presigma = tf.get_variable('presigma', shape=[dim_], initializer=tf.constant_initializer(-3.))\n",
    "    variation_d = LogNormal(shape=[NUM_SAMPLES, dim_], mu=variation_mu[tf.newaxis], \n",
    "                            sigma=tf.exp(variation_presigma)[tf.newaxis])\n",
    "    \n",
    "    variation = variation_d.sample()\n",
    "\n",
    "    pp = tf.cast(tf.reduce_sum(variation_prior.log_prob(tf.cast(variation, tf.float32)), axis=-1), floatX)\n",
    "    ld = tf.reduce_sum(variation_d.logdens(variation, reduce=False), axis=-1)\n",
    "    tf.add_to_collection('logdensities', ld)\n",
    "    tf.add_to_collection('priors', pp)\n",
    "\n",
    "    tf.summary.histogram('variation', variation)\n",
    "    tf.summary.scalar('mean_variation', tf.reduce_mean(variation))\n",
    "\n",
    "global_inf = DFlow([NVPFlow(dim=(VAR_DIM*2+1)*VAR_DIM, name='flow_{}'.format(i), aux_vars=variation) for i in range(6)], \n",
    "                    init_sigma=0.01, num_samples=NUM_SAMPLES)\n",
    "\n",
    "pmat = np.ones([VAR_DIM, VAR_DIM*2+1], dtype=floatX)\n",
    "pmat[:,:VAR_DIM] = 0.1\n",
    "pmat[:,VAR_DIM:2*VAR_DIM] = 1.\n",
    "pmat[:,-1] = 1.\n",
    "\n",
    "global_sigma = tf.constant(pmat.reshape(-1), dtype=floatX)[tf.newaxis]\n",
    "global_prior = Normal(None, sigma=global_sigma).logdens(global_inf.output, reduce=False)\n",
    "global_prior = tf.reduce_sum(global_prior, axis=-1)\n",
    "tf.add_to_collection('priors', global_prior)\n",
    "tf.add_to_collection('logdensities', global_inf.logdens)\n",
    "\n",
    "individ_variation_prior = Normal(dim=None, sigma=variation, mu=global_inf.output)\n",
    "\n",
    "models = []\n",
    "indivs = {}\n",
    "\n",
    "with tf.variable_scope(tf.get_variable_scope(), dtype=floatX, reuse=tf.AUTO_REUSE):\n",
    "    for country, data in country_data.items():\n",
    "        with tf.variable_scope(country):\n",
    "            aux = tf.concat([global_inf.output, variation], axis=-1)\n",
    "            individ_variation = DFlow([NVPFlow((VAR_DIM*2+1)*VAR_DIM, \n",
    "                                               name='nvp_{}'.format(i), \n",
    "                                               aux_vars=aux) for i in range(6)], init_sigma=0.01, num_samples=NUM_SAMPLES)\n",
    "\n",
    "            ind = individ_variation.output + global_inf.output\n",
    "            indivs[country] = ind\n",
    "\n",
    "            tf.add_to_collection('logdensities', individ_variation.logdens)\n",
    "            tf.add_to_collection('priors', tf.reduce_sum(individ_variation_prior.logdens(ind, reduce=False), axis=-1))\n",
    "\n",
    "        model = VARmodel(data, name='{}_model'.format(country), var_dim=VAR_DIM, mu=ind, current_year=current_year, num_samples=NUM_SAMPLES)\n",
    "        models.append(model)\n",
    "\n",
    "graph = tf.get_default_graph()\n",
    "\n",
    "fp = tf.reduce_sum([model.priors for model in models], axis=[0,1])\n",
    "sp = tf.reduce_sum(graph.get_collection('priors'), axis=0)\n",
    "prior = fp + sp\n",
    "\n",
    "logdensity = tf.reduce_sum([model.logdensities for model in models], axis=[0,1]) + tf.add_n(graph.get_collection('logdensities'))\n",
    "\n",
    "kl = logdensity - prior\n",
    "print(kl)\n",
    "kl = tf.reduce_mean(kl)\n",
    "kl /= 36*200*4\n",
    "\n",
    "\n",
    "kls = tf.summary.scalar('KLd', kl)\n",
    "summary = tf.summary.merge_all()\n",
    "\n",
    "saver = tf.train.Saver()\n",
    "with tf.variable_scope('build_upd') as upd_scope:\n",
    "    vs = tf.global_variables()\n",
    "    grads = tf.gradients(kl, vs)\n",
    "    upd = zip(grads, vs)\n",
    "    gnans = [tf.check_numerics(x, 'nan in {}'.format(x.op.name)) for x in grads]\n",
    "    with tf.control_dependencies(gnans):\n",
    "        main_op = tf.train.AdamOptimizer(0.002).apply_gradients(upd)\n",
    "\n",
    "#graph = tf.get_default_graph()\n",
    "#upd_vars = graph.get_collection('variables', scope=upd_scope)\n",
    "\n",
    "sess = tf.InteractiveSession()\n",
    "from flows.debug import wrapper\n",
    "#sess = wrapper(sess)\n",
    "#init = [tf.global_variables_initializer(), tf.variables_initializer(upd_vars)]\n",
    "init = tf.global_variables_initializer()\n",
    "\n",
    "sess.run(init)\n",
    "\n",
    "writer = tf.summary.FileWriter('/tmp/tfdbg/gvar_cond4_cont_corrected')\n",
    "\n",
    "def validate_year(year):\n",
    "    cdic = {model.name:model for model in models}\n",
    "    preds = {model.name:[] for model in models}\n",
    "    preds_t = {model.name: model.preds for model in models}\n",
    "\n",
    "    for step in range(3):\n",
    "        preds_i = sess.run(preds_t, {current_year:year})\n",
    "        preds_i = {k:v.mean(axis=1) for k,v in preds_i.items()}\n",
    "        for k in preds.keys():\n",
    "            preds[k].append(preds_i[k][cdic[k].years > year])\n",
    "            \n",
    "    mean_pred = {k:np.mean(v, axis=0) for k,v in preds.items()}\n",
    "    for c, pred in mean_pred.items():\n",
    "        pred_years = [x for x in YEARS if x > year]\n",
    "        pred = pd.DataFrame(pred.T, columns=pred_years)\n",
    "        mean_pred[c] = pred\n",
    "\n",
    "    for model in models:\n",
    "        try:\n",
    "            a = model.data_raw.loc[:,year].values[:VAR_DIM]\n",
    "        except KeyError:\n",
    "            a = np.zeros(VAR_DIM, dtype=floatX)*np.nan\n",
    "        mean_pred[model.name]['CYEAR={}'.format(year)] = a\n",
    "    return mean_pred\n",
    "\n",
    "saver.restore(sess, '../shrinkage_cond-MP-multisample/save/gvar_hier_fullcond1000-MP')"
   ]
  },
  {
   "cell_type": "code",
   "execution_count": 2,
   "metadata": {},
   "outputs": [],
   "source": [
    "ced = tf.stack([indivs['AUS'], global_inf.output], axis=0)"
   ]
  },
  {
   "cell_type": "code",
   "execution_count": 3,
   "metadata": {},
   "outputs": [
    {
     "data": {
      "text/plain": [
       "<tf.Tensor 'stack:0' shape=(2, 1024, 36) dtype=float32>"
      ]
     },
     "execution_count": 3,
     "metadata": {},
     "output_type": "execute_result"
    }
   ],
   "source": [
    "ced"
   ]
  },
  {
   "cell_type": "code",
   "execution_count": 4,
   "metadata": {},
   "outputs": [],
   "source": [
    "x = ced.eval()"
   ]
  },
  {
   "cell_type": "code",
   "execution_count": 5,
   "metadata": {},
   "outputs": [],
   "source": [
    "from matplotlib import pyplot as plt\n",
    "import seaborn as sns"
   ]
  },
  {
   "cell_type": "code",
   "execution_count": 12,
   "metadata": {},
   "outputs": [
    {
     "data": {
      "image/png": "[encoded data removed]",
      "text/plain": [
       "<Figure size 432x288 with 1 Axes>"
      ]
     },
     "metadata": {},
     "output_type": "display_data"
    }
   ],
   "source": [
    "i = 3\n",
    "sns.kdeplot(x[0,:,i], x[1,:,i])\n",
    "plt.show()"
   ]
  },
  {
   "cell_type": "code",
   "execution_count": 10,
   "metadata": {},
   "outputs": [
    {
     "data": {
      "text/plain": [
       "array([ 3.57949026e-02, -5.37119526e-03, -9.67160857e-04,  2.81867653e-01,\n",
       "       -7.73592144e-02,  3.17367077e-01, -1.61387138e-02, -1.31384030e-01,\n",
       "        2.17815284e-02,  2.49058217e-01, -6.14508927e-01,  1.06192499e-01,\n",
       "       -1.16145223e-01, -4.66810120e-03, -1.64970326e+00,  1.54061364e-02,\n",
       "       -8.75951469e-01, -1.98326074e-02,  7.81551749e-02,  8.78148302e-02,\n",
       "        3.00762095e-02,  2.66057134e-01,  2.47089732e-02,  1.67439088e-01,\n",
       "       -1.92615017e-01, -1.85839221e-01,  2.47151740e-02, -5.61122477e-01,\n",
       "        4.92065549e-01,  8.89935374e-01,  1.20212056e-01, -1.97982073e-01,\n",
       "        3.81326564e-02, -1.34253763e-02, -3.40375900e-01,  2.30976921e-02],\n",
       "      dtype=float32)"
      ]
     },
     "execution_count": 10,
     "metadata": {},
     "output_type": "execute_result"
    }
   ],
   "source": [
    "np.mean(x[0], axis=0)"
   ]
  },
  {
   "cell_type": "code",
   "execution_count": 11,
   "metadata": {},
   "outputs": [
    {
     "data": {
      "text/plain": [
       "array([0.01986072, 0.0149078 , 0.01692536, 0.01151797, 0.03908845,\n",
       "       0.01821125, 0.03998533, 0.0150099 , 0.01443463, 0.01358327,\n",
       "       0.0125126 , 0.01605324, 0.01000496, 0.07536656, 0.015585  ,\n",
       "       0.08175133, 0.0154654 , 0.01414653, 0.0126323 , 0.01180744,\n",
       "       0.01362043, 0.01032354, 0.02678472, 0.01567221, 0.02615193,\n",
       "       0.0142639 , 0.0146503 , 0.01553839, 0.01294235, 0.01992571,\n",
       "       0.01103715, 0.05816751, 0.01753474, 0.07048482, 0.01784244,\n",
       "       0.01574476], dtype=float32)"
      ]
     },
     "execution_count": 11,
     "metadata": {},
     "output_type": "execute_result"
    }
   ],
   "source": [
    "np.std(x[0], axis=0)"
   ]
  },
  {
   "cell_type": "code",
   "execution_count": null,
   "metadata": {},
   "outputs": [],
   "source": []
  }
 ],
 "metadata": {
  "kernelspec": {
   "display_name": "py3.6_gpu",
   "language": "python",
   "name": "myenv"
  },
  "language_info": {
   "codemirror_mode": {
    "name": "ipython",
    "version": 3
   },
   "file_extension": ".py",
   "mimetype": "text/x-python",
   "name": "python",
   "nbconvert_exporter": "python",
   "pygments_lexer": "ipython3",
   "version": "3.6.4"
  }
 },
 "nbformat": 4,
 "nbformat_minor": 2
}
