{
 "cells": [
  {
   "cell_type": "code",
   "execution_count": 1,
   "metadata": {},
   "outputs": [],
   "source": [
    "import tensorflow as tf\n",
    "from flows import NormalRW, DFlow, ResFlow, NVPFlow, phase, Normal, Linear, CFlow, FlowSequence\n",
    "from flows.config import floatX\n",
    "import numpy as np\n",
    "from matplotlib import pyplot as plt\n",
    "import seaborn as sns\n",
    "\n",
    "np.random.seed(1234)"
   ]
  },
  {
   "cell_type": "code",
   "execution_count": null,
   "metadata": {},
   "outputs": [],
   "source": []
  },
  {
   "cell_type": "code",
   "execution_count": 5,
   "metadata": {},
   "outputs": [],
   "source": [
    "n = 32\n",
    "s1 = 0.02\n",
    "s0 = 0.45\n",
    "dim = [3,4]\n",
    "\n",
    "params = []\n",
    "params.append(np.random.normal(size=dim, scale=s0))\n",
    "for i in range(n-1):\n",
    "    new = params[-1] + np.random.normal(scale=s1, size=dim)\n",
    "    params.append(new)\n",
    "params = np.array(params, dtype=floatX)\n",
    "\n",
    "PWalk = NormalRW(None, sigma=s1, sigma0=s0)"
   ]
  },
  {
   "cell_type": "code",
   "execution_count": 6,
   "metadata": {},
   "outputs": [
    {
     "data": {
      "text/plain": [
       "((32, 3, 4), 0.21214582367962187)"
      ]
     },
     "execution_count": 6,
     "metadata": {},
     "output_type": "execute_result"
    }
   ],
   "source": [
    "params.shape, params[0,0,0]"
   ]
  },
  {
   "cell_type": "code",
   "execution_count": 7,
   "metadata": {},
   "outputs": [],
   "source": [
    "observ_std = 0.07\n",
    "\n",
    "def autoregr(X, param):\n",
    "    d = param[:,:3]\n",
    "    X = np.matmul(d, X) + param[:,-1] + np.random.normal(size=[3], scale=observ_std)\n",
    "    return X\n",
    "\n",
    "def autoregr_tf(X, param):\n",
    "    d = param[:,:3]\n",
    "    X = tf.matmul(d, X)[:,0] + param[:,-1]\n",
    "    return X"
   ]
  },
  {
   "cell_type": "code",
   "execution_count": 8,
   "metadata": {},
   "outputs": [],
   "source": [
    "xs = [np.random.normal(size=dim[0])]\n",
    "for i in range(n-1):\n",
    "    xs.append(autoregr(xs[i], params[i]))\n",
    "xs = np.array(xs)[np.newaxis,:].astype(floatX)"
   ]
  },
  {
   "cell_type": "code",
   "execution_count": 9,
   "metadata": {},
   "outputs": [
    {
     "data": {
      "text/plain": [
       "array([[[ 1.93464234e-01, -4.96744938e-01,  1.03272322e+00],\n",
       "        [ 7.10603413e-01, -2.00919150e-01,  1.42183434e+00],\n",
       "        [ 1.07420666e+00, -1.02354294e-01,  1.42958677e+00],\n",
       "        [ 1.12812170e+00, -1.96849318e-01,  1.35667937e+00],\n",
       "        [ 1.19191134e+00, -3.13971820e-01,  1.39904218e+00],\n",
       "        [ 1.44836144e+00, -3.60622825e-01,  1.55039966e+00],\n",
       "        [ 1.51738955e+00, -3.94575590e-01,  1.72697328e+00],\n",
       "        [ 1.64518120e+00, -1.55751523e-01,  2.05954617e+00],\n",
       "        [ 1.93182283e+00, -4.75234955e-03,  1.82964517e+00],\n",
       "        [ 1.71150569e+00, -1.03043856e-01,  1.54524466e+00],\n",
       "        [ 1.42083518e+00, -2.81987230e-01,  1.60378598e+00],\n",
       "        [ 1.54145973e+00, -4.15680158e-01,  1.73974413e+00],\n",
       "        [ 1.68464460e+00, -4.48550845e-01,  2.08756546e+00],\n",
       "        [ 2.14688552e+00, -3.75741862e-01,  2.32043762e+00],\n",
       "        [ 2.30865421e+00, -4.16004568e-01,  2.39870723e+00],\n",
       "        [ 2.44590798e+00, -5.63656465e-01,  2.56920997e+00],\n",
       "        [ 2.69030337e+00, -6.24700521e-01,  2.75057683e+00],\n",
       "        [ 2.90933377e+00, -6.50740323e-01,  3.03333796e+00],\n",
       "        [ 3.22538286e+00, -5.08194824e-01,  3.35603236e+00],\n",
       "        [ 3.46254272e+00, -3.89355332e-01,  3.51549150e+00],\n",
       "        [ 3.58282810e+00, -4.74488056e-01,  3.56163241e+00],\n",
       "        [ 3.76732742e+00, -5.88889996e-01,  3.65948731e+00],\n",
       "        [ 3.68940081e+00, -6.93777675e-01,  4.07594919e+00],\n",
       "        [ 4.20860543e+00, -6.59776917e-01,  4.47154933e+00],\n",
       "        [ 4.61935315e+00, -7.93995223e-01,  4.61265577e+00],\n",
       "        [ 4.87866636e+00, -9.65873473e-01,  4.73365359e+00],\n",
       "        [ 5.22132273e+00, -1.26262289e+00,  5.22856262e+00],\n",
       "        [ 5.96942691e+00, -1.39766401e+00,  6.02643912e+00],\n",
       "        [ 6.90031620e+00, -1.44300568e+00,  6.90458479e+00],\n",
       "        [ 8.08012079e+00, -1.35615141e+00,  7.43757435e+00],\n",
       "        [ 8.84008419e+00, -1.88417267e+00,  7.99087511e+00],\n",
       "        [ 9.90932747e+00, -2.08491687e+00,  9.07749389e+00]]])"
      ]
     },
     "execution_count": 9,
     "metadata": {},
     "output_type": "execute_result"
    }
   ],
   "source": [
    "xs"
   ]
  },
  {
   "cell_type": "code",
   "execution_count": 10,
   "metadata": {},
   "outputs": [
    {
     "name": "stdout",
     "output_type": "stream",
     "text": [
      "shape (1, 384)\n"
     ]
    }
   ],
   "source": [
    "# conf = [[ResFlow(dim=n*dim[0]*dim[1], name='res{}'.format(i)), \n",
    "#          NVPFlow(dim=n*dim[0]*dim[1], name='nvp{}'.format(i))] for i in range(2)]\n",
    "# conf = sum(conf, [])\n",
    "\n",
    "#conf = [NVPFlow(dim=n*dim[0]*dim[1], name='res{}'.format(i)) for i in range(4)]\n",
    "conf = [Linear(dim=n*dim[0]*dim[1])]\n",
    "# conf = [CFlow(dim=n*dim[0]*dim[1], name='CFlow')]\n",
    "\n",
    "output_flow = DFlow(conf)"
   ]
  },
  {
   "cell_type": "code",
   "execution_count": 11,
   "metadata": {},
   "outputs": [
    {
     "data": {
      "text/plain": [
       "[1, 384]"
      ]
     },
     "execution_count": 11,
     "metadata": {},
     "output_type": "execute_result"
    }
   ],
   "source": [
    "output_flow.base.dim"
   ]
  },
  {
   "cell_type": "code",
   "execution_count": 12,
   "metadata": {},
   "outputs": [
    {
     "data": {
      "text/plain": [
       "<tf.Tensor 'LinFlow/add:0' shape=(1, 384) dtype=float64>"
      ]
     },
     "execution_count": 12,
     "metadata": {},
     "output_type": "execute_result"
    }
   ],
   "source": [
    "output_flow.output"
   ]
  },
  {
   "cell_type": "code",
   "execution_count": 13,
   "metadata": {},
   "outputs": [],
   "source": [
    "outputs = tf.reshape(output_flow.output, [1,n,dim[0]*dim[1]])"
   ]
  },
  {
   "cell_type": "code",
   "execution_count": 14,
   "metadata": {},
   "outputs": [
    {
     "data": {
      "text/plain": [
       "<tf.Tensor 'Reshape:0' shape=(1, 32, 12) dtype=float64>"
      ]
     },
     "execution_count": 14,
     "metadata": {},
     "output_type": "execute_result"
    }
   ],
   "source": [
    "outputs"
   ]
  },
  {
   "cell_type": "code",
   "execution_count": 15,
   "metadata": {},
   "outputs": [],
   "source": [
    "prior = PWalk.logdens(outputs, mean=False)"
   ]
  },
  {
   "cell_type": "code",
   "execution_count": 16,
   "metadata": {},
   "outputs": [],
   "source": [
    "#outputs = tf.cast(outputs, tf.float64)"
   ]
  },
  {
   "cell_type": "code",
   "execution_count": 17,
   "metadata": {},
   "outputs": [
    {
     "data": {
      "text/plain": [
       "<tf.Tensor 'add_5:0' shape=() dtype=float64>"
      ]
     },
     "execution_count": 17,
     "metadata": {},
     "output_type": "execute_result"
    }
   ],
   "source": [
    "prior"
   ]
  },
  {
   "cell_type": "code",
   "execution_count": 18,
   "metadata": {},
   "outputs": [],
   "source": [
    "def create_loglik():\n",
    "    obs_d = Normal(dim=None, sigma=observ_std)\n",
    "    out = tf.reshape(outputs, [n, 3, 4])\n",
    "    \n",
    "    ll = 0\n",
    "    for i in range(n-1):\n",
    "        pred = xs[0,i+1] - autoregr_tf(xs[0,i][:,np.newaxis], out[i])\n",
    "        ll += obs_d.logdens(pred, full_reduce=True, mean=False)\n",
    "    return ll"
   ]
  },
  {
   "cell_type": "code",
   "execution_count": 19,
   "metadata": {},
   "outputs": [],
   "source": [
    "logl = create_loglik()"
   ]
  },
  {
   "cell_type": "code",
   "execution_count": 20,
   "metadata": {},
   "outputs": [
    {
     "data": {
      "text/plain": [
       "(1, 32, 3)"
      ]
     },
     "execution_count": 20,
     "metadata": {},
     "output_type": "execute_result"
    }
   ],
   "source": [
    "xs.shape"
   ]
  },
  {
   "cell_type": "code",
   "execution_count": 21,
   "metadata": {},
   "outputs": [
    {
     "data": {
      "text/plain": [
       "<tf.Tensor 'add_98:0' shape=() dtype=float64>"
      ]
     },
     "execution_count": 21,
     "metadata": {},
     "output_type": "execute_result"
    }
   ],
   "source": [
    "logl"
   ]
  },
  {
   "cell_type": "code",
   "execution_count": 22,
   "metadata": {},
   "outputs": [],
   "source": [
    "ent = output_flow.logdens"
   ]
  },
  {
   "cell_type": "code",
   "execution_count": 23,
   "metadata": {},
   "outputs": [
    {
     "data": {
      "text/plain": [
       "<tf.Tensor 'sub_1:0' shape=(1,) dtype=float64>"
      ]
     },
     "execution_count": 23,
     "metadata": {},
     "output_type": "execute_result"
    }
   ],
   "source": [
    "ent"
   ]
  },
  {
   "cell_type": "code",
   "execution_count": 24,
   "metadata": {},
   "outputs": [],
   "source": [
    "loss = -logl + ent - prior\n",
    "loss /= n*dim[0]*dim[1]"
   ]
  },
  {
   "cell_type": "code",
   "execution_count": 25,
   "metadata": {},
   "outputs": [],
   "source": [
    "opt = tf.train.AdamOptimizer(0.001).minimize(loss)"
   ]
  },
  {
   "cell_type": "code",
   "execution_count": 26,
   "metadata": {},
   "outputs": [],
   "source": [
    "sess = tf.InteractiveSession()"
   ]
  },
  {
   "cell_type": "code",
   "execution_count": 27,
   "metadata": {},
   "outputs": [],
   "source": [
    "tf.global_variables_initializer().run()"
   ]
  },
  {
   "cell_type": "code",
   "execution_count": 28,
   "metadata": {},
   "outputs": [
    {
     "data": {
      "text/plain": [
       "(-354412.2054560293, -1045889.3773148493)"
      ]
     },
     "execution_count": 28,
     "metadata": {},
     "output_type": "execute_result"
    }
   ],
   "source": [
    "logl.eval(), prior.eval()"
   ]
  },
  {
   "cell_type": "code",
   "execution_count": 29,
   "metadata": {},
   "outputs": [
    {
     "data": {
      "text/plain": [
       "array([3527.10252086])"
      ]
     },
     "execution_count": 29,
     "metadata": {},
     "output_type": "execute_result"
    }
   ],
   "source": [
    "loss.eval()"
   ]
  },
  {
   "cell_type": "code",
   "execution_count": 30,
   "metadata": {},
   "outputs": [],
   "source": [
    "stage = 0"
   ]
  },
  {
   "cell_type": "code",
   "execution_count": 31,
   "metadata": {
    "scrolled": true
   },
   "outputs": [
    {
     "name": "stdout",
     "output_type": "stream",
     "text": [
      "0 [1257.90138201]\n",
      "1 [852.91734004]\n",
      "2 [391.20371954]\n",
      "3 [287.37311225]\n",
      "4 [191.88890727]\n",
      "5 [117.41870866]\n",
      "6 [81.15389793]\n",
      "7 [50.42880583]\n",
      "8 [44.09821458]\n",
      "9 [26.07027727]\n",
      "10 [17.38469646]\n",
      "11 [10.36974653]\n",
      "12 [8.83546189]\n",
      "13 [5.3422921]\n",
      "14 [2.8070863]\n",
      "15 [1.60355062]\n",
      "16 [1.65597241]\n",
      "17 [1.13124256]\n",
      "18 [0.81044032]\n",
      "19 [0.48534045]\n",
      "20 [0.45662753]\n",
      "21 [0.37159321]\n",
      "22 [0.35625826]\n",
      "23 [0.36380924]\n",
      "24 [0.37903681]\n",
      "25 [0.31705407]\n",
      "26 [0.28381676]\n",
      "27 [0.32315946]\n",
      "28 [0.30283532]\n",
      "29 [0.38145929]\n",
      "30 [0.29358708]\n",
      "31 [0.27339525]\n",
      "32 [0.27952017]\n",
      "33 [0.27315848]\n",
      "34 [0.26670353]\n",
      "35 [0.31974575]\n",
      "36 [0.23512025]\n",
      "37 [0.28158203]\n",
      "38 [0.29735195]\n",
      "39 [0.27354516]\n",
      "40 [0.29464609]\n",
      "41 [0.32013783]\n",
      "42 [0.21283246]\n",
      "43 [0.2743937]\n",
      "44 [0.27015593]\n",
      "45 [0.26686027]\n",
      "46 [0.21896958]\n",
      "47 [0.22715701]\n",
      "48 [0.23692578]\n",
      "49 [0.25072768]\n",
      "50 [0.26741956]\n",
      "51 [0.22842001]\n",
      "52 [0.24139098]\n",
      "53 [0.2296852]\n",
      "54 [0.28845114]\n",
      "55 [0.25425214]\n",
      "56 [0.24686732]\n",
      "57 [0.20882633]\n",
      "58 [0.27447021]\n",
      "59 [0.23764027]\n"
     ]
    }
   ],
   "source": [
    "for stage in range(stage, stage+60):\n",
    "    for _ in range(900):\n",
    "        l, _ = sess.run([loss, opt], {phase:True})\n",
    "    print(stage, l)"
   ]
  },
  {
   "cell_type": "code",
   "execution_count": 32,
   "metadata": {},
   "outputs": [],
   "source": [
    "out = tf.reshape(outputs, [n, 3, 4])"
   ]
  },
  {
   "cell_type": "code",
   "execution_count": 33,
   "metadata": {},
   "outputs": [],
   "source": [
    "samples = []\n",
    "for _ in range(1000):\n",
    "    s = out.eval()\n",
    "    samples.append(s)\n",
    "samples = np.array(samples)"
   ]
  },
  {
   "cell_type": "code",
   "execution_count": 34,
   "metadata": {},
   "outputs": [
    {
     "data": {
      "text/plain": [
       "(1000, 32, 3, 4)"
      ]
     },
     "execution_count": 34,
     "metadata": {},
     "output_type": "execute_result"
    }
   ],
   "source": [
    "samples.shape"
   ]
  },
  {
   "cell_type": "code",
   "execution_count": 40,
   "metadata": {},
   "outputs": [
    {
     "data": {
      "image/png": "[encoded data removed]",
      "text/plain": [
       "<matplotlib.figure.Figure at 0x7efe8bfe6550>"
      ]
     },
     "metadata": {},
     "output_type": "display_data"
    }
   ],
   "source": [
    "sns.kdeplot(samples[:,0,0,0], samples[:,1,0,0])\n",
    "plt.show()"
   ]
  },
  {
   "cell_type": "code",
   "execution_count": 36,
   "metadata": {},
   "outputs": [],
   "source": [
    "est = samples.mean(axis=0)"
   ]
  },
  {
   "cell_type": "code",
   "execution_count": 37,
   "metadata": {},
   "outputs": [],
   "source": [
    "t = 16\n",
    "a = params[t]\n",
    "b = est[t]"
   ]
  },
  {
   "cell_type": "code",
   "execution_count": 38,
   "metadata": {},
   "outputs": [
    {
     "data": {
      "text/plain": [
       "array([[ 0.22971236, -0.61925557,  0.70763764, -0.15094097],\n",
       "       [-0.38289507,  0.43885698,  0.39975687, -0.40450928],\n",
       "       [ 0.08321515, -1.127141  ,  0.59731539,  0.47429672]])"
      ]
     },
     "execution_count": 38,
     "metadata": {},
     "output_type": "execute_result"
    }
   ],
   "source": [
    "a"
   ]
  },
  {
   "cell_type": "code",
   "execution_count": 39,
   "metadata": {},
   "outputs": [
    {
     "data": {
      "text/plain": [
       "array([[ 0.37074513, -0.28362124,  0.59875745,  0.08497264],\n",
       "       [-0.15540275,  0.24372834,  0.04869914, -0.17548147],\n",
       "       [ 0.18909729, -0.70868883,  0.60746717,  0.4256448 ]])"
      ]
     },
     "execution_count": 39,
     "metadata": {},
     "output_type": "execute_result"
    }
   ],
   "source": [
    "b"
   ]
  },
  {
   "cell_type": "code",
   "execution_count": null,
   "metadata": {},
   "outputs": [],
   "source": []
  }
 ],
 "metadata": {
  "kernelspec": {
   "display_name": "Python 3.6 (sys p)",
   "language": "python",
   "name": "py3.6"
  },
  "language_info": {
   "codemirror_mode": {
    "name": "ipython",
    "version": 3
   },
   "file_extension": ".py",
   "mimetype": "text/x-python",
   "name": "python",
   "nbconvert_exporter": "python",
   "pygments_lexer": "ipython3",
   "version": "3.6.4"
  }
 },
 "nbformat": 4,
 "nbformat_minor": 2
}
