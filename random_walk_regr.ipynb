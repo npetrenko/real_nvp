{
 "cells": [
  {
   "cell_type": "code",
   "execution_count": 1,
   "metadata": {},
   "outputs": [],
   "source": [
    "import tensorflow as tf\n",
    "from flows import NormalRW, DFlow, ResFlow, NVPFlow, phase, Normal, Linear\n",
    "from flows.config import floatX\n",
    "import numpy as np\n",
    "from matplotlib import pyplot as plt\n",
    "import seaborn as sns\n",
    "\n",
    "np.random.seed(1234)"
   ]
  },
  {
   "cell_type": "code",
   "execution_count": 2,
   "metadata": {},
   "outputs": [],
   "source": [
    "n = 32\n",
    "s1 = 0.02\n",
    "m1 = 0.\n",
    "s0 = 0.8\n",
    "dim = [3,4]\n",
    "\n",
    "params = []\n",
    "params.append(np.random.normal(size=dim, scale=s0))\n",
    "for i in range(n-1):\n",
    "    new = params[i] + np.random.normal(loc=m1, scale=s1, size=dim)\n",
    "    params.append(new)\n",
    "params = np.array(params, dtype=floatX)\n",
    "\n",
    "PWalk = NormalRW(dim[0]*dim[1], sigma=s1, mu=m1, sigma0=s0)"
   ]
  },
  {
   "cell_type": "code",
   "execution_count": 3,
   "metadata": {},
   "outputs": [
    {
     "data": {
      "text/plain": [
       "((32, 3, 4), 0.3771481309859945)"
      ]
     },
     "execution_count": 3,
     "metadata": {},
     "output_type": "execute_result"
    }
   ],
   "source": [
    "params.shape, params[0,0,0]"
   ]
  },
  {
   "cell_type": "code",
   "execution_count": 4,
   "metadata": {},
   "outputs": [],
   "source": [
    "def autoregr(X, param):\n",
    "    d = param[:,:3]\n",
    "    X = np.matmul(d, X) + param[:,-1] + np.random.normal(size=[3], scale=0.1)\n",
    "    return X\n",
    "\n",
    "def autoregr_tf(X, param):\n",
    "    d = param[:,:3]\n",
    "    X = tf.matmul(d, X) + param[:,-1]\n",
    "    return X"
   ]
  },
  {
   "cell_type": "code",
   "execution_count": 5,
   "metadata": {},
   "outputs": [],
   "source": [
    "xs = [np.random.normal(size=dim[0])]\n",
    "for i in range(n-1):\n",
    "    xs.append(autoregr(xs[i], params[i]))\n",
    "xs = np.array(xs)[np.newaxis,:].astype(floatX)"
   ]
  },
  {
   "cell_type": "code",
   "execution_count": 6,
   "metadata": {},
   "outputs": [
    {
     "data": {
      "text/plain": [
       "array([[[ 1.93464234e-01, -4.96744938e-01,  1.03272322e+00],\n",
       "        [ 1.30582349e+00, -3.38712970e-01,  2.54924379e+00],\n",
       "        [ 3.54793064e+00,  2.00706351e-01,  3.81636480e+00],\n",
       "        [ 5.46477434e+00,  1.67773360e-01,  4.14483884e+00],\n",
       "        [ 6.76998010e+00, -7.43796558e-01,  4.55371921e+00],\n",
       "        [ 9.05670141e+00, -2.02167447e+00,  6.68942972e+00],\n",
       "        [ 1.35873228e+01, -2.39969183e+00,  1.11061538e+01],\n",
       "        [ 2.10607159e+01, -1.53600028e+00,  1.68678718e+01],\n",
       "        [ 3.07321303e+01, -9.05742505e-01,  2.08284498e+01],\n",
       "        [ 3.83863277e+01, -2.60555785e+00,  2.38206244e+01],\n",
       "        [ 4.80661560e+01, -6.36694919e+00,  3.09427547e+01],\n",
       "        [ 6.42878562e+01, -1.13100908e+01,  4.60193039e+01],\n",
       "        [ 9.54503604e+01, -1.79132967e+01,  7.28590982e+01],\n",
       "        [ 1.51942657e+02, -2.42772538e+01,  1.15330651e+02],\n",
       "        [ 2.28657466e+02, -3.41147675e+01,  1.73227902e+02],\n",
       "        [ 3.44773865e+02, -5.24379264e+01,  2.60218099e+02],\n",
       "        [ 5.08402881e+02, -7.61376503e+01,  3.92436487e+02],\n",
       "        [ 7.53944540e+02, -1.05682652e+02,  5.83854579e+02],\n",
       "        [ 1.12442339e+03, -1.16524145e+02,  8.81816913e+02],\n",
       "        [ 1.67312683e+03, -1.37543155e+02,  1.25249444e+03],\n",
       "        [ 2.41944090e+03, -2.52955003e+02,  1.75570003e+03],\n",
       "        [ 3.50346091e+03, -4.78363915e+02,  2.60288236e+03],\n",
       "        [ 5.16546776e+03, -8.30078223e+02,  4.16229921e+03],\n",
       "        [ 8.18870997e+03, -1.15127927e+03,  6.70894635e+03],\n",
       "        [ 1.29875760e+04, -2.00285496e+03,  1.02946913e+04],\n",
       "        [ 2.03406350e+04, -3.76359106e+03,  1.59754301e+04],\n",
       "        [ 3.24015663e+04, -6.76554090e+03,  2.63369211e+04],\n",
       "        [ 5.34586003e+04, -1.05906981e+04,  4.52269625e+04],\n",
       "        [ 9.07818572e+04, -1.47286739e+04,  7.53096625e+04],\n",
       "        [ 1.51738565e+05, -2.21179263e+04,  1.16980755e+05],\n",
       "        [ 2.40438665e+05, -4.50193401e+04,  1.86292593e+05],\n",
       "        [ 3.97374837e+05, -7.26612106e+04,  3.16222564e+05]]])"
      ]
     },
     "execution_count": 6,
     "metadata": {},
     "output_type": "execute_result"
    }
   ],
   "source": [
    "xs"
   ]
  },
  {
   "cell_type": "code",
   "execution_count": 7,
   "metadata": {},
   "outputs": [],
   "source": [
    "# conf = [[ResFlow(dim=n*dim[0]*dim[1], name='res{}'.format(i)), \n",
    "#          NVPFlow(dim=n*dim[0]*dim[1], name='nvp{}'.format(i))] for i in range(2)]\n",
    "# conf = sum(conf, [])\n",
    "\n",
    "#conf = [NVPFlow(dim=n*dim[0]*dim[1], name='res{}'.format(i)) for i in range(4)]\n",
    "conf = [Linear(dim=n*dim[0]*dim[1])]\n",
    "\n",
    "output_flow = DFlow(conf)"
   ]
  },
  {
   "cell_type": "code",
   "execution_count": 8,
   "metadata": {},
   "outputs": [
    {
     "data": {
      "text/plain": [
       "<tf.Tensor 'LinFlow/add:0' shape=(1, 384) dtype=float64>"
      ]
     },
     "execution_count": 8,
     "metadata": {},
     "output_type": "execute_result"
    }
   ],
   "source": [
    "output_flow.output"
   ]
  },
  {
   "cell_type": "code",
   "execution_count": 9,
   "metadata": {},
   "outputs": [],
   "source": [
    "outputs = tf.reshape(output_flow.output, [1,n,dim[0]*dim[1]])"
   ]
  },
  {
   "cell_type": "code",
   "execution_count": 10,
   "metadata": {},
   "outputs": [
    {
     "data": {
      "text/plain": [
       "<tf.Tensor 'Reshape:0' shape=(1, 32, 12) dtype=float64>"
      ]
     },
     "execution_count": 10,
     "metadata": {},
     "output_type": "execute_result"
    }
   ],
   "source": [
    "outputs"
   ]
  },
  {
   "cell_type": "code",
   "execution_count": 11,
   "metadata": {},
   "outputs": [],
   "source": [
    "prior = PWalk.logdens(outputs, mean=True)"
   ]
  },
  {
   "cell_type": "code",
   "execution_count": 12,
   "metadata": {},
   "outputs": [],
   "source": [
    "#outputs = tf.cast(outputs, tf.float64)"
   ]
  },
  {
   "cell_type": "code",
   "execution_count": 13,
   "metadata": {},
   "outputs": [
    {
     "data": {
      "text/plain": [
       "<tf.Tensor 'add_5:0' shape=() dtype=float64>"
      ]
     },
     "execution_count": 13,
     "metadata": {},
     "output_type": "execute_result"
    }
   ],
   "source": [
    "prior"
   ]
  },
  {
   "cell_type": "code",
   "execution_count": 14,
   "metadata": {},
   "outputs": [],
   "source": [
    "def create_loglik():\n",
    "    obs_d = Normal(dim=None, sigma=0.1, mu=0)\n",
    "    out = tf.reshape(outputs, [n, 3, 4])\n",
    "    \n",
    "    ll = 0\n",
    "    for i in range(n-1):\n",
    "        pred = xs[0,i+1] - autoregr_tf(xs[0,i][:,np.newaxis], out[i])\n",
    "        ll += obs_d.logdens(pred, full_reduce=True, mean=True)\n",
    "    return ll"
   ]
  },
  {
   "cell_type": "code",
   "execution_count": 15,
   "metadata": {},
   "outputs": [],
   "source": [
    "logl = create_loglik()"
   ]
  },
  {
   "cell_type": "code",
   "execution_count": 16,
   "metadata": {},
   "outputs": [
    {
     "data": {
      "text/plain": [
       "(1, 32, 3)"
      ]
     },
     "execution_count": 16,
     "metadata": {},
     "output_type": "execute_result"
    }
   ],
   "source": [
    "xs.shape"
   ]
  },
  {
   "cell_type": "code",
   "execution_count": 17,
   "metadata": {},
   "outputs": [
    {
     "data": {
      "text/plain": [
       "<tf.Tensor 'add_98:0' shape=() dtype=float64>"
      ]
     },
     "execution_count": 17,
     "metadata": {},
     "output_type": "execute_result"
    }
   ],
   "source": [
    "logl"
   ]
  },
  {
   "cell_type": "code",
   "execution_count": 18,
   "metadata": {},
   "outputs": [],
   "source": [
    "ent = output_flow.logdens"
   ]
  },
  {
   "cell_type": "code",
   "execution_count": 19,
   "metadata": {},
   "outputs": [
    {
     "data": {
      "text/plain": [
       "<tf.Tensor 'sub_1:0' shape=(1,) dtype=float64>"
      ]
     },
     "execution_count": 19,
     "metadata": {},
     "output_type": "execute_result"
    }
   ],
   "source": [
    "ent"
   ]
  },
  {
   "cell_type": "code",
   "execution_count": 20,
   "metadata": {},
   "outputs": [],
   "source": [
    "loss = -logl/(n*dim[0]*dim[1]) + (ent - prior)/(xs.shape[1]*xs.shape[2])"
   ]
  },
  {
   "cell_type": "code",
   "execution_count": 21,
   "metadata": {},
   "outputs": [],
   "source": [
    "opt1 = tf.train.AdamOptimizer(0.0001).minimize(loss)\n",
    "opt2 = tf.train.GradientDescentOptimizer(0.000001).minimize(loss)"
   ]
  },
  {
   "cell_type": "code",
   "execution_count": 22,
   "metadata": {},
   "outputs": [],
   "source": [
    "opt = opt1"
   ]
  },
  {
   "cell_type": "code",
   "execution_count": 23,
   "metadata": {},
   "outputs": [],
   "source": [
    "sess = tf.InteractiveSession()"
   ]
  },
  {
   "cell_type": "code",
   "execution_count": 24,
   "metadata": {},
   "outputs": [],
   "source": [
    "tf.global_variables_initializer().run()"
   ]
  },
  {
   "cell_type": "code",
   "execution_count": 25,
   "metadata": {},
   "outputs": [
    {
     "data": {
      "text/plain": [
       "(-14081297653588.31, -578.5550623230597, -2234.866733859692)"
      ]
     },
     "execution_count": 25,
     "metadata": {},
     "output_type": "execute_result"
    }
   ],
   "source": [
    "logl.eval(), ent.eval()[0], prior.eval()"
   ]
  },
  {
   "cell_type": "code",
   "execution_count": 26,
   "metadata": {},
   "outputs": [],
   "source": [
    "stage = 0"
   ]
  },
  {
   "cell_type": "code",
   "execution_count": 27,
   "metadata": {
    "scrolled": true
   },
   "outputs": [
    {
     "name": "stdout",
     "output_type": "stream",
     "text": [
      "0 [2.46477329e+10]\n",
      "1 [3.10063711e+10]\n",
      "2 [3.67741967e+10]\n",
      "3 [2.1644193e+10]\n",
      "4 [2.18753767e+10]\n",
      "5 [1.71303477e+10]\n",
      "6 [1.94384723e+10]\n",
      "7 [2.63658436e+10]\n",
      "8 [2.29759291e+10]\n",
      "9 [1.56636868e+10]\n",
      "10 [1.3006916e+10]\n",
      "11 [2.02220879e+10]\n",
      "12 [1.30740606e+10]\n",
      "13 [1.48352496e+10]\n",
      "14 [1.06273037e+10]\n",
      "15 [1.08857507e+10]\n",
      "16 [1.45757381e+10]\n",
      "17 [1.14995954e+10]\n",
      "18 [1.11932901e+10]\n",
      "19 [1.23754014e+10]\n",
      "20 [1.16901498e+10]\n",
      "21 [1.07398909e+10]\n",
      "22 [1.21994267e+10]\n",
      "23 [1.17351334e+10]\n",
      "24 [1.38443444e+10]\n",
      "25 [1.12712715e+10]\n",
      "26 [1.51501783e+10]\n",
      "27 [1.0160088e+10]\n",
      "28 [9.48656019e+09]\n",
      "29 [9.68624408e+09]\n",
      "30 [9.25809709e+09]\n",
      "31 [9.82646257e+09]\n",
      "32 [1.44232964e+10]\n",
      "33 [9.31047697e+09]\n",
      "34 [9.69171707e+09]\n",
      "35 [1.20397355e+10]\n",
      "36 [9.33298913e+09]\n",
      "37 [9.61621259e+09]\n",
      "38 [9.93018288e+09]\n",
      "39 [8.91170127e+09]\n",
      "40 [9.11362731e+09]\n",
      "41 [9.1186882e+09]\n",
      "42 [8.81167872e+09]\n",
      "43 [9.15857577e+09]\n",
      "44 [9.40493951e+09]\n",
      "45 [9.09081495e+09]\n",
      "46 [9.26492428e+09]\n",
      "47 [9.05159704e+09]\n",
      "48 [9.2575175e+09]\n",
      "49 [8.84531933e+09]\n",
      "50 [8.82501968e+09]\n",
      "51 [9.61426045e+09]\n",
      "52 [8.84153312e+09]\n",
      "53 [8.88593565e+09]\n",
      "54 [8.89911269e+09]\n",
      "55 [8.9631629e+09]\n",
      "56 [8.98687102e+09]\n",
      "57 [8.79405729e+09]\n",
      "58 [9.12675035e+09]\n",
      "59 [8.7825083e+09]\n"
     ]
    }
   ],
   "source": [
    "for stage in range(stage, stage+60):\n",
    "    for _ in range(900):\n",
    "        l, _ = sess.run([loss, opt], {phase:True})\n",
    "    print(stage, l)"
   ]
  },
  {
   "cell_type": "code",
   "execution_count": 28,
   "metadata": {},
   "outputs": [],
   "source": [
    "out = tf.reshape(outputs, [n, 3, 4])"
   ]
  },
  {
   "cell_type": "code",
   "execution_count": 29,
   "metadata": {},
   "outputs": [],
   "source": [
    "samples = []\n",
    "for _ in range(1000):\n",
    "    s = out.eval()\n",
    "    samples.append([s[3,2,3], s[4,2,3]])\n",
    "samples = np.array(samples)"
   ]
  },
  {
   "cell_type": "code",
   "execution_count": 30,
   "metadata": {},
   "outputs": [
    {
     "data": {
      "image/png": "[encoded data removed]",
      "text/plain": [
       "<matplotlib.figure.Figure at 0x7f36d40b94a8>"
      ]
     },
     "metadata": {},
     "output_type": "display_data"
    }
   ],
   "source": [
    "sns.kdeplot(samples[:,0], samples[:,1])\n",
    "plt.show()"
   ]
  },
  {
   "cell_type": "code",
   "execution_count": 31,
   "metadata": {},
   "outputs": [
    {
     "data": {
      "text/plain": [
       "0.7935568178741423"
      ]
     },
     "execution_count": 31,
     "metadata": {},
     "output_type": "execute_result"
    }
   ],
   "source": [
    "params[0,2,3]"
   ]
  },
  {
   "cell_type": "code",
   "execution_count": 32,
   "metadata": {},
   "outputs": [
    {
     "data": {
      "text/plain": [
       "1.9614602161430144"
      ]
     },
     "execution_count": 32,
     "metadata": {},
     "output_type": "execute_result"
    }
   ],
   "source": [
    "samples[:,0].mean()"
   ]
  },
  {
   "cell_type": "code",
   "execution_count": 43,
   "metadata": {},
   "outputs": [
    {
     "data": {
      "text/plain": [
       "array([[ 0.43478002, -0.99567902,  1.17428307, -0.2315298 ],\n",
       "       [-0.5733243 ,  0.65228204,  0.74914674, -0.59986248],\n",
       "       [ 0.05501751, -1.8621779 ,  0.96046363,  0.84575653]])"
      ]
     },
     "execution_count": 43,
     "metadata": {},
     "output_type": "execute_result"
    }
   ],
   "source": [
    "params[6]"
   ]
  },
  {
   "cell_type": "code",
   "execution_count": null,
   "metadata": {},
   "outputs": [],
   "source": []
  }
 ],
 "metadata": {
  "kernelspec": {
   "display_name": "Python 3.6 (sys p)",
   "language": "python",
   "name": "py3.6"
  },
  "language_info": {
   "codemirror_mode": {
    "name": "ipython",
    "version": 3
   },
   "file_extension": ".py",
   "mimetype": "text/x-python",
   "name": "python",
   "nbconvert_exporter": "python",
   "pygments_lexer": "ipython3",
   "version": "3.6.4"
  }
 },
 "nbformat": 4,
 "nbformat_minor": 2
}
