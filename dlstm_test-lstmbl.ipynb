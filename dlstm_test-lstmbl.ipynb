{
 "cells": [
  {
   "cell_type": "code",
   "execution_count": 1,
   "metadata": {},
   "outputs": [
    {
     "name": "stdout",
     "output_type": "stream",
     "text": [
      "WARNING:tensorflow:From /usr/lib/python3.6/site-packages/tensorflow/contrib/learn/python/learn/datasets/base.py:198: retry (from tensorflow.contrib.learn.python.learn.datasets.base) is deprecated and will be removed in a future version.\n",
      "Instructions for updating:\n",
      "Use the retry module or similar alternatives.\n"
     ]
    }
   ],
   "source": [
    "import tensorflow as tf\n",
    "from flows import DistLSTM, NormalRW, DFlow, NVPFlow, LogNormal, GVAR, phase,\\\n",
    "Normal, floatX, MVNormal, MVNormalRW, Linear\n",
    "import numpy as np\n",
    "import pandas as pd\n",
    "from matplotlib import pyplot as plt\n",
    "import seaborn as sns\n",
    "from tensorflow.contrib.distributions import WishartCholesky\n",
    "import flows\n",
    "import math\n",
    "\n",
    "np.random.seed(1234)"
   ]
  },
  {
   "cell_type": "code",
   "execution_count": 2,
   "metadata": {},
   "outputs": [],
   "source": [
    "data = pd.read_csv('./data/test_rus_data.csv').values.astype(floatX).T[np.newaxis][:,1:]/100"
   ]
  },
  {
   "cell_type": "code",
   "execution_count": 3,
   "metadata": {},
   "outputs": [],
   "source": [
    "data = data[:,1:] - data[:,:-1]"
   ]
  },
  {
   "cell_type": "code",
   "execution_count": 4,
   "metadata": {},
   "outputs": [
    {
     "name": "stdout",
     "output_type": "stream",
     "text": [
      "[0.43681784 0.25903015 0.01298369]\n"
     ]
    }
   ],
   "source": [
    "stds = (data[0,1:] - data[0,:-1]).std(axis=0)\n",
    "print(stds)\n",
    "data /= stds"
   ]
  },
  {
   "cell_type": "code",
   "execution_count": 5,
   "metadata": {},
   "outputs": [
    {
     "data": {
      "text/plain": [
       "False"
      ]
     },
     "execution_count": 5,
     "metadata": {},
     "output_type": "execute_result"
    }
   ],
   "source": [
    "np.any(np.isnan(data))"
   ]
  },
  {
   "cell_type": "code",
   "execution_count": 6,
   "metadata": {},
   "outputs": [],
   "source": [
    "xs = data"
   ]
  },
  {
   "cell_type": "code",
   "execution_count": 7,
   "metadata": {},
   "outputs": [
    {
     "name": "stdout",
     "output_type": "stream",
     "text": [
      "<tensorflow.python.ops.variable_scope.VariableScope object at 0x7ff4fc80dbe0>\n",
      "<tensorflow.python.ops.variable_scope.VariableScope object at 0x7ff4fc741550>\n"
     ]
    }
   ],
   "source": [
    "n = data.shape[1]\n",
    "s1_prior_d = LogNormal(1, mu=math.log(0.2), sigma=0.015)\n",
    "\n",
    "with tf.variable_scope('s1_inference', dtype=floatX):\n",
    "    mu = tf.get_variable('mu', shape=[1], initializer=tf.constant_initializer(s1_prior_d.mu))\n",
    "    logsigma = tf.get_variable('logsigma', shape=[1], \n",
    "                               initializer=tf.constant_initializer(math.log(s1_prior_d.sigma)))\n",
    "    sigma = tf.exp(logsigma)\n",
    "    s1_d = LogNormal(1, mu=mu, sigma=sigma)\n",
    "    \n",
    "s1 = s1_d.sample()\n",
    "tf.summary.scalar('s1_ord', s1[0])\n",
    "s1_prior = s1_prior_d.logdens(s1)\n",
    "    \n",
    "incr_prior_d = LogNormal(1, mu=math.log(.2), sigma=.025)\n",
    "with tf.variable_scope('incr_inference', dtype=floatX):\n",
    "    mu = tf.get_variable('mu', shape=[1], initializer=tf.constant_initializer(incr_prior_d.mu))\n",
    "    logsigma = tf.get_variable('logsigma', shape=[1], \n",
    "                               initializer=tf.constant_initializer(math.log(incr_prior_d.sigma)))\n",
    "    sigma = tf.exp(logsigma)\n",
    "    incr_d = LogNormal(1, mu=mu, sigma=sigma)\n",
    "    \n",
    "incr = incr_d.sample()\n",
    "incr_prior = incr_prior_d.logdens(incr)\n",
    "\n",
    "incr += 1.\n",
    "s_shock = s1*incr\n",
    "tf.summary.scalar('s1_shock', s_shock[0])\n",
    "s0 = 2.\n",
    "dim = [3,4]\n",
    "\n",
    "k = dim[0] * dim[1]\n",
    "# with tf.variable_scope('pwalk_inf', reuse=tf.AUTO_REUSE):\n",
    "#     ldiag = DFlow([NVPFlow(dim=k, name='ldiag_flow_' + str(i)) for i in range(4)])\n",
    "#     ldiag.logdens -= tf.reduce_sum(ldiag.output)\n",
    "# PWalk = MVNormalRW(dim[0]*dim[1], sigma=s1, sigma0=s0, name='OrdWalk', \n",
    "#                    ldiag=ldiag.output[0]+np.log(1/s1))\n",
    "# PWalk_shock = MVNormalRW(dim=dim[0]*dim[1], sigma0=s0, sigma=s_shock, name='ShockWalk', \n",
    "#                        ldiag=ldiag.output[0]+np.log(1/s1)-np.log(0.5))\n",
    "# PWalk = MVNormalRW(dim[0]*dim[1], sigma=s1, sigma0=s0, name='param_walk_prior')\n",
    "PWalk = NormalRW(dim=None, sigma0=s0, sigma=s1, name='OrdWalk')\n",
    "PWalk_shock = NormalRW(dim=None, sigma0=s0, sigma=s_shock, name='ShockWalk')"
   ]
  },
  {
   "cell_type": "code",
   "execution_count": 8,
   "metadata": {},
   "outputs": [],
   "source": [
    "def autoregr_tf(X, param):\n",
    "    d = param[:,:dim[-1]-1]\n",
    "    X = tf.matmul(X, d) + param[:,-1][np.newaxis]\n",
    "    return X"
   ]
  },
  {
   "cell_type": "code",
   "execution_count": 9,
   "metadata": {},
   "outputs": [],
   "source": [
    "gvar = GVAR(dim=dim[0]*dim[1], len=data.shape[1], name='coef_rw_inference')\n",
    "outputs = gvar.sample()\n",
    "outputs_logdens = gvar.logdens"
   ]
  },
  {
   "cell_type": "code",
   "execution_count": null,
   "metadata": {},
   "outputs": [],
   "source": []
  },
  {
   "cell_type": "code",
   "execution_count": 10,
   "metadata": {},
   "outputs": [
    {
     "data": {
      "text/plain": [
       "<tf.Tensor 'coef_rw_inference_1/VAR/logdens/add:0' shape=() dtype=float64>"
      ]
     },
     "execution_count": 10,
     "metadata": {},
     "output_type": "execute_result"
    }
   ],
   "source": [
    "outputs_logdens"
   ]
  },
  {
   "cell_type": "code",
   "execution_count": 11,
   "metadata": {},
   "outputs": [
    {
     "data": {
      "text/plain": [
       "<tf.Tensor 'coef_rw_inference_1/VAR/strided_slice_20:0' shape=(1, 20, 12) dtype=float64>"
      ]
     },
     "execution_count": 11,
     "metadata": {},
     "output_type": "execute_result"
    }
   ],
   "source": [
    "outputs"
   ]
  },
  {
   "cell_type": "code",
   "execution_count": 12,
   "metadata": {},
   "outputs": [],
   "source": [
    "prior_ord = PWalk.logdens(outputs, reduce=False)\n",
    "prior_shock = PWalk_shock.logdens(outputs, reduce=False)"
   ]
  },
  {
   "cell_type": "code",
   "execution_count": 13,
   "metadata": {},
   "outputs": [
    {
     "data": {
      "text/plain": [
       "(<tf.Tensor 'OrdWalk_2/concat:0' shape=(1, 20) dtype=float64>,\n",
       " <tf.Tensor 'ShockWalk_2/concat:0' shape=(1, 20) dtype=float64>)"
      ]
     },
     "execution_count": 13,
     "metadata": {},
     "output_type": "execute_result"
    }
   ],
   "source": [
    "prior_ord, prior_shock"
   ]
  },
  {
   "cell_type": "code",
   "execution_count": 14,
   "metadata": {},
   "outputs": [],
   "source": [
    "# aux = tf.range(0,data.shape[1]-1, dtype=floatX)[tf.newaxis,:,tf.newaxis]\n",
    "# aux"
   ]
  },
  {
   "cell_type": "code",
   "execution_count": 15,
   "metadata": {},
   "outputs": [],
   "source": [
    "shock_d = DistLSTM(2, name='Shock_Distr', sample_len=data.shape[1], state_dim=48, num_layers=1)\n",
    "# with tf.variable_scope('Shock_Distr', dtype=floatX):\n",
    "#     logits = tf.get_variable('bern_logits', shape=[1,data.shape[1],1], \n",
    "#                              initializer=tf.random_normal_initializer(stddev=0.1, mean=-1.))\n",
    "#     shock_d = tf.distributions.Bernoulli(logits=logits)"
   ]
  },
  {
   "cell_type": "code",
   "execution_count": 16,
   "metadata": {},
   "outputs": [
    {
     "name": "stdout",
     "output_type": "stream",
     "text": [
      "Post_step Tensor(\"Shock_Distr_1/scan/while/Multinomial_1/sample/Reshape_3:0\", shape=(1, 2), dtype=float32)\n"
     ]
    }
   ],
   "source": [
    "shocks = shock_d.sample()\n",
    "spd = tf.contrib.distributions.Poisson(rate=4.)"
   ]
  },
  {
   "cell_type": "code",
   "execution_count": 17,
   "metadata": {},
   "outputs": [],
   "source": [
    "penalty = tf.Variable(0, trainable=False)\n",
    "penalty_op = None#tf.assign_sub(penalty, 1.)\n",
    "tf.summary.scalar('penalty', penalty)\n",
    "with tf.name_scope('shock_prior'):\n",
    "    num_shocks = tf.reduce_sum(tf.cast(shocks[:,:,0], tf.float32))\n",
    "    sp = spd.log_prob(num_shocks)\n",
    "    shock_prior = tf.where(tf.abs(num_shocks - 4) < 0.5, 0, penalty)\n",
    "    shock_prior = tf.cast(shock_prior, tf.float64) + tf.cast(sp, floatX)\n",
    "    \n",
    "    tf.summary.scalar('num_shocks', num_shocks)\n",
    "    tf.summary.scalar('shock_prior', shock_prior)"
   ]
  },
  {
   "cell_type": "code",
   "execution_count": 18,
   "metadata": {},
   "outputs": [],
   "source": [
    "with tf.name_scope('RW_prior'):\n",
    "    tmp = tf.cast(shocks[:,:,0], floatX)\n",
    "    prior = tmp*prior_shock + (1-tmp)*prior_ord\n",
    "    prior = tf.reduce_sum(prior) + shock_prior\n",
    "    \n",
    "    tf.summary.scalar('prior', prior)"
   ]
  },
  {
   "cell_type": "code",
   "execution_count": 19,
   "metadata": {},
   "outputs": [],
   "source": [
    "obs_d_prior = LogNormal(dim=None, mu=math.log(0.5), sigma=0.5)\n",
    "\n",
    "with tf.variable_scope('obs_d_inference', dtype=floatX):\n",
    "    mu = tf.get_variable('mu', shape=[1], initializer=tf.constant_initializer(math.log(0.5)))\n",
    "    logsigma = tf.get_variable('logsigma', shape=[1], initializer=tf.constant_initializer(-5))\n",
    "    sigma = tf.exp(logsigma)\n",
    "    obs_d_post = LogNormal(1, mu=mu, sigma=sigma)\n",
    "    obs_ds = obs_d_post.sample()\n",
    "    obs_ds_logdens = obs_d_post.logdens(obs_ds)\n",
    "    tf.summary.scalar('observ_sigma', obs_ds[0])"
   ]
  },
  {
   "cell_type": "code",
   "execution_count": 20,
   "metadata": {},
   "outputs": [
    {
     "data": {
      "text/plain": [
       "(1, 20, 3)"
      ]
     },
     "execution_count": 20,
     "metadata": {},
     "output_type": "execute_result"
    }
   ],
   "source": [
    "xs.shape"
   ]
  },
  {
   "cell_type": "code",
   "execution_count": 21,
   "metadata": {},
   "outputs": [],
   "source": [
    "def predict(observable_mask):\n",
    "    out = tf.reshape(outputs, [n, dim[0], dim[1]])\n",
    "    \n",
    "    def step(prev, x):\n",
    "        mask = x[0]\n",
    "        prev_pred = tf.where(mask, x[1], prev)[tf.newaxis]\n",
    "        params = x[2]\n",
    "        \n",
    "        d = params[:,:-1]\n",
    "        new_pred = tf.matmul(prev_pred, d)[0] + params[:,-1]\n",
    "        return new_pred\n",
    "    \n",
    "    ar = tf.scan(step, [observable_mask, xs[0], out], initializer=tf.zeros([dim[0]], dtype=floatX))\n",
    "    return ar"
   ]
  },
  {
   "cell_type": "code",
   "execution_count": 22,
   "metadata": {},
   "outputs": [],
   "source": [
    "stop_time = tf.placeholder(tf.int32)\n",
    "predict_mask = tf.range(0, data.shape[1], dtype=tf.int32) < stop_time\n",
    "#используем в предсказаниях ровно stop_time последних наблюдений"
   ]
  },
  {
   "cell_type": "code",
   "execution_count": 23,
   "metadata": {},
   "outputs": [],
   "source": [
    "preds = predict(predict_mask)"
   ]
  },
  {
   "cell_type": "code",
   "execution_count": 24,
   "metadata": {},
   "outputs": [
    {
     "data": {
      "text/plain": [
       "<tf.Tensor 'scan/TensorArrayStack/TensorArrayGatherV3:0' shape=(?, 3) dtype=float64>"
      ]
     },
     "execution_count": 24,
     "metadata": {},
     "output_type": "execute_result"
    }
   ],
   "source": [
    "preds"
   ]
  },
  {
   "cell_type": "code",
   "execution_count": 25,
   "metadata": {},
   "outputs": [],
   "source": [
    "# sess = tf.InteractiveSession()\n",
    "# tf.global_variables_initializer().run()"
   ]
  },
  {
   "cell_type": "code",
   "execution_count": 26,
   "metadata": {},
   "outputs": [],
   "source": [
    "obs_d = Normal(dim=None, sigma=obs_ds, mu=0)"
   ]
  },
  {
   "cell_type": "code",
   "execution_count": 27,
   "metadata": {},
   "outputs": [],
   "source": [
    "diffs = preds[:-1] - xs[0,1:]"
   ]
  },
  {
   "cell_type": "code",
   "execution_count": 28,
   "metadata": {},
   "outputs": [],
   "source": [
    "logl = obs_d.logdens(diffs, reduce=False)\n",
    "logl *= tf.cast(predict_mask[:-1], floatX)[:,tf.newaxis]\n",
    "\n",
    "logl = tf.reduce_sum(logl)"
   ]
  },
  {
   "cell_type": "code",
   "execution_count": 29,
   "metadata": {},
   "outputs": [
    {
     "data": {
      "text/plain": [
       "<tf.Tensor 'logl:0' shape=() dtype=string>"
      ]
     },
     "execution_count": 29,
     "metadata": {},
     "output_type": "execute_result"
    }
   ],
   "source": [
    "tf.summary.scalar('logl', logl)"
   ]
  },
  {
   "cell_type": "code",
   "execution_count": 30,
   "metadata": {},
   "outputs": [],
   "source": [
    "# df = dim[0]*dim[1]\n",
    "# pmat = np.diag([(1/s1**2)]*(dim[0]*dim[1]))/df\n",
    "# cov_prior = WishartCholesky(df, pmat, cholesky_input_output_matrices=True)"
   ]
  },
  {
   "cell_type": "code",
   "execution_count": 31,
   "metadata": {},
   "outputs": [
    {
     "data": {
      "text/plain": [
       "(1, 20, 3)"
      ]
     },
     "execution_count": 31,
     "metadata": {},
     "output_type": "execute_result"
    }
   ],
   "source": [
    "xs.shape"
   ]
  },
  {
   "cell_type": "code",
   "execution_count": 32,
   "metadata": {},
   "outputs": [],
   "source": [
    "# shock_d.log_prob(shocks)"
   ]
  },
  {
   "cell_type": "code",
   "execution_count": 33,
   "metadata": {
    "scrolled": false
   },
   "outputs": [
    {
     "name": "stdout",
     "output_type": "stream",
     "text": [
      "Tensor(\"Shock_Distr_2/strided_slice:0\", shape=(), dtype=int32) Tensor(\"Shock_Distr_2/strided_slice_1:0\", shape=(), dtype=int32)\n",
      "Tensor(\"Shock_Distr_2/zeros:0\", shape=(?, 48), dtype=float64)\n"
     ]
    },
    {
     "data": {
      "text/plain": [
       "<tf.Tensor 'shock_ent:0' shape=() dtype=string>"
      ]
     },
     "execution_count": 33,
     "metadata": {},
     "output_type": "execute_result"
    }
   ],
   "source": [
    "td = shock_d.logdens(shocks)\n",
    "shock_prob = tf.reduce_sum(td)\n",
    "tf.summary.scalar('shock_ent', -shock_prob)"
   ]
  },
  {
   "cell_type": "code",
   "execution_count": 34,
   "metadata": {},
   "outputs": [
    {
     "data": {
      "text/plain": [
       "<tf.Tensor 'Shock_Distr_2/logdens:0' shape=(1, 20) dtype=float64>"
      ]
     },
     "execution_count": 34,
     "metadata": {},
     "output_type": "execute_result"
    }
   ],
   "source": [
    "td"
   ]
  },
  {
   "cell_type": "code",
   "execution_count": 35,
   "metadata": {},
   "outputs": [
    {
     "data": {
      "text/plain": [
       "<tf.Tensor 'Shock_Distr_1/sample:0' shape=(1, 20, 2) dtype=float64>"
      ]
     },
     "execution_count": 35,
     "metadata": {},
     "output_type": "execute_result"
    }
   ],
   "source": [
    "shocks"
   ]
  },
  {
   "cell_type": "code",
   "execution_count": null,
   "metadata": {},
   "outputs": [],
   "source": []
  },
  {
   "cell_type": "code",
   "execution_count": 36,
   "metadata": {},
   "outputs": [],
   "source": [
    "prior += incr_prior + s1_prior + obs_d_prior.logdens(obs_ds)"
   ]
  },
  {
   "cell_type": "code",
   "execution_count": 37,
   "metadata": {},
   "outputs": [],
   "source": [
    "KLd = -logl - prior + outputs_logdens + shock_prob + obs_ds_logdens# - cov_prior.log_prob(PWalk.fsigma) + ldiag.logdens# + lowerd.logdens\n",
    "KLd /= n*dim[0]*dim[1]"
   ]
  },
  {
   "cell_type": "code",
   "execution_count": 38,
   "metadata": {},
   "outputs": [
    {
     "data": {
      "text/plain": [
       "<tf.Tensor 'truediv:0' shape=() dtype=float64>"
      ]
     },
     "execution_count": 38,
     "metadata": {},
     "output_type": "execute_result"
    }
   ],
   "source": [
    "KLd"
   ]
  },
  {
   "cell_type": "code",
   "execution_count": 40,
   "metadata": {
    "scrolled": false
   },
   "outputs": [
    {
     "name": "stdout",
     "output_type": "stream",
     "text": [
      "Tensor(\"CV/LSTMBL_1/scan/while/TensorArrayReadV3:0\", shape=(1, 2), dtype=float64)\n",
      "Tensor(\"CV/LSTMBL_1/scan/while/TensorArrayReadV3_1:0\", shape=(1,), dtype=float64)\n",
      "Tensor(\"CV/LSTMBL_1/scan/while/strided_slice:0\", shape=(), dtype=float64)\n",
      "<tf.Variable 'CV/LSTMBL/init_baseline:0' shape=(1,) dtype=float64_ref>\n",
      "Tensor(\"CV/LSTMBL_1/truediv:0\", shape=(1,), dtype=float64)\n"
     ]
    }
   ],
   "source": [
    "with tf.variable_scope('CV'):\n",
    "    baseline = flows.baselines.LSTMBL(reuse=None, num_layers=1)\n",
    "\n",
    "    reinforce_target = baseline(shocks, td, KLd)\n",
    "    baseline_grads = baseline.get_grads()"
   ]
  },
  {
   "cell_type": "code",
   "execution_count": 41,
   "metadata": {},
   "outputs": [
    {
     "data": {
      "text/plain": [
       "[(<tf.Tensor 'CV/gradients/CV/LSTMBL_1/sub_1_grad/Reshape:0' shape=(1,) dtype=float64>,\n",
       "  <tf.Variable 'CV/LSTMBL/init_baseline:0' shape=(1,) dtype=float64_ref>),\n",
       " (<tf.Tensor 'CV/gradients/CV/LSTMBL_1/scan/while/LSTMBL/multi_rnn_cell/cell_0/cell_0/MatMul/Enter_grad/b_acc_3:0' shape=(34, 128) dtype=float64>,\n",
       "  <tf.Variable 'CV/LSTMBL/multi_rnn_cell/cell_0/cell_0/kernel:0' shape=(34, 128) dtype=float64_ref>),\n",
       " (<tf.Tensor 'CV/gradients/CV/LSTMBL_1/scan/while/LSTMBL/multi_rnn_cell/cell_0/cell_0/BiasAdd/Enter_grad/b_acc_3:0' shape=(128,) dtype=float64>,\n",
       "  <tf.Variable 'CV/LSTMBL/multi_rnn_cell/cell_0/cell_0/bias:0' shape=(128,) dtype=float64_ref>),\n",
       " (<tf.Tensor 'CV/gradients/CV/LSTMBL_1/scan/while/d1/MatMul/Enter_grad/b_acc_3:0' shape=(32, 1) dtype=float64>,\n",
       "  <tf.Variable 'CV/LSTMBL/d1/W:0' shape=(32, 1) dtype=float64_ref>),\n",
       " (<tf.Tensor 'CV/gradients/CV/LSTMBL_1/scan/while/d1/add/Enter_grad/b_acc_3:0' shape=(1, 1) dtype=float64>,\n",
       "  <tf.Variable 'CV/LSTMBL/d1/b:0' shape=(1, 1) dtype=float64_ref>)]"
      ]
     },
     "execution_count": 41,
     "metadata": {},
     "output_type": "execute_result"
    }
   ],
   "source": [
    "baseline_grads"
   ]
  },
  {
   "cell_type": "code",
   "execution_count": 42,
   "metadata": {},
   "outputs": [
    {
     "data": {
      "text/plain": [
       "[<tf.Variable 'Shock_Distr/init_distr:0' shape=(1, 2) dtype=float64_ref>,\n",
       " <tf.Variable 'Shock_Distr/multi_rnn_cell/cell_0/cell_0/kernel:0' shape=(50, 192) dtype=float64_ref>,\n",
       " <tf.Variable 'Shock_Distr/multi_rnn_cell/cell_0/cell_0/bias:0' shape=(192,) dtype=float64_ref>,\n",
       " <tf.Variable 'Shock_Distr/d1/W:0' shape=(48, 2) dtype=float64_ref>,\n",
       " <tf.Variable 'Shock_Distr/d1/b:0' shape=(1, 2) dtype=float64_ref>]"
      ]
     },
     "execution_count": 42,
     "metadata": {},
     "output_type": "execute_result"
    }
   ],
   "source": [
    "shock_vars = [x for x in tf.global_variables() if 'Shock_Distr' in x.name]\n",
    "shock_vars"
   ]
  },
  {
   "cell_type": "code",
   "execution_count": 43,
   "metadata": {},
   "outputs": [],
   "source": [
    "# shock_reinforce = tf.gradients(shock_prob, shock_vars)\n",
    "\n",
    "# with tf.variable_scope('CV', dtype=floatX, initializer=tf.random_normal_initializer(stddev=0.1)):\n",
    "#     cv = tf.get_variable('cv', shape=(1,), trainable=False)\n",
    "#     cv_op = cv.assign(0.96*cv + 0.04*KLd)\n",
    "    \n",
    "# shock_reinforce = [x*(KLd-cv) for x in shock_reinforce]\n",
    "shock_reinforce = tf.gradients(reinforce_target, shock_vars)"
   ]
  },
  {
   "cell_type": "code",
   "execution_count": 44,
   "metadata": {},
   "outputs": [
    {
     "data": {
      "text/plain": [
       "<tf.Tensor 'cv_loss:0' shape=() dtype=string>"
      ]
     },
     "execution_count": 44,
     "metadata": {},
     "output_type": "execute_result"
    }
   ],
   "source": [
    "# cv_loss = [tf.reduce_mean(x*x) for x in shock_reinforce]\n",
    "# cv_loss = tf.reduce_mean(cv_loss)\n",
    "# tf.summary.scalar('cv_loss', cv_loss)\n",
    "tf.summary.scalar('cv_loss', baseline.loss[0])\n",
    "\n",
    "# cv_gradients = tf.gradients(cv_loss, controls)"
   ]
  },
  {
   "cell_type": "code",
   "execution_count": 45,
   "metadata": {},
   "outputs": [
    {
     "data": {
      "text/plain": [
       "<tf.Tensor 'CV/LSTMBL_1/add:0' shape=(1,) dtype=float64>"
      ]
     },
     "execution_count": 45,
     "metadata": {},
     "output_type": "execute_result"
    }
   ],
   "source": [
    "baseline.loss"
   ]
  },
  {
   "cell_type": "code",
   "execution_count": 46,
   "metadata": {},
   "outputs": [],
   "source": [
    "rest_vars = [x for x in tf.global_variables() if not ('CV' in x.name or 'Shock_distr' in x.name)]\n",
    "rest_gradients = tf.gradients(KLd, rest_vars)"
   ]
  },
  {
   "cell_type": "code",
   "execution_count": 47,
   "metadata": {},
   "outputs": [],
   "source": [
    "all_vars = shock_vars + rest_vars# + controls \n",
    "grads = shock_reinforce + rest_gradients# + cv_gradients \n",
    "updates = [(g,x) for x,g in zip(all_vars, grads)] + baseline_grads"
   ]
  },
  {
   "cell_type": "code",
   "execution_count": 48,
   "metadata": {},
   "outputs": [
    {
     "data": {
      "text/plain": [
       "<tf.Tensor 'truediv:0' shape=() dtype=float64>"
      ]
     },
     "execution_count": 48,
     "metadata": {},
     "output_type": "execute_result"
    }
   ],
   "source": [
    "KLd"
   ]
  },
  {
   "cell_type": "code",
   "execution_count": 49,
   "metadata": {},
   "outputs": [
    {
     "data": {
      "text/plain": [
       "<tf.Tensor 'KLd:0' shape=() dtype=string>"
      ]
     },
     "execution_count": 49,
     "metadata": {},
     "output_type": "execute_result"
    }
   ],
   "source": [
    "tf.summary.scalar('KLd', KLd)"
   ]
  },
  {
   "cell_type": "code",
   "execution_count": 50,
   "metadata": {},
   "outputs": [],
   "source": [
    "lr = tf.Variable(0.0003)\n",
    "opt = tf.train.AdamOptimizer(lr)"
   ]
  },
  {
   "cell_type": "code",
   "execution_count": 51,
   "metadata": {},
   "outputs": [],
   "source": [
    "opt = opt.apply_gradients(updates)#, cv_op]"
   ]
  },
  {
   "cell_type": "code",
   "execution_count": 52,
   "metadata": {},
   "outputs": [],
   "source": [
    "sess = tf.InteractiveSession()"
   ]
  },
  {
   "cell_type": "code",
   "execution_count": 53,
   "metadata": {},
   "outputs": [
    {
     "name": "stdout",
     "output_type": "stream",
     "text": [
      "mkdir: cannot create directory ‘/tmp/tfdbg’: File exists\r\n"
     ]
    }
   ],
   "source": [
    "# !rm -R /tmp/tfdbg\n",
    "!mkdir /tmp/tfdbg\n",
    "writer = tf.summary.FileWriter('/tmp/tfdbg/mcmc_analog_dlstm_better_baseline')"
   ]
  },
  {
   "cell_type": "code",
   "execution_count": 54,
   "metadata": {},
   "outputs": [],
   "source": [
    "writer.add_graph(tf.get_default_graph())"
   ]
  },
  {
   "cell_type": "code",
   "execution_count": null,
   "metadata": {},
   "outputs": [],
   "source": []
  },
  {
   "cell_type": "code",
   "execution_count": 55,
   "metadata": {},
   "outputs": [],
   "source": [
    "tf.global_variables_initializer().run()"
   ]
  },
  {
   "cell_type": "code",
   "execution_count": 56,
   "metadata": {},
   "outputs": [
    {
     "data": {
      "text/plain": [
       "2.8692414015898478"
      ]
     },
     "execution_count": 56,
     "metadata": {},
     "output_type": "execute_result"
    }
   ],
   "source": [
    "KLd.eval({stop_time:data.shape[1]})"
   ]
  },
  {
   "cell_type": "code",
   "execution_count": 57,
   "metadata": {},
   "outputs": [],
   "source": [
    "np.set_printoptions(precision=3)"
   ]
  },
  {
   "cell_type": "code",
   "execution_count": 58,
   "metadata": {},
   "outputs": [],
   "source": [
    "# PWalk.inverse_sigma.eval()[:3,:3]"
   ]
  },
  {
   "cell_type": "code",
   "execution_count": 59,
   "metadata": {},
   "outputs": [],
   "source": [
    "out = tf.reshape(outputs, [n, dim[0], dim[1]])"
   ]
  },
  {
   "cell_type": "code",
   "execution_count": 60,
   "metadata": {},
   "outputs": [],
   "source": [
    "epoch = 0"
   ]
  },
  {
   "cell_type": "code",
   "execution_count": 61,
   "metadata": {},
   "outputs": [],
   "source": [
    "all_sum = tf.summary.merge_all()"
   ]
  },
  {
   "cell_type": "code",
   "execution_count": 62,
   "metadata": {},
   "outputs": [],
   "source": [
    "# for epoch in range(epoch, 20):\n",
    "#     for i in range(800):\n",
    "#         l, _ = sess.run([loss, opt], {phase:False})\n",
    "#     print(l)"
   ]
  },
  {
   "cell_type": "code",
   "execution_count": 63,
   "metadata": {},
   "outputs": [],
   "source": [
    "def check_ppc(timestep):\n",
    "    n = 1000\n",
    "    all_preds = []\n",
    "    for _ in range(n):\n",
    "        tp = preds.eval({stop_time:timestep-1})\n",
    "        tp = tp[timestep-1]\n",
    "        all_preds.append(tp)\n",
    "    all_preds = np.array(all_preds).mean(axis=0)\n",
    "#     print(xs.shape)\n",
    "    return np.sqrt(np.mean((all_preds - xs[0,timestep])**2))"
   ]
  },
  {
   "cell_type": "code",
   "execution_count": null,
   "metadata": {
    "scrolled": true
   },
   "outputs": [
    {
     "name": "stdout",
     "output_type": "stream",
     "text": [
      "0.34045294391167186\n",
      "0.2977805567364418\n",
      "0.29838225307516886\n",
      "0.24805682459624923\n",
      "0.3579830130017344\n",
      "0.30235052533272255\n",
      "0.313671759339665\n",
      "0.38918417562754715\n",
      "0.384383565993167\n",
      "0.31032057376935135\n",
      "0.3056301166226598\n",
      "0.291099465502622\n",
      "0.31011703628250514\n",
      "0.3155402855826006\n",
      "0.3384998223610139\n",
      "0.3164622107978508\n",
      "0.3629502546603269\n",
      "0.2981360257835387\n",
      "0.31141210306013645\n",
      "0.3509214540819008\n",
      "0.30573466287184825\n",
      "0.36153708126681044\n",
      "0.3220997118737155\n",
      "0.35017575098925824\n",
      "0.3177193424092953\n",
      "0.3371434298464457\n",
      "0.33334307511362427\n",
      "0.3246699569365531\n",
      "0.30246676016800406\n",
      "0.37408742311771154\n",
      "0.3382204719921536\n",
      "0.32594756326339447\n",
      "0.3420781587737069\n",
      "0.3132476141051852\n"
     ]
    }
   ],
   "source": [
    "%%time\n",
    "for epoch in range(epoch, epoch+1000):\n",
    "    for i in range(1000):\n",
    "        l, _ = sess.run([KLd, opt], {phase:True, stop_time:[2000]})\n",
    "        if i % 10 == 0 and epoch > 2:\n",
    "            s = all_sum.eval({phase:True, stop_time:[2000]})\n",
    "            writer.add_summary(s, global_step=epoch*1000 + i)\n",
    "    print(l)\n",
    "#     if epoch % 10 == 0:\n",
    "#         penalty_op.eval()\n",
    "#     print(PWalk.inverse_sigma.eval()[:3,:3])\n",
    "#     print('\\n')"
   ]
  },
  {
   "cell_type": "code",
   "execution_count": 71,
   "metadata": {},
   "outputs": [
    {
     "data": {
      "text/plain": [
       "-4"
      ]
     },
     "execution_count": 71,
     "metadata": {},
     "output_type": "execute_result"
    }
   ],
   "source": [
    "penalty_op.eval()"
   ]
  },
  {
   "cell_type": "code",
   "execution_count": 85,
   "metadata": {},
   "outputs": [
    {
     "data": {
      "text/plain": [
       "-3"
      ]
     },
     "execution_count": 85,
     "metadata": {},
     "output_type": "execute_result"
    }
   ],
   "source": [
    "penalty.assign(-3).eval()"
   ]
  },
  {
   "cell_type": "code",
   "execution_count": 58,
   "metadata": {},
   "outputs": [
    {
     "ename": "IndexError",
     "evalue": "index 20 is out of bounds for axis 1 with size 20",
     "output_type": "error",
     "traceback": [
      "\u001b[0;31m---------------------------------------------------------------------------\u001b[0m",
      "\u001b[0;31mIndexError\u001b[0m                                Traceback (most recent call last)",
      "\u001b[0;32m<ipython-input-58-37ba4bfad02d>\u001b[0m in \u001b[0;36m<module>\u001b[0;34m()\u001b[0m\n\u001b[1;32m      1\u001b[0m \u001b[0mppcs\u001b[0m \u001b[0;34m=\u001b[0m \u001b[0;34m[\u001b[0m\u001b[0;34m]\u001b[0m\u001b[0;34m\u001b[0m\u001b[0m\n\u001b[1;32m      2\u001b[0m \u001b[0;32mfor\u001b[0m \u001b[0mi\u001b[0m \u001b[0;32min\u001b[0m \u001b[0mrange\u001b[0m\u001b[0;34m(\u001b[0m\u001b[0;36m1\u001b[0m\u001b[0;34m,\u001b[0m \u001b[0;36m33\u001b[0m\u001b[0;34m)\u001b[0m\u001b[0;34m:\u001b[0m\u001b[0;34m\u001b[0m\u001b[0m\n\u001b[0;32m----> 3\u001b[0;31m     \u001b[0mppcs\u001b[0m\u001b[0;34m.\u001b[0m\u001b[0mappend\u001b[0m\u001b[0;34m(\u001b[0m\u001b[0mcheck_ppc\u001b[0m\u001b[0;34m(\u001b[0m\u001b[0mi\u001b[0m\u001b[0;34m)\u001b[0m\u001b[0;34m)\u001b[0m\u001b[0;34m\u001b[0m\u001b[0m\n\u001b[0m",
      "\u001b[0;32m<ipython-input-56-be155dd73434>\u001b[0m in \u001b[0;36mcheck_ppc\u001b[0;34m(timestep)\u001b[0m\n\u001b[1;32m      8\u001b[0m     \u001b[0mall_preds\u001b[0m \u001b[0;34m=\u001b[0m \u001b[0mnp\u001b[0m\u001b[0;34m.\u001b[0m\u001b[0marray\u001b[0m\u001b[0;34m(\u001b[0m\u001b[0mall_preds\u001b[0m\u001b[0;34m)\u001b[0m\u001b[0;34m.\u001b[0m\u001b[0mmean\u001b[0m\u001b[0;34m(\u001b[0m\u001b[0maxis\u001b[0m\u001b[0;34m=\u001b[0m\u001b[0;36m0\u001b[0m\u001b[0;34m)\u001b[0m\u001b[0;34m\u001b[0m\u001b[0m\n\u001b[1;32m      9\u001b[0m \u001b[0;31m#     print(xs.shape)\u001b[0m\u001b[0;34m\u001b[0m\u001b[0;34m\u001b[0m\u001b[0m\n\u001b[0;32m---> 10\u001b[0;31m     \u001b[0;32mreturn\u001b[0m \u001b[0mnp\u001b[0m\u001b[0;34m.\u001b[0m\u001b[0msqrt\u001b[0m\u001b[0;34m(\u001b[0m\u001b[0mnp\u001b[0m\u001b[0;34m.\u001b[0m\u001b[0mmean\u001b[0m\u001b[0;34m(\u001b[0m\u001b[0;34m(\u001b[0m\u001b[0mall_preds\u001b[0m \u001b[0;34m-\u001b[0m \u001b[0mxs\u001b[0m\u001b[0;34m[\u001b[0m\u001b[0;36m0\u001b[0m\u001b[0;34m,\u001b[0m\u001b[0mtimestep\u001b[0m\u001b[0;34m]\u001b[0m\u001b[0;34m)\u001b[0m\u001b[0;34m**\u001b[0m\u001b[0;36m2\u001b[0m\u001b[0;34m)\u001b[0m\u001b[0;34m)\u001b[0m\u001b[0;34m\u001b[0m\u001b[0m\n\u001b[0m",
      "\u001b[0;31mIndexError\u001b[0m: index 20 is out of bounds for axis 1 with size 20"
     ]
    }
   ],
   "source": [
    "ppcs = []\n",
    "for i in range(1, 33):\n",
    "    ppcs.append(check_ppc(i))"
   ]
  },
  {
   "cell_type": "code",
   "execution_count": 58,
   "metadata": {},
   "outputs": [
    {
     "ename": "NameError",
     "evalue": "name 'ppcs' is not defined",
     "output_type": "error",
     "traceback": [
      "\u001b[0;31m---------------------------------------------------------------------------\u001b[0m",
      "\u001b[0;31mNameError\u001b[0m                                 Traceback (most recent call last)",
      "\u001b[0;32m<ipython-input-58-c55cc9d60bdb>\u001b[0m in \u001b[0;36m<module>\u001b[0;34m()\u001b[0m\n\u001b[0;32m----> 1\u001b[0;31m \u001b[0mplt\u001b[0m\u001b[0;34m.\u001b[0m\u001b[0mplot\u001b[0m\u001b[0;34m(\u001b[0m\u001b[0mppcs\u001b[0m\u001b[0;34m)\u001b[0m\u001b[0;34m\u001b[0m\u001b[0m\n\u001b[0m\u001b[1;32m      2\u001b[0m \u001b[0mplt\u001b[0m\u001b[0;34m.\u001b[0m\u001b[0mshow\u001b[0m\u001b[0;34m(\u001b[0m\u001b[0;34m)\u001b[0m\u001b[0;34m\u001b[0m\u001b[0m\n",
      "\u001b[0;31mNameError\u001b[0m: name 'ppcs' is not defined"
     ]
    }
   ],
   "source": [
    "plt.plot(ppcs)\n",
    "plt.show()"
   ]
  },
  {
   "cell_type": "code",
   "execution_count": 59,
   "metadata": {},
   "outputs": [
    {
     "data": {
      "image/png": "[encoded data removed]",
      "text/plain": [
       "<matplotlib.figure.Figure at 0x7f15d824c2b0>"
      ]
     },
     "metadata": {},
     "output_type": "display_data"
    }
   ],
   "source": [
    "plt.plot(ppcs)\n",
    "plt.show()"
   ]
  },
  {
   "cell_type": "code",
   "execution_count": 61,
   "metadata": {},
   "outputs": [
    {
     "data": {
      "text/plain": [
       "39"
      ]
     },
     "execution_count": 61,
     "metadata": {},
     "output_type": "execute_result"
    }
   ],
   "source": [
    "epoch"
   ]
  },
  {
   "cell_type": "code",
   "execution_count": 83,
   "metadata": {},
   "outputs": [
    {
     "data": {
      "text/plain": [
       "1e-04"
      ]
     },
     "execution_count": 83,
     "metadata": {},
     "output_type": "execute_result"
    }
   ],
   "source": [
    "lr.assign(0.0001).eval()"
   ]
  },
  {
   "cell_type": "code",
   "execution_count": 85,
   "metadata": {},
   "outputs": [
    {
     "name": "stdout",
     "output_type": "stream",
     "text": [
      "[[0.407 0.334 0.266 0.251 0.251 0.257 0.261 0.265 0.27  0.269 0.275 0.283\n",
      "  0.284 0.293 0.3   0.297 0.296 0.309 0.31  0.313]]\n"
     ]
    }
   ],
   "source": [
    "ss = []\n",
    "for _ in range(10000):\n",
    "    s = shocks.eval()[:,:,0].astype('float')\n",
    "    ss.append(s)\n",
    "ss = np.array(ss)\n",
    "print(ss.mean(axis=0))"
   ]
  },
  {
   "cell_type": "code",
   "execution_count": 86,
   "metadata": {},
   "outputs": [
    {
     "data": {
      "image/png": "[encoded data removed]",
      "text/plain": [
       "<matplotlib.figure.Figure at 0x7ff4f8e706a0>"
      ]
     },
     "metadata": {},
     "output_type": "display_data"
    }
   ],
   "source": [
    "x = range(2016-data.shape[1],2016)\n",
    "plt.plot(x, ss.mean(axis=0)[0])\n",
    "plt.show()"
   ]
  },
  {
   "cell_type": "code",
   "execution_count": 71,
   "metadata": {},
   "outputs": [
    {
     "ename": "AttributeError",
     "evalue": "'NormalRW' object has no attribute 'inverse_sigma'",
     "output_type": "error",
     "traceback": [
      "\u001b[0;31m---------------------------------------------------------------------------\u001b[0m",
      "\u001b[0;31mAttributeError\u001b[0m                            Traceback (most recent call last)",
      "\u001b[0;32m<ipython-input-71-7fd599b6d73f>\u001b[0m in \u001b[0;36m<module>\u001b[0;34m()\u001b[0m\n\u001b[1;32m      2\u001b[0m \u001b[0maa\u001b[0m \u001b[0;34m=\u001b[0m \u001b[0;34m[\u001b[0m\u001b[0;34m]\u001b[0m\u001b[0;34m\u001b[0m\u001b[0m\n\u001b[1;32m      3\u001b[0m \u001b[0;32mfor\u001b[0m \u001b[0m_\u001b[0m \u001b[0;32min\u001b[0m \u001b[0mrange\u001b[0m\u001b[0;34m(\u001b[0m\u001b[0;36m3000\u001b[0m\u001b[0;34m)\u001b[0m\u001b[0;34m:\u001b[0m\u001b[0;34m\u001b[0m\u001b[0m\n\u001b[0;32m----> 4\u001b[0;31m     \u001b[0ma\u001b[0m \u001b[0;34m=\u001b[0m \u001b[0mnp\u001b[0m\u001b[0;34m.\u001b[0m\u001b[0mlinalg\u001b[0m\u001b[0;34m.\u001b[0m\u001b[0minv\u001b[0m\u001b[0;34m(\u001b[0m\u001b[0mPWalk\u001b[0m\u001b[0;34m.\u001b[0m\u001b[0minverse_sigma\u001b[0m\u001b[0;34m.\u001b[0m\u001b[0meval\u001b[0m\u001b[0;34m(\u001b[0m\u001b[0;34m)\u001b[0m\u001b[0;34m)\u001b[0m\u001b[0;34m\u001b[0m\u001b[0m\n\u001b[0m\u001b[1;32m      5\u001b[0m     \u001b[0mss\u001b[0m\u001b[0;34m.\u001b[0m\u001b[0mappend\u001b[0m\u001b[0;34m(\u001b[0m\u001b[0mnp\u001b[0m\u001b[0;34m.\u001b[0m\u001b[0msqrt\u001b[0m\u001b[0;34m(\u001b[0m\u001b[0mnp\u001b[0m\u001b[0;34m.\u001b[0m\u001b[0mdiag\u001b[0m\u001b[0;34m(\u001b[0m\u001b[0ma\u001b[0m\u001b[0;34m)\u001b[0m\u001b[0;34m)\u001b[0m\u001b[0;34m)\u001b[0m\u001b[0;34m\u001b[0m\u001b[0m\n\u001b[1;32m      6\u001b[0m     \u001b[0maa\u001b[0m\u001b[0;34m.\u001b[0m\u001b[0mappend\u001b[0m\u001b[0;34m(\u001b[0m\u001b[0ma\u001b[0m\u001b[0;34m)\u001b[0m\u001b[0;34m\u001b[0m\u001b[0m\n",
      "\u001b[0;31mAttributeError\u001b[0m: 'NormalRW' object has no attribute 'inverse_sigma'"
     ]
    }
   ],
   "source": [
    "ss = []\n",
    "aa = []\n",
    "for _ in range(3000):\n",
    "    a = np.linalg.inv(PWalk.inverse_sigma.eval())\n",
    "    ss.append(np.sqrt(np.diag(a)))\n",
    "    aa.append(a)\n",
    "ss = np.array(ss)\n",
    "aa = np.array(aa)"
   ]
  },
  {
   "cell_type": "code",
   "execution_count": 48,
   "metadata": {},
   "outputs": [
    {
     "data": {
      "text/plain": [
       "array([[ 1.2923e-04, -7.1903e-09,  3.5436e-08,  6.2896e-08,  3.5567e-08],\n",
       "       [-7.1903e-09,  1.3707e-04,  9.9602e-08, -8.9267e-08,  2.4762e-08],\n",
       "       [ 3.5436e-08,  9.9602e-08,  1.2321e-04,  5.1597e-08,  7.2189e-08],\n",
       "       [ 6.2896e-08, -8.9267e-08,  5.1597e-08,  1.2432e-04, -7.2140e-08],\n",
       "       [ 3.5567e-08,  2.4762e-08,  7.2189e-08, -7.2140e-08,  1.3892e-04]])"
      ]
     },
     "execution_count": 48,
     "metadata": {},
     "output_type": "execute_result"
    }
   ],
   "source": [
    "aa.mean(axis=0)[:5,:5]"
   ]
  },
  {
   "cell_type": "code",
   "execution_count": 49,
   "metadata": {},
   "outputs": [
    {
     "data": {
      "text/plain": [
       "(array([0.0112, 0.0115, 0.0109, 0.011 , 0.0116, 0.0112, 0.0116, 0.0117,\n",
       "        0.0098, 0.0093, 0.01  , 0.011 ]),\n",
       " array([0.0018, 0.002 , 0.0019, 0.0019, 0.002 , 0.0018, 0.0019, 0.0019,\n",
       "        0.0017, 0.0015, 0.0016, 0.0017]))"
      ]
     },
     "execution_count": 49,
     "metadata": {},
     "output_type": "execute_result"
    }
   ],
   "source": [
    "np.mean(ss, axis=0), np.std(ss, axis=0)"
   ]
  },
  {
   "cell_type": "code",
   "execution_count": 72,
   "metadata": {},
   "outputs": [],
   "source": [
    "# sns.kdeplot(ss[:,1], ss[:,0])\n",
    "# plt.show()"
   ]
  },
  {
   "cell_type": "code",
   "execution_count": 51,
   "metadata": {},
   "outputs": [],
   "source": [
    "samples = []\n",
    "for _ in range(3000):\n",
    "    s = out.eval({phase:True})\n",
    "    samples.append(s)\n",
    "samples = np.array(samples)"
   ]
  },
  {
   "cell_type": "code",
   "execution_count": 52,
   "metadata": {},
   "outputs": [
    {
     "data": {
      "image/png": "[encoded data removed]",
      "text/plain": [
       "<matplotlib.figure.Figure at 0x7f3d3e1e12e8>"
      ]
     },
     "metadata": {},
     "output_type": "display_data"
    }
   ],
   "source": [
    "t = 10\n",
    "sns.kdeplot(samples[:,t,2,0], samples[:,t,0,3])\n",
    "plt.show()"
   ]
  },
  {
   "cell_type": "code",
   "execution_count": 53,
   "metadata": {},
   "outputs": [],
   "source": [
    "t = 10\n",
    "# params[t]"
   ]
  },
  {
   "cell_type": "code",
   "execution_count": 54,
   "metadata": {},
   "outputs": [
    {
     "data": {
      "text/plain": [
       "array([[ 0.535, -0.093,  0.349,  0.84 ],\n",
       "       [ 0.044,  0.364,  0.363,  0.444],\n",
       "       [-0.033,  0.284,  0.716,  0.582]])"
      ]
     },
     "execution_count": 54,
     "metadata": {},
     "output_type": "execute_result"
    }
   ],
   "source": [
    "np.mean(samples[:,t], axis=0)"
   ]
  },
  {
   "cell_type": "code",
   "execution_count": 57,
   "metadata": {},
   "outputs": [
    {
     "data": {
      "text/plain": [
       "array([[ 1.784e-01, -4.327e-01,  6.377e-01,  1.247e+00],\n",
       "       [ 2.535e-01, -3.870e-01,  5.534e-01,  3.942e-01],\n",
       "       [ 6.316e-04,  2.550e-01,  7.469e-01,  2.270e-01]])"
      ]
     },
     "execution_count": 57,
     "metadata": {},
     "output_type": "execute_result"
    }
   ],
   "source": [
    "np.mean(samples[:,t], axis=0)"
   ]
  },
  {
   "cell_type": "code",
   "execution_count": 187,
   "metadata": {},
   "outputs": [],
   "source": []
  },
  {
   "cell_type": "code",
   "execution_count": 278,
   "metadata": {},
   "outputs": [],
   "source": [
    "from sklearn.neighbors.kde import KernelDensity\n",
    "def score(s1, s2):\n",
    "    bw = 0.1\n",
    "    s1 = s1[:,np.newaxis]\n",
    "    s2 = s2[:,np.newaxis]\n",
    "    e1 = KernelDensity(bandwidth=bw).fit(s1)\n",
    "    e2 = KernelDensity(bandwidth=bw).fit(s2)\n",
    "    \n",
    "    e1e2 = e1.score(s1) - e2.score(s1)\n",
    "    e2e1 = e2.score(s2) - e1.score(s2)\n",
    "    dist = (e1e2/len(s1) + e2e1/len(s2))/2\n",
    "    return dist"
   ]
  },
  {
   "cell_type": "code",
   "execution_count": 271,
   "metadata": {},
   "outputs": [],
   "source": [
    "def get_cdf(ts):\n",
    "    return lambda x: (ts <= x).mean()\n",
    "def score(s1,s2):\n",
    "    c1 = get_cdf(s1)\n",
    "    c2 = get_cdf(s2)\n",
    "\n",
    "    m = 0\n",
    "    for s in np.concatenate([s1, s2]):\n",
    "        r = np.abs(c1(s) - c2(s))\n",
    "        if r > m:\n",
    "            m = r\n",
    "    return m"
   ]
  },
  {
   "cell_type": "code",
   "execution_count": 203,
   "metadata": {},
   "outputs": [
    {
     "data": {
      "text/plain": [
       "0.00014521624382734903"
      ]
     },
     "execution_count": 203,
     "metadata": {},
     "output_type": "execute_result"
    }
   ],
   "source": [
    "score(s1,s2)"
   ]
  },
  {
   "cell_type": "code",
   "execution_count": 279,
   "metadata": {},
   "outputs": [
    {
     "name": "stdout",
     "output_type": "stream",
     "text": [
      "0\n",
      "1\n",
      "2\n",
      "3\n",
      "4\n",
      "6\n",
      "7\n",
      "8\n",
      "9\n",
      "10\n",
      "11\n",
      "12\n",
      "13\n",
      "14\n",
      "15\n",
      "16\n",
      "17\n",
      "18\n"
     ]
    }
   ],
   "source": [
    "dists = []\n",
    "for t1 in range(samples.shape[1] - 1):\n",
    "    np.random.seed(1234)\n",
    "    print(t1)\n",
    "    t2 = t1 + 1\n",
    "    s1 = samples[:,t1,0,0]\n",
    "    s2 = samples[:,t2,0,0]\n",
    "    ss = []\n",
    "    for _ in range(10):\n",
    "        s1_ = np.random.choice(s1, size=8000)\n",
    "        s2_ = np.random.choice(s2, size=8000)\n",
    "        m = score(s1_,s2_)\n",
    "        ss.append(m)\n",
    "    dists.append(ss)\n",
    "dists = np.array(dists).T"
   ]
  },
  {
   "cell_type": "markdown",
   "metadata": {},
   "source": [
    "## KDE + KL"
   ]
  },
  {
   "cell_type": "code",
   "execution_count": 270,
   "metadata": {},
   "outputs": [
    {
     "name": "stderr",
     "output_type": "stream",
     "text": [
      "/home/nikita/.virtualenvs/py3.6/lib/python3.6/site-packages/seaborn/timeseries.py:183: UserWarning: The tsplot function is deprecated and will be removed or replaced (in a substantially altered version) in a future release.\n",
      "  warnings.warn(msg, UserWarning)\n"
     ]
    },
    {
     "data": {
      "image/png": "[encoded data removed]",
      "text/plain": [
       "<matplotlib.figure.Figure at 0x7f08680eff60>"
      ]
     },
     "metadata": {},
     "output_type": "display_data"
    }
   ],
   "source": [
    "sns.tsplot(dists, ci=[50, 95])\n",
    "plt.show()"
   ]
  },
  {
   "cell_type": "code",
   "execution_count": 280,
   "metadata": {},
   "outputs": [
    {
     "name": "stderr",
     "output_type": "stream",
     "text": [
      "/home/nikita/.virtualenvs/py3.6/lib/python3.6/site-packages/seaborn/timeseries.py:183: UserWarning: The tsplot function is deprecated and will be removed or replaced (in a substantially altered version) in a future release.\n",
      "  warnings.warn(msg, UserWarning)\n"
     ]
    },
    {
     "data": {
      "image/png": "[encoded data removed]",
      "text/plain": [
       "<matplotlib.figure.Figure at 0x7f0863c040f0>"
      ]
     },
     "metadata": {},
     "output_type": "display_data"
    }
   ],
   "source": [
    "sns.tsplot(dists, ci=[50, 95])\n",
    "plt.show()"
   ]
  },
  {
   "cell_type": "markdown",
   "metadata": {},
   "source": [
    "## Kolmogorov-Smirnov"
   ]
  },
  {
   "cell_type": "code",
   "execution_count": 277,
   "metadata": {},
   "outputs": [
    {
     "name": "stderr",
     "output_type": "stream",
     "text": [
      "/home/nikita/.virtualenvs/py3.6/lib/python3.6/site-packages/seaborn/timeseries.py:183: UserWarning: The tsplot function is deprecated and will be removed or replaced (in a substantially altered version) in a future release.\n",
      "  warnings.warn(msg, UserWarning)\n"
     ]
    },
    {
     "data": {
      "image/png": "[encoded data removed]",
      "text/plain": [
       "<matplotlib.figure.Figure at 0x7f0863df7908>"
      ]
     },
     "metadata": {},
     "output_type": "display_data"
    }
   ],
   "source": [
    "sns.tsplot(dists, ci=[50, 95])\n",
    "plt.show()"
   ]
  },
  {
   "cell_type": "code",
   "execution_count": null,
   "metadata": {},
   "outputs": [],
   "source": [
    "tf.pow()"
   ]
  }
 ],
 "metadata": {
  "kernelspec": {
   "display_name": "Python 3.6 (sys p)",
   "language": "python",
   "name": "py3.6"
  },
  "language_info": {
   "codemirror_mode": {
    "name": "ipython",
    "version": 3
   },
   "file_extension": ".py",
   "mimetype": "text/x-python",
   "name": "python",
   "nbconvert_exporter": "python",
   "pygments_lexer": "ipython3",
   "version": "3.6.4"
  }
 },
 "nbformat": 4,
 "nbformat_minor": 2
}
